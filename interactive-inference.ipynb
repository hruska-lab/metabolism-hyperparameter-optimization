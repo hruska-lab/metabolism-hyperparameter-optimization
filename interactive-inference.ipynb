{
 "cells": [
  {
   "cell_type": "code",
   "execution_count": 19,
   "id": "a0145573-1ae2-4783-b38a-e29048738d86",
   "metadata": {},
   "outputs": [],
   "source": [
    "from jsme_notebook import JSMENotebook\n",
    "from urllib.request import urlopen\n",
    "from urllib.parse import quote\n",
    "from rdkit import Chem"
   ]
  },
  {
   "cell_type": "code",
   "execution_count": 23,
   "id": "aebafbb5-f87d-4c13-8905-51ace359a395",
   "metadata": {
    "tags": []
   },
   "outputs": [],
   "source": [
    "def CIRconvert(ids):\n",
    "    try:\n",
    "        url = 'http://cactus.nci.nih.gov/chemical/structure/' + quote(ids) + '/smiles'\n",
    "        ans = urlopen(url).read().decode('utf8')\n",
    "        return ans\n",
    "    except:\n",
    "        return 'Did not work'"
   ]
  },
  {
   "cell_type": "code",
   "execution_count": 27,
   "id": "a35653bc-ca5d-4606-997d-42d67b4794f4",
   "metadata": {
    "tags": []
   },
   "outputs": [
    {
     "data": {
      "text/html": [
       "<script type=\"text/javascript\" language=\"javascript\" src=\"https://users.ox.ac.uk/~bioc1451/jsme/jsme.nocache.js\"></script><script>window.smiles = \"\";\n",
       " window.py_obj_id = 2791364915216;\n",
       "window.container_id = \"jsme_container_174460307201\";\n",
       "window.py_class_name = \"JSMENotebook\";\n",
       "\n",
       "                     //this function will be called after the JavaScriptApplet code has been loaded.\n",
       "                         function jsmeOnLoad() {\n",
       "                             const params = {smiles: smiles || undefined};\n",
       "                             const jsmeApplet = new JSApplet.JSME(window.container_id, \"380px\", \"340px\", params);\n",
       "                             window.jsmeApplet = jsmeApplet;\n",
       "                             jsmeApplet.setCallBack(\"AfterStructureModified\", async (jsme) => {\n",
       "                               smiles = jsmeApplet.smiles();\n",
       "                               // in Jupyter this is called output_area. Colab #output-area\n",
       "                               // let el = document.createElement('div');\n",
       "                               // el.textContent = smiles\n",
       "                               // document.querySelector(\"#output_area,#output-area\").appendChild(el);\n",
       "                               if (window.google !== undefined) {\n",
       "                                 await google.colab.kernel.invokeFunction('notebook.set_smiles', [smiles]);\n",
       "                              } else if (window.Jupyter !== undefined) {\n",
       "                              console.log(`JSMEHack.get_by_id(${py_obj_id}).smiles = '${smiles}'`);\n",
       "                             Jupyter.notebook.kernel.execute(`${py_class_name}.get_by_id(${py_obj_id}).smiles = '${smiles}'`);\n",
       "                               }\n",
       "                               else {throw \"Unknown environment\";}\n",
       "                             });\n",
       "                       }\n",
       "                     </script><div id=\"jsme_container_174460307201\"></div>"
      ],
      "text/plain": [
       "<IPython.core.display.HTML object>"
      ]
     },
     "metadata": {},
     "output_type": "display_data"
    }
   ],
   "source": [
    "jsme = JSMENotebook()"
   ]
  },
  {
   "cell_type": "code",
   "execution_count": 28,
   "id": "cb1ddea4-57cf-4594-8219-341ebb7ac8b0",
   "metadata": {
    "tags": []
   },
   "outputs": [
    {
     "data": {
      "text/plain": [
       "'NC1=Nc2nc[nH]c2C(=O)N1'"
      ]
     },
     "execution_count": 28,
     "metadata": {},
     "output_type": "execute_result"
    }
   ],
   "source": [
    "trivial_guanine = CIRconvert(\"Guanine\")\n",
    "trivial_guanine"
   ]
  },
  {
   "cell_type": "code",
   "execution_count": 29,
   "id": "358bfd8b-b60d-4de2-9fac-8bf84c74b140",
   "metadata": {
    "tags": []
   },
   "outputs": [
    {
     "data": {
      "text/plain": [
       "'NC1=Nc2[nH]cnc2C(=O)N1'"
      ]
     },
     "execution_count": 29,
     "metadata": {},
     "output_type": "execute_result"
    }
   ],
   "source": [
    "systematic_guanine = CIRconvert(\"2-Amino-1,9-dihydro-6H-purin-6-one\")\n",
    "systematic_guanine"
   ]
  },
  {
   "cell_type": "code",
   "execution_count": 30,
   "id": "f11c4567-f9a8-4cda-9366-6554c4c3fce8",
   "metadata": {
    "tags": []
   },
   "outputs": [],
   "source": [
    "# buď lze momlekulu nakreslit nebo získat SMILES pomocí anglického názvu - systematického nebo i triviálního"
   ]
  },
  {
   "cell_type": "code",
   "execution_count": null,
   "id": "fb478881-7faa-428b-b2b7-21197dcb4f2f",
   "metadata": {},
   "outputs": [],
   "source": []
  }
 ],
 "metadata": {
  "kernelspec": {
   "display_name": "Python 3 (ipykernel)",
   "language": "python",
   "name": "python3"
  },
  "language_info": {
   "codemirror_mode": {
    "name": "ipython",
    "version": 3
   },
   "file_extension": ".py",
   "mimetype": "text/x-python",
   "name": "python",
   "nbconvert_exporter": "python",
   "pygments_lexer": "ipython3",
   "version": "3.11.4"
  }
 },
 "nbformat": 4,
 "nbformat_minor": 5
}
