{
 "cells": [
  {
   "cell_type": "markdown",
   "id": "3b0eff8a-ce4f-495d-b9d6-a1478fffc655",
   "metadata": {},
   "source": [
    "# metabolism-hyperparameter-optimization\n",
    "## MetHPO inference\n",
    "V následujícím programu můžete interaktivně predikovat parametry libovolných léčiv.\n",
    "\n",
    "1. Nejprve je třeba naimportovat knihovny, proto spusťte první buňku, čili tu přímo pod tímto textem.\n",
    "2. Následně zvolíte látku.\\\n",
    "    a) První možnost, jak ji zvolit, je nakreslit její strukturu. V takovém případě spusťte druhou buňku, nakreslete žádanou molekulu a postupujte podle pokynů v komentářích v druhé a třetí buňce.\\\n",
    "    b) Druhou možností je spustit čtvrtou buňku a zadat anglický název látky.\n",
    "3. Po spuštění předposlední buňky se zobrazí menu, kde zvolíte features, dataset a typ modelu, který byl na těchto datech předtrénovaný. Pomocí tohoto modelu se budou predikvoat vlastnosti zvolené látky.\n",
    "4. Spusťte poslední buňku a program vypíše predikovanou hodnotu, jaký model tuto hodnotu predikoval a na jakých datech byl model trénovaný.\n",
    "\n",
    "Pozn.: Jednotky, ve kterých bude výsledná predikce, jsou určeny podle datasetu. Model natrénovaný na datasetu Obach predikuje eliminační poločas v hodinách.\n",
    "Model natrénovaný na heptatocyte predikuje clearance v μl.min-1.(10^6 buněk)-1. Model natrénovaný na microsome predikuje také clearance, ale v ml.min-1.g-1."
   ]
  },
  {
   "cell_type": "code",
   "execution_count": 1,
   "id": "a0145573-1ae2-4783-b38a-e29048738d86",
   "metadata": {},
   "outputs": [
    {
     "name": "stdout",
     "output_type": "stream",
     "text": [
      "importing Jupyter notebook from C:\\Users\\Lukas\\Documents\\datacytochromy\\project_resources\\cytochrome_P450.ipynb\n"
     ]
    }
   ],
   "source": [
    "import sys\n",
    "from jsme_notebook import JSMENotebook\n",
    "from project_resources.import_utils import NotebookFinder\n",
    "sys.meta_path.append(NotebookFinder())\n",
    "from project_resources.cytochrome_P450 import CIRconvert, inference_dataset_selection, inference_predict"
   ]
  },
  {
   "cell_type": "code",
   "execution_count": 2,
   "id": "a35653bc-ca5d-4606-997d-42d67b4794f4",
   "metadata": {
    "tags": []
   },
   "outputs": [
    {
     "data": {
      "text/html": [
       "<script type=\"text/javascript\" language=\"javascript\" src=\"https://users.ox.ac.uk/~bioc1451/jsme/jsme.nocache.js\"></script><script>window.smiles = \"\";\n",
       " window.py_obj_id = 2274707396880;\n",
       "window.container_id = \"jsme_container_142169212305\";\n",
       "window.py_class_name = \"JSMENotebook\";\n",
       "\n",
       "                     //this function will be called after the JavaScriptApplet code has been loaded.\n",
       "                         function jsmeOnLoad() {\n",
       "                             const params = {smiles: smiles || undefined};\n",
       "                             const jsmeApplet = new JSApplet.JSME(window.container_id, \"380px\", \"340px\", params);\n",
       "                             window.jsmeApplet = jsmeApplet;\n",
       "                             jsmeApplet.setCallBack(\"AfterStructureModified\", async (jsme) => {\n",
       "                               smiles = jsmeApplet.smiles();\n",
       "                               // in Jupyter this is called output_area. Colab #output-area\n",
       "                               // let el = document.createElement('div');\n",
       "                               // el.textContent = smiles\n",
       "                               // document.querySelector(\"#output_area,#output-area\").appendChild(el);\n",
       "                               if (window.google !== undefined) {\n",
       "                                 await google.colab.kernel.invokeFunction('notebook.set_smiles', [smiles]);\n",
       "                              } else if (window.Jupyter !== undefined) {\n",
       "                              console.log(`JSMEHack.get_by_id(${py_obj_id}).smiles = '${smiles}'`);\n",
       "                             Jupyter.notebook.kernel.execute(`${py_class_name}.get_by_id(${py_obj_id}).smiles = '${smiles}'`);\n",
       "                               }\n",
       "                               else {throw \"Unknown environment\";}\n",
       "                             });\n",
       "                       }\n",
       "                     </script><div id=\"jsme_container_142169212305\"></div>"
      ],
      "text/plain": [
       "<IPython.core.display.HTML object>"
      ]
     },
     "metadata": {},
     "output_type": "display_data"
    }
   ],
   "source": [
    "# Molekulu lze nakresil a poté pomocí posledního tlačítka v druhém řádku zkopírovat strukturu jako SMILES (první možnost shora \"Copy as SMILES\")\n",
    "jsme = JSMENotebook()"
   ]
  },
  {
   "cell_type": "code",
   "execution_count": 3,
   "id": "847f9e79-1e22-49e1-9ef2-45b651d96242",
   "metadata": {},
   "outputs": [],
   "source": [
    "# Pokud jste kreslili strukturu molekuly místo textu struktura vložte SMILES, uvozovky nemažte\n",
    "smiles = \"struktura\""
   ]
  },
  {
   "cell_type": "code",
   "execution_count": 4,
   "id": "cb1ddea4-57cf-4594-8219-341ebb7ac8b0",
   "metadata": {
    "tags": []
   },
   "outputs": [
    {
     "name": "stdin",
     "output_type": "stream",
     "text": [
      "Zadejte název sloučeniny: bromazepam\n"
     ]
    }
   ],
   "source": [
    "# Nebo také můžete zadat anglický název látky - triviální nebo i systematický (např. oleic acid nebo 2-Amino-1,9-dihydro-6H-purin-6-one)\n",
    "# Pokud jste kreslili strukturu molekuly, tuto buňku přeskočte\n",
    "mol_name = input(\"Zadejte název sloučeniny:\")\n",
    "smiles = CIRconvert(mol_name)"
   ]
  },
  {
   "cell_type": "code",
   "execution_count": 5,
   "id": "199f440c-dd5c-48f0-9897-7bfa383b5057",
   "metadata": {},
   "outputs": [
    {
     "data": {
      "application/vnd.jupyter.widget-view+json": {
       "model_id": "f2b92b7f49bb49a1a05913bb77922e66",
       "version_major": 2,
       "version_minor": 0
      },
      "text/plain": [
       "Dropdown(description='Features:', options=('morgan', 'jazzy'), value='morgan')"
      ]
     },
     "metadata": {},
     "output_type": "display_data"
    },
    {
     "data": {
      "application/vnd.jupyter.widget-view+json": {
       "model_id": "de4eb929aa724a8db5f379f7a9968bd4",
       "version_major": 2,
       "version_minor": 0
      },
      "text/plain": [
       "Dropdown(description='Dataset:', options=('obach', 'microsome', 'hepatocyte'), value='obach')"
      ]
     },
     "metadata": {},
     "output_type": "display_data"
    },
    {
     "data": {
      "application/vnd.jupyter.widget-view+json": {
       "model_id": "3d61b89883984310b26373047ce132b4",
       "version_major": 2,
       "version_minor": 0
      },
      "text/plain": [
       "Dropdown(description='Model:', options=('linear', 'KRR', 'GB', 'RF', 'ANN'), value='linear')"
      ]
     },
     "metadata": {},
     "output_type": "display_data"
    },
    {
     "data": {
      "application/vnd.jupyter.widget-view+json": {
       "model_id": "f40dfe557fbc4012a9c7bc13e8dc5320",
       "version_major": 2,
       "version_minor": 0
      },
      "text/plain": [
       "Button(description='Parse Output', style=ButtonStyle())"
      ]
     },
     "metadata": {},
     "output_type": "display_data"
    }
   ],
   "source": [
    "# Zvolte typ modelu a na jakých datech chcete, aby tento model byl natrénovaný\n",
    "selected = inference_dataset_selection()"
   ]
  },
  {
   "cell_type": "code",
   "execution_count": 6,
   "id": "76e66229-7847-4d43-9bcf-8531e9171d3c",
   "metadata": {},
   "outputs": [
    {
     "name": "stdout",
     "output_type": "stream",
     "text": [
      "Zvolený typ features: morgan\n",
      "Zvolený benchmark: obach\n",
      "Zvolený model: KRR\n",
      "\n",
      "Predikovaná hodnota eliminačního poločasu: 18.6 h\n"
     ]
    }
   ],
   "source": [
    "_type, benchmark, model_id = selected\n",
    "print(f\"\"\"Zvolený typ features: {_type}\n",
    "Zvolený benchmark: {benchmark}\n",
    "Zvolený model: {model_id}\\n\"\"\")\n",
    "inference_predict(_type, benchmark, model_id, smiles)"
   ]
  },
  {
   "cell_type": "code",
   "execution_count": null,
   "id": "9f405fcd-8196-4c62-b6e0-9a860bbc485e",
   "metadata": {},
   "outputs": [],
   "source": []
  }
 ],
 "metadata": {
  "kernelspec": {
   "display_name": "Python 3 (ipykernel)",
   "language": "python",
   "name": "python3"
  },
  "language_info": {
   "codemirror_mode": {
    "name": "ipython",
    "version": 3
   },
   "file_extension": ".py",
   "mimetype": "text/x-python",
   "name": "python",
   "nbconvert_exporter": "python",
   "pygments_lexer": "ipython3",
   "version": "3.11.4"
  }
 },
 "nbformat": 4,
 "nbformat_minor": 5
}
