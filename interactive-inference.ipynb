{
 "cells": [
  {
   "cell_type": "code",
   "execution_count": 19,
   "id": "a0145573-1ae2-4783-b38a-e29048738d86",
   "metadata": {},
   "outputs": [],
   "source": [
    "from jsme_notebook import JSMENotebook\n",
    "from urllib.request import urlopen\n",
    "from urllib.parse import quote\n",
    "from rdkit import Chem"
   ]
  },
  {
   "cell_type": "code",
   "execution_count": 23,
   "id": "aebafbb5-f87d-4c13-8905-51ace359a395",
   "metadata": {
    "tags": []
   },
   "outputs": [],
   "source": [
    "def CIRconvert(ids):\n",
    "    try:\n",
    "        url = 'http://cactus.nci.nih.gov/chemical/structure/' + quote(ids) + '/smiles'\n",
    "        ans = urlopen(url).read().decode('utf8')\n",
    "        return ans\n",
    "    except:\n",
    "        return 'Did not work'"
   ]
  },
  {
   "cell_type": "code",
   "execution_count": 1,
   "id": "a35653bc-ca5d-4606-997d-42d67b4794f4",
   "metadata": {
    "tags": []
   },
   "outputs": [
    {
     "ename": "NameError",
     "evalue": "name 'JSMENotebook' is not defined",
     "output_type": "error",
     "traceback": [
      "\u001b[1;31m---------------------------------------------------------------------------\u001b[0m",
      "\u001b[1;31mNameError\u001b[0m                                 Traceback (most recent call last)",
      "Cell \u001b[1;32mIn[1], line 1\u001b[0m\n\u001b[1;32m----> 1\u001b[0m jsme \u001b[38;5;241m=\u001b[39m JSMENotebook()\n",
      "\u001b[1;31mNameError\u001b[0m: name 'JSMENotebook' is not defined"
     ]
    }
   ],
   "source": [
    "jsme = JSMENotebook()"
   ]
  },
  {
   "cell_type": "code",
   "execution_count": 28,
   "id": "cb1ddea4-57cf-4594-8219-341ebb7ac8b0",
   "metadata": {
    "tags": []
   },
   "outputs": [
    {
     "data": {
      "text/plain": [
       "'NC1=Nc2nc[nH]c2C(=O)N1'"
      ]
     },
     "execution_count": 28,
     "metadata": {},
     "output_type": "execute_result"
    }
   ],
   "source": [
    "trivial_guanine = CIRconvert(\"Guanine\")\n",
    "trivial_guanine"
   ]
  },
  {
   "cell_type": "code",
   "execution_count": 29,
   "id": "358bfd8b-b60d-4de2-9fac-8bf84c74b140",
   "metadata": {
    "tags": []
   },
   "outputs": [
    {
     "data": {
      "text/plain": [
       "'NC1=Nc2[nH]cnc2C(=O)N1'"
      ]
     },
     "execution_count": 29,
     "metadata": {},
     "output_type": "execute_result"
    }
   ],
   "source": [
    "systematic_guanine = CIRconvert(\"2-Amino-1,9-dihydro-6H-purin-6-one\")\n",
    "systematic_guanine"
   ]
  },
  {
   "cell_type": "code",
   "execution_count": 30,
   "id": "f11c4567-f9a8-4cda-9366-6554c4c3fce8",
   "metadata": {
    "tags": []
   },
   "outputs": [],
   "source": [
    "# buď lze momlekulu nakreslit nebo získat SMILES pomocí anglického názvu - systematického nebo i triviálního"
   ]
  },
  {
   "cell_type": "code",
   "execution_count": 8,
   "id": "6cb19329-1231-4093-9338-d505d0db16d1",
   "metadata": {
    "tags": []
   },
   "outputs": [
    {
     "name": "stdout",
     "output_type": "stream",
     "text": [
      "Zvolte typ modelu a na jakých datech chcete, aby tento model byl natrénovaný\n"
     ]
    },
    {
     "data": {
      "application/vnd.jupyter.widget-view+json": {
       "model_id": "400edb812d204ed19b920c8125a5aeeb",
       "version_major": 2,
       "version_minor": 0
      },
      "text/plain": [
       "Dropdown(description='Features:', options=('morgan', 'jazzy'), value='morgan')"
      ]
     },
     "metadata": {},
     "output_type": "display_data"
    },
    {
     "data": {
      "application/vnd.jupyter.widget-view+json": {
       "model_id": "4341167a25004269aa951f4f83fadb23",
       "version_major": 2,
       "version_minor": 0
      },
      "text/plain": [
       "Dropdown(description='Benchmark:', options=('obach', 'microsome', 'hepatocyte'), value='obach')"
      ]
     },
     "metadata": {},
     "output_type": "display_data"
    },
    {
     "data": {
      "application/vnd.jupyter.widget-view+json": {
       "model_id": "8cb13a9ec3da4a29b663e83056687e60",
       "version_major": 2,
       "version_minor": 0
      },
      "text/plain": [
       "Dropdown(description='Model:', options=('linear', 'KRR', 'GB', 'RF', 'ANN'), value='linear')"
      ]
     },
     "metadata": {},
     "output_type": "display_data"
    },
    {
     "data": {
      "application/vnd.jupyter.widget-view+json": {
       "model_id": "d67e05a90f994004a0d69bd09ac341a8",
       "version_major": 2,
       "version_minor": 0
      },
      "text/plain": [
       "Button(description='Parse Output', style=ButtonStyle())"
      ]
     },
     "metadata": {},
     "output_type": "display_data"
    }
   ],
   "source": [
    "import sys\n",
    "from project_resources.import_utils import NotebookFinder\n",
    "sys.meta_path.append(NotebookFinder())\n",
    "from project_resources.cytochrome_P450 import inference_dataset_selection, inference_predict, fp_from_smiles\n",
    "selected = inference_dataset_selection()"
   ]
  },
  {
   "cell_type": "code",
   "execution_count": 9,
   "id": "e130c805-8255-4f3c-aed1-f71907fd6eeb",
   "metadata": {
    "tags": []
   },
   "outputs": [
    {
     "data": {
      "text/plain": [
       "('morgan', 'obach', 'linear')"
      ]
     },
     "execution_count": 9,
     "metadata": {},
     "output_type": "execute_result"
    }
   ],
   "source": [
    "_type, benchmark, model_id = selected\n",
    "_type, benchmark, model_id"
   ]
  },
  {
   "cell_type": "code",
   "execution_count": 10,
   "id": "76e66229-7847-4d43-9bcf-8531e9171d3c",
   "metadata": {},
   "outputs": [
    {
     "ename": "TypeError",
     "evalue": "LinearModel.predict() missing 1 required positional argument: 'X'",
     "output_type": "error",
     "traceback": [
      "\u001b[1;31m---------------------------------------------------------------------------\u001b[0m",
      "\u001b[1;31mTypeError\u001b[0m                                 Traceback (most recent call last)",
      "Cell \u001b[1;32mIn[10], line 1\u001b[0m\n\u001b[1;32m----> 1\u001b[0m predictions \u001b[38;5;241m=\u001b[39m inference_predict(_type, benchmark, model_id, fp_from_smiles([\u001b[38;5;124m'\u001b[39m\u001b[38;5;124mNC1=Nc2nc[nH]c2C(=O)N1\u001b[39m\u001b[38;5;124m'\u001b[39m]))\n",
      "File \u001b[1;32m<string>:4\u001b[0m, in \u001b[0;36minference_predict\u001b[1;34m(_type, benchmark, model, X_test)\u001b[0m\n",
      "\u001b[1;31mTypeError\u001b[0m: LinearModel.predict() missing 1 required positional argument: 'X'"
     ]
    }
   ],
   "source": [
    "predictions = inference_predict(_type, benchmark, model_id, fp_from_smiles(['NC1=Nc2nc[nH]c2C(=O)N1']))"
   ]
  },
  {
   "cell_type": "code",
   "execution_count": 20,
   "id": "4f4ee133-e866-4ccc-9702-da36d36e163f",
   "metadata": {},
   "outputs": [
    {
     "ename": "AttributeError",
     "evalue": "'NoneType' object has no attribute '_decision_function'",
     "output_type": "error",
     "traceback": [
      "\u001b[1;31m---------------------------------------------------------------------------\u001b[0m",
      "\u001b[1;31mAttributeError\u001b[0m                            Traceback (most recent call last)",
      "Cell \u001b[1;32mIn[20], line 5\u001b[0m\n\u001b[0;32m      3\u001b[0m model_path \u001b[38;5;241m=\u001b[39m \u001b[38;5;124mf\u001b[39m\u001b[38;5;124m\"\u001b[39m\u001b[38;5;124mproject_resources/optuna/\u001b[39m\u001b[38;5;132;01m{\u001b[39;00m_type\u001b[38;5;132;01m}\u001b[39;00m\u001b[38;5;124m/\u001b[39m\u001b[38;5;132;01m{\u001b[39;00mbenchmark\u001b[38;5;132;01m}\u001b[39;00m\u001b[38;5;124m/\u001b[39m\u001b[38;5;132;01m{\u001b[39;00mmodel_id\u001b[38;5;132;01m}\u001b[39;00m\u001b[38;5;124m.joblib\u001b[39m\u001b[38;5;124m\"\u001b[39m\n\u001b[0;32m      4\u001b[0m model \u001b[38;5;241m=\u001b[39m joblib\u001b[38;5;241m.\u001b[39mload(model_path)\n\u001b[1;32m----> 5\u001b[0m predictions \u001b[38;5;241m=\u001b[39m model\u001b[38;5;241m.\u001b[39mpredict(\u001b[38;5;28;01mNone\u001b[39;00m, X\u001b[38;5;241m=\u001b[39mX_test)\n",
      "File \u001b[1;32m~\\anaconda3\\envs\\soc\\Lib\\site-packages\\sklearn\\linear_model\\_base.py:386\u001b[0m, in \u001b[0;36mLinearModel.predict\u001b[1;34m(self, X)\u001b[0m\n\u001b[0;32m    372\u001b[0m \u001b[38;5;28;01mdef\u001b[39;00m \u001b[38;5;21mpredict\u001b[39m(\u001b[38;5;28mself\u001b[39m, X):\n\u001b[0;32m    373\u001b[0m \u001b[38;5;250m    \u001b[39m\u001b[38;5;124;03m\"\"\"\u001b[39;00m\n\u001b[0;32m    374\u001b[0m \u001b[38;5;124;03m    Predict using the linear model.\u001b[39;00m\n\u001b[0;32m    375\u001b[0m \n\u001b[1;32m   (...)\u001b[0m\n\u001b[0;32m    384\u001b[0m \u001b[38;5;124;03m        Returns predicted values.\u001b[39;00m\n\u001b[0;32m    385\u001b[0m \u001b[38;5;124;03m    \"\"\"\u001b[39;00m\n\u001b[1;32m--> 386\u001b[0m     \u001b[38;5;28;01mreturn\u001b[39;00m \u001b[38;5;28mself\u001b[39m\u001b[38;5;241m.\u001b[39m_decision_function(X)\n",
      "\u001b[1;31mAttributeError\u001b[0m: 'NoneType' object has no attribute '_decision_function'"
     ]
    }
   ],
   "source": [
    "import joblib\n",
    "X_test = fp_from_smiles(['NC1=Nc2nc[nH]c2C(=O)N1'])\n",
    "model_path = f\"project_resources/optuna/{_type}/{benchmark}/{model_id}.joblib\"\n",
    "model = joblib.load(model_path)\n",
    "predictions = model.predict(None, X=X_test)"
   ]
  },
  {
   "cell_type": "code",
   "execution_count": 16,
   "id": "078217a1-cbb4-4bf9-bda5-eb98058cb1fe",
   "metadata": {
    "tags": []
   },
   "outputs": [
    {
     "data": {
      "text/plain": [
       "'\\n        Predict using the linear model.\\n\\n        Parameters\\n        ----------\\n        X : array-like or sparse matrix, shape (n_samples, n_features)\\n            Samples.\\n\\n        Returns\\n        -------\\n        C : array, shape (n_samples,)\\n            Returns predicted values.\\n        '"
      ]
     },
     "execution_count": 16,
     "metadata": {},
     "output_type": "execute_result"
    }
   ],
   "source": [
    "model.predict.__doc__"
   ]
  },
  {
   "cell_type": "code",
   "execution_count": 17,
   "id": "a7a7fafd-053e-48d3-b14a-8ca2f631135f",
   "metadata": {
    "tags": []
   },
   "outputs": [
    {
     "data": {
      "text/plain": [
       "[array([0, 0, 1, 1, 0, 0, 0, 0, 0, 1, 1, 0, 0, 0, 1, 0, 0, 0, 0, 0, 0, 1,\n",
       "        0, 0, 0, 0, 0, 1, 0, 0, 1, 0, 1, 0, 0, 0, 0, 0, 0, 0, 0, 0, 0, 0,\n",
       "        1, 0, 1, 0, 0, 0, 0, 1, 0, 1, 0, 0, 0, 0, 0, 0, 0, 0, 0, 1, 0, 0,\n",
       "        1, 0, 1, 0, 0, 0, 0, 0, 1, 0, 1, 1, 0, 0, 1, 0, 0, 0, 0, 1, 0, 0,\n",
       "        0, 0, 0, 0, 0, 0, 1, 0, 0, 0, 0, 0, 1, 0, 0, 0, 0, 1, 0, 0, 0, 0,\n",
       "        0, 0, 0, 0, 0, 0, 0, 0, 0, 0, 0, 0, 0, 0])]"
      ]
     },
     "execution_count": 17,
     "metadata": {},
     "output_type": "execute_result"
    }
   ],
   "source": [
    "X_test"
   ]
  },
  {
   "cell_type": "code",
   "execution_count": null,
   "id": "e2da86be-276e-462c-821b-beebb9068321",
   "metadata": {},
   "outputs": [],
   "source": []
  }
 ],
 "metadata": {
  "kernelspec": {
   "display_name": "Python 3 (ipykernel)",
   "language": "python",
   "name": "python3"
  },
  "language_info": {
   "codemirror_mode": {
    "name": "ipython",
    "version": 3
   },
   "file_extension": ".py",
   "mimetype": "text/x-python",
   "name": "python",
   "nbconvert_exporter": "python",
   "pygments_lexer": "ipython3",
   "version": "3.11.4"
  }
 },
 "nbformat": 4,
 "nbformat_minor": 5
}
