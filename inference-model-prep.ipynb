{
 "cells": [
  {
   "cell_type": "code",
   "execution_count": 2,
   "id": "f05f49f5-8321-46bc-9b5b-2dabda928d09",
   "metadata": {},
   "outputs": [
    {
     "name": "stdout",
     "output_type": "stream",
     "text": [
      "importing Jupyter notebook from C:\\Users\\Lukas\\Documents\\datacytochromy\\project_resources\\cytochrome_P450.ipynb\n"
     ]
    }
   ],
   "source": [
    "import sys\n",
    "import joblib\n",
    "import numpy as np\n",
    "import pandas as pd\n",
    "from tdc.single_pred import ADME\n",
    "from sklearn.preprocessing import MinMaxScaler\n",
    "from sklearn.kernel_ridge import KernelRidge\n",
    "from sklearn.ensemble import RandomForestRegressor\n",
    "from sklearn.ensemble import GradientBoostingRegressor\n",
    "from sklearn.neural_network import MLPRegressor\n",
    "from sklearn.linear_model import ElasticNet\n",
    "from project_resources.import_utils import NotebookFinder\n",
    "sys.meta_path.append(NotebookFinder())\n",
    "from project_resources.cytochrome_P450 import retrain_and_save, fp_from_smiles, parse_jazzy_df"
   ]
  },
  {
   "cell_type": "code",
   "execution_count": 3,
   "id": "366116c6-0cb9-4bf1-8221-14d52d2836b6",
   "metadata": {
    "tags": []
   },
   "outputs": [],
   "source": [
    "model_identifiers = [\"linear\", \"KRR\", \"GB\", \"RF\", \"ANN\"]\n",
    "tdc_benchmarks = [\"obach\", \"microsome\", \"hepatocyte\"]\n",
    "feature_types = [\"morgan\", \"jazzy\"]\n",
    "models = [ElasticNet, KernelRidge, GradientBoostingRegressor, RandomForestRegressor, MLPRegressor]\n",
    "\n",
    "tdc_datasets = {}\n",
    "smiles = {}\n",
    "halflives = {}\n",
    "mol_features = {}\n",
    "best_model_hyperparams = {}"
   ]
  },
  {
   "cell_type": "code",
   "execution_count": 4,
   "id": "8acf6bb5-1439-444a-beab-b283a55256b8",
   "metadata": {
    "tags": []
   },
   "outputs": [
    {
     "name": "stderr",
     "output_type": "stream",
     "text": [
      "Found local copy...\n",
      "Loading...\n",
      "Done!\n",
      "Found local copy...\n",
      "Loading...\n",
      "Done!\n",
      "Found local copy...\n",
      "Loading...\n",
      "Done!\n"
     ]
    }
   ],
   "source": [
    "obach = ADME(name='Half_Life_Obach')\n",
    "obach_split = obach.get_split()\n",
    "tdc_datasets[\"obach\"] = obach_split\n",
    "microsome = ADME(name='Clearance_Microsome_AZ')\n",
    "microsome_split = microsome.get_split()\n",
    "tdc_datasets[\"microsome\"] = microsome_split\n",
    "hepatocyte = ADME(name='Clearance_Hepatocyte_AZ')\n",
    "hepatocyte_split = hepatocyte.get_split()\n",
    "tdc_datasets[\"hepatocyte\"] = hepatocyte_split"
   ]
  },
  {
   "cell_type": "code",
   "execution_count": 5,
   "id": "2d442552-cb2d-47a5-a4db-317af2a9ac4d",
   "metadata": {
    "tags": []
   },
   "outputs": [
    {
     "name": "stdout",
     "output_type": "stream",
     "text": [
      "obach\n",
      "dict_keys(['obach'])\n",
      "(467,) (133,)\n",
      "microsome\n",
      "dict_keys(['obach', 'microsome'])\n",
      "(772,) (220,)\n",
      "hepatocyte\n",
      "dict_keys(['obach', 'microsome', 'hepatocyte'])\n",
      "(849,) (243,)\n"
     ]
    }
   ],
   "source": [
    "# load, scale and save halflives for morgan\n",
    "halflives[\"morgan\"] = {}\n",
    "for benchmark in tdc_benchmarks:\n",
    "    print(benchmark)\n",
    "    smiles[benchmark] = {}\n",
    "    halflives[\"morgan\"][benchmark] = {}\n",
    "    \n",
    "    benchmark_train_smiles = tdc_datasets[benchmark][\"train\"][\"Drug\"]\n",
    "    benchmark_test_smiles = tdc_datasets[benchmark][\"test\"][\"Drug\"]\n",
    "    smiles[benchmark][\"train\"] = np.array(benchmark_train_smiles)\n",
    "    smiles[benchmark][\"test\"] = np.array(benchmark_test_smiles)\n",
    "    \n",
    "    benchmark_train_halflives = tdc_datasets[benchmark][\"train\"][\"Y\"]\n",
    "    benchmark_test_halflives = tdc_datasets[benchmark][\"test\"][\"Y\"]\n",
    "    \n",
    "    #reshaped_train_halflife = np.array(benchmark_train_halflives).reshape(-1, 1)\n",
    "    #scaler = MinMaxScaler().fit(reshaped_train_halflife)\n",
    "    #train_halflife_scaled = scaler.transform(reshaped_train_halflife)\n",
    "    #train_halflives_scaled = np.array([val[0] for val in train_halflife_scaled])\n",
    "\n",
    "    #reshaped_test_halflife = np.array(benchmark_test_halflives).reshape(-1, 1)\n",
    "    #scaler = MinMaxScaler().fit(reshaped_test_halflife)\n",
    "    #test_halflife_scaled = scaler.transform(reshaped_test_halflife)\n",
    "    #test_halflives_scaled = np.array([val[0] for val in test_halflife_scaled])\n",
    "    train_halflives_scaled = benchmark_train_halflives\n",
    "    test_halflives_scaled = benchmark_test_halflives\n",
    "    \n",
    "    halflives[\"morgan\"][benchmark][\"train\"] = np.array(train_halflives_scaled)\n",
    "    halflives[\"morgan\"][benchmark][\"test\"] = np.array(test_halflives_scaled)\n",
    "    \n",
    "    print(halflives[\"morgan\"].keys())\n",
    "    \n",
    "    print(benchmark_train_halflives.shape, benchmark_test_halflives.shape)"
   ]
  },
  {
   "cell_type": "code",
   "execution_count": 6,
   "id": "609b78e5-f4c7-46a8-8fc0-b7696aeb8020",
   "metadata": {
    "tags": []
   },
   "outputs": [
    {
     "name": "stdout",
     "output_type": "stream",
     "text": [
      "obach\n",
      "(467, 124) (133, 124)\n",
      "microsome\n",
      "(772, 124) (220, 124)\n",
      "hepatocyte\n",
      "(849, 124) (243, 124)\n"
     ]
    }
   ],
   "source": [
    "mol_features[\"morgan\"] = {}\n",
    "for benchmark in tdc_benchmarks:\n",
    "    print(benchmark)\n",
    "    mol_features[\"morgan\"][benchmark] = {}\n",
    "    train_morgan_fps = np.array(fp_from_smiles(smiles[benchmark][\"train\"]))\n",
    "    test_morgan_fps = np.array(fp_from_smiles(smiles[benchmark][\"test\"]))\n",
    "    mol_features[\"morgan\"][benchmark][\"train\"] = train_morgan_fps\n",
    "    mol_features[\"morgan\"][benchmark][\"test\"] = test_morgan_fps\n",
    "    print(train_morgan_fps.shape, test_morgan_fps.shape)"
   ]
  },
  {
   "cell_type": "code",
   "execution_count": 7,
   "id": "79a9427d-de07-43f8-b640-929c95690724",
   "metadata": {
    "tags": []
   },
   "outputs": [
    {
     "name": "stdout",
     "output_type": "stream",
     "text": [
      "obach\n",
      "     525, [0.0033169983665033, 11.3305, 0.0, 3.3351, -4.054, -69.5826, -60.2942]\n",
      "     130, [0.0078064793190067, 10.9705, 1.8136, 5.8249, -16.4281, -118.9807, -121.6516]\n",
      "(525, 6) (525,) (130, 6) (130,)\n",
      "microsome\n",
      "     882, [0.0652380952380952, 10.5072, 1.4478, 4.6964, -13.5025, -92.8889, -106.3914]\n",
      "     220, [0.0884353741496598, 3.5084, 3.5128, 4.5042, -12.6756, -80.3865, -84.2257]\n",
      "(882, 6) (882,) (220, 6) (220,)\n",
      "hepatocyte\n",
      "     970, [0.0, 9.8552, 1.4451, 4.4407, -15.1209, -91.0733, -102.926]\n",
      "     243, [0.0825850340136054, 10.2098, 1.292, 5.2199, -18.4498, -95.9609, -98.199]\n",
      "(970, 6) (970,) (243, 6) (243,)\n"
     ]
    }
   ],
   "source": [
    "mol_features[\"jazzy\"] = {}\n",
    "halflives[\"jazzy\"] = {}\n",
    "for benchmark in tdc_benchmarks:\n",
    "    print(benchmark)\n",
    "    train_jazzy_df = pd.read_csv(f\"project_resources/jazzy_splits/{benchmark}_train.csv\")\n",
    "    test_jazzy_df = pd.read_csv(f\"project_resources/jazzy_splits/{benchmark}_test.csv\")\n",
    "    train_fts, train_jazzy_thalfs, contains_nan = parse_jazzy_df(train_jazzy_df, no_idx_smi=True)\n",
    "    test_fts, test_jazzy_thalfs, contains_nan = parse_jazzy_df(test_jazzy_df, no_idx_smi=True)\n",
    "    \n",
    "    mol_features[\"jazzy\"][benchmark] = {}\n",
    "    mol_features[\"jazzy\"][benchmark][\"train\"] = train_fts\n",
    "    mol_features[\"jazzy\"][benchmark][\"test\"] = test_fts\n",
    "    halflives[\"jazzy\"][benchmark] = {}\n",
    "    halflives[\"jazzy\"][benchmark][\"train\"] = train_jazzy_thalfs\n",
    "    halflives[\"jazzy\"][benchmark][\"test\"] = test_jazzy_thalfs\n",
    "    \n",
    "    print(np.array(train_fts).shape, np.array(train_jazzy_thalfs).shape, np.array(test_fts).shape, np.array(test_jazzy_thalfs).shape)"
   ]
  },
  {
   "cell_type": "code",
   "execution_count": 8,
   "id": "84f49441-231b-4b64-99df-f5b5b13cf4b7",
   "metadata": {
    "tags": []
   },
   "outputs": [
    {
     "name": "stdout",
     "output_type": "stream",
     "text": [
      "{'alpha': 0.042384434382086285, 'l1_ratio': 0.7398025962461235}\n"
     ]
    }
   ],
   "source": [
    "# load all models from optuna\n",
    "# and get the hyperparameters of the best model from each study\n",
    "for _type in feature_types:\n",
    "    best_model_hyperparams[_type] = {}\n",
    "    for benchmark in tdc_benchmarks:\n",
    "        best_model_hyperparams[_type][benchmark] = {}\n",
    "        for model_id in model_identifiers:\n",
    "            jl = joblib.load(f\"project_resources/optuna/{_type}/{benchmark}/{model_id}.pkl\")\n",
    "            best_model_hyperparams[_type][benchmark][model_id] = jl.best_trial.params\n",
    "print(best_model_hyperparams[\"morgan\"][\"obach\"][\"linear\"])"
   ]
  },
  {
   "cell_type": "code",
   "execution_count": 9,
   "id": "60a7ac4f-41ef-424f-baff-970872bc2c6b",
   "metadata": {
    "tags": []
   },
   "outputs": [
    {
     "data": {
      "text/plain": [
       "{'alpha': 0.5600102049865601,\n",
       " 'gamma': 2.5021513631563733e-15,\n",
       " 'kernel': 'laplacian'}"
      ]
     },
     "execution_count": 9,
     "metadata": {},
     "output_type": "execute_result"
    }
   ],
   "source": [
    "best_model_hyperparams[\"morgan\"][\"obach\"][\"KRR\"]"
   ]
  },
  {
   "cell_type": "code",
   "execution_count": 8,
   "id": "0ccc5ed7-987c-4c78-abc9-fda1d2d323a8",
   "metadata": {
    "tags": []
   },
   "outputs": [
    {
     "name": "stdout",
     "output_type": "stream",
     "text": [
      "morgan obach linear  was successfully created\n",
      "morgan obach KRR  was successfully created\n",
      "morgan obach GB  was successfully created\n",
      "morgan obach RF  was successfully created\n",
      "morgan obach ANN  was successfully created\n",
      "morgan microsome linear  was successfully created\n",
      "morgan microsome KRR  was successfully created\n",
      "morgan microsome GB  was successfully created\n",
      "morgan microsome RF  was successfully created\n",
      "morgan microsome ANN  was successfully created\n",
      "morgan hepatocyte linear  was successfully created\n",
      "morgan hepatocyte KRR  was successfully created\n",
      "morgan hepatocyte GB  was successfully created\n",
      "morgan hepatocyte RF  was successfully created\n",
      "morgan hepatocyte ANN  was successfully created\n",
      "jazzy obach linear  was successfully created\n",
      "jazzy obach KRR  was successfully created\n",
      "jazzy obach GB  was successfully created\n",
      "jazzy obach RF  was successfully created\n",
      "jazzy obach ANN  was successfully created\n",
      "jazzy microsome linear  was successfully created\n",
      "jazzy microsome KRR  was successfully created\n",
      "jazzy microsome GB  was successfully created\n",
      "jazzy microsome RF  was successfully created\n",
      "jazzy microsome ANN  was successfully created\n",
      "jazzy hepatocyte linear  was successfully created\n",
      "jazzy hepatocyte KRR  was successfully created\n",
      "jazzy hepatocyte GB  was successfully created\n",
      "jazzy hepatocyte RF  was successfully created\n",
      "jazzy hepatocyte ANN  was successfully created\n"
     ]
    }
   ],
   "source": [
    "# save retrain models with best hyperparameters and save the pre-trained models with joblib\n",
    "for _type in feature_types:\n",
    "    for benchmark in tdc_benchmarks:\n",
    "        for model_id, model in zip(model_identifiers, models):\n",
    "            # model_id ... string, name of the model\n",
    "            # model ... the class of the actual model, not initialized\n",
    "            \n",
    "            # train the model on both the train and test datasets since the model won't be tested\n",
    "            X_test = mol_features[_type][benchmark][\"test\"]\n",
    "            y_test = halflives[_type][benchmark][\"test\"]\n",
    "            X_train = np.concatenate((mol_features[_type][benchmark][\"train\"], X_test))\n",
    "            y_train = np.concatenate((halflives[_type][benchmark][\"train\"], y_test))\n",
    "            \n",
    "            params = best_model_hyperparams[_type][benchmark][model_id]\n",
    "            model_init = model(**params)\n",
    "            model_init.fit(X_train, y_train)\n",
    "            \n",
    "            model_file_path = f\"./project_resources/optuna/{_type}/{benchmark}/{model_id}.joblib\"\n",
    "            joblib.dump(model_init, model_file_path)\n",
    "            \n",
    "            try:\n",
    "                loaded_model = joblib.load(model_file_path)\n",
    "                print(_type, benchmark, model_id, \" was successfully created\")\n",
    "            except FileNotFoundError:\n",
    "                print(_type, benchmark, model_id, \" wasn't created correctly\")"
   ]
  },
  {
   "cell_type": "code",
   "execution_count": null,
   "id": "6f9fc9d0-dd2d-4089-a9f6-aabd0377e7f4",
   "metadata": {},
   "outputs": [],
   "source": []
  }
 ],
 "metadata": {
  "kernelspec": {
   "display_name": "Python 3 (ipykernel)",
   "language": "python",
   "name": "python3"
  },
  "language_info": {
   "codemirror_mode": {
    "name": "ipython",
    "version": 3
   },
   "file_extension": ".py",
   "mimetype": "text/x-python",
   "name": "python",
   "nbconvert_exporter": "python",
   "pygments_lexer": "ipython3",
   "version": "3.11.4"
  }
 },
 "nbformat": 4,
 "nbformat_minor": 5
}
