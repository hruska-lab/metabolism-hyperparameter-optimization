{
 "cells": [
  {
   "cell_type": "code",
   "execution_count": 1,
   "id": "f05f49f5-8321-46bc-9b5b-2dabda928d09",
   "metadata": {},
   "outputs": [
    {
     "name": "stdout",
     "output_type": "stream",
     "text": [
      "importing Jupyter notebook from C:\\Users\\Lukas\\Documents\\datacytochromy\\project_resources\\cytochrome_P450.ipynb\n"
     ]
    }
   ],
   "source": [
    "import sys\n",
    "import joblib\n",
    "import numpy as np\n",
    "import pandas as pd\n",
    "from sklearn.kernel_ridge import KernelRidge\n",
    "from sklearn.ensemble import RandomForestRegressor\n",
    "from sklearn.ensemble import GradientBoostingRegressor\n",
    "from sklearn.neural_network import MLPRegressor\n",
    "from sklearn.linear_model import ElasticNet\n",
    "from project_resources.import_utils import NotebookFinder\n",
    "sys.meta_path.append(NotebookFinder())\n",
    "from project_resources.cytochrome_P450 import load_ml_data"
   ]
  },
  {
   "cell_type": "code",
   "execution_count": 4,
   "id": "366116c6-0cb9-4bf1-8221-14d52d2836b6",
   "metadata": {
    "tags": []
   },
   "outputs": [],
   "source": [
    "model_identifiers = [\"linear\", \"KRR\", \"GB\", \"RF\", \"ANN\"]\n",
    "tdc_benchmarks = [\"obach\", \"microsome\", \"hepatocyte\"]\n",
    "feature_types = [\"morgan\", \"jazzy\"]\n",
    "models = [ElasticNet, KernelRidge, GradientBoostingRegressor, RandomForestRegressor, MLPRegressor]\n",
    "\n",
    "mol_features = {}\n",
    "halflives = {}\n",
    "best_model_hyperparams = {}"
   ]
  },
  {
   "cell_type": "code",
   "execution_count": 5,
   "id": "8de39cdf-187f-469b-8510-43489e865303",
   "metadata": {
    "tags": []
   },
   "outputs": [
    {
     "name": "stderr",
     "output_type": "stream",
     "text": [
      "Found local copy...\n",
      "Loading...\n",
      "Done!\n",
      "100%|███████████████████████████████████████████████████████████████████████████████| 667/667 [00:00<00:00, 873.65it/s]\n",
      "Found local copy...\n",
      "Loading...\n",
      "Done!\n",
      "100%|█████████████████████████████████████████████████████████████████████████████| 1102/1102 [00:01<00:00, 973.68it/s]\n",
      "Found local copy...\n",
      "Loading...\n",
      "Done!\n",
      "100%|█████████████████████████████████████████████████████████████████████████████| 1213/1213 [00:01<00:00, 925.51it/s]\n"
     ]
    }
   ],
   "source": [
    "for _type in feature_types:\n",
    "    mol_features[_type] = {}\n",
    "    halflives[_type] = {}\n",
    "    for benchmark in tdc_benchmarks:\n",
    "        \n",
    "        X_train, y_train, X_val, y_val, X_test, y_test = load_ml_data(_type, benchmark)\n",
    "        \n",
    "        # train models the train, valid and test datasets since the model won't be tested\n",
    "        X = np.concatenate((X_train, X_val, X_test))\n",
    "        y = np.concatenate((y_train, y_val, y_test))\n",
    "        \n",
    "        mol_features[_type][benchmark] = X\n",
    "        halflives[_type][benchmark] = y"
   ]
  },
  {
   "cell_type": "code",
   "execution_count": 6,
   "id": "84f49441-231b-4b64-99df-f5b5b13cf4b7",
   "metadata": {
    "tags": []
   },
   "outputs": [
    {
     "name": "stdout",
     "output_type": "stream",
     "text": [
      "{'alpha': 0.10339725884015408, 'l1_ratio': 0.023918865219195163}\n"
     ]
    }
   ],
   "source": [
    "# load all models from optuna\n",
    "# and get the hyperparameters of the best model from each study\n",
    "for _type in feature_types:\n",
    "    best_model_hyperparams[_type] = {}\n",
    "    for benchmark in tdc_benchmarks:\n",
    "        best_model_hyperparams[_type][benchmark] = {}\n",
    "        for model_id in model_identifiers:\n",
    "            jl = joblib.load(f\"project_resources/optuna/{_type}/{benchmark}/{model_id}.pkl\")\n",
    "            best_model_hyperparams[_type][benchmark][model_id] = jl.best_trial.params\n",
    "print(best_model_hyperparams[\"morgan\"][\"obach\"][\"linear\"])"
   ]
  },
  {
   "cell_type": "code",
   "execution_count": 7,
   "id": "0ccc5ed7-987c-4c78-abc9-fda1d2d323a8",
   "metadata": {
    "tags": []
   },
   "outputs": [
    {
     "name": "stdout",
     "output_type": "stream",
     "text": [
      "morgan obach linear  was successfully created\n",
      "morgan obach KRR  was successfully created\n",
      "morgan obach GB  was successfully created\n",
      "morgan obach RF  was successfully created\n",
      "morgan obach ANN  was successfully created\n",
      "morgan microsome linear  was successfully created\n",
      "morgan microsome KRR  was successfully created\n",
      "morgan microsome GB  was successfully created\n",
      "morgan microsome RF  was successfully created\n",
      "morgan microsome ANN  was successfully created\n",
      "morgan hepatocyte linear  was successfully created\n",
      "morgan hepatocyte KRR  was successfully created\n",
      "morgan hepatocyte GB  was successfully created\n",
      "morgan hepatocyte RF  was successfully created\n",
      "morgan hepatocyte ANN  was successfully created\n",
      "jazzy obach linear  was successfully created\n",
      "jazzy obach KRR  was successfully created\n",
      "jazzy obach GB  was successfully created\n",
      "jazzy obach RF  was successfully created\n",
      "jazzy obach ANN  was successfully created\n",
      "jazzy microsome linear  was successfully created\n",
      "jazzy microsome KRR  was successfully created\n",
      "jazzy microsome GB  was successfully created\n",
      "jazzy microsome RF  was successfully created\n",
      "jazzy microsome ANN  was successfully created\n",
      "jazzy hepatocyte linear  was successfully created\n",
      "jazzy hepatocyte KRR  was successfully created\n",
      "jazzy hepatocyte GB  was successfully created\n",
      "jazzy hepatocyte RF  was successfully created\n",
      "jazzy hepatocyte ANN  was successfully created\n"
     ]
    }
   ],
   "source": [
    "# save retrain models with best hyperparameters and save the pre-trained models with joblib\n",
    "for _type in feature_types:\n",
    "    for benchmark in tdc_benchmarks:\n",
    "        for model_id, model in zip(model_identifiers, models):\n",
    "            # model_id ... string, name of the model\n",
    "            # model ... the class of the actual model, not initialized\n",
    "            \n",
    "            X = mol_features[_type][benchmark]\n",
    "            y = halflives[_type][benchmark]\n",
    "            \n",
    "            params = best_model_hyperparams[_type][benchmark][model_id]\n",
    "            model_init = model(**params)\n",
    "            model_init.fit(X, y)\n",
    "            \n",
    "            model_file_path = f\"./project_resources/optuna/{_type}/{benchmark}/{model_id}.joblib\"\n",
    "            joblib.dump(model_init, model_file_path)\n",
    "            \n",
    "            try:\n",
    "                loaded_model = joblib.load(model_file_path)\n",
    "                print(_type, benchmark, model_id, \" was successfully created\")\n",
    "            except FileNotFoundError:\n",
    "                print(_type, benchmark, model_id, \" wasn't created correctly\")"
   ]
  },
  {
   "cell_type": "code",
   "execution_count": null,
   "id": "6f9fc9d0-dd2d-4089-a9f6-aabd0377e7f4",
   "metadata": {},
   "outputs": [],
   "source": []
  }
 ],
 "metadata": {
  "kernelspec": {
   "display_name": "Python 3 (ipykernel)",
   "language": "python",
   "name": "python3"
  },
  "language_info": {
   "codemirror_mode": {
    "name": "ipython",
    "version": 3
   },
   "file_extension": ".py",
   "mimetype": "text/x-python",
   "name": "python",
   "nbconvert_exporter": "python",
   "pygments_lexer": "ipython3",
   "version": "3.11.4"
  }
 },
 "nbformat": 4,
 "nbformat_minor": 5
}
