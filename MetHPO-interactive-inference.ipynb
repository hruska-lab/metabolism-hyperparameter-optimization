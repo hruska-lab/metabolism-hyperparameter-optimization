{
 "cells": [
  {
   "cell_type": "markdown",
   "id": "3b0eff8a-ce4f-495d-b9d6-a1478fffc655",
   "metadata": {},
   "source": [
    "# metabolism-hyperparameter-optimization\n",
    "## MetHPO inference\n",
    "V následujícím programu můžete interaktivně predikovat parametry libovolných léčiv.\n",
    "\n",
    "1. Nejprve je třeba naclonovat GitHub repozitář a stáhnout potřebné knihovny, proto spusťte první buňku, čili tu přímo pod tímto textem.\n",
    "2. Poté se knihovny musí naimportovat pomocí druhé buňky.\n",
    "3. Následně zvolíte látku.\\\n",
    "    a) První možnost, jak ji zvolit, je nakreslit její strukturu. V takovém případě spusťte třetí buňku, nakreslete žádanou molekulu a postupujte podle pokynů v komentářích ve třetí a čtvrté buňce.\\\n",
    "    b) Druhou možností je spustit pátou buňku a zadat anglický název látky.\n",
    "4. Po spuštění předposlední buňky se zobrazí menu, kde zvolíte features, dataset a typ modelu, který byl na těchto datech předtrénovaný. Pomocí tohoto modelu se budou predikvoat vlastnosti zvolené látky.\n",
    "5. Nakonec spusťte poslední buňku a program vypíše predikovanou hodnotu, jaký model tuto hodnotu predikoval a na jakých datech byl model trénovaný.\n",
    "\n",
    "Pozn.: Jednotky, ve kterých bude výsledná predikce, jsou určeny podle datasetu:\\\n",
    "Model natrénovaný na datasetu Obach predikuje eliminační poločas v hodinách.\\\n",
    "Model natrénovaný na heptatocyte predikuje clearance v μl.min⁻¹.(10⁶ buněk)⁻¹.\\\n",
    "Model natrénovaný na microsome predikuje také clearance, ale v ml.min⁻¹.g⁻¹."
   ]
  },
  {
   "cell_type": "code",
   "execution_count": null,
   "id": "11ffa219-163e-4628-a81b-fe5b59aa1692",
   "metadata": {},
   "outputs": [],
   "source": [
    "!git clone https://github.com/hruska-lab/metabolism-hyperparameter-optimization.git\n",
    "!cd metabolism-hyperparameter-optimization\n",
    "!pip install ipywidgets\n",
    "!pip install joblib\n",
    "!pip install PyTDC\n",
    "!pip install -U scikit-learn\n",
    "!pip install rdkit\n",
    "!pip install jazzy\n",
    "!pip install jsme-notebook"
   ]
  },
  {
   "cell_type": "code",
   "execution_count": 1,
   "id": "a0145573-1ae2-4783-b38a-e29048738d86",
   "metadata": {
    "tags": []
   },
   "outputs": [],
   "source": [
    "import sys\n",
    "from jsme_notebook import JSMENotebook\n",
    "from project_resources.inference_utils import CIRconvert, inference_dataset_selection, inference_predict"
   ]
  },
  {
   "cell_type": "code",
   "execution_count": 2,
   "id": "a35653bc-ca5d-4606-997d-42d67b4794f4",
   "metadata": {
    "tags": []
   },
   "outputs": [
    {
     "data": {
      "text/html": [
       "<script type=\"text/javascript\" language=\"javascript\" src=\"https://users.ox.ac.uk/~bioc1451/jsme/jsme.nocache.js\"></script><script>window.smiles = \"\";\n",
       " window.py_obj_id = 1659326154128;\n",
       "window.container_id = \"jsme_container_103707884633\";\n",
       "window.py_class_name = \"JSMENotebook\";\n",
       "\n",
       "                     //this function will be called after the JavaScriptApplet code has been loaded.\n",
       "                         function jsmeOnLoad() {\n",
       "                             const params = {smiles: smiles || undefined};\n",
       "                             const jsmeApplet = new JSApplet.JSME(window.container_id, \"380px\", \"340px\", params);\n",
       "                             window.jsmeApplet = jsmeApplet;\n",
       "                             jsmeApplet.setCallBack(\"AfterStructureModified\", async (jsme) => {\n",
       "                               smiles = jsmeApplet.smiles();\n",
       "                               // in Jupyter this is called output_area. Colab #output-area\n",
       "                               // let el = document.createElement('div');\n",
       "                               // el.textContent = smiles\n",
       "                               // document.querySelector(\"#output_area,#output-area\").appendChild(el);\n",
       "                               if (window.google !== undefined) {\n",
       "                                 await google.colab.kernel.invokeFunction('notebook.set_smiles', [smiles]);\n",
       "                              } else if (window.Jupyter !== undefined) {\n",
       "                              console.log(`JSMEHack.get_by_id(${py_obj_id}).smiles = '${smiles}'`);\n",
       "                             Jupyter.notebook.kernel.execute(`${py_class_name}.get_by_id(${py_obj_id}).smiles = '${smiles}'`);\n",
       "                               }\n",
       "                               else {throw \"Unknown environment\";}\n",
       "                             });\n",
       "                       }\n",
       "                     </script><div id=\"jsme_container_103707884633\"></div>"
      ],
      "text/plain": [
       "<IPython.core.display.HTML object>"
      ]
     },
     "metadata": {},
     "output_type": "display_data"
    }
   ],
   "source": [
    "# Molekulu lze nakresil a poté pomocí posledního tlačítka v druhém řádku zkopírovat strukturu jako SMILES (první možnost shora \"Copy as SMILES\")\n",
    "jsme = JSMENotebook()"
   ]
  },
  {
   "cell_type": "code",
   "execution_count": 3,
   "id": "847f9e79-1e22-49e1-9ef2-45b651d96242",
   "metadata": {
    "tags": []
   },
   "outputs": [],
   "source": [
    "# Pokud jste kreslili strukturu molekuly místo textu struktura vložte SMILES, uvozovky nemažte\n",
    "smiles = \"struktura\""
   ]
  },
  {
   "cell_type": "code",
   "execution_count": 2,
   "id": "cb1ddea4-57cf-4594-8219-341ebb7ac8b0",
   "metadata": {
    "tags": []
   },
   "outputs": [
    {
     "name": "stdin",
     "output_type": "stream",
     "text": [
      "Zadejte název sloučeniny: bromazepam\n"
     ]
    },
    {
     "name": "stdout",
     "output_type": "stream",
     "text": [
      "Řetězec SMILES byl úspěšně získán pro sloučeninu bromazepam\n"
     ]
    }
   ],
   "source": [
    "# Nebo také můžete zadat anglický název látky - triviální nebo i systematický (např. oleic acid nebo 2-Amino-1,9-dihydro-6H-purin-6-one)\n",
    "# Pokud jste kreslili strukturu molekuly, tuto buňku přeskočte\n",
    "smiles = CIRconvert()"
   ]
  },
  {
   "cell_type": "code",
   "execution_count": 3,
   "id": "199f440c-dd5c-48f0-9897-7bfa383b5057",
   "metadata": {
    "tags": []
   },
   "outputs": [
    {
     "data": {
      "application/vnd.jupyter.widget-view+json": {
       "model_id": "9457b50b51344b869616ea2cc9b4756d",
       "version_major": 2,
       "version_minor": 0
      },
      "text/plain": [
       "Dropdown(description='Features:', options=('morgan', 'jazzy'), value='morgan')"
      ]
     },
     "metadata": {},
     "output_type": "display_data"
    },
    {
     "data": {
      "application/vnd.jupyter.widget-view+json": {
       "model_id": "57f70ae553ce4be3a3eb7275a4622021",
       "version_major": 2,
       "version_minor": 0
      },
      "text/plain": [
       "Dropdown(description='Dataset:', options=('obach', 'microsome', 'hepatocyte'), value='obach')"
      ]
     },
     "metadata": {},
     "output_type": "display_data"
    },
    {
     "data": {
      "application/vnd.jupyter.widget-view+json": {
       "model_id": "cce029d8561d45cc83c4ef9b28368493",
       "version_major": 2,
       "version_minor": 0
      },
      "text/plain": [
       "Dropdown(description='Model:', options=('linear', 'KRR', 'GB', 'RF', 'ANN'), value='linear')"
      ]
     },
     "metadata": {},
     "output_type": "display_data"
    },
    {
     "data": {
      "application/vnd.jupyter.widget-view+json": {
       "model_id": "d6dd514787884afea9794f59499f9259",
       "version_major": 2,
       "version_minor": 0
      },
      "text/plain": [
       "Button(description='Parse Output', style=ButtonStyle())"
      ]
     },
     "metadata": {},
     "output_type": "display_data"
    }
   ],
   "source": [
    "# Zvolte typ modelu a na jakých datech chcete, aby tento model byl natrénovaný\n",
    "selected = inference_dataset_selection()"
   ]
  },
  {
   "cell_type": "code",
   "execution_count": 5,
   "id": "76e66229-7847-4d43-9bcf-8531e9171d3c",
   "metadata": {
    "tags": []
   },
   "outputs": [
    {
     "name": "stdout",
     "output_type": "stream",
     "text": [
      "Zvolené parametry\n",
      "Látka: Brc1ccc2NC(=O)CN=C(c3ccccn3)c2c1\n",
      "Typ features: jazzy\n",
      "Benchmark: obach\n",
      "Model: KRR\n",
      "\n"
     ]
    },
    {
     "name": "stderr",
     "output_type": "stream",
     "text": [
      "Found local copy...\n",
      "Loading...\n",
      "Done!\n"
     ]
    },
    {
     "name": "stdout",
     "output_type": "stream",
     "text": [
      "Predikovaná hodnota eliminačního poločasu: 20.7 h\n"
     ]
    }
   ],
   "source": [
    "inference_predict(selected, smiles)"
   ]
  },
  {
   "cell_type": "code",
   "execution_count": null,
   "id": "9f405fcd-8196-4c62-b6e0-9a860bbc485e",
   "metadata": {},
   "outputs": [],
   "source": []
  }
 ],
 "metadata": {
  "kernelspec": {
   "display_name": "Python 3 (ipykernel)",
   "language": "python",
   "name": "python3"
  },
  "language_info": {
   "codemirror_mode": {
    "name": "ipython",
    "version": 3
   },
   "file_extension": ".py",
   "mimetype": "text/x-python",
   "name": "python",
   "nbconvert_exporter": "python",
   "pygments_lexer": "ipython3",
   "version": "3.11.4"
  }
 },
 "nbformat": 4,
 "nbformat_minor": 5
}
