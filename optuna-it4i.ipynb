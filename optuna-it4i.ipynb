{
 "cells": [
  {
   "cell_type": "code",
   "execution_count": 1,
   "id": "d1d85ad1-1bab-4325-8d2e-8344df26d19f",
   "metadata": {},
   "outputs": [],
   "source": [
    "import optuna\n",
    "import joblib\n",
    "import numpy as np\n",
    "import pandas as pd\n",
    "import time\n",
    "from optuna.storages import JournalStorage, JournalFileStorage\n",
    "from project_resources.it4i_resources import fp_from_smiles, parse_jazzy_df, HyperparamTuner\n",
    "\n",
    "\n",
    "types = [\"morgan\", \"jazzy\"]\n",
    "splitters = [\"rand\", \"scaff\", \"time\"]\n",
    "model_identifiers = [\"linear\", \"KRR\", \"GB\", \"RF\", \"ANN\"]\n",
    "isozymes = [\"3A4\", \"RLM\", \"HLC\"]\n",
    "data_splits = [\"train\", \"test\"]\n",
    "rel_paths = {\n",
    "    \"morgan_3A4_train_scaff\": r\"project_resources/base_splits/scaffold_splitter/3A4_train.csv\",\n",
    "    \"morgan_3A4_train_rand\": r\"project_resources/base_splits/random/3A4_train.csv\",\n",
    "    \"morgan_3A4_train_time\": r\"project_resources/base_splits/time_split/3A4_train.csv\",\n",
    "    \"morgan_RLM_train_scaff\": r\"project_resources/base_splits/scaffold_splitter/RLM_train.csv\",\n",
    "    \"morgan_RLM_train_rand\": r\"project_resources/base_splits/random/RLM_train.csv\",\n",
    "    \"morgan_RLM_train_time\": r\"project_resources/base_splits/time_split/RLM_train.csv\",\n",
    "    \"morgan_HLC_train_scaff\": r\"project_resources/base_splits/scaffold_splitter/HLC_train.csv\",\n",
    "    \"morgan_HLC_train_rand\": r\"project_resources/base_splits/random/HLC_train.csv\",\n",
    "    \"morgan_HLC_train_time\": r\"project_resources/base_splits/time_split/HLC_train.csv\",\n",
    "\n",
    "    \"morgan_3A4_test_scaff\": r\"project_resources/base_splits/scaffold_splitter/3A4_test.csv\",\n",
    "    \"morgan_3A4_test_rand\": r\"project_resources/base_splits/random/3A4_test.csv\",\n",
    "    \"morgan_3A4_test_time\": r\"project_resources/base_splits/time_split/3A4_test.csv\",\n",
    "    \"morgan_RLM_test_scaff\": r\"project_resources/base_splits/scaffold_splitter/RLM_test.csv\",\n",
    "    \"morgan_RLM_test_rand\": r\"project_resources/base_splits/random/RLM_test.csv\",\n",
    "    \"morgan_RLM_test_time\": r\"project_resources/base_splits/time_split/RLM_test.csv\",\n",
    "    \"morgan_HLC_test_scaff\": r\"project_resources/base_splits/scaffold_splitter/HLC_test.csv\",\n",
    "    \"morgan_HLC_test_rand\": r\"project_resources/base_splits/random/HLC_test.csv\",\n",
    "    \"morgan_HLC_test_time\": r\"project_resources/base_splits/time_split/HLC_test.csv\",\n",
    "\n",
    "    \"jazzy_3A4_train_scaff\": r\"project_resources/jazzy_splits/scaffold_splitter/3A4_train.csv\",\n",
    "    \"jazzy_3A4_train_rand\": r\"project_resources/jazzy_splits/random/3A4_train.csv\",\n",
    "    \"jazzy_3A4_train_time\": r\"project_resources/jazzy_splits/time_split/3A4_train.csv\",\n",
    "    \"jazzy_RLM_train_scaff\": r\"project_resources/jazzy_splits/scaffold_splitter/RLM_train.csv\",\n",
    "    \"jazzy_RLM_train_rand\": r\"project_resources/jazzy_splits/random/RLM_train.csv\",\n",
    "    \"jazzy_RLM_train_time\": r\"project_resources/jazzy_splits/time_split/RLM_train.csv\",\n",
    "    \"jazzy_HLC_train_scaff\": r\"project_resources/jazzy_splits/scaffold_splitter/HLC_train.csv\",\n",
    "    \"jazzy_HLC_train_rand\": r\"project_resources/jazzy_splits/random/HLC_train.csv\",\n",
    "    \"jazzy_HLC_train_time\": r\"project_resources/jazzy_splits/time_split/HLC_train.csv\",\n",
    "\n",
    "    \"jazzy_3A4_test_scaff\": r\"project_resources/jazzy_splits/scaffold_splitter/3A4_test.csv\",\n",
    "    \"jazzy_3A4_test_rand\": r\"project_resources/jazzy_splits/random/3A4_test.csv\",\n",
    "    \"jazzy_3A4_test_time\": r\"project_resources/jazzy_splits/time_split/3A4_test.csv\",\n",
    "    \"jazzy_RLM_test_scaff\": r\"project_resources/jazzy_splits/scaffold_splitter/RLM_test.csv\",\n",
    "    \"jazzy_RLM_test_rand\": r\"project_resources/jazzy_splits/random/RLM_test.csv\",\n",
    "    \"jazzy_RLM_test_time\": r\"project_resources/jazzy_splits/time_split/RLM_test.csv\",\n",
    "    \"jazzy_HLC_test_scaff\": r\"project_resources/jazzy_splits/scaffold_splitter/HLC_test.csv\",\n",
    "    \"jazzy_HLC_test_rand\": r\"project_resources/jazzy_splits/random/HLC_test.csv\",\n",
    "    \"jazzy_HLC_test_time\": r\"project_resources/jazzy_splits/time_split/HLC_test.csv\"\n",
    "}\n",
    "# sampler - a method used to generate new sets of hyperparameters in each iteration of the optimization process\n",
    "samplers = {\n",
    "    'RandomSampler': optuna.samplers.RandomSampler,          # Sampler that selects hyperparameters randomly from the search space.\n",
    "    'GridSampler': optuna.samplers.GridSampler,              # Sampler that performs a grid search over the hyperparameter space.\n",
    "    'TPESampler': optuna.samplers.TPESampler,                # Sampler that uses a tree-structured Parzen estimator to model the objective function and sample new points from the search space.\n",
    "    'CmaEsSampler': optuna.samplers.CmaEsSampler,            # Sampler that uses the Covariance Matrix Adaptation Evolution Strategy algorithm to efficiently search the hyperparameter space.\n",
    "    'NSGAIISampler': optuna.samplers.NSGAIISampler,          # Multi-objective evolutionary algorithm that generates new samples using non-dominated sorting and crowding distance selection.\n",
    "    'QMCSampler': optuna.samplers.QMCSampler,                # Quasi-Monte Carlo sampler that uses low-discrepancy sequences to sample the search space in a more efficient and evenly distributed way than random sampling.\n",
    "    'BoTorchSampler': optuna.integration.BoTorchSampler,     # Sampler that leverages the BoTorch library for Bayesian optimization and can handle both continuous and categorical hyperparameters.\n",
    "    'BruteForceSampler': optuna.samplers.BruteForceSampler,  # Sampler that exhaustively evaluates all possible combinations of hyperparameters in the search space.\n",
    "}\n",
    "# pruner - a technique used to eliminate unpromising trials during the course of hyperparameter optimization.\n",
    "pruners = {\n",
    "    'BasePruner': optuna.pruners.BasePruner,                            # This is the base class for all pruning strategies in Optuna. It provides a skeleton for implementing custom pruning strategies.\n",
    "    'MedianPruner': optuna.pruners.MedianPruner,                        # A pruner that prunes unpromising trials that have median objective values, as determined in previous steps.\n",
    "    'SuccessiveHalvingPruner': optuna.pruners.SuccessiveHalvingPruner,  # This pruner repeatedly splits trials into halves, discarding the lower performing half at each iteration.\n",
    "    'HyperbandPruner': optuna.pruners.HyperbandPruner,                  # This pruner implements the Hyperband algorithm, which selects promising trials and runs them with different resource allocation schemes to determine the best one.\n",
    "    'PercentilePruner': optuna.pruners.PercentilePruner,                # A pruner that prunes unpromising trials based on their percentile rank relative to all completed trials.\n",
    "    'NopPruner': optuna.pruners.NopPruner,                              # A pruner that does nothing and does not prune any trials.\n",
    "    'ThresholdPruner': optuna.pruners.ThresholdPruner,                  # This pruner prunes trials that have not reached a certain level of performance (i.e., objective value).\n",
    "    'PatientPruner': optuna.pruners.PatientPruner,                      # This pruner prunes trials that do not show improvement over a certain number of steps (or epochs).\n",
    "}\n",
    "smiles = {}\n",
    "halflives = {}\n",
    "features = {}"
   ]
  },
  {
   "cell_type": "code",
   "execution_count": 2,
   "id": "87ef2a77-0ae2-48fd-9f92-af486f43c00f",
   "metadata": {},
   "outputs": [
    {
     "name": "stdout",
     "output_type": "stream",
     "text": [
      "     56, [63, 'CC(C)(O)c1cc(F)c2c(c1)C(=O)N(Cc1ccc(Cl)cn1)[C@@]2(OCC1(O)CC1)c1ccc(Cl)cc1', 0.9999999999999998, 13.1753, 1.4177, 11.3044, -7.3559, -125.8906, -119.4889]\n",
      "     14, [23, 'Cc1ncsc1-c1ccc([C@H](CC(=O)NCCCCCCNC(=O)COc2c(-c3csc(N4CCOCC4)n3)ccc(F)c2F)NC(=O)[C@@H]2C[C@@H](O)CN2C(=O)[C@@H](NC(=O)C2(F)CC2)C(C)(C)C)cc1', 0.0622624201077031, 28.4327, 3.274, 23.4872, -4.0348, -286.1545, -257.0326]\n",
      "     removed index 325 corresponding to NaN\n",
      "     removed index 678 corresponding to NaN\n",
      "     removed index 725 corresponding to NaN\n",
      "     removed index 1053 corresponding to NaN\n",
      "     1417, [439, 'CN1C(=O)c2ccccc2[S@+]([O-])c2ccc(C(=O)NCc3ccc(Br)cc3)cc21', 0.4181064270905321, 10.3104, 0.7256, 7.5559, -14.2816, -86.2027, -96.3091]\n",
      "     356, [66, 'CC(=O)c1c(C)[nH]c(C(=O)Nc2cccc([S+](=O)([O-])Nc3cccc(C#N)c3)c2)c1C', 0.8327574291637871, 10.4683, 2.4345, 9.1374, -15.7732, -116.2014, -124.8128]\n",
      "     151, [36, 'N#Cc1ccc(CN2CCC(N3CCNC3=O)CC2)cc1', 0.7615658362989324, 8.7086, 0.7824, 4.7992, -7.9813, -74.8159, -75.7409]\n",
      "     38, [185, 'c1ccc(Nc2ncc(-c3cncnc3)c3c2OCC3)cc1', 1.0, 7.6502, 0.7908, 4.359, -17.5939, -69.2221, -78.0498]\n",
      "     56, [30, 'COc1cccc([C@@H](CO)NC(=O)[C@@H](C)N2Cc3ccc(-c4nc(NC5CCOCC5)ncc4Cl)cc3C2=O)c1', 0.0147310164129507, 16.2478, 2.1011, 12.7179, -10.0882, -164.348, -156.2467]\n",
      "     14, [29, 'O=C1CCC(N2C(=O)c3cccc(NCCOCCOCCNC(=O)c4ccc5c(c4)nc(Nc4cccc(Cl)c4)c4ccncc45)c3C2=O)C(=O)N1', 0.0400167292931223, 18.7621, 3.2764, 15.83, -24.805, -206.8013, -216.3639]\n",
      "     removed index 627 corresponding to NaN\n",
      "     removed index 628 corresponding to NaN\n",
      "     removed index 1065 corresponding to NaN\n",
      "     removed index 1109 corresponding to NaN\n",
      "     1417, [41, 'CNC(=O)C1CCN(c2nc(-c3ccc(Br)cc3)cs2)CC1', 0.8728403593642018, 8.8766, 0.5795, 5.4967, -5.3755, -74.4969, -72.179]\n",
      "     356, [675, 'O=c1cc(CN2CCCN(c3ccc(C(F)(F)F)cn3)CC2)nc2ccccn12', 0.2695231513476157, 11.6693, 0.0, 8.7277, -7.9637, -109.4358, -87.089]\n",
      "     151, [9, 'Cc1cc(F)ccc1OC1CN(Cc2ccc(C#N)cc2)C1', 0.2473309608540924, 8.9224, 0.0, 4.8259, -11.1508, -61.3626, -68.7406]\n",
      "     38, [20, 'Fc1cccc(-c2cnc([C@@H]3COCCN3Cc3cnc[nH]3)[nH]2)c1', 0.4599644128113878, 8.6917, 1.4354, 6.9778, -10.2452, -97.3783, -101.0987]\n",
      "     56, [25, 'O=C(NC1CCN(CCc2c[nH]c3ccccc23)CC1)c1ccccc1', 0.0439188969472542, 9.3803, 1.1336, 4.4019, -10.2484, -68.9045, -79.1529]\n",
      "     14, [44, 'COc1cc(F)cc([C@@H](CO)NC(=O)[C@@H](C)N2Cc3ccc(-c4nc(NC5COC5)ncc4Cl)cc3C2=O)c1', 0.1384047171537122, 15.1005, 2.4247, 13.7023, -11.5729, -168.823, -163.9418]\n",
      "     removed index 1085 corresponding to NaN\n",
      "     1420, [865, 'O=c1c(O)c(-c2ccc(O)cc2)oc2cc(O)cc(O)c12', 0.1807187284035936, 4.8109, 4.2098, 9.0356, -15.906, -100.4349, -116.3409]\n",
      "     removed index 149 corresponding to NaN\n",
      "     removed index 152 corresponding to NaN\n",
      "     removed index 165 corresponding to NaN\n",
      "     353, [963, 'COc1cc(C(=O)Nc2nc(-c3ccccc3)cs2)ccc1NS(=O)(=O)c1ccc(C)cc1', 0.1485832757429163, 10.6471, 1.8191, 7.4917, -18.2286, -98.1729, -109.0432]\n",
      "     151, [107, 'O=C(Nc1cnc(-c2ccccc2)nc1)c1ccccc1', 1.0, 7.4704, 0.6471, 3.9158, -15.3358, -60.546, -70.5429]\n",
      "     38, [104, 'Cc1ccccc1-c1[nH]nc2ncc(-c3ccccc3)nc12', 0.7215302491103203, 6.5793, 0.7599, 2.616, -18.8676, -48.3099, -58.8456]\n"
     ]
    }
   ],
   "source": [
    "# load smiles used for ML with Morgan features\n",
    "smiles[\"morgan\"] = {}\n",
    "halflives[\"morgan\"] = {}\n",
    "for splitter in splitters:\n",
    "    smiles[\"morgan\"][splitter] = {}\n",
    "    halflives[\"morgan\"][splitter] = {}\n",
    "    for isozyme in isozymes:\n",
    "        smiles[\"morgan\"][splitter][isozyme] = {}\n",
    "        halflives[\"morgan\"][splitter][isozyme] = {}\n",
    "        for split in data_splits:\n",
    "            df = pd.read_csv(rel_paths[f\"morgan_{isozyme}_{split}_{splitter}\"])\n",
    "            df_smiles = list(df[\"smiles\"])\n",
    "            df_halflives = list(df[\"half-life\"])\n",
    "            smiles[\"morgan\"][splitter][isozyme][split] = df_smiles\n",
    "            halflives[\"morgan\"][splitter][isozyme][split] = df_halflives\n",
    "\n",
    "# smiles to Morgan fingerprint\n",
    "features[\"morgan\"] = {}  # need to destinguish between Jazzy and Morngan since Jazzy ommits some mols\n",
    "for splitter in splitters:\n",
    "    features[\"morgan\"][splitter] = {}\n",
    "    for isozyme in isozymes:\n",
    "        features[\"morgan\"][splitter][isozyme] = {}\n",
    "        for data_split in data_splits:\n",
    "            fps = fp_from_smiles(smiles[\"morgan\"][splitter][isozyme][data_split])\n",
    "            features[\"morgan\"][splitter][isozyme][data_split] = np.array(fps)\n",
    "\n",
    "# load Jazzy features from csv files and their corresponding smiles\n",
    "smiles[\"jazzy\"] = {}\n",
    "halflives[\"jazzy\"] = {}\n",
    "features[\"jazzy\"] = {}\n",
    "for splitter in splitters:\n",
    "    features[\"jazzy\"][splitter] = {}\n",
    "    smiles[\"jazzy\"][splitter] = {}\n",
    "    halflives[\"jazzy\"][splitter] = {}\n",
    "    for isozyme in isozymes:\n",
    "        features[\"jazzy\"][splitter][isozyme] = {}\n",
    "        smiles[\"jazzy\"][splitter][isozyme] = {}\n",
    "        halflives[\"jazzy\"][splitter][isozyme] = {}\n",
    "        for split in data_splits:\n",
    "            df = pd.read_csv(rel_paths[f\"jazzy_{isozyme}_{split}_{splitter}\"])\n",
    "            jazzy_smiles, df_features, thalfs, contains_nan = parse_jazzy_df(df)\n",
    "            smiles[\"jazzy\"][splitter][isozyme][split] = jazzy_smiles\n",
    "            features[\"jazzy\"][splitter][isozyme][split] = df_features\n",
    "            halflives[\"jazzy\"][splitter][isozyme][split] = thalfs"
   ]
  },
  {
   "cell_type": "code",
   "execution_count": 3,
   "id": "8fac0b42-a10e-4750-aa4d-b80239929e42",
   "metadata": {},
   "outputs": [
    {
     "name": "stderr",
     "output_type": "stream",
     "text": [
      "[I 2023-11-06 21:35:56,631] A new study created in Journal with name: linear\n",
      "[I 2023-11-06 21:35:56,801] Trial 0 finished with value: 0.2159085003240563 and parameters: {'alpha': 0.0599499141658115, 'l1_ratio': 0.15526440061980828}. Best is trial 2 with value: 0.20835933375232604.\n"
     ]
    },
    {
     "name": "stdout",
     "output_type": "stream",
     "text": [
      "random 3A4 linear\n"
     ]
    },
    {
     "name": "stderr",
     "output_type": "stream",
     "text": [
      "[I 2023-11-06 21:35:56,819] Trial 2 finished with value: 0.20835933375232604 and parameters: {'alpha': 0.057518229349610095, 'l1_ratio': 0.431838410817209}. Best is trial 1 with value: 0.2061043810369936.\n",
      "[I 2023-11-06 21:35:56,821] Trial 4 finished with value: 0.20966882633842435 and parameters: {'alpha': 0.010375806481240549, 'l1_ratio': 0.06820299316668954}. Best is trial 1 with value: 0.2061043810369936.\n",
      "[I 2023-11-06 21:35:56,823] Trial 1 finished with value: 0.2061043810369936 and parameters: {'alpha': 0.08223262035912703, 'l1_ratio': 0.8548894306546737}. Best is trial 1 with value: 0.2061043810369936.\n",
      "[I 2023-11-06 21:35:56,826] Trial 3 finished with value: 0.21391781836608137 and parameters: {'alpha': 0.02665149954462294, 'l1_ratio': 0.5386761667345472}. Best is trial 1 with value: 0.2061043810369936.\n",
      "[I 2023-11-06 21:35:56,837] A new study created in Journal with name: KRR\n"
     ]
    },
    {
     "name": "stdout",
     "output_type": "stream",
     "text": [
      "random 3A4 KRR\n"
     ]
    },
    {
     "name": "stderr",
     "output_type": "stream",
     "text": [
      "[I 2023-11-06 21:35:57,055] Trial 1 finished with value: 0.18072474944245775 and parameters: {'alpha': 0.15884370123074237, 'gamma': 9.622427114467683e-15, 'kernel': 'laplacian'}. Best is trial 3 with value: 0.1748468113682428.\n",
      "[I 2023-11-06 21:35:57,058] Trial 0 finished with value: 0.20029196713495878 and parameters: {'alpha': 0.9899157705258239, 'gamma': 2.4882257673187645e-15, 'kernel': 'linear'}. Best is trial 3 with value: 0.1748468113682428.\n",
      "[I 2023-11-06 21:35:57,070] Trial 2 finished with value: 0.18370761362757035 and parameters: {'alpha': 0.4858482219873495, 'gamma': 5.352261283261603e-15, 'kernel': 'laplacian'}. Best is trial 3 with value: 0.1748468113682428.\n",
      "[I 2023-11-06 21:35:57,073] Trial 3 finished with value: 0.1748468113682428 and parameters: {'alpha': 0.2835092231640621, 'gamma': 6.504728565566763e-15, 'kernel': 'linear'}. Best is trial 3 with value: 0.1748468113682428.\n",
      "[I 2023-11-06 21:35:57,075] Trial 4 finished with value: 0.1848646961612148 and parameters: {'alpha': 0.6622899187454867, 'gamma': 5.3251698971767715e-15, 'kernel': 'linear'}. Best is trial 3 with value: 0.1748468113682428.\n",
      "[I 2023-11-06 21:35:57,089] A new study created in Journal with name: GB\n"
     ]
    },
    {
     "name": "stdout",
     "output_type": "stream",
     "text": [
      "random 3A4 GB\n"
     ]
    },
    {
     "name": "stderr",
     "output_type": "stream",
     "text": [
      "[I 2023-11-06 21:35:58,599] Trial 0 finished with value: 0.21511603079320263 and parameters: {'n_estimators': 500, 'learning_rate': 0.4011559068534995, 'max_depth': 4}. Best is trial 0 with value: 0.21511603079320263.\n",
      "[I 2023-11-06 21:35:58,634] Trial 3 finished with value: 0.20869574526828072 and parameters: {'n_estimators': 200, 'learning_rate': 0.08813019407814766, 'max_depth': 4}. Best is trial 3 with value: 0.20869574526828072.\n",
      "[I 2023-11-06 21:35:58,648] Trial 2 finished with value: 0.1965343433619402 and parameters: {'n_estimators': 200, 'learning_rate': 0.3812017555592774, 'max_depth': 1}. Best is trial 2 with value: 0.1965343433619402.\n",
      "[I 2023-11-06 21:35:58,672] Trial 4 finished with value: 0.19807730756660202 and parameters: {'n_estimators': 200, 'learning_rate': 0.28802411415608065, 'max_depth': 3}. Best is trial 2 with value: 0.1965343433619402.\n",
      "[I 2023-11-06 21:35:58,674] Trial 1 finished with value: 0.20269884038782082 and parameters: {'n_estimators': 10, 'learning_rate': 0.8562490604664301, 'max_depth': 4}. Best is trial 2 with value: 0.1965343433619402.\n",
      "[I 2023-11-06 21:35:58,686] A new study created in Journal with name: RF\n"
     ]
    },
    {
     "name": "stdout",
     "output_type": "stream",
     "text": [
      "random 3A4 RF\n"
     ]
    },
    {
     "name": "stderr",
     "output_type": "stream",
     "text": [
      "[I 2023-11-06 21:36:04,740] Trial 0 finished with value: 0.19660310779741044 and parameters: {'n_estimators': 200, 'max_features': 'log2', 'max_depth': 10}. Best is trial 0 with value: 0.19660310779741044.\n",
      "[I 2023-11-06 21:36:04,776] Trial 1 finished with value: 0.17679154369017414 and parameters: {'n_estimators': 500, 'max_features': 'auto', 'max_depth': 10}. Best is trial 1 with value: 0.17679154369017414.\n",
      "[I 2023-11-06 21:36:04,796] Trial 3 finished with value: 0.17891148304368312 and parameters: {'n_estimators': 200, 'max_features': 'log2', 'max_depth': 2}. Best is trial 1 with value: 0.17679154369017414.\n",
      "[I 2023-11-06 21:36:04,813] Trial 4 finished with value: 0.2098998106563891 and parameters: {'n_estimators': 20, 'max_features': 'sqrt', 'max_depth': None}. Best is trial 2 with value: 0.17668758006349547.\n",
      "[I 2023-11-06 21:36:04,815] Trial 2 finished with value: 0.17668758006349547 and parameters: {'n_estimators': 500, 'max_features': 'auto', 'max_depth': None}. Best is trial 2 with value: 0.17668758006349547.\n",
      "[I 2023-11-06 21:36:04,826] A new study created in Journal with name: ANN\n"
     ]
    },
    {
     "name": "stdout",
     "output_type": "stream",
     "text": [
      "random 3A4 ANN\n"
     ]
    },
    {
     "name": "stderr",
     "output_type": "stream",
     "text": [
      "[I 2023-11-06 21:36:07,397] Trial 1 finished with value: 0.24999915314194265 and parameters: {'learning_rate_init': 0.05219077072187204, 'hidden_layer_sizes': [10, 10, 10]}. Best is trial 1 with value: 0.24999915314194265.\n",
      "[I 2023-11-06 21:36:07,489] Trial 0 finished with value: 0.26647591166445284 and parameters: {'learning_rate_init': 0.028475064371844678, 'hidden_layer_sizes': [20, 20]}. Best is trial 1 with value: 0.24999915314194265.\n",
      "[I 2023-11-06 21:36:07,624] Trial 2 finished with value: 0.2501532440392772 and parameters: {'learning_rate_init': 0.06627351158563095, 'hidden_layer_sizes': [10, 10, 10]}. Best is trial 1 with value: 0.24999915314194265.\n",
      "[I 2023-11-06 21:36:07,626] Trial 4 finished with value: 0.27422234585024624 and parameters: {'learning_rate_init': 0.021757721427106226, 'hidden_layer_sizes': [10, 10]}. Best is trial 1 with value: 0.24999915314194265.\n",
      "[I 2023-11-06 21:36:07,658] Trial 3 finished with value: 0.2322754409752719 and parameters: {'learning_rate_init': 0.05873663495914784, 'hidden_layer_sizes': [5, 5, 5]}. Best is trial 3 with value: 0.2322754409752719.\n",
      "[I 2023-11-06 21:36:07,672] A new study created in Journal with name: linear\n"
     ]
    },
    {
     "name": "stdout",
     "output_type": "stream",
     "text": [
      "random RLM linear\n"
     ]
    },
    {
     "name": "stderr",
     "output_type": "stream",
     "text": [
      "[I 2023-11-06 21:36:07,864] Trial 0 finished with value: 0.2569745426662995 and parameters: {'alpha': 0.07516623791553981, 'l1_ratio': 0.27165961603705924}. Best is trial 0 with value: 0.2569745426662995.\n",
      "[I 2023-11-06 21:36:07,888] Trial 1 finished with value: 0.2571033570069799 and parameters: {'alpha': 0.020874760606872052, 'l1_ratio': 0.4429513853300632}. Best is trial 0 with value: 0.2569745426662995.\n",
      "[I 2023-11-06 21:36:07,915] Trial 2 finished with value: 0.2569794187586049 and parameters: {'alpha': 0.03871367101376458, 'l1_ratio': 0.7767477514125511}. Best is trial 0 with value: 0.2569745426662995.\n",
      "[I 2023-11-06 21:36:07,925] Trial 3 finished with value: 0.2569485466550108 and parameters: {'alpha': 0.05325544469536814, 'l1_ratio': 0.09767998747703388}. Best is trial 3 with value: 0.2569485466550108.\n",
      "[I 2023-11-06 21:36:07,928] Trial 4 finished with value: 0.2569895217444133 and parameters: {'alpha': 0.03623706357320289, 'l1_ratio': 0.5770140182006642}. Best is trial 3 with value: 0.2569485466550108.\n",
      "[I 2023-11-06 21:36:07,939] A new study created in Journal with name: KRR\n"
     ]
    },
    {
     "name": "stdout",
     "output_type": "stream",
     "text": [
      "random RLM KRR\n"
     ]
    },
    {
     "name": "stderr",
     "output_type": "stream",
     "text": [
      "[I 2023-11-06 21:36:09,507] Trial 0 finished with value: 0.2509067334877077 and parameters: {'alpha': 0.9230219868500257, 'gamma': 6.2213568089945545e-15, 'kernel': 'rbf'}. Best is trial 0 with value: 0.2509067334877077.\n",
      "[I 2023-11-06 21:36:09,552] Trial 1 finished with value: 0.25103933778604776 and parameters: {'alpha': 0.15639569368353134, 'gamma': 8.148588294896296e-15, 'kernel': 'laplacian'}. Best is trial 0 with value: 0.2509067334877077.\n",
      "[I 2023-11-06 21:36:09,658] Trial 2 finished with value: 0.25155923825456855 and parameters: {'alpha': 0.036077683015076786, 'gamma': 1.1617860735502961e-15, 'kernel': 'rbf'}. Best is trial 3 with value: 0.25035753476362244.\n",
      "[I 2023-11-06 21:36:09,661] Trial 4 finished with value: 0.25143161322788976 and parameters: {'alpha': 0.4018149473120357, 'gamma': 2.797772180419963e-15, 'kernel': 'linear'}. Best is trial 3 with value: 0.25035753476362244.\n",
      "[I 2023-11-06 21:36:09,664] Trial 3 finished with value: 0.25035753476362244 and parameters: {'alpha': 0.5034594092164986, 'gamma': 7.596321960148274e-15, 'kernel': 'rbf'}. Best is trial 3 with value: 0.25035753476362244.\n",
      "[I 2023-11-06 21:36:09,677] A new study created in Journal with name: GB\n"
     ]
    },
    {
     "name": "stdout",
     "output_type": "stream",
     "text": [
      "random RLM GB\n"
     ]
    },
    {
     "name": "stderr",
     "output_type": "stream",
     "text": [
      "[I 2023-11-06 21:36:15,699] Trial 3 finished with value: 0.24234112253846937 and parameters: {'n_estimators': 50, 'learning_rate': 0.4043371295952096, 'max_depth': 2}. Best is trial 3 with value: 0.24234112253846937.\n",
      "[I 2023-11-06 21:36:15,712] Trial 2 finished with value: 0.24374012420732824 and parameters: {'n_estimators': 500, 'learning_rate': 0.0561704561834485, 'max_depth': 5}. Best is trial 3 with value: 0.24234112253846937.\n",
      "[I 2023-11-06 21:36:15,755] Trial 1 finished with value: 0.2427785767223036 and parameters: {'n_estimators': 50, 'learning_rate': 0.6122634926289041, 'max_depth': 5}. Best is trial 0 with value: 0.24226224000909816.\n",
      "[I 2023-11-06 21:36:15,758] Trial 0 finished with value: 0.24226224000909816 and parameters: {'n_estimators': 20, 'learning_rate': 0.4903477777835727, 'max_depth': 5}. Best is trial 0 with value: 0.24226224000909816.\n",
      "[I 2023-11-06 21:36:15,775] Trial 4 finished with value: 0.24345150732768348 and parameters: {'n_estimators': 10, 'learning_rate': 0.4199412493819117, 'max_depth': 2}. Best is trial 0 with value: 0.24226224000909816.\n",
      "[I 2023-11-06 21:36:15,787] A new study created in Journal with name: RF\n"
     ]
    },
    {
     "name": "stdout",
     "output_type": "stream",
     "text": [
      "random RLM RF\n"
     ]
    },
    {
     "name": "stderr",
     "output_type": "stream",
     "text": [
      "[I 2023-11-06 21:36:36,957] Trial 2 finished with value: 0.23753108987620522 and parameters: {'n_estimators': 20, 'max_features': 'sqrt', 'max_depth': 4}. Best is trial 2 with value: 0.23753108987620522.\n",
      "[I 2023-11-06 21:36:37,010] Trial 1 finished with value: 0.2373498185548646 and parameters: {'n_estimators': 200, 'max_features': 'auto', 'max_depth': 4}. Best is trial 1 with value: 0.2373498185548646.\n",
      "[I 2023-11-06 21:36:37,063] Trial 3 finished with value: 0.23821174979854068 and parameters: {'n_estimators': 50, 'max_features': 'sqrt', 'max_depth': 10}. Best is trial 1 with value: 0.2373498185548646.\n",
      "[I 2023-11-06 21:36:37,102] Trial 4 finished with value: 0.23727899489964566 and parameters: {'n_estimators': 20, 'max_features': 'auto', 'max_depth': 5}. Best is trial 4 with value: 0.23727899489964566.\n",
      "[I 2023-11-06 21:36:37,116] Trial 0 finished with value: 0.23767215214167206 and parameters: {'n_estimators': 200, 'max_features': 'sqrt', 'max_depth': 5}. Best is trial 4 with value: 0.23727899489964566.\n"
     ]
    },
    {
     "ename": "KeyboardInterrupt",
     "evalue": "",
     "output_type": "error",
     "traceback": [
      "\u001b[1;31m---------------------------------------------------------------------------\u001b[0m",
      "\u001b[1;31mKeyboardInterrupt\u001b[0m                         Traceback (most recent call last)",
      "\u001b[1;32m~\\AppData\\Local\\Temp\\ipykernel_20064\\1128513788.py\u001b[0m in \u001b[0;36m<module>\u001b[1;34m\u001b[0m\n\u001b[0;32m     30\u001b[0m                                                 storage=storage, load_if_exists=True)\n\u001b[0;32m     31\u001b[0m                     \u001b[0mtuner\u001b[0m \u001b[1;33m=\u001b[0m \u001b[0mHyperparamTuner\u001b[0m\u001b[1;33m(\u001b[0m\u001b[0mmodel_identifier\u001b[0m\u001b[1;33m,\u001b[0m \u001b[0mX_train\u001b[0m\u001b[1;33m,\u001b[0m \u001b[0my_train\u001b[0m\u001b[1;33m,\u001b[0m \u001b[0mX_test\u001b[0m\u001b[1;33m,\u001b[0m \u001b[0my_test\u001b[0m\u001b[1;33m)\u001b[0m\u001b[1;33m\u001b[0m\u001b[1;33m\u001b[0m\u001b[0m\n\u001b[1;32m---> 32\u001b[1;33m                     \u001b[0mstudy\u001b[0m\u001b[1;33m.\u001b[0m\u001b[0moptimize\u001b[0m\u001b[1;33m(\u001b[0m\u001b[0mtuner\u001b[0m\u001b[1;33m.\u001b[0m\u001b[0mobjective\u001b[0m\u001b[1;33m,\u001b[0m \u001b[0mn_trials\u001b[0m\u001b[1;33m=\u001b[0m\u001b[0mn_trials\u001b[0m\u001b[1;33m,\u001b[0m \u001b[0mn_jobs\u001b[0m\u001b[1;33m=\u001b[0m\u001b[1;33m-\u001b[0m\u001b[1;36m1\u001b[0m\u001b[1;33m)\u001b[0m  \u001b[1;31m# catch=(ValueError,)\u001b[0m\u001b[1;33m\u001b[0m\u001b[1;33m\u001b[0m\u001b[0m\n\u001b[0m\u001b[0;32m     33\u001b[0m                     \u001b[0mjoblib\u001b[0m\u001b[1;33m.\u001b[0m\u001b[0mdump\u001b[0m\u001b[1;33m(\u001b[0m\u001b[0mstudy\u001b[0m\u001b[1;33m,\u001b[0m \u001b[1;34mf\"./project_resources/optuna/{_type}/{splitter_name}/{isozyme}/{model_identifier}.pkl\"\u001b[0m\u001b[1;33m)\u001b[0m\u001b[1;33m\u001b[0m\u001b[1;33m\u001b[0m\u001b[0m\n",
      "\u001b[1;32m~\\anaconda3\\envs\\soc\\lib\\site-packages\\optuna\\study\\study.py\u001b[0m in \u001b[0;36moptimize\u001b[1;34m(self, func, n_trials, timeout, n_jobs, catch, callbacks, gc_after_trial, show_progress_bar)\u001b[0m\n\u001b[0;32m    449\u001b[0m             \u001b[0mcallbacks\u001b[0m\u001b[1;33m=\u001b[0m\u001b[0mcallbacks\u001b[0m\u001b[1;33m,\u001b[0m\u001b[1;33m\u001b[0m\u001b[1;33m\u001b[0m\u001b[0m\n\u001b[0;32m    450\u001b[0m             \u001b[0mgc_after_trial\u001b[0m\u001b[1;33m=\u001b[0m\u001b[0mgc_after_trial\u001b[0m\u001b[1;33m,\u001b[0m\u001b[1;33m\u001b[0m\u001b[1;33m\u001b[0m\u001b[0m\n\u001b[1;32m--> 451\u001b[1;33m             \u001b[0mshow_progress_bar\u001b[0m\u001b[1;33m=\u001b[0m\u001b[0mshow_progress_bar\u001b[0m\u001b[1;33m,\u001b[0m\u001b[1;33m\u001b[0m\u001b[1;33m\u001b[0m\u001b[0m\n\u001b[0m\u001b[0;32m    452\u001b[0m         )\n\u001b[0;32m    453\u001b[0m \u001b[1;33m\u001b[0m\u001b[0m\n",
      "\u001b[1;32m~\\anaconda3\\envs\\soc\\lib\\site-packages\\optuna\\study\\_optimize.py\u001b[0m in \u001b[0;36m_optimize\u001b[1;34m(study, func, n_trials, timeout, n_jobs, catch, callbacks, gc_after_trial, show_progress_bar)\u001b[0m\n\u001b[0;32m    115\u001b[0m                             \u001b[1;32mTrue\u001b[0m\u001b[1;33m,\u001b[0m\u001b[1;33m\u001b[0m\u001b[1;33m\u001b[0m\u001b[0m\n\u001b[0;32m    116\u001b[0m                             \u001b[0mtime_start\u001b[0m\u001b[1;33m,\u001b[0m\u001b[1;33m\u001b[0m\u001b[1;33m\u001b[0m\u001b[0m\n\u001b[1;32m--> 117\u001b[1;33m                             \u001b[0mprogress_bar\u001b[0m\u001b[1;33m,\u001b[0m\u001b[1;33m\u001b[0m\u001b[1;33m\u001b[0m\u001b[0m\n\u001b[0m\u001b[0;32m    118\u001b[0m                         )\n\u001b[0;32m    119\u001b[0m                     )\n",
      "\u001b[1;32m~\\anaconda3\\envs\\soc\\lib\\concurrent\\futures\\_base.py\u001b[0m in \u001b[0;36m__exit__\u001b[1;34m(self, exc_type, exc_val, exc_tb)\u001b[0m\n\u001b[0;32m    621\u001b[0m \u001b[1;33m\u001b[0m\u001b[0m\n\u001b[0;32m    622\u001b[0m     \u001b[1;32mdef\u001b[0m \u001b[0m__exit__\u001b[0m\u001b[1;33m(\u001b[0m\u001b[0mself\u001b[0m\u001b[1;33m,\u001b[0m \u001b[0mexc_type\u001b[0m\u001b[1;33m,\u001b[0m \u001b[0mexc_val\u001b[0m\u001b[1;33m,\u001b[0m \u001b[0mexc_tb\u001b[0m\u001b[1;33m)\u001b[0m\u001b[1;33m:\u001b[0m\u001b[1;33m\u001b[0m\u001b[1;33m\u001b[0m\u001b[0m\n\u001b[1;32m--> 623\u001b[1;33m         \u001b[0mself\u001b[0m\u001b[1;33m.\u001b[0m\u001b[0mshutdown\u001b[0m\u001b[1;33m(\u001b[0m\u001b[0mwait\u001b[0m\u001b[1;33m=\u001b[0m\u001b[1;32mTrue\u001b[0m\u001b[1;33m)\u001b[0m\u001b[1;33m\u001b[0m\u001b[1;33m\u001b[0m\u001b[0m\n\u001b[0m\u001b[0;32m    624\u001b[0m         \u001b[1;32mreturn\u001b[0m \u001b[1;32mFalse\u001b[0m\u001b[1;33m\u001b[0m\u001b[1;33m\u001b[0m\u001b[0m\n\u001b[0;32m    625\u001b[0m \u001b[1;33m\u001b[0m\u001b[0m\n",
      "\u001b[1;32m~\\anaconda3\\envs\\soc\\lib\\concurrent\\futures\\thread.py\u001b[0m in \u001b[0;36mshutdown\u001b[1;34m(self, wait)\u001b[0m\n\u001b[0;32m    214\u001b[0m         \u001b[1;32mif\u001b[0m \u001b[0mwait\u001b[0m\u001b[1;33m:\u001b[0m\u001b[1;33m\u001b[0m\u001b[1;33m\u001b[0m\u001b[0m\n\u001b[0;32m    215\u001b[0m             \u001b[1;32mfor\u001b[0m \u001b[0mt\u001b[0m \u001b[1;32min\u001b[0m \u001b[0mself\u001b[0m\u001b[1;33m.\u001b[0m\u001b[0m_threads\u001b[0m\u001b[1;33m:\u001b[0m\u001b[1;33m\u001b[0m\u001b[1;33m\u001b[0m\u001b[0m\n\u001b[1;32m--> 216\u001b[1;33m                 \u001b[0mt\u001b[0m\u001b[1;33m.\u001b[0m\u001b[0mjoin\u001b[0m\u001b[1;33m(\u001b[0m\u001b[1;33m)\u001b[0m\u001b[1;33m\u001b[0m\u001b[1;33m\u001b[0m\u001b[0m\n\u001b[0m\u001b[0;32m    217\u001b[0m     \u001b[0mshutdown\u001b[0m\u001b[1;33m.\u001b[0m\u001b[0m__doc__\u001b[0m \u001b[1;33m=\u001b[0m \u001b[0m_base\u001b[0m\u001b[1;33m.\u001b[0m\u001b[0mExecutor\u001b[0m\u001b[1;33m.\u001b[0m\u001b[0mshutdown\u001b[0m\u001b[1;33m.\u001b[0m\u001b[0m__doc__\u001b[0m\u001b[1;33m\u001b[0m\u001b[1;33m\u001b[0m\u001b[0m\n",
      "\u001b[1;32m~\\anaconda3\\envs\\soc\\lib\\threading.py\u001b[0m in \u001b[0;36mjoin\u001b[1;34m(self, timeout)\u001b[0m\n\u001b[0;32m   1042\u001b[0m \u001b[1;33m\u001b[0m\u001b[0m\n\u001b[0;32m   1043\u001b[0m         \u001b[1;32mif\u001b[0m \u001b[0mtimeout\u001b[0m \u001b[1;32mis\u001b[0m \u001b[1;32mNone\u001b[0m\u001b[1;33m:\u001b[0m\u001b[1;33m\u001b[0m\u001b[1;33m\u001b[0m\u001b[0m\n\u001b[1;32m-> 1044\u001b[1;33m             \u001b[0mself\u001b[0m\u001b[1;33m.\u001b[0m\u001b[0m_wait_for_tstate_lock\u001b[0m\u001b[1;33m(\u001b[0m\u001b[1;33m)\u001b[0m\u001b[1;33m\u001b[0m\u001b[1;33m\u001b[0m\u001b[0m\n\u001b[0m\u001b[0;32m   1045\u001b[0m         \u001b[1;32melse\u001b[0m\u001b[1;33m:\u001b[0m\u001b[1;33m\u001b[0m\u001b[1;33m\u001b[0m\u001b[0m\n\u001b[0;32m   1046\u001b[0m             \u001b[1;31m# the behavior of a negative timeout isn't documented, but\u001b[0m\u001b[1;33m\u001b[0m\u001b[1;33m\u001b[0m\u001b[1;33m\u001b[0m\u001b[0m\n",
      "\u001b[1;32m~\\anaconda3\\envs\\soc\\lib\\threading.py\u001b[0m in \u001b[0;36m_wait_for_tstate_lock\u001b[1;34m(self, block, timeout)\u001b[0m\n\u001b[0;32m   1058\u001b[0m         \u001b[1;32mif\u001b[0m \u001b[0mlock\u001b[0m \u001b[1;32mis\u001b[0m \u001b[1;32mNone\u001b[0m\u001b[1;33m:\u001b[0m  \u001b[1;31m# already determined that the C code is done\u001b[0m\u001b[1;33m\u001b[0m\u001b[1;33m\u001b[0m\u001b[0m\n\u001b[0;32m   1059\u001b[0m             \u001b[1;32massert\u001b[0m \u001b[0mself\u001b[0m\u001b[1;33m.\u001b[0m\u001b[0m_is_stopped\u001b[0m\u001b[1;33m\u001b[0m\u001b[1;33m\u001b[0m\u001b[0m\n\u001b[1;32m-> 1060\u001b[1;33m         \u001b[1;32melif\u001b[0m \u001b[0mlock\u001b[0m\u001b[1;33m.\u001b[0m\u001b[0macquire\u001b[0m\u001b[1;33m(\u001b[0m\u001b[0mblock\u001b[0m\u001b[1;33m,\u001b[0m \u001b[0mtimeout\u001b[0m\u001b[1;33m)\u001b[0m\u001b[1;33m:\u001b[0m\u001b[1;33m\u001b[0m\u001b[1;33m\u001b[0m\u001b[0m\n\u001b[0m\u001b[0;32m   1061\u001b[0m             \u001b[0mlock\u001b[0m\u001b[1;33m.\u001b[0m\u001b[0mrelease\u001b[0m\u001b[1;33m(\u001b[0m\u001b[1;33m)\u001b[0m\u001b[1;33m\u001b[0m\u001b[1;33m\u001b[0m\u001b[0m\n\u001b[0;32m   1062\u001b[0m             \u001b[0mself\u001b[0m\u001b[1;33m.\u001b[0m\u001b[0m_stop\u001b[0m\u001b[1;33m(\u001b[0m\u001b[1;33m)\u001b[0m\u001b[1;33m\u001b[0m\u001b[1;33m\u001b[0m\u001b[0m\n",
      "\u001b[1;31mKeyboardInterrupt\u001b[0m: "
     ]
    }
   ],
   "source": [
    "sampler = samplers['TPESampler']\n",
    "pruner = pruners[\"BasePruner\"]\n",
    "t_end = time.time() + (60 * 60 * 24)\n",
    "while time.time() < t_end:\n",
    "    # while loop is needed; if instead n_trials was large only one model would be trained\n",
    "    n_trials = 5\n",
    "    for _type in types:\n",
    "        for splitter in splitters:\n",
    "            if splitter == \"rand\":\n",
    "                splitter_name = \"random\"\n",
    "            elif splitter == \"scaff\":\n",
    "                splitter_name = \"scaffold_splitter\"\n",
    "            else:\n",
    "                splitter_name = \"time_split\"\n",
    "\n",
    "            for isozyme in isozymes:\n",
    "                X_train = features[_type][splitter][isozyme][\"train\"]\n",
    "                y_train = np.array(halflives[_type][splitter][isozyme][\"train\"])\n",
    "                X_test = features[_type][splitter][isozyme][\"test\"]\n",
    "                y_test = np.array(halflives[_type][splitter][isozyme][\"test\"])\n",
    "\n",
    "                for model_identifier in model_identifiers:\n",
    "                    print(splitter_name, isozyme, model_identifier)\n",
    "                    lock_obj = optuna.storages.JournalFileOpenLock(f\"./project_resources/optuna/{_type}/{splitter_name}/{isozyme}/{model_identifier}_journal.log\")\n",
    "\n",
    "                    storage = JournalStorage(\n",
    "                        JournalFileStorage(f\"./project_resources/optuna/{_type}/{splitter_name}/{isozyme}/{model_identifier}_journal.log\", lock_obj=lock_obj)\n",
    "                    )\n",
    "                    study = optuna.create_study(study_name=model_identifier, directions=['minimize'], pruner=pruner,\n",
    "                                                storage=storage, load_if_exists=True)\n",
    "                    tuner = HyperparamTuner(model_identifier, X_train, y_train, X_test, y_test)\n",
    "                    study.optimize(tuner.objective, n_trials=n_trials, n_jobs=-1)  # catch=(ValueError,)\n",
    "                    joblib.dump(study, f\"./project_resources/optuna/{_type}/{splitter_name}/{isozyme}/{model_identifier}.pkl\")"
   ]
  },
  {
   "cell_type": "code",
   "execution_count": null,
   "id": "a131929a-d814-4487-aa10-23637ba57e5e",
   "metadata": {},
   "outputs": [],
   "source": []
  }
 ],
 "metadata": {
  "kernelspec": {
   "display_name": "Python 3 (ipykernel)",
   "language": "python",
   "name": "python3"
  },
  "language_info": {
   "codemirror_mode": {
    "name": "ipython",
    "version": 3
   },
   "file_extension": ".py",
   "mimetype": "text/x-python",
   "name": "python",
   "nbconvert_exporter": "python",
   "pygments_lexer": "ipython3",
   "version": "3.7.16"
  }
 },
 "nbformat": 4,
 "nbformat_minor": 5
}
