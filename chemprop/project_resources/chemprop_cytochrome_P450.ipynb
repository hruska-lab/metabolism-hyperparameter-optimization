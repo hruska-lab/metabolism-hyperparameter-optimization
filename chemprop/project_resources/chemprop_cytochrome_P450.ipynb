{
 "cells": [
  {
   "cell_type": "code",
   "execution_count": 1,
   "id": "7baac92b-d38c-4e5d-afbf-4f14ab6f144a",
   "metadata": {},
   "outputs": [],
   "source": [
    "import pandas as pd\n",
    "import os\n",
    "from chembl_webresource_client.new_client import new_client as client\n",
    "import pubchempy as pcp\n",
    "import warnings\n",
    "import traceback"
   ]
  },
  {
   "cell_type": "code",
   "execution_count": 2,
   "id": "9fe737b8-e3a8-4df9-9baa-b38c6a1eb5ff",
   "metadata": {},
   "outputs": [],
   "source": [
    "warnings.filterwarnings(\"ignore\")"
   ]
  },
  {
   "cell_type": "code",
   "execution_count": 3,
   "id": "dbc6d4d6-4037-4216-9b38-a0aee6b9fab6",
   "metadata": {},
   "outputs": [],
   "source": [
    "def abs_file_path(rel_path):\n",
    "    working_dir = os.getcwd()\n",
    "    abs_file_path = os.path.join(working_dir, rel_path.replace(\"\\\\\", \"/\"))\n",
    "    return abs_file_path"
   ]
  },
  {
   "cell_type": "code",
   "execution_count": 4,
   "id": "be407898-c53e-43e1-9e92-bf3a1bd55e92",
   "metadata": {},
   "outputs": [],
   "source": [
    "def smiles_from_mol_id(list_mol_id):\n",
    "    # returns a list of smiles strings for given list of mol ids\n",
    "    list_smiles = []\n",
    "    if \"CHEMBL\" in str(list_mol_id):\n",
    "        for chembl_id in list_mol_id:\n",
    "            molecule = client.molecule\n",
    "            compound = molecule.filter(chembl_id=chembl_id)[0]\n",
    "            list_smiles.append(compound['molecule_structures'][\"canonical_smiles\"])\n",
    "    else:\n",
    "        for cid in list_mol_id:\n",
    "            compound = pcp.Compound.from_cid(cid)\n",
    "            smiles = compound.isomeric_smiles\n",
    "            list_smiles.append(smiles)\n",
    "    return list_smiles"
   ]
  },
  {
   "cell_type": "code",
   "execution_count": 5,
   "id": "1ac03fe5-cd65-4208-b997-c4b399cd6bce",
   "metadata": {},
   "outputs": [],
   "source": [
    "def halflife_formatting(source_df, isozyme):\n",
    "    # creates a correctly formatted list of half-life values from df\n",
    "    list_halflife = []\n",
    "    if isozyme == \"3A4\":\n",
    "        df_adjusted = source_df\n",
    "        list_halflife = df_adjusted[\"Standard Value\"]\n",
    "    if isozyme == \"RLM\":\n",
    "        df_adjusted = source_df.replace({\">30\": '30'})\n",
    "        list_halflife = df_adjusted[\"Half-life (minutes)\"]\n",
    "    if isozyme == \"HLC\":\n",
    "        df_adjusted = source_df\n",
    "        list_halflife = df_adjusted[\"Half-life\"]\n",
    "    return list_halflife"
   ]
  },
  {
   "cell_type": "code",
   "execution_count": 6,
   "id": "17e65c65-07cf-419e-a8d1-cba297f1a6d2",
   "metadata": {},
   "outputs": [],
   "source": [
    "def chemprop_data_formatting(source_csv_file, isozyme, sep=\",\"):\n",
    "    # inputs are relative paths\n",
    "    # creates a correctly formatted csv file for use with the chemprop library\n",
    "    source_df = pd.read_csv(abs_file_path(source_csv_file), sep=sep)\n",
    "\n",
    "    if isozyme + \".csv\" in os.listdir(abs_file_path(\"project_resources\")):\n",
    "        print(f\"{isozyme}.csv already exists in dir\")\n",
    "    else:\n",
    "        if isozyme == \"3A4\":\n",
    "            # additional formatting, since not all molecules have the desired property\n",
    "            source_df = source_df[source_df[\"Standard Type\"] == \"T1/2\"]\n",
    "        try:\n",
    "            mol_ids = source_df[\"Molecule ChEMBL ID\"]\n",
    "        except KeyError:\n",
    "            mol_ids = source_df[\"PUBCHEM_CID\"]\n",
    "        final_df = pd.DataFrame()\n",
    "        final_df[\"smiles\"] = smiles_from_mol_id(mol_ids)\n",
    "        final_df[\"half-life\"] = list(halflife_formatting(source_df, isozyme))\n",
    "        final_df.to_csv(abs_file_path(f\"project_resources/{isozyme}.csv\"), index=False)\n",
    "        print(f\"{isozyme}.csv was successfully created\")"
   ]
  },
  {
   "cell_type": "code",
   "execution_count": null,
   "id": "726f3f6d-2f03-464d-ab7f-f352fe8fefaa",
   "metadata": {},
   "outputs": [],
   "source": []
  }
 ],
 "metadata": {
  "kernelspec": {
   "display_name": "Python 3 (ipykernel)",
   "language": "python",
   "name": "python3"
  },
  "language_info": {
   "codemirror_mode": {
    "name": "ipython",
    "version": 3
   },
   "file_extension": ".py",
   "mimetype": "text/x-python",
   "name": "python",
   "nbconvert_exporter": "python",
   "pygments_lexer": "ipython3",
   "version": "3.11.3"
  }
 },
 "nbformat": 4,
 "nbformat_minor": 5
}
