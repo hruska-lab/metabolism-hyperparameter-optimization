{
 "cells": [
  {
   "cell_type": "code",
   "execution_count": 2,
   "id": "9e1552ad-a611-413a-b0d2-ccd245e4d499",
   "metadata": {
    "tags": []
   },
   "outputs": [
    {
     "name": "stdout",
     "output_type": "stream",
     "text": [
      "importing Jupyter notebook from C:\\Users\\Lukas\\Documents\\datacytochromy\\project_resources\\cytochrome_P450.ipynb\n"
     ]
    }
   ],
   "source": [
    "import sys\n",
    "import numpy as np\n",
    "import pandas as pd\n",
    "from tdc.single_pred import ADME\n",
    "from sklearn.preprocessing import MinMaxScaler\n",
    "from jazzy.api import molecular_vector_from_smiles as mol_vect\n",
    "from project_resources.import_utils import NotebookFinder\n",
    "sys.meta_path.append(NotebookFinder())\n",
    "from project_resources.cytochrome_P450 import load_TDC_data, min_max_scaling"
   ]
  },
  {
   "cell_type": "code",
   "execution_count": 9,
   "id": "94480987-4d95-4c30-8874-689c378dfe02",
   "metadata": {
    "tags": []
   },
   "outputs": [
    {
     "name": "stderr",
     "output_type": "stream",
     "text": [
      "Found local copy...\n",
      "Loading...\n",
      "Done!\n",
      "100%|███████████████████████████████████████████████████████████████████████████████| 667/667 [00:00<00:00, 817.47it/s]\n",
      "Found local copy...\n",
      "Loading...\n",
      "Done!\n"
     ]
    },
    {
     "name": "stdout",
     "output_type": "stream",
     "text": [
      "(466,) (466,) (66,) (66,) (135,) (135,)\n",
      "obach_train.csv already exists in project_resources/jazzy_splits\n",
      "obach_valid.csv already exists in project_resources/jazzy_splits\n",
      "obach_test.csv already exists in project_resources/jazzy_splits\n"
     ]
    },
    {
     "name": "stderr",
     "output_type": "stream",
     "text": [
      "100%|█████████████████████████████████████████████████████████████████████████████| 1102/1102 [00:01<00:00, 861.62it/s]\n",
      "Found local copy...\n",
      "Loading...\n",
      "Done!\n"
     ]
    },
    {
     "name": "stdout",
     "output_type": "stream",
     "text": [
      "(771,) (771,) (110,) (110,) (221,) (221,)\n",
      "microsome_train.csv already exists in project_resources/jazzy_splits\n",
      "microsome_valid.csv already exists in project_resources/jazzy_splits\n",
      "microsome_test.csv already exists in project_resources/jazzy_splits\n"
     ]
    },
    {
     "name": "stderr",
     "output_type": "stream",
     "text": [
      "100%|█████████████████████████████████████████████████████████████████████████████| 1213/1213 [00:01<00:00, 858.99it/s]\n"
     ]
    },
    {
     "name": "stdout",
     "output_type": "stream",
     "text": [
      "(849,) (849,) (121,) (121,) (243,) (243,)\n",
      "hepatocyte_train.csv already exists in project_resources/jazzy_splits\n",
      "hepatocyte_valid.csv already exists in project_resources/jazzy_splits\n",
      "hepatocyte_test.csv already exists in project_resources/jazzy_splits\n"
     ]
    }
   ],
   "source": [
    "# create csv files with Jazzy features if not already created\n",
    "for benchmark in [\"obach\", \"microsome\", \"hepatocyte\"]:\n",
    "    smi_train, target_train, smi_val, target_val, smi_test, target_test = load_TDC_data(benchmark)\n",
    "    print(smi_train.shape, target_train.shape, smi_val.shape, target_val.shape, smi_test.shape, target_test.shape)\n",
    "    \n",
    "    y_train, y_val, y_test = min_max_scaling(target_train, target_val, target_test)\n",
    "    \n",
    "    ml_data_splits = {\"train\": (smi_train, y_train), \"valid\": (smi_val, y_val), \"test\": (smi_test, y_test)}\n",
    "\n",
    "    for split in [\"train\", \"valid\", \"test\"]:\n",
    "        try:\n",
    "            df = pd.read_csv(f\"project_resources/jazzy_splits/{benchmark}_{split}.csv\")\n",
    "            print(f\"{benchmark}_{split}.csv already exists in project_resources/jazzy_splits\")\n",
    "\n",
    "        except FileNotFoundError:\n",
    "            # generate Jazzy features and save to csv files\n",
    "            jazzy_fps = []\n",
    "            jazzy_ys = []\n",
    "\n",
    "            smi_split, y_split = ml_data_splits[split]\n",
    "            for smi, y in zip(smi_split, y_split):\n",
    "                try:\n",
    "                    jazzy_fp = mol_vect(smi)\n",
    "                except:\n",
    "                    jazzy_fp = None\n",
    "                if jazzy_fp and not np.isnan(np.array(list(jazzy_fp.values()))).any():\n",
    "                    jazzy_fp_list = np.array([fp for fp in jazzy_fp.values()])\n",
    "                    jazzy_fps.append(jazzy_fp_list)\n",
    "                    jazzy_ys.append(y)\n",
    "\n",
    "            print(np.array(jazzy_fps).shape, np.array(jazzy_ys).shape)\n",
    "\n",
    "            jazzy_csv = f\"project_resources/jazzy_splits/{benchmark}_{split}.csv\"\n",
    "            df = pd.DataFrame(jazzy_fps, columns=['sdc', 'sdx', 'sa', 'dga', 'dgp', 'dgtot'])\n",
    "            df.insert(0, \"Y\", jazzy_ys)\n",
    "            df.to_csv(jazzy_csv, index=False)\n",
    "            print(f\"{jazzy_csv} was successfully created\")"
   ]
  },
  {
   "cell_type": "code",
   "execution_count": null,
   "id": "ee5f7a2a-be8a-4350-ac92-3ed6883f85a9",
   "metadata": {},
   "outputs": [],
   "source": []
  }
 ],
 "metadata": {
  "kernelspec": {
   "display_name": "Python 3 (ipykernel)",
   "language": "python",
   "name": "python3"
  },
  "language_info": {
   "codemirror_mode": {
    "name": "ipython",
    "version": 3
   },
   "file_extension": ".py",
   "mimetype": "text/x-python",
   "name": "python",
   "nbconvert_exporter": "python",
   "pygments_lexer": "ipython3",
   "version": "3.11.4"
  }
 },
 "nbformat": 4,
 "nbformat_minor": 5
}
