{
 "cells": [
  {
   "cell_type": "code",
   "execution_count": 1,
   "id": "460f62c4-647f-4d27-9ef5-52b7c011cb6e",
   "metadata": {
    "tags": []
   },
   "outputs": [],
   "source": [
    "# isozyme.csv ... three columns in this order: index of mol, smiles, half-life"
   ]
  },
  {
   "cell_type": "code",
   "execution_count": 2,
   "id": "f60df3c7-6f7f-40cf-8da3-99ed173e24b1",
   "metadata": {
    "tags": []
   },
   "outputs": [],
   "source": [
    "# isozyme_data-split.csv ... same three colums, but mols and their indexes are shuffeled\n",
    "# after using ScaffoldSplitter from deepchem on the list of smiles\n",
    "# (how to preserve the pairing between smiles and its index?)\n",
    "# data-splits are [\"train\", \"test\"]"
   ]
  },
  {
   "cell_type": "code",
   "execution_count": 3,
   "id": "90de08e1-e37c-401a-8203-c48e57c08311",
   "metadata": {},
   "outputs": [],
   "source": [
    "# orig 3A4 csv file from ChEMBL -> only mols w/ \"Standard Type\" == \"T1/2\" (must be uppercase*)\n",
    "# and only \"Standard Value\" column -> 3A4.csv w/ 70 mols\n",
    "# * ... mols w/ \"t1/2\" don't have a \"Standard Value\""
   ]
  },
  {
   "cell_type": "code",
   "execution_count": 4,
   "id": "e315a7cc-9c57-40f6-a176-45fc2c6bfdac",
   "metadata": {
    "tags": []
   },
   "outputs": [],
   "source": [
    "# orig RLM csv file from PubChem -> remove invalid smiles (how?*) -> RLM.csv w/ 2524 mols\n",
    "# * ... one way would be to convert them to jazzy molecule features\n",
    "# and remove mols with empty dict"
   ]
  },
  {
   "cell_type": "code",
   "execution_count": 5,
   "id": "437e96ee-c1cc-48a8-be76-c337fd2f35e0",
   "metadata": {
    "tags": []
   },
   "outputs": [],
   "source": [
    "# orig HLC csv file from PubChem -> convert \">30\" to 30 -> HLC.csv w/ 189 mols"
   ]
  },
  {
   "cell_type": "code",
   "execution_count": 1,
   "id": "9e1552ad-a611-413a-b0d2-ccd245e4d499",
   "metadata": {},
   "outputs": [
    {
     "name": "stderr",
     "output_type": "stream",
     "text": [
      "Skipped loading some Tensorflow models, missing a dependency. No module named 'tensorflow'\n",
      "C:\\Users\\Lukas\\anaconda3\\envs\\test_two\\lib\\site-packages\\tqdm\\auto.py:21: TqdmWarning: IProgress not found. Please update jupyter and ipywidgets. See https://ipywidgets.readthedocs.io/en/stable/user_install.html\n",
      "  from .autonotebook import tqdm as notebook_tqdm\n",
      "Skipped loading modules with pytorch-geometric dependency, missing a dependency. No module named 'torch_geometric'\n",
      "Skipped loading modules with pytorch-geometric dependency, missing a dependency. cannot import name 'DMPNN' from 'deepchem.models.torch_models' (C:\\Users\\Lukas\\anaconda3\\envs\\test_two\\lib\\site-packages\\deepchem\\models\\torch_models\\__init__.py)\n",
      "Skipped loading modules with pytorch-lightning dependency, missing a dependency. No module named 'pytorch_lightning'\n",
      "Skipped loading some Jax models, missing a dependency. No module named 'jax'\n"
     ]
    },
    {
     "name": "stdout",
     "output_type": "stream",
     "text": [
      "importing Jupyter notebook from C:\\Users\\Lukas\\Documents\\datacytochromy\\project_resources\\cytochrome_P450.ipynb\n"
     ]
    }
   ],
   "source": [
    "import sys\n",
    "import numpy as np\n",
    "import pandas as pd\n",
    "import deepchem as dc\n",
    "from project_resources.import_utils import NotebookFinder\n",
    "sys.meta_path.append(NotebookFinder())\n",
    "from project_resources.cytochrome_P450 import *"
   ]
  },
  {
   "cell_type": "code",
   "execution_count": 97,
   "id": "d425f5e3-a2ec-47dd-a882-8bc65db5aa1e",
   "metadata": {
    "tags": []
   },
   "outputs": [],
   "source": [
    "isozymes = [\"3A4\", \"RLM\", \"HLC\"]\n",
    "rel_paths = {\n",
    "    \"3A4_source\": r\"project_resources/ChEMBL_3A4.csv\",\n",
    "    \"3A4_sep\": \";\",\n",
    "    \"3A4\": r\"project_resources/3A4.csv\",\n",
    "    \"3A4_train\": r\"project_resources/data_splits/3A4_train.csv\",\n",
    "    \"3A4_test\": r\"project_resources/data_splits/3A4_test.csv\",\n",
    "\n",
    "    \"RLM_source\": r\"project_resources/AID_1508591_datatable_all.csv\",\n",
    "    \"RLM_sep\": \",\",\n",
    "    \"RLM\": r\"project_resources/RLM.csv\",\n",
    "    \"RLM_train\": r\"project_resources/data_splits/RLM_train.csv\",\n",
    "    \"RLM_test\": r\"project_resources/data_splits/RLM_test.csv\",\n",
    "\n",
    "    \"HLC_source\": r\"project_resources/AID_1508603_datatable_all.csv\",\n",
    "    \"HLC_sep\": \",\",\n",
    "    \"HLC\": r\"project_resources/HLC.csv\",\n",
    "    \"HLC_train\": r\"project_resources/data_splits/HLC_train.csv\",\n",
    "    \"HLC_test\": r\"project_resources/data_splits/HLC_test.csv\"\n",
    "}\n",
    "smiles = {}\n",
    "halflife = {}\n",
    "smiles_as_index = {}  # structure: {isozyme: {\"smi\": (idx, halflife),...}}\n",
    "split_smiles = {}"
   ]
  },
  {
   "cell_type": "code",
   "execution_count": 98,
   "id": "6786e0a4-813a-4d3f-abe5-d8cb9bc7df60",
   "metadata": {
    "tags": []
   },
   "outputs": [
    {
     "name": "stdout",
     "output_type": "stream",
     "text": [
      "3A4.csv already exists in dir\n",
      "RLM.csv already exists in dir\n",
      "HLC.csv already exists in dir\n"
     ]
    }
   ],
   "source": [
    "# create and/or load csv files\n",
    "for isozyme in isozymes:\n",
    "    csv_data_formatting(rel_paths[f\"{isozyme}_source\"], isozyme, sep=rel_paths[f\"{isozyme}_sep\"])"
   ]
  },
  {
   "cell_type": "code",
   "execution_count": 99,
   "id": "45c10a3d-0ef8-4071-ae9a-656175d0c4e6",
   "metadata": {},
   "outputs": [
    {
     "name": "stdout",
     "output_type": "stream",
     "text": [
      "['COc1ccc2[nH]cc(CCNC(C)=O)c2c1', 'C[C@@H]1CN(CC(=O)N2CC(C)(C)c3nnc(Cc4ccc(F)cc4F)cc32)[C@@H](CN2Cc3c(F)cccc3C2=O)CN1', 'O=c1[nH]c2ccccc2n1C1CCN(CCCC(c2ccc(F)cc2)c2ccc(F)cc2)CC1', 'C[C@@H]1CN(CC(=O)N2CC(C)(C)c3ncc([C@@H](O)c4ccc(F)cc4)cc32)[C@@H](CN2[C@H](C)COC[C@H]2C)CN1', 'C[C@@H]1CN(CC(=O)N2CC(C)(C)c3ncc(Cc4ccc(F)cc4)cc32)[C@@H](CN2Cc3ccccc3C2=O)CN1']\n",
      "[0.3333, 1.167, 0.045, 0.4667, 0.75]\n",
      "(1, 0.3333)\n",
      "['CCCCOC1=CC=C(C=C1)CC(=O)NO', 'COC1=C(C=C(C=C1)CCN2C(=CC(=O)NC2=S)N)OC', 'COC1=C(C=C(C=C1)Cl)C(=O)NC2=CC=C(C=C2)NC(=O)C3=CC=CO3', 'CC(C)(C)N1C2=NC=NC(=C2C(=N1)C3=CC=C(C=C3)Cl)N', 'CN1C2=CC=CC=C2C(=O)C3=C1N=C(N(C3=O)C4=CC=CC=C4)C5CCCCC5']\n",
      "[30.0, 30.0, 30.0, 30.0, 30.0]\n",
      "(1, 30.0)\n",
      "['CC1=CC2=CC(=NC(=C2O1)NC3=CC(=CC=C3)F)C4=C(ON=C4C)C', 'CN(CC1=CC(=CC=C1)F)C2CCOC3=CC=CC=C23', 'C1COC2=C1C(=CN=C2NC3=CN=CN=C3)C4=CC(=CC=C4)F', 'C1CN(C2=C1C=CC=N2)C(=O)C3=CC=C(C=C3)C4=NC=C5N4C=C(N=C5)C6=CC(=CC=C6)F', 'CC1=CC=C(C=C1)NC(=O)C2=C(N3C=CSC3=N2)C4=CC=CC(=C4)C#N']\n",
      "[8.2, 8.6, 9.6, 17.3, 17.4]\n",
      "(1, 8.2)\n"
     ]
    }
   ],
   "source": [
    "# read smiles, their idxs and corresponding half-life as tuple(idx, smiles, half-life)\n",
    "for isozyme in isozymes:\n",
    "    df = pd.read_csv(rel_paths[isozyme])\n",
    "    index = df[\"mol_idx\"]\n",
    "    smiles[isozyme] = []\n",
    "    smiles[isozyme] = list(df[\"smiles\"])\n",
    "    df_halflife = df[\"half-life\"]\n",
    "    smiles_as_index[isozyme] = {}\n",
    "    halflife[isozyme] = []\n",
    "    for idx, smi, val in zip(index, smiles[isozyme], df_halflife):\n",
    "        smiles_as_index[isozyme][smi] = (idx, val)\n",
    "        halflife[isozyme].append(val)\n",
    "    first_smiles = smiles[isozyme][0]\n",
    "    print(f\"{smiles[isozyme][:5]}\\n{halflife[isozyme][:5]}\\n{smiles_as_index[isozyme][first_smiles]}\")"
   ]
  },
  {
   "cell_type": "code",
   "execution_count": 100,
   "id": "dec6f81f-4eaa-4f93-b657-4d855b5dd41d",
   "metadata": {},
   "outputs": [
    {
     "name": "stdout",
     "output_type": "stream",
     "text": [
      "3A4\n",
      "train:\n",
      "['COc1cccc([C@@H](CO)NC(=O)[C@@H](C)N2Cc3ccc(-c4nc(NC5CCOCC5)ncc4Cl)cc3C2=O)c1', 'COc1cc(F)cc([C@H](NC(=O)CN2Cc3ccc(-c4nc(NC5CCOCC5)ncc4Cl)cc3C2=O)C(C)O)c1', 'COc1cc(F)cc([C@@H](CO)NC(=O)[C@@H](C)N2Cc3ccc(-c4ccnc(NC5CCOCC5)n4)cc3C2=O)c1', 'Cc1cccc([C@@H](CO)NC(=O)CN2Cc3ccc(-c4nc(NC5CCOCC5)ncc4Cl)cc3C2=O)c1', 'Cc1cccc([C@@H](CO)NC(=O)[C@@H](C)N2Cc3ccc(-c4nc(NC5CCOCC5)ncc4Cl)cc3C2=O)c1']\n",
      "test:\n",
      "['O=C1CCC(N2C(=O)c3cccc(NCCOCCOCCNC(=O)c4ccc5c(c4)nc(Nc4cccc(Cl)c4)c4ccncc45)c3C2=O)C(=O)N1', 'O=C(CCCN1CCC(n2c(=O)[nH]c3ccccc32)CC1)c1ccc(F)cc1', 'O=C(NC1CCN(CCc2c[nH]c3ccccc23)CC1)c1ccccc1', 'Cc1ncsc1-c1ccc([C@H](CC(=O)NCCCCCCNC(=O)COc2c(-c3csc(N4CCOCC4)n3)ccc(F)c2F)NC(=O)[C@@H]2C[C@@H](O)CN2C(=O)[C@@H](NC(=O)C2(F)CC2)C(C)(C)C)cc1', 'COc1ccc(CCN2CCC(Nc3nc4ccccc4n3Cc3ccc(F)cc3)CC2)cc1']\n",
      "\n",
      "RLM\n",
      "train:\n",
      "['CS(=O)(=O)C1=CC=CC=C1C2=CSC(=N2)N3CCC(CC3)C(=O)N', 'C1CN(CCC1C(=O)N)C2=NC(=CS2)C3=CC(=CC=C3)N', 'CC(=O)NC1=CC=C(C=C1)C2=CSC(=N2)N3CCC(CC3)C(=O)N', 'CN(C)C(=O)C1=CC=CC(=C1)C2=CSC(=N2)N3CCC(CC3)C(=O)N', 'CS(=O)(=O)C1=CC=C(C=C1)C2=CSC(=N2)N3CCC(CC3)C(=O)N']\n",
      "test:\n",
      "['CN1C2=C(C=C(C=C2)S(=O)(=O)N(C)C)C=C1C(=O)NCCCOC', 'C1CCC(CC1)C(=O)NC2=CC=CC=C2C(=O)NC3=CC=CC(=C3)C(F)(F)F', 'C1CCC(CC1)CN2CCC(CC2)C3=NN(C(=O)N3)CC4=CC=CC=C4', 'COC1=C(C(=CC(=C1)CNCCO)Cl)OCC2=C(C=C(C=C2)Cl)Cl.Cl', 'CC1=CC(=NC2=C(C=NN12)C(=O)NC3=CC=C(C=C3)C#C)C']\n",
      "\n",
      "HLC\n",
      "train:\n",
      "['CC1=C(C=CC(=C1)F)OC2CN(C2)CC3=CC=C(C=C3)C#N', 'CC1=C(C=CC(=C1)OC2CN(C2)CC3=CC=C(C=C3)C#N)F', 'C1C(CN1CC2=CC=C(C=C2)C#N)OC3=C(C=C(C=C3)F)F', 'C1C(CN1CC2=CC=C(C=C2)C#N)OC3=CC(=C(C=C3)F)F', 'COC1=CC=C(C=C1)OC2CN(C2)CC3=CC=C(C=C3)C#N']\n",
      "test:\n",
      "['C1COC[C@H](N1CC2=CN=CN2)C3=NC=C(N3)C4=CC(=CC=C4)F', 'C1COC[C@H](N1CC2=CN=CN2)C3=NC=C(N3)C4=CC=CC=C4', 'C1[C@H]([C@@H](CN1CC2=CC(=CC=C2)C#N)C3=CC=CC=N3)CO', 'COC1=CC=CC(=C1)CN2C[C@H]([C@@H](C2)C3=CC=CC=N3)CO', 'CC(C)(C)C1=COC(=N1)[C@@H]2COCCN2CC3=CC(=CC=C3)C#N']\n",
      "\n"
     ]
    }
   ],
   "source": [
    "# train-test split with deepchem's ScaffoldSplitter\n",
    "for isozyme in isozymes:\n",
    "    identifiers = smiles[isozyme]\n",
    "    Xs = np.zeros(len(identifiers))\n",
    "    dataset = dc.data.DiskDataset.from_numpy(X=Xs, ids=identifiers)\n",
    "    scaffoldsplitter = dc.splits.ScaffoldSplitter()\n",
    "    train, test = scaffoldsplitter.train_test_split(dataset)\n",
    "    split_smiles[isozyme] = {}\n",
    "    split_smiles[isozyme][\"train\"] = train.ids.tolist()\n",
    "    split_smiles[isozyme][\"test\"] = test.ids.tolist()\n",
    "    print(f\"{isozyme}\\ntrain:\\n{split_smiles[isozyme]['train'][:5]}\\ntest:\\n{split_smiles[isozyme]['test'][:5]}\\n\")"
   ]
  },
  {
   "cell_type": "code",
   "execution_count": 101,
   "id": "038a56d4-b783-4665-86bb-1ad6a7a9ec37",
   "metadata": {},
   "outputs": [],
   "source": [
    "for isozyme in isozymes:\n",
    "    for split in [\"train\", \"test\"]:\n",
    "        split_df = pd.DataFrame()\n",
    "        split_indexes = []\n",
    "        split_halflifes = []\n",
    "        isozyme_split_smiles = split_smiles[isozyme][split]\n",
    "\n",
    "        # get the index and half-life values for each smiles in data split\n",
    "        for smi in isozyme_split_smiles:\n",
    "            smi_idx = smiles_as_index[isozyme][smi][0]  # numerical index of smiles\n",
    "            split_indexes.append(smi_idx)\n",
    "            mol_halflife = smiles_as_index[isozyme][smi][1]  # half-life value for the specific molecule\n",
    "            split_halflifes.append(mol_halflife)\n",
    "\n",
    "        split_df[\"index\"] = split_indexes\n",
    "        split_df[\"smiles\"] = isozyme_split_smiles\n",
    "        split_df[\"half-life\"] = split_halflifes\n",
    "        split_df.to_csv(rel_paths[f\"{isozyme}_{split}\"], index=False)"
   ]
  },
  {
   "cell_type": "code",
   "execution_count": null,
   "id": "45c5d367-cb71-4570-8a4e-8f4db4ede287",
   "metadata": {},
   "outputs": [],
   "source": []
  }
 ],
 "metadata": {
  "kernelspec": {
   "display_name": "Python 3 (ipykernel)",
   "language": "python",
   "name": "python3"
  },
  "language_info": {
   "codemirror_mode": {
    "name": "ipython",
    "version": 3
   },
   "file_extension": ".py",
   "mimetype": "text/x-python",
   "name": "python",
   "nbconvert_exporter": "python",
   "pygments_lexer": "ipython3",
   "version": "3.7.16"
  }
 },
 "nbformat": 4,
 "nbformat_minor": 5
}
