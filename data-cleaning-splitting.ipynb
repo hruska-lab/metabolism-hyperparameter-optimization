{
 "cells": [
  {
   "cell_type": "code",
   "execution_count": 1,
   "id": "460f62c4-647f-4d27-9ef5-52b7c011cb6e",
   "metadata": {
    "tags": []
   },
   "outputs": [],
   "source": [
    "# isozyme.csv ... three columns in this order: index of mol, smiles, half-life"
   ]
  },
  {
   "cell_type": "code",
   "execution_count": 2,
   "id": "f60df3c7-6f7f-40cf-8da3-99ed173e24b1",
   "metadata": {
    "tags": []
   },
   "outputs": [],
   "source": [
    "# isozyme_data-split.csv ... same three colums, but mols and their indexes are shuffeled\n",
    "# after using ScaffoldSplitter from deepchem on the list of smiles\n",
    "# (how to preserve the pairing between smiles and its index?)\n",
    "# data-splits are [\"train\", \"test\"]"
   ]
  },
  {
   "cell_type": "code",
   "execution_count": 3,
   "id": "90de08e1-e37c-401a-8203-c48e57c08311",
   "metadata": {},
   "outputs": [],
   "source": [
    "# orig 3A4 csv file from ChEMBL -> only mols w/ \"Standard Type\" == \"T1/2\" (must be uppercase*)\n",
    "# and only \"Standard Value\" column -> 3A4.csv w/ 70 mols\n",
    "# * ... mols w/ \"t1/2\" don't have a \"Standard Value\""
   ]
  },
  {
   "cell_type": "code",
   "execution_count": 4,
   "id": "e315a7cc-9c57-40f6-a176-45fc2c6bfdac",
   "metadata": {
    "tags": []
   },
   "outputs": [],
   "source": [
    "# orig RLM csv file from PubChem -> remove invalid smiles (how?*) -> RLM.csv w/ 2524 mols\n",
    "# * ... one way would be to convert them to jazzy molecule features\n",
    "# and remove mols with empty dict"
   ]
  },
  {
   "cell_type": "code",
   "execution_count": 5,
   "id": "437e96ee-c1cc-48a8-be76-c337fd2f35e0",
   "metadata": {
    "tags": []
   },
   "outputs": [],
   "source": [
    "# orig HLC csv file from PubChem -> convert \">30\" to 30 -> HLC.csv w/ 189 mols"
   ]
  },
  {
   "cell_type": "code",
   "execution_count": 6,
   "id": "9e1552ad-a611-413a-b0d2-ccd245e4d499",
   "metadata": {},
   "outputs": [
    {
     "name": "stderr",
     "output_type": "stream",
     "text": [
      "Skipped loading some Tensorflow models, missing a dependency. No module named 'tensorflow'\n",
      "C:\\Users\\Lukas\\anaconda3\\envs\\soc\\lib\\site-packages\\tqdm\\auto.py:21: TqdmWarning: IProgress not found. Please update jupyter and ipywidgets. See https://ipywidgets.readthedocs.io/en/stable/user_install.html\n",
      "  from .autonotebook import tqdm as notebook_tqdm\n",
      "Skipped loading modules with pytorch-geometric dependency, missing a dependency. No module named 'torch_geometric'\n",
      "Skipped loading modules with pytorch-geometric dependency, missing a dependency. cannot import name 'DMPNN' from 'deepchem.models.torch_models' (C:\\Users\\Lukas\\anaconda3\\envs\\soc\\lib\\site-packages\\deepchem\\models\\torch_models\\__init__.py)\n",
      "Skipped loading modules with pytorch-lightning dependency, missing a dependency. No module named 'pytorch_lightning'\n",
      "Skipped loading some Jax models, missing a dependency. No module named 'jax'\n"
     ]
    },
    {
     "name": "stdout",
     "output_type": "stream",
     "text": [
      "importing Jupyter notebook from C:\\Users\\Lukas\\Documents\\datacytochromy\\project_resources\\cytochrome_P450.ipynb\n"
     ]
    }
   ],
   "source": [
    "import sys\n",
    "import numpy as np\n",
    "import pandas as pd\n",
    "import deepchem as dc\n",
    "from sklearn.model_selection import train_test_split\n",
    "from project_resources.import_utils import NotebookFinder\n",
    "sys.meta_path.append(NotebookFinder())\n",
    "from project_resources.cytochrome_P450 import isz_csv_data_formatting, split_csv_data_formatting"
   ]
  },
  {
   "cell_type": "code",
   "execution_count": 7,
   "id": "d425f5e3-a2ec-47dd-a882-8bc65db5aa1e",
   "metadata": {
    "tags": []
   },
   "outputs": [],
   "source": [
    "isozymes = [\"3A4\", \"RLM\", \"HLC\"]\n",
    "rel_paths = {\n",
    "    \"3A4_source\": r\"project_resources/ChEMBL_3A4.csv\",\n",
    "    \"3A4_sep\": \";\",\n",
    "    \"3A4\": r\"project_resources/3A4.csv\",\n",
    "    \"3A4_train_scaff\": r\"project_resources/data_splits/scaffold_splitter/3A4_train.csv\",\n",
    "    \"3A4_test_scaff\": r\"project_resources/data_splits/scaffold_splitter/3A4_test.csv\",\n",
    "    \"3A4_train_rand\": r\"project_resources/data_splits/random/3A4_train.csv\",\n",
    "    \"3A4_test_rand\": r\"project_resources/data_splits/random/3A4_test.csv\",\n",
    "\n",
    "    \"RLM_source\": r\"project_resources/AID_1508591_datatable_all.csv\",\n",
    "    \"RLM_sep\": \",\",\n",
    "    \"RLM\": r\"project_resources/RLM.csv\",\n",
    "    \"RLM_train_scaff\": r\"project_resources/data_splits/scaffold_splitter/RLM_train.csv\",\n",
    "    \"RLM_test_scaff\": r\"project_resources/data_splits/scaffold_splitter/RLM_test.csv\",\n",
    "    \"RLM_train_rand\": r\"project_resources/data_splits/random/RLM_train.csv\",\n",
    "    \"RLM_test_rand\": r\"project_resources/data_splits/random/RLM_test.csv\",\n",
    "\n",
    "\n",
    "    \"HLC_source\": r\"project_resources/AID_1508603_datatable_all.csv\",\n",
    "    \"HLC_sep\": \",\",\n",
    "    \"HLC\": r\"project_resources/HLC.csv\",\n",
    "    \"HLC_train_scaff\": r\"project_resources/data_splits/scaffold_splitter/HLC_train.csv\",\n",
    "    \"HLC_test_scaff\": r\"project_resources/data_splits/scaffold_splitter/HLC_test.csv\",\n",
    "    \"HLC_train_rand\": r\"project_resources/data_splits/random/HLC_train.csv\",\n",
    "    \"HLC_test_rand\": r\"project_resources/data_splits/random/HLC_test.csv\"\n",
    "}\n",
    "smiles = {}\n",
    "halflife = {}\n",
    "smiles_as_index = {}  # structure: {isozyme: {\"smi\": (idx, halflife),...}}\n",
    "scaff_split_smiles = {}\n",
    "rand_split_smiles = {}"
   ]
  },
  {
   "cell_type": "code",
   "execution_count": 8,
   "id": "6786e0a4-813a-4d3f-abe5-d8cb9bc7df60",
   "metadata": {
    "tags": []
   },
   "outputs": [
    {
     "name": "stdout",
     "output_type": "stream",
     "text": [
      "3A4.csv already exists in dir\n",
      "RLM.csv already exists in dir\n",
      "HLC.csv already exists in dir\n"
     ]
    }
   ],
   "source": [
    "# create and/or load csv files\n",
    "for isozyme in isozymes:\n",
    "    isz_csv_data_formatting(rel_paths[f\"{isozyme}_source\"], isozyme, sep=rel_paths[f\"{isozyme}_sep\"])"
   ]
  },
  {
   "cell_type": "code",
   "execution_count": 9,
   "id": "45c10a3d-0ef8-4071-ae9a-656175d0c4e6",
   "metadata": {},
   "outputs": [
    {
     "name": "stdout",
     "output_type": "stream",
     "text": [
      "['COc1ccc2[nH]cc(CCNC(C)=O)c2c1', 'C[C@@H]1CN(CC(=O)N2CC(C)(C)c3nnc(Cc4ccc(F)cc4F)cc32)[C@@H](CN2Cc3c(F)cccc3C2=O)CN1', 'O=c1[nH]c2ccccc2n1C1CCN(CCCC(c2ccc(F)cc2)c2ccc(F)cc2)CC1', 'C[C@@H]1CN(CC(=O)N2CC(C)(C)c3ncc([C@@H](O)c4ccc(F)cc4)cc32)[C@@H](CN2[C@H](C)COC[C@H]2C)CN1', 'C[C@@H]1CN(CC(=O)N2CC(C)(C)c3ncc(Cc4ccc(F)cc4)cc32)[C@@H](CN2Cc3ccccc3C2=O)CN1']\n",
      "[0.3333, 1.167, 0.045, 0.4667, 0.75]\n",
      "(1, 0.3333)\n",
      "['CCCCOc1ccc(CC(=O)NO)cc1', 'COc1ccc(CCn2c(N)cc(=O)[nH]c2=S)cc1OC', 'COc1ccc(Cl)cc1C(=O)Nc1ccc(NC(=O)c2ccco2)cc1', 'CC(C)(C)n1nc(-c2ccc(Cl)cc2)c2c(N)ncnc21', 'Cn1c2ccccc2c(=O)c2c(=O)n(-c3ccccc3)c(C3CCCCC3)nc21']\n",
      "[30.0, 30.0, 30.0, 30.0, 30.0]\n",
      "(1.0, 30.0)\n",
      "['CC1=CC2=CC(=NC(=C2O1)NC3=CC(=CC=C3)F)C4=C(ON=C4C)C', 'CN(CC1=CC(=CC=C1)F)C2CCOC3=CC=CC=C23', 'C1COC2=C1C(=CN=C2NC3=CN=CN=C3)C4=CC(=CC=C4)F', 'C1CN(C2=C1C=CC=N2)C(=O)C3=CC=C(C=C3)C4=NC=C5N4C=C(N=C5)C6=CC(=CC=C6)F', 'CC1=CC=C(C=C1)NC(=O)C2=C(N3C=CSC3=N2)C4=CC=CC(=C4)C#N']\n",
      "[8.2, 8.6, 9.6, 17.3, 17.4]\n",
      "(1, 8.2)\n"
     ]
    }
   ],
   "source": [
    "# read smiles, their idxs and corresponding half-life as tuple(idx, smiles, half-life)\n",
    "for isozyme in isozymes:\n",
    "    df = pd.read_csv(rel_paths[isozyme])\n",
    "    index = df[\"mol_idx\"]\n",
    "    smiles[isozyme] = []\n",
    "    smiles[isozyme] = list(df[\"smiles\"])\n",
    "    df_halflife = df[\"half-life\"]\n",
    "    smiles_as_index[isozyme] = {}\n",
    "    halflife[isozyme] = []\n",
    "    for idx, smi, val in zip(index, smiles[isozyme], df_halflife):\n",
    "        smiles_as_index[isozyme][smi] = (idx, val)\n",
    "        halflife[isozyme].append(val)\n",
    "    first_smiles = smiles[isozyme][0]\n",
    "    print(f\"{smiles[isozyme][:5]}\\n{halflife[isozyme][:5]}\\n{smiles_as_index[isozyme][first_smiles]}\")"
   ]
  },
  {
   "cell_type": "code",
   "execution_count": 10,
   "id": "dec6f81f-4eaa-4f93-b657-4d855b5dd41d",
   "metadata": {},
   "outputs": [
    {
     "name": "stdout",
     "output_type": "stream",
     "text": [
      "3A4\n",
      "train: 56\n",
      "test: 14\n",
      "\n",
      "RLM\n",
      "train: 2024\n",
      "test: 507\n",
      "\n",
      "HLC\n",
      "train: 151\n",
      "test: 38\n",
      "\n"
     ]
    }
   ],
   "source": [
    "# train-test split with deepchem's ScaffoldSplitter\n",
    "for isozyme in isozymes:\n",
    "    identifiers = smiles[isozyme]\n",
    "    Xs = np.zeros(len(identifiers))\n",
    "    dataset = dc.data.DiskDataset.from_numpy(X=Xs, ids=identifiers)\n",
    "    scaffoldsplitter = dc.splits.ScaffoldSplitter()\n",
    "    train, test = scaffoldsplitter.train_test_split(dataset)\n",
    "    scaff_split_smiles[isozyme] = {}\n",
    "    scaff_split_smiles[isozyme][\"train\"] = train.ids.tolist()\n",
    "    scaff_split_smiles[isozyme][\"test\"] = test.ids.tolist()\n",
    "    print(f\"{isozyme}\\ntrain: {len(scaff_split_smiles[isozyme]['train'])}\\ntest: {len(scaff_split_smiles[isozyme]['test'])}\\n\")"
   ]
  },
  {
   "cell_type": "code",
   "execution_count": 11,
   "id": "f5b78ef5-7dc0-4837-832a-abc3699439a1",
   "metadata": {},
   "outputs": [
    {
     "name": "stdout",
     "output_type": "stream",
     "text": [
      "3A4_train.csv already exists in project_resources/base_splits/scaffold_splitter\n",
      "3A4_test.csv already exists in project_resources/base_splits/scaffold_splitter\n",
      "RLM_train.csv already exists in project_resources/base_splits/scaffold_splitter\n",
      "RLM_test.csv already exists in project_resources/base_splits/scaffold_splitter\n",
      "HLC_train.csv already exists in project_resources/base_splits/scaffold_splitter\n",
      "HLC_test.csv already exists in project_resources/base_splits/scaffold_splitter\n"
     ]
    }
   ],
   "source": [
    "# save the ScaffoldSplitter splits to csv files\n",
    "for isozyme in isozymes:\n",
    "    split_csv_data_formatting(isozyme, smiles_as_index, scaff_split_smiles[isozyme], \"scaffold_splitter\")"
   ]
  },
  {
   "cell_type": "code",
   "execution_count": 12,
   "id": "42b735c1-7e27-460e-b22f-ad3b58671404",
   "metadata": {},
   "outputs": [
    {
     "name": "stdout",
     "output_type": "stream",
     "text": [
      "3A4\n",
      "train: 56\n",
      "test: 14\n",
      "\n",
      "RLM\n",
      "train: 2024\n",
      "test: 507\n",
      "\n",
      "HLC\n",
      "train: 151\n",
      "test: 38\n",
      "\n"
     ]
    }
   ],
   "source": [
    "# random train-test split\n",
    "for isozyme in isozymes:\n",
    "    rand_train, rand_test = train_test_split(smiles[isozyme], test_size=0.2, random_state=42)\n",
    "    rand_split_smiles[isozyme] = {}\n",
    "    rand_split_smiles[isozyme][\"train\"] = rand_train\n",
    "    rand_split_smiles[isozyme][\"test\"] = rand_test\n",
    "    print(f\"{isozyme}\\ntrain: {len(rand_split_smiles[isozyme]['train'])}\\ntest: {len(rand_split_smiles[isozyme]['test'])}\\n\")"
   ]
  },
  {
   "cell_type": "code",
   "execution_count": 13,
   "id": "45c5d367-cb71-4570-8a4e-8f4db4ede287",
   "metadata": {},
   "outputs": [
    {
     "name": "stdout",
     "output_type": "stream",
     "text": [
      "3A4_train.csv already exists in project_resources/base_splits/random\n",
      "3A4_test.csv already exists in project_resources/base_splits/random\n",
      "RLM_train.csv already exists in project_resources/base_splits/random\n",
      "RLM_test.csv already exists in project_resources/base_splits/random\n",
      "HLC_train.csv already exists in project_resources/base_splits/random\n",
      "HLC_test.csv already exists in project_resources/base_splits/random\n"
     ]
    }
   ],
   "source": [
    "# save the random splits to csv files\n",
    "for isozyme in isozymes:\n",
    "    split_csv_data_formatting(isozyme, smiles_as_index, rand_split_smiles[isozyme], \"random\")"
   ]
  },
  {
   "cell_type": "code",
   "execution_count": null,
   "id": "802f64d9-5e55-42c1-98b7-7a23bad91348",
   "metadata": {},
   "outputs": [],
   "source": []
  }
 ],
 "metadata": {
  "kernelspec": {
   "display_name": "Python 3 (ipykernel)",
   "language": "python",
   "name": "python3"
  },
  "language_info": {
   "codemirror_mode": {
    "name": "ipython",
    "version": 3
   },
   "file_extension": ".py",
   "mimetype": "text/x-python",
   "name": "python",
   "nbconvert_exporter": "python",
   "pygments_lexer": "ipython3",
   "version": "3.7.16"
  }
 },
 "nbformat": 4,
 "nbformat_minor": 5
}
