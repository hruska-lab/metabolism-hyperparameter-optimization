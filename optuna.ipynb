{
 "cells": [
  {
   "cell_type": "code",
   "execution_count": 10,
   "id": "242a09de-23f5-4730-8da4-b5a8af954cf2",
   "metadata": {
    "tags": []
   },
   "outputs": [],
   "source": [
    "import optuna\n",
    "import joblib\n",
    "import numpy as np\n",
    "import pandas as pd\n",
    "import sys\n",
    "import csv\n",
    "import os\n",
    "from concurrent.futures import ThreadPoolExecutor\n",
    "from optuna.storages import JournalStorage, JournalFileStorage\n",
    "from project_resources.import_utils import NotebookFinder\n",
    "sys.meta_path.append(NotebookFinder())\n",
    "from project_resources.it4i_resources import fp_from_smiles, HyperparamTuner, parse_jazzy_df"
   ]
  },
  {
   "cell_type": "code",
   "execution_count": 11,
   "id": "8acd3cb9-f603-4a24-9090-d651a9d7a281",
   "metadata": {
    "jupyter": {
     "source_hidden": true
    },
    "tags": []
   },
   "outputs": [],
   "source": [
    "types = [\"morgan\", \"jazzy\"]\n",
    "splitters = [\"rand\", \"scaff\", \"time\"]\n",
    "model_identifiers = [\"linear\", \"KRR\", \"GB\", \"RF\", \"ANN\"]\n",
    "isozymes = [\"3A4\", \"RLM\", \"HLC\"]\n",
    "data_splits = [\"train\", \"test\"]\n",
    "rel_paths = {\n",
    "    \"morgan_3A4_train_scaff\": r\"project_resources/base_splits/scaffold_splitter/3A4_train.csv\",\n",
    "    \"morgan_3A4_train_rand\": r\"project_resources/base_splits/random/3A4_train.csv\",\n",
    "    \"morgan_3A4_train_time\": r\"project_resources/base_splits/time_split/3A4_train.csv\",\n",
    "    \"morgan_RLM_train_scaff\": r\"project_resources/base_splits/scaffold_splitter/RLM_train.csv\",\n",
    "    \"morgan_RLM_train_rand\": r\"project_resources/base_splits/random/RLM_train.csv\",\n",
    "    \"morgan_RLM_train_time\": r\"project_resources/base_splits/time_split/RLM_train.csv\",\n",
    "    \"morgan_HLC_train_scaff\": r\"project_resources/base_splits/scaffold_splitter/HLC_train.csv\",\n",
    "    \"morgan_HLC_train_rand\": r\"project_resources/base_splits/random/HLC_train.csv\",\n",
    "    \"morgan_HLC_train_time\": r\"project_resources/base_splits/time_split/HLC_train.csv\",\n",
    "\n",
    "    \"morgan_3A4_test_scaff\": r\"project_resources/base_splits/scaffold_splitter/3A4_test.csv\",\n",
    "    \"morgan_3A4_test_rand\": r\"project_resources/base_splits/random/3A4_test.csv\",\n",
    "    \"morgan_3A4_test_time\": r\"project_resources/base_splits/time_split/3A4_test.csv\",\n",
    "    \"morgan_RLM_test_scaff\": r\"project_resources/base_splits/scaffold_splitter/RLM_test.csv\",\n",
    "    \"morgan_RLM_test_rand\": r\"project_resources/base_splits/random/RLM_test.csv\",\n",
    "    \"morgan_RLM_test_time\": r\"project_resources/base_splits/time_split/RLM_test.csv\",\n",
    "    \"morgan_HLC_test_scaff\": r\"project_resources/base_splits/scaffold_splitter/HLC_test.csv\",\n",
    "    \"morgan_HLC_test_rand\": r\"project_resources/base_splits/random/HLC_test.csv\",\n",
    "    \"morgan_HLC_test_time\": r\"project_resources/base_splits/time_split/HLC_test.csv\",\n",
    "\n",
    "    \"jazzy_3A4_train_scaff\": r\"project_resources/jazzy_splits/scaffold_splitter/3A4_train.csv\",\n",
    "    \"jazzy_3A4_train_rand\": r\"project_resources/jazzy_splits/random/3A4_train.csv\",\n",
    "    \"jazzy_3A4_train_time\": r\"project_resources/jazzy_splits/time_split/3A4_train.csv\",\n",
    "    \"jazzy_RLM_train_scaff\": r\"project_resources/jazzy_splits/scaffold_splitter/RLM_train.csv\",\n",
    "    \"jazzy_RLM_train_rand\": r\"project_resources/jazzy_splits/random/RLM_train.csv\",\n",
    "    \"jazzy_RLM_train_time\": r\"project_resources/jazzy_splits/time_split/RLM_train.csv\",\n",
    "    \"jazzy_HLC_train_scaff\": r\"project_resources/jazzy_splits/scaffold_splitter/HLC_train.csv\",\n",
    "    \"jazzy_HLC_train_rand\": r\"project_resources/jazzy_splits/random/HLC_train.csv\",\n",
    "    \"jazzy_HLC_train_time\": r\"project_resources/jazzy_splits/time_split/HLC_train.csv\",\n",
    "\n",
    "    \"jazzy_3A4_test_scaff\": r\"project_resources/jazzy_splits/scaffold_splitter/3A4_test.csv\",\n",
    "    \"jazzy_3A4_test_rand\": r\"project_resources/jazzy_splits/random/3A4_test.csv\",\n",
    "    \"jazzy_3A4_test_time\": r\"project_resources/jazzy_splits/time_split/3A4_test.csv\",\n",
    "    \"jazzy_RLM_test_scaff\": r\"project_resources/jazzy_splits/scaffold_splitter/RLM_test.csv\",\n",
    "    \"jazzy_RLM_test_rand\": r\"project_resources/jazzy_splits/random/RLM_test.csv\",\n",
    "    \"jazzy_RLM_test_time\": r\"project_resources/jazzy_splits/time_split/RLM_test.csv\",\n",
    "    \"jazzy_HLC_test_scaff\": r\"project_resources/jazzy_splits/scaffold_splitter/HLC_test.csv\",\n",
    "    \"jazzy_HLC_test_rand\": r\"project_resources/jazzy_splits/random/HLC_test.csv\",\n",
    "    \"jazzy_HLC_test_time\": r\"project_resources/jazzy_splits/time_split/HLC_test.csv\"\n",
    "}\n",
    "# sampler - a method used to generate new sets of hyperparameters in each iteration of the optimization process\n",
    "samplers = {\n",
    "    'RandomSampler': optuna.samplers.RandomSampler,          # Sampler that selects hyperparameters randomly from the search space.\n",
    "    'GridSampler': optuna.samplers.GridSampler,              # Sampler that performs a grid search over the hyperparameter space.\n",
    "    'TPESampler': optuna.samplers.TPESampler,                # Sampler that uses a tree-structured Parzen estimator to model the objective function and sample new points from the search space.\n",
    "    'CmaEsSampler': optuna.samplers.CmaEsSampler,            # Sampler that uses the Covariance Matrix Adaptation Evolution Strategy algorithm to efficiently search the hyperparameter space.\n",
    "    'NSGAIISampler': optuna.samplers.NSGAIISampler,          # Multi-objective evolutionary algorithm that generates new samples using non-dominated sorting and crowding distance selection.\n",
    "    'QMCSampler': optuna.samplers.QMCSampler,                # Quasi-Monte Carlo sampler that uses low-discrepancy sequences to sample the search space in a more efficient and evenly distributed way than random sampling.\n",
    "    'BoTorchSampler': optuna.integration.BoTorchSampler,     # Sampler that leverages the BoTorch library for Bayesian optimization and can handle both continuous and categorical hyperparameters.\n",
    "    'BruteForceSampler': optuna.samplers.BruteForceSampler,  # Sampler that exhaustively evaluates all possible combinations of hyperparameters in the search space.\n",
    "}\n",
    "# pruner - a technique used to eliminate unpromising trials during the course of hyperparameter optimization.\n",
    "pruners = {\n",
    "    'BasePruner': optuna.pruners.BasePruner,                            # This is the base class for all pruning strategies in Optuna. It provides a skeleton for implementing custom pruning strategies.\n",
    "    'MedianPruner': optuna.pruners.MedianPruner,                        # A pruner that prunes unpromising trials that have median objective values, as determined in previous steps.\n",
    "    'SuccessiveHalvingPruner': optuna.pruners.SuccessiveHalvingPruner,  # This pruner repeatedly splits trials into halves, discarding the lower performing half at each iteration.\n",
    "    'HyperbandPruner': optuna.pruners.HyperbandPruner,                  # This pruner implements the Hyperband algorithm, which selects promising trials and runs them with different resource allocation schemes to determine the best one.\n",
    "    'PercentilePruner': optuna.pruners.PercentilePruner,                # A pruner that prunes unpromising trials based on their percentile rank relative to all completed trials.\n",
    "    'NopPruner': optuna.pruners.NopPruner,                              # A pruner that does nothing and does not prune any trials.\n",
    "    'ThresholdPruner': optuna.pruners.ThresholdPruner,                  # This pruner prunes trials that have not reached a certain level of performance (i.e., objective value).\n",
    "    'PatientPruner': optuna.pruners.PatientPruner,                      # This pruner prunes trials that do not show improvement over a certain number of steps (or epochs).\n",
    "}\n",
    "smiles = {}\n",
    "halflives = {}\n",
    "features = {}"
   ]
  },
  {
   "cell_type": "code",
   "execution_count": 12,
   "id": "9aabaed0-25a1-4ae2-9e56-08fefe995d08",
   "metadata": {
    "jupyter": {
     "source_hidden": true
    },
    "tags": []
   },
   "outputs": [
    {
     "name": "stdout",
     "output_type": "stream",
     "text": [
      "\n",
      "\n",
      "rand\n",
      "3A4 train\n",
      "CC(C)(O)c1cc(F)c2c(c1)C(=O)N(Cc1ccc(Cl)cn1)[C@@]2(OCC1(O)CC1)c1ccc(Cl)cc1 0.9999999999999998\n",
      "3A4 test\n",
      "Cc1ncsc1-c1ccc([C@H](CC(=O)NCCCCCCNC(=O)COc2c(-c3csc(N4CCOCC4)n3)ccc(F)c2F)NC(=O)[C@@H]2C[C@@H](O)CN2C(=O)[C@@H](NC(=O)C2(F)CC2)C(C)(C)C)cc1 0.0622624201077031\n",
      "RLM train\n",
      "CN1C(=O)c2ccccc2[S@+]([O-])c2ccc(C(=O)NCc3ccc(Br)cc3)cc21 0.4181064270905321\n",
      "RLM test\n",
      "CC(=O)c1c(C)[nH]c(C(=O)Nc2cccc([S+](=O)([O-])Nc3cccc(C#N)c3)c2)c1C 0.8327574291637871\n",
      "HLC train\n",
      "N#Cc1ccc(CN2CCC(N3CCNC3=O)CC2)cc1 0.7615658362989324\n",
      "HLC test\n",
      "c1ccc(Nc2ncc(-c3cncnc3)c3c2OCC3)cc1 1.0\n",
      "\n",
      "\n",
      "scaff\n",
      "3A4 train\n",
      "COc1cccc([C@@H](CO)NC(=O)[C@@H](C)N2Cc3ccc(-c4nc(NC5CCOCC5)ncc4Cl)cc3C2=O)c1 0.0147310164129507\n",
      "3A4 test\n",
      "O=C1CCC(N2C(=O)c3cccc(NCCOCCOCCNC(=O)c4ccc5c(c4)nc(Nc4cccc(Cl)c4)c4ccncc45)c3C2=O)C(=O)N1 0.0400167292931223\n",
      "RLM train\n",
      "CNC(=O)C1CCN(c2nc(-c3ccc(Br)cc3)cs2)CC1 0.8728403593642018\n",
      "RLM test\n",
      "O=c1cc(CN2CCCN(c3ccc(C(F)(F)F)cn3)CC2)nc2ccccn12 0.2695231513476157\n",
      "HLC train\n",
      "Cc1cc(F)ccc1OC1CN(Cc2ccc(C#N)cc2)C1 0.2473309608540924\n",
      "HLC test\n",
      "Fc1cccc(-c2cnc([C@@H]3COCCN3Cc3cnc[nH]3)[nH]2)c1 0.4599644128113878\n",
      "\n",
      "\n",
      "time\n",
      "3A4 train\n",
      "O=C(NC1CCN(CCc2c[nH]c3ccccc23)CC1)c1ccccc1 0.0439188969472542\n",
      "3A4 test\n",
      "COc1cc(F)cc([C@@H](CO)NC(=O)[C@@H](C)N2Cc3ccc(-c4nc(NC5COC5)ncc4Cl)cc3C2=O)c1 0.1384047171537122\n",
      "RLM train\n",
      "O=c1c(O)c(-c2ccc(O)cc2)oc2cc(O)cc(O)c12 0.1807187284035936\n",
      "RLM test\n",
      "COc1cc(C(=O)Nc2nc(-c3ccccc3)cs2)ccc1NS(=O)(=O)c1ccc(C)cc1 0.1485832757429163\n",
      "HLC train\n",
      "O=C(Nc1cnc(-c2ccccc2)nc1)c1ccccc1 1.0\n",
      "HLC test\n",
      "Cc1ccccc1-c1[nH]nc2ncc(-c3ccccc3)nc12 0.7215302491103203\n"
     ]
    }
   ],
   "source": [
    "# load smiles used for ML with Morgan features\n",
    "smiles[\"morgan\"] = {}\n",
    "halflives[\"morgan\"] = {}\n",
    "for splitter in splitters:\n",
    "    print(\"\\n\")\n",
    "    print(splitter)\n",
    "    smiles[\"morgan\"][splitter] = {}\n",
    "    halflives[\"morgan\"][splitter] = {}\n",
    "    for isozyme in isozymes:\n",
    "        smiles[\"morgan\"][splitter][isozyme] = {}\n",
    "        halflives[\"morgan\"][splitter][isozyme] = {}\n",
    "        for split in data_splits:\n",
    "            print(isozyme, split)\n",
    "            df = pd.read_csv(rel_paths[f\"morgan_{isozyme}_{split}_{splitter}\"])\n",
    "            df_smiles = list(df[\"smiles\"])\n",
    "            df_halflives = list(df[\"half-life\"])\n",
    "            smiles[\"morgan\"][splitter][isozyme][split] = df_smiles\n",
    "            halflives[\"morgan\"][splitter][isozyme][split] = df_halflives\n",
    "            print(smiles[\"morgan\"][splitter][isozyme][split][0], halflives[\"morgan\"][splitter][isozyme][split][0])"
   ]
  },
  {
   "cell_type": "code",
   "execution_count": 13,
   "id": "912fdda6-ac86-4fbf-97ca-281ad32ac807",
   "metadata": {
    "jupyter": {
     "source_hidden": true
    },
    "tags": []
   },
   "outputs": [
    {
     "name": "stdout",
     "output_type": "stream",
     "text": [
      "rand 3A4 train\n",
      "first ten bits of the frist element: [1 1 1 0 1 0 1 1 1 1], number of bit vectors: 56\n",
      "rand 3A4 test\n",
      "first ten bits of the frist element: [1 1 1 1 1 1 0 1 1 0], number of bit vectors: 14\n",
      "\n",
      "\n",
      "rand RLM train\n",
      "first ten bits of the frist element: [0 1 1 0 0 1 1 1 0 0], number of bit vectors: 1421\n",
      "rand RLM test\n",
      "first ten bits of the frist element: [0 0 0 0 0 1 1 0 1 0], number of bit vectors: 356\n",
      "\n",
      "\n",
      "rand HLC train\n",
      "first ten bits of the frist element: [0 0 0 1 1 0 1 0 0 1], number of bit vectors: 151\n",
      "rand HLC test\n",
      "first ten bits of the frist element: [0 1 0 0 0 0 0 0 0 0], number of bit vectors: 38\n",
      "\n",
      "\n",
      "scaff 3A4 train\n",
      "first ten bits of the frist element: [0 1 0 1 0 1 1 1 0 1], number of bit vectors: 56\n",
      "scaff 3A4 test\n",
      "first ten bits of the frist element: [0 1 1 1 0 1 0 0 0 1], number of bit vectors: 14\n",
      "\n",
      "\n",
      "scaff RLM train\n",
      "first ten bits of the frist element: [0 1 0 1 0 1 0 0 0 0], number of bit vectors: 1421\n",
      "scaff RLM test\n",
      "first ten bits of the frist element: [0 1 0 1 0 0 0 0 1 1], number of bit vectors: 356\n",
      "\n",
      "\n",
      "scaff HLC train\n",
      "first ten bits of the frist element: [0 0 0 0 0 0 1 1 0 1], number of bit vectors: 151\n",
      "scaff HLC test\n",
      "first ten bits of the frist element: [0 0 1 0 0 1 0 1 0 1], number of bit vectors: 38\n",
      "\n",
      "\n",
      "time 3A4 train\n",
      "first ten bits of the frist element: [0 0 1 0 0 1 0 1 0 1], number of bit vectors: 56\n",
      "time 3A4 test\n",
      "first ten bits of the frist element: [0 1 0 1 1 1 1 1 0 1], number of bit vectors: 14\n",
      "\n",
      "\n",
      "time RLM train\n",
      "first ten bits of the frist element: [1 0 1 0 0 1 0 0 1 0], number of bit vectors: 1421\n",
      "time RLM test\n",
      "first ten bits of the frist element: [0 0 0 1 0 1 0 0 0 1], number of bit vectors: 356\n",
      "\n",
      "\n",
      "time HLC train\n",
      "first ten bits of the frist element: [0 0 0 0 0 1 1 0 0 1], number of bit vectors: 151\n",
      "time HLC test\n",
      "first ten bits of the frist element: [0 0 0 1 0 0 0 0 0 0], number of bit vectors: 38\n",
      "\n",
      "\n"
     ]
    }
   ],
   "source": [
    "# smiles to Morgan fingerprint\n",
    "features[\"morgan\"] = {}  # need to destinguish between Jazzy and Morngan since Jazzy ommits some mols\n",
    "for splitter in splitters:\n",
    "    features[\"morgan\"][splitter] = {}\n",
    "    for isozyme in isozymes:\n",
    "        features[\"morgan\"][splitter][isozyme] = {}\n",
    "        for data_split in data_splits:\n",
    "            fps = fp_from_smiles(smiles[\"morgan\"][splitter][isozyme][data_split])\n",
    "            features[\"morgan\"][splitter][isozyme][data_split] = np.array(fps)\n",
    "            print(splitter, isozyme, data_split)\n",
    "            print(f\"first ten bits of the frist element: {fps[0][:10]}, number of bit vectors: {len(fps)}\")\n",
    "        print(\"\\n\")"
   ]
  },
  {
   "cell_type": "code",
   "execution_count": 14,
   "id": "bcf627e0-97f8-4c51-a225-d68fc1081999",
   "metadata": {
    "jupyter": {
     "source_hidden": true
    },
    "tags": []
   },
   "outputs": [
    {
     "name": "stdout",
     "output_type": "stream",
     "text": [
      "\n",
      "\n",
      "rand\n",
      "3A4 train\n",
      "     56, [63, 'CC(C)(O)c1cc(F)c2c(c1)C(=O)N(Cc1ccc(Cl)cn1)[C@@]2(OCC1(O)CC1)c1ccc(Cl)cc1', 0.9999999999999998, 13.1753, 1.4177, 11.3044, -7.3559, -125.8906, -119.4889]\n",
      "(56,) (56, 6) (56,)\n",
      "     [  13.1753    1.4177   11.3044   -7.3559 -125.8906 -119.4889]\n",
      "     3A4 mol_features train contains NaN: False\n",
      "3A4 test\n",
      "     14, [23, 'Cc1ncsc1-c1ccc([C@H](CC(=O)NCCCCCCNC(=O)COc2c(-c3csc(N4CCOCC4)n3)ccc(F)c2F)NC(=O)[C@@H]2C[C@@H](O)CN2C(=O)[C@@H](NC(=O)C2(F)CC2)C(C)(C)C)cc1', 0.0622624201077031, 28.4327, 3.274, 23.4872, -4.0348, -286.1545, -257.0326]\n",
      "(14,) (14, 6) (14,)\n",
      "     [  28.4327    3.274    23.4872   -4.0348 -286.1545 -257.0326]\n",
      "     3A4 mol_features test contains NaN: False\n",
      "RLM train\n",
      "     removed index 325 corresponding to NaN\n",
      "     removed index 678 corresponding to NaN\n",
      "     removed index 725 corresponding to NaN\n",
      "     removed index 1053 corresponding to NaN\n",
      "     1417, [439, 'CN1C(=O)c2ccccc2[S@+]([O-])c2ccc(C(=O)NCc3ccc(Br)cc3)cc21', 0.4181064270905321, 10.3104, 0.7256, 7.5559, -14.2816, -86.2027, -96.3091]\n",
      "(1417,) (1417, 6) (1417,)\n",
      "     [ 10.3104   0.7256   7.5559 -14.2816 -86.2027 -96.3091]\n",
      "     RLM mol_features train contains NaN: False\n",
      "RLM test\n",
      "     356, [66, 'CC(=O)c1c(C)[nH]c(C(=O)Nc2cccc([S+](=O)([O-])Nc3cccc(C#N)c3)c2)c1C', 0.8327574291637871, 10.4683, 2.4345, 9.1374, -15.7732, -116.2014, -124.8128]\n",
      "(356,) (356, 6) (356,)\n",
      "     [  10.4683    2.4345    9.1374  -15.7732 -116.2014 -124.8128]\n",
      "     RLM mol_features test contains NaN: False\n",
      "HLC train\n",
      "     151, [36, 'N#Cc1ccc(CN2CCC(N3CCNC3=O)CC2)cc1', 0.7615658362989324, 8.7086, 0.7824, 4.7992, -7.9813, -74.8159, -75.7409]\n",
      "(151,) (151, 6) (151,)\n",
      "     [  8.7086   0.7824   4.7992  -7.9813 -74.8159 -75.7409]\n",
      "     HLC mol_features train contains NaN: False\n",
      "HLC test\n",
      "     38, [185, 'c1ccc(Nc2ncc(-c3cncnc3)c3c2OCC3)cc1', 1.0, 7.6502, 0.7908, 4.359, -17.5939, -69.2221, -78.0498]\n",
      "(38,) (38, 6) (38,)\n",
      "     [  7.6502   0.7908   4.359  -17.5939 -69.2221 -78.0498]\n",
      "     HLC mol_features test contains NaN: False\n",
      "\n",
      "\n",
      "scaff\n",
      "3A4 train\n",
      "     56, [30, 'COc1cccc([C@@H](CO)NC(=O)[C@@H](C)N2Cc3ccc(-c4nc(NC5CCOCC5)ncc4Cl)cc3C2=O)c1', 0.0147310164129507, 16.2478, 2.1011, 12.7179, -10.0882, -164.348, -156.2467]\n",
      "(56,) (56, 6) (56,)\n",
      "     [  16.2478    2.1011   12.7179  -10.0882 -164.348  -156.2467]\n",
      "     3A4 mol_features train contains NaN: False\n",
      "3A4 test\n",
      "     14, [29, 'O=C1CCC(N2C(=O)c3cccc(NCCOCCOCCNC(=O)c4ccc5c(c4)nc(Nc4cccc(Cl)c4)c4ccncc45)c3C2=O)C(=O)N1', 0.0400167292931223, 18.7621, 3.2764, 15.83, -24.805, -206.8013, -216.3639]\n",
      "(14,) (14, 6) (14,)\n",
      "     [  18.7621    3.2764   15.83    -24.805  -206.8013 -216.3639]\n",
      "     3A4 mol_features test contains NaN: False\n",
      "RLM train\n",
      "     removed index 627 corresponding to NaN\n",
      "     removed index 628 corresponding to NaN\n",
      "     removed index 1065 corresponding to NaN\n",
      "     removed index 1109 corresponding to NaN\n",
      "     1417, [41, 'CNC(=O)C1CCN(c2nc(-c3ccc(Br)cc3)cs2)CC1', 0.8728403593642018, 8.8766, 0.5795, 5.4967, -5.3755, -74.4969, -72.179]\n",
      "(1417,) (1417, 6) (1417,)\n",
      "     [  8.8766   0.5795   5.4967  -5.3755 -74.4969 -72.179 ]\n",
      "     RLM mol_features train contains NaN: False\n",
      "RLM test\n",
      "     356, [675, 'O=c1cc(CN2CCCN(c3ccc(C(F)(F)F)cn3)CC2)nc2ccccn12', 0.2695231513476157, 11.6693, 0.0, 8.7277, -7.9637, -109.4358, -87.089]\n",
      "(356,) (356, 6) (356,)\n",
      "     [  11.6693    0.        8.7277   -7.9637 -109.4358  -87.089 ]\n",
      "     RLM mol_features test contains NaN: False\n",
      "HLC train\n",
      "     151, [9, 'Cc1cc(F)ccc1OC1CN(Cc2ccc(C#N)cc2)C1', 0.2473309608540924, 8.9224, 0.0, 4.8259, -11.1508, -61.3626, -68.7406]\n",
      "(151,) (151, 6) (151,)\n",
      "     [  8.9224   0.       4.8259 -11.1508 -61.3626 -68.7406]\n",
      "     HLC mol_features train contains NaN: False\n",
      "HLC test\n",
      "     38, [20, 'Fc1cccc(-c2cnc([C@@H]3COCCN3Cc3cnc[nH]3)[nH]2)c1', 0.4599644128113878, 8.6917, 1.4354, 6.9778, -10.2452, -97.3783, -101.0987]\n",
      "(38,) (38, 6) (38,)\n",
      "     [   8.6917    1.4354    6.9778  -10.2452  -97.3783 -101.0987]\n",
      "     HLC mol_features test contains NaN: False\n",
      "\n",
      "\n",
      "time\n",
      "3A4 train\n",
      "     56, [25, 'O=C(NC1CCN(CCc2c[nH]c3ccccc23)CC1)c1ccccc1', 0.0439188969472542, 9.3803, 1.1336, 4.4019, -10.2484, -68.9045, -79.1529]\n",
      "(56,) (56, 6) (56,)\n",
      "     [  9.3803   1.1336   4.4019 -10.2484 -68.9045 -79.1529]\n",
      "     3A4 mol_features train contains NaN: False\n",
      "3A4 test\n",
      "     14, [44, 'COc1cc(F)cc([C@@H](CO)NC(=O)[C@@H](C)N2Cc3ccc(-c4nc(NC5COC5)ncc4Cl)cc3C2=O)c1', 0.1384047171537122, 15.1005, 2.4247, 13.7023, -11.5729, -168.823, -163.9418]\n",
      "(14,) (14, 6) (14,)\n",
      "     [  15.1005    2.4247   13.7023  -11.5729 -168.823  -163.9418]\n",
      "     3A4 mol_features test contains NaN: False\n",
      "RLM train\n",
      "     removed index 1085 corresponding to NaN\n",
      "     1420, [865, 'O=c1c(O)c(-c2ccc(O)cc2)oc2cc(O)cc(O)c12', 0.1807187284035936, 4.8109, 4.2098, 9.0356, -15.906, -100.4349, -116.3409]\n",
      "(1420,) (1420, 6) (1420,)\n",
      "     [   4.8109    4.2098    9.0356  -15.906  -100.4349 -116.3409]\n",
      "     RLM mol_features train contains NaN: False\n",
      "RLM test\n",
      "     removed index 149 corresponding to NaN\n",
      "     removed index 152 corresponding to NaN\n",
      "     removed index 165 corresponding to NaN\n",
      "     353, [963, 'COc1cc(C(=O)Nc2nc(-c3ccccc3)cs2)ccc1NS(=O)(=O)c1ccc(C)cc1', 0.1485832757429163, 10.6471, 1.8191, 7.4917, -18.2286, -98.1729, -109.0432]\n",
      "(353,) (353, 6) (353,)\n",
      "     [  10.6471    1.8191    7.4917  -18.2286  -98.1729 -109.0432]\n",
      "     RLM mol_features test contains NaN: False\n",
      "HLC train\n",
      "     151, [107, 'O=C(Nc1cnc(-c2ccccc2)nc1)c1ccccc1', 1.0, 7.4704, 0.6471, 3.9158, -15.3358, -60.546, -70.5429]\n",
      "(151,) (151, 6) (151,)\n",
      "     [  7.4704   0.6471   3.9158 -15.3358 -60.546  -70.5429]\n",
      "     HLC mol_features train contains NaN: False\n",
      "HLC test\n",
      "     38, [104, 'Cc1ccccc1-c1[nH]nc2ncc(-c3ccccc3)nc12', 0.7215302491103203, 6.5793, 0.7599, 2.616, -18.8676, -48.3099, -58.8456]\n",
      "(38,) (38, 6) (38,)\n",
      "     [  6.5793   0.7599   2.616  -18.8676 -48.3099 -58.8456]\n",
      "     HLC mol_features test contains NaN: False\n"
     ]
    }
   ],
   "source": [
    "# load Jazzy features from csv files and their corresponding smiles\n",
    "smiles[\"jazzy\"] = {}\n",
    "halflives[\"jazzy\"] = {}\n",
    "features[\"jazzy\"] = {}\n",
    "for splitter in splitters:\n",
    "    print(\"\\n\")\n",
    "    print(splitter)\n",
    "    features[\"jazzy\"][splitter] = {}\n",
    "    smiles[\"jazzy\"][splitter] = {}\n",
    "    halflives[\"jazzy\"][splitter] = {}\n",
    "    for isozyme in isozymes:\n",
    "        features[\"jazzy\"][splitter][isozyme] = {}\n",
    "        smiles[\"jazzy\"][splitter][isozyme] = {}\n",
    "        halflives[\"jazzy\"][splitter][isozyme] = {}\n",
    "        for split in data_splits:\n",
    "            print(isozyme, split)\n",
    "            df = pd.read_csv(rel_paths[f\"jazzy_{isozyme}_{split}_{splitter}\"])\n",
    "            jazzy_smiles, df_features, thalfs, contains_nan = parse_jazzy_df(df)\n",
    "            smiles[\"jazzy\"][splitter][isozyme][split] = jazzy_smiles\n",
    "            features[\"jazzy\"][splitter][isozyme][split] = df_features\n",
    "            halflives[\"jazzy\"][splitter][isozyme][split] = thalfs\n",
    "            print(smiles[\"jazzy\"][splitter][isozyme][split].shape, features[\"jazzy\"][splitter][isozyme][split].shape, halflives[\"jazzy\"][splitter][isozyme][split].shape)\n",
    "            print(f\"     {features['jazzy'][splitter][isozyme][split][0]}\")\n",
    "            print(f\"     {isozyme} mol_features {split} contains NaN: {contains_nan}\")"
   ]
  },
  {
   "cell_type": "code",
   "execution_count": null,
   "id": "a393390f-b4a5-4cb3-8c30-a6f360103f47",
   "metadata": {
    "tags": []
   },
   "outputs": [
    {
     "name": "stderr",
     "output_type": "stream",
     "text": [
      "[I 2023-11-27 13:14:16,754] Using an existing study with name 'linear' instead of creating a new one.\n"
     ]
    },
    {
     "name": "stdout",
     "output_type": "stream",
     "text": [
      "random 3A4 linear\n",
      "Successfully updated linear.csv with results of trial 32\n",
      "Successfully updated linear.csv with results of trial 33\n",
      "Successfully updated linear.csv with results of trial 34\n",
      "Successfully updated linear.csv with results of trial 37\n",
      "Successfully updated linear.csv with results of trial 35\n",
      "Successfully updated linear.csv with results of trial 40\n",
      "Successfully updated linear.csv with results of trial 41\n",
      "Successfully updated linear.csv with results of trial 39\n",
      "Successfully updated linear.csv with results of trial 42\n"
     ]
    },
    {
     "name": "stderr",
     "output_type": "stream",
     "text": [
      "[I 2023-11-27 13:14:18,014] Trial 32 finished with value: 0.2124860688525485 and parameters: {'alpha': 0.09909578431423297, 'l1_ratio': 0.293355297963277}. Best is trial 33 with value: 0.20601768045423993.\n",
      "[I 2023-11-27 13:14:18,028] Trial 33 finished with value: 0.20601768045423993 and parameters: {'alpha': 0.06090957156981829, 'l1_ratio': 0.29423050373341286}. Best is trial 33 with value: 0.20601768045423993.\n"
     ]
    },
    {
     "name": "stdout",
     "output_type": "stream",
     "text": [
      "Successfully updated linear.csv with results of trial 38\n",
      "Successfully updated linear.csv with results of trial 36\n",
      "Successfully updated linear.csv with results of trial 43\n"
     ]
    },
    {
     "name": "stderr",
     "output_type": "stream",
     "text": [
      "[I 2023-11-27 13:14:18,220] Trial 37 finished with value: 0.21521618720557792 and parameters: {'alpha': 0.05969957595849992, 'l1_ratio': 0.28249725107551427}. Best is trial 38 with value: 0.20492296644951669.\n",
      "[I 2023-11-27 13:14:18,291] Trial 35 finished with value: 0.21098747692767406 and parameters: {'alpha': 0.05999572797804189, 'l1_ratio': 0.2934272252980652}. Best is trial 38 with value: 0.20492296644951669.\n",
      "[I 2023-11-27 13:14:18,323] Trial 38 finished with value: 0.20492296644951669 and parameters: {'alpha': 0.060699659735167596, 'l1_ratio': 0.26158456217529874}. Best is trial 38 with value: 0.20492296644951669.\n",
      "[I 2023-11-27 13:14:18,369] Trial 43 finished with value: 0.21213946894031233 and parameters: {'alpha': 0.061616099250322104, 'l1_ratio': 0.283280025735217}. Best is trial 38 with value: 0.20492296644951669.\n",
      "[I 2023-11-27 13:14:18,393] Trial 34 finished with value: 0.2136142139403742 and parameters: {'alpha': 0.060970625959435226, 'l1_ratio': 0.2648198063631224}. Best is trial 38 with value: 0.20492296644951669.\n",
      "[I 2023-11-27 13:14:18,398] Trial 39 finished with value: 0.21646447070976735 and parameters: {'alpha': 0.0587076026328619, 'l1_ratio': 0.27249825874823447}. Best is trial 38 with value: 0.20492296644951669.\n",
      "[I 2023-11-27 13:14:18,425] Trial 40 finished with value: 0.20993667876994526 and parameters: {'alpha': 0.05860847584757354, 'l1_ratio': 0.2691928117500913}. Best is trial 38 with value: 0.20492296644951669.\n",
      "[I 2023-11-27 13:14:18,437] Trial 41 finished with value: 0.20673659429168204 and parameters: {'alpha': 0.09890259053828471, 'l1_ratio': 0.285976967677674}. Best is trial 38 with value: 0.20492296644951669.\n",
      "[I 2023-11-27 13:14:18,661] Trial 36 finished with value: 0.21851896926586187 and parameters: {'alpha': 0.07526299619481937, 'l1_ratio': 0.29501980726815286}. Best is trial 38 with value: 0.20492296644951669.\n"
     ]
    },
    {
     "name": "stdout",
     "output_type": "stream",
     "text": [
      "Successfully updated linear.csv with results of trial 45\n",
      "Successfully updated linear.csv with results of trial 44\n",
      "Successfully updated linear.csv with results of trial 50\n"
     ]
    },
    {
     "name": "stderr",
     "output_type": "stream",
     "text": [
      "[I 2023-11-27 13:14:19,046] Trial 42 finished with value: 0.20152112634160754 and parameters: {'alpha': 0.09967235240926092, 'l1_ratio': 0.27854405674547156}. Best is trial 42 with value: 0.20152112634160754.\n",
      "[I 2023-11-27 13:14:19,081] Trial 45 finished with value: 0.2047990408299045 and parameters: {'alpha': 0.07526817719618789, 'l1_ratio': 0.15238856073064155}. Best is trial 42 with value: 0.20152112634160754.\n"
     ]
    },
    {
     "name": "stdout",
     "output_type": "stream",
     "text": [
      "Successfully updated linear.csv with results of trial 47\n",
      "Successfully updated linear.csv with results of trial 51\n"
     ]
    },
    {
     "name": "stderr",
     "output_type": "stream",
     "text": [
      "[I 2023-11-27 13:14:19,475] Trial 47 finished with value: 0.21299165261162203 and parameters: {'alpha': 0.07873934879534866, 'l1_ratio': 0.19970428400055756}. Best is trial 42 with value: 0.20152112634160754.\n"
     ]
    },
    {
     "name": "stdout",
     "output_type": "stream",
     "text": [
      "Successfully updated linear.csv with results of trial 48\n",
      "Successfully updated linear.csv with results of trial 53\n",
      "Successfully updated linear.csv with results of trial 52\n"
     ]
    },
    {
     "name": "stderr",
     "output_type": "stream",
     "text": [
      "[I 2023-11-27 13:14:19,521] Trial 44 finished with value: 0.21355208100574385 and parameters: {'alpha': 0.07707432890724637, 'l1_ratio': 0.1700094926247735}. Best is trial 42 with value: 0.20152112634160754.\n"
     ]
    },
    {
     "name": "stdout",
     "output_type": "stream",
     "text": [
      "Successfully updated linear.csv with results of trial 49\n",
      "Successfully updated linear.csv with results of trial 54\n",
      "Successfully updated linear.csv with results of trial 46\n"
     ]
    },
    {
     "name": "stderr",
     "output_type": "stream",
     "text": [
      "[I 2023-11-27 13:14:19,818] Trial 50 finished with value: 0.21173980643385204 and parameters: {'alpha': 0.07530847532734651, 'l1_ratio': 0.19719771637488212}. Best is trial 42 with value: 0.20152112634160754.\n",
      "[I 2023-11-27 13:14:19,819] Trial 48 finished with value: 0.20951147157202973 and parameters: {'alpha': 0.0774659015887374, 'l1_ratio': 0.20083670649570137}. Best is trial 42 with value: 0.20152112634160754.\n"
     ]
    },
    {
     "name": "stdout",
     "output_type": "stream",
     "text": [
      "Successfully updated linear.csv with results of trial 56\n",
      "Successfully updated linear.csv with results of trial 55\n"
     ]
    },
    {
     "name": "stderr",
     "output_type": "stream",
     "text": [
      "[I 2023-11-27 13:14:19,966] Trial 52 finished with value: 0.21544032816893385 and parameters: {'alpha': 0.09774474569765791, 'l1_ratio': 0.1540663522851706}. Best is trial 42 with value: 0.20152112634160754.\n",
      "[I 2023-11-27 13:14:20,131] Trial 56 finished with value: 0.21425903561214008 and parameters: {'alpha': 0.08617399881594347, 'l1_ratio': 0.0014367651657875569}. Best is trial 42 with value: 0.20152112634160754.\n",
      "[I 2023-11-27 13:14:20,187] Trial 51 finished with value: 0.21708501978717412 and parameters: {'alpha': 0.09684710094498555, 'l1_ratio': 0.19376291251819272}. Best is trial 42 with value: 0.20152112634160754.\n",
      "[I 2023-11-27 13:14:20,285] Trial 54 finished with value: 0.21489052408000944 and parameters: {'alpha': 0.07673801829114661, 'l1_ratio': 0.15550453293528638}. Best is trial 42 with value: 0.20152112634160754.\n"
     ]
    },
    {
     "name": "stdout",
     "output_type": "stream",
     "text": [
      "Successfully updated linear.csv with results of trial 58\n",
      "Successfully updated linear.csv with results of trial 57\n"
     ]
    },
    {
     "name": "stderr",
     "output_type": "stream",
     "text": [
      "[I 2023-11-27 13:14:20,384] Trial 49 finished with value: 0.21918079750473898 and parameters: {'alpha': 0.09920289743896386, 'l1_ratio': 0.18873673252217288}. Best is trial 42 with value: 0.20152112634160754.\n",
      "[I 2023-11-27 13:14:20,398] Trial 55 finished with value: 0.2116129465463348 and parameters: {'alpha': 0.08590196870397618, 'l1_ratio': 0.1868302660952148}. Best is trial 42 with value: 0.20152112634160754.\n",
      "[I 2023-11-27 13:14:20,527] Trial 53 finished with value: 0.21469428769709273 and parameters: {'alpha': 0.07884811062751497, 'l1_ratio': 0.18242502342963784}. Best is trial 42 with value: 0.20152112634160754.\n",
      "[I 2023-11-27 13:14:20,539] Trial 61 finished with value: 0.2166827911218054 and parameters: {'alpha': 0.091933469138008, 'l1_ratio': 0.08924236090731974}. Best is trial 42 with value: 0.20152112634160754.\n"
     ]
    },
    {
     "name": "stdout",
     "output_type": "stream",
     "text": [
      "Successfully updated linear.csv with results of trial 61\n",
      "Successfully updated linear.csv with results of trial 59\n"
     ]
    },
    {
     "name": "stderr",
     "output_type": "stream",
     "text": [
      "[I 2023-11-27 13:14:20,800] Trial 59 finished with value: 0.21338162622229995 and parameters: {'alpha': 0.09321051151934873, 'l1_ratio': 0.08516617080983824}. Best is trial 42 with value: 0.20152112634160754.\n",
      "[I 2023-11-27 13:14:20,853] Trial 58 finished with value: 0.21346054456572636 and parameters: {'alpha': 0.08751352229429918, 'l1_ratio': 0.3655756158428319}. Best is trial 42 with value: 0.20152112634160754.\n"
     ]
    },
    {
     "name": "stdout",
     "output_type": "stream",
     "text": [
      "Successfully updated linear.csv with results of trial 60\n",
      "Successfully updated linear.csv with results of trial 63\n"
     ]
    },
    {
     "name": "stderr",
     "output_type": "stream",
     "text": [
      "[I 2023-11-27 13:14:21,041] Trial 46 finished with value: 0.21329313581253528 and parameters: {'alpha': 0.07755250362962061, 'l1_ratio': 0.3575282768802671}. Best is trial 42 with value: 0.20152112634160754.\n",
      "[I 2023-11-27 13:14:21,143] Trial 57 finished with value: 0.21495458801455095 and parameters: {'alpha': 0.0874624503189432, 'l1_ratio': 0.3646056522773684}. Best is trial 42 with value: 0.20152112634160754.\n"
     ]
    },
    {
     "name": "stdout",
     "output_type": "stream",
     "text": [
      "Successfully updated linear.csv with results of trial 64\n",
      "Successfully updated linear.csv with results of trial 62\n"
     ]
    },
    {
     "name": "stderr",
     "output_type": "stream",
     "text": [
      "[I 2023-11-27 13:14:21,238] Trial 60 finished with value: 0.20831958955042432 and parameters: {'alpha': 0.09250294990755552, 'l1_ratio': 0.07985781505553514}. Best is trial 42 with value: 0.20152112634160754.\n"
     ]
    },
    {
     "name": "stdout",
     "output_type": "stream",
     "text": [
      "Successfully updated linear.csv with results of trial 68\n",
      "Successfully updated linear.csv with results of trial 66\n"
     ]
    },
    {
     "name": "stderr",
     "output_type": "stream",
     "text": [
      "[I 2023-11-27 13:14:21,497] Trial 62 finished with value: 0.21700037182124557 and parameters: {'alpha': 0.09196820613784773, 'l1_ratio': 0.08671023683274937}. Best is trial 42 with value: 0.20152112634160754.\n",
      "[I 2023-11-27 13:14:21,606] Trial 66 finished with value: 0.21105578393663624 and parameters: {'alpha': 0.08221856264832647, 'l1_ratio': 0.24092129344822308}. Best is trial 42 with value: 0.20152112634160754.\n"
     ]
    },
    {
     "name": "stdout",
     "output_type": "stream",
     "text": [
      "Successfully updated linear.csv with results of trial 70\n",
      "Successfully updated linear.csv with results of trial 65\n",
      "Successfully updated linear.csv with results of trial 67\n",
      "Successfully updated linear.csv with results of trial 69\n"
     ]
    },
    {
     "name": "stderr",
     "output_type": "stream",
     "text": [
      "[I 2023-11-27 13:14:21,824] Trial 64 finished with value: 0.2116040936710947 and parameters: {'alpha': 0.09604899378676424, 'l1_ratio': 0.34649452817175813}. Best is trial 42 with value: 0.20152112634160754.\n",
      "[I 2023-11-27 13:14:21,843] Trial 63 finished with value: 0.2118242085570813 and parameters: {'alpha': 0.09506804864134012, 'l1_ratio': 0.24275098202029094}. Best is trial 42 with value: 0.20152112634160754.\n",
      "[I 2023-11-27 13:14:22,235] Trial 68 finished with value: 0.21654699328220195 and parameters: {'alpha': 0.08308147000087457, 'l1_ratio': 0.5056719198189122}. Best is trial 42 with value: 0.20152112634160754.\n"
     ]
    },
    {
     "name": "stdout",
     "output_type": "stream",
     "text": [
      "Successfully updated linear.csv with results of trial 71\n",
      "Successfully updated linear.csv with results of trial 72\n",
      "Successfully updated linear.csv with results of trial 73\n"
     ]
    },
    {
     "name": "stderr",
     "output_type": "stream",
     "text": [
      "[I 2023-11-27 13:14:22,270] Trial 65 finished with value: 0.21838763509519687 and parameters: {'alpha': 0.08287134048401268, 'l1_ratio': 0.505542542553475}. Best is trial 42 with value: 0.20152112634160754.\n",
      "[I 2023-11-27 13:14:22,270] Trial 69 finished with value: 0.2131502891791277 and parameters: {'alpha': 0.08296562760055487, 'l1_ratio': 0.23469885512330935}. Best is trial 42 with value: 0.20152112634160754.\n",
      "[I 2023-11-27 13:14:22,289] Trial 70 finished with value: 0.21364766692833467 and parameters: {'alpha': 0.08349860997572459, 'l1_ratio': 0.5060319851281379}. Best is trial 42 with value: 0.20152112634160754.\n",
      "[I 2023-11-27 13:14:22,324] Trial 67 finished with value: 0.21084280851975323 and parameters: {'alpha': 0.08386645571249275, 'l1_ratio': 0.5001382493333498}. Best is trial 42 with value: 0.20152112634160754.\n"
     ]
    },
    {
     "name": "stdout",
     "output_type": "stream",
     "text": [
      "Successfully updated linear.csv with results of trial 74\n",
      "Successfully updated linear.csv with results of trial 75\n",
      "Successfully updated linear.csv with results of trial 77\n"
     ]
    },
    {
     "name": "stderr",
     "output_type": "stream",
     "text": [
      "[I 2023-11-27 13:14:22,773] Trial 73 finished with value: 0.21601545716014892 and parameters: {'alpha': 0.08982865492230423, 'l1_ratio': 0.1265494717544149}. Best is trial 42 with value: 0.20152112634160754.\n",
      "[I 2023-11-27 13:14:22,778] Trial 72 finished with value: 0.21700297175032113 and parameters: {'alpha': 0.08253142398225524, 'l1_ratio': 0.1392484282104297}. Best is trial 42 with value: 0.20152112634160754.\n",
      "[I 2023-11-27 13:14:22,894] Trial 74 finished with value: 0.21342858245490104 and parameters: {'alpha': 0.08960968689444203, 'l1_ratio': 0.11376257916954247}. Best is trial 42 with value: 0.20152112634160754.\n",
      "[I 2023-11-27 13:14:22,899] Trial 75 finished with value: 0.21553364356214735 and parameters: {'alpha': 0.09027344357363729, 'l1_ratio': 0.13446407409143668}. Best is trial 42 with value: 0.20152112634160754.\n"
     ]
    },
    {
     "name": "stdout",
     "output_type": "stream",
     "text": [
      "Successfully updated linear.csv with results of trial 76\n",
      "Successfully updated linear.csv with results of trial 79\n",
      "Successfully updated linear.csv with results of trial 78\n"
     ]
    },
    {
     "name": "stderr",
     "output_type": "stream",
     "text": [
      "[I 2023-11-27 13:14:23,303] Trial 79 finished with value: 0.21432779856740045 and parameters: {'alpha': 0.09095314795732065, 'l1_ratio': 0.12223540455251534}. Best is trial 42 with value: 0.20152112634160754.\n",
      "[I 2023-11-27 13:14:23,316] Trial 78 finished with value: 0.21829427918336597 and parameters: {'alpha': 0.08946709429196202, 'l1_ratio': 0.11445789849865444}. Best is trial 42 with value: 0.20152112634160754.\n",
      "[I 2023-11-27 13:14:23,316] Trial 71 finished with value: 0.2118757016623843 and parameters: {'alpha': 0.0919782549211435, 'l1_ratio': 0.13140673284889365}. Best is trial 42 with value: 0.20152112634160754.\n"
     ]
    },
    {
     "name": "stdout",
     "output_type": "stream",
     "text": [
      "Successfully updated linear.csv with results of trial 80\n",
      "Successfully updated linear.csv with results of trial 84\n",
      "Successfully updated linear.csv with results of trial 82\n"
     ]
    },
    {
     "name": "stderr",
     "output_type": "stream",
     "text": [
      "[I 2023-11-27 13:14:23,522] Trial 76 finished with value: 0.2127779537314264 and parameters: {'alpha': 0.08993101554269647, 'l1_ratio': 0.03032580999776424}. Best is trial 42 with value: 0.20152112634160754.\n",
      "[I 2023-11-27 13:14:23,612] Trial 77 finished with value: 0.21420355436153957 and parameters: {'alpha': 0.08894612077811603, 'l1_ratio': 0.12530086071844665}. Best is trial 42 with value: 0.20152112634160754.\n",
      "[I 2023-11-27 13:14:23,687] Trial 80 finished with value: 0.21295928093361702 and parameters: {'alpha': 0.08990167631576253, 'l1_ratio': 0.3236380579985392}. Best is trial 42 with value: 0.20152112634160754.\n"
     ]
    },
    {
     "name": "stdout",
     "output_type": "stream",
     "text": [
      "Successfully updated linear.csv with results of trial 81\n",
      "Successfully updated linear.csv with results of trial 86\n",
      "Successfully updated linear.csv with results of trial 85\n"
     ]
    },
    {
     "name": "stderr",
     "output_type": "stream",
     "text": [
      "[I 2023-11-27 13:14:23,960] Trial 82 finished with value: 0.21682314688470664 and parameters: {'alpha': 0.09946634817019923, 'l1_ratio': 0.32066695403788736}. Best is trial 42 with value: 0.20152112634160754.\n",
      "[I 2023-11-27 13:14:24,068] Trial 84 finished with value: 0.21378690173679557 and parameters: {'alpha': 0.07249637060841424, 'l1_ratio': 0.32535384834284176}. Best is trial 42 with value: 0.20152112634160754.\n"
     ]
    },
    {
     "name": "stdout",
     "output_type": "stream",
     "text": [
      "Successfully updated linear.csv with results of trial 83\n"
     ]
    },
    {
     "name": "stderr",
     "output_type": "stream",
     "text": [
      "[I 2023-11-27 13:14:24,132] Trial 85 finished with value: 0.2128947093515835 and parameters: {'alpha': 0.09916003621962778, 'l1_ratio': 0.3151273170790938}. Best is trial 42 with value: 0.20152112634160754.\n",
      "[I 2023-11-27 13:14:24,360] Trial 86 finished with value: 0.217328248908755 and parameters: {'alpha': 0.09919830641661191, 'l1_ratio': 0.315645084808456}. Best is trial 42 with value: 0.20152112634160754.\n"
     ]
    },
    {
     "name": "stdout",
     "output_type": "stream",
     "text": [
      "Successfully updated linear.csv with results of trial 88\n",
      "Successfully updated linear.csv with results of trial 90\n",
      "Successfully updated linear.csv with results of trial 89\n"
     ]
    },
    {
     "name": "stderr",
     "output_type": "stream",
     "text": [
      "[I 2023-11-27 13:14:24,469] Trial 81 finished with value: 0.2113608955384939 and parameters: {'alpha': 0.0943065170553522, 'l1_ratio': 0.23832028741057093}. Best is trial 42 with value: 0.20152112634160754.\n",
      "[I 2023-11-27 13:14:24,643] Trial 90 finished with value: 0.2074877358613947 and parameters: {'alpha': 0.06380189143043564, 'l1_ratio': 0.21931254248611565}. Best is trial 42 with value: 0.20152112634160754.\n"
     ]
    },
    {
     "name": "stdout",
     "output_type": "stream",
     "text": [
      "Successfully updated linear.csv with results of trial 87\n",
      "Successfully updated linear.csv with results of trial 93\n"
     ]
    },
    {
     "name": "stderr",
     "output_type": "stream",
     "text": [
      "[I 2023-11-27 13:14:24,897] Trial 83 finished with value: 0.21226320954717548 and parameters: {'alpha': 0.09996239906967999, 'l1_ratio': 0.3204923050751893}. Best is trial 42 with value: 0.20152112634160754.\n"
     ]
    },
    {
     "name": "stdout",
     "output_type": "stream",
     "text": [
      "Successfully updated linear.csv with results of trial 91\n",
      "Successfully updated linear.csv with results of trial 92\n"
     ]
    },
    {
     "name": "stderr",
     "output_type": "stream",
     "text": [
      "[I 2023-11-27 13:14:24,980] Trial 87 finished with value: 0.21741571445873067 and parameters: {'alpha': 0.06500265608427885, 'l1_ratio': 0.2245275176839251}. Best is trial 42 with value: 0.20152112634160754.\n",
      "[I 2023-11-27 13:14:25,093] Trial 88 finished with value: 0.21502154212091087 and parameters: {'alpha': 0.0995245068321369, 'l1_ratio': 0.22847878129200952}. Best is trial 42 with value: 0.20152112634160754.\n"
     ]
    },
    {
     "name": "stdout",
     "output_type": "stream",
     "text": [
      "Successfully updated linear.csv with results of trial 94\n"
     ]
    },
    {
     "name": "stderr",
     "output_type": "stream",
     "text": [
      "[I 2023-11-27 13:14:25,204] Trial 92 finished with value: 0.21143834705693695 and parameters: {'alpha': 0.0653328572719108, 'l1_ratio': 0.39532622484658375}. Best is trial 42 with value: 0.20152112634160754.\n",
      "[I 2023-11-27 13:14:25,277] Trial 93 finished with value: 0.2167867954476953 and parameters: {'alpha': 0.07311510895943434, 'l1_ratio': 0.21977767125034206}. Best is trial 42 with value: 0.20152112634160754.\n",
      "[I 2023-11-27 13:14:25,281] Trial 94 finished with value: 0.21659600365495565 and parameters: {'alpha': 0.06663360914863986, 'l1_ratio': 0.39742108311893376}. Best is trial 42 with value: 0.20152112634160754.\n",
      "[I 2023-11-27 13:14:25,284] Trial 89 finished with value: 0.2113668382421595 and parameters: {'alpha': 0.07225220650943141, 'l1_ratio': 0.2199418770063789}. Best is trial 42 with value: 0.20152112634160754.\n"
     ]
    },
    {
     "name": "stdout",
     "output_type": "stream",
     "text": [
      "Successfully updated linear.csv with results of trial 98\n",
      "Successfully updated linear.csv with results of trial 97\n",
      "Successfully updated linear.csv with results of trial 95\n",
      "Successfully updated linear.csv with results of trial 99\n",
      "Successfully updated linear.csv with results of trial 96\n"
     ]
    },
    {
     "name": "stderr",
     "output_type": "stream",
     "text": [
      "[I 2023-11-27 13:14:25,859] Trial 98 finished with value: 0.20834120984327445 and parameters: {'alpha': 0.05446428016991414, 'l1_ratio': 0.2114102050515121}. Best is trial 42 with value: 0.20152112634160754.\n",
      "[I 2023-11-27 13:14:26,030] Trial 91 finished with value: 0.21408309088622193 and parameters: {'alpha': 0.0665807558015723, 'l1_ratio': 0.2041722048676563}. Best is trial 42 with value: 0.20152112634160754.\n",
      "[I 2023-11-27 13:14:26,126] Trial 95 finished with value: 0.21953166280157108 and parameters: {'alpha': 0.05481127984347231, 'l1_ratio': 0.21452637482128817}. Best is trial 42 with value: 0.20152112634160754.\n"
     ]
    },
    {
     "name": "stdout",
     "output_type": "stream",
     "text": [
      "Successfully updated linear.csv with results of trial 104\n",
      "Successfully updated linear.csv with results of trial 100\n",
      "Successfully updated linear.csv with results of trial 103\n",
      "Successfully updated linear.csv with results of trial 102\n"
     ]
    },
    {
     "name": "stderr",
     "output_type": "stream",
     "text": [
      "[I 2023-11-27 13:14:26,216] Trial 97 finished with value: 0.20791984803575933 and parameters: {'alpha': 0.06448551614692766, 'l1_ratio': 0.21889787708131114}. Best is trial 42 with value: 0.20152112634160754.\n",
      "[I 2023-11-27 13:14:26,292] Trial 99 finished with value: 0.21472961344661 and parameters: {'alpha': 0.05426320092484424, 'l1_ratio': 0.164958965328695}. Best is trial 42 with value: 0.20152112634160754.\n",
      "[I 2023-11-27 13:14:26,307] Trial 104 finished with value: 0.21218105188320235 and parameters: {'alpha': 0.05529068536181992, 'l1_ratio': 0.2692190456090855}. Best is trial 42 with value: 0.20152112634160754.\n"
     ]
    },
    {
     "name": "stdout",
     "output_type": "stream",
     "text": [
      "Successfully updated linear.csv with results of trial 101\n"
     ]
    },
    {
     "name": "stderr",
     "output_type": "stream",
     "text": [
      "[I 2023-11-27 13:14:26,373] Trial 100 finished with value: 0.21101064993107954 and parameters: {'alpha': 0.05565825985428406, 'l1_ratio': 0.26027162038627266}. Best is trial 42 with value: 0.20152112634160754.\n",
      "[I 2023-11-27 13:14:26,378] Trial 101 finished with value: 0.21786505469199893 and parameters: {'alpha': 0.06973569173407523, 'l1_ratio': 0.26610894716491085}. Best is trial 42 with value: 0.20152112634160754.\n",
      "[I 2023-11-27 13:14:26,382] Trial 102 finished with value: 0.2169332505255689 and parameters: {'alpha': 0.06929632432146712, 'l1_ratio': 0.26916212695925756}. Best is trial 42 with value: 0.20152112634160754.\n",
      "[I 2023-11-27 13:14:26,412] Trial 96 finished with value: 0.21356184677679557 and parameters: {'alpha': 0.06900368128630485, 'l1_ratio': 0.26446338409230563}. Best is trial 42 with value: 0.20152112634160754.\n",
      "[I 2023-11-27 13:14:26,490] Trial 103 finished with value: 0.215680584889795 and parameters: {'alpha': 0.05570097549595549, 'l1_ratio': 0.26543741002974053}. Best is trial 42 with value: 0.20152112634160754.\n"
     ]
    },
    {
     "name": "stdout",
     "output_type": "stream",
     "text": [
      "Successfully updated linear.csv with results of trial 106\n"
     ]
    },
    {
     "name": "stderr",
     "output_type": "stream",
     "text": [
      "[I 2023-11-27 13:14:27,007] Trial 106 finished with value: 0.2028511090322799 and parameters: {'alpha': 0.06228391991499946, 'l1_ratio': 0.2637564687404159}. Best is trial 42 with value: 0.20152112634160754.\n"
     ]
    },
    {
     "name": "stdout",
     "output_type": "stream",
     "text": [
      "Successfully updated linear.csv with results of trial 111\n",
      "Successfully updated linear.csv with results of trial 108\n",
      "Successfully updated linear.csv with results of trial 110\n",
      "Successfully updated linear.csv with results of trial 112\n",
      "Successfully updated linear.csv with results of trial 105\n",
      "Successfully updated linear.csv with results of trial 107\n",
      "Successfully updated linear.csv with results of trial 113\n",
      "Successfully updated linear.csv with results of trial 115\n"
     ]
    },
    {
     "name": "stderr",
     "output_type": "stream",
     "text": [
      "[I 2023-11-27 13:14:27,588] Trial 105 finished with value: 0.21638485456696419 and parameters: {'alpha': 0.06275414159507865, 'l1_ratio': 0.16393124631639708}. Best is trial 42 with value: 0.20152112634160754.\n",
      "[I 2023-11-27 13:14:27,723] Trial 110 finished with value: 0.21126325683518662 and parameters: {'alpha': 0.06300112885970971, 'l1_ratio': 0.17579885815483687}. Best is trial 42 with value: 0.20152112634160754.\n",
      "[I 2023-11-27 13:14:27,726] Trial 112 finished with value: 0.21767472857296033 and parameters: {'alpha': 0.06291601042161704, 'l1_ratio': 0.1506230110420948}. Best is trial 42 with value: 0.20152112634160754.\n",
      "[I 2023-11-27 13:14:27,751] Trial 113 finished with value: 0.21992538873381307 and parameters: {'alpha': 0.09586110164576302, 'l1_ratio': 0.17640356700646065}. Best is trial 42 with value: 0.20152112634160754.\n",
      "[I 2023-11-27 13:14:27,769] Trial 111 finished with value: 0.21612305904935214 and parameters: {'alpha': 0.06287880262948413, 'l1_ratio': 0.175803300440188}. Best is trial 42 with value: 0.20152112634160754.\n"
     ]
    },
    {
     "name": "stdout",
     "output_type": "stream",
     "text": [
      "Successfully updated linear.csv with results of trial 109\n",
      "Successfully updated linear.csv with results of trial 114\n"
     ]
    },
    {
     "name": "stderr",
     "output_type": "stream",
     "text": [
      "[I 2023-11-27 13:14:28,026] Trial 115 finished with value: 0.21521664812713 and parameters: {'alpha': 0.0634479550241003, 'l1_ratio': 0.16999880474666978}. Best is trial 42 with value: 0.20152112634160754.\n",
      "[I 2023-11-27 13:14:28,080] Trial 109 finished with value: 0.2131389167899438 and parameters: {'alpha': 0.06298231787528981, 'l1_ratio': 0.17359610376321938}. Best is trial 42 with value: 0.20152112634160754.\n"
     ]
    },
    {
     "name": "stdout",
     "output_type": "stream",
     "text": [
      "Successfully updated linear.csv with results of trial 116\n",
      "Successfully updated linear.csv with results of trial 119\n"
     ]
    },
    {
     "name": "stderr",
     "output_type": "stream",
     "text": [
      "[I 2023-11-27 13:14:28,525] Trial 108 finished with value: 0.20748320540417872 and parameters: {'alpha': 0.06279074677745762, 'l1_ratio': 0.17807334742319836}. Best is trial 42 with value: 0.20152112634160754.\n"
     ]
    },
    {
     "name": "stdout",
     "output_type": "stream",
     "text": [
      "Successfully updated linear.csv with results of trial 117\n"
     ]
    },
    {
     "name": "stderr",
     "output_type": "stream",
     "text": [
      "[I 2023-11-27 13:14:28,659] Trial 119 finished with value: 0.21986026520382554 and parameters: {'alpha': 0.06032944005364023, 'l1_ratio': 0.29069719393987675}. Best is trial 42 with value: 0.20152112634160754.\n",
      "[I 2023-11-27 13:14:28,676] Trial 117 finished with value: 0.213311401460869 and parameters: {'alpha': 0.06233333841988792, 'l1_ratio': 0.2913469370859818}. Best is trial 42 with value: 0.20152112634160754.\n",
      "[I 2023-11-27 13:14:28,699] Trial 114 finished with value: 0.2244979555347265 and parameters: {'alpha': 0.061152582229530225, 'l1_ratio': 0.1808300580846961}. Best is trial 42 with value: 0.20152112634160754.\n",
      "[I 2023-11-27 13:14:28,742] Trial 107 finished with value: 0.21819108003631413 and parameters: {'alpha': 0.06338165933162246, 'l1_ratio': 0.16613344866018565}. Best is trial 42 with value: 0.20152112634160754.\n",
      "[I 2023-11-27 13:14:28,805] Trial 116 finished with value: 0.21135891928954323 and parameters: {'alpha': 0.058820528561920195, 'l1_ratio': 0.2988414874204338}. Best is trial 42 with value: 0.20152112634160754.\n"
     ]
    },
    {
     "name": "stdout",
     "output_type": "stream",
     "text": [
      "Successfully updated linear.csv with results of trial 120\n",
      "Successfully updated linear.csv with results of trial 118\n"
     ]
    },
    {
     "name": "stderr",
     "output_type": "stream",
     "text": [
      "[I 2023-11-27 13:14:28,931] Trial 120 finished with value: 0.2127538313510835 and parameters: {'alpha': 0.0599228841435697, 'l1_ratio': 0.24560598679930334}. Best is trial 42 with value: 0.20152112634160754.\n"
     ]
    },
    {
     "name": "stdout",
     "output_type": "stream",
     "text": [
      "Successfully updated linear.csv with results of trial 121\n",
      "Successfully updated linear.csv with results of trial 122\n"
     ]
    },
    {
     "name": "stderr",
     "output_type": "stream",
     "text": [
      "[I 2023-11-27 13:14:29,324] Trial 118 finished with value: 0.2139366139354916 and parameters: {'alpha': 0.05950258789853385, 'l1_ratio': 0.2979113088658921}. Best is trial 42 with value: 0.20152112634160754.\n"
     ]
    },
    {
     "name": "stdout",
     "output_type": "stream",
     "text": [
      "Successfully updated linear.csv with results of trial 124\n"
     ]
    },
    {
     "name": "stderr",
     "output_type": "stream",
     "text": [
      "[I 2023-11-27 13:14:29,446] Trial 121 finished with value: 0.21316000397095902 and parameters: {'alpha': 0.05964282122868245, 'l1_ratio': 0.29576331532502226}. Best is trial 42 with value: 0.20152112634160754.\n"
     ]
    },
    {
     "name": "stdout",
     "output_type": "stream",
     "text": [
      "Successfully updated linear.csv with results of trial 123\n",
      "Successfully updated linear.csv with results of trial 127\n",
      "Successfully updated linear.csv with results of trial 125\n"
     ]
    },
    {
     "name": "stderr",
     "output_type": "stream",
     "text": [
      "[I 2023-11-27 13:14:29,815] Trial 122 finished with value: 0.21387977570905156 and parameters: {'alpha': 0.07989004785383214, 'l1_ratio': 0.20565796168954154}. Best is trial 42 with value: 0.20152112634160754.\n"
     ]
    },
    {
     "name": "stdout",
     "output_type": "stream",
     "text": [
      "Successfully updated linear.csv with results of trial 130\n",
      "Successfully updated linear.csv with results of trial 129\n"
     ]
    },
    {
     "name": "stderr",
     "output_type": "stream",
     "text": [
      "[I 2023-11-27 13:14:30,071] Trial 124 finished with value: 0.21075483425655608 and parameters: {'alpha': 0.09415905780948171, 'l1_ratio': 0.2450940004609211}. Best is trial 42 with value: 0.20152112634160754.\n",
      "[I 2023-11-27 13:14:30,184] Trial 123 finished with value: 0.21628379904058728 and parameters: {'alpha': 0.058178793378523455, 'l1_ratio': 0.2044251024496129}. Best is trial 42 with value: 0.20152112634160754.\n",
      "[I 2023-11-27 13:14:30,214] Trial 127 finished with value: 0.21392367069219428 and parameters: {'alpha': 0.057326499450246295, 'l1_ratio': 0.24780485559213505}. Best is trial 42 with value: 0.20152112634160754.\n"
     ]
    },
    {
     "name": "stdout",
     "output_type": "stream",
     "text": [
      "Successfully updated linear.csv with results of trial 126\n",
      "Successfully updated linear.csv with results of trial 131\n",
      "Successfully updated linear.csv with results of trial 128\n"
     ]
    },
    {
     "name": "stderr",
     "output_type": "stream",
     "text": [
      "[I 2023-11-27 13:14:30,219] Trial 129 finished with value: 0.2169081577597882 and parameters: {'alpha': 0.09689813721629813, 'l1_ratio': 0.19960612057600158}. Best is trial 42 with value: 0.20152112634160754.\n",
      "[I 2023-11-27 13:14:30,223] Trial 128 finished with value: 0.21109309014101707 and parameters: {'alpha': 0.05724402076061441, 'l1_ratio': 0.20188180048694418}. Best is trial 42 with value: 0.20152112634160754.\n",
      "[I 2023-11-27 13:14:30,228] Trial 126 finished with value: 0.20756983388710526 and parameters: {'alpha': 0.09353289139340479, 'l1_ratio': 0.2053188319835026}. Best is trial 42 with value: 0.20152112634160754.\n",
      "[I 2023-11-27 13:14:30,232] Trial 131 finished with value: 0.21456588736505125 and parameters: {'alpha': 0.057555248544103176, 'l1_ratio': 0.2046293487984735}. Best is trial 42 with value: 0.20152112634160754.\n",
      "[I 2023-11-27 13:14:30,235] Trial 125 finished with value: 0.2111777618992465 and parameters: {'alpha': 0.09382372081806571, 'l1_ratio': 0.20820150608067642}. Best is trial 42 with value: 0.20152112634160754.\n",
      "[I 2023-11-27 13:14:30,239] Trial 130 finished with value: 0.21262562512838604 and parameters: {'alpha': 0.09663623721331786, 'l1_ratio': 0.20745289013983575}. Best is trial 42 with value: 0.20152112634160754.\n",
      "[I 2023-11-27 13:14:30,322] Using an existing study with name 'KRR' instead of creating a new one.\n"
     ]
    },
    {
     "name": "stdout",
     "output_type": "stream",
     "text": [
      "random 3A4 KRR\n",
      "Successfully created KRR.csv with results of trial 21 as the first entry\n",
      "Successfully updated KRR.csv with results of trial 22\n",
      "Successfully updated KRR.csv with results of trial 20\n",
      "Successfully updated KRR.csv with results of trial 24\n",
      "Successfully updated KRR.csv with results of trial 25\n",
      "Successfully updated KRR.csv with results of trial 26\n"
     ]
    },
    {
     "name": "stderr",
     "output_type": "stream",
     "text": [
      "[I 2023-11-27 13:14:31,662] Trial 21 finished with value: 0.15790652379690331 and parameters: {'alpha': 0.17494883697517144, 'gamma': 3.4092872234013067e-17, 'kernel': 'linear'}. Best is trial 4 with value: 0.14489350811175056.\n",
      "[I 2023-11-27 13:14:31,695] Trial 22 finished with value: 0.16651668439726774 and parameters: {'alpha': 0.16250145388684462, 'gamma': 2.2577785530168436e-17, 'kernel': 'linear'}. Best is trial 4 with value: 0.14489350811175056.\n",
      "[I 2023-11-27 13:14:31,723] Trial 20 finished with value: 0.16797233820453128 and parameters: {'alpha': 0.1597628635894585, 'gamma': 8.063589513556513e-16, 'kernel': 'linear'}. Best is trial 4 with value: 0.14489350811175056.\n"
     ]
    },
    {
     "name": "stdout",
     "output_type": "stream",
     "text": [
      "Successfully updated KRR.csv with results of trial 27\n",
      "Successfully updated KRR.csv with results of trial 30\n",
      "Successfully updated KRR.csv with results of trial 31\n",
      "Successfully updated KRR.csv with results of trial 23\n"
     ]
    },
    {
     "name": "stderr",
     "output_type": "stream",
     "text": [
      "[I 2023-11-27 13:14:31,952] Trial 26 finished with value: 0.17158930787243357 and parameters: {'alpha': 0.16435000623284446, 'gamma': 3.1524273061850666e-16, 'kernel': 'linear'}. Best is trial 4 with value: 0.14489350811175056.\n",
      "[I 2023-11-27 13:14:31,958] Trial 24 finished with value: 0.1471600598439057 and parameters: {'alpha': 0.16929207179535505, 'gamma': 7.294207358256895e-16, 'kernel': 'linear'}. Best is trial 4 with value: 0.14489350811175056.\n",
      "[I 2023-11-27 13:14:31,966] Trial 30 finished with value: 0.17158566731071212 and parameters: {'alpha': 0.16382381589378742, 'gamma': 9.81475189887607e-15, 'kernel': 'linear'}. Best is trial 4 with value: 0.14489350811175056.\n",
      "[I 2023-11-27 13:14:31,974] Trial 29 finished with value: 0.16360190579288805 and parameters: {'alpha': 0.1584258250989578, 'gamma': 1.903143432222867e-16, 'kernel': 'linear'}. Best is trial 4 with value: 0.14489350811175056.\n",
      "[I 2023-11-27 13:14:32,037] Trial 25 finished with value: 0.15169053341250782 and parameters: {'alpha': 0.16911352379362132, 'gamma': 5.759094819314175e-17, 'kernel': 'linear'}. Best is trial 4 with value: 0.14489350811175056.\n",
      "[I 2023-11-27 13:14:32,040] Trial 23 finished with value: 0.16681636509350437 and parameters: {'alpha': 0.237637299777488, 'gamma': 9.986654208445002e-15, 'kernel': 'linear'}. Best is trial 4 with value: 0.14489350811175056.\n"
     ]
    },
    {
     "name": "stdout",
     "output_type": "stream",
     "text": [
      "Successfully updated KRR.csv with results of trial 29\n"
     ]
    },
    {
     "name": "stderr",
     "output_type": "stream",
     "text": [
      "[I 2023-11-27 13:14:32,369] Trial 31 finished with value: 0.15519343089626625 and parameters: {'alpha': 0.16800083312812913, 'gamma': 1.0637958813235686e-16, 'kernel': 'linear'}. Best is trial 4 with value: 0.14489350811175056.\n"
     ]
    },
    {
     "name": "stdout",
     "output_type": "stream",
     "text": [
      "Successfully updated KRR.csv with results of trial 32\n",
      "Successfully updated KRR.csv with results of trial 28\n"
     ]
    },
    {
     "name": "stderr",
     "output_type": "stream",
     "text": [
      "[I 2023-11-27 13:14:32,570] Trial 27 finished with value: 0.15233966619412062 and parameters: {'alpha': 0.19123386894321112, 'gamma': 9.908664989650515e-15, 'kernel': 'linear'}. Best is trial 32 with value: 0.14079409771706333.\n",
      "[I 2023-11-27 13:14:32,634] Trial 32 finished with value: 0.14079409771706333 and parameters: {'alpha': 0.26512182519931726, 'gamma': 1.324324383441037e-15, 'kernel': 'laplacian'}. Best is trial 32 with value: 0.14079409771706333.\n"
     ]
    },
    {
     "name": "stdout",
     "output_type": "stream",
     "text": [
      "Successfully updated KRR.csv with results of trial 34\n",
      "Successfully updated KRR.csv with results of trial 33\n",
      "Successfully updated KRR.csv with results of trial 35\n"
     ]
    },
    {
     "name": "stderr",
     "output_type": "stream",
     "text": [
      "[I 2023-11-27 13:14:33,093] Trial 34 finished with value: 0.16008515818546074 and parameters: {'alpha': 0.3124657568207894, 'gamma': 1.6632050254568064e-15, 'kernel': 'laplacian'}. Best is trial 32 with value: 0.14079409771706333.\n",
      "[I 2023-11-27 13:14:33,144] Trial 28 finished with value: 0.1658053367539354 and parameters: {'alpha': 0.18139415880339643, 'gamma': 6.884865154072992e-16, 'kernel': 'linear'}. Best is trial 32 with value: 0.14079409771706333.\n"
     ]
    },
    {
     "name": "stdout",
     "output_type": "stream",
     "text": [
      "Successfully updated KRR.csv with results of trial 40\n",
      "Successfully updated KRR.csv with results of trial 36\n",
      "Successfully updated KRR.csv with results of trial 38\n",
      "Successfully updated KRR.csv with results of trial 37\n",
      "Successfully updated KRR.csv with results of trial 39\n"
     ]
    },
    {
     "name": "stderr",
     "output_type": "stream",
     "text": [
      "[I 2023-11-27 13:14:33,479] Trial 36 finished with value: 0.1626998159653332 and parameters: {'alpha': 0.2981542028951871, 'gamma': 2.3958840084810494e-15, 'kernel': 'laplacian'}. Best is trial 32 with value: 0.14079409771706333.\n",
      "[I 2023-11-27 13:14:33,484] Trial 40 finished with value: 0.17778715558433092 and parameters: {'alpha': 0.3202881403140544, 'gamma': 1.3101679565952802e-15, 'kernel': 'laplacian'}. Best is trial 32 with value: 0.14079409771706333.\n",
      "[I 2023-11-27 13:14:33,489] Trial 35 finished with value: 0.16125693165677799 and parameters: {'alpha': 0.28536610369339716, 'gamma': 1.4217171454712352e-15, 'kernel': 'laplacian'}. Best is trial 32 with value: 0.14079409771706333.\n",
      "[I 2023-11-27 13:14:33,495] Trial 38 finished with value: 0.14514322432665772 and parameters: {'alpha': 0.2886793285439295, 'gamma': 1.6409973631788613e-15, 'kernel': 'laplacian'}. Best is trial 32 with value: 0.14079409771706333.\n",
      "[I 2023-11-27 13:14:33,501] Trial 33 finished with value: 0.14473764950175175 and parameters: {'alpha': 0.3203954599269293, 'gamma': 1.883892902234694e-15, 'kernel': 'laplacian'}. Best is trial 32 with value: 0.14079409771706333.\n",
      "[I 2023-11-27 13:14:33,812] Trial 37 finished with value: 0.15670426740070495 and parameters: {'alpha': 0.2717417730092394, 'gamma': 1.8536217621630992e-15, 'kernel': 'laplacian'}. Best is trial 32 with value: 0.14079409771706333.\n",
      "[I 2023-11-27 13:14:33,812] Trial 39 finished with value: 0.1834595952440854 and parameters: {'alpha': 0.26931512930834917, 'gamma': 1.5670707973296008e-15, 'kernel': 'laplacian'}. Best is trial 32 with value: 0.14079409771706333.\n"
     ]
    },
    {
     "name": "stdout",
     "output_type": "stream",
     "text": [
      "Successfully updated KRR.csv with results of trial 43\n",
      "Successfully updated KRR.csv with results of trial 41\n",
      "Successfully updated KRR.csv with results of trial 44\n",
      "Successfully updated KRR.csv with results of trial 45\n",
      "Successfully updated KRR.csv with results of trial 50\n",
      "Successfully updated KRR.csv with results of trial 49\n",
      "Successfully updated KRR.csv with results of trial 46\n"
     ]
    },
    {
     "name": "stderr",
     "output_type": "stream",
     "text": [
      "[I 2023-11-27 13:14:34,701] Trial 41 finished with value: 0.16528285237130078 and parameters: {'alpha': 0.08979551927065837, 'gamma': 1.6945106856409975e-15, 'kernel': 'laplacian'}. Best is trial 32 with value: 0.14079409771706333.\n",
      "[I 2023-11-27 13:14:34,736] Trial 46 finished with value: 0.16116592428395032 and parameters: {'alpha': 0.07800902630065891, 'gamma': 2.424712643272616e-15, 'kernel': 'laplacian'}. Best is trial 32 with value: 0.14079409771706333.\n",
      "[I 2023-11-27 13:14:34,750] Trial 45 finished with value: 0.15019861530240133 and parameters: {'alpha': 0.08115360756371298, 'gamma': 2.115648549656769e-15, 'kernel': 'laplacian'}. Best is trial 32 with value: 0.14079409771706333.\n",
      "[I 2023-11-27 13:14:34,763] Trial 49 finished with value: 0.16210882172968008 and parameters: {'alpha': 0.08603830140384242, 'gamma': 2.4332107368178773e-15, 'kernel': 'laplacian'}. Best is trial 32 with value: 0.14079409771706333.\n",
      "[I 2023-11-27 13:14:34,797] Trial 44 finished with value: 0.1575941295299267 and parameters: {'alpha': 0.10993206437711645, 'gamma': 2.3438366420025822e-15, 'kernel': 'laplacian'}. Best is trial 32 with value: 0.14079409771706333.\n",
      "[I 2023-11-27 13:14:34,819] Trial 43 finished with value: 0.15839910035088434 and parameters: {'alpha': 0.07152451098066004, 'gamma': 1.8414731371369163e-15, 'kernel': 'laplacian'}. Best is trial 32 with value: 0.14079409771706333.\n"
     ]
    },
    {
     "name": "stdout",
     "output_type": "stream",
     "text": [
      "Successfully updated KRR.csv with results of trial 42\n",
      "Successfully updated KRR.csv with results of trial 47\n"
     ]
    },
    {
     "name": "stderr",
     "output_type": "stream",
     "text": [
      "[I 2023-11-27 13:14:34,864] Trial 42 finished with value: 0.16624234685592432 and parameters: {'alpha': 0.37633308558497996, 'gamma': 2.4201695861159724e-15, 'kernel': 'laplacian'}. Best is trial 32 with value: 0.14079409771706333.\n",
      "[I 2023-11-27 13:14:35,044] Trial 47 finished with value: 0.14918962738921462 and parameters: {'alpha': 0.07789413347339022, 'gamma': 2.36587713627559e-15, 'kernel': 'laplacian'}. Best is trial 32 with value: 0.14079409771706333.\n"
     ]
    },
    {
     "name": "stdout",
     "output_type": "stream",
     "text": [
      "Successfully updated KRR.csv with results of trial 48\n"
     ]
    },
    {
     "name": "stderr",
     "output_type": "stream",
     "text": [
      "[I 2023-11-27 13:14:35,226] Trial 48 finished with value: 0.17185350544399627 and parameters: {'alpha': 0.07502985073698587, 'gamma': 2.4140856520189946e-15, 'kernel': 'laplacian'}. Best is trial 32 with value: 0.14079409771706333.\n",
      "[I 2023-11-27 13:14:35,309] Trial 50 finished with value: 0.158922418130686 and parameters: {'alpha': 0.38129374241502384, 'gamma': 2.535524856680846e-15, 'kernel': 'laplacian'}. Best is trial 32 with value: 0.14079409771706333.\n"
     ]
    },
    {
     "name": "stdout",
     "output_type": "stream",
     "text": [
      "Successfully updated KRR.csv with results of trial 52\n",
      "Successfully updated KRR.csv with results of trial 53\n"
     ]
    },
    {
     "name": "stderr",
     "output_type": "stream",
     "text": [
      "[I 2023-11-27 13:14:35,776] Trial 53 finished with value: 0.14958810073847664 and parameters: {'alpha': 0.23889461988866512, 'gamma': 2.8370700855648435e-15, 'kernel': 'laplacian'}. Best is trial 32 with value: 0.14079409771706333.\n",
      "[I 2023-11-27 13:14:35,794] Trial 52 finished with value: 0.1452579734546513 and parameters: {'alpha': 0.373634769401486, 'gamma': 2.4436381389908062e-15, 'kernel': 'laplacian'}. Best is trial 32 with value: 0.14079409771706333.\n"
     ]
    },
    {
     "name": "stdout",
     "output_type": "stream",
     "text": [
      "Successfully updated KRR.csv with results of trial 51\n",
      "Successfully updated KRR.csv with results of trial 55\n",
      "Successfully updated KRR.csv with results of trial 57\n",
      "Successfully updated KRR.csv with results of trial 58\n",
      "Successfully updated KRR.csv with results of trial 59\n"
     ]
    },
    {
     "name": "stderr",
     "output_type": "stream",
     "text": [
      "[I 2023-11-27 13:14:36,442] Trial 55 finished with value: 0.16634776284315786 and parameters: {'alpha': 0.22218948804499083, 'gamma': 1.0416107973590773e-15, 'kernel': 'laplacian'}. Best is trial 32 with value: 0.14079409771706333.\n",
      "[I 2023-11-27 13:14:36,484] Trial 51 finished with value: 0.1736217480680413 and parameters: {'alpha': 0.36346121757185074, 'gamma': 2.9142257614892554e-15, 'kernel': 'laplacian'}. Best is trial 32 with value: 0.14079409771706333.\n"
     ]
    },
    {
     "name": "stdout",
     "output_type": "stream",
     "text": [
      "Successfully updated KRR.csv with results of trial 61\n",
      "Successfully updated KRR.csv with results of trial 60\n",
      "Successfully updated KRR.csv with results of trial 56\n",
      "Successfully updated KRR.csv with results of trial 62\n"
     ]
    },
    {
     "name": "stderr",
     "output_type": "stream",
     "text": [
      "[I 2023-11-27 13:14:36,657] Trial 57 finished with value: 0.15716501025887938 and parameters: {'alpha': 0.22419188815411434, 'gamma': 3.0807857208103874e-15, 'kernel': 'laplacian'}. Best is trial 32 with value: 0.14079409771706333.\n",
      "[I 2023-11-27 13:14:36,662] Trial 58 finished with value: 0.1681815754143667 and parameters: {'alpha': 0.21200221082745915, 'gamma': 1.0338763322483743e-15, 'kernel': 'laplacian'}. Best is trial 32 with value: 0.14079409771706333.\n",
      "[I 2023-11-27 13:14:36,687] Trial 62 finished with value: 0.15969343912043685 and parameters: {'alpha': 0.3430325441237427, 'gamma': 1.2289959085289697e-15, 'kernel': 'laplacian'}. Best is trial 32 with value: 0.14079409771706333.\n"
     ]
    },
    {
     "name": "stdout",
     "output_type": "stream",
     "text": [
      "Successfully updated KRR.csv with results of trial 54\n"
     ]
    },
    {
     "name": "stderr",
     "output_type": "stream",
     "text": [
      "[I 2023-11-27 13:14:36,866] Trial 59 finished with value: 0.15596310253523385 and parameters: {'alpha': 0.24988316121748105, 'gamma': 1.1368409868261443e-15, 'kernel': 'laplacian'}. Best is trial 32 with value: 0.14079409771706333.\n",
      "[I 2023-11-27 13:14:36,923] Trial 60 finished with value: 0.15700780387444538 and parameters: {'alpha': 0.3568529349251012, 'gamma': 1.1498836932922867e-15, 'kernel': 'laplacian'}. Best is trial 32 with value: 0.14079409771706333.\n",
      "[I 2023-11-27 13:14:37,001] Trial 61 finished with value: 0.15618594181892112 and parameters: {'alpha': 0.36365528095463795, 'gamma': 1.0089649161500953e-15, 'kernel': 'laplacian'}. Best is trial 32 with value: 0.14079409771706333.\n",
      "[I 2023-11-27 13:14:37,006] Trial 63 finished with value: 0.15789165680890882 and parameters: {'alpha': 0.41015934642157287, 'gamma': 1.2776456594954808e-15, 'kernel': 'rbf'}. Best is trial 32 with value: 0.14079409771706333.\n",
      "[I 2023-11-27 13:14:37,032] Trial 54 finished with value: 0.15113177893496485 and parameters: {'alpha': 0.33682371090900054, 'gamma': 1.0972604332852729e-15, 'kernel': 'laplacian'}. Best is trial 32 with value: 0.14079409771706333.\n"
     ]
    },
    {
     "name": "stdout",
     "output_type": "stream",
     "text": [
      "Successfully updated KRR.csv with results of trial 63\n",
      "Successfully updated KRR.csv with results of trial 64\n"
     ]
    },
    {
     "name": "stderr",
     "output_type": "stream",
     "text": [
      "[I 2023-11-27 13:14:37,565] Trial 64 finished with value: 0.16291468132883855 and parameters: {'alpha': 0.34112185081320767, 'gamma': 3.2871821552766333e-15, 'kernel': 'rbf'}. Best is trial 32 with value: 0.14079409771706333.\n",
      "[I 2023-11-27 13:14:37,624] Trial 56 finished with value: 0.14699447898157406 and parameters: {'alpha': 0.2180196885293034, 'gamma': 1.0979929505955627e-15, 'kernel': 'laplacian'}. Best is trial 32 with value: 0.14079409771706333.\n"
     ]
    },
    {
     "name": "stdout",
     "output_type": "stream",
     "text": [
      "Successfully updated KRR.csv with results of trial 65\n",
      "Successfully updated KRR.csv with results of trial 67\n",
      "Successfully updated KRR.csv with results of trial 72\n"
     ]
    },
    {
     "name": "stderr",
     "output_type": "stream",
     "text": [
      "[I 2023-11-27 13:14:38,004] Trial 65 finished with value: 0.15710529055709824 and parameters: {'alpha': 0.49877152282026704, 'gamma': 5.084059729467943e-16, 'kernel': 'linear'}. Best is trial 32 with value: 0.14079409771706333.\n"
     ]
    },
    {
     "name": "stdout",
     "output_type": "stream",
     "text": [
      "Successfully updated KRR.csv with results of trial 71\n",
      "Successfully updated KRR.csv with results of trial 69\n",
      "Successfully updated KRR.csv with results of trial 68\n",
      "Successfully updated KRR.csv with results of trial 70\n"
     ]
    },
    {
     "name": "stderr",
     "output_type": "stream",
     "text": [
      "[I 2023-11-27 13:14:38,237] Trial 72 finished with value: 0.16476676834038495 and parameters: {'alpha': 0.49815349354321625, 'gamma': 7.190142608719663e-16, 'kernel': 'linear'}. Best is trial 32 with value: 0.14079409771706333.\n"
     ]
    },
    {
     "name": "stdout",
     "output_type": "stream",
     "text": [
      "Successfully updated KRR.csv with results of trial 74\n",
      "Successfully updated KRR.csv with results of trial 73\n"
     ]
    },
    {
     "name": "stderr",
     "output_type": "stream",
     "text": [
      "[I 2023-11-27 13:14:38,511] Trial 68 finished with value: 0.15014482520937814 and parameters: {'alpha': 0.5137228937174873, 'gamma': 5.311464049726086e-16, 'kernel': 'linear'}. Best is trial 32 with value: 0.14079409771706333.\n",
      "[I 2023-11-27 13:14:38,555] Trial 71 finished with value: 0.1643421209041162 and parameters: {'alpha': 0.515083511109737, 'gamma': 2.0264751501848946e-15, 'kernel': 'rbf'}. Best is trial 32 with value: 0.14079409771706333.\n",
      "[I 2023-11-27 13:14:38,587] Trial 67 finished with value: 0.1670115519500932 and parameters: {'alpha': 0.4113546901352363, 'gamma': 4.931672353313052e-16, 'kernel': 'rbf'}. Best is trial 32 with value: 0.14079409771706333.\n",
      "[I 2023-11-27 13:14:38,657] Trial 69 finished with value: 0.14621097516276124 and parameters: {'alpha': 0.29253288430686647, 'gamma': 4.965159015694792e-16, 'kernel': 'rbf'}. Best is trial 32 with value: 0.14079409771706333.\n",
      "[I 2023-11-27 13:14:38,754] Trial 74 finished with value: 0.15780745222479386 and parameters: {'alpha': 0.4855656519488991, 'gamma': 4.513441831378365e-15, 'kernel': 'laplacian'}. Best is trial 32 with value: 0.14079409771706333.\n",
      "[I 2023-11-27 13:14:38,759] Trial 75 finished with value: 0.17175347214062642 and parameters: {'alpha': 0.30044615342274483, 'gamma': 1.953398260965476e-15, 'kernel': 'laplacian'}. Best is trial 32 with value: 0.14079409771706333.\n"
     ]
    },
    {
     "name": "stdout",
     "output_type": "stream",
     "text": [
      "Successfully updated KRR.csv with results of trial 75\n",
      "Successfully updated KRR.csv with results of trial 66\n"
     ]
    },
    {
     "name": "stderr",
     "output_type": "stream",
     "text": [
      "[I 2023-11-27 13:14:38,762] Trial 66 finished with value: 0.14827297900724554 and parameters: {'alpha': 0.49797608761624057, 'gamma': 5.110962129478026e-16, 'kernel': 'rbf'}. Best is trial 32 with value: 0.14079409771706333.\n",
      "[I 2023-11-27 13:14:38,762] Trial 73 finished with value: 0.1730245675546863 and parameters: {'alpha': 0.5048501358016159, 'gamma': 1.9415366414963573e-15, 'kernel': 'laplacian'}. Best is trial 32 with value: 0.14079409771706333.\n",
      "[I 2023-11-27 13:14:38,881] Trial 70 finished with value: 0.16954880208191137 and parameters: {'alpha': 0.48301832551140794, 'gamma': 5.549695137649768e-16, 'kernel': 'linear'}. Best is trial 32 with value: 0.14079409771706333.\n"
     ]
    },
    {
     "name": "stdout",
     "output_type": "stream",
     "text": [
      "Successfully updated KRR.csv with results of trial 77\n",
      "Successfully updated KRR.csv with results of trial 78\n",
      "Successfully updated KRR.csv with results of trial 76\n"
     ]
    },
    {
     "name": "stderr",
     "output_type": "stream",
     "text": [
      "[I 2023-11-27 13:14:39,633] Trial 78 finished with value: 0.17228057186824222 and parameters: {'alpha': 0.28640783714816165, 'gamma': 1.4634269965034978e-15, 'kernel': 'rbf'}. Best is trial 32 with value: 0.14079409771706333.\n",
      "[I 2023-11-27 13:14:39,702] Trial 77 finished with value: 0.15294408892514924 and parameters: {'alpha': 0.3003594328278849, 'gamma': 1.5572874223247084e-15, 'kernel': 'rbf'}. Best is trial 32 with value: 0.14079409771706333.\n"
     ]
    },
    {
     "name": "stdout",
     "output_type": "stream",
     "text": [
      "Successfully updated KRR.csv with results of trial 79\n",
      "Successfully updated KRR.csv with results of trial 81\n"
     ]
    },
    {
     "name": "stderr",
     "output_type": "stream",
     "text": [
      "[I 2023-11-27 13:14:40,052] Trial 76 finished with value: 0.16912439306351915 and parameters: {'alpha': 0.29479019691446007, 'gamma': 1.5738973267575015e-15, 'kernel': 'rbf'}. Best is trial 32 with value: 0.14079409771706333.\n"
     ]
    },
    {
     "name": "stdout",
     "output_type": "stream",
     "text": [
      "Successfully updated KRR.csv with results of trial 80\n",
      "Successfully updated KRR.csv with results of trial 82\n"
     ]
    },
    {
     "name": "stderr",
     "output_type": "stream",
     "text": [
      "[I 2023-11-27 13:14:40,317] Trial 80 finished with value: 0.14247049787942193 and parameters: {'alpha': 0.27598838180979723, 'gamma': 1.4404302524619769e-15, 'kernel': 'rbf'}. Best is trial 32 with value: 0.14079409771706333.\n"
     ]
    },
    {
     "name": "stdout",
     "output_type": "stream",
     "text": [
      "Successfully updated KRR.csv with results of trial 86\n",
      "Successfully updated KRR.csv with results of trial 85\n",
      "Successfully updated KRR.csv with results of trial 87\n",
      "Successfully updated KRR.csv with results of trial 84\n"
     ]
    },
    {
     "name": "stderr",
     "output_type": "stream",
     "text": [
      "[I 2023-11-27 13:14:40,620] Trial 79 finished with value: 0.14106344205115476 and parameters: {'alpha': 0.28192091913735756, 'gamma': 1.4185248359997204e-15, 'kernel': 'rbf'}. Best is trial 32 with value: 0.14079409771706333.\n",
      "[I 2023-11-27 13:14:40,678] Trial 82 finished with value: 0.14648612308109407 and parameters: {'alpha': 0.27175443210061917, 'gamma': 1.4031184634207952e-15, 'kernel': 'laplacian'}. Best is trial 32 with value: 0.14079409771706333.\n"
     ]
    },
    {
     "name": "stdout",
     "output_type": "stream",
     "text": [
      "Successfully updated KRR.csv with results of trial 83\n",
      "Successfully updated KRR.csv with results of trial 88\n"
     ]
    },
    {
     "name": "stderr",
     "output_type": "stream",
     "text": [
      "[I 2023-11-27 13:14:40,737] Trial 86 finished with value: 0.1736805558678491 and parameters: {'alpha': 0.3075466842907429, 'gamma': 1.5995831765196797e-15, 'kernel': 'rbf'}. Best is trial 32 with value: 0.14079409771706333.\n",
      "[I 2023-11-27 13:14:40,761] Trial 81 finished with value: 0.17830564658485748 and parameters: {'alpha': 0.2635193618024596, 'gamma': 1.5403564789293101e-15, 'kernel': 'rbf'}. Best is trial 32 with value: 0.14079409771706333.\n",
      "[I 2023-11-27 13:14:40,826] Trial 87 finished with value: 0.1499840686893821 and parameters: {'alpha': 0.13981053312396158, 'gamma': 5.699126230512278e-15, 'kernel': 'laplacian'}. Best is trial 32 with value: 0.14079409771706333.\n",
      "[I 2023-11-27 13:14:40,845] Trial 85 finished with value: 0.15378997312921275 and parameters: {'alpha': 0.2804340737459239, 'gamma': 1.3706409103894065e-15, 'kernel': 'rbf'}. Best is trial 32 with value: 0.14079409771706333.\n",
      "[I 2023-11-27 13:14:40,921] Trial 84 finished with value: 0.1492425904183735 and parameters: {'alpha': 0.285745210504489, 'gamma': 1.5535344006025454e-15, 'kernel': 'rbf'}. Best is trial 32 with value: 0.14079409771706333.\n"
     ]
    },
    {
     "name": "stdout",
     "output_type": "stream",
     "text": [
      "Successfully updated KRR.csv with results of trial 89\n",
      "Successfully updated KRR.csv with results of trial 90\n",
      "Successfully updated KRR.csv with results of trial 91\n"
     ]
    },
    {
     "name": "stderr",
     "output_type": "stream",
     "text": [
      "[I 2023-11-27 13:14:41,502] Trial 83 finished with value: 0.15323863579908545 and parameters: {'alpha': 0.26781977835117843, 'gamma': 1.5076676823853045e-15, 'kernel': 'rbf'}. Best is trial 32 with value: 0.14079409771706333.\n",
      "[I 2023-11-27 13:14:41,571] Trial 88 finished with value: 0.16029182816777224 and parameters: {'alpha': 0.1989687770127131, 'gamma': 8.478907194216225e-15, 'kernel': 'laplacian'}. Best is trial 32 with value: 0.14079409771706333.\n",
      "[I 2023-11-27 13:14:41,612] Trial 89 finished with value: 0.15892796025265354 and parameters: {'alpha': 0.2056798165486917, 'gamma': 8.512841106834245e-16, 'kernel': 'rbf'}. Best is trial 32 with value: 0.14079409771706333.\n"
     ]
    },
    {
     "name": "stdout",
     "output_type": "stream",
     "text": [
      "Successfully updated KRR.csv with results of trial 92\n"
     ]
    },
    {
     "name": "stderr",
     "output_type": "stream",
     "text": [
      "[I 2023-11-27 13:14:41,856] Trial 90 finished with value: 0.155039062420658 and parameters: {'alpha': 0.2689521087569086, 'gamma': 8.626155589352178e-15, 'kernel': 'rbf'}. Best is trial 32 with value: 0.14079409771706333.\n",
      "[I 2023-11-27 13:14:41,945] Trial 91 finished with value: 0.15711500024692723 and parameters: {'alpha': 0.33142857294294453, 'gamma': 2.148764808460444e-15, 'kernel': 'rbf'}. Best is trial 32 with value: 0.14079409771706333.\n",
      "[I 2023-11-27 13:14:41,999] Trial 92 finished with value: 0.16437486126611064 and parameters: {'alpha': 0.3290520612696488, 'gamma': 8.226511966065584e-16, 'kernel': 'rbf'}. Best is trial 32 with value: 0.14079409771706333.\n"
     ]
    },
    {
     "name": "stdout",
     "output_type": "stream",
     "text": [
      "Successfully updated KRR.csv with results of trial 94\n",
      "Successfully updated KRR.csv with results of trial 93\n",
      "Successfully updated KRR.csv with results of trial 95\n"
     ]
    },
    {
     "name": "stderr",
     "output_type": "stream",
     "text": [
      "[I 2023-11-27 13:14:42,392] Trial 94 finished with value: 0.14940651230495902 and parameters: {'alpha': 0.32282046505164136, 'gamma': 2.6936422754440542e-15, 'kernel': 'rbf'}. Best is trial 32 with value: 0.14079409771706333.\n",
      "[I 2023-11-27 13:14:42,399] Trial 93 finished with value: 0.1780609039732762 and parameters: {'alpha': 0.2494806353827203, 'gamma': 2.1779805051259403e-15, 'kernel': 'rbf'}. Best is trial 32 with value: 0.14079409771706333.\n",
      "[I 2023-11-27 13:14:42,426] Trial 95 finished with value: 0.1542391622022017 and parameters: {'alpha': 0.3281224668549141, 'gamma': 2.2118735757349588e-15, 'kernel': 'rbf'}. Best is trial 32 with value: 0.14079409771706333.\n"
     ]
    },
    {
     "name": "stdout",
     "output_type": "stream",
     "text": [
      "Successfully updated KRR.csv with results of trial 96\n",
      "Successfully updated KRR.csv with results of trial 97\n",
      "Successfully updated KRR.csv with results of trial 99\n",
      "Successfully updated KRR.csv with results of trial 100\n"
     ]
    },
    {
     "name": "stderr",
     "output_type": "stream",
     "text": [
      "[I 2023-11-27 13:14:43,116] Trial 97 finished with value: 0.18131768229607437 and parameters: {'alpha': 0.32381660047808336, 'gamma': 8.389103577168161e-16, 'kernel': 'rbf'}. Best is trial 32 with value: 0.14079409771706333.\n"
     ]
    },
    {
     "name": "stdout",
     "output_type": "stream",
     "text": [
      "Successfully updated KRR.csv with results of trial 102\n",
      "Successfully updated KRR.csv with results of trial 101\n",
      "Successfully updated KRR.csv with results of trial 98\n"
     ]
    },
    {
     "name": "stderr",
     "output_type": "stream",
     "text": [
      "[I 2023-11-27 13:14:43,277] Trial 96 finished with value: 0.14736943409695158 and parameters: {'alpha': 0.31845185300039286, 'gamma': 2.0751414674577685e-15, 'kernel': 'rbf'}. Best is trial 32 with value: 0.14079409771706333.\n",
      "[I 2023-11-27 13:14:43,337] Trial 99 finished with value: 0.15153182817218872 and parameters: {'alpha': 0.233884278046136, 'gamma': 1.798854600108247e-15, 'kernel': 'laplacian'}. Best is trial 32 with value: 0.14079409771706333.\n",
      "[I 2023-11-27 13:14:43,377] Trial 101 finished with value: 0.16014577572096314 and parameters: {'alpha': 0.23718534236472266, 'gamma': 2.700786751888917e-15, 'kernel': 'laplacian'}. Best is trial 32 with value: 0.14079409771706333.\n"
     ]
    },
    {
     "name": "stdout",
     "output_type": "stream",
     "text": [
      "Successfully updated KRR.csv with results of trial 104\n",
      "Successfully updated KRR.csv with results of trial 103\n"
     ]
    },
    {
     "name": "stderr",
     "output_type": "stream",
     "text": [
      "[I 2023-11-27 13:14:43,384] Trial 98 finished with value: 0.15588216945284064 and parameters: {'alpha': 0.2362729526571897, 'gamma': 1.763989465874645e-15, 'kernel': 'laplacian'}. Best is trial 32 with value: 0.14079409771706333.\n",
      "[I 2023-11-27 13:14:43,530] Trial 100 finished with value: 0.1611718282827418 and parameters: {'alpha': 0.25205303249744493, 'gamma': 1.807091794524714e-15, 'kernel': 'laplacian'}. Best is trial 32 with value: 0.14079409771706333.\n",
      "[I 2023-11-27 13:14:43,556] Trial 103 finished with value: 0.14943384725695322 and parameters: {'alpha': 0.24321064849126606, 'gamma': 1.8719840896151015e-15, 'kernel': 'laplacian'}. Best is trial 32 with value: 0.14079409771706333.\n",
      "[I 2023-11-27 13:14:43,599] Trial 104 finished with value: 0.16049416326118757 and parameters: {'alpha': 0.24082336422277287, 'gamma': 3.109128531473517e-16, 'kernel': 'laplacian'}. Best is trial 32 with value: 0.14079409771706333.\n",
      "[I 2023-11-27 13:14:43,659] Trial 102 finished with value: 0.17185627662591554 and parameters: {'alpha': 0.2410245519048113, 'gamma': 1.79924688097604e-15, 'kernel': 'laplacian'}. Best is trial 32 with value: 0.14079409771706333.\n"
     ]
    },
    {
     "name": "stdout",
     "output_type": "stream",
     "text": [
      "Successfully updated KRR.csv with results of trial 106\n",
      "Successfully updated KRR.csv with results of trial 108\n",
      "Successfully updated KRR.csv with results of trial 109\n",
      "Successfully updated KRR.csv with results of trial 107\n",
      "Successfully updated KRR.csv with results of trial 105\n"
     ]
    },
    {
     "name": "stderr",
     "output_type": "stream",
     "text": [
      "[I 2023-11-27 13:14:44,635] Trial 109 finished with value: 0.156255828580791 and parameters: {'alpha': 0.19426425625486002, 'gamma': 1.0373240048957758e-15, 'kernel': 'laplacian'}. Best is trial 32 with value: 0.14079409771706333.\n",
      "[I 2023-11-27 13:14:44,663] Trial 105 finished with value: 0.1559067879747237 and parameters: {'alpha': 0.24049461083361812, 'gamma': 1.7539496566391406e-15, 'kernel': 'laplacian'}. Best is trial 32 with value: 0.14079409771706333.\n",
      "[I 2023-11-27 13:14:44,674] Trial 108 finished with value: 0.1614531531539663 and parameters: {'alpha': 0.18168691112050545, 'gamma': 1.376222398195928e-15, 'kernel': 'laplacian'}. Best is trial 32 with value: 0.14079409771706333.\n"
     ]
    },
    {
     "name": "stdout",
     "output_type": "stream",
     "text": [
      "Successfully updated KRR.csv with results of trial 113\n",
      "Successfully updated KRR.csv with results of trial 111\n"
     ]
    },
    {
     "name": "stderr",
     "output_type": "stream",
     "text": [
      "[I 2023-11-27 13:14:44,837] Trial 107 finished with value: 0.15495396318358304 and parameters: {'alpha': 0.1858223490827841, 'gamma': 1.3379308882329836e-15, 'kernel': 'laplacian'}. Best is trial 32 with value: 0.14079409771706333.\n",
      "[I 2023-11-27 13:14:44,852] Trial 106 finished with value: 0.1767800061826507 and parameters: {'alpha': 0.3913796556114973, 'gamma': 1.7565577539810022e-15, 'kernel': 'laplacian'}. Best is trial 32 with value: 0.14079409771706333.\n"
     ]
    },
    {
     "name": "stdout",
     "output_type": "stream",
     "text": [
      "Successfully updated KRR.csv with results of trial 110\n",
      "Successfully updated KRR.csv with results of trial 115\n"
     ]
    },
    {
     "name": "stderr",
     "output_type": "stream",
     "text": [
      "[I 2023-11-27 13:14:45,074] Trial 111 finished with value: 0.14981378711178828 and parameters: {'alpha': 0.20021598524754097, 'gamma': 1.3174609109881362e-15, 'kernel': 'laplacian'}. Best is trial 32 with value: 0.14079409771706333.\n"
     ]
    },
    {
     "name": "stdout",
     "output_type": "stream",
     "text": [
      "Successfully updated KRR.csv with results of trial 112\n",
      "Successfully updated KRR.csv with results of trial 114\n"
     ]
    },
    {
     "name": "stderr",
     "output_type": "stream",
     "text": [
      "[I 2023-11-27 13:14:45,281] Trial 113 finished with value: 0.14926057089442188 and parameters: {'alpha': 0.1991970829462258, 'gamma': 1.1284153650156596e-15, 'kernel': 'laplacian'}. Best is trial 110 with value: 0.14078383474153056.\n",
      "[I 2023-11-27 13:14:45,301] Trial 112 finished with value: 0.1486781309768116 and parameters: {'alpha': 0.19499883064620507, 'gamma': 1.281402092199426e-15, 'kernel': 'laplacian'}. Best is trial 110 with value: 0.14078383474153056.\n",
      "[I 2023-11-27 13:14:45,312] Trial 114 finished with value: 0.17539696192310864 and parameters: {'alpha': 0.18908632845518197, 'gamma': 1.245037791643035e-15, 'kernel': 'laplacian'}. Best is trial 110 with value: 0.14078383474153056.\n",
      "[I 2023-11-27 13:14:45,429] Trial 115 finished with value: 0.16009826971829264 and parameters: {'alpha': 0.21041448675184532, 'gamma': 1.3049338420302785e-15, 'kernel': 'laplacian'}. Best is trial 110 with value: 0.14078383474153056.\n"
     ]
    },
    {
     "name": "stdout",
     "output_type": "stream",
     "text": [
      "Successfully updated KRR.csv with results of trial 116\n",
      "Successfully updated KRR.csv with results of trial 117\n"
     ]
    },
    {
     "name": "stderr",
     "output_type": "stream",
     "text": [
      "[I 2023-11-27 13:14:45,497] Trial 116 finished with value: 0.1504094493710709 and parameters: {'alpha': 0.1868610835078482, 'gamma': 1.1711260055171012e-15, 'kernel': 'laplacian'}. Best is trial 110 with value: 0.14078383474153056.\n",
      "[I 2023-11-27 13:14:45,510] Trial 110 finished with value: 0.14078383474153056 and parameters: {'alpha': 0.1834784025920659, 'gamma': 1.2756161869189818e-15, 'kernel': 'laplacian'}. Best is trial 110 with value: 0.14078383474153056.\n",
      "[I 2023-11-27 13:14:45,523] Trial 117 finished with value: 0.15654971836793807 and parameters: {'alpha': 0.35374070330249063, 'gamma': 1.2299860142298225e-15, 'kernel': 'linear'}. Best is trial 110 with value: 0.14078383474153056.\n",
      "[I 2023-11-27 13:14:45,561] Trial 118 finished with value: 0.1420214931257688 and parameters: {'alpha': 0.3599647929475638, 'gamma': 8.97599213745272e-16, 'kernel': 'linear'}. Best is trial 110 with value: 0.14078383474153056.\n",
      "[I 2023-11-27 13:14:45,570] Trial 119 finished with value: 0.16089795712497035 and parameters: {'alpha': 0.14085005404866546, 'gamma': 9.152053564139915e-16, 'kernel': 'linear'}. Best is trial 110 with value: 0.14078383474153056.\n"
     ]
    },
    {
     "name": "stdout",
     "output_type": "stream",
     "text": [
      "Successfully updated KRR.csv with results of trial 118\n",
      "Successfully updated KRR.csv with results of trial 119\n",
      "random 3A4 GB\n"
     ]
    },
    {
     "name": "stderr",
     "output_type": "stream",
     "text": [
      "[I 2023-11-27 13:14:45,670] Using an existing study with name 'GB' instead of creating a new one.\n",
      "[I 2023-11-27 13:15:20,558] Trial 24 finished with value: 0.15300083306596277 and parameters: {'n_estimators': 200, 'learning_rate': 0.406461527816382, 'max_depth': 5}. Best is trial 18 with value: 0.11015494653723151.\n"
     ]
    },
    {
     "name": "stdout",
     "output_type": "stream",
     "text": [
      "Successfully created GB.csv with results of trial 24 as the first entry\n"
     ]
    },
    {
     "name": "stderr",
     "output_type": "stream",
     "text": [
      "[I 2023-11-27 13:15:21,357] Trial 20 finished with value: 0.16713274311182888 and parameters: {'n_estimators': 10, 'learning_rate': 0.44062700328011173, 'max_depth': 5}. Best is trial 18 with value: 0.11015494653723151.\n"
     ]
    },
    {
     "name": "stdout",
     "output_type": "stream",
     "text": [
      "Successfully updated GB.csv with results of trial 20\n",
      "Successfully updated GB.csv with results of trial 27\n"
     ]
    },
    {
     "name": "stderr",
     "output_type": "stream",
     "text": [
      "[I 2023-11-27 13:15:21,512] Trial 27 finished with value: 0.17435004701996762 and parameters: {'n_estimators': 10, 'learning_rate': 0.3889422707527904, 'max_depth': 5}. Best is trial 18 with value: 0.11015494653723151.\n",
      "[I 2023-11-27 13:15:22,158] Trial 23 finished with value: 0.16495283921388146 and parameters: {'n_estimators': 200, 'learning_rate': 0.39952196155827296, 'max_depth': 5}. Best is trial 18 with value: 0.11015494653723151.\n"
     ]
    },
    {
     "name": "stdout",
     "output_type": "stream",
     "text": [
      "Successfully updated GB.csv with results of trial 23\n"
     ]
    },
    {
     "name": "stderr",
     "output_type": "stream",
     "text": [
      "[I 2023-11-27 13:15:22,522] Trial 29 finished with value: 0.14643975180090618 and parameters: {'n_estimators': 10, 'learning_rate': 0.3967282878616314, 'max_depth': 5}. Best is trial 18 with value: 0.11015494653723151.\n"
     ]
    },
    {
     "name": "stdout",
     "output_type": "stream",
     "text": [
      "Successfully updated GB.csv with results of trial 29\n",
      "Successfully updated GB.csv with results of trial 30\n"
     ]
    },
    {
     "name": "stderr",
     "output_type": "stream",
     "text": [
      "[I 2023-11-27 13:15:22,678] Trial 30 finished with value: 0.15657691025694556 and parameters: {'n_estimators': 200, 'learning_rate': 0.38491701208089085, 'max_depth': 5}. Best is trial 18 with value: 0.11015494653723151.\n",
      "[I 2023-11-27 13:15:24,289] Trial 21 finished with value: 0.1726596719283271 and parameters: {'n_estimators': 200, 'learning_rate': 0.3795295333983262, 'max_depth': 5}. Best is trial 18 with value: 0.11015494653723151.\n"
     ]
    },
    {
     "name": "stdout",
     "output_type": "stream",
     "text": [
      "Successfully updated GB.csv with results of trial 21\n"
     ]
    },
    {
     "name": "stderr",
     "output_type": "stream",
     "text": [
      "[I 2023-11-27 13:15:24,613] Trial 22 finished with value: 0.19067746046611758 and parameters: {'n_estimators': 200, 'learning_rate': 0.42014629823714117, 'max_depth': 5}. Best is trial 18 with value: 0.11015494653723151.\n"
     ]
    },
    {
     "name": "stdout",
     "output_type": "stream",
     "text": [
      "Successfully updated GB.csv with results of trial 22\n"
     ]
    },
    {
     "name": "stderr",
     "output_type": "stream",
     "text": [
      "[I 2023-11-27 13:15:24,854] Trial 26 finished with value: 0.16771670672548122 and parameters: {'n_estimators': 200, 'learning_rate': 0.36576110307315035, 'max_depth': 5}. Best is trial 18 with value: 0.11015494653723151.\n"
     ]
    },
    {
     "name": "stdout",
     "output_type": "stream",
     "text": [
      "Successfully updated GB.csv with results of trial 26\n"
     ]
    },
    {
     "name": "stderr",
     "output_type": "stream",
     "text": [
      "[I 2023-11-27 13:15:25,358] Trial 25 finished with value: 0.16294806388711636 and parameters: {'n_estimators': 200, 'learning_rate': 0.3653982708793113, 'max_depth': 5}. Best is trial 18 with value: 0.11015494653723151.\n"
     ]
    },
    {
     "name": "stdout",
     "output_type": "stream",
     "text": [
      "Successfully updated GB.csv with results of trial 25\n",
      "Successfully updated GB.csv with results of trial 31\n"
     ]
    },
    {
     "name": "stderr",
     "output_type": "stream",
     "text": [
      "[I 2023-11-27 13:15:25,617] Trial 31 finished with value: 0.16871541290235023 and parameters: {'n_estimators': 200, 'learning_rate': 0.3992354895435042, 'max_depth': 5}. Best is trial 18 with value: 0.11015494653723151.\n",
      "[I 2023-11-27 13:15:26,573] Trial 28 finished with value: 0.185510387821746 and parameters: {'n_estimators': 200, 'learning_rate': 0.3682467891243041, 'max_depth': 5}. Best is trial 18 with value: 0.11015494653723151.\n"
     ]
    },
    {
     "name": "stdout",
     "output_type": "stream",
     "text": [
      "Successfully updated GB.csv with results of trial 28\n"
     ]
    },
    {
     "name": "stderr",
     "output_type": "stream",
     "text": [
      "[I 2023-11-27 13:15:54,541] Trial 32 finished with value: 0.16656346553833112 and parameters: {'n_estimators': 20, 'learning_rate': 0.3840951168054833, 'max_depth': 5}. Best is trial 18 with value: 0.11015494653723151.\n"
     ]
    },
    {
     "name": "stdout",
     "output_type": "stream",
     "text": [
      "Successfully updated GB.csv with results of trial 32\n"
     ]
    },
    {
     "name": "stderr",
     "output_type": "stream",
     "text": [
      "[I 2023-11-27 13:15:55,343] Trial 33 finished with value: 0.2154282896651164 and parameters: {'n_estimators': 20, 'learning_rate': 0.2231133513335612, 'max_depth': 5}. Best is trial 18 with value: 0.11015494653723151.\n",
      "[I 2023-11-27 13:15:55,355] Trial 34 finished with value: 0.20161851661909147 and parameters: {'n_estimators': 20, 'learning_rate': 0.22769213598012647, 'max_depth': 5}. Best is trial 18 with value: 0.11015494653723151.\n"
     ]
    },
    {
     "name": "stdout",
     "output_type": "stream",
     "text": [
      "Successfully updated GB.csv with results of trial 33\n",
      "Successfully updated GB.csv with results of trial 34\n",
      "Successfully updated GB.csv with results of trial 35\n"
     ]
    },
    {
     "name": "stderr",
     "output_type": "stream",
     "text": [
      "[I 2023-11-27 13:15:55,647] Trial 35 finished with value: 0.19751705277164122 and parameters: {'n_estimators': 20, 'learning_rate': 0.20807183196315981, 'max_depth': 2}. Best is trial 18 with value: 0.11015494653723151.\n"
     ]
    },
    {
     "name": "stdout",
     "output_type": "stream",
     "text": [
      "Successfully updated GB.csv with results of trial 36\n"
     ]
    },
    {
     "name": "stderr",
     "output_type": "stream",
     "text": [
      "[I 2023-11-27 13:15:55,815] Trial 36 finished with value: 0.18931601426642178 and parameters: {'n_estimators': 20, 'learning_rate': 0.20390573907964282, 'max_depth': 2}. Best is trial 18 with value: 0.11015494653723151.\n",
      "[I 2023-11-27 13:15:56,109] Trial 37 finished with value: 0.16182115107353548 and parameters: {'n_estimators': 20, 'learning_rate': 0.25922460586281737, 'max_depth': 5}. Best is trial 18 with value: 0.11015494653723151.\n"
     ]
    },
    {
     "name": "stdout",
     "output_type": "stream",
     "text": [
      "Successfully updated GB.csv with results of trial 37\n"
     ]
    },
    {
     "name": "stderr",
     "output_type": "stream",
     "text": [
      "[I 2023-11-27 13:16:00,742] Trial 40 finished with value: 0.19806589103139624 and parameters: {'n_estimators': 20, 'learning_rate': 0.22190402383362165, 'max_depth': 2}. Best is trial 18 with value: 0.11015494653723151.\n"
     ]
    },
    {
     "name": "stdout",
     "output_type": "stream",
     "text": [
      "Successfully updated GB.csv with results of trial 40\n",
      "Successfully updated GB.csv with results of trial 38\n"
     ]
    },
    {
     "name": "stderr",
     "output_type": "stream",
     "text": [
      "[I 2023-11-27 13:16:00,984] Trial 38 finished with value: 0.1802480771797893 and parameters: {'n_estimators': 20, 'learning_rate': 0.22667764238477198, 'max_depth': 2}. Best is trial 18 with value: 0.11015494653723151.\n"
     ]
    },
    {
     "name": "stdout",
     "output_type": "stream",
     "text": [
      "Successfully updated GB.csv with results of trial 39\n",
      "Successfully updated GB.csv with results of trial 42\n"
     ]
    },
    {
     "name": "stderr",
     "output_type": "stream",
     "text": [
      "[I 2023-11-27 13:16:01,302] Trial 39 finished with value: 0.1758177135843173 and parameters: {'n_estimators': 20, 'learning_rate': 0.2233976865030763, 'max_depth': 2}. Best is trial 18 with value: 0.11015494653723151.\n",
      "[I 2023-11-27 13:16:01,436] Trial 42 finished with value: 0.17305757976742797 and parameters: {'n_estimators': 20, 'learning_rate': 0.20765987570902653, 'max_depth': 4}. Best is trial 18 with value: 0.11015494653723151.\n"
     ]
    },
    {
     "name": "stdout",
     "output_type": "stream",
     "text": [
      "Successfully updated GB.csv with results of trial 41\n"
     ]
    },
    {
     "name": "stderr",
     "output_type": "stream",
     "text": [
      "[I 2023-11-27 13:16:01,919] Trial 41 finished with value: 0.19727740404710967 and parameters: {'n_estimators': 20, 'learning_rate': 0.1869809790085906, 'max_depth': 2}. Best is trial 18 with value: 0.11015494653723151.\n",
      "[I 2023-11-27 13:16:02,545] Trial 43 finished with value: 0.21702501429147406 and parameters: {'n_estimators': 20, 'learning_rate': 0.24812430050647644, 'max_depth': 2}. Best is trial 18 with value: 0.11015494653723151.\n"
     ]
    },
    {
     "name": "stdout",
     "output_type": "stream",
     "text": [
      "Successfully updated GB.csv with results of trial 43\n"
     ]
    },
    {
     "name": "stderr",
     "output_type": "stream",
     "text": [
      "[I 2023-11-27 13:16:27,643] Trial 44 finished with value: 0.19932609879545418 and parameters: {'n_estimators': 20, 'learning_rate': 0.23329243838988262, 'max_depth': 2}. Best is trial 18 with value: 0.11015494653723151.\n"
     ]
    },
    {
     "name": "stdout",
     "output_type": "stream",
     "text": [
      "Successfully updated GB.csv with results of trial 44\n"
     ]
    },
    {
     "name": "stderr",
     "output_type": "stream",
     "text": [
      "[I 2023-11-27 13:16:28,589] Trial 45 finished with value: 0.18330380883539443 and parameters: {'n_estimators': 20, 'learning_rate': 0.1198334200070578, 'max_depth': 2}. Best is trial 18 with value: 0.11015494653723151.\n"
     ]
    },
    {
     "name": "stdout",
     "output_type": "stream",
     "text": [
      "Successfully updated GB.csv with results of trial 45\n"
     ]
    },
    {
     "name": "stderr",
     "output_type": "stream",
     "text": [
      "[I 2023-11-27 13:16:28,859] Trial 46 finished with value: 0.1896907519126374 and parameters: {'n_estimators': 20, 'learning_rate': 0.2918408472616328, 'max_depth': 2}. Best is trial 18 with value: 0.11015494653723151.\n"
     ]
    },
    {
     "name": "stdout",
     "output_type": "stream",
     "text": [
      "Successfully updated GB.csv with results of trial 46\n"
     ]
    },
    {
     "name": "stderr",
     "output_type": "stream",
     "text": [
      "[I 2023-11-27 13:16:30,133] Trial 47 finished with value: 0.17964602764690527 and parameters: {'n_estimators': 20, 'learning_rate': 0.15422101862733423, 'max_depth': 4}. Best is trial 18 with value: 0.11015494653723151.\n"
     ]
    },
    {
     "name": "stdout",
     "output_type": "stream",
     "text": [
      "Successfully updated GB.csv with results of trial 47\n",
      "Successfully updated GB.csv with results of trial 48\n",
      "Successfully updated GB.csv with results of trial 49\n"
     ]
    },
    {
     "name": "stderr",
     "output_type": "stream",
     "text": [
      "[I 2023-11-27 13:16:30,587] Trial 48 finished with value: 0.20761833633538465 and parameters: {'n_estimators': 20, 'learning_rate': 0.1484795341798664, 'max_depth': 4}. Best is trial 18 with value: 0.11015494653723151.\n",
      "[I 2023-11-27 13:16:30,602] Trial 49 finished with value: 0.20171661721963208 and parameters: {'n_estimators': 20, 'learning_rate': 0.3089326909207095, 'max_depth': 4}. Best is trial 18 with value: 0.11015494653723151.\n",
      "[I 2023-11-27 13:16:39,679] Trial 50 finished with value: 0.1694722102330746 and parameters: {'n_estimators': 20, 'learning_rate': 0.12771981667166943, 'max_depth': 4}. Best is trial 18 with value: 0.11015494653723151.\n"
     ]
    },
    {
     "name": "stdout",
     "output_type": "stream",
     "text": [
      "Successfully updated GB.csv with results of trial 50\n"
     ]
    },
    {
     "name": "stderr",
     "output_type": "stream",
     "text": [
      "[I 2023-11-27 13:16:40,184] Trial 51 finished with value: 0.18583930846779564 and parameters: {'n_estimators': 20, 'learning_rate': 0.14386789828383448, 'max_depth': 4}. Best is trial 18 with value: 0.11015494653723151.\n"
     ]
    },
    {
     "name": "stdout",
     "output_type": "stream",
     "text": [
      "Successfully updated GB.csv with results of trial 51\n"
     ]
    },
    {
     "name": "stderr",
     "output_type": "stream",
     "text": [
      "[I 2023-11-27 13:16:40,529] Trial 53 finished with value: 0.18347737844096543 and parameters: {'n_estimators': 10, 'learning_rate': 0.31694045744604893, 'max_depth': 1}. Best is trial 18 with value: 0.11015494653723151.\n"
     ]
    },
    {
     "name": "stdout",
     "output_type": "stream",
     "text": [
      "Successfully updated GB.csv with results of trial 53\n"
     ]
    },
    {
     "name": "stderr",
     "output_type": "stream",
     "text": [
      "[I 2023-11-27 13:16:40,774] Trial 52 finished with value: 0.19073231559234838 and parameters: {'n_estimators': 10, 'learning_rate': 0.3215120227155068, 'max_depth': 1}. Best is trial 18 with value: 0.11015494653723151.\n"
     ]
    },
    {
     "name": "stdout",
     "output_type": "stream",
     "text": [
      "Successfully updated GB.csv with results of trial 52\n",
      "Successfully updated GB.csv with results of trial 54\n"
     ]
    },
    {
     "name": "stderr",
     "output_type": "stream",
     "text": [
      "[I 2023-11-27 13:16:41,139] Trial 54 finished with value: 0.188160647548402 and parameters: {'n_estimators': 10, 'learning_rate': 0.2934533684190639, 'max_depth': 1}. Best is trial 18 with value: 0.11015494653723151.\n",
      "[I 2023-11-27 13:16:42,152] Trial 55 finished with value: 0.18716067932958638 and parameters: {'n_estimators': 10, 'learning_rate': 0.2907401028218468, 'max_depth': 1}. Best is trial 18 with value: 0.11015494653723151.\n"
     ]
    },
    {
     "name": "stdout",
     "output_type": "stream",
     "text": [
      "Successfully updated GB.csv with results of trial 55\n"
     ]
    },
    {
     "name": "stderr",
     "output_type": "stream",
     "text": [
      "[I 2023-11-27 13:17:02,903] Trial 56 finished with value: 0.1674550401798178 and parameters: {'n_estimators': 10, 'learning_rate': 0.3122097941848973, 'max_depth': 1}. Best is trial 18 with value: 0.11015494653723151.\n"
     ]
    },
    {
     "name": "stdout",
     "output_type": "stream",
     "text": [
      "Successfully updated GB.csv with results of trial 56\n"
     ]
    },
    {
     "name": "stderr",
     "output_type": "stream",
     "text": [
      "[I 2023-11-27 13:17:04,027] Trial 58 finished with value: 0.16818030629312844 and parameters: {'n_estimators': 10, 'learning_rate': 0.3184549536059754, 'max_depth': 1}. Best is trial 18 with value: 0.11015494653723151.\n",
      "[I 2023-11-27 13:17:04,053] Trial 57 finished with value: 0.19206084523960132 and parameters: {'n_estimators': 10, 'learning_rate': 0.30253561355304254, 'max_depth': 4}. Best is trial 18 with value: 0.11015494653723151.\n"
     ]
    },
    {
     "name": "stdout",
     "output_type": "stream",
     "text": [
      "Successfully updated GB.csv with results of trial 58\n",
      "Successfully updated GB.csv with results of trial 57\n"
     ]
    },
    {
     "name": "stderr",
     "output_type": "stream",
     "text": [
      "[I 2023-11-27 13:17:05,866] Trial 60 finished with value: 0.20708199027912375 and parameters: {'n_estimators': 10, 'learning_rate': 0.3189453428095879, 'max_depth': 1}. Best is trial 18 with value: 0.11015494653723151.\n",
      "[I 2023-11-27 13:17:05,894] Trial 59 finished with value: 0.1973418329745883 and parameters: {'n_estimators': 10, 'learning_rate': 0.33115518664609656, 'max_depth': 1}. Best is trial 18 with value: 0.11015494653723151.\n"
     ]
    },
    {
     "name": "stdout",
     "output_type": "stream",
     "text": [
      "Successfully updated GB.csv with results of trial 60\n",
      "Successfully updated GB.csv with results of trial 59\n"
     ]
    },
    {
     "name": "stderr",
     "output_type": "stream",
     "text": [
      "[I 2023-11-27 13:17:06,458] Trial 61 finished with value: 0.19591316119308655 and parameters: {'n_estimators': 10, 'learning_rate': 0.3088001536197464, 'max_depth': 1}. Best is trial 18 with value: 0.11015494653723151.\n"
     ]
    },
    {
     "name": "stdout",
     "output_type": "stream",
     "text": [
      "Successfully updated GB.csv with results of trial 61\n"
     ]
    },
    {
     "name": "stderr",
     "output_type": "stream",
     "text": [
      "[I 2023-11-27 13:17:17,354] Trial 62 finished with value: 0.1912271248651051 and parameters: {'n_estimators': 10, 'learning_rate': 0.2960514203141632, 'max_depth': 1}. Best is trial 18 with value: 0.11015494653723151.\n"
     ]
    },
    {
     "name": "stdout",
     "output_type": "stream",
     "text": [
      "Successfully updated GB.csv with results of trial 62\n"
     ]
    },
    {
     "name": "stderr",
     "output_type": "stream",
     "text": [
      "[I 2023-11-27 13:17:17,686] Trial 64 finished with value: 0.15698707995147657 and parameters: {'n_estimators': 500, 'learning_rate': 0.3285236130477055, 'max_depth': 5}. Best is trial 18 with value: 0.11015494653723151.\n"
     ]
    },
    {
     "name": "stdout",
     "output_type": "stream",
     "text": [
      "Successfully updated GB.csv with results of trial 64\n"
     ]
    },
    {
     "name": "stderr",
     "output_type": "stream",
     "text": [
      "[I 2023-11-27 13:17:18,116] Trial 63 finished with value: 0.17768406486664146 and parameters: {'n_estimators': 10, 'learning_rate': 0.3029467075369987, 'max_depth': 1}. Best is trial 18 with value: 0.11015494653723151.\n"
     ]
    },
    {
     "name": "stdout",
     "output_type": "stream",
     "text": [
      "Successfully updated GB.csv with results of trial 63\n"
     ]
    },
    {
     "name": "stderr",
     "output_type": "stream",
     "text": [
      "[I 2023-11-27 13:17:18,803] Trial 66 finished with value: 0.17976884866829093 and parameters: {'n_estimators': 500, 'learning_rate': 0.45134393641444165, 'max_depth': 5}. Best is trial 18 with value: 0.11015494653723151.\n"
     ]
    },
    {
     "name": "stdout",
     "output_type": "stream",
     "text": [
      "Successfully updated GB.csv with results of trial 66\n",
      "Successfully updated GB.csv with results of trial 65\n"
     ]
    },
    {
     "name": "stderr",
     "output_type": "stream",
     "text": [
      "[I 2023-11-27 13:17:19,034] Trial 65 finished with value: 0.166431009432602 and parameters: {'n_estimators': 500, 'learning_rate': 0.28419638694949295, 'max_depth': 5}. Best is trial 18 with value: 0.11015494653723151.\n",
      "[I 2023-11-27 13:17:19,378] Trial 67 finished with value: 0.203701061194851 and parameters: {'n_estimators': 500, 'learning_rate': 0.47331013195377747, 'max_depth': 5}. Best is trial 18 with value: 0.11015494653723151.\n"
     ]
    },
    {
     "name": "stdout",
     "output_type": "stream",
     "text": [
      "Successfully updated GB.csv with results of trial 67\n"
     ]
    },
    {
     "name": "stderr",
     "output_type": "stream",
     "text": [
      "[I 2023-11-27 13:17:35,944] Trial 68 finished with value: 0.20266021578551197 and parameters: {'n_estimators': 500, 'learning_rate': 0.5068510533591468, 'max_depth': 5}. Best is trial 18 with value: 0.11015494653723151.\n"
     ]
    },
    {
     "name": "stdout",
     "output_type": "stream",
     "text": [
      "Successfully updated GB.csv with results of trial 68\n",
      "Successfully updated GB.csv with results of trial 69\n"
     ]
    },
    {
     "name": "stderr",
     "output_type": "stream",
     "text": [
      "[I 2023-11-27 13:17:36,235] Trial 69 finished with value: 0.1909905561795577 and parameters: {'n_estimators': 500, 'learning_rate': 0.4859174929429131, 'max_depth': 5}. Best is trial 18 with value: 0.11015494653723151.\n",
      "[I 2023-11-27 13:17:37,058] Trial 70 finished with value: 0.16540495457803192 and parameters: {'n_estimators': 500, 'learning_rate': 0.4551247097908251, 'max_depth': 5}. Best is trial 18 with value: 0.11015494653723151.\n"
     ]
    },
    {
     "name": "stdout",
     "output_type": "stream",
     "text": [
      "Successfully updated GB.csv with results of trial 70\n"
     ]
    },
    {
     "name": "stderr",
     "output_type": "stream",
     "text": [
      "[I 2023-11-27 13:17:38,418] Trial 71 finished with value: 0.1714808608190016 and parameters: {'n_estimators': 500, 'learning_rate': 0.4945916311435411, 'max_depth': 5}. Best is trial 18 with value: 0.11015494653723151.\n"
     ]
    },
    {
     "name": "stdout",
     "output_type": "stream",
     "text": [
      "Successfully updated GB.csv with results of trial 71\n",
      "Successfully updated GB.csv with results of trial 73\n",
      "Successfully updated GB.csv with results of trial 72\n"
     ]
    },
    {
     "name": "stderr",
     "output_type": "stream",
     "text": [
      "[I 2023-11-27 13:17:38,759] Trial 73 finished with value: 0.15940667580080967 and parameters: {'n_estimators': 500, 'learning_rate': 0.45298314705269893, 'max_depth': 5}. Best is trial 18 with value: 0.11015494653723151.\n",
      "[I 2023-11-27 13:17:38,830] Trial 72 finished with value: 0.16947680720085925 and parameters: {'n_estimators': 500, 'learning_rate': 0.4524303512873571, 'max_depth': 5}. Best is trial 18 with value: 0.11015494653723151.\n",
      "[I 2023-11-27 13:17:54,610] Trial 74 finished with value: 0.1820884366047207 and parameters: {'n_estimators': 500, 'learning_rate': 0.4637435021420716, 'max_depth': 5}. Best is trial 18 with value: 0.11015494653723151.\n"
     ]
    },
    {
     "name": "stdout",
     "output_type": "stream",
     "text": [
      "Successfully updated GB.csv with results of trial 74\n",
      "Successfully updated GB.csv with results of trial 75\n"
     ]
    },
    {
     "name": "stderr",
     "output_type": "stream",
     "text": [
      "[I 2023-11-27 13:17:54,839] Trial 75 finished with value: 0.194596984631758 and parameters: {'n_estimators': 500, 'learning_rate': 0.43091957394793934, 'max_depth': 5}. Best is trial 18 with value: 0.11015494653723151.\n",
      "[I 2023-11-27 13:17:55,878] Trial 76 finished with value: 0.1912894534295284 and parameters: {'n_estimators': 500, 'learning_rate': 0.46023353337456796, 'max_depth': 5}. Best is trial 18 with value: 0.11015494653723151.\n"
     ]
    },
    {
     "name": "stdout",
     "output_type": "stream",
     "text": [
      "Successfully updated GB.csv with results of trial 76\n"
     ]
    },
    {
     "name": "stderr",
     "output_type": "stream",
     "text": [
      "[I 2023-11-27 13:17:56,309] Trial 77 finished with value: 0.21017879736959025 and parameters: {'n_estimators': 50, 'learning_rate': 0.4804377809043807, 'max_depth': 5}. Best is trial 18 with value: 0.11015494653723151.\n"
     ]
    },
    {
     "name": "stdout",
     "output_type": "stream",
     "text": [
      "Successfully updated GB.csv with results of trial 77\n"
     ]
    },
    {
     "name": "stderr",
     "output_type": "stream",
     "text": [
      "[I 2023-11-27 13:17:57,233] Trial 79 finished with value: 0.20492954324469714 and parameters: {'n_estimators': 200, 'learning_rate': 0.4240971133853276, 'max_depth': 5}. Best is trial 18 with value: 0.11015494653723151.\n"
     ]
    },
    {
     "name": "stdout",
     "output_type": "stream",
     "text": [
      "Successfully updated GB.csv with results of trial 79\n",
      "Successfully updated GB.csv with results of trial 78\n"
     ]
    },
    {
     "name": "stderr",
     "output_type": "stream",
     "text": [
      "[I 2023-11-27 13:17:57,340] Trial 78 finished with value: 0.1774188446838936 and parameters: {'n_estimators': 50, 'learning_rate': 0.4928221264804604, 'max_depth': 5}. Best is trial 18 with value: 0.11015494653723151.\n",
      "[I 2023-11-27 13:18:10,040] Trial 80 finished with value: 0.18660742212075276 and parameters: {'n_estimators': 50, 'learning_rate': 0.267568469204786, 'max_depth': 5}. Best is trial 18 with value: 0.11015494653723151.\n"
     ]
    },
    {
     "name": "stdout",
     "output_type": "stream",
     "text": [
      "Successfully updated GB.csv with results of trial 80\n"
     ]
    },
    {
     "name": "stderr",
     "output_type": "stream",
     "text": [
      "[I 2023-11-27 13:18:10,376] Trial 81 finished with value: 0.17542144377278157 and parameters: {'n_estimators': 50, 'learning_rate': 0.2584514057323398, 'max_depth': 5}. Best is trial 18 with value: 0.11015494653723151.\n"
     ]
    },
    {
     "name": "stdout",
     "output_type": "stream",
     "text": [
      "Successfully updated GB.csv with results of trial 81\n"
     ]
    },
    {
     "name": "stderr",
     "output_type": "stream",
     "text": [
      "[I 2023-11-27 13:18:10,701] Trial 82 finished with value: 0.17080416308641688 and parameters: {'n_estimators': 200, 'learning_rate': 0.4244238715851071, 'max_depth': 5}. Best is trial 18 with value: 0.11015494653723151.\n"
     ]
    },
    {
     "name": "stdout",
     "output_type": "stream",
     "text": [
      "Successfully updated GB.csv with results of trial 82\n"
     ]
    },
    {
     "name": "stderr",
     "output_type": "stream",
     "text": [
      "[I 2023-11-27 13:18:13,318] Trial 83 finished with value: 0.1604881400545846 and parameters: {'n_estimators': 200, 'learning_rate': 0.3565380723790228, 'max_depth': 5}. Best is trial 18 with value: 0.11015494653723151.\n"
     ]
    },
    {
     "name": "stdout",
     "output_type": "stream",
     "text": [
      "Successfully updated GB.csv with results of trial 83\n",
      "Successfully updated GB.csv with results of trial 84\n"
     ]
    },
    {
     "name": "stderr",
     "output_type": "stream",
     "text": [
      "[I 2023-11-27 13:18:13,552] Trial 84 finished with value: 0.19998990646382794 and parameters: {'n_estimators': 200, 'learning_rate': 0.4109861951910441, 'max_depth': 5}. Best is trial 18 with value: 0.11015494653723151.\n"
     ]
    },
    {
     "name": "stdout",
     "output_type": "stream",
     "text": [
      "Successfully updated GB.csv with results of trial 85\n"
     ]
    },
    {
     "name": "stderr",
     "output_type": "stream",
     "text": [
      "[I 2023-11-27 13:18:13,907] Trial 85 finished with value: 0.149891585046283 and parameters: {'n_estimators': 200, 'learning_rate': 0.35436321458111314, 'max_depth': 5}. Best is trial 18 with value: 0.11015494653723151.\n",
      "[I 2023-11-27 13:18:33,146] Trial 87 finished with value: 0.1985857164103568 and parameters: {'n_estimators': 200, 'learning_rate': 0.2545484848246465, 'max_depth': 5}. Best is trial 18 with value: 0.11015494653723151.\n"
     ]
    },
    {
     "name": "stdout",
     "output_type": "stream",
     "text": [
      "Successfully updated GB.csv with results of trial 87\n",
      "Successfully updated GB.csv with results of trial 86\n"
     ]
    },
    {
     "name": "stderr",
     "output_type": "stream",
     "text": [
      "[I 2023-11-27 13:18:33,277] Trial 86 finished with value: 0.16667727724917467 and parameters: {'n_estimators': 200, 'learning_rate': 0.36337907243714995, 'max_depth': 5}. Best is trial 18 with value: 0.11015494653723151.\n",
      "[I 2023-11-27 13:18:35,268] Trial 88 finished with value: 0.2069424542685843 and parameters: {'n_estimators': 200, 'learning_rate': 0.34737352227866436, 'max_depth': 3}. Best is trial 18 with value: 0.11015494653723151.\n"
     ]
    },
    {
     "name": "stdout",
     "output_type": "stream",
     "text": [
      "Successfully updated GB.csv with results of trial 88\n"
     ]
    },
    {
     "name": "stderr",
     "output_type": "stream",
     "text": [
      "[I 2023-11-27 13:18:35,749] Trial 89 finished with value: 0.17075083678600636 and parameters: {'n_estimators': 200, 'learning_rate': 0.3480465703214887, 'max_depth': 3}. Best is trial 18 with value: 0.11015494653723151.\n"
     ]
    },
    {
     "name": "stdout",
     "output_type": "stream",
     "text": [
      "Successfully updated GB.csv with results of trial 89\n"
     ]
    },
    {
     "name": "stderr",
     "output_type": "stream",
     "text": [
      "[I 2023-11-27 13:18:36,713] Trial 90 finished with value: 0.20166900331629864 and parameters: {'n_estimators': 200, 'learning_rate': 0.35074410169602216, 'max_depth': 3}. Best is trial 18 with value: 0.11015494653723151.\n"
     ]
    },
    {
     "name": "stdout",
     "output_type": "stream",
     "text": [
      "Successfully updated GB.csv with results of trial 90\n"
     ]
    },
    {
     "name": "stderr",
     "output_type": "stream",
     "text": [
      "[I 2023-11-27 13:18:37,250] Trial 91 finished with value: 0.17220678183720714 and parameters: {'n_estimators': 200, 'learning_rate': 0.34721463362745064, 'max_depth': 3}. Best is trial 18 with value: 0.11015494653723151.\n"
     ]
    },
    {
     "name": "stdout",
     "output_type": "stream",
     "text": [
      "Successfully updated GB.csv with results of trial 91\n"
     ]
    },
    {
     "name": "stderr",
     "output_type": "stream",
     "text": [
      "[I 2023-11-27 13:18:46,159] Trial 93 finished with value: 0.17585670738986647 and parameters: {'n_estimators': 200, 'learning_rate': 0.3510812088068367, 'max_depth': 3}. Best is trial 18 with value: 0.11015494653723151.\n"
     ]
    },
    {
     "name": "stdout",
     "output_type": "stream",
     "text": [
      "Successfully updated GB.csv with results of trial 93\n",
      "Successfully updated GB.csv with results of trial 92\n"
     ]
    },
    {
     "name": "stderr",
     "output_type": "stream",
     "text": [
      "[I 2023-11-27 13:18:46,320] Trial 92 finished with value: 0.1771994038848822 and parameters: {'n_estimators': 200, 'learning_rate': 0.3507526463812768, 'max_depth': 3}. Best is trial 18 with value: 0.11015494653723151.\n",
      "[I 2023-11-27 13:18:46,987] Trial 94 finished with value: 0.1877607338260827 and parameters: {'n_estimators': 200, 'learning_rate': 0.3874716639047937, 'max_depth': 3}. Best is trial 18 with value: 0.11015494653723151.\n"
     ]
    },
    {
     "name": "stdout",
     "output_type": "stream",
     "text": [
      "Successfully updated GB.csv with results of trial 94\n"
     ]
    },
    {
     "name": "stderr",
     "output_type": "stream",
     "text": [
      "[I 2023-11-27 13:18:49,474] Trial 97 finished with value: 0.16455335321107742 and parameters: {'n_estimators': 200, 'learning_rate': 0.3514960436529632, 'max_depth': 5}. Best is trial 18 with value: 0.11015494653723151.\n",
      "[I 2023-11-27 13:18:49,496] Trial 95 finished with value: 0.15339097210417973 and parameters: {'n_estimators': 200, 'learning_rate': 0.39400389839072597, 'max_depth': 3}. Best is trial 18 with value: 0.11015494653723151.\n"
     ]
    },
    {
     "name": "stdout",
     "output_type": "stream",
     "text": [
      "Successfully updated GB.csv with results of trial 97\n",
      "Successfully updated GB.csv with results of trial 95\n",
      "Successfully updated GB.csv with results of trial 96\n"
     ]
    },
    {
     "name": "stderr",
     "output_type": "stream",
     "text": [
      "[I 2023-11-27 13:18:49,968] Trial 96 finished with value: 0.17469711129638266 and parameters: {'n_estimators': 20, 'learning_rate': 0.3482590389190924, 'max_depth': 3}. Best is trial 18 with value: 0.11015494653723151.\n",
      "[I 2023-11-27 13:19:12,934] Trial 99 finished with value: 0.17246662558984685 and parameters: {'n_estimators': 20, 'learning_rate': 0.34818889819713106, 'max_depth': 3}. Best is trial 18 with value: 0.11015494653723151.\n",
      "[I 2023-11-27 13:19:12,970] Trial 98 finished with value: 0.20120951276116228 and parameters: {'n_estimators': 20, 'learning_rate': 0.3492226358951239, 'max_depth': 3}. Best is trial 18 with value: 0.11015494653723151.\n"
     ]
    },
    {
     "name": "stdout",
     "output_type": "stream",
     "text": [
      "Successfully updated GB.csv with results of trial 99\n",
      "Successfully updated GB.csv with results of trial 98\n"
     ]
    },
    {
     "name": "stderr",
     "output_type": "stream",
     "text": [
      "[I 2023-11-27 13:19:15,268] Trial 100 finished with value: 0.18881501692463742 and parameters: {'n_estimators': 20, 'learning_rate': 0.38793806894326466, 'max_depth': 3}. Best is trial 18 with value: 0.11015494653723151.\n"
     ]
    },
    {
     "name": "stdout",
     "output_type": "stream",
     "text": [
      "Successfully updated GB.csv with results of trial 100\n"
     ]
    },
    {
     "name": "stderr",
     "output_type": "stream",
     "text": [
      "[I 2023-11-27 13:19:15,922] Trial 101 finished with value: 0.20316570345225735 and parameters: {'n_estimators': 20, 'learning_rate': 0.388958984782015, 'max_depth': 5}. Best is trial 18 with value: 0.11015494653723151.\n"
     ]
    },
    {
     "name": "stdout",
     "output_type": "stream",
     "text": [
      "Successfully updated GB.csv with results of trial 101\n"
     ]
    },
    {
     "name": "stderr",
     "output_type": "stream",
     "text": [
      "[I 2023-11-27 13:19:16,207] Trial 102 finished with value: 0.15590441173324268 and parameters: {'n_estimators': 20, 'learning_rate': 0.3779803377019693, 'max_depth': 5}. Best is trial 18 with value: 0.11015494653723151.\n"
     ]
    },
    {
     "name": "stdout",
     "output_type": "stream",
     "text": [
      "Successfully updated GB.csv with results of trial 102\n"
     ]
    },
    {
     "name": "stderr",
     "output_type": "stream",
     "text": [
      "[I 2023-11-27 13:19:17,213] Trial 103 finished with value: 0.19005473360091565 and parameters: {'n_estimators': 20, 'learning_rate': 0.3782656385639995, 'max_depth': 5}. Best is trial 18 with value: 0.11015494653723151.\n"
     ]
    },
    {
     "name": "stdout",
     "output_type": "stream",
     "text": [
      "Successfully updated GB.csv with results of trial 103\n"
     ]
    },
    {
     "name": "stderr",
     "output_type": "stream",
     "text": [
      "[I 2023-11-27 13:19:22,072] Trial 104 finished with value: 0.1779353405090648 and parameters: {'n_estimators': 20, 'learning_rate': 0.4027229341977115, 'max_depth': 5}. Best is trial 18 with value: 0.11015494653723151.\n"
     ]
    },
    {
     "name": "stdout",
     "output_type": "stream",
     "text": [
      "Successfully updated GB.csv with results of trial 104\n"
     ]
    },
    {
     "name": "stderr",
     "output_type": "stream",
     "text": [
      "[I 2023-11-27 13:19:22,541] Trial 106 finished with value: 0.1849349813827068 and parameters: {'n_estimators': 20, 'learning_rate': 0.2713673035534272, 'max_depth': 5}. Best is trial 18 with value: 0.11015494653723151.\n"
     ]
    },
    {
     "name": "stdout",
     "output_type": "stream",
     "text": [
      "Successfully updated GB.csv with results of trial 106\n"
     ]
    },
    {
     "name": "stderr",
     "output_type": "stream",
     "text": [
      "[I 2023-11-27 13:19:22,958] Trial 105 finished with value: 0.17269000228367695 and parameters: {'n_estimators': 20, 'learning_rate': 0.3957735061649771, 'max_depth': 5}. Best is trial 18 with value: 0.11015494653723151.\n"
     ]
    },
    {
     "name": "stdout",
     "output_type": "stream",
     "text": [
      "Successfully updated GB.csv with results of trial 105\n"
     ]
    },
    {
     "name": "stderr",
     "output_type": "stream",
     "text": [
      "[I 2023-11-27 13:19:25,580] Trial 107 finished with value: 0.18594909577731453 and parameters: {'n_estimators': 20, 'learning_rate': 0.3918813493439867, 'max_depth': 5}. Best is trial 18 with value: 0.11015494653723151.\n"
     ]
    },
    {
     "name": "stdout",
     "output_type": "stream",
     "text": [
      "Successfully updated GB.csv with results of trial 107\n",
      "Successfully updated GB.csv with results of trial 109\n"
     ]
    },
    {
     "name": "stderr",
     "output_type": "stream",
     "text": [
      "[I 2023-11-27 13:19:25,820] Trial 109 finished with value: 0.20958613737695894 and parameters: {'n_estimators': 20, 'learning_rate': 0.3933277762486237, 'max_depth': 5}. Best is trial 18 with value: 0.11015494653723151.\n",
      "[I 2023-11-27 13:19:26,419] Trial 108 finished with value: 0.1889729018656687 and parameters: {'n_estimators': 20, 'learning_rate': 0.39710752788648157, 'max_depth': 5}. Best is trial 18 with value: 0.11015494653723151.\n"
     ]
    },
    {
     "name": "stdout",
     "output_type": "stream",
     "text": [
      "Successfully updated GB.csv with results of trial 108\n"
     ]
    },
    {
     "name": "stderr",
     "output_type": "stream",
     "text": [
      "[I 2023-11-27 13:19:47,616] Trial 110 finished with value: 0.19978627105064975 and parameters: {'n_estimators': 20, 'learning_rate': 0.40086209510009974, 'max_depth': 5}. Best is trial 18 with value: 0.11015494653723151.\n"
     ]
    },
    {
     "name": "stdout",
     "output_type": "stream",
     "text": [
      "Successfully updated GB.csv with results of trial 110\n"
     ]
    },
    {
     "name": "stderr",
     "output_type": "stream",
     "text": [
      "[I 2023-11-27 13:19:48,156] Trial 111 finished with value: 0.17184222808356178 and parameters: {'n_estimators': 20, 'learning_rate': 0.38703680425500503, 'max_depth': 5}. Best is trial 18 with value: 0.11015494653723151.\n"
     ]
    },
    {
     "name": "stdout",
     "output_type": "stream",
     "text": [
      "Successfully updated GB.csv with results of trial 111\n"
     ]
    },
    {
     "name": "stderr",
     "output_type": "stream",
     "text": [
      "[I 2023-11-27 13:19:49,714] Trial 114 finished with value: 0.16954238979569228 and parameters: {'n_estimators': 20, 'learning_rate': 0.2749815117601544, 'max_depth': 5}. Best is trial 18 with value: 0.11015494653723151.\n",
      "[I 2023-11-27 13:19:49,835] Trial 112 finished with value: 0.18203277572447227 and parameters: {'n_estimators': 20, 'learning_rate': 0.27524790692382284, 'max_depth': 5}. Best is trial 18 with value: 0.11015494653723151.\n"
     ]
    },
    {
     "name": "stdout",
     "output_type": "stream",
     "text": [
      "Successfully updated GB.csv with results of trial 114\n",
      "Successfully updated GB.csv with results of trial 112\n"
     ]
    },
    {
     "name": "stderr",
     "output_type": "stream",
     "text": [
      "[I 2023-11-27 13:19:50,251] Trial 113 finished with value: 0.15264519571623447 and parameters: {'n_estimators': 20, 'learning_rate': 0.2654576590429605, 'max_depth': 5}. Best is trial 18 with value: 0.11015494653723151.\n",
      "[I 2023-11-27 13:19:50,361] Trial 115 finished with value: 0.16860756558742873 and parameters: {'n_estimators': 20, 'learning_rate': 0.27236721727528773, 'max_depth': 5}. Best is trial 18 with value: 0.11015494653723151.\n"
     ]
    },
    {
     "name": "stdout",
     "output_type": "stream",
     "text": [
      "Successfully updated GB.csv with results of trial 113\n",
      "Successfully updated GB.csv with results of trial 115\n"
     ]
    },
    {
     "name": "stderr",
     "output_type": "stream",
     "text": [
      "[I 2023-11-27 13:19:50,885] Trial 116 finished with value: 0.17408149970390274 and parameters: {'n_estimators': 20, 'learning_rate': 0.275340611433678, 'max_depth': 5}. Best is trial 18 with value: 0.11015494653723151.\n"
     ]
    },
    {
     "name": "stdout",
     "output_type": "stream",
     "text": [
      "Successfully updated GB.csv with results of trial 116\n"
     ]
    },
    {
     "name": "stderr",
     "output_type": "stream",
     "text": [
      "[I 2023-11-27 13:19:51,117] Trial 117 finished with value: 0.18630538799117688 and parameters: {'n_estimators': 20, 'learning_rate': 0.2769779572484827, 'max_depth': 5}. Best is trial 18 with value: 0.11015494653723151.\n",
      "[I 2023-11-27 13:19:51,183] Trial 118 finished with value: 0.15442968691937464 and parameters: {'n_estimators': 20, 'learning_rate': 0.2892927938086878, 'max_depth': 5}. Best is trial 18 with value: 0.11015494653723151.\n"
     ]
    },
    {
     "name": "stdout",
     "output_type": "stream",
     "text": [
      "Successfully updated GB.csv with results of trial 117\n",
      "Successfully updated GB.csv with results of trial 118\n"
     ]
    },
    {
     "name": "stderr",
     "output_type": "stream",
     "text": [
      "[I 2023-11-27 13:19:51,440] Trial 119 finished with value: 0.17719934115711236 and parameters: {'n_estimators': 20, 'learning_rate': 0.2730040442664348, 'max_depth': 5}. Best is trial 18 with value: 0.11015494653723151.\n",
      "[I 2023-11-27 13:19:51,600] Using an existing study with name 'RF' instead of creating a new one.\n"
     ]
    },
    {
     "name": "stdout",
     "output_type": "stream",
     "text": [
      "Successfully updated GB.csv with results of trial 119\n",
      "random 3A4 RF\n"
     ]
    },
    {
     "name": "stderr",
     "output_type": "stream",
     "text": [
      "[I 2023-11-27 13:20:51,958] Trial 20 finished with value: 0.16554634811067323 and parameters: {'n_estimators': 10, 'max_features': 'log2', 'max_depth': 5}. Best is trial 19 with value: 0.13863358465268918.\n"
     ]
    },
    {
     "name": "stdout",
     "output_type": "stream",
     "text": [
      "Successfully created RF.csv with results of trial 20 as the first entry\n"
     ]
    },
    {
     "name": "stderr",
     "output_type": "stream",
     "text": [
      "[I 2023-11-27 13:20:54,697] Trial 30 finished with value: 0.15636592403057986 and parameters: {'n_estimators': 10, 'max_features': 'log2', 'max_depth': 5}. Best is trial 19 with value: 0.13863358465268918.\n"
     ]
    },
    {
     "name": "stdout",
     "output_type": "stream",
     "text": [
      "Successfully updated RF.csv with results of trial 30\n",
      "Successfully updated RF.csv with results of trial 24\n"
     ]
    },
    {
     "name": "stderr",
     "output_type": "stream",
     "text": [
      "[I 2023-11-27 13:20:55,039] Trial 24 finished with value: 0.16071333802216156 and parameters: {'n_estimators': 200, 'max_features': 'log2', 'max_depth': 5}. Best is trial 19 with value: 0.13863358465268918.\n",
      "[I 2023-11-27 13:20:55,467] Trial 28 finished with value: 0.15648026089470526 and parameters: {'n_estimators': 200, 'max_features': 'log2', 'max_depth': 5}. Best is trial 19 with value: 0.13863358465268918.\n"
     ]
    },
    {
     "name": "stdout",
     "output_type": "stream",
     "text": [
      "Successfully updated RF.csv with results of trial 28\n",
      "Successfully updated RF.csv with results of trial 29\n"
     ]
    },
    {
     "name": "stderr",
     "output_type": "stream",
     "text": [
      "[I 2023-11-27 13:20:55,837] Trial 29 finished with value: 0.16259320136246735 and parameters: {'n_estimators': 10, 'max_features': 'log2', 'max_depth': 5}. Best is trial 19 with value: 0.13863358465268918.\n"
     ]
    },
    {
     "name": "stdout",
     "output_type": "stream",
     "text": [
      "Successfully updated RF.csv with results of trial 27\n"
     ]
    },
    {
     "name": "stderr",
     "output_type": "stream",
     "text": [
      "[I 2023-11-27 13:20:56,180] Trial 27 finished with value: 0.1831700731311201 and parameters: {'n_estimators': 10, 'max_features': 'log2', 'max_depth': 5}. Best is trial 19 with value: 0.13863358465268918.\n",
      "[I 2023-11-27 13:21:06,899] Trial 21 finished with value: 0.1757768807415303 and parameters: {'n_estimators': 10, 'max_features': 'log2', 'max_depth': 5}. Best is trial 19 with value: 0.13863358465268918.\n"
     ]
    },
    {
     "name": "stdout",
     "output_type": "stream",
     "text": [
      "Successfully updated RF.csv with results of trial 21\n",
      "Successfully updated RF.csv with results of trial 25\n"
     ]
    },
    {
     "name": "stderr",
     "output_type": "stream",
     "text": [
      "[I 2023-11-27 13:21:07,339] Trial 25 finished with value: 0.17415223630762858 and parameters: {'n_estimators': 200, 'max_features': 'log2', 'max_depth': 5}. Best is trial 19 with value: 0.13863358465268918.\n",
      "[I 2023-11-27 13:21:07,913] Trial 23 finished with value: 0.16309713061914902 and parameters: {'n_estimators': 200, 'max_features': 'log2', 'max_depth': 5}. Best is trial 19 with value: 0.13863358465268918.\n"
     ]
    },
    {
     "name": "stdout",
     "output_type": "stream",
     "text": [
      "Successfully updated RF.csv with results of trial 23\n"
     ]
    },
    {
     "name": "stderr",
     "output_type": "stream",
     "text": [
      "[I 2023-11-27 13:21:08,593] Trial 22 finished with value: 0.1814701227741505 and parameters: {'n_estimators': 10, 'max_features': 'log2', 'max_depth': 5}. Best is trial 19 with value: 0.13863358465268918.\n"
     ]
    },
    {
     "name": "stdout",
     "output_type": "stream",
     "text": [
      "Successfully updated RF.csv with results of trial 22\n"
     ]
    },
    {
     "name": "stderr",
     "output_type": "stream",
     "text": [
      "[I 2023-11-27 13:21:09,690] Trial 31 finished with value: 0.1644419454725606 and parameters: {'n_estimators': 10, 'max_features': 'log2', 'max_depth': 5}. Best is trial 19 with value: 0.13863358465268918.\n"
     ]
    },
    {
     "name": "stdout",
     "output_type": "stream",
     "text": [
      "Successfully updated RF.csv with results of trial 31\n",
      "Successfully updated RF.csv with results of trial 26\n"
     ]
    },
    {
     "name": "stderr",
     "output_type": "stream",
     "text": [
      "[I 2023-11-27 13:21:10,136] Trial 26 finished with value: 0.16913962121808615 and parameters: {'n_estimators': 10, 'max_features': 'log2', 'max_depth': 5}. Best is trial 19 with value: 0.13863358465268918.\n",
      "[I 2023-11-27 13:21:52,965] Trial 32 finished with value: 0.17207697994266039 and parameters: {'n_estimators': 500, 'max_features': 'log2', 'max_depth': 5}. Best is trial 19 with value: 0.13863358465268918.\n"
     ]
    },
    {
     "name": "stdout",
     "output_type": "stream",
     "text": [
      "Successfully updated RF.csv with results of trial 32\n"
     ]
    },
    {
     "name": "stderr",
     "output_type": "stream",
     "text": [
      "[I 2023-11-27 13:21:55,917] Trial 33 finished with value: 0.16657411028073196 and parameters: {'n_estimators': 500, 'max_features': 'log2', 'max_depth': 5}. Best is trial 19 with value: 0.13863358465268918.\n"
     ]
    },
    {
     "name": "stdout",
     "output_type": "stream",
     "text": [
      "Successfully updated RF.csv with results of trial 33\n"
     ]
    },
    {
     "name": "stderr",
     "output_type": "stream",
     "text": [
      "[I 2023-11-27 13:21:56,385] Trial 34 finished with value: 0.1469603552983509 and parameters: {'n_estimators': 500, 'max_features': 'log2', 'max_depth': 5}. Best is trial 19 with value: 0.13863358465268918.\n"
     ]
    },
    {
     "name": "stdout",
     "output_type": "stream",
     "text": [
      "Successfully updated RF.csv with results of trial 34\n"
     ]
    },
    {
     "name": "stderr",
     "output_type": "stream",
     "text": [
      "[I 2023-11-27 13:21:56,843] Trial 37 finished with value: 0.17111628175312862 and parameters: {'n_estimators': 500, 'max_features': 'log2', 'max_depth': 10}. Best is trial 19 with value: 0.13863358465268918.\n"
     ]
    },
    {
     "name": "stdout",
     "output_type": "stream",
     "text": [
      "Successfully updated RF.csv with results of trial 37\n",
      "Successfully updated RF.csv with results of trial 36\n",
      "Successfully updated RF.csv with results of trial 35\n"
     ]
    },
    {
     "name": "stderr",
     "output_type": "stream",
     "text": [
      "[I 2023-11-27 13:21:57,304] Trial 36 finished with value: 0.16099220752823867 and parameters: {'n_estimators': 500, 'max_features': 'log2', 'max_depth': 10}. Best is trial 19 with value: 0.13863358465268918.\n",
      "[I 2023-11-27 13:21:57,423] Trial 35 finished with value: 0.16664083279332212 and parameters: {'n_estimators': 500, 'max_features': 'log2', 'max_depth': 10}. Best is trial 19 with value: 0.13863358465268918.\n",
      "[I 2023-11-27 13:22:18,262] Trial 39 finished with value: 0.16971427596505195 and parameters: {'n_estimators': 500, 'max_features': 'log2', 'max_depth': None}. Best is trial 19 with value: 0.13863358465268918.\n"
     ]
    },
    {
     "name": "stdout",
     "output_type": "stream",
     "text": [
      "Successfully updated RF.csv with results of trial 39\n"
     ]
    },
    {
     "name": "stderr",
     "output_type": "stream",
     "text": [
      "[I 2023-11-27 13:22:18,898] Trial 40 finished with value: 0.1862274342020264 and parameters: {'n_estimators': 500, 'max_features': 'log2', 'max_depth': None}. Best is trial 19 with value: 0.13863358465268918.\n"
     ]
    },
    {
     "name": "stdout",
     "output_type": "stream",
     "text": [
      "Successfully updated RF.csv with results of trial 40\n"
     ]
    },
    {
     "name": "stderr",
     "output_type": "stream",
     "text": [
      "[I 2023-11-27 13:22:19,331] Trial 38 finished with value: 0.17910023781174658 and parameters: {'n_estimators': 500, 'max_features': 'log2', 'max_depth': None}. Best is trial 19 with value: 0.13863358465268918.\n"
     ]
    },
    {
     "name": "stdout",
     "output_type": "stream",
     "text": [
      "Successfully updated RF.csv with results of trial 38\n"
     ]
    },
    {
     "name": "stderr",
     "output_type": "stream",
     "text": [
      "[I 2023-11-27 13:22:21,222] Trial 41 finished with value: 0.16262260378793966 and parameters: {'n_estimators': 500, 'max_features': 'log2', 'max_depth': None}. Best is trial 19 with value: 0.13863358465268918.\n"
     ]
    },
    {
     "name": "stdout",
     "output_type": "stream",
     "text": [
      "Successfully updated RF.csv with results of trial 41\n"
     ]
    },
    {
     "name": "stderr",
     "output_type": "stream",
     "text": [
      "[I 2023-11-27 13:22:21,939] Trial 43 finished with value: 0.16200681081752052 and parameters: {'n_estimators': 500, 'max_features': 'log2', 'max_depth': None}. Best is trial 19 with value: 0.13863358465268918.\n"
     ]
    },
    {
     "name": "stdout",
     "output_type": "stream",
     "text": [
      "Successfully updated RF.csv with results of trial 43\n",
      "Successfully updated RF.csv with results of trial 42\n"
     ]
    },
    {
     "name": "stderr",
     "output_type": "stream",
     "text": [
      "[I 2023-11-27 13:22:22,307] Trial 42 finished with value: 0.15737596583198765 and parameters: {'n_estimators': 500, 'max_features': 'log2', 'max_depth': None}. Best is trial 19 with value: 0.13863358465268918.\n",
      "[I 2023-11-27 13:22:53,020] Trial 44 finished with value: 0.17557141602346885 and parameters: {'n_estimators': 500, 'max_features': 'log2', 'max_depth': 10}. Best is trial 19 with value: 0.13863358465268918.\n"
     ]
    },
    {
     "name": "stdout",
     "output_type": "stream",
     "text": [
      "Successfully updated RF.csv with results of trial 44\n"
     ]
    },
    {
     "name": "stderr",
     "output_type": "stream",
     "text": [
      "[I 2023-11-27 13:22:56,535] Trial 47 finished with value: 0.1660734520849255 and parameters: {'n_estimators': 500, 'max_features': 'log2', 'max_depth': None}. Best is trial 19 with value: 0.13863358465268918.\n"
     ]
    },
    {
     "name": "stdout",
     "output_type": "stream",
     "text": [
      "Successfully updated RF.csv with results of trial 47\n",
      "Successfully updated RF.csv with results of trial 45\n"
     ]
    },
    {
     "name": "stderr",
     "output_type": "stream",
     "text": [
      "[I 2023-11-27 13:22:56,727] Trial 45 finished with value: 0.15532243263119525 and parameters: {'n_estimators': 500, 'max_features': 'log2', 'max_depth': 10}. Best is trial 19 with value: 0.13863358465268918.\n"
     ]
    },
    {
     "name": "stdout",
     "output_type": "stream",
     "text": [
      "Successfully updated RF.csv with results of trial 46\n"
     ]
    },
    {
     "name": "stderr",
     "output_type": "stream",
     "text": [
      "[I 2023-11-27 13:22:57,263] Trial 46 finished with value: 0.17677633981926147 and parameters: {'n_estimators': 500, 'max_features': 'log2', 'max_depth': 10}. Best is trial 19 with value: 0.13863358465268918.\n",
      "[I 2023-11-27 13:22:57,308] Trial 48 finished with value: 0.18206176655322096 and parameters: {'n_estimators': 50, 'max_features': 'log2', 'max_depth': 4}. Best is trial 19 with value: 0.13863358465268918.\n"
     ]
    },
    {
     "name": "stdout",
     "output_type": "stream",
     "text": [
      "Successfully updated RF.csv with results of trial 48\n"
     ]
    },
    {
     "name": "stderr",
     "output_type": "stream",
     "text": [
      "[I 2023-11-27 13:22:58,132] Trial 49 finished with value: 0.18628175020658042 and parameters: {'n_estimators': 50, 'max_features': 'log2', 'max_depth': None}. Best is trial 19 with value: 0.13863358465268918.\n"
     ]
    },
    {
     "name": "stdout",
     "output_type": "stream",
     "text": [
      "Successfully updated RF.csv with results of trial 49\n"
     ]
    },
    {
     "name": "stderr",
     "output_type": "stream",
     "text": [
      "[I 2023-11-27 13:23:28,939] Trial 50 finished with value: 0.16762660720953546 and parameters: {'n_estimators': 50, 'max_features': 'log2', 'max_depth': 4}. Best is trial 19 with value: 0.13863358465268918.\n"
     ]
    },
    {
     "name": "stdout",
     "output_type": "stream",
     "text": [
      "Successfully updated RF.csv with results of trial 50\n"
     ]
    },
    {
     "name": "stderr",
     "output_type": "stream",
     "text": [
      "[I 2023-11-27 13:23:29,987] Trial 51 finished with value: 0.1565231612972087 and parameters: {'n_estimators': 50, 'max_features': 'log2', 'max_depth': 4}. Best is trial 19 with value: 0.13863358465268918.\n"
     ]
    },
    {
     "name": "stdout",
     "output_type": "stream",
     "text": [
      "Successfully updated RF.csv with results of trial 51\n"
     ]
    },
    {
     "name": "stderr",
     "output_type": "stream",
     "text": [
      "[I 2023-11-27 13:23:31,343] Trial 52 finished with value: 0.16598840986103117 and parameters: {'n_estimators': 500, 'max_features': 'log2', 'max_depth': 4}. Best is trial 19 with value: 0.13863358465268918.\n"
     ]
    },
    {
     "name": "stdout",
     "output_type": "stream",
     "text": [
      "Successfully updated RF.csv with results of trial 52\n",
      "Successfully updated RF.csv with results of trial 53\n"
     ]
    },
    {
     "name": "stderr",
     "output_type": "stream",
     "text": [
      "[I 2023-11-27 13:23:31,608] Trial 53 finished with value: 0.16207273700124072 and parameters: {'n_estimators': 50, 'max_features': 'log2', 'max_depth': 4}. Best is trial 19 with value: 0.13863358465268918.\n",
      "[I 2023-11-27 13:23:32,143] Trial 54 finished with value: 0.19547839695615088 and parameters: {'n_estimators': 50, 'max_features': 'log2', 'max_depth': 4}. Best is trial 19 with value: 0.13863358465268918.\n"
     ]
    },
    {
     "name": "stdout",
     "output_type": "stream",
     "text": [
      "Successfully updated RF.csv with results of trial 54\n"
     ]
    },
    {
     "name": "stderr",
     "output_type": "stream",
     "text": [
      "[I 2023-11-27 13:23:34,357] Trial 55 finished with value: 0.15643060042496856 and parameters: {'n_estimators': 50, 'max_features': 'log2', 'max_depth': 4}. Best is trial 19 with value: 0.13863358465268918.\n"
     ]
    },
    {
     "name": "stdout",
     "output_type": "stream",
     "text": [
      "Successfully updated RF.csv with results of trial 55\n"
     ]
    },
    {
     "name": "stderr",
     "output_type": "stream",
     "text": [
      "[I 2023-11-27 13:23:52,700] Trial 56 finished with value: 0.15766902534062036 and parameters: {'n_estimators': 50, 'max_features': 'log2', 'max_depth': 4}. Best is trial 19 with value: 0.13863358465268918.\n"
     ]
    },
    {
     "name": "stdout",
     "output_type": "stream",
     "text": [
      "Successfully updated RF.csv with results of trial 56\n"
     ]
    },
    {
     "name": "stderr",
     "output_type": "stream",
     "text": [
      "[I 2023-11-27 13:23:56,982] Trial 57 finished with value: 0.17608897035468263 and parameters: {'n_estimators': 50, 'max_features': 'log2', 'max_depth': 4}. Best is trial 19 with value: 0.13863358465268918.\n"
     ]
    },
    {
     "name": "stdout",
     "output_type": "stream",
     "text": [
      "Successfully updated RF.csv with results of trial 57\n",
      "Successfully updated RF.csv with results of trial 58\n"
     ]
    },
    {
     "name": "stderr",
     "output_type": "stream",
     "text": [
      "[I 2023-11-27 13:23:57,176] Trial 58 finished with value: 0.15990633928431644 and parameters: {'n_estimators': 500, 'max_features': 'log2', 'max_depth': 4}. Best is trial 19 with value: 0.13863358465268918.\n",
      "[I 2023-11-27 13:23:58,178] Trial 59 finished with value: 0.17190386524603699 and parameters: {'n_estimators': 50, 'max_features': 'sqrt', 'max_depth': 3}. Best is trial 19 with value: 0.13863358465268918.\n"
     ]
    },
    {
     "name": "stdout",
     "output_type": "stream",
     "text": [
      "Successfully updated RF.csv with results of trial 59\n",
      "Successfully updated RF.csv with results of trial 60\n"
     ]
    },
    {
     "name": "stderr",
     "output_type": "stream",
     "text": [
      "[I 2023-11-27 13:23:58,349] Trial 60 finished with value: 0.17532188657813755 and parameters: {'n_estimators': 50, 'max_features': 'sqrt', 'max_depth': 3}. Best is trial 19 with value: 0.13863358465268918.\n"
     ]
    },
    {
     "name": "stdout",
     "output_type": "stream",
     "text": [
      "Successfully updated RF.csv with results of trial 61\n"
     ]
    },
    {
     "name": "stderr",
     "output_type": "stream",
     "text": [
      "[I 2023-11-27 13:23:58,724] Trial 61 finished with value: 0.17001143320414627 and parameters: {'n_estimators': 50, 'max_features': 'sqrt', 'max_depth': 3}. Best is trial 19 with value: 0.13863358465268918.\n",
      "[I 2023-11-27 13:24:40,665] Trial 62 finished with value: 0.16764367988803494 and parameters: {'n_estimators': 500, 'max_features': 'sqrt', 'max_depth': 3}. Best is trial 19 with value: 0.13863358465268918.\n"
     ]
    },
    {
     "name": "stdout",
     "output_type": "stream",
     "text": [
      "Successfully updated RF.csv with results of trial 62\n"
     ]
    },
    {
     "name": "stderr",
     "output_type": "stream",
     "text": [
      "[I 2023-11-27 13:24:42,092] Trial 63 finished with value: 0.15269781069624064 and parameters: {'n_estimators': 500, 'max_features': 'sqrt', 'max_depth': 3}. Best is trial 19 with value: 0.13863358465268918.\n"
     ]
    },
    {
     "name": "stdout",
     "output_type": "stream",
     "text": [
      "Successfully updated RF.csv with results of trial 63\n"
     ]
    },
    {
     "name": "stderr",
     "output_type": "stream",
     "text": [
      "[I 2023-11-27 13:24:43,546] Trial 64 finished with value: 0.1746554649925303 and parameters: {'n_estimators': 500, 'max_features': 'sqrt', 'max_depth': 3}. Best is trial 19 with value: 0.13863358465268918.\n"
     ]
    },
    {
     "name": "stdout",
     "output_type": "stream",
     "text": [
      "Successfully updated RF.csv with results of trial 64\n"
     ]
    },
    {
     "name": "stderr",
     "output_type": "stream",
     "text": [
      "[I 2023-11-27 13:24:44,082] Trial 65 finished with value: 0.17966866643703894 and parameters: {'n_estimators': 500, 'max_features': 'sqrt', 'max_depth': 3}. Best is trial 19 with value: 0.13863358465268918.\n"
     ]
    },
    {
     "name": "stdout",
     "output_type": "stream",
     "text": [
      "Successfully updated RF.csv with results of trial 65\n",
      "Successfully updated RF.csv with results of trial 66\n"
     ]
    },
    {
     "name": "stderr",
     "output_type": "stream",
     "text": [
      "[I 2023-11-27 13:24:44,248] Trial 66 finished with value: 0.1566119963142573 and parameters: {'n_estimators': 500, 'max_features': 'sqrt', 'max_depth': 3}. Best is trial 19 with value: 0.13863358465268918.\n",
      "[I 2023-11-27 13:24:46,494] Trial 67 finished with value: 0.1765266450219852 and parameters: {'n_estimators': 500, 'max_features': 'sqrt', 'max_depth': 3}. Best is trial 19 with value: 0.13863358465268918.\n"
     ]
    },
    {
     "name": "stdout",
     "output_type": "stream",
     "text": [
      "Successfully updated RF.csv with results of trial 67\n"
     ]
    },
    {
     "name": "stderr",
     "output_type": "stream",
     "text": [
      "[I 2023-11-27 13:24:53,544] Trial 68 finished with value: 0.192758077643956 and parameters: {'n_estimators': 500, 'max_features': 'sqrt', 'max_depth': 3}. Best is trial 19 with value: 0.13863358465268918.\n"
     ]
    },
    {
     "name": "stdout",
     "output_type": "stream",
     "text": [
      "Successfully updated RF.csv with results of trial 68\n"
     ]
    },
    {
     "name": "stderr",
     "output_type": "stream",
     "text": [
      "[I 2023-11-27 13:24:57,737] Trial 70 finished with value: 0.14457450540405634 and parameters: {'n_estimators': 500, 'max_features': 'sqrt', 'max_depth': 3}. Best is trial 19 with value: 0.13863358465268918.\n"
     ]
    },
    {
     "name": "stdout",
     "output_type": "stream",
     "text": [
      "Successfully updated RF.csv with results of trial 70\n"
     ]
    },
    {
     "name": "stderr",
     "output_type": "stream",
     "text": [
      "[I 2023-11-27 13:24:58,221] Trial 69 finished with value: 0.17400417443665064 and parameters: {'n_estimators': 500, 'max_features': 'sqrt', 'max_depth': 3}. Best is trial 19 with value: 0.13863358465268918.\n"
     ]
    },
    {
     "name": "stdout",
     "output_type": "stream",
     "text": [
      "Successfully updated RF.csv with results of trial 69\n"
     ]
    },
    {
     "name": "stderr",
     "output_type": "stream",
     "text": [
      "[I 2023-11-27 13:24:59,055] Trial 71 finished with value: 0.1780428203063746 and parameters: {'n_estimators': 20, 'max_features': 'sqrt', 'max_depth': 2}. Best is trial 19 with value: 0.13863358465268918.\n"
     ]
    },
    {
     "name": "stdout",
     "output_type": "stream",
     "text": [
      "Successfully updated RF.csv with results of trial 71\n"
     ]
    },
    {
     "name": "stderr",
     "output_type": "stream",
     "text": [
      "[I 2023-11-27 13:24:59,529] Trial 72 finished with value: 0.1724009688975033 and parameters: {'n_estimators': 20, 'max_features': 'sqrt', 'max_depth': 2}. Best is trial 19 with value: 0.13863358465268918.\n"
     ]
    },
    {
     "name": "stdout",
     "output_type": "stream",
     "text": [
      "Successfully updated RF.csv with results of trial 72\n",
      "Successfully updated RF.csv with results of trial 73\n"
     ]
    },
    {
     "name": "stderr",
     "output_type": "stream",
     "text": [
      "[I 2023-11-27 13:24:59,968] Trial 73 finished with value: 0.15478591924954888 and parameters: {'n_estimators': 20, 'max_features': 'sqrt', 'max_depth': 2}. Best is trial 19 with value: 0.13863358465268918.\n",
      "[I 2023-11-27 13:25:50,928] Trial 74 finished with value: 0.19675016972768533 and parameters: {'n_estimators': 20, 'max_features': 'sqrt', 'max_depth': 2}. Best is trial 19 with value: 0.13863358465268918.\n"
     ]
    },
    {
     "name": "stdout",
     "output_type": "stream",
     "text": [
      "Successfully updated RF.csv with results of trial 74\n"
     ]
    },
    {
     "name": "stderr",
     "output_type": "stream",
     "text": [
      "[I 2023-11-27 13:25:53,501] Trial 75 finished with value: 0.1740424448352825 and parameters: {'n_estimators': 500, 'max_features': 'sqrt', 'max_depth': 5}. Best is trial 19 with value: 0.13863358465268918.\n"
     ]
    },
    {
     "name": "stdout",
     "output_type": "stream",
     "text": [
      "Successfully updated RF.csv with results of trial 75\n"
     ]
    },
    {
     "name": "stderr",
     "output_type": "stream",
     "text": [
      "[I 2023-11-27 13:25:55,023] Trial 80 finished with value: 0.16533406687287525 and parameters: {'n_estimators': 20, 'max_features': 'log2', 'max_depth': 5}. Best is trial 19 with value: 0.13863358465268918.\n"
     ]
    },
    {
     "name": "stdout",
     "output_type": "stream",
     "text": [
      "Successfully updated RF.csv with results of trial 80\n"
     ]
    },
    {
     "name": "stderr",
     "output_type": "stream",
     "text": [
      "[I 2023-11-27 13:25:55,803] Trial 78 finished with value: 0.1709518169156751 and parameters: {'n_estimators': 20, 'max_features': 'sqrt', 'max_depth': 5}. Best is trial 19 with value: 0.13863358465268918.\n"
     ]
    },
    {
     "name": "stdout",
     "output_type": "stream",
     "text": [
      "Successfully updated RF.csv with results of trial 78\n"
     ]
    },
    {
     "name": "stderr",
     "output_type": "stream",
     "text": [
      "[I 2023-11-27 13:25:56,226] Trial 76 finished with value: 0.15201745685777354 and parameters: {'n_estimators': 500, 'max_features': 'sqrt', 'max_depth': 5}. Best is trial 19 with value: 0.13863358465268918.\n"
     ]
    },
    {
     "name": "stdout",
     "output_type": "stream",
     "text": [
      "Successfully updated RF.csv with results of trial 76\n"
     ]
    },
    {
     "name": "stderr",
     "output_type": "stream",
     "text": [
      "[I 2023-11-27 13:25:57,001] Trial 77 finished with value: 0.16619743086945313 and parameters: {'n_estimators': 20, 'max_features': 'sqrt', 'max_depth': 5}. Best is trial 19 with value: 0.13863358465268918.\n"
     ]
    },
    {
     "name": "stdout",
     "output_type": "stream",
     "text": [
      "Successfully updated RF.csv with results of trial 77\n"
     ]
    },
    {
     "name": "stderr",
     "output_type": "stream",
     "text": [
      "[I 2023-11-27 13:25:58,462] Trial 79 finished with value: 0.17876587003002195 and parameters: {'n_estimators': 20, 'max_features': 'log2', 'max_depth': 5}. Best is trial 19 with value: 0.13863358465268918.\n"
     ]
    },
    {
     "name": "stdout",
     "output_type": "stream",
     "text": [
      "Successfully updated RF.csv with results of trial 79\n"
     ]
    },
    {
     "name": "stderr",
     "output_type": "stream",
     "text": [
      "[I 2023-11-27 13:25:59,578] Trial 81 finished with value: 0.170158149814125 and parameters: {'n_estimators': 20, 'max_features': 'log2', 'max_depth': 5}. Best is trial 19 with value: 0.13863358465268918.\n",
      "[I 2023-11-27 13:25:59,594] Trial 82 finished with value: 0.18371651647996826 and parameters: {'n_estimators': 20, 'max_features': 'sqrt', 'max_depth': 5}. Best is trial 19 with value: 0.13863358465268918.\n"
     ]
    },
    {
     "name": "stdout",
     "output_type": "stream",
     "text": [
      "Successfully updated RF.csv with results of trial 82\n",
      "Successfully updated RF.csv with results of trial 81\n"
     ]
    },
    {
     "name": "stderr",
     "output_type": "stream",
     "text": [
      "[I 2023-11-27 13:26:00,476] Trial 83 finished with value: 0.17295058250241477 and parameters: {'n_estimators': 500, 'max_features': 'sqrt', 'max_depth': 5}. Best is trial 19 with value: 0.13863358465268918.\n"
     ]
    },
    {
     "name": "stdout",
     "output_type": "stream",
     "text": [
      "Successfully updated RF.csv with results of trial 83\n"
     ]
    },
    {
     "name": "stderr",
     "output_type": "stream",
     "text": [
      "[I 2023-11-27 13:26:00,952] Trial 85 finished with value: 0.18191392290542271 and parameters: {'n_estimators': 500, 'max_features': 'log2', 'max_depth': 5}. Best is trial 19 with value: 0.13863358465268918.\n"
     ]
    },
    {
     "name": "stdout",
     "output_type": "stream",
     "text": [
      "Successfully updated RF.csv with results of trial 85\n"
     ]
    },
    {
     "name": "stderr",
     "output_type": "stream",
     "text": [
      "[I 2023-11-27 13:26:01,710] Trial 84 finished with value: 0.18411273743179282 and parameters: {'n_estimators': 500, 'max_features': 'log2', 'max_depth': 5}. Best is trial 19 with value: 0.13863358465268918.\n"
     ]
    },
    {
     "name": "stdout",
     "output_type": "stream",
     "text": [
      "Successfully updated RF.csv with results of trial 84\n"
     ]
    },
    {
     "name": "stderr",
     "output_type": "stream",
     "text": [
      "[I 2023-11-27 13:26:56,787] Trial 88 finished with value: 0.16872007909273493 and parameters: {'n_estimators': 200, 'max_features': 'log2', 'max_depth': 5}. Best is trial 19 with value: 0.13863358465268918.\n"
     ]
    },
    {
     "name": "stdout",
     "output_type": "stream",
     "text": [
      "Successfully updated RF.csv with results of trial 88\n"
     ]
    },
    {
     "name": "stderr",
     "output_type": "stream",
     "text": [
      "[I 2023-11-27 13:27:01,182] Trial 93 finished with value: 0.19253769337252047 and parameters: {'n_estimators': 500, 'max_features': 'log2', 'max_depth': 5}. Best is trial 19 with value: 0.13863358465268918.\n"
     ]
    },
    {
     "name": "stdout",
     "output_type": "stream",
     "text": [
      "Successfully updated RF.csv with results of trial 93\n"
     ]
    },
    {
     "name": "stderr",
     "output_type": "stream",
     "text": [
      "[I 2023-11-27 13:27:01,750] Trial 94 finished with value: 0.1771244996033273 and parameters: {'n_estimators': 500, 'max_features': 'log2', 'max_depth': 5}. Best is trial 19 with value: 0.13863358465268918.\n"
     ]
    },
    {
     "name": "stdout",
     "output_type": "stream",
     "text": [
      "Successfully updated RF.csv with results of trial 94\n"
     ]
    },
    {
     "name": "stderr",
     "output_type": "stream",
     "text": [
      "[I 2023-11-27 13:27:02,009] Trial 95 finished with value: 0.1724246880853164 and parameters: {'n_estimators': 500, 'max_features': 'log2', 'max_depth': 5}. Best is trial 19 with value: 0.13863358465268918.\n"
     ]
    },
    {
     "name": "stdout",
     "output_type": "stream",
     "text": [
      "Successfully updated RF.csv with results of trial 95\n"
     ]
    },
    {
     "name": "stderr",
     "output_type": "stream",
     "text": [
      "[I 2023-11-27 13:27:02,416] Trial 96 finished with value: 0.1679094342419557 and parameters: {'n_estimators': 500, 'max_features': 'log2', 'max_depth': 5}. Best is trial 19 with value: 0.13863358465268918.\n"
     ]
    },
    {
     "name": "stdout",
     "output_type": "stream",
     "text": [
      "Successfully updated RF.csv with results of trial 96\n"
     ]
    },
    {
     "name": "stderr",
     "output_type": "stream",
     "text": [
      "[I 2023-11-27 13:27:03,174] Trial 97 finished with value: 0.16221560144591307 and parameters: {'n_estimators': 200, 'max_features': 'log2', 'max_depth': 5}. Best is trial 19 with value: 0.13863358465268918.\n"
     ]
    },
    {
     "name": "stdout",
     "output_type": "stream",
     "text": [
      "Successfully updated RF.csv with results of trial 97\n"
     ]
    },
    {
     "name": "stderr",
     "output_type": "stream",
     "text": [
      "[I 2023-11-27 13:27:03,557] Trial 86 finished with value: 0.1750410782629365 and parameters: {'n_estimators': 500, 'max_features': 'log2', 'max_depth': 5}. Best is trial 19 with value: 0.13863358465268918.\n"
     ]
    },
    {
     "name": "stdout",
     "output_type": "stream",
     "text": [
      "Successfully updated RF.csv with results of trial 86\n"
     ]
    },
    {
     "name": "stderr",
     "output_type": "stream",
     "text": [
      "[I 2023-11-27 13:27:06,039] Trial 87 finished with value: 0.17421649742483072 and parameters: {'n_estimators': 200, 'max_features': 'log2', 'max_depth': 5}. Best is trial 19 with value: 0.13863358465268918.\n"
     ]
    },
    {
     "name": "stdout",
     "output_type": "stream",
     "text": [
      "Successfully updated RF.csv with results of trial 87\n"
     ]
    },
    {
     "name": "stderr",
     "output_type": "stream",
     "text": [
      "[I 2023-11-27 13:27:07,964] Trial 89 finished with value: 0.18354486197431727 and parameters: {'n_estimators': 200, 'max_features': 'log2', 'max_depth': 5}. Best is trial 19 with value: 0.13863358465268918.\n"
     ]
    },
    {
     "name": "stdout",
     "output_type": "stream",
     "text": [
      "Successfully updated RF.csv with results of trial 89\n"
     ]
    },
    {
     "name": "stderr",
     "output_type": "stream",
     "text": [
      "[I 2023-11-27 13:27:09,069] Trial 90 finished with value: 0.19404942290731142 and parameters: {'n_estimators': 200, 'max_features': 'log2', 'max_depth': 5}. Best is trial 19 with value: 0.13863358465268918.\n"
     ]
    },
    {
     "name": "stdout",
     "output_type": "stream",
     "text": [
      "Successfully updated RF.csv with results of trial 90\n"
     ]
    },
    {
     "name": "stderr",
     "output_type": "stream",
     "text": [
      "[I 2023-11-27 13:27:10,766] Trial 92 finished with value: 0.1532551965842576 and parameters: {'n_estimators': 500, 'max_features': 'log2', 'max_depth': 5}. Best is trial 19 with value: 0.13863358465268918.\n"
     ]
    },
    {
     "name": "stdout",
     "output_type": "stream",
     "text": [
      "Successfully updated RF.csv with results of trial 92\n"
     ]
    },
    {
     "name": "stderr",
     "output_type": "stream",
     "text": [
      "[I 2023-11-27 13:27:11,331] Trial 91 finished with value: 0.156170799379946 and parameters: {'n_estimators': 200, 'max_features': 'log2', 'max_depth': 5}. Best is trial 19 with value: 0.13863358465268918.\n"
     ]
    },
    {
     "name": "stdout",
     "output_type": "stream",
     "text": [
      "Successfully updated RF.csv with results of trial 91\n"
     ]
    },
    {
     "name": "stderr",
     "output_type": "stream",
     "text": [
      "[I 2023-11-27 13:27:53,900] Trial 98 finished with value: 0.15904702590580858 and parameters: {'n_estimators': 500, 'max_features': 'log2', 'max_depth': 5}. Best is trial 19 with value: 0.13863358465268918.\n"
     ]
    },
    {
     "name": "stdout",
     "output_type": "stream",
     "text": [
      "Successfully updated RF.csv with results of trial 98\n"
     ]
    },
    {
     "name": "stderr",
     "output_type": "stream",
     "text": [
      "[I 2023-11-27 13:27:58,465] Trial 99 finished with value: 0.16875309445128858 and parameters: {'n_estimators': 500, 'max_features': 'log2', 'max_depth': 5}. Best is trial 19 with value: 0.13863358465268918.\n"
     ]
    },
    {
     "name": "stdout",
     "output_type": "stream",
     "text": [
      "Successfully updated RF.csv with results of trial 99\n"
     ]
    },
    {
     "name": "stderr",
     "output_type": "stream",
     "text": [
      "[I 2023-11-27 13:27:59,281] Trial 102 finished with value: 0.15980224498695683 and parameters: {'n_estimators': 500, 'max_features': 'sqrt', 'max_depth': 5}. Best is trial 19 with value: 0.13863358465268918.\n"
     ]
    },
    {
     "name": "stdout",
     "output_type": "stream",
     "text": [
      "Successfully updated RF.csv with results of trial 102\n"
     ]
    },
    {
     "name": "stderr",
     "output_type": "stream",
     "text": [
      "[I 2023-11-27 13:27:59,602] Trial 100 finished with value: 0.17447446527379493 and parameters: {'n_estimators': 500, 'max_features': 'log2', 'max_depth': 5}. Best is trial 19 with value: 0.13863358465268918.\n"
     ]
    },
    {
     "name": "stdout",
     "output_type": "stream",
     "text": [
      "Successfully updated RF.csv with results of trial 100\n"
     ]
    },
    {
     "name": "stderr",
     "output_type": "stream",
     "text": [
      "[I 2023-11-27 13:28:00,434] Trial 103 finished with value: 0.16065564735845209 and parameters: {'n_estimators': 500, 'max_features': 'sqrt', 'max_depth': 2}. Best is trial 19 with value: 0.13863358465268918.\n"
     ]
    },
    {
     "name": "stdout",
     "output_type": "stream",
     "text": [
      "Successfully updated RF.csv with results of trial 103\n"
     ]
    },
    {
     "name": "stderr",
     "output_type": "stream",
     "text": [
      "[I 2023-11-27 13:28:00,898] Trial 101 finished with value: 0.17555794915934117 and parameters: {'n_estimators': 500, 'max_features': 'log2', 'max_depth': 5}. Best is trial 19 with value: 0.13863358465268918.\n"
     ]
    },
    {
     "name": "stdout",
     "output_type": "stream",
     "text": [
      "Successfully updated RF.csv with results of trial 101\n"
     ]
    },
    {
     "name": "stderr",
     "output_type": "stream",
     "text": [
      "[I 2023-11-27 13:28:13,555] Trial 104 finished with value: 0.16489508986497256 and parameters: {'n_estimators': 500, 'max_features': 'sqrt', 'max_depth': 2}. Best is trial 19 with value: 0.13863358465268918.\n"
     ]
    },
    {
     "name": "stdout",
     "output_type": "stream",
     "text": [
      "Successfully updated RF.csv with results of trial 104\n"
     ]
    },
    {
     "name": "stderr",
     "output_type": "stream",
     "text": [
      "[I 2023-11-27 13:28:15,383] Trial 105 finished with value: 0.16490549991723127 and parameters: {'n_estimators': 500, 'max_features': 'sqrt', 'max_depth': 2}. Best is trial 19 with value: 0.13863358465268918.\n"
     ]
    },
    {
     "name": "stdout",
     "output_type": "stream",
     "text": [
      "Successfully updated RF.csv with results of trial 105\n"
     ]
    },
    {
     "name": "stderr",
     "output_type": "stream",
     "text": [
      "[I 2023-11-27 13:28:17,196] Trial 106 finished with value: 0.17133343658212707 and parameters: {'n_estimators': 500, 'max_features': 'sqrt', 'max_depth': 2}. Best is trial 19 with value: 0.13863358465268918.\n"
     ]
    },
    {
     "name": "stdout",
     "output_type": "stream",
     "text": [
      "Successfully updated RF.csv with results of trial 106\n"
     ]
    },
    {
     "name": "stderr",
     "output_type": "stream",
     "text": [
      "[I 2023-11-27 13:28:20,329] Trial 107 finished with value: 0.16407977947503258 and parameters: {'n_estimators': 500, 'max_features': 'sqrt', 'max_depth': 2}. Best is trial 19 with value: 0.13863358465268918.\n"
     ]
    },
    {
     "name": "stdout",
     "output_type": "stream",
     "text": [
      "Successfully updated RF.csv with results of trial 107\n"
     ]
    },
    {
     "name": "stderr",
     "output_type": "stream",
     "text": [
      "[I 2023-11-27 13:28:21,705] Trial 108 finished with value: 0.16839529226593508 and parameters: {'n_estimators': 500, 'max_features': 'log2', 'max_depth': 5}. Best is trial 19 with value: 0.13863358465268918.\n"
     ]
    },
    {
     "name": "stdout",
     "output_type": "stream",
     "text": [
      "Successfully updated RF.csv with results of trial 108\n"
     ]
    },
    {
     "name": "stderr",
     "output_type": "stream",
     "text": [
      "[I 2023-11-27 13:28:22,152] Trial 109 finished with value: 0.1679317544553105 and parameters: {'n_estimators': 500, 'max_features': 'log2', 'max_depth': 5}. Best is trial 19 with value: 0.13863358465268918.\n"
     ]
    },
    {
     "name": "stdout",
     "output_type": "stream",
     "text": [
      "Successfully updated RF.csv with results of trial 109\n"
     ]
    },
    {
     "name": "stderr",
     "output_type": "stream",
     "text": [
      "[I 2023-11-27 13:28:49,244] Trial 110 finished with value: 0.1530910653619603 and parameters: {'n_estimators': 500, 'max_features': 'log2', 'max_depth': 5}. Best is trial 19 with value: 0.13863358465268918.\n"
     ]
    },
    {
     "name": "stdout",
     "output_type": "stream",
     "text": [
      "Successfully updated RF.csv with results of trial 110\n"
     ]
    },
    {
     "name": "stderr",
     "output_type": "stream",
     "text": [
      "[I 2023-11-27 13:28:53,644] Trial 111 finished with value: 0.16782891128687413 and parameters: {'n_estimators': 500, 'max_features': 'sqrt', 'max_depth': 5}. Best is trial 19 with value: 0.13863358465268918.\n"
     ]
    },
    {
     "name": "stdout",
     "output_type": "stream",
     "text": [
      "Successfully updated RF.csv with results of trial 111\n"
     ]
    },
    {
     "name": "stderr",
     "output_type": "stream",
     "text": [
      "[I 2023-11-27 13:28:53,939] Trial 113 finished with value: 0.19705780917072765 and parameters: {'n_estimators': 500, 'max_features': 'sqrt', 'max_depth': 2}. Best is trial 19 with value: 0.13863358465268918.\n"
     ]
    },
    {
     "name": "stdout",
     "output_type": "stream",
     "text": [
      "Successfully updated RF.csv with results of trial 113\n"
     ]
    },
    {
     "name": "stderr",
     "output_type": "stream",
     "text": [
      "[I 2023-11-27 13:28:54,441] Trial 112 finished with value: 0.1634596333248108 and parameters: {'n_estimators': 500, 'max_features': 'sqrt', 'max_depth': 2}. Best is trial 19 with value: 0.13863358465268918.\n"
     ]
    },
    {
     "name": "stdout",
     "output_type": "stream",
     "text": [
      "Successfully updated RF.csv with results of trial 112\n"
     ]
    },
    {
     "name": "stderr",
     "output_type": "stream",
     "text": [
      "[I 2023-11-27 13:28:55,092] Trial 115 finished with value: 0.16056560101678471 and parameters: {'n_estimators': 500, 'max_features': 'sqrt', 'max_depth': 3}. Best is trial 19 with value: 0.13863358465268918.\n",
      "[I 2023-11-27 13:28:55,263] Trial 114 finished with value: 0.16273440821217355 and parameters: {'n_estimators': 500, 'max_features': 'sqrt', 'max_depth': 2}. Best is trial 19 with value: 0.13863358465268918.\n"
     ]
    },
    {
     "name": "stdout",
     "output_type": "stream",
     "text": [
      "Successfully updated RF.csv with results of trial 115\n",
      "Successfully updated RF.csv with results of trial 114\n"
     ]
    },
    {
     "name": "stderr",
     "output_type": "stream",
     "text": [
      "[I 2023-11-27 13:29:01,020] Trial 116 finished with value: 0.18646372304253775 and parameters: {'n_estimators': 500, 'max_features': 'sqrt', 'max_depth': 3}. Best is trial 19 with value: 0.13863358465268918.\n"
     ]
    },
    {
     "name": "stdout",
     "output_type": "stream",
     "text": [
      "Successfully updated RF.csv with results of trial 116\n"
     ]
    },
    {
     "name": "stderr",
     "output_type": "stream",
     "text": [
      "[I 2023-11-27 13:29:01,549] Trial 117 finished with value: 0.180358788809431 and parameters: {'n_estimators': 10, 'max_features': 'sqrt', 'max_depth': 3}. Best is trial 19 with value: 0.13863358465268918.\n"
     ]
    },
    {
     "name": "stdout",
     "output_type": "stream",
     "text": [
      "Successfully updated RF.csv with results of trial 117\n"
     ]
    },
    {
     "name": "stderr",
     "output_type": "stream",
     "text": [
      "[I 2023-11-27 13:29:01,999] Trial 118 finished with value: 0.16812960445335232 and parameters: {'n_estimators': 10, 'max_features': 'sqrt', 'max_depth': 3}. Best is trial 19 with value: 0.13863358465268918.\n"
     ]
    },
    {
     "name": "stdout",
     "output_type": "stream",
     "text": [
      "Successfully updated RF.csv with results of trial 118\n"
     ]
    },
    {
     "name": "stderr",
     "output_type": "stream",
     "text": [
      "[I 2023-11-27 13:29:02,338] Trial 119 finished with value: 0.16078069772933123 and parameters: {'n_estimators': 10, 'max_features': 'sqrt', 'max_depth': 3}. Best is trial 19 with value: 0.13863358465268918.\n",
      "[I 2023-11-27 13:29:02,508] Using an existing study with name 'ANN' instead of creating a new one.\n"
     ]
    },
    {
     "name": "stdout",
     "output_type": "stream",
     "text": [
      "Successfully updated RF.csv with results of trial 119\n",
      "random 3A4 ANN\n"
     ]
    },
    {
     "name": "stderr",
     "output_type": "stream",
     "text": [
      "[I 2023-11-27 13:29:33,036] Trial 20 finished with value: 0.2357451673203733 and parameters: {'learning_rate_init': 0.02959367103578203, 'hidden_layer_sizes': [5, 5]}. Best is trial 1 with value: 0.23421065628764248.\n"
     ]
    },
    {
     "name": "stdout",
     "output_type": "stream",
     "text": [
      "Successfully created ANN.csv with results of trial 20 as the first entry\n"
     ]
    },
    {
     "name": "stderr",
     "output_type": "stream",
     "text": [
      "[I 2023-11-27 13:29:33,266] Trial 25 finished with value: 0.2611040495241498 and parameters: {'learning_rate_init': 0.030045058947383158, 'hidden_layer_sizes': [5, 5]}. Best is trial 1 with value: 0.23421065628764248.\n"
     ]
    },
    {
     "name": "stdout",
     "output_type": "stream",
     "text": [
      "Successfully updated ANN.csv with results of trial 25\n"
     ]
    },
    {
     "name": "stderr",
     "output_type": "stream",
     "text": [
      "[I 2023-11-27 13:29:33,674] Trial 30 finished with value: 0.23455754356147338 and parameters: {'learning_rate_init': 0.029662149914750274, 'hidden_layer_sizes': [10, 10]}. Best is trial 1 with value: 0.23421065628764248.\n"
     ]
    },
    {
     "name": "stdout",
     "output_type": "stream",
     "text": [
      "Successfully updated ANN.csv with results of trial 30\n"
     ]
    },
    {
     "name": "stderr",
     "output_type": "stream",
     "text": [
      "[I 2023-11-27 13:29:34,130] Trial 22 finished with value: 0.24911236608287401 and parameters: {'learning_rate_init': 0.03198024838027395, 'hidden_layer_sizes': [5, 5]}. Best is trial 1 with value: 0.23421065628764248.\n"
     ]
    },
    {
     "name": "stdout",
     "output_type": "stream",
     "text": [
      "Successfully updated ANN.csv with results of trial 22\n"
     ]
    },
    {
     "name": "stderr",
     "output_type": "stream",
     "text": [
      "[I 2023-11-27 13:29:34,615] Trial 27 finished with value: 0.24207667010231962 and parameters: {'learning_rate_init': 0.02873570943433689, 'hidden_layer_sizes': [5, 5]}. Best is trial 1 with value: 0.23421065628764248.\n"
     ]
    },
    {
     "name": "stdout",
     "output_type": "stream",
     "text": [
      "Successfully updated ANN.csv with results of trial 27\n",
      "Successfully updated ANN.csv with results of trial 21\n",
      "Successfully updated ANN.csv with results of trial 24\n"
     ]
    },
    {
     "name": "stderr",
     "output_type": "stream",
     "text": [
      "[I 2023-11-27 13:29:34,900] Trial 21 finished with value: 0.2453606551673079 and parameters: {'learning_rate_init': 0.034037661030431286, 'hidden_layer_sizes': [50]}. Best is trial 1 with value: 0.23421065628764248.\n",
      "[I 2023-11-27 13:29:34,966] Trial 24 finished with value: 0.2893617811211858 and parameters: {'learning_rate_init': 0.029832551451300093, 'hidden_layer_sizes': [50]}. Best is trial 1 with value: 0.23421065628764248.\n",
      "[I 2023-11-27 13:29:35,412] Trial 28 finished with value: 0.2372170840696151 and parameters: {'learning_rate_init': 0.03153946476750062, 'hidden_layer_sizes': [10, 10]}. Best is trial 1 with value: 0.23421065628764248.\n"
     ]
    },
    {
     "name": "stdout",
     "output_type": "stream",
     "text": [
      "Successfully updated ANN.csv with results of trial 28\n"
     ]
    },
    {
     "name": "stderr",
     "output_type": "stream",
     "text": [
      "[I 2023-11-27 13:29:36,623] Trial 29 finished with value: 0.27964480569674927 and parameters: {'learning_rate_init': 0.031947808278751, 'hidden_layer_sizes': [50]}. Best is trial 1 with value: 0.23421065628764248.\n"
     ]
    },
    {
     "name": "stdout",
     "output_type": "stream",
     "text": [
      "Successfully updated ANN.csv with results of trial 29\n",
      "Successfully updated ANN.csv with results of trial 31\n"
     ]
    },
    {
     "name": "stderr",
     "output_type": "stream",
     "text": [
      "[I 2023-11-27 13:29:36,858] Trial 31 finished with value: 0.22682030773448814 and parameters: {'learning_rate_init': 0.029670752331580716, 'hidden_layer_sizes': [50]}. Best is trial 31 with value: 0.22682030773448814.\n",
      "[I 2023-11-27 13:29:37,125] Trial 23 finished with value: 0.2524178392021718 and parameters: {'learning_rate_init': 0.030436729092845873, 'hidden_layer_sizes': [5, 5]}. Best is trial 31 with value: 0.22682030773448814.\n"
     ]
    },
    {
     "name": "stdout",
     "output_type": "stream",
     "text": [
      "Successfully updated ANN.csv with results of trial 23\n",
      "Successfully updated ANN.csv with results of trial 26\n"
     ]
    },
    {
     "name": "stderr",
     "output_type": "stream",
     "text": [
      "[I 2023-11-27 13:29:37,413] Trial 26 finished with value: 0.24002019140262842 and parameters: {'learning_rate_init': 0.030679737844480887, 'hidden_layer_sizes': [5, 5]}. Best is trial 31 with value: 0.22682030773448814.\n",
      "[I 2023-11-27 13:30:04,340] Trial 32 finished with value: 0.25474668835744635 and parameters: {'learning_rate_init': 0.03162728394574507, 'hidden_layer_sizes': [5, 5]}. Best is trial 31 with value: 0.22682030773448814.\n"
     ]
    },
    {
     "name": "stdout",
     "output_type": "stream",
     "text": [
      "Successfully updated ANN.csv with results of trial 32\n"
     ]
    },
    {
     "name": "stderr",
     "output_type": "stream",
     "text": [
      "[I 2023-11-27 13:30:05,693] Trial 33 finished with value: 0.24648528526351254 and parameters: {'learning_rate_init': 0.030957546495252532, 'hidden_layer_sizes': [50]}. Best is trial 31 with value: 0.22682030773448814.\n"
     ]
    },
    {
     "name": "stdout",
     "output_type": "stream",
     "text": [
      "Successfully updated ANN.csv with results of trial 33\n",
      "Successfully updated ANN.csv with results of trial 36\n"
     ]
    },
    {
     "name": "stderr",
     "output_type": "stream",
     "text": [
      "[I 2023-11-27 13:30:05,960] Trial 36 finished with value: 0.23044051012233335 and parameters: {'learning_rate_init': 0.07253103303114287, 'hidden_layer_sizes': [10, 10]}. Best is trial 31 with value: 0.22682030773448814.\n",
      "[I 2023-11-27 13:30:06,323] Trial 35 finished with value: 0.23660338971341308 and parameters: {'learning_rate_init': 0.03730219945112185, 'hidden_layer_sizes': [10, 10]}. Best is trial 31 with value: 0.22682030773448814.\n"
     ]
    },
    {
     "name": "stdout",
     "output_type": "stream",
     "text": [
      "Successfully updated ANN.csv with results of trial 35\n",
      "Successfully updated ANN.csv with results of trial 34\n"
     ]
    },
    {
     "name": "stderr",
     "output_type": "stream",
     "text": [
      "[I 2023-11-27 13:30:06,542] Trial 34 finished with value: 0.24721641012368556 and parameters: {'learning_rate_init': 0.0696490481731936, 'hidden_layer_sizes': [10, 10]}. Best is trial 31 with value: 0.22682030773448814.\n",
      "[I 2023-11-27 13:30:07,944] Trial 37 finished with value: 0.23088923516110518 and parameters: {'learning_rate_init': 0.0730006067670293, 'hidden_layer_sizes': [10, 10]}. Best is trial 43 with value: 0.2215394104399512.\n",
      "[I 2023-11-27 13:30:07,976] Trial 43 finished with value: 0.2215394104399512 and parameters: {'learning_rate_init': 0.02276515820823885, 'hidden_layer_sizes': [10, 10]}. Best is trial 43 with value: 0.2215394104399512.\n"
     ]
    },
    {
     "name": "stdout",
     "output_type": "stream",
     "text": [
      "Successfully updated ANN.csv with results of trial 37\n",
      "Successfully updated ANN.csv with results of trial 43\n",
      "Successfully updated ANN.csv with results of trial 39\n"
     ]
    },
    {
     "name": "stderr",
     "output_type": "stream",
     "text": [
      "[I 2023-11-27 13:30:08,322] Trial 39 finished with value: 0.24653148886823098 and parameters: {'learning_rate_init': 0.0403929601122172, 'hidden_layer_sizes': [10, 10]}. Best is trial 43 with value: 0.2215394104399512.\n"
     ]
    },
    {
     "name": "stdout",
     "output_type": "stream",
     "text": [
      "Successfully updated ANN.csv with results of trial 38\n"
     ]
    },
    {
     "name": "stderr",
     "output_type": "stream",
     "text": [
      "[I 2023-11-27 13:30:08,597] Trial 38 finished with value: 0.26742010528211885 and parameters: {'learning_rate_init': 0.06946170386996996, 'hidden_layer_sizes': [10, 10]}. Best is trial 43 with value: 0.2215394104399512.\n",
      "[I 2023-11-27 13:30:09,347] Trial 41 finished with value: 0.24984937272508237 and parameters: {'learning_rate_init': 0.040084416833215925, 'hidden_layer_sizes': [10, 10]}. Best is trial 43 with value: 0.2215394104399512.\n"
     ]
    },
    {
     "name": "stdout",
     "output_type": "stream",
     "text": [
      "Successfully updated ANN.csv with results of trial 41\n"
     ]
    },
    {
     "name": "stderr",
     "output_type": "stream",
     "text": [
      "[I 2023-11-27 13:30:10,322] Trial 42 finished with value: 0.2663895881557162 and parameters: {'learning_rate_init': 0.07257609880760306, 'hidden_layer_sizes': [20, 20]}. Best is trial 43 with value: 0.2215394104399512.\n"
     ]
    },
    {
     "name": "stdout",
     "output_type": "stream",
     "text": [
      "Successfully updated ANN.csv with results of trial 42\n"
     ]
    },
    {
     "name": "stderr",
     "output_type": "stream",
     "text": [
      "[I 2023-11-27 13:30:10,589] Trial 40 finished with value: 0.28678550749135506 and parameters: {'learning_rate_init': 0.07406001550205231, 'hidden_layer_sizes': [10, 10]}. Best is trial 43 with value: 0.2215394104399512.\n"
     ]
    },
    {
     "name": "stdout",
     "output_type": "stream",
     "text": [
      "Successfully updated ANN.csv with results of trial 40\n"
     ]
    },
    {
     "name": "stderr",
     "output_type": "stream",
     "text": [
      "[I 2023-11-27 13:30:34,637] Trial 44 finished with value: 0.2747238054100723 and parameters: {'learning_rate_init': 0.02178576977410385, 'hidden_layer_sizes': [10, 10]}. Best is trial 43 with value: 0.2215394104399512.\n"
     ]
    },
    {
     "name": "stdout",
     "output_type": "stream",
     "text": [
      "Successfully updated ANN.csv with results of trial 44\n"
     ]
    },
    {
     "name": "stderr",
     "output_type": "stream",
     "text": [
      "[I 2023-11-27 13:30:37,661] Trial 46 finished with value: 0.28926454188784995 and parameters: {'learning_rate_init': 0.0741883805874147, 'hidden_layer_sizes': [10, 10]}. Best is trial 43 with value: 0.2215394104399512.\n"
     ]
    },
    {
     "name": "stdout",
     "output_type": "stream",
     "text": [
      "Successfully updated ANN.csv with results of trial 46\n"
     ]
    },
    {
     "name": "stderr",
     "output_type": "stream",
     "text": [
      "[I 2023-11-27 13:30:38,763] Trial 45 finished with value: 0.26102591413759285 and parameters: {'learning_rate_init': 0.02138776970186294, 'hidden_layer_sizes': [20, 20]}. Best is trial 43 with value: 0.2215394104399512.\n"
     ]
    },
    {
     "name": "stdout",
     "output_type": "stream",
     "text": [
      "Successfully updated ANN.csv with results of trial 45\n"
     ]
    },
    {
     "name": "stderr",
     "output_type": "stream",
     "text": [
      "[I 2023-11-27 13:30:39,943] Trial 47 finished with value: 0.26827552980097713 and parameters: {'learning_rate_init': 0.021317825943025056, 'hidden_layer_sizes': [20, 20]}. Best is trial 43 with value: 0.2215394104399512.\n"
     ]
    },
    {
     "name": "stdout",
     "output_type": "stream",
     "text": [
      "Successfully updated ANN.csv with results of trial 47\n"
     ]
    },
    {
     "name": "stderr",
     "output_type": "stream",
     "text": [
      "[I 2023-11-27 13:30:40,494] Trial 50 finished with value: 0.24760082139542816 and parameters: {'learning_rate_init': 0.0723198213991666, 'hidden_layer_sizes': [20, 20]}. Best is trial 43 with value: 0.2215394104399512.\n"
     ]
    },
    {
     "name": "stdout",
     "output_type": "stream",
     "text": [
      "Successfully updated ANN.csv with results of trial 50\n",
      "Successfully updated ANN.csv with results of trial 48\n",
      "Successfully updated ANN.csv with results of trial 54\n"
     ]
    },
    {
     "name": "stderr",
     "output_type": "stream",
     "text": [
      "[I 2023-11-27 13:30:40,667] Trial 48 finished with value: 0.24182694806073637 and parameters: {'learning_rate_init': 0.02132588799454363, 'hidden_layer_sizes': [20, 20]}. Best is trial 43 with value: 0.2215394104399512.\n",
      "[I 2023-11-27 13:30:40,700] Trial 54 finished with value: 0.25448746438111175 and parameters: {'learning_rate_init': 0.020477686819159246, 'hidden_layer_sizes': [50, 50]}. Best is trial 43 with value: 0.2215394104399512.\n",
      "[I 2023-11-27 13:30:41,552] Trial 49 finished with value: 0.23601747882543575 and parameters: {'learning_rate_init': 0.07589552283992698, 'hidden_layer_sizes': [20, 20]}. Best is trial 43 with value: 0.2215394104399512.\n"
     ]
    },
    {
     "name": "stdout",
     "output_type": "stream",
     "text": [
      "Successfully updated ANN.csv with results of trial 49\n",
      "Successfully updated ANN.csv with results of trial 53\n",
      "Successfully updated ANN.csv with results of trial 55\n"
     ]
    },
    {
     "name": "stderr",
     "output_type": "stream",
     "text": [
      "[I 2023-11-27 13:30:41,868] Trial 53 finished with value: 0.2652272936363861 and parameters: {'learning_rate_init': 0.02142034265045377, 'hidden_layer_sizes': [20, 20]}. Best is trial 43 with value: 0.2215394104399512.\n",
      "[I 2023-11-27 13:30:41,900] Trial 55 finished with value: 0.25033979703001447 and parameters: {'learning_rate_init': 0.02274073398905393, 'hidden_layer_sizes': [50, 50]}. Best is trial 43 with value: 0.2215394104399512.\n"
     ]
    },
    {
     "name": "stdout",
     "output_type": "stream",
     "text": [
      "Successfully updated ANN.csv with results of trial 51\n"
     ]
    },
    {
     "name": "stderr",
     "output_type": "stream",
     "text": [
      "[I 2023-11-27 13:30:42,232] Trial 51 finished with value: 0.24722005610394215 and parameters: {'learning_rate_init': 0.022989467220846056, 'hidden_layer_sizes': [50, 50]}. Best is trial 43 with value: 0.2215394104399512.\n",
      "[I 2023-11-27 13:30:43,549] Trial 52 finished with value: 0.2629964927477855 and parameters: {'learning_rate_init': 0.022816827128988595, 'hidden_layer_sizes': [20, 20]}. Best is trial 43 with value: 0.2215394104399512.\n"
     ]
    },
    {
     "name": "stdout",
     "output_type": "stream",
     "text": [
      "Successfully updated ANN.csv with results of trial 52\n"
     ]
    },
    {
     "name": "stderr",
     "output_type": "stream",
     "text": [
      "[I 2023-11-27 13:31:05,566] Trial 56 finished with value: 0.24411402580460148 and parameters: {'learning_rate_init': 0.08322554485658697, 'hidden_layer_sizes': [50, 50]}. Best is trial 43 with value: 0.2215394104399512.\n"
     ]
    },
    {
     "name": "stdout",
     "output_type": "stream",
     "text": [
      "Successfully updated ANN.csv with results of trial 56\n"
     ]
    },
    {
     "name": "stderr",
     "output_type": "stream",
     "text": [
      "[I 2023-11-27 13:31:11,444] Trial 60 finished with value: 0.2672170667103086 and parameters: {'learning_rate_init': 0.04783619847887077, 'hidden_layer_sizes': [5, 5, 5]}. Best is trial 43 with value: 0.2215394104399512.\n"
     ]
    },
    {
     "name": "stdout",
     "output_type": "stream",
     "text": [
      "Successfully updated ANN.csv with results of trial 60\n",
      "Successfully updated ANN.csv with results of trial 59\n",
      "Successfully updated ANN.csv with results of trial 57\n",
      "Successfully updated ANN.csv with results of trial 58\n"
     ]
    },
    {
     "name": "stderr",
     "output_type": "stream",
     "text": [
      "[I 2023-11-27 13:31:11,757] Trial 58 finished with value: 0.2325671764156995 and parameters: {'learning_rate_init': 0.0795582129450696, 'hidden_layer_sizes': [5, 5, 5]}. Best is trial 43 with value: 0.2215394104399512.\n",
      "[I 2023-11-27 13:31:11,820] Trial 57 finished with value: 0.25796132625834106 and parameters: {'learning_rate_init': 0.02295842538277784, 'hidden_layer_sizes': [50, 50]}. Best is trial 43 with value: 0.2215394104399512.\n",
      "[I 2023-11-27 13:31:11,852] Trial 59 finished with value: 0.2533584028316848 and parameters: {'learning_rate_init': 0.08682585000673967, 'hidden_layer_sizes': [5, 5, 5]}. Best is trial 43 with value: 0.2215394104399512.\n"
     ]
    },
    {
     "name": "stdout",
     "output_type": "stream",
     "text": [
      "Successfully updated ANN.csv with results of trial 61\n"
     ]
    },
    {
     "name": "stderr",
     "output_type": "stream",
     "text": [
      "[I 2023-11-27 13:31:12,309] Trial 61 finished with value: 0.25305717463601274 and parameters: {'learning_rate_init': 0.08022896464518528, 'hidden_layer_sizes': [10, 10, 10]}. Best is trial 43 with value: 0.2215394104399512.\n",
      "[I 2023-11-27 13:31:13,411] Trial 62 finished with value: 0.227043200900781 and parameters: {'learning_rate_init': 0.07998669808495319, 'hidden_layer_sizes': [10, 10, 10]}. Best is trial 43 with value: 0.2215394104399512.\n"
     ]
    },
    {
     "name": "stdout",
     "output_type": "stream",
     "text": [
      "Successfully updated ANN.csv with results of trial 62\n"
     ]
    },
    {
     "name": "stderr",
     "output_type": "stream",
     "text": [
      "[I 2023-11-27 13:31:14,859] Trial 63 finished with value: 0.25155749553380896 and parameters: {'learning_rate_init': 0.04840821574618797, 'hidden_layer_sizes': [5, 5, 5]}. Best is trial 43 with value: 0.2215394104399512.\n"
     ]
    },
    {
     "name": "stdout",
     "output_type": "stream",
     "text": [
      "Successfully updated ANN.csv with results of trial 63\n"
     ]
    },
    {
     "name": "stderr",
     "output_type": "stream",
     "text": [
      "[I 2023-11-27 13:31:15,141] Trial 65 finished with value: 0.2740137584640991 and parameters: {'learning_rate_init': 0.013601385448928634, 'hidden_layer_sizes': [5, 5, 5]}. Best is trial 43 with value: 0.2215394104399512.\n"
     ]
    },
    {
     "name": "stdout",
     "output_type": "stream",
     "text": [
      "Successfully updated ANN.csv with results of trial 65\n"
     ]
    },
    {
     "name": "stderr",
     "output_type": "stream",
     "text": [
      "[I 2023-11-27 13:31:15,440] Trial 64 finished with value: 0.26180169803008196 and parameters: {'learning_rate_init': 0.045610415396470705, 'hidden_layer_sizes': [10, 10, 10]}. Best is trial 43 with value: 0.2215394104399512.\n"
     ]
    },
    {
     "name": "stdout",
     "output_type": "stream",
     "text": [
      "Successfully updated ANN.csv with results of trial 64\n"
     ]
    },
    {
     "name": "stderr",
     "output_type": "stream",
     "text": [
      "[I 2023-11-27 13:31:15,961] Trial 66 finished with value: 0.25102398275734933 and parameters: {'learning_rate_init': 0.0451455132758414, 'hidden_layer_sizes': [5, 5, 5]}. Best is trial 43 with value: 0.2215394104399512.\n"
     ]
    },
    {
     "name": "stdout",
     "output_type": "stream",
     "text": [
      "Successfully updated ANN.csv with results of trial 66\n"
     ]
    },
    {
     "name": "stderr",
     "output_type": "stream",
     "text": [
      "[I 2023-11-27 13:31:16,808] Trial 67 finished with value: 0.23988429019715699 and parameters: {'learning_rate_init': 0.08112218282040916, 'hidden_layer_sizes': [5, 5, 5]}. Best is trial 43 with value: 0.2215394104399512.\n"
     ]
    },
    {
     "name": "stdout",
     "output_type": "stream",
     "text": [
      "Successfully updated ANN.csv with results of trial 67\n"
     ]
    },
    {
     "name": "stderr",
     "output_type": "stream",
     "text": [
      "[I 2023-11-27 13:31:37,684] Trial 68 finished with value: 0.25321948828326885 and parameters: {'learning_rate_init': 0.047361397189206476, 'hidden_layer_sizes': [5, 5, 5]}. Best is trial 43 with value: 0.2215394104399512.\n"
     ]
    },
    {
     "name": "stdout",
     "output_type": "stream",
     "text": [
      "Successfully updated ANN.csv with results of trial 68\n"
     ]
    },
    {
     "name": "stderr",
     "output_type": "stream",
     "text": [
      "[I 2023-11-27 13:31:45,773] Trial 69 finished with value: 0.2567509227658232 and parameters: {'learning_rate_init': 0.01589043236964227, 'hidden_layer_sizes': [10, 10, 10]}. Best is trial 43 with value: 0.2215394104399512.\n"
     ]
    },
    {
     "name": "stdout",
     "output_type": "stream",
     "text": [
      "Successfully updated ANN.csv with results of trial 69\n"
     ]
    },
    {
     "name": "stderr",
     "output_type": "stream",
     "text": [
      "[I 2023-11-27 13:31:47,082] Trial 71 finished with value: 0.23758402423664404 and parameters: {'learning_rate_init': 0.09504230952427786, 'hidden_layer_sizes': [50, 50, 50]}. Best is trial 43 with value: 0.2215394104399512.\n"
     ]
    },
    {
     "name": "stdout",
     "output_type": "stream",
     "text": [
      "Successfully updated ANN.csv with results of trial 71\n",
      "Successfully updated ANN.csv with results of trial 72\n"
     ]
    },
    {
     "name": "stderr",
     "output_type": "stream",
     "text": [
      "[I 2023-11-27 13:31:47,376] Trial 72 finished with value: 0.25455723376488537 and parameters: {'learning_rate_init': 0.0950467252886883, 'hidden_layer_sizes': [20]}. Best is trial 43 with value: 0.2215394104399512.\n"
     ]
    },
    {
     "name": "stdout",
     "output_type": "stream",
     "text": [
      "Successfully updated ANN.csv with results of trial 73\n",
      "Successfully updated ANN.csv with results of trial 76\n"
     ]
    },
    {
     "name": "stderr",
     "output_type": "stream",
     "text": [
      "[I 2023-11-27 13:31:47,664] Trial 73 finished with value: 0.2664732053972875 and parameters: {'learning_rate_init': 0.09964430219923831, 'hidden_layer_sizes': [50, 50, 50]}. Best is trial 43 with value: 0.2215394104399512.\n",
      "[I 2023-11-27 13:31:47,702] Trial 76 finished with value: 0.2615399456576229 and parameters: {'learning_rate_init': 0.09336487133290947, 'hidden_layer_sizes': [50, 50, 50]}. Best is trial 43 with value: 0.2215394104399512.\n"
     ]
    },
    {
     "name": "stdout",
     "output_type": "stream",
     "text": [
      "Successfully updated ANN.csv with results of trial 70\n"
     ]
    },
    {
     "name": "stderr",
     "output_type": "stream",
     "text": [
      "[I 2023-11-27 13:31:48,152] Trial 70 finished with value: 0.24788848604746616 and parameters: {'learning_rate_init': 0.07845331554263224, 'hidden_layer_sizes': [10, 10, 10]}. Best is trial 43 with value: 0.2215394104399512.\n",
      "[I 2023-11-27 13:31:48,929] Trial 74 finished with value: 0.2520302799625426 and parameters: {'learning_rate_init': 0.09411817159824477, 'hidden_layer_sizes': [10, 10, 10]}. Best is trial 43 with value: 0.2215394104399512.\n"
     ]
    },
    {
     "name": "stdout",
     "output_type": "stream",
     "text": [
      "Successfully updated ANN.csv with results of trial 74\n"
     ]
    },
    {
     "name": "stderr",
     "output_type": "stream",
     "text": [
      "[I 2023-11-27 13:31:52,790] Trial 78 finished with value: 0.2552158552981955 and parameters: {'learning_rate_init': 0.09496297760689332, 'hidden_layer_sizes': [20]}. Best is trial 43 with value: 0.2215394104399512.\n"
     ]
    },
    {
     "name": "stdout",
     "output_type": "stream",
     "text": [
      "Successfully updated ANN.csv with results of trial 78\n"
     ]
    },
    {
     "name": "stderr",
     "output_type": "stream",
     "text": [
      "[I 2023-11-27 13:31:53,111] Trial 77 finished with value: 0.2611317671204351 and parameters: {'learning_rate_init': 0.09834989770444258, 'hidden_layer_sizes': [50, 50, 50]}. Best is trial 43 with value: 0.2215394104399512.\n"
     ]
    },
    {
     "name": "stdout",
     "output_type": "stream",
     "text": [
      "Successfully updated ANN.csv with results of trial 77\n"
     ]
    },
    {
     "name": "stderr",
     "output_type": "stream",
     "text": [
      "[I 2023-11-27 13:31:53,781] Trial 79 finished with value: 0.25097985855604504 and parameters: {'learning_rate_init': 0.09475823335679111, 'hidden_layer_sizes': [50, 50, 50]}. Best is trial 43 with value: 0.2215394104399512.\n"
     ]
    },
    {
     "name": "stdout",
     "output_type": "stream",
     "text": [
      "Successfully updated ANN.csv with results of trial 79\n"
     ]
    },
    {
     "name": "stderr",
     "output_type": "stream",
     "text": [
      "[I 2023-11-27 13:31:54,490] Trial 75 finished with value: 0.2340405203307804 and parameters: {'learning_rate_init': 0.09367781498041726, 'hidden_layer_sizes': [10, 10, 10]}. Best is trial 43 with value: 0.2215394104399512.\n"
     ]
    },
    {
     "name": "stdout",
     "output_type": "stream",
     "text": [
      "Successfully updated ANN.csv with results of trial 75\n"
     ]
    },
    {
     "name": "stderr",
     "output_type": "stream",
     "text": [
      "[I 2023-11-27 13:32:13,939] Trial 80 finished with value: 0.255309854289215 and parameters: {'learning_rate_init': 0.0925355000230314, 'hidden_layer_sizes': [50, 50, 50]}. Best is trial 43 with value: 0.2215394104399512.\n"
     ]
    },
    {
     "name": "stdout",
     "output_type": "stream",
     "text": [
      "Successfully updated ANN.csv with results of trial 80\n"
     ]
    },
    {
     "name": "stderr",
     "output_type": "stream",
     "text": [
      "[I 2023-11-27 13:32:21,502] Trial 81 finished with value: 0.22467003411718134 and parameters: {'learning_rate_init': 0.09644297623357515, 'hidden_layer_sizes': [50, 50, 50]}. Best is trial 43 with value: 0.2215394104399512.\n"
     ]
    },
    {
     "name": "stdout",
     "output_type": "stream",
     "text": [
      "Successfully updated ANN.csv with results of trial 81\n"
     ]
    },
    {
     "name": "stderr",
     "output_type": "stream",
     "text": [
      "[I 2023-11-27 13:32:22,067] Trial 82 finished with value: 0.2277453290774416 and parameters: {'learning_rate_init': 0.02742134194663501, 'hidden_layer_sizes': [20]}. Best is trial 43 with value: 0.2215394104399512.\n"
     ]
    },
    {
     "name": "stdout",
     "output_type": "stream",
     "text": [
      "Successfully updated ANN.csv with results of trial 82\n"
     ]
    },
    {
     "name": "stderr",
     "output_type": "stream",
     "text": [
      "[I 2023-11-27 13:32:23,151] Trial 83 finished with value: 0.24193543135149667 and parameters: {'learning_rate_init': 0.0264369290319841, 'hidden_layer_sizes': [5]}. Best is trial 43 with value: 0.2215394104399512.\n"
     ]
    },
    {
     "name": "stdout",
     "output_type": "stream",
     "text": [
      "Successfully updated ANN.csv with results of trial 83\n",
      "Successfully updated ANN.csv with results of trial 84\n"
     ]
    },
    {
     "name": "stderr",
     "output_type": "stream",
     "text": [
      "[I 2023-11-27 13:32:23,369] Trial 84 finished with value: 0.23659631835336348 and parameters: {'learning_rate_init': 0.026071749638838106, 'hidden_layer_sizes': [5]}. Best is trial 43 with value: 0.2215394104399512.\n",
      "[I 2023-11-27 13:32:23,714] Trial 86 finished with value: 0.23844905674031278 and parameters: {'learning_rate_init': 0.02648480793729736, 'hidden_layer_sizes': [5]}. Best is trial 43 with value: 0.2215394104399512.\n"
     ]
    },
    {
     "name": "stdout",
     "output_type": "stream",
     "text": [
      "Successfully updated ANN.csv with results of trial 86\n"
     ]
    },
    {
     "name": "stderr",
     "output_type": "stream",
     "text": [
      "[I 2023-11-27 13:32:24,939] Trial 85 finished with value: 0.2770798681603328 and parameters: {'learning_rate_init': 0.0257411060621451, 'hidden_layer_sizes': [5]}. Best is trial 43 with value: 0.2215394104399512.\n"
     ]
    },
    {
     "name": "stdout",
     "output_type": "stream",
     "text": [
      "Successfully updated ANN.csv with results of trial 85\n"
     ]
    },
    {
     "name": "stderr",
     "output_type": "stream",
     "text": [
      "[I 2023-11-27 13:32:25,221] Trial 89 finished with value: 0.24465680571744008 and parameters: {'learning_rate_init': 0.0351778255337115, 'hidden_layer_sizes': [5]}. Best is trial 43 with value: 0.2215394104399512.\n"
     ]
    },
    {
     "name": "stdout",
     "output_type": "stream",
     "text": [
      "Successfully updated ANN.csv with results of trial 89\n"
     ]
    },
    {
     "name": "stderr",
     "output_type": "stream",
     "text": [
      "[I 2023-11-27 13:32:25,661] Trial 87 finished with value: 0.26348088241257744 and parameters: {'learning_rate_init': 0.026430739755437554, 'hidden_layer_sizes': [5]}. Best is trial 43 with value: 0.2215394104399512.\n"
     ]
    },
    {
     "name": "stdout",
     "output_type": "stream",
     "text": [
      "Successfully updated ANN.csv with results of trial 87\n"
     ]
    },
    {
     "name": "stderr",
     "output_type": "stream",
     "text": [
      "[I 2023-11-27 13:32:27,483] Trial 90 finished with value: 0.23815353757310795 and parameters: {'learning_rate_init': 0.03497196568259686, 'hidden_layer_sizes': [50]}. Best is trial 43 with value: 0.2215394104399512.\n"
     ]
    },
    {
     "name": "stdout",
     "output_type": "stream",
     "text": [
      "Successfully updated ANN.csv with results of trial 90\n"
     ]
    },
    {
     "name": "stderr",
     "output_type": "stream",
     "text": [
      "[I 2023-11-27 13:32:28,174] Trial 91 finished with value: 0.2534170474219011 and parameters: {'learning_rate_init': 0.08541243248188471, 'hidden_layer_sizes': [5]}. Best is trial 43 with value: 0.2215394104399512.\n"
     ]
    },
    {
     "name": "stdout",
     "output_type": "stream",
     "text": [
      "Successfully updated ANN.csv with results of trial 91\n"
     ]
    },
    {
     "name": "stderr",
     "output_type": "stream",
     "text": [
      "[I 2023-11-27 13:32:29,163] Trial 88 finished with value: 0.2251658703104903 and parameters: {'learning_rate_init': 0.027356711664385143, 'hidden_layer_sizes': [5]}. Best is trial 43 with value: 0.2215394104399512.\n"
     ]
    },
    {
     "name": "stdout",
     "output_type": "stream",
     "text": [
      "Successfully updated ANN.csv with results of trial 88\n"
     ]
    },
    {
     "name": "stderr",
     "output_type": "stream",
     "text": [
      "[I 2023-11-27 13:32:45,438] Trial 92 finished with value: 0.22832444784427716 and parameters: {'learning_rate_init': 0.08663069823160509, 'hidden_layer_sizes': [5]}. Best is trial 43 with value: 0.2215394104399512.\n"
     ]
    },
    {
     "name": "stdout",
     "output_type": "stream",
     "text": [
      "Successfully updated ANN.csv with results of trial 92\n"
     ]
    },
    {
     "name": "stderr",
     "output_type": "stream",
     "text": [
      "[I 2023-11-27 13:32:54,246] Trial 93 finished with value: 0.2705689444621061 and parameters: {'learning_rate_init': 0.08947329090051039, 'hidden_layer_sizes': [5]}. Best is trial 43 with value: 0.2215394104399512.\n"
     ]
    },
    {
     "name": "stdout",
     "output_type": "stream",
     "text": [
      "Successfully updated ANN.csv with results of trial 93\n"
     ]
    },
    {
     "name": "stderr",
     "output_type": "stream",
     "text": [
      "[I 2023-11-27 13:32:54,827] Trial 94 finished with value: 0.2707476486128078 and parameters: {'learning_rate_init': 0.08785940912409672, 'hidden_layer_sizes': [50]}. Best is trial 43 with value: 0.2215394104399512.\n"
     ]
    },
    {
     "name": "stdout",
     "output_type": "stream",
     "text": [
      "Successfully updated ANN.csv with results of trial 94\n"
     ]
    },
    {
     "name": "stderr",
     "output_type": "stream",
     "text": [
      "[I 2023-11-27 13:32:55,580] Trial 98 finished with value: 0.2596070117716019 and parameters: {'learning_rate_init': 0.08819008947288416, 'hidden_layer_sizes': [50]}. Best is trial 43 with value: 0.2215394104399512.\n"
     ]
    },
    {
     "name": "stdout",
     "output_type": "stream",
     "text": [
      "Successfully updated ANN.csv with results of trial 98\n"
     ]
    },
    {
     "name": "stderr",
     "output_type": "stream",
     "text": [
      "[I 2023-11-27 13:32:55,925] Trial 95 finished with value: 0.26037570528843607 and parameters: {'learning_rate_init': 0.08796165271005234, 'hidden_layer_sizes': [50]}. Best is trial 43 with value: 0.2215394104399512.\n"
     ]
    },
    {
     "name": "stdout",
     "output_type": "stream",
     "text": [
      "Successfully updated ANN.csv with results of trial 95\n"
     ]
    },
    {
     "name": "stderr",
     "output_type": "stream",
     "text": [
      "[I 2023-11-27 13:32:56,255] Trial 97 finished with value: 0.21302924459150954 and parameters: {'learning_rate_init': 0.08803626737907401, 'hidden_layer_sizes': [50]}. Best is trial 97 with value: 0.21302924459150954.\n"
     ]
    },
    {
     "name": "stdout",
     "output_type": "stream",
     "text": [
      "Successfully updated ANN.csv with results of trial 97\n",
      "Successfully updated ANN.csv with results of trial 96\n"
     ]
    },
    {
     "name": "stderr",
     "output_type": "stream",
     "text": [
      "[I 2023-11-27 13:32:56,459] Trial 96 finished with value: 0.22875936795332197 and parameters: {'learning_rate_init': 0.08959815488987671, 'hidden_layer_sizes': [50]}. Best is trial 97 with value: 0.21302924459150954.\n",
      "[I 2023-11-27 13:32:57,606] Trial 99 finished with value: 0.27558224751845545 and parameters: {'learning_rate_init': 0.08894641833290433, 'hidden_layer_sizes': [50]}. Best is trial 97 with value: 0.21302924459150954.\n"
     ]
    },
    {
     "name": "stdout",
     "output_type": "stream",
     "text": [
      "Successfully updated ANN.csv with results of trial 99\n"
     ]
    },
    {
     "name": "stderr",
     "output_type": "stream",
     "text": [
      "[I 2023-11-27 13:32:58,219] Trial 100 finished with value: 0.25546303154979627 and parameters: {'learning_rate_init': 0.08879044088276981, 'hidden_layer_sizes': [50]}. Best is trial 97 with value: 0.21302924459150954.\n"
     ]
    },
    {
     "name": "stdout",
     "output_type": "stream",
     "text": [
      "Successfully updated ANN.csv with results of trial 100\n"
     ]
    },
    {
     "name": "stderr",
     "output_type": "stream",
     "text": [
      "[I 2023-11-27 13:33:01,478] Trial 102 finished with value: 0.24000171749280422 and parameters: {'learning_rate_init': 0.08921336854714684, 'hidden_layer_sizes': [10, 10]}. Best is trial 97 with value: 0.21302924459150954.\n"
     ]
    },
    {
     "name": "stdout",
     "output_type": "stream",
     "text": [
      "Successfully updated ANN.csv with results of trial 102\n"
     ]
    },
    {
     "name": "stderr",
     "output_type": "stream",
     "text": [
      "[I 2023-11-27 13:33:03,111] Trial 103 finished with value: 0.26563211190502595 and parameters: {'learning_rate_init': 0.08760759339213475, 'hidden_layer_sizes': [20]}. Best is trial 97 with value: 0.21302924459150954.\n"
     ]
    },
    {
     "name": "stdout",
     "output_type": "stream",
     "text": [
      "Successfully updated ANN.csv with results of trial 103\n"
     ]
    },
    {
     "name": "stderr",
     "output_type": "stream",
     "text": [
      "[I 2023-11-27 13:33:04,146] Trial 101 finished with value: 0.23405878226974228 and parameters: {'learning_rate_init': 0.09023832073967417, 'hidden_layer_sizes': [20]}. Best is trial 97 with value: 0.21302924459150954.\n"
     ]
    },
    {
     "name": "stdout",
     "output_type": "stream",
     "text": [
      "Successfully updated ANN.csv with results of trial 101\n"
     ]
    },
    {
     "name": "stderr",
     "output_type": "stream",
     "text": [
      "[I 2023-11-27 13:33:16,398] Trial 104 finished with value: 0.25856873809356634 and parameters: {'learning_rate_init': 0.0876215366077153, 'hidden_layer_sizes': [20]}. Best is trial 97 with value: 0.21302924459150954.\n"
     ]
    },
    {
     "name": "stdout",
     "output_type": "stream",
     "text": [
      "Successfully updated ANN.csv with results of trial 104\n"
     ]
    },
    {
     "name": "stderr",
     "output_type": "stream",
     "text": [
      "[I 2023-11-27 13:33:25,737] Trial 106 finished with value: 0.22818717344700631 and parameters: {'learning_rate_init': 0.09131381194990201, 'hidden_layer_sizes': [10, 10]}. Best is trial 97 with value: 0.21302924459150954.\n"
     ]
    },
    {
     "name": "stdout",
     "output_type": "stream",
     "text": [
      "Successfully updated ANN.csv with results of trial 106\n"
     ]
    },
    {
     "name": "stderr",
     "output_type": "stream",
     "text": [
      "[I 2023-11-27 13:33:26,112] Trial 108 finished with value: 0.22516605607686135 and parameters: {'learning_rate_init': 0.08460877885998583, 'hidden_layer_sizes': [20]}. Best is trial 97 with value: 0.21302924459150954.\n"
     ]
    },
    {
     "name": "stdout",
     "output_type": "stream",
     "text": [
      "Successfully updated ANN.csv with results of trial 108\n"
     ]
    },
    {
     "name": "stderr",
     "output_type": "stream",
     "text": [
      "[I 2023-11-27 13:33:27,383] Trial 105 finished with value: 0.24019551925752455 and parameters: {'learning_rate_init': 0.08918314334763772, 'hidden_layer_sizes': [20]}. Best is trial 97 with value: 0.21302924459150954.\n"
     ]
    },
    {
     "name": "stdout",
     "output_type": "stream",
     "text": [
      "Successfully updated ANN.csv with results of trial 105\n",
      "Successfully updated ANN.csv with results of trial 112\n"
     ]
    },
    {
     "name": "stderr",
     "output_type": "stream",
     "text": [
      "[I 2023-11-27 13:33:27,649] Trial 112 finished with value: 0.2764686410800643 and parameters: {'learning_rate_init': 0.08321053142377137, 'hidden_layer_sizes': [10, 10]}. Best is trial 97 with value: 0.21302924459150954.\n",
      "[I 2023-11-27 13:33:28,826] Trial 110 finished with value: 0.22707911532741978 and parameters: {'learning_rate_init': 0.09030024760100402, 'hidden_layer_sizes': [20]}. Best is trial 97 with value: 0.21302924459150954.\n",
      "[I 2023-11-27 13:33:28,905] Trial 107 finished with value: 0.23435702654204094 and parameters: {'learning_rate_init': 0.08462702948558018, 'hidden_layer_sizes': [20]}. Best is trial 97 with value: 0.21302924459150954.\n"
     ]
    },
    {
     "name": "stdout",
     "output_type": "stream",
     "text": [
      "Successfully updated ANN.csv with results of trial 110\n",
      "Successfully updated ANN.csv with results of trial 107\n"
     ]
    },
    {
     "name": "stderr",
     "output_type": "stream",
     "text": [
      "[I 2023-11-27 13:33:29,235] Trial 109 finished with value: 0.2332862223914071 and parameters: {'learning_rate_init': 0.08413783047972893, 'hidden_layer_sizes': [20]}. Best is trial 97 with value: 0.21302924459150954.\n"
     ]
    },
    {
     "name": "stdout",
     "output_type": "stream",
     "text": [
      "Successfully updated ANN.csv with results of trial 109\n"
     ]
    },
    {
     "name": "stderr",
     "output_type": "stream",
     "text": [
      "[I 2023-11-27 13:33:30,960] Trial 111 finished with value: 0.2736307603813881 and parameters: {'learning_rate_init': 0.08521263466974865, 'hidden_layer_sizes': [20]}. Best is trial 97 with value: 0.21302924459150954.\n"
     ]
    },
    {
     "name": "stdout",
     "output_type": "stream",
     "text": [
      "Successfully updated ANN.csv with results of trial 111\n"
     ]
    },
    {
     "name": "stderr",
     "output_type": "stream",
     "text": [
      "[I 2023-11-27 13:33:32,608] Trial 114 finished with value: 0.294940803970821 and parameters: {'learning_rate_init': 0.0836765259683142, 'hidden_layer_sizes': [10, 10]}. Best is trial 97 with value: 0.21302924459150954.\n",
      "[I 2023-11-27 13:33:32,702] Trial 113 finished with value: 0.23890644270783665 and parameters: {'learning_rate_init': 0.08355194073924722, 'hidden_layer_sizes': [20]}. Best is trial 97 with value: 0.21302924459150954.\n"
     ]
    },
    {
     "name": "stdout",
     "output_type": "stream",
     "text": [
      "Successfully updated ANN.csv with results of trial 114\n",
      "Successfully updated ANN.csv with results of trial 113\n"
     ]
    },
    {
     "name": "stderr",
     "output_type": "stream",
     "text": [
      "[I 2023-11-27 13:33:33,613] Trial 115 finished with value: 0.25097326496789224 and parameters: {'learning_rate_init': 0.08451011617982178, 'hidden_layer_sizes': [10, 10]}. Best is trial 97 with value: 0.21302924459150954.\n"
     ]
    },
    {
     "name": "stdout",
     "output_type": "stream",
     "text": [
      "Successfully updated ANN.csv with results of trial 115\n"
     ]
    },
    {
     "name": "stderr",
     "output_type": "stream",
     "text": [
      "[I 2023-11-27 13:33:36,800] Trial 116 finished with value: 0.26820759899190416 and parameters: {'learning_rate_init': 0.09711649663187942, 'hidden_layer_sizes': [10, 10]}. Best is trial 97 with value: 0.21302924459150954.\n"
     ]
    },
    {
     "name": "stdout",
     "output_type": "stream",
     "text": [
      "Successfully updated ANN.csv with results of trial 116\n"
     ]
    },
    {
     "name": "stderr",
     "output_type": "stream",
     "text": [
      "[I 2023-11-27 13:33:37,963] Trial 117 finished with value: 0.29927313199818745 and parameters: {'learning_rate_init': 0.08299599206029269, 'hidden_layer_sizes': [10, 10]}. Best is trial 97 with value: 0.21302924459150954.\n"
     ]
    },
    {
     "name": "stdout",
     "output_type": "stream",
     "text": [
      "Successfully updated ANN.csv with results of trial 117\n"
     ]
    },
    {
     "name": "stderr",
     "output_type": "stream",
     "text": [
      "[I 2023-11-27 13:33:38,215] Trial 118 finished with value: 0.25027444892742795 and parameters: {'learning_rate_init': 0.08528927836791553, 'hidden_layer_sizes': [20]}. Best is trial 97 with value: 0.21302924459150954.\n",
      "[I 2023-11-27 13:33:38,294] Trial 119 finished with value: 0.24189214676114776 and parameters: {'learning_rate_init': 0.08495009593008435, 'hidden_layer_sizes': [50]}. Best is trial 97 with value: 0.21302924459150954.\n"
     ]
    },
    {
     "name": "stdout",
     "output_type": "stream",
     "text": [
      "Successfully updated ANN.csv with results of trial 118\n",
      "Successfully updated ANN.csv with results of trial 119\n",
      "random RLM linear\n"
     ]
    },
    {
     "name": "stderr",
     "output_type": "stream",
     "text": [
      "[I 2023-11-27 13:33:38,482] Using an existing study with name 'linear' instead of creating a new one.\n"
     ]
    },
    {
     "name": "stdout",
     "output_type": "stream",
     "text": [
      "Successfully created linear.csv with results of trial 135 as the first entry\n",
      "Successfully updated linear.csv with results of trial 134\n",
      "Successfully updated linear.csv with results of trial 138\n"
     ]
    },
    {
     "name": "stderr",
     "output_type": "stream",
     "text": [
      "[I 2023-11-27 13:33:40,037] Trial 135 finished with value: 0.2569677636300401 and parameters: {'alpha': 0.0676184504673443, 'l1_ratio': 0.10271548606233548}. Best is trial 42 with value: 0.20152112634160754.\n",
      "[I 2023-11-27 13:33:40,178] Trial 134 finished with value: 0.2569140179695008 and parameters: {'alpha': 0.06725743948045254, 'l1_ratio': 0.08894499087122724}. Best is trial 42 with value: 0.20152112634160754.\n"
     ]
    },
    {
     "name": "stdout",
     "output_type": "stream",
     "text": [
      "Successfully updated linear.csv with results of trial 132\n",
      "Successfully updated linear.csv with results of trial 141\n",
      "Successfully updated linear.csv with results of trial 137\n"
     ]
    },
    {
     "name": "stderr",
     "output_type": "stream",
     "text": [
      "[I 2023-11-27 13:33:40,413] Trial 138 finished with value: 0.25694393063422744 and parameters: {'alpha': 0.06707284138407033, 'l1_ratio': 0.06829670144764116}. Best is trial 42 with value: 0.20152112634160754.\n"
     ]
    },
    {
     "name": "stdout",
     "output_type": "stream",
     "text": [
      "Successfully updated linear.csv with results of trial 133\n",
      "Successfully updated linear.csv with results of trial 140\n",
      "Successfully updated linear.csv with results of trial 136\n",
      "Successfully updated linear.csv with results of trial 142\n",
      "Successfully updated linear.csv with results of trial 139\n"
     ]
    },
    {
     "name": "stderr",
     "output_type": "stream",
     "text": [
      "[I 2023-11-27 13:33:40,523] Trial 141 finished with value: 0.25700230226094534 and parameters: {'alpha': 0.05261387908886386, 'l1_ratio': 0.10327140508331933}. Best is trial 42 with value: 0.20152112634160754.\n",
      "[I 2023-11-27 13:33:40,555] Trial 137 finished with value: 0.25715831340642265 and parameters: {'alpha': 0.05340193365837347, 'l1_ratio': 0.0665684214907395}. Best is trial 42 with value: 0.20152112634160754.\n",
      "[I 2023-11-27 13:33:40,564] Trial 133 finished with value: 0.2570549995418476 and parameters: {'alpha': 0.05244688799183962, 'l1_ratio': 0.06184774605079907}. Best is trial 42 with value: 0.20152112634160754.\n",
      "[I 2023-11-27 13:33:40,712] Trial 136 finished with value: 0.25703505355203965 and parameters: {'alpha': 0.05258511631434085, 'l1_ratio': 0.06593994002218824}. Best is trial 42 with value: 0.20152112634160754.\n"
     ]
    },
    {
     "name": "stdout",
     "output_type": "stream",
     "text": [
      "Successfully updated linear.csv with results of trial 143\n"
     ]
    },
    {
     "name": "stderr",
     "output_type": "stream",
     "text": [
      "[I 2023-11-27 13:33:40,853] Trial 139 finished with value: 0.25703613723828567 and parameters: {'alpha': 0.05167170003154798, 'l1_ratio': 0.1441750827132532}. Best is trial 42 with value: 0.20152112634160754.\n",
      "[I 2023-11-27 13:33:40,932] Trial 140 finished with value: 0.2571579106646407 and parameters: {'alpha': 0.06587691227865232, 'l1_ratio': 0.14471514766056945}. Best is trial 42 with value: 0.20152112634160754.\n",
      "[I 2023-11-27 13:33:40,947] Trial 132 finished with value: 0.2569325689615043 and parameters: {'alpha': 0.06745362017669046, 'l1_ratio': 0.34195485212949056}. Best is trial 42 with value: 0.20152112634160754.\n",
      "[I 2023-11-27 13:33:41,026] Trial 142 finished with value: 0.2569685430442615 and parameters: {'alpha': 0.05209816270918577, 'l1_ratio': 0.10431538064591532}. Best is trial 42 with value: 0.20152112634160754.\n"
     ]
    },
    {
     "name": "stdout",
     "output_type": "stream",
     "text": [
      "Successfully updated linear.csv with results of trial 145\n"
     ]
    },
    {
     "name": "stderr",
     "output_type": "stream",
     "text": [
      "[I 2023-11-27 13:33:41,576] Trial 143 finished with value: 0.2571173028509562 and parameters: {'alpha': 0.0657178371289484, 'l1_ratio': 0.2333410997205406}. Best is trial 42 with value: 0.20152112634160754.\n"
     ]
    },
    {
     "name": "stdout",
     "output_type": "stream",
     "text": [
      "Successfully updated linear.csv with results of trial 148\n",
      "Successfully updated linear.csv with results of trial 144\n",
      "Successfully updated linear.csv with results of trial 150\n",
      "Successfully updated linear.csv with results of trial 147\n",
      "Successfully updated linear.csv with results of trial 146\n",
      "Successfully updated linear.csv with results of trial 149\n"
     ]
    },
    {
     "name": "stderr",
     "output_type": "stream",
     "text": [
      "[I 2023-11-27 13:33:42,095] Trial 145 finished with value: 0.2569708456070327 and parameters: {'alpha': 0.08679807912822023, 'l1_ratio': 0.22701037849787253}. Best is trial 42 with value: 0.20152112634160754.\n",
      "[I 2023-11-27 13:33:42,119] Trial 148 finished with value: 0.2570071032783548 and parameters: {'alpha': 0.07416007648585612, 'l1_ratio': 0.23231036073553987}. Best is trial 42 with value: 0.20152112634160754.\n",
      "[I 2023-11-27 13:33:42,315] Trial 147 finished with value: 0.2570393415765008 and parameters: {'alpha': 0.08647844684370923, 'l1_ratio': 0.14558888216726518}. Best is trial 42 with value: 0.20152112634160754.\n",
      "[I 2023-11-27 13:33:42,315] Trial 144 finished with value: 0.2570104072119154 and parameters: {'alpha': 0.0705695112614072, 'l1_ratio': 0.22488025091054398}. Best is trial 42 with value: 0.20152112634160754.\n",
      "[I 2023-11-27 13:33:42,424] Trial 150 finished with value: 0.2569214168377005 and parameters: {'alpha': 0.07554133322109885, 'l1_ratio': 0.22543544414402075}. Best is trial 42 with value: 0.20152112634160754.\n",
      "[I 2023-11-27 13:33:42,424] Trial 149 finished with value: 0.25694803687304874 and parameters: {'alpha': 0.07416394852195116, 'l1_ratio': 0.23802153098952877}. Best is trial 42 with value: 0.20152112634160754.\n"
     ]
    },
    {
     "name": "stdout",
     "output_type": "stream",
     "text": [
      "Successfully updated linear.csv with results of trial 151\n",
      "Successfully updated linear.csv with results of trial 152\n",
      "Successfully updated linear.csv with results of trial 153\n"
     ]
    },
    {
     "name": "stderr",
     "output_type": "stream",
     "text": [
      "[I 2023-11-27 13:33:42,518] Trial 146 finished with value: 0.2571374739163565 and parameters: {'alpha': 0.0758238797108586, 'l1_ratio': 0.14157923856879506}. Best is trial 42 with value: 0.20152112634160754.\n",
      "[I 2023-11-27 13:33:42,549] Trial 151 finished with value: 0.2571666217073097 and parameters: {'alpha': 0.07024424936218703, 'l1_ratio': 0.23120722861511667}. Best is trial 42 with value: 0.20152112634160754.\n",
      "[I 2023-11-27 13:33:43,146] Trial 153 finished with value: 0.2570086691427524 and parameters: {'alpha': 0.07499298070315176, 'l1_ratio': 0.22776093198544514}. Best is trial 42 with value: 0.20152112634160754.\n"
     ]
    },
    {
     "name": "stdout",
     "output_type": "stream",
     "text": [
      "Successfully updated linear.csv with results of trial 155\n",
      "Successfully updated linear.csv with results of trial 158\n",
      "Successfully updated linear.csv with results of trial 160\n",
      "Successfully updated linear.csv with results of trial 157\n",
      "Successfully updated linear.csv with results of trial 156\n"
     ]
    },
    {
     "name": "stderr",
     "output_type": "stream",
     "text": [
      "[I 2023-11-27 13:33:43,727] Trial 152 finished with value: 0.25703559593273256 and parameters: {'alpha': 0.07529342787734758, 'l1_ratio': 0.24670519162184906}. Best is trial 42 with value: 0.20152112634160754.\n",
      "[I 2023-11-27 13:33:43,822] Trial 155 finished with value: 0.25699636609808474 and parameters: {'alpha': 0.07047263674048293, 'l1_ratio': 0.2805694599921783}. Best is trial 42 with value: 0.20152112634160754.\n",
      "[I 2023-11-27 13:33:43,885] Trial 160 finished with value: 0.2570270551951206 and parameters: {'alpha': 0.07870636403723681, 'l1_ratio': 0.2780354183350193}. Best is trial 42 with value: 0.20152112634160754.\n"
     ]
    },
    {
     "name": "stdout",
     "output_type": "stream",
     "text": [
      "Successfully updated linear.csv with results of trial 159\n",
      "Successfully updated linear.csv with results of trial 154\n"
     ]
    },
    {
     "name": "stderr",
     "output_type": "stream",
     "text": [
      "[I 2023-11-27 13:33:44,043] Trial 157 finished with value: 0.2570483846949014 and parameters: {'alpha': 0.07068602554048516, 'l1_ratio': 0.28023795930063433}. Best is trial 42 with value: 0.20152112634160754.\n"
     ]
    },
    {
     "name": "stdout",
     "output_type": "stream",
     "text": [
      "Successfully updated linear.csv with results of trial 162\n",
      "Successfully updated linear.csv with results of trial 161\n"
     ]
    },
    {
     "name": "stderr",
     "output_type": "stream",
     "text": [
      "[I 2023-11-27 13:33:44,215] Trial 159 finished with value: 0.25696429763689826 and parameters: {'alpha': 0.08095971053766703, 'l1_ratio': 0.2806310844732813}. Best is trial 42 with value: 0.20152112634160754.\n",
      "[I 2023-11-27 13:33:44,215] Trial 158 finished with value: 0.2570946766410434 and parameters: {'alpha': 0.08038355150146734, 'l1_ratio': 0.2562545176462988}. Best is trial 42 with value: 0.20152112634160754.\n",
      "[I 2023-11-27 13:33:44,278] Trial 156 finished with value: 0.2571074924954268 and parameters: {'alpha': 0.07828751029964755, 'l1_ratio': 0.27882091458551106}. Best is trial 42 with value: 0.20152112634160754.\n"
     ]
    },
    {
     "name": "stdout",
     "output_type": "stream",
     "text": [
      "Successfully updated linear.csv with results of trial 163\n",
      "Successfully updated linear.csv with results of trial 164\n"
     ]
    },
    {
     "name": "stderr",
     "output_type": "stream",
     "text": [
      "[I 2023-11-27 13:33:44,434] Trial 154 finished with value: 0.25701216899445095 and parameters: {'alpha': 0.07552094275098395, 'l1_ratio': 0.27796311150059927}. Best is trial 42 with value: 0.20152112634160754.\n",
      "[I 2023-11-27 13:33:44,739] Trial 162 finished with value: 0.25695041606669417 and parameters: {'alpha': 0.0776002898133046, 'l1_ratio': 0.272628068481231}. Best is trial 42 with value: 0.20152112634160754.\n",
      "[I 2023-11-27 13:33:45,120] Trial 164 finished with value: 0.25710936701454806 and parameters: {'alpha': 0.07802083169761176, 'l1_ratio': 0.27329384669885615}. Best is trial 42 with value: 0.20152112634160754.\n",
      "[I 2023-11-27 13:33:45,185] Trial 163 finished with value: 0.2570823358144314 and parameters: {'alpha': 0.07770971203525248, 'l1_ratio': 0.2779015379106181}. Best is trial 42 with value: 0.20152112634160754.\n",
      "[I 2023-11-27 13:33:45,218] Trial 161 finished with value: 0.2570538754131541 and parameters: {'alpha': 0.07193522331101179, 'l1_ratio': 0.278396820640453}. Best is trial 42 with value: 0.20152112634160754.\n"
     ]
    },
    {
     "name": "stdout",
     "output_type": "stream",
     "text": [
      "Successfully updated linear.csv with results of trial 167\n",
      "Successfully updated linear.csv with results of trial 169\n",
      "Successfully updated linear.csv with results of trial 168\n",
      "Successfully updated linear.csv with results of trial 165\n",
      "Successfully updated linear.csv with results of trial 166\n"
     ]
    },
    {
     "name": "stderr",
     "output_type": "stream",
     "text": [
      "[I 2023-11-27 13:33:45,474] Trial 169 finished with value: 0.25697572398511365 and parameters: {'alpha': 0.09192968238175195, 'l1_ratio': 0.3090635478628863}. Best is trial 42 with value: 0.20152112634160754.\n",
      "[I 2023-11-27 13:33:45,655] Trial 168 finished with value: 0.25702980050873253 and parameters: {'alpha': 0.09264512079542826, 'l1_ratio': 0.18968740733840883}. Best is trial 42 with value: 0.20152112634160754.\n"
     ]
    },
    {
     "name": "stdout",
     "output_type": "stream",
     "text": [
      "Successfully updated linear.csv with results of trial 172\n",
      "Successfully updated linear.csv with results of trial 170\n"
     ]
    },
    {
     "name": "stderr",
     "output_type": "stream",
     "text": [
      "[I 2023-11-27 13:33:45,707] Trial 167 finished with value: 0.2570377912680138 and parameters: {'alpha': 0.06480657600044593, 'l1_ratio': 0.3039495984337995}. Best is trial 42 with value: 0.20152112634160754.\n",
      "[I 2023-11-27 13:33:45,790] Trial 172 finished with value: 0.2570331313358807 and parameters: {'alpha': 0.0928731666286716, 'l1_ratio': 0.1934140720314204}. Best is trial 42 with value: 0.20152112634160754.\n"
     ]
    },
    {
     "name": "stdout",
     "output_type": "stream",
     "text": [
      "Successfully updated linear.csv with results of trial 171\n"
     ]
    },
    {
     "name": "stderr",
     "output_type": "stream",
     "text": [
      "[I 2023-11-27 13:33:45,993] Trial 166 finished with value: 0.2570414105754691 and parameters: {'alpha': 0.09513773223902278, 'l1_ratio': 0.31032104820202727}. Best is trial 42 with value: 0.20152112634160754.\n",
      "[I 2023-11-27 13:33:46,025] Trial 165 finished with value: 0.25696274676639685 and parameters: {'alpha': 0.09750389090058782, 'l1_ratio': 0.36481320876341966}. Best is trial 42 with value: 0.20152112634160754.\n",
      "[I 2023-11-27 13:33:46,030] Trial 170 finished with value: 0.2570129278487962 and parameters: {'alpha': 0.09788473448710205, 'l1_ratio': 0.18520586146297668}. Best is trial 42 with value: 0.20152112634160754.\n"
     ]
    },
    {
     "name": "stdout",
     "output_type": "stream",
     "text": [
      "Successfully updated linear.csv with results of trial 175\n"
     ]
    },
    {
     "name": "stderr",
     "output_type": "stream",
     "text": [
      "[I 2023-11-27 13:33:46,711] Trial 171 finished with value: 0.2569422756929203 and parameters: {'alpha': 0.09310059285815596, 'l1_ratio': 0.31282620274831097}. Best is trial 42 with value: 0.20152112634160754.\n"
     ]
    },
    {
     "name": "stdout",
     "output_type": "stream",
     "text": [
      "Successfully updated linear.csv with results of trial 174\n"
     ]
    },
    {
     "name": "stderr",
     "output_type": "stream",
     "text": [
      "[I 2023-11-27 13:33:46,900] Trial 175 finished with value: 0.2569352467188024 and parameters: {'alpha': 0.09596115714712765, 'l1_ratio': 0.2523759813514764}. Best is trial 42 with value: 0.20152112634160754.\n",
      "[I 2023-11-27 13:33:47,165] Trial 174 finished with value: 0.25695689770835867 and parameters: {'alpha': 0.09467577770990701, 'l1_ratio': 0.2514192072297817}. Best is trial 42 with value: 0.20152112634160754.\n"
     ]
    },
    {
     "name": "stdout",
     "output_type": "stream",
     "text": [
      "Successfully updated linear.csv with results of trial 173\n",
      "Successfully updated linear.csv with results of trial 177\n",
      "Successfully updated linear.csv with results of trial 176\n",
      "Successfully updated linear.csv with results of trial 179\n"
     ]
    },
    {
     "name": "stderr",
     "output_type": "stream",
     "text": [
      "[I 2023-11-27 13:33:47,562] Trial 176 finished with value: 0.2570126899823295 and parameters: {'alpha': 0.09438293570057507, 'l1_ratio': 0.255074013790746}. Best is trial 42 with value: 0.20152112634160754.\n",
      "[I 2023-11-27 13:33:47,588] Trial 173 finished with value: 0.25697308630782106 and parameters: {'alpha': 0.09330817275416266, 'l1_ratio': 0.1931164536649095}. Best is trial 42 with value: 0.20152112634160754.\n"
     ]
    },
    {
     "name": "stdout",
     "output_type": "stream",
     "text": [
      "Successfully updated linear.csv with results of trial 180\n",
      "Successfully updated linear.csv with results of trial 181\n",
      "Successfully updated linear.csv with results of trial 178\n"
     ]
    },
    {
     "name": "stderr",
     "output_type": "stream",
     "text": [
      "[I 2023-11-27 13:33:47,716] Trial 177 finished with value: 0.2570216133356872 and parameters: {'alpha': 0.09465812516480758, 'l1_ratio': 0.3357463210840729}. Best is trial 42 with value: 0.20152112634160754.\n",
      "[I 2023-11-27 13:33:47,749] Trial 180 finished with value: 0.2570509218718329 and parameters: {'alpha': 0.06164243892022814, 'l1_ratio': 0.24509330480057395}. Best is trial 42 with value: 0.20152112634160754.\n",
      "[I 2023-11-27 13:33:47,752] Trial 179 finished with value: 0.25704150571806467 and parameters: {'alpha': 0.09493509851169815, 'l1_ratio': 0.24991111020688794}. Best is trial 42 with value: 0.20152112634160754.\n"
     ]
    },
    {
     "name": "stdout",
     "output_type": "stream",
     "text": [
      "Successfully updated linear.csv with results of trial 183\n",
      "Successfully updated linear.csv with results of trial 182\n"
     ]
    },
    {
     "name": "stderr",
     "output_type": "stream",
     "text": [
      "[I 2023-11-27 13:33:47,952] Trial 181 finished with value: 0.2571180496722707 and parameters: {'alpha': 0.06019431904523707, 'l1_ratio': 0.3349004640897801}. Best is trial 42 with value: 0.20152112634160754.\n",
      "[I 2023-11-27 13:33:47,995] Trial 182 finished with value: 0.25691776229363367 and parameters: {'alpha': 0.06138231812669314, 'l1_ratio': 0.3374656458825762}. Best is trial 42 with value: 0.20152112634160754.\n",
      "[I 2023-11-27 13:33:48,037] Trial 183 finished with value: 0.2569633703574396 and parameters: {'alpha': 0.060815535600407394, 'l1_ratio': 0.46912003506255057}. Best is trial 42 with value: 0.20152112634160754.\n"
     ]
    },
    {
     "name": "stdout",
     "output_type": "stream",
     "text": [
      "Successfully updated linear.csv with results of trial 184\n"
     ]
    },
    {
     "name": "stderr",
     "output_type": "stream",
     "text": [
      "[I 2023-11-27 13:33:48,228] Trial 184 finished with value: 0.25701931894475266 and parameters: {'alpha': 0.08492176327667292, 'l1_ratio': 0.4745046712685136}. Best is trial 42 with value: 0.20152112634160754.\n"
     ]
    },
    {
     "name": "stdout",
     "output_type": "stream",
     "text": [
      "Successfully updated linear.csv with results of trial 185\n",
      "Successfully updated linear.csv with results of trial 187\n"
     ]
    },
    {
     "name": "stderr",
     "output_type": "stream",
     "text": [
      "[I 2023-11-27 13:33:48,625] Trial 178 finished with value: 0.25710579374707754 and parameters: {'alpha': 0.05673978277222371, 'l1_ratio': 0.336566933334318}. Best is trial 42 with value: 0.20152112634160754.\n",
      "[I 2023-11-27 13:33:48,761] Trial 185 finished with value: 0.2570929392878661 and parameters: {'alpha': 0.0844593111662977, 'l1_ratio': 0.4665413438370623}. Best is trial 42 with value: 0.20152112634160754.\n"
     ]
    },
    {
     "name": "stdout",
     "output_type": "stream",
     "text": [
      "Successfully updated linear.csv with results of trial 189\n",
      "Successfully updated linear.csv with results of trial 186\n",
      "Successfully updated linear.csv with results of trial 195\n"
     ]
    },
    {
     "name": "stderr",
     "output_type": "stream",
     "text": [
      "[I 2023-11-27 13:33:49,593] Trial 187 finished with value: 0.25703576059795036 and parameters: {'alpha': 0.06060593616856982, 'l1_ratio': 0.4630722777402764}. Best is trial 42 with value: 0.20152112634160754.\n"
     ]
    },
    {
     "name": "stdout",
     "output_type": "stream",
     "text": [
      "Successfully updated linear.csv with results of trial 188\n",
      "Successfully updated linear.csv with results of trial 190\n"
     ]
    },
    {
     "name": "stderr",
     "output_type": "stream",
     "text": [
      "[I 2023-11-27 13:33:49,729] Trial 189 finished with value: 0.25697376544862366 and parameters: {'alpha': 0.06430126926025134, 'l1_ratio': 0.5389006213089405}. Best is trial 42 with value: 0.20152112634160754.\n",
      "[I 2023-11-27 13:33:49,772] Trial 186 finished with value: 0.2571717352906418 and parameters: {'alpha': 0.06834342919690913, 'l1_ratio': 0.5288539234850342}. Best is trial 42 with value: 0.20152112634160754.\n",
      "[I 2023-11-27 13:33:49,792] Trial 195 finished with value: 0.25699793250495145 and parameters: {'alpha': 0.06517831552336731, 'l1_ratio': 0.4376870707664157}. Best is trial 42 with value: 0.20152112634160754.\n"
     ]
    },
    {
     "name": "stdout",
     "output_type": "stream",
     "text": [
      "Successfully updated linear.csv with results of trial 193\n",
      "Successfully updated linear.csv with results of trial 191\n",
      "Successfully updated linear.csv with results of trial 194\n",
      "Successfully updated linear.csv with results of trial 192\n"
     ]
    },
    {
     "name": "stderr",
     "output_type": "stream",
     "text": [
      "[I 2023-11-27 13:33:50,033] Trial 188 finished with value: 0.25705937629173925 and parameters: {'alpha': 0.056503555822431765, 'l1_ratio': 0.46740085277433274}. Best is trial 42 with value: 0.20152112634160754.\n",
      "[I 2023-11-27 13:33:50,150] Trial 193 finished with value: 0.25698574968119337 and parameters: {'alpha': 0.06442981676963709, 'l1_ratio': 0.43389849852111617}. Best is trial 42 with value: 0.20152112634160754.\n"
     ]
    },
    {
     "name": "stdout",
     "output_type": "stream",
     "text": [
      "Successfully updated linear.csv with results of trial 197\n",
      "Successfully updated linear.csv with results of trial 196\n"
     ]
    },
    {
     "name": "stderr",
     "output_type": "stream",
     "text": [
      "[I 2023-11-27 13:33:50,392] Trial 191 finished with value: 0.2570267971005697 and parameters: {'alpha': 0.06512346552538778, 'l1_ratio': 0.5224108638706846}. Best is trial 42 with value: 0.20152112634160754.\n",
      "[I 2023-11-27 13:33:50,435] Trial 192 finished with value: 0.2570606082579215 and parameters: {'alpha': 0.06442470166392768, 'l1_ratio': 0.4281172262422468}. Best is trial 42 with value: 0.20152112634160754.\n",
      "[I 2023-11-27 13:33:50,490] Trial 196 finished with value: 0.2570292003538317 and parameters: {'alpha': 0.06414278776402724, 'l1_ratio': 0.5434503350916309}. Best is trial 42 with value: 0.20152112634160754.\n",
      "[I 2023-11-27 13:33:50,753] Trial 194 finished with value: 0.2570795183879058 and parameters: {'alpha': 0.0649555473559253, 'l1_ratio': 0.4304775892136679}. Best is trial 42 with value: 0.20152112634160754.\n",
      "[I 2023-11-27 13:33:50,902] Trial 197 finished with value: 0.2568936559945863 and parameters: {'alpha': 0.0645049065932188, 'l1_ratio': 0.4102553557142095}. Best is trial 42 with value: 0.20152112634160754.\n",
      "[I 2023-11-27 13:33:50,984] Trial 190 finished with value: 0.2570882799364747 and parameters: {'alpha': 0.0687818653968816, 'l1_ratio': 0.4294643312585277}. Best is trial 42 with value: 0.20152112634160754.\n"
     ]
    },
    {
     "name": "stdout",
     "output_type": "stream",
     "text": [
      "Successfully updated linear.csv with results of trial 200\n",
      "Successfully updated linear.csv with results of trial 202\n",
      "Successfully updated linear.csv with results of trial 201\n",
      "Successfully updated linear.csv with results of trial 203\n",
      "Successfully updated linear.csv with results of trial 198\n",
      "Successfully updated linear.csv with results of trial 199\n"
     ]
    },
    {
     "name": "stderr",
     "output_type": "stream",
     "text": [
      "[I 2023-11-27 13:33:52,113] Trial 200 finished with value: 0.25687319812598514 and parameters: {'alpha': 0.09970540424796466, 'l1_ratio': 0.166158829371108}. Best is trial 42 with value: 0.20152112634160754.\n",
      "[I 2023-11-27 13:33:52,422] Trial 203 finished with value: 0.2568751719654028 and parameters: {'alpha': 0.058978469430215015, 'l1_ratio': 0.21919090445778044}. Best is trial 42 with value: 0.20152112634160754.\n",
      "[I 2023-11-27 13:33:52,446] Trial 202 finished with value: 0.2569975429654114 and parameters: {'alpha': 0.09968657609179303, 'l1_ratio': 0.21693233050373442}. Best is trial 42 with value: 0.20152112634160754.\n"
     ]
    },
    {
     "name": "stdout",
     "output_type": "stream",
     "text": [
      "Successfully updated linear.csv with results of trial 207\n",
      "Successfully updated linear.csv with results of trial 205\n",
      "Successfully updated linear.csv with results of trial 206\n"
     ]
    },
    {
     "name": "stderr",
     "output_type": "stream",
     "text": [
      "[I 2023-11-27 13:33:52,616] Trial 201 finished with value: 0.25695065714135895 and parameters: {'alpha': 0.05824150832110868, 'l1_ratio': 0.21678470708849895}. Best is trial 42 with value: 0.20152112634160754.\n",
      "[I 2023-11-27 13:33:52,623] Trial 198 finished with value: 0.25712668757081764 and parameters: {'alpha': 0.05897918375275219, 'l1_ratio': 0.21895168380656166}. Best is trial 42 with value: 0.20152112634160754.\n"
     ]
    },
    {
     "name": "stdout",
     "output_type": "stream",
     "text": [
      "Successfully updated linear.csv with results of trial 209\n",
      "Successfully updated linear.csv with results of trial 204\n"
     ]
    },
    {
     "name": "stderr",
     "output_type": "stream",
     "text": [
      "[I 2023-11-27 13:33:52,881] Trial 199 finished with value: 0.2570105634565225 and parameters: {'alpha': 0.09812177252360428, 'l1_ratio': 0.3687968250441686}. Best is trial 42 with value: 0.20152112634160754.\n",
      "[I 2023-11-27 13:33:52,927] Trial 205 finished with value: 0.2571226757357185 and parameters: {'alpha': 0.05893052121316495, 'l1_ratio': 0.366275065583894}. Best is trial 42 with value: 0.20152112634160754.\n",
      "[I 2023-11-27 13:33:52,934] Trial 204 finished with value: 0.2569835189361905 and parameters: {'alpha': 0.05840982105374846, 'l1_ratio': 0.21653008807836183}. Best is trial 42 with value: 0.20152112634160754.\n",
      "[I 2023-11-27 13:33:52,944] Trial 206 finished with value: 0.2569498002391437 and parameters: {'alpha': 0.05806083350355137, 'l1_ratio': 0.2103779220477463}. Best is trial 42 with value: 0.20152112634160754.\n",
      "[I 2023-11-27 13:33:53,032] Trial 207 finished with value: 0.257065241306133 and parameters: {'alpha': 0.05848903207829897, 'l1_ratio': 0.21121788420368867}. Best is trial 42 with value: 0.20152112634160754.\n"
     ]
    },
    {
     "name": "stdout",
     "output_type": "stream",
     "text": [
      "Successfully updated linear.csv with results of trial 208\n"
     ]
    },
    {
     "name": "stderr",
     "output_type": "stream",
     "text": [
      "[I 2023-11-27 13:33:53,083] Trial 209 finished with value: 0.2569804445023536 and parameters: {'alpha': 0.058325291778944716, 'l1_ratio': 0.21441274554645395}. Best is trial 42 with value: 0.20152112634160754.\n"
     ]
    },
    {
     "name": "stdout",
     "output_type": "stream",
     "text": [
      "Successfully updated linear.csv with results of trial 211\n",
      "Successfully updated linear.csv with results of trial 212\n"
     ]
    },
    {
     "name": "stderr",
     "output_type": "stream",
     "text": [
      "[I 2023-11-27 13:33:53,631] Trial 208 finished with value: 0.25705516506730763 and parameters: {'alpha': 0.05824642639715055, 'l1_ratio': 0.2938581470400664}. Best is trial 42 with value: 0.20152112634160754.\n"
     ]
    },
    {
     "name": "stdout",
     "output_type": "stream",
     "text": [
      "Successfully updated linear.csv with results of trial 213\n",
      "Successfully updated linear.csv with results of trial 214\n"
     ]
    },
    {
     "name": "stderr",
     "output_type": "stream",
     "text": [
      "[I 2023-11-27 13:33:54,234] Trial 211 finished with value: 0.257131257618763 and parameters: {'alpha': 0.08746694009594541, 'l1_ratio': 0.30096456883817485}. Best is trial 42 with value: 0.20152112634160754.\n",
      "[I 2023-11-27 13:33:54,423] Trial 212 finished with value: 0.2569939131442021 and parameters: {'alpha': 0.0559862884387492, 'l1_ratio': 0.2997218133419519}. Best is trial 42 with value: 0.20152112634160754.\n",
      "[I 2023-11-27 13:33:54,612] Trial 213 finished with value: 0.2570053943244736 and parameters: {'alpha': 0.05449473648518606, 'l1_ratio': 0.25810136018023727}. Best is trial 42 with value: 0.20152112634160754.\n"
     ]
    },
    {
     "name": "stdout",
     "output_type": "stream",
     "text": [
      "Successfully updated linear.csv with results of trial 210\n",
      "Successfully updated linear.csv with results of trial 215\n",
      "Successfully updated linear.csv with results of trial 217\n",
      "Successfully updated linear.csv with results of trial 219\n"
     ]
    },
    {
     "name": "stderr",
     "output_type": "stream",
     "text": [
      "[I 2023-11-27 13:33:55,140] Trial 214 finished with value: 0.257046591181479 and parameters: {'alpha': 0.09072509847136541, 'l1_ratio': 0.2988146243352551}. Best is trial 42 with value: 0.20152112634160754.\n"
     ]
    },
    {
     "name": "stdout",
     "output_type": "stream",
     "text": [
      "Successfully updated linear.csv with results of trial 218\n",
      "Successfully updated linear.csv with results of trial 221\n",
      "Successfully updated linear.csv with results of trial 216\n"
     ]
    },
    {
     "name": "stderr",
     "output_type": "stream",
     "text": [
      "[I 2023-11-27 13:33:55,708] Trial 217 finished with value: 0.2572301535401311 and parameters: {'alpha': 0.05419184130219139, 'l1_ratio': 0.2600495316916254}. Best is trial 42 with value: 0.20152112634160754.\n",
      "[I 2023-11-27 13:33:55,752] Trial 210 finished with value: 0.2569493602537734 and parameters: {'alpha': 0.08997324025806437, 'l1_ratio': 0.26006385123336545}. Best is trial 42 with value: 0.20152112634160754.\n",
      "[I 2023-11-27 13:33:55,801] Trial 219 finished with value: 0.25690274071739116 and parameters: {'alpha': 0.08785662778310954, 'l1_ratio': 0.2557447410688946}. Best is trial 42 with value: 0.20152112634160754.\n",
      "[I 2023-11-27 13:33:55,838] Trial 215 finished with value: 0.25696590393402186 and parameters: {'alpha': 0.08832311268117923, 'l1_ratio': 0.26191232124261427}. Best is trial 42 with value: 0.20152112634160754.\n",
      "[I 2023-11-27 13:33:55,919] Trial 221 finished with value: 0.25707513058285864 and parameters: {'alpha': 0.06200343502048102, 'l1_ratio': 0.26692990852587484}. Best is trial 42 with value: 0.20152112634160754.\n",
      "[I 2023-11-27 13:33:55,980] Trial 218 finished with value: 0.2571508424961349 and parameters: {'alpha': 0.055575203156810124, 'l1_ratio': 0.2596099111926564}. Best is trial 42 with value: 0.20152112634160754.\n"
     ]
    },
    {
     "name": "stdout",
     "output_type": "stream",
     "text": [
      "Successfully updated linear.csv with results of trial 220\n",
      "Successfully updated linear.csv with results of trial 222\n"
     ]
    },
    {
     "name": "stderr",
     "output_type": "stream",
     "text": [
      "[I 2023-11-27 13:33:56,480] Trial 216 finished with value: 0.2569882279781262 and parameters: {'alpha': 0.08805777113316847, 'l1_ratio': 0.26020831423028384}. Best is trial 42 with value: 0.20152112634160754.\n"
     ]
    },
    {
     "name": "stdout",
     "output_type": "stream",
     "text": [
      "Successfully updated linear.csv with results of trial 224\n",
      "Successfully updated linear.csv with results of trial 223\n"
     ]
    },
    {
     "name": "stderr",
     "output_type": "stream",
     "text": [
      "[I 2023-11-27 13:33:56,829] Trial 222 finished with value: 0.2569349524572413 and parameters: {'alpha': 0.0825215706914488, 'l1_ratio': 0.24310250452155457}. Best is trial 42 with value: 0.20152112634160754.\n",
      "[I 2023-11-27 13:33:57,223] Trial 224 finished with value: 0.2570950935223981 and parameters: {'alpha': 0.08103593410410716, 'l1_ratio': 0.18409515792505085}. Best is trial 42 with value: 0.20152112634160754.\n"
     ]
    },
    {
     "name": "stdout",
     "output_type": "stream",
     "text": [
      "Successfully updated linear.csv with results of trial 225\n",
      "Successfully updated linear.csv with results of trial 226\n"
     ]
    },
    {
     "name": "stderr",
     "output_type": "stream",
     "text": [
      "[I 2023-11-27 13:33:57,270] Trial 223 finished with value: 0.25705809037336613 and parameters: {'alpha': 0.07269718470454788, 'l1_ratio': 0.24164845003730423}. Best is trial 42 with value: 0.20152112634160754.\n"
     ]
    },
    {
     "name": "stdout",
     "output_type": "stream",
     "text": [
      "Successfully updated linear.csv with results of trial 228\n"
     ]
    },
    {
     "name": "stderr",
     "output_type": "stream",
     "text": [
      "[I 2023-11-27 13:33:57,574] Trial 220 finished with value: 0.25701827737374505 and parameters: {'alpha': 0.061814366080691255, 'l1_ratio': 0.25974183078646}. Best is trial 42 with value: 0.20152112634160754.\n",
      "[I 2023-11-27 13:33:57,597] Trial 226 finished with value: 0.2570595012125797 and parameters: {'alpha': 0.0969346092412039, 'l1_ratio': 0.23620198562700104}. Best is trial 42 with value: 0.20152112634160754.\n",
      "[I 2023-11-27 13:33:57,727] Trial 228 finished with value: 0.25694470724909996 and parameters: {'alpha': 0.08196454262839384, 'l1_ratio': 0.18802466147139935}. Best is trial 42 with value: 0.20152112634160754.\n",
      "[I 2023-11-27 13:33:57,737] Trial 227 finished with value: 0.25705054132056143 and parameters: {'alpha': 0.08239308901177984, 'l1_ratio': 0.1556652220448003}. Best is trial 42 with value: 0.20152112634160754.\n"
     ]
    },
    {
     "name": "stdout",
     "output_type": "stream",
     "text": [
      "Successfully updated linear.csv with results of trial 227\n",
      "Successfully updated linear.csv with results of trial 230\n"
     ]
    },
    {
     "name": "stderr",
     "output_type": "stream",
     "text": [
      "[I 2023-11-27 13:33:57,758] Trial 225 finished with value: 0.2570412020764101 and parameters: {'alpha': 0.0813575850331556, 'l1_ratio': 0.15401783466845861}. Best is trial 42 with value: 0.20152112634160754.\n",
      "[I 2023-11-27 13:33:57,815] Trial 230 finished with value: 0.25715195975789634 and parameters: {'alpha': 0.07303046471920327, 'l1_ratio': 0.2374189591948414}. Best is trial 42 with value: 0.20152112634160754.\n",
      "[I 2023-11-27 13:33:57,824] Trial 229 finished with value: 0.25696825604218004 and parameters: {'alpha': 0.07294616556611792, 'l1_ratio': 0.15319869278837267}. Best is trial 42 with value: 0.20152112634160754.\n",
      "[I 2023-11-27 13:33:57,938] Trial 231 finished with value: 0.25708298943096564 and parameters: {'alpha': 0.061499998883702486, 'l1_ratio': 0.18543029279411083}. Best is trial 42 with value: 0.20152112634160754.\n"
     ]
    },
    {
     "name": "stdout",
     "output_type": "stream",
     "text": [
      "Successfully updated linear.csv with results of trial 229\n",
      "Successfully updated linear.csv with results of trial 231\n",
      "random RLM KRR\n"
     ]
    },
    {
     "name": "stderr",
     "output_type": "stream",
     "text": [
      "[I 2023-11-27 13:33:58,195] Using an existing study with name 'KRR' instead of creating a new one.\n"
     ]
    },
    {
     "name": "stdout",
     "output_type": "stream",
     "text": [
      "Successfully created KRR.csv with results of trial 121 as the first entry\n",
      "Successfully updated KRR.csv with results of trial 123\n",
      "Successfully updated KRR.csv with results of trial 120\n"
     ]
    },
    {
     "name": "stderr",
     "output_type": "stream",
     "text": [
      "[I 2023-11-27 13:34:08,728] Trial 121 finished with value: 0.25194557920660193 and parameters: {'alpha': 0.2963789705651707, 'gamma': 6.722089438867636e-16, 'kernel': 'linear'}. Best is trial 110 with value: 0.14078383474153056.\n",
      "[I 2023-11-27 13:34:09,036] Trial 123 finished with value: 0.25127108741738735 and parameters: {'alpha': 0.3753033358835841, 'gamma': 6.710045040662157e-16, 'kernel': 'linear'}. Best is trial 110 with value: 0.14078383474153056.\n",
      "[I 2023-11-27 13:34:09,134] Trial 120 finished with value: 0.2506349987690961 and parameters: {'alpha': 0.36366737091057866, 'gamma': 6.323577269278906e-16, 'kernel': 'linear'}. Best is trial 110 with value: 0.14078383474153056.\n"
     ]
    },
    {
     "name": "stdout",
     "output_type": "stream",
     "text": [
      "Successfully updated KRR.csv with results of trial 129\n",
      "Successfully updated KRR.csv with results of trial 122\n",
      "Successfully updated KRR.csv with results of trial 130\n",
      "Successfully updated KRR.csv with results of trial 124\n",
      "Successfully updated KRR.csv with results of trial 125\n"
     ]
    },
    {
     "name": "stderr",
     "output_type": "stream",
     "text": [
      "[I 2023-11-27 13:34:10,809] Trial 129 finished with value: 0.2502467508723995 and parameters: {'alpha': 0.3484951239084413, 'gamma': 6.675419481738988e-16, 'kernel': 'linear'}. Best is trial 110 with value: 0.14078383474153056.\n"
     ]
    },
    {
     "name": "stdout",
     "output_type": "stream",
     "text": [
      "Successfully updated KRR.csv with results of trial 127\n"
     ]
    },
    {
     "name": "stderr",
     "output_type": "stream",
     "text": [
      "[I 2023-11-27 13:34:11,088] Trial 122 finished with value: 0.25087096847506474 and parameters: {'alpha': 0.3538746930223491, 'gamma': 6.437259483019155e-16, 'kernel': 'linear'}. Best is trial 110 with value: 0.14078383474153056.\n"
     ]
    },
    {
     "name": "stdout",
     "output_type": "stream",
     "text": [
      "Successfully updated KRR.csv with results of trial 128\n",
      "Successfully updated KRR.csv with results of trial 126\n"
     ]
    },
    {
     "name": "stderr",
     "output_type": "stream",
     "text": [
      "[I 2023-11-27 13:34:11,649] Trial 124 finished with value: 0.25108887346424014 and parameters: {'alpha': 0.3699877120696662, 'gamma': 6.929243591221008e-16, 'kernel': 'linear'}. Best is trial 110 with value: 0.14078383474153056.\n",
      "[I 2023-11-27 13:34:11,656] Trial 125 finished with value: 0.251849798150151 and parameters: {'alpha': 0.3668248895802307, 'gamma': 1.7742404336795633e-16, 'kernel': 'linear'}. Best is trial 110 with value: 0.14078383474153056.\n",
      "[I 2023-11-27 13:34:11,845] Trial 127 finished with value: 0.2501271000131133 and parameters: {'alpha': 0.37346995632578545, 'gamma': 6.690428271611079e-16, 'kernel': 'linear'}. Best is trial 110 with value: 0.14078383474153056.\n"
     ]
    },
    {
     "name": "stdout",
     "output_type": "stream",
     "text": [
      "Successfully updated KRR.csv with results of trial 131\n"
     ]
    },
    {
     "name": "stderr",
     "output_type": "stream",
     "text": [
      "[I 2023-11-27 13:34:11,852] Trial 128 finished with value: 0.2509837962153764 and parameters: {'alpha': 0.36507529912623526, 'gamma': 6.621985264195497e-16, 'kernel': 'linear'}. Best is trial 110 with value: 0.14078383474153056.\n",
      "[I 2023-11-27 13:34:11,895] Trial 130 finished with value: 0.25083971422674284 and parameters: {'alpha': 0.37086274356599486, 'gamma': 8.224402384932634e-16, 'kernel': 'linear'}. Best is trial 110 with value: 0.14078383474153056.\n",
      "[I 2023-11-27 13:34:12,148] Trial 126 finished with value: 0.2502001505952095 and parameters: {'alpha': 0.37576584085740905, 'gamma': 1.976291347525309e-16, 'kernel': 'linear'}. Best is trial 110 with value: 0.14078383474153056.\n",
      "[I 2023-11-27 13:34:12,453] Trial 131 finished with value: 0.25054460337205475 and parameters: {'alpha': 0.3662730835645865, 'gamma': 6.660484237410675e-16, 'kernel': 'linear'}. Best is trial 110 with value: 0.14078383474153056.\n"
     ]
    },
    {
     "name": "stdout",
     "output_type": "stream",
     "text": [
      "Successfully updated KRR.csv with results of trial 132\n"
     ]
    },
    {
     "name": "stderr",
     "output_type": "stream",
     "text": [
      "[I 2023-11-27 13:34:16,759] Trial 132 finished with value: 0.2510833258288592 and parameters: {'alpha': 0.2871015439118753, 'gamma': 2.932311491869443e-16, 'kernel': 'linear'}. Best is trial 110 with value: 0.14078383474153056.\n"
     ]
    },
    {
     "name": "stdout",
     "output_type": "stream",
     "text": [
      "Successfully updated KRR.csv with results of trial 133\n",
      "Successfully updated KRR.csv with results of trial 134\n"
     ]
    },
    {
     "name": "stderr",
     "output_type": "stream",
     "text": [
      "[I 2023-11-27 13:34:20,276] Trial 134 finished with value: 0.25052460399523185 and parameters: {'alpha': 0.27474649477841145, 'gamma': 9.773769971512092e-16, 'kernel': 'laplacian'}. Best is trial 110 with value: 0.14078383474153056.\n",
      "[I 2023-11-27 13:34:20,382] Trial 133 finished with value: 0.2502897494509917 and parameters: {'alpha': 0.27389842484804516, 'gamma': 3.3205113767571634e-16, 'kernel': 'laplacian'}. Best is trial 110 with value: 0.14078383474153056.\n"
     ]
    },
    {
     "name": "stdout",
     "output_type": "stream",
     "text": [
      "Successfully updated KRR.csv with results of trial 135\n",
      "Successfully updated KRR.csv with results of trial 139\n",
      "Successfully updated KRR.csv with results of trial 136\n"
     ]
    },
    {
     "name": "stderr",
     "output_type": "stream",
     "text": [
      "[I 2023-11-27 13:34:22,290] Trial 139 finished with value: 0.251991832146855 and parameters: {'alpha': 0.27266988318099533, 'gamma': 1.0344997249675595e-15, 'kernel': 'laplacian'}. Best is trial 110 with value: 0.14078383474153056.\n",
      "[I 2023-11-27 13:34:22,294] Trial 135 finished with value: 0.2507274999238035 and parameters: {'alpha': 0.27519809957534325, 'gamma': 1.0085775940947515e-15, 'kernel': 'laplacian'}. Best is trial 110 with value: 0.14078383474153056.\n"
     ]
    },
    {
     "name": "stdout",
     "output_type": "stream",
     "text": [
      "Successfully updated KRR.csv with results of trial 137\n"
     ]
    },
    {
     "name": "stderr",
     "output_type": "stream",
     "text": [
      "[I 2023-11-27 13:34:22,658] Trial 136 finished with value: 0.2511789055951715 and parameters: {'alpha': 0.2778460636444032, 'gamma': 9.902997115009084e-16, 'kernel': 'laplacian'}. Best is trial 110 with value: 0.14078383474153056.\n"
     ]
    },
    {
     "name": "stdout",
     "output_type": "stream",
     "text": [
      "Successfully updated KRR.csv with results of trial 140\n"
     ]
    },
    {
     "name": "stderr",
     "output_type": "stream",
     "text": [
      "[I 2023-11-27 13:34:23,178] Trial 140 finished with value: 0.25015760968283923 and parameters: {'alpha': 0.2712952830594164, 'gamma': 9.733514622884424e-16, 'kernel': 'laplacian'}. Best is trial 110 with value: 0.14078383474153056.\n"
     ]
    },
    {
     "name": "stdout",
     "output_type": "stream",
     "text": [
      "Successfully updated KRR.csv with results of trial 138\n"
     ]
    },
    {
     "name": "stderr",
     "output_type": "stream",
     "text": [
      "[I 2023-11-27 13:34:24,383] Trial 137 finished with value: 0.2517833074134295 and parameters: {'alpha': 0.11767307508755577, 'gamma': 9.59818705978647e-16, 'kernel': 'laplacian'}. Best is trial 110 with value: 0.14078383474153056.\n"
     ]
    },
    {
     "name": "stdout",
     "output_type": "stream",
     "text": [
      "Successfully updated KRR.csv with results of trial 141\n"
     ]
    },
    {
     "name": "stderr",
     "output_type": "stream",
     "text": [
      "[I 2023-11-27 13:34:25,592] Trial 138 finished with value: 0.25104264070498195 and parameters: {'alpha': 0.2672628920795694, 'gamma': 1.0245290566776006e-15, 'kernel': 'laplacian'}. Best is trial 110 with value: 0.14078383474153056.\n",
      "[I 2023-11-27 13:34:25,693] Trial 141 finished with value: 0.25127806147268245 and parameters: {'alpha': 0.3060831846454375, 'gamma': 9.768615848451046e-16, 'kernel': 'laplacian'}. Best is trial 110 with value: 0.14078383474153056.\n"
     ]
    },
    {
     "name": "stdout",
     "output_type": "stream",
     "text": [
      "Successfully updated KRR.csv with results of trial 142\n"
     ]
    },
    {
     "name": "stderr",
     "output_type": "stream",
     "text": [
      "[I 2023-11-27 13:34:26,453] Trial 142 finished with value: 0.25162412702015874 and parameters: {'alpha': 0.27809303984239236, 'gamma': 1.0196698142494835e-15, 'kernel': 'laplacian'}. Best is trial 110 with value: 0.14078383474153056.\n"
     ]
    },
    {
     "name": "stdout",
     "output_type": "stream",
     "text": [
      "Successfully updated KRR.csv with results of trial 143\n",
      "Successfully updated KRR.csv with results of trial 144\n"
     ]
    },
    {
     "name": "stderr",
     "output_type": "stream",
     "text": [
      "[I 2023-11-27 13:34:28,234] Trial 143 finished with value: 0.2507105763960206 and parameters: {'alpha': 0.2823177926696547, 'gamma': 9.97019982042058e-16, 'kernel': 'laplacian'}. Best is trial 110 with value: 0.14078383474153056.\n",
      "[I 2023-11-27 13:34:29,067] Trial 144 finished with value: 0.2516187892580416 and parameters: {'alpha': 0.2611529173815329, 'gamma': 1.0693533261036402e-15, 'kernel': 'laplacian'}. Best is trial 110 with value: 0.14078383474153056.\n"
     ]
    },
    {
     "name": "stdout",
     "output_type": "stream",
     "text": [
      "Successfully updated KRR.csv with results of trial 145\n",
      "Successfully updated KRR.csv with results of trial 146\n"
     ]
    },
    {
     "name": "stderr",
     "output_type": "stream",
     "text": [
      "[I 2023-11-27 13:34:29,910] Trial 146 finished with value: 0.250512736775432 and parameters: {'alpha': 0.3068987949562736, 'gamma': 1.9459968296582846e-15, 'kernel': 'laplacian'}. Best is trial 110 with value: 0.14078383474153056.\n"
     ]
    },
    {
     "name": "stdout",
     "output_type": "stream",
     "text": [
      "Successfully updated KRR.csv with results of trial 147\n"
     ]
    },
    {
     "name": "stderr",
     "output_type": "stream",
     "text": [
      "[I 2023-11-27 13:34:30,758] Trial 145 finished with value: 0.2509177178206275 and parameters: {'alpha': 0.21926617448464675, 'gamma': 9.500912825995367e-16, 'kernel': 'laplacian'}. Best is trial 110 with value: 0.14078383474153056.\n"
     ]
    },
    {
     "name": "stdout",
     "output_type": "stream",
     "text": [
      "Successfully updated KRR.csv with results of trial 150\n"
     ]
    },
    {
     "name": "stderr",
     "output_type": "stream",
     "text": [
      "[I 2023-11-27 13:34:31,866] Trial 147 finished with value: 0.2516359473182357 and parameters: {'alpha': 0.21836541010087873, 'gamma': 1.5076941248258214e-15, 'kernel': 'rbf'}. Best is trial 110 with value: 0.14078383474153056.\n",
      "[I 2023-11-27 13:34:32,134] Trial 150 finished with value: 0.25179543636418544 and parameters: {'alpha': 0.31356386943941045, 'gamma': 2.1708235297129822e-15, 'kernel': 'rbf'}. Best is trial 110 with value: 0.14078383474153056.\n"
     ]
    },
    {
     "name": "stdout",
     "output_type": "stream",
     "text": [
      "Successfully updated KRR.csv with results of trial 149\n",
      "Successfully updated KRR.csv with results of trial 151\n"
     ]
    },
    {
     "name": "stderr",
     "output_type": "stream",
     "text": [
      "[I 2023-11-27 13:34:34,914] Trial 149 finished with value: 0.25035379455473583 and parameters: {'alpha': 0.2197762022563556, 'gamma': 2.036876167017243e-15, 'kernel': 'rbf'}. Best is trial 110 with value: 0.14078383474153056.\n",
      "[I 2023-11-27 13:34:34,918] Trial 151 finished with value: 0.25048620399857996 and parameters: {'alpha': 0.30920430662888376, 'gamma': 2.1810766604444515e-15, 'kernel': 'rbf'}. Best is trial 110 with value: 0.14078383474153056.\n"
     ]
    },
    {
     "name": "stdout",
     "output_type": "stream",
     "text": [
      "Successfully updated KRR.csv with results of trial 152\n",
      "Successfully updated KRR.csv with results of trial 148\n"
     ]
    },
    {
     "name": "stderr",
     "output_type": "stream",
     "text": [
      "[I 2023-11-27 13:34:36,497] Trial 148 finished with value: 0.25237849142261354 and parameters: {'alpha': 0.30030809674474196, 'gamma': 2.051451695220153e-15, 'kernel': 'rbf'}. Best is trial 110 with value: 0.14078383474153056.\n",
      "[I 2023-11-27 13:34:37,094] Trial 152 finished with value: 0.2499821679007231 and parameters: {'alpha': 0.3172493280647085, 'gamma': 2.005087665469595e-15, 'kernel': 'rbf'}. Best is trial 110 with value: 0.14078383474153056.\n"
     ]
    },
    {
     "name": "stdout",
     "output_type": "stream",
     "text": [
      "Successfully updated KRR.csv with results of trial 154\n",
      "Successfully updated KRR.csv with results of trial 156\n"
     ]
    },
    {
     "name": "stderr",
     "output_type": "stream",
     "text": [
      "[I 2023-11-27 13:34:38,202] Trial 156 finished with value: 0.2511348561505537 and parameters: {'alpha': 0.30972837239230444, 'gamma': 2.031408072124746e-15, 'kernel': 'rbf'}. Best is trial 110 with value: 0.14078383474153056.\n",
      "[I 2023-11-27 13:34:40,052] Trial 154 finished with value: 0.25034354922232827 and parameters: {'alpha': 0.33463637448160727, 'gamma': 1.6503363886904962e-15, 'kernel': 'rbf'}. Best is trial 110 with value: 0.14078383474153056.\n"
     ]
    },
    {
     "name": "stdout",
     "output_type": "stream",
     "text": [
      "Successfully updated KRR.csv with results of trial 153\n",
      "Successfully updated KRR.csv with results of trial 155\n",
      "Successfully updated KRR.csv with results of trial 157\n",
      "Successfully updated KRR.csv with results of trial 158\n",
      "Successfully updated KRR.csv with results of trial 159\n"
     ]
    },
    {
     "name": "stderr",
     "output_type": "stream",
     "text": [
      "[I 2023-11-27 13:34:42,978] Trial 155 finished with value: 0.250184773579968 and parameters: {'alpha': 0.32940977643974895, 'gamma': 1.5507043872637434e-15, 'kernel': 'rbf'}. Best is trial 110 with value: 0.14078383474153056.\n"
     ]
    },
    {
     "name": "stdout",
     "output_type": "stream",
     "text": [
      "Successfully updated KRR.csv with results of trial 160\n"
     ]
    },
    {
     "name": "stderr",
     "output_type": "stream",
     "text": [
      "[I 2023-11-27 13:34:43,579] Trial 158 finished with value: 0.25235535117795377 and parameters: {'alpha': 0.1544385544702688, 'gamma': 1.997132914631085e-15, 'kernel': 'rbf'}. Best is trial 110 with value: 0.14078383474153056.\n",
      "[I 2023-11-27 13:34:43,820] Trial 160 finished with value: 0.2501889271668532 and parameters: {'alpha': 0.42350480462515394, 'gamma': 1.6075104941106963e-15, 'kernel': 'rbf'}. Best is trial 110 with value: 0.14078383474153056.\n",
      "[I 2023-11-27 13:34:43,882] Trial 159 finished with value: 0.2524643530766764 and parameters: {'alpha': 0.3321015372190431, 'gamma': 2.0159130193454106e-15, 'kernel': 'rbf'}. Best is trial 110 with value: 0.14078383474153056.\n",
      "[I 2023-11-27 13:34:44,369] Trial 153 finished with value: 0.2519707569354804 and parameters: {'alpha': 0.21772632626035163, 'gamma': 2.0385989643577712e-15, 'kernel': 'rbf'}. Best is trial 110 with value: 0.14078383474153056.\n",
      "[I 2023-11-27 13:34:44,971] Trial 157 finished with value: 0.25095469297859424 and parameters: {'alpha': 0.3353885976979165, 'gamma': 1.5915989325714713e-15, 'kernel': 'rbf'}. Best is trial 110 with value: 0.14078383474153056.\n"
     ]
    },
    {
     "name": "stdout",
     "output_type": "stream",
     "text": [
      "Successfully updated KRR.csv with results of trial 162\n",
      "Successfully updated KRR.csv with results of trial 161\n"
     ]
    },
    {
     "name": "stderr",
     "output_type": "stream",
     "text": [
      "[I 2023-11-27 13:34:46,473] Trial 162 finished with value: 0.2508054541777168 and parameters: {'alpha': 0.3965704771405632, 'gamma': 1.540300509209285e-15, 'kernel': 'rbf'}. Best is trial 110 with value: 0.14078383474153056.\n"
     ]
    },
    {
     "name": "stdout",
     "output_type": "stream",
     "text": [
      "Successfully updated KRR.csv with results of trial 163\n",
      "Successfully updated KRR.csv with results of trial 165\n",
      "Successfully updated KRR.csv with results of trial 164\n"
     ]
    },
    {
     "name": "stderr",
     "output_type": "stream",
     "text": [
      "[I 2023-11-27 13:34:48,690] Trial 163 finished with value: 0.24969854610129394 and parameters: {'alpha': 0.3341620592458926, 'gamma': 1.4827367118911115e-15, 'kernel': 'rbf'}. Best is trial 110 with value: 0.14078383474153056.\n",
      "[I 2023-11-27 13:34:48,943] Trial 161 finished with value: 0.2511980284899378 and parameters: {'alpha': 0.16927931796349222, 'gamma': 1.6269871926223852e-15, 'kernel': 'rbf'}. Best is trial 110 with value: 0.14078383474153056.\n",
      "[I 2023-11-27 13:34:49,566] Trial 165 finished with value: 0.2507078239199665 and parameters: {'alpha': 0.3386491421964677, 'gamma': 1.7131458680760073e-15, 'kernel': 'rbf'}. Best is trial 110 with value: 0.14078383474153056.\n",
      "[I 2023-11-27 13:34:51,758] Trial 164 finished with value: 0.2524342277024774 and parameters: {'alpha': 0.15756730966466734, 'gamma': 1.623119761937419e-15, 'kernel': 'rbf'}. Best is trial 110 with value: 0.14078383474153056.\n"
     ]
    },
    {
     "name": "stdout",
     "output_type": "stream",
     "text": [
      "Successfully updated KRR.csv with results of trial 167\n"
     ]
    },
    {
     "name": "stderr",
     "output_type": "stream",
     "text": [
      "[I 2023-11-27 13:34:52,170] Trial 167 finished with value: 0.2513857960366443 and parameters: {'alpha': 0.39857920871510844, 'gamma': 1.3812057579330263e-15, 'kernel': 'laplacian'}. Best is trial 110 with value: 0.14078383474153056.\n"
     ]
    },
    {
     "name": "stdout",
     "output_type": "stream",
     "text": [
      "Successfully updated KRR.csv with results of trial 166\n",
      "Successfully updated KRR.csv with results of trial 168\n",
      "Successfully updated KRR.csv with results of trial 169\n"
     ]
    },
    {
     "name": "stderr",
     "output_type": "stream",
     "text": [
      "[I 2023-11-27 13:34:54,373] Trial 168 finished with value: 0.2509066340790313 and parameters: {'alpha': 0.45613104519521597, 'gamma': 1.3734632869381374e-15, 'kernel': 'laplacian'}. Best is trial 110 with value: 0.14078383474153056.\n",
      "[I 2023-11-27 13:34:54,460] Trial 166 finished with value: 0.2519237911806074 and parameters: {'alpha': 0.4364535469622242, 'gamma': 4.615108507523451e-16, 'kernel': 'rbf'}. Best is trial 110 with value: 0.14078383474153056.\n",
      "[I 2023-11-27 13:34:54,669] Trial 169 finished with value: 0.25080260663148124 and parameters: {'alpha': 0.16064000880255652, 'gamma': 1.3703968871241953e-15, 'kernel': 'laplacian'}. Best is trial 110 with value: 0.14078383474153056.\n"
     ]
    },
    {
     "name": "stdout",
     "output_type": "stream",
     "text": [
      "Successfully updated KRR.csv with results of trial 170\n",
      "Successfully updated KRR.csv with results of trial 172\n",
      "Successfully updated KRR.csv with results of trial 171\n"
     ]
    },
    {
     "name": "stderr",
     "output_type": "stream",
     "text": [
      "[I 2023-11-27 13:34:57,112] Trial 172 finished with value: 0.25098210623280665 and parameters: {'alpha': 0.4584237220399052, 'gamma': 1.3695095227491007e-15, 'kernel': 'laplacian'}. Best is trial 110 with value: 0.14078383474153056.\n",
      "[I 2023-11-27 13:34:57,597] Trial 170 finished with value: 0.2516741650502479 and parameters: {'alpha': 0.438972002101704, 'gamma': 4.305161166658599e-16, 'kernel': 'laplacian'}. Best is trial 110 with value: 0.14078383474153056.\n"
     ]
    },
    {
     "name": "stdout",
     "output_type": "stream",
     "text": [
      "Successfully updated KRR.csv with results of trial 173\n"
     ]
    },
    {
     "name": "stderr",
     "output_type": "stream",
     "text": [
      "[I 2023-11-27 13:34:58,075] Trial 171 finished with value: 0.2503736363575791 and parameters: {'alpha': 0.16269618576196412, 'gamma': 1.3401679734081446e-15, 'kernel': 'laplacian'}. Best is trial 110 with value: 0.14078383474153056.\n",
      "[I 2023-11-27 13:34:58,377] Trial 173 finished with value: 0.2512985459372331 and parameters: {'alpha': 0.43989117454188464, 'gamma': 1.2865409379337674e-15, 'kernel': 'laplacian'}. Best is trial 110 with value: 0.14078383474153056.\n"
     ]
    },
    {
     "name": "stdout",
     "output_type": "stream",
     "text": [
      "Successfully updated KRR.csv with results of trial 175\n",
      "Successfully updated KRR.csv with results of trial 174\n"
     ]
    },
    {
     "name": "stderr",
     "output_type": "stream",
     "text": [
      "[I 2023-11-27 13:34:59,544] Trial 175 finished with value: 0.2497941251292769 and parameters: {'alpha': 0.12084828273348368, 'gamma': 1.314440387188973e-15, 'kernel': 'laplacian'}. Best is trial 110 with value: 0.14078383474153056.\n"
     ]
    },
    {
     "name": "stdout",
     "output_type": "stream",
     "text": [
      "Successfully updated KRR.csv with results of trial 178\n",
      "Successfully updated KRR.csv with results of trial 177\n"
     ]
    },
    {
     "name": "stderr",
     "output_type": "stream",
     "text": [
      "[I 2023-11-27 13:35:02,640] Trial 178 finished with value: 0.2502138932605454 and parameters: {'alpha': 0.4425840841627344, 'gamma': 3.734702061304431e-16, 'kernel': 'laplacian'}. Best is trial 110 with value: 0.14078383474153056.\n",
      "[I 2023-11-27 13:35:03,078] Trial 174 finished with value: 0.25036220303720563 and parameters: {'alpha': 0.4611743186170172, 'gamma': 1.382041244806575e-15, 'kernel': 'laplacian'}. Best is trial 110 with value: 0.14078383474153056.\n",
      "[I 2023-11-27 13:35:03,450] Trial 177 finished with value: 0.2519591798287108 and parameters: {'alpha': 0.11414161908268665, 'gamma': 1.2792321544360913e-15, 'kernel': 'laplacian'}. Best is trial 110 with value: 0.14078383474153056.\n"
     ]
    },
    {
     "name": "stdout",
     "output_type": "stream",
     "text": [
      "Successfully updated KRR.csv with results of trial 179\n"
     ]
    },
    {
     "name": "stderr",
     "output_type": "stream",
     "text": [
      "[I 2023-11-27 13:35:04,540] Trial 179 finished with value: 0.25054099016896697 and parameters: {'alpha': 0.10673648927438922, 'gamma': 6.558969830622257e-15, 'kernel': 'laplacian'}. Best is trial 110 with value: 0.14078383474153056.\n"
     ]
    },
    {
     "name": "stdout",
     "output_type": "stream",
     "text": [
      "Successfully updated KRR.csv with results of trial 176\n"
     ]
    },
    {
     "name": "stderr",
     "output_type": "stream",
     "text": [
      "[I 2023-11-27 13:35:06,205] Trial 176 finished with value: 0.2521991370678605 and parameters: {'alpha': 0.24999630808987805, 'gamma': 2.5139373710351595e-15, 'kernel': 'laplacian'}. Best is trial 110 with value: 0.14078383474153056.\n"
     ]
    },
    {
     "name": "stdout",
     "output_type": "stream",
     "text": [
      "Successfully updated KRR.csv with results of trial 181\n",
      "Successfully updated KRR.csv with results of trial 183\n"
     ]
    },
    {
     "name": "stderr",
     "output_type": "stream",
     "text": [
      "[I 2023-11-27 13:35:07,760] Trial 183 finished with value: 0.25091465355021203 and parameters: {'alpha': 0.1313252669848653, 'gamma': 3.666235793267464e-15, 'kernel': 'linear'}. Best is trial 110 with value: 0.14078383474153056.\n"
     ]
    },
    {
     "name": "stdout",
     "output_type": "stream",
     "text": [
      "Successfully updated KRR.csv with results of trial 182\n",
      "Successfully updated KRR.csv with results of trial 184\n"
     ]
    },
    {
     "name": "stderr",
     "output_type": "stream",
     "text": [
      "[I 2023-11-27 13:35:09,181] Trial 181 finished with value: 0.2505457930153428 and parameters: {'alpha': 0.24743256568648336, 'gamma': 2.5328435340248745e-15, 'kernel': 'laplacian'}. Best is trial 110 with value: 0.14078383474153056.\n",
      "[I 2023-11-27 13:35:09,229] Trial 184 finished with value: 0.25210409452361837 and parameters: {'alpha': 0.2548438467786738, 'gamma': 3.605814986491693e-15, 'kernel': 'linear'}. Best is trial 110 with value: 0.14078383474153056.\n"
     ]
    },
    {
     "name": "stdout",
     "output_type": "stream",
     "text": [
      "Successfully updated KRR.csv with results of trial 180\n",
      "Successfully updated KRR.csv with results of trial 186\n",
      "Successfully updated KRR.csv with results of trial 185\n"
     ]
    },
    {
     "name": "stderr",
     "output_type": "stream",
     "text": [
      "[I 2023-11-27 13:35:11,242] Trial 182 finished with value: 0.2517062150145405 and parameters: {'alpha': 0.1132934356970871, 'gamma': 3.357073823885424e-15, 'kernel': 'linear'}. Best is trial 110 with value: 0.14078383474153056.\n",
      "[I 2023-11-27 13:35:11,732] Trial 186 finished with value: 0.25120173018839825 and parameters: {'alpha': 0.24937571050516932, 'gamma': 2.620328123297424e-15, 'kernel': 'linear'}. Best is trial 110 with value: 0.14078383474153056.\n",
      "[I 2023-11-27 13:35:12,765] Trial 185 finished with value: 0.2516914426999101 and parameters: {'alpha': 0.24854555878686574, 'gamma': 4.08350925843904e-15, 'kernel': 'linear'}. Best is trial 110 with value: 0.14078383474153056.\n"
     ]
    },
    {
     "name": "stdout",
     "output_type": "stream",
     "text": [
      "Successfully updated KRR.csv with results of trial 187\n"
     ]
    },
    {
     "name": "stderr",
     "output_type": "stream",
     "text": [
      "[I 2023-11-27 13:35:13,685] Trial 180 finished with value: 0.25069420699013656 and parameters: {'alpha': 0.25133012370283464, 'gamma': 2.4498631430602764e-15, 'kernel': 'linear'}. Best is trial 110 with value: 0.14078383474153056.\n"
     ]
    },
    {
     "name": "stdout",
     "output_type": "stream",
     "text": [
      "Successfully updated KRR.csv with results of trial 190\n"
     ]
    },
    {
     "name": "stderr",
     "output_type": "stream",
     "text": [
      "[I 2023-11-27 13:35:14,352] Trial 187 finished with value: 0.2513218559013042 and parameters: {'alpha': 0.2513189808255682, 'gamma': 2.5245012265304723e-15, 'kernel': 'linear'}. Best is trial 110 with value: 0.14078383474153056.\n",
      "[I 2023-11-27 13:35:14,955] Trial 190 finished with value: 0.2509748389816238 and parameters: {'alpha': 0.030221642178092395, 'gamma': 3.279182512076849e-15, 'kernel': 'linear'}. Best is trial 110 with value: 0.14078383474153056.\n"
     ]
    },
    {
     "name": "stdout",
     "output_type": "stream",
     "text": [
      "Successfully updated KRR.csv with results of trial 189\n",
      "Successfully updated KRR.csv with results of trial 188\n"
     ]
    },
    {
     "name": "stderr",
     "output_type": "stream",
     "text": [
      "[I 2023-11-27 13:35:16,854] Trial 189 finished with value: 0.2513766981071422 and parameters: {'alpha': 0.411912414012628, 'gamma': 3.878452080085928e-15, 'kernel': 'linear'}. Best is trial 110 with value: 0.14078383474153056.\n"
     ]
    },
    {
     "name": "stdout",
     "output_type": "stream",
     "text": [
      "Successfully updated KRR.csv with results of trial 191\n",
      "Successfully updated KRR.csv with results of trial 192\n"
     ]
    },
    {
     "name": "stderr",
     "output_type": "stream",
     "text": [
      "[I 2023-11-27 13:35:18,469] Trial 191 finished with value: 0.2523195137936488 and parameters: {'alpha': 0.523836673961681, 'gamma': 3.630948948540251e-15, 'kernel': 'linear'}. Best is trial 110 with value: 0.14078383474153056.\n",
      "[I 2023-11-27 13:35:18,482] Trial 192 finished with value: 0.25194424938229715 and parameters: {'alpha': 0.08649679529640421, 'gamma': 2.9487661134101987e-15, 'kernel': 'linear'}. Best is trial 110 with value: 0.14078383474153056.\n"
     ]
    },
    {
     "name": "stdout",
     "output_type": "stream",
     "text": [
      "Successfully updated KRR.csv with results of trial 193\n"
     ]
    },
    {
     "name": "stderr",
     "output_type": "stream",
     "text": [
      "[I 2023-11-27 13:35:19,116] Trial 193 finished with value: 0.2511286474156536 and parameters: {'alpha': 0.05576255867237838, 'gamma': 2.3327732685419855e-15, 'kernel': 'rbf'}. Best is trial 110 with value: 0.14078383474153056.\n",
      "[I 2023-11-27 13:35:19,443] Trial 188 finished with value: 0.25067097407013256 and parameters: {'alpha': 0.5295501499625161, 'gamma': 5.71083330530027e-17, 'kernel': 'linear'}. Best is trial 110 with value: 0.14078383474153056.\n"
     ]
    },
    {
     "name": "stdout",
     "output_type": "stream",
     "text": [
      "Successfully updated KRR.csv with results of trial 195\n",
      "Successfully updated KRR.csv with results of trial 196\n"
     ]
    },
    {
     "name": "stderr",
     "output_type": "stream",
     "text": [
      "[I 2023-11-27 13:35:22,528] Trial 195 finished with value: 0.252224340448217 and parameters: {'alpha': 0.4202169950287644, 'gamma': 4.910390405425975e-15, 'kernel': 'rbf'}. Best is trial 110 with value: 0.14078383474153056.\n",
      "[I 2023-11-27 13:35:22,758] Trial 196 finished with value: 0.24987846494402752 and parameters: {'alpha': 0.08210450636469667, 'gamma': 2.899414305120998e-15, 'kernel': 'rbf'}. Best is trial 110 with value: 0.14078383474153056.\n"
     ]
    },
    {
     "name": "stdout",
     "output_type": "stream",
     "text": [
      "Successfully updated KRR.csv with results of trial 194\n",
      "Successfully updated KRR.csv with results of trial 197\n",
      "Successfully updated KRR.csv with results of trial 199\n"
     ]
    },
    {
     "name": "stderr",
     "output_type": "stream",
     "text": [
      "[I 2023-11-27 13:35:23,514] Trial 194 finished with value: 0.2510151202597815 and parameters: {'alpha': 0.04205515171292832, 'gamma': 2.82306089534605e-15, 'kernel': 'rbf'}. Best is trial 110 with value: 0.14078383474153056.\n"
     ]
    },
    {
     "name": "stdout",
     "output_type": "stream",
     "text": [
      "Successfully updated KRR.csv with results of trial 200\n"
     ]
    },
    {
     "name": "stderr",
     "output_type": "stream",
     "text": [
      "[I 2023-11-27 13:35:25,115] Trial 199 finished with value: 0.25098197369890607 and parameters: {'alpha': 0.4218992961376936, 'gamma': 2.7905739398262258e-15, 'kernel': 'rbf'}. Best is trial 110 with value: 0.14078383474153056.\n",
      "[I 2023-11-27 13:35:25,535] Trial 200 finished with value: 0.2505866736119396 and parameters: {'alpha': 0.07321503059759901, 'gamma': 9.340826197621594e-15, 'kernel': 'rbf'}. Best is trial 110 with value: 0.14078383474153056.\n",
      "[I 2023-11-27 13:35:26,070] Trial 197 finished with value: 0.25258158594396224 and parameters: {'alpha': 0.06405229568178877, 'gamma': 1.8224462934170316e-15, 'kernel': 'rbf'}. Best is trial 110 with value: 0.14078383474153056.\n"
     ]
    },
    {
     "name": "stdout",
     "output_type": "stream",
     "text": [
      "Successfully updated KRR.csv with results of trial 198\n",
      "Successfully updated KRR.csv with results of trial 202\n"
     ]
    },
    {
     "name": "stderr",
     "output_type": "stream",
     "text": [
      "[I 2023-11-27 13:35:28,016] Trial 198 finished with value: 0.25128459146876586 and parameters: {'alpha': 0.09761437682704253, 'gamma': 2.2497659031357827e-15, 'kernel': 'rbf'}. Best is trial 110 with value: 0.14078383474153056.\n",
      "[I 2023-11-27 13:35:28,380] Trial 202 finished with value: 0.25118381588441147 and parameters: {'alpha': 0.4796542501103193, 'gamma': 1.783262527012392e-15, 'kernel': 'rbf'}. Best is trial 110 with value: 0.14078383474153056.\n"
     ]
    },
    {
     "name": "stdout",
     "output_type": "stream",
     "text": [
      "Successfully updated KRR.csv with results of trial 203\n",
      "Successfully updated KRR.csv with results of trial 205\n"
     ]
    },
    {
     "name": "stderr",
     "output_type": "stream",
     "text": [
      "[I 2023-11-27 13:35:30,640] Trial 203 finished with value: 0.24997639253781548 and parameters: {'alpha': 0.2942017329507482, 'gamma': 1.7527409375638362e-15, 'kernel': 'rbf'}. Best is trial 110 with value: 0.14078383474153056.\n",
      "[I 2023-11-27 13:35:31,129] Trial 205 finished with value: 0.25155197426282166 and parameters: {'alpha': 0.2922025312360874, 'gamma': 9.756671638848661e-15, 'kernel': 'rbf'}. Best is trial 110 with value: 0.14078383474153056.\n"
     ]
    },
    {
     "name": "stdout",
     "output_type": "stream",
     "text": [
      "Successfully updated KRR.csv with results of trial 204\n",
      "Successfully updated KRR.csv with results of trial 201\n",
      "Successfully updated KRR.csv with results of trial 206\n"
     ]
    },
    {
     "name": "stderr",
     "output_type": "stream",
     "text": [
      "[I 2023-11-27 13:35:32,506] Trial 201 finished with value: 0.2516301270156564 and parameters: {'alpha': 0.29466622733478426, 'gamma': 2.251482604133909e-15, 'kernel': 'rbf'}. Best is trial 110 with value: 0.14078383474153056.\n",
      "[I 2023-11-27 13:35:32,648] Trial 204 finished with value: 0.2501125495589544 and parameters: {'alpha': 0.29495767292209657, 'gamma': 9.617216800897244e-15, 'kernel': 'rbf'}. Best is trial 110 with value: 0.14078383474153056.\n",
      "[I 2023-11-27 13:35:33,428] Trial 206 finished with value: 0.25051107496287867 and parameters: {'alpha': 0.28958015930508124, 'gamma': 1.8043470763121332e-15, 'kernel': 'rbf'}. Best is trial 110 with value: 0.14078383474153056.\n"
     ]
    },
    {
     "name": "stdout",
     "output_type": "stream",
     "text": [
      "Successfully updated KRR.csv with results of trial 208\n",
      "Successfully updated KRR.csv with results of trial 209\n"
     ]
    },
    {
     "name": "stderr",
     "output_type": "stream",
     "text": [
      "[I 2023-11-27 13:35:34,795] Trial 209 finished with value: 0.25088101464774043 and parameters: {'alpha': 0.2886772698381216, 'gamma': 1.8218725595315287e-15, 'kernel': 'laplacian'}. Best is trial 110 with value: 0.14078383474153056.\n",
      "[I 2023-11-27 13:35:35,169] Trial 208 finished with value: 0.2510103112795854 and parameters: {'alpha': 0.2950232479152225, 'gamma': 1.7623929198420214e-15, 'kernel': 'laplacian'}. Best is trial 110 with value: 0.14078383474153056.\n"
     ]
    },
    {
     "name": "stdout",
     "output_type": "stream",
     "text": [
      "Successfully updated KRR.csv with results of trial 207\n",
      "Successfully updated KRR.csv with results of trial 210\n"
     ]
    },
    {
     "name": "stderr",
     "output_type": "stream",
     "text": [
      "[I 2023-11-27 13:35:36,543] Trial 207 finished with value: 0.25120743809265994 and parameters: {'alpha': 0.2928734927054174, 'gamma': 9.694119885450856e-15, 'kernel': 'laplacian'}. Best is trial 110 with value: 0.14078383474153056.\n",
      "[I 2023-11-27 13:35:38,006] Trial 210 finished with value: 0.2504839740288653 and parameters: {'alpha': 0.18849776883577182, 'gamma': 1.1468987398854783e-15, 'kernel': 'laplacian'}. Best is trial 110 with value: 0.14078383474153056.\n"
     ]
    },
    {
     "name": "stdout",
     "output_type": "stream",
     "text": [
      "Successfully updated KRR.csv with results of trial 212\n"
     ]
    },
    {
     "name": "stderr",
     "output_type": "stream",
     "text": [
      "[I 2023-11-27 13:35:38,928] Trial 212 finished with value: 0.2510967328304054 and parameters: {'alpha': 0.2952982562521067, 'gamma': 1.230269494728799e-15, 'kernel': 'laplacian'}. Best is trial 110 with value: 0.14078383474153056.\n"
     ]
    },
    {
     "name": "stdout",
     "output_type": "stream",
     "text": [
      "Successfully updated KRR.csv with results of trial 211\n"
     ]
    },
    {
     "name": "stderr",
     "output_type": "stream",
     "text": [
      "[I 2023-11-27 13:35:39,329] Trial 211 finished with value: 0.25167813852459286 and parameters: {'alpha': 0.21398600296425008, 'gamma': 1.1647979878892925e-15, 'kernel': 'laplacian'}. Best is trial 110 with value: 0.14078383474153056.\n"
     ]
    },
    {
     "name": "stdout",
     "output_type": "stream",
     "text": [
      "Successfully updated KRR.csv with results of trial 213\n"
     ]
    },
    {
     "name": "stderr",
     "output_type": "stream",
     "text": [
      "[I 2023-11-27 13:35:41,060] Trial 213 finished with value: 0.25056577190348467 and parameters: {'alpha': 0.20452894317334266, 'gamma': 8.258198189921928e-15, 'kernel': 'laplacian'}. Best is trial 110 with value: 0.14078383474153056.\n",
      "[I 2023-11-27 13:35:41,548] Trial 214 finished with value: 0.25165672279966605 and parameters: {'alpha': 0.20174522834094616, 'gamma': 1.1300804042501393e-15, 'kernel': 'laplacian'}. Best is trial 110 with value: 0.14078383474153056.\n"
     ]
    },
    {
     "name": "stdout",
     "output_type": "stream",
     "text": [
      "Successfully updated KRR.csv with results of trial 214\n"
     ]
    },
    {
     "name": "stderr",
     "output_type": "stream",
     "text": [
      "[I 2023-11-27 13:35:42,377] Trial 215 finished with value: 0.25070598496078506 and parameters: {'alpha': 0.21797893640252858, 'gamma': 1.1314453132644052e-15, 'kernel': 'laplacian'}. Best is trial 110 with value: 0.14078383474153056.\n"
     ]
    },
    {
     "name": "stdout",
     "output_type": "stream",
     "text": [
      "Successfully updated KRR.csv with results of trial 215\n"
     ]
    },
    {
     "name": "stderr",
     "output_type": "stream",
     "text": [
      "[I 2023-11-27 13:35:42,705] Trial 216 finished with value: 0.2526780090727481 and parameters: {'alpha': 0.1942621932649761, 'gamma': 1.1572446171965262e-15, 'kernel': 'laplacian'}. Best is trial 110 with value: 0.14078383474153056.\n"
     ]
    },
    {
     "name": "stdout",
     "output_type": "stream",
     "text": [
      "Successfully updated KRR.csv with results of trial 216\n"
     ]
    },
    {
     "name": "stderr",
     "output_type": "stream",
     "text": [
      "[I 2023-11-27 13:35:43,207] Trial 218 finished with value: 0.2505683385779937 and parameters: {'alpha': 0.20664029477930657, 'gamma': 1.158876129770173e-15, 'kernel': 'laplacian'}. Best is trial 110 with value: 0.14078383474153056.\n"
     ]
    },
    {
     "name": "stdout",
     "output_type": "stream",
     "text": [
      "Successfully updated KRR.csv with results of trial 218\n"
     ]
    },
    {
     "name": "stderr",
     "output_type": "stream",
     "text": [
      "[I 2023-11-27 13:35:43,474] Trial 219 finished with value: 0.2516217058032431 and parameters: {'alpha': 0.20194835071996386, 'gamma': 1.2051083604503775e-15, 'kernel': 'laplacian'}. Best is trial 110 with value: 0.14078383474153056.\n",
      "[I 2023-11-27 13:35:43,490] Trial 217 finished with value: 0.2516139403843449 and parameters: {'alpha': 0.19582018139448581, 'gamma': 1.1724936456878587e-15, 'kernel': 'laplacian'}. Best is trial 110 with value: 0.14078383474153056.\n"
     ]
    },
    {
     "name": "stdout",
     "output_type": "stream",
     "text": [
      "Successfully updated KRR.csv with results of trial 219\n",
      "Successfully updated KRR.csv with results of trial 217\n",
      "random RLM GB\n"
     ]
    },
    {
     "name": "stderr",
     "output_type": "stream",
     "text": [
      "[I 2023-11-27 13:35:43,752] Using an existing study with name 'GB' instead of creating a new one.\n",
      "[I 2023-11-27 13:36:21,086] Trial 120 finished with value: 0.24311144365433654 and parameters: {'n_estimators': 20, 'learning_rate': 0.2403022843163937, 'max_depth': 5}. Best is trial 18 with value: 0.11015494653723151.\n"
     ]
    },
    {
     "name": "stdout",
     "output_type": "stream",
     "text": [
      "Successfully created GB.csv with results of trial 120 as the first entry\n"
     ]
    },
    {
     "name": "stderr",
     "output_type": "stream",
     "text": [
      "[I 2023-11-27 13:36:21,435] Trial 124 finished with value: 0.24454676777894604 and parameters: {'n_estimators': 20, 'learning_rate': 0.2474135166093629, 'max_depth': 5}. Best is trial 18 with value: 0.11015494653723151.\n"
     ]
    },
    {
     "name": "stdout",
     "output_type": "stream",
     "text": [
      "Successfully updated GB.csv with results of trial 124\n"
     ]
    },
    {
     "name": "stderr",
     "output_type": "stream",
     "text": [
      "[I 2023-11-27 13:36:21,746] Trial 128 finished with value: 0.2458535349008677 and parameters: {'n_estimators': 20, 'learning_rate': 0.23813813105915005, 'max_depth': 5}. Best is trial 18 with value: 0.11015494653723151.\n"
     ]
    },
    {
     "name": "stdout",
     "output_type": "stream",
     "text": [
      "Successfully updated GB.csv with results of trial 128\n",
      "Successfully updated GB.csv with results of trial 131\n"
     ]
    },
    {
     "name": "stderr",
     "output_type": "stream",
     "text": [
      "[I 2023-11-27 13:36:21,924] Trial 131 finished with value: 0.24312086779629072 and parameters: {'n_estimators': 20, 'learning_rate': 0.32063848103413717, 'max_depth': 5}. Best is trial 18 with value: 0.11015494653723151.\n",
      "[I 2023-11-27 13:36:22,331] Trial 127 finished with value: 0.24298545110833544 and parameters: {'n_estimators': 20, 'learning_rate': 0.25141890578769893, 'max_depth': 5}. Best is trial 18 with value: 0.11015494653723151.\n"
     ]
    },
    {
     "name": "stdout",
     "output_type": "stream",
     "text": [
      "Successfully updated GB.csv with results of trial 127\n",
      "Successfully updated GB.csv with results of trial 123\n"
     ]
    },
    {
     "name": "stderr",
     "output_type": "stream",
     "text": [
      "[I 2023-11-27 13:36:22,457] Trial 123 finished with value: 0.24316532607677802 and parameters: {'n_estimators': 20, 'learning_rate': 0.3019586461423606, 'max_depth': 5}. Best is trial 18 with value: 0.11015494653723151.\n",
      "[I 2023-11-27 13:36:28,810] Trial 129 finished with value: 0.24449427590444964 and parameters: {'n_estimators': 20, 'learning_rate': 0.23369986812421212, 'max_depth': 5}. Best is trial 18 with value: 0.11015494653723151.\n",
      "[I 2023-11-27 13:36:28,882] Trial 122 finished with value: 0.2431774651549433 and parameters: {'n_estimators': 20, 'learning_rate': 0.23322107168794487, 'max_depth': 5}. Best is trial 18 with value: 0.11015494653723151.\n"
     ]
    },
    {
     "name": "stdout",
     "output_type": "stream",
     "text": [
      "Successfully updated GB.csv with results of trial 129\n",
      "Successfully updated GB.csv with results of trial 122\n",
      "Successfully updated GB.csv with results of trial 121\n",
      "Successfully updated GB.csv with results of trial 126\n",
      "Successfully updated GB.csv with results of trial 130\n"
     ]
    },
    {
     "name": "stderr",
     "output_type": "stream",
     "text": [
      "[I 2023-11-27 13:36:29,436] Trial 121 finished with value: 0.24285380605103477 and parameters: {'n_estimators': 20, 'learning_rate': 0.2377956312123699, 'max_depth': 5}. Best is trial 18 with value: 0.11015494653723151.\n"
     ]
    },
    {
     "name": "stdout",
     "output_type": "stream",
     "text": [
      "Successfully updated GB.csv with results of trial 125\n"
     ]
    },
    {
     "name": "stderr",
     "output_type": "stream",
     "text": [
      "[I 2023-11-27 13:36:29,455] Trial 125 finished with value: 0.24242668644902413 and parameters: {'n_estimators': 20, 'learning_rate': 0.2518961769786089, 'max_depth': 5}. Best is trial 18 with value: 0.11015494653723151.\n",
      "[I 2023-11-27 13:36:29,632] Trial 130 finished with value: 0.2428230271078635 and parameters: {'n_estimators': 20, 'learning_rate': 0.3180903739929797, 'max_depth': 5}. Best is trial 18 with value: 0.11015494653723151.\n",
      "[I 2023-11-27 13:36:29,711] Trial 126 finished with value: 0.24387992484525434 and parameters: {'n_estimators': 20, 'learning_rate': 0.3203734908941895, 'max_depth': 5}. Best is trial 18 with value: 0.11015494653723151.\n",
      "[I 2023-11-27 13:37:01,009] Trial 132 finished with value: 0.24297131274514924 and parameters: {'n_estimators': 200, 'learning_rate': 0.24829975264063037, 'max_depth': 5}. Best is trial 18 with value: 0.11015494653723151.\n"
     ]
    },
    {
     "name": "stdout",
     "output_type": "stream",
     "text": [
      "Successfully updated GB.csv with results of trial 132\n",
      "Successfully updated GB.csv with results of trial 135\n"
     ]
    },
    {
     "name": "stderr",
     "output_type": "stream",
     "text": [
      "[I 2023-11-27 13:37:01,165] Trial 135 finished with value: 0.2434621675407279 and parameters: {'n_estimators': 200, 'learning_rate': 0.2993875498364095, 'max_depth': 5}. Best is trial 18 with value: 0.11015494653723151.\n",
      "[I 2023-11-27 13:37:01,417] Trial 133 finished with value: 0.2435928576125281 and parameters: {'n_estimators': 200, 'learning_rate': 0.3226858783302676, 'max_depth': 5}. Best is trial 18 with value: 0.11015494653723151.\n"
     ]
    },
    {
     "name": "stdout",
     "output_type": "stream",
     "text": [
      "Successfully updated GB.csv with results of trial 133\n",
      "Successfully updated GB.csv with results of trial 134\n"
     ]
    },
    {
     "name": "stderr",
     "output_type": "stream",
     "text": [
      "[I 2023-11-27 13:37:01,543] Trial 134 finished with value: 0.2424072563824394 and parameters: {'n_estimators': 200, 'learning_rate': 0.3200332955401214, 'max_depth': 5}. Best is trial 18 with value: 0.11015494653723151.\n",
      "[I 2023-11-27 13:37:02,015] Trial 137 finished with value: 0.2451854814824301 and parameters: {'n_estimators': 200, 'learning_rate': 0.20642352856137905, 'max_depth': 5}. Best is trial 18 with value: 0.11015494653723151.\n"
     ]
    },
    {
     "name": "stdout",
     "output_type": "stream",
     "text": [
      "Successfully updated GB.csv with results of trial 137\n"
     ]
    },
    {
     "name": "stderr",
     "output_type": "stream",
     "text": [
      "[I 2023-11-27 13:37:02,379] Trial 136 finished with value: 0.242358724348863 and parameters: {'n_estimators': 200, 'learning_rate': 0.19764722064294438, 'max_depth': 5}. Best is trial 18 with value: 0.11015494653723151.\n"
     ]
    },
    {
     "name": "stdout",
     "output_type": "stream",
     "text": [
      "Successfully updated GB.csv with results of trial 136\n"
     ]
    },
    {
     "name": "stderr",
     "output_type": "stream",
     "text": [
      "[I 2023-11-27 13:37:12,842] Trial 139 finished with value: 0.24421175442577384 and parameters: {'n_estimators': 200, 'learning_rate': 0.33325589858371624, 'max_depth': 5}. Best is trial 18 with value: 0.11015494653723151.\n"
     ]
    },
    {
     "name": "stdout",
     "output_type": "stream",
     "text": [
      "Successfully updated GB.csv with results of trial 139\n"
     ]
    },
    {
     "name": "stderr",
     "output_type": "stream",
     "text": [
      "[I 2023-11-27 13:37:13,450] Trial 138 finished with value: 0.24463423000690201 and parameters: {'n_estimators': 200, 'learning_rate': 0.2012601269070997, 'max_depth': 5}. Best is trial 18 with value: 0.11015494653723151.\n"
     ]
    },
    {
     "name": "stdout",
     "output_type": "stream",
     "text": [
      "Successfully updated GB.csv with results of trial 138\n"
     ]
    },
    {
     "name": "stderr",
     "output_type": "stream",
     "text": [
      "[I 2023-11-27 13:37:13,737] Trial 143 finished with value: 0.2431715790059592 and parameters: {'n_estimators': 200, 'learning_rate': 0.3314233771048953, 'max_depth': 4}. Best is trial 18 with value: 0.11015494653723151.\n"
     ]
    },
    {
     "name": "stdout",
     "output_type": "stream",
     "text": [
      "Successfully updated GB.csv with results of trial 143\n"
     ]
    },
    {
     "name": "stderr",
     "output_type": "stream",
     "text": [
      "[I 2023-11-27 13:37:14,008] Trial 142 finished with value: 0.24219224611800108 and parameters: {'n_estimators': 200, 'learning_rate': 0.327852337574329, 'max_depth': 4}. Best is trial 18 with value: 0.11015494653723151.\n"
     ]
    },
    {
     "name": "stdout",
     "output_type": "stream",
     "text": [
      "Successfully updated GB.csv with results of trial 142\n",
      "Successfully updated GB.csv with results of trial 141\n"
     ]
    },
    {
     "name": "stderr",
     "output_type": "stream",
     "text": [
      "[I 2023-11-27 13:37:14,164] Trial 141 finished with value: 0.24393898534811997 and parameters: {'n_estimators': 200, 'learning_rate': 0.3319029584442292, 'max_depth': 5}. Best is trial 18 with value: 0.11015494653723151.\n",
      "[I 2023-11-27 13:37:14,569] Trial 140 finished with value: 0.243339873499806 and parameters: {'n_estimators': 200, 'learning_rate': 0.3272931300060255, 'max_depth': 4}. Best is trial 18 with value: 0.11015494653723151.\n"
     ]
    },
    {
     "name": "stdout",
     "output_type": "stream",
     "text": [
      "Successfully updated GB.csv with results of trial 140\n"
     ]
    },
    {
     "name": "stderr",
     "output_type": "stream",
     "text": [
      "[I 2023-11-27 13:37:34,513] Trial 144 finished with value: 0.2430977332229625 and parameters: {'n_estimators': 200, 'learning_rate': 0.3302696152456174, 'max_depth': 4}. Best is trial 18 with value: 0.11015494653723151.\n"
     ]
    },
    {
     "name": "stdout",
     "output_type": "stream",
     "text": [
      "Successfully updated GB.csv with results of trial 144\n"
     ]
    },
    {
     "name": "stderr",
     "output_type": "stream",
     "text": [
      "[I 2023-11-27 13:37:34,828] Trial 145 finished with value: 0.24241349523270597 and parameters: {'n_estimators': 200, 'learning_rate': 0.3312994470953296, 'max_depth': 5}. Best is trial 18 with value: 0.11015494653723151.\n"
     ]
    },
    {
     "name": "stdout",
     "output_type": "stream",
     "text": [
      "Successfully updated GB.csv with results of trial 145\n",
      "Successfully updated GB.csv with results of trial 146\n"
     ]
    },
    {
     "name": "stderr",
     "output_type": "stream",
     "text": [
      "[I 2023-11-27 13:37:35,013] Trial 146 finished with value: 0.24326472012557246 and parameters: {'n_estimators': 200, 'learning_rate': 0.3715348372856079, 'max_depth': 4}. Best is trial 18 with value: 0.11015494653723151.\n",
      "[I 2023-11-27 13:37:35,194] Trial 147 finished with value: 0.24343055241997677 and parameters: {'n_estimators': 200, 'learning_rate': 0.3697363126199601, 'max_depth': 4}. Best is trial 18 with value: 0.11015494653723151.\n"
     ]
    },
    {
     "name": "stdout",
     "output_type": "stream",
     "text": [
      "Successfully updated GB.csv with results of trial 147\n"
     ]
    },
    {
     "name": "stderr",
     "output_type": "stream",
     "text": [
      "[I 2023-11-27 13:37:35,389] Trial 148 finished with value: 0.2426592274531645 and parameters: {'n_estimators': 10, 'learning_rate': 0.3733816442927247, 'max_depth': 5}. Best is trial 18 with value: 0.11015494653723151.\n"
     ]
    },
    {
     "name": "stdout",
     "output_type": "stream",
     "text": [
      "Successfully updated GB.csv with results of trial 148\n"
     ]
    },
    {
     "name": "stderr",
     "output_type": "stream",
     "text": [
      "[I 2023-11-27 13:37:35,669] Trial 149 finished with value: 0.24315309008390892 and parameters: {'n_estimators': 10, 'learning_rate': 0.42740869756915945, 'max_depth': 4}. Best is trial 18 with value: 0.11015494653723151.\n"
     ]
    },
    {
     "name": "stdout",
     "output_type": "stream",
     "text": [
      "Successfully updated GB.csv with results of trial 149\n"
     ]
    },
    {
     "name": "stderr",
     "output_type": "stream",
     "text": [
      "[I 2023-11-27 13:37:55,175] Trial 150 finished with value: 0.24363865429053919 and parameters: {'n_estimators': 10, 'learning_rate': 0.3729501547872085, 'max_depth': 2}. Best is trial 18 with value: 0.11015494653723151.\n"
     ]
    },
    {
     "name": "stdout",
     "output_type": "stream",
     "text": [
      "Successfully updated GB.csv with results of trial 150\n"
     ]
    },
    {
     "name": "stderr",
     "output_type": "stream",
     "text": [
      "[I 2023-11-27 13:37:56,560] Trial 151 finished with value: 0.24325939254081172 and parameters: {'n_estimators': 50, 'learning_rate': 0.4334732994790419, 'max_depth': 4}. Best is trial 18 with value: 0.11015494653723151.\n",
      "[I 2023-11-27 13:37:56,663] Trial 153 finished with value: 0.24405578949977969 and parameters: {'n_estimators': 500, 'learning_rate': 0.4381755356508905, 'max_depth': 2}. Best is trial 18 with value: 0.11015494653723151.\n"
     ]
    },
    {
     "name": "stdout",
     "output_type": "stream",
     "text": [
      "Successfully updated GB.csv with results of trial 151\n",
      "Successfully updated GB.csv with results of trial 153\n"
     ]
    },
    {
     "name": "stderr",
     "output_type": "stream",
     "text": [
      "[I 2023-11-27 13:37:56,986] Trial 152 finished with value: 0.24332102551518217 and parameters: {'n_estimators': 500, 'learning_rate': 0.42527565615759644, 'max_depth': 2}. Best is trial 18 with value: 0.11015494653723151.\n"
     ]
    },
    {
     "name": "stdout",
     "output_type": "stream",
     "text": [
      "Successfully updated GB.csv with results of trial 152\n"
     ]
    },
    {
     "name": "stderr",
     "output_type": "stream",
     "text": [
      "[I 2023-11-27 13:37:57,197] Trial 154 finished with value: 0.24334223070486802 and parameters: {'n_estimators': 500, 'learning_rate': 0.3692793037821035, 'max_depth': 2}. Best is trial 18 with value: 0.11015494653723151.\n"
     ]
    },
    {
     "name": "stdout",
     "output_type": "stream",
     "text": [
      "Successfully updated GB.csv with results of trial 154\n",
      "Successfully updated GB.csv with results of trial 155\n"
     ]
    },
    {
     "name": "stderr",
     "output_type": "stream",
     "text": [
      "[I 2023-11-27 13:37:57,323] Trial 155 finished with value: 0.2432778581639193 and parameters: {'n_estimators': 500, 'learning_rate': 0.43385175785156205, 'max_depth': 2}. Best is trial 18 with value: 0.11015494653723151.\n",
      "[I 2023-11-27 13:38:12,362] Trial 157 finished with value: 0.24206233581328104 and parameters: {'n_estimators': 500, 'learning_rate': 0.43481391168741645, 'max_depth': 2}. Best is trial 18 with value: 0.11015494653723151.\n"
     ]
    },
    {
     "name": "stdout",
     "output_type": "stream",
     "text": [
      "Successfully updated GB.csv with results of trial 157\n",
      "Successfully updated GB.csv with results of trial 156\n"
     ]
    },
    {
     "name": "stderr",
     "output_type": "stream",
     "text": [
      "[I 2023-11-27 13:38:12,519] Trial 156 finished with value: 0.24355541251217763 and parameters: {'n_estimators': 500, 'learning_rate': 0.43163669146671896, 'max_depth': 2}. Best is trial 18 with value: 0.11015494653723151.\n",
      "[I 2023-11-27 13:38:12,835] Trial 158 finished with value: 0.24351492157645502 and parameters: {'n_estimators': 500, 'learning_rate': 0.4351645518575367, 'max_depth': 5}. Best is trial 18 with value: 0.11015494653723151.\n"
     ]
    },
    {
     "name": "stdout",
     "output_type": "stream",
     "text": [
      "Successfully updated GB.csv with results of trial 158\n"
     ]
    },
    {
     "name": "stderr",
     "output_type": "stream",
     "text": [
      "[I 2023-11-27 13:38:13,687] Trial 159 finished with value: 0.24343244252029686 and parameters: {'n_estimators': 500, 'learning_rate': 0.44325369321526426, 'max_depth': 2}. Best is trial 18 with value: 0.11015494653723151.\n"
     ]
    },
    {
     "name": "stdout",
     "output_type": "stream",
     "text": [
      "Successfully updated GB.csv with results of trial 159\n"
     ]
    },
    {
     "name": "stderr",
     "output_type": "stream",
     "text": [
      "[I 2023-11-27 13:38:13,955] Trial 160 finished with value: 0.2430668998776749 and parameters: {'n_estimators': 500, 'learning_rate': 0.41980304571657623, 'max_depth': 2}. Best is trial 18 with value: 0.11015494653723151.\n"
     ]
    },
    {
     "name": "stdout",
     "output_type": "stream",
     "text": [
      "Successfully updated GB.csv with results of trial 160\n",
      "Successfully updated GB.csv with results of trial 161\n"
     ]
    },
    {
     "name": "stderr",
     "output_type": "stream",
     "text": [
      "[I 2023-11-27 13:38:14,128] Trial 161 finished with value: 0.2445949314388626 and parameters: {'n_estimators': 500, 'learning_rate': 0.4138685811054663, 'max_depth': 2}. Best is trial 18 with value: 0.11015494653723151.\n",
      "[I 2023-11-27 13:38:38,782] Trial 162 finished with value: 0.2432377484366187 and parameters: {'n_estimators': 500, 'learning_rate': 0.4355123193474181, 'max_depth': 5}. Best is trial 18 with value: 0.11015494653723151.\n"
     ]
    },
    {
     "name": "stdout",
     "output_type": "stream",
     "text": [
      "Successfully updated GB.csv with results of trial 162\n"
     ]
    },
    {
     "name": "stderr",
     "output_type": "stream",
     "text": [
      "[I 2023-11-27 13:38:40,308] Trial 164 finished with value: 0.24289823418776305 and parameters: {'n_estimators': 500, 'learning_rate': 0.2947576884676531, 'max_depth': 5}. Best is trial 18 with value: 0.11015494653723151.\n"
     ]
    },
    {
     "name": "stdout",
     "output_type": "stream",
     "text": [
      "Successfully updated GB.csv with results of trial 164\n"
     ]
    },
    {
     "name": "stderr",
     "output_type": "stream",
     "text": [
      "[I 2023-11-27 13:38:40,751] Trial 165 finished with value: 0.2436398253705915 and parameters: {'n_estimators': 500, 'learning_rate': 0.29637528308161987, 'max_depth': 5}. Best is trial 18 with value: 0.11015494653723151.\n"
     ]
    },
    {
     "name": "stdout",
     "output_type": "stream",
     "text": [
      "Successfully updated GB.csv with results of trial 165\n",
      "Successfully updated GB.csv with results of trial 163\n"
     ]
    },
    {
     "name": "stderr",
     "output_type": "stream",
     "text": [
      "[I 2023-11-27 13:38:40,940] Trial 163 finished with value: 0.2430374717380058 and parameters: {'n_estimators': 500, 'learning_rate': 0.41345672338398015, 'max_depth': 5}. Best is trial 18 with value: 0.11015494653723151.\n",
      "[I 2023-11-27 13:38:41,097] Trial 167 finished with value: 0.24288604225636998 and parameters: {'n_estimators': 500, 'learning_rate': 0.28908684279865604, 'max_depth': 5}. Best is trial 18 with value: 0.11015494653723151.\n",
      "[I 2023-11-27 13:38:41,128] Trial 166 finished with value: 0.2433024342074556 and parameters: {'n_estimators': 500, 'learning_rate': 0.2918941846031231, 'max_depth': 5}. Best is trial 18 with value: 0.11015494653723151.\n"
     ]
    },
    {
     "name": "stdout",
     "output_type": "stream",
     "text": [
      "Successfully updated GB.csv with results of trial 167\n",
      "Successfully updated GB.csv with results of trial 166\n"
     ]
    },
    {
     "name": "stderr",
     "output_type": "stream",
     "text": [
      "[I 2023-11-27 13:38:49,454] Trial 168 finished with value: 0.24447713829256412 and parameters: {'n_estimators': 500, 'learning_rate': 0.29658515582229844, 'max_depth': 5}. Best is trial 18 with value: 0.11015494653723151.\n"
     ]
    },
    {
     "name": "stdout",
     "output_type": "stream",
     "text": [
      "Successfully updated GB.csv with results of trial 168\n"
     ]
    },
    {
     "name": "stderr",
     "output_type": "stream",
     "text": [
      "[I 2023-11-27 13:38:49,744] Trial 170 finished with value: 0.2429837559037279 and parameters: {'n_estimators': 20, 'learning_rate': 0.2858310731938857, 'max_depth': 5}. Best is trial 18 with value: 0.11015494653723151.\n"
     ]
    },
    {
     "name": "stdout",
     "output_type": "stream",
     "text": [
      "Successfully updated GB.csv with results of trial 170\n",
      "Successfully updated GB.csv with results of trial 169\n"
     ]
    },
    {
     "name": "stderr",
     "output_type": "stream",
     "text": [
      "[I 2023-11-27 13:38:49,921] Trial 169 finished with value: 0.24257425601454727 and parameters: {'n_estimators': 20, 'learning_rate': 0.29272705728035836, 'max_depth': 5}. Best is trial 18 with value: 0.11015494653723151.\n",
      "[I 2023-11-27 13:38:50,709] Trial 171 finished with value: 0.2444448093152247 and parameters: {'n_estimators': 20, 'learning_rate': 0.4043935498710328, 'max_depth': 5}. Best is trial 18 with value: 0.11015494653723151.\n"
     ]
    },
    {
     "name": "stdout",
     "output_type": "stream",
     "text": [
      "Successfully updated GB.csv with results of trial 171\n",
      "Successfully updated GB.csv with results of trial 173\n"
     ]
    },
    {
     "name": "stderr",
     "output_type": "stream",
     "text": [
      "[I 2023-11-27 13:38:50,841] Trial 173 finished with value: 0.24271204751642458 and parameters: {'n_estimators': 20, 'learning_rate': 0.29098806618356465, 'max_depth': 3}. Best is trial 18 with value: 0.11015494653723151.\n",
      "[I 2023-11-27 13:38:51,146] Trial 172 finished with value: 0.24217012059846918 and parameters: {'n_estimators': 50, 'learning_rate': 0.29305207134460487, 'max_depth': 3}. Best is trial 18 with value: 0.11015494653723151.\n"
     ]
    },
    {
     "name": "stdout",
     "output_type": "stream",
     "text": [
      "Successfully updated GB.csv with results of trial 172\n"
     ]
    },
    {
     "name": "stderr",
     "output_type": "stream",
     "text": [
      "[I 2023-11-27 13:39:27,669] Trial 174 finished with value: 0.243765178262246 and parameters: {'n_estimators': 50, 'learning_rate': 0.2877726162045732, 'max_depth': 3}. Best is trial 18 with value: 0.11015494653723151.\n"
     ]
    },
    {
     "name": "stdout",
     "output_type": "stream",
     "text": [
      "Successfully updated GB.csv with results of trial 174\n"
     ]
    },
    {
     "name": "stderr",
     "output_type": "stream",
     "text": [
      "[I 2023-11-27 13:39:29,310] Trial 175 finished with value: 0.244320197105337 and parameters: {'n_estimators': 20, 'learning_rate': 0.17110628030525488, 'max_depth': 3}. Best is trial 18 with value: 0.11015494653723151.\n"
     ]
    },
    {
     "name": "stdout",
     "output_type": "stream",
     "text": [
      "Successfully updated GB.csv with results of trial 175\n"
     ]
    },
    {
     "name": "stderr",
     "output_type": "stream",
     "text": [
      "[I 2023-11-27 13:39:29,577] Trial 176 finished with value: 0.24303008783304733 and parameters: {'n_estimators': 50, 'learning_rate': 0.16727949133449208, 'max_depth': 3}. Best is trial 18 with value: 0.11015494653723151.\n"
     ]
    },
    {
     "name": "stdout",
     "output_type": "stream",
     "text": [
      "Successfully updated GB.csv with results of trial 176\n"
     ]
    },
    {
     "name": "stderr",
     "output_type": "stream",
     "text": [
      "[I 2023-11-27 13:39:30,365] Trial 177 finished with value: 0.24445648988492807 and parameters: {'n_estimators': 50, 'learning_rate': 0.16583848148952945, 'max_depth': 3}. Best is trial 18 with value: 0.11015494653723151.\n"
     ]
    },
    {
     "name": "stdout",
     "output_type": "stream",
     "text": [
      "Successfully updated GB.csv with results of trial 177\n"
     ]
    },
    {
     "name": "stderr",
     "output_type": "stream",
     "text": [
      "[I 2023-11-27 13:39:30,839] Trial 179 finished with value: 0.24437497037321113 and parameters: {'n_estimators': 50, 'learning_rate': 0.3625008622488866, 'max_depth': 3}. Best is trial 18 with value: 0.11015494653723151.\n"
     ]
    },
    {
     "name": "stdout",
     "output_type": "stream",
     "text": [
      "Successfully updated GB.csv with results of trial 179\n"
     ]
    },
    {
     "name": "stderr",
     "output_type": "stream",
     "text": [
      "[I 2023-11-27 13:39:31,296] Trial 178 finished with value: 0.24313314473358627 and parameters: {'n_estimators': 50, 'learning_rate': 0.12544278916880966, 'max_depth': 3}. Best is trial 18 with value: 0.11015494653723151.\n"
     ]
    },
    {
     "name": "stdout",
     "output_type": "stream",
     "text": [
      "Successfully updated GB.csv with results of trial 178\n"
     ]
    },
    {
     "name": "stderr",
     "output_type": "stream",
     "text": [
      "[I 2023-11-27 13:39:32,965] Trial 180 finished with value: 0.2443504694798411 and parameters: {'n_estimators': 50, 'learning_rate': 0.18785676402345342, 'max_depth': 3}. Best is trial 18 with value: 0.11015494653723151.\n"
     ]
    },
    {
     "name": "stdout",
     "output_type": "stream",
     "text": [
      "Successfully updated GB.csv with results of trial 180\n"
     ]
    },
    {
     "name": "stderr",
     "output_type": "stream",
     "text": [
      "[I 2023-11-27 13:39:33,328] Trial 181 finished with value: 0.2425432715548572 and parameters: {'n_estimators': 50, 'learning_rate': 0.2655438579331437, 'max_depth': 3}. Best is trial 18 with value: 0.11015494653723151.\n"
     ]
    },
    {
     "name": "stdout",
     "output_type": "stream",
     "text": [
      "Successfully updated GB.csv with results of trial 181\n"
     ]
    },
    {
     "name": "stderr",
     "output_type": "stream",
     "text": [
      "[I 2023-11-27 13:39:34,053] Trial 182 finished with value: 0.2428010220792001 and parameters: {'n_estimators': 20, 'learning_rate': 0.26227468283012084, 'max_depth': 3}. Best is trial 18 with value: 0.11015494653723151.\n"
     ]
    },
    {
     "name": "stdout",
     "output_type": "stream",
     "text": [
      "Successfully updated GB.csv with results of trial 182\n"
     ]
    },
    {
     "name": "stderr",
     "output_type": "stream",
     "text": [
      "[I 2023-11-27 13:39:34,432] Trial 185 finished with value: 0.2423403767252513 and parameters: {'n_estimators': 50, 'learning_rate': 0.18314477650022412, 'max_depth': 3}. Best is trial 18 with value: 0.11015494653723151.\n"
     ]
    },
    {
     "name": "stdout",
     "output_type": "stream",
     "text": [
      "Successfully updated GB.csv with results of trial 185\n",
      "Successfully updated GB.csv with results of trial 183\n"
     ]
    },
    {
     "name": "stderr",
     "output_type": "stream",
     "text": [
      "[I 2023-11-27 13:39:34,622] Trial 183 finished with value: 0.2430358494388607 and parameters: {'n_estimators': 50, 'learning_rate': 0.21630424060372064, 'max_depth': 3}. Best is trial 18 with value: 0.11015494653723151.\n"
     ]
    },
    {
     "name": "stdout",
     "output_type": "stream",
     "text": [
      "Successfully updated GB.csv with results of trial 184\n"
     ]
    },
    {
     "name": "stderr",
     "output_type": "stream",
     "text": [
      "[I 2023-11-27 13:39:34,827] Trial 184 finished with value: 0.24363616991633677 and parameters: {'n_estimators': 50, 'learning_rate': 0.17818431197061976, 'max_depth': 3}. Best is trial 18 with value: 0.11015494653723151.\n",
      "[I 2023-11-27 13:40:11,445] Trial 192 finished with value: 0.24281408890250056 and parameters: {'n_estimators': 200, 'learning_rate': 0.21517628552434648, 'max_depth': 5}. Best is trial 18 with value: 0.11015494653723151.\n"
     ]
    },
    {
     "name": "stdout",
     "output_type": "stream",
     "text": [
      "Successfully updated GB.csv with results of trial 192\n"
     ]
    },
    {
     "name": "stderr",
     "output_type": "stream",
     "text": [
      "[I 2023-11-27 13:40:11,699] Trial 193 finished with value: 0.24294873186483448 and parameters: {'n_estimators': 200, 'learning_rate': 0.36222781224879524, 'max_depth': 5}. Best is trial 18 with value: 0.11015494653723151.\n"
     ]
    },
    {
     "name": "stdout",
     "output_type": "stream",
     "text": [
      "Successfully updated GB.csv with results of trial 193\n"
     ]
    },
    {
     "name": "stderr",
     "output_type": "stream",
     "text": [
      "[I 2023-11-27 13:40:12,409] Trial 194 finished with value: 0.2418842305244755 and parameters: {'n_estimators': 200, 'learning_rate': 0.21905701837580388, 'max_depth': 5}. Best is trial 18 with value: 0.11015494653723151.\n",
      "[I 2023-11-27 13:40:12,566] Trial 186 finished with value: 0.2429485455709313 and parameters: {'n_estimators': 50, 'learning_rate': 0.17948341176032362, 'max_depth': 5}. Best is trial 18 with value: 0.11015494653723151.\n"
     ]
    },
    {
     "name": "stdout",
     "output_type": "stream",
     "text": [
      "Successfully updated GB.csv with results of trial 194\n",
      "Successfully updated GB.csv with results of trial 186\n"
     ]
    },
    {
     "name": "stderr",
     "output_type": "stream",
     "text": [
      "[I 2023-11-27 13:40:12,974] Trial 195 finished with value: 0.24346631179665001 and parameters: {'n_estimators': 200, 'learning_rate': 0.35625894454486584, 'max_depth': 5}. Best is trial 18 with value: 0.11015494653723151.\n"
     ]
    },
    {
     "name": "stdout",
     "output_type": "stream",
     "text": [
      "Successfully updated GB.csv with results of trial 195\n"
     ]
    },
    {
     "name": "stderr",
     "output_type": "stream",
     "text": [
      "[I 2023-11-27 13:40:13,489] Trial 196 finished with value: 0.24388065525280078 and parameters: {'n_estimators': 200, 'learning_rate': 0.3637537971317008, 'max_depth': 5}. Best is trial 18 with value: 0.11015494653723151.\n"
     ]
    },
    {
     "name": "stdout",
     "output_type": "stream",
     "text": [
      "Successfully updated GB.csv with results of trial 196\n",
      "Successfully updated GB.csv with results of trial 197\n"
     ]
    },
    {
     "name": "stderr",
     "output_type": "stream",
     "text": [
      "[I 2023-11-27 13:40:13,747] Trial 197 finished with value: 0.24303976970705662 and parameters: {'n_estimators': 200, 'learning_rate': 0.35838684744564314, 'max_depth': 5}. Best is trial 18 with value: 0.11015494653723151.\n",
      "[I 2023-11-27 13:40:13,889] Trial 187 finished with value: 0.24364697676514288 and parameters: {'n_estimators': 50, 'learning_rate': 0.0921381153593817, 'max_depth': 5}. Best is trial 18 with value: 0.11015494653723151.\n"
     ]
    },
    {
     "name": "stdout",
     "output_type": "stream",
     "text": [
      "Successfully updated GB.csv with results of trial 187\n"
     ]
    },
    {
     "name": "stderr",
     "output_type": "stream",
     "text": [
      "[I 2023-11-27 13:40:14,298] Trial 188 finished with value: 0.24412690306617646 and parameters: {'n_estimators': 50, 'learning_rate': 0.2667046810071086, 'max_depth': 5}. Best is trial 18 with value: 0.11015494653723151.\n"
     ]
    },
    {
     "name": "stdout",
     "output_type": "stream",
     "text": [
      "Successfully updated GB.csv with results of trial 188\n"
     ]
    },
    {
     "name": "stderr",
     "output_type": "stream",
     "text": [
      "[I 2023-11-27 13:40:15,353] Trial 189 finished with value: 0.2427301403238559 and parameters: {'n_estimators': 20, 'learning_rate': 0.07619130497575155, 'max_depth': 5}. Best is trial 18 with value: 0.11015494653723151.\n"
     ]
    },
    {
     "name": "stdout",
     "output_type": "stream",
     "text": [
      "Successfully updated GB.csv with results of trial 189\n"
     ]
    },
    {
     "name": "stderr",
     "output_type": "stream",
     "text": [
      "[I 2023-11-27 13:40:16,014] Trial 190 finished with value: 0.24432089613900299 and parameters: {'n_estimators': 20, 'learning_rate': 0.262007134180925, 'max_depth': 5}. Best is trial 18 with value: 0.11015494653723151.\n"
     ]
    },
    {
     "name": "stdout",
     "output_type": "stream",
     "text": [
      "Successfully updated GB.csv with results of trial 190\n"
     ]
    },
    {
     "name": "stderr",
     "output_type": "stream",
     "text": [
      "[I 2023-11-27 13:40:16,502] Trial 191 finished with value: 0.24220587527990567 and parameters: {'n_estimators': 20, 'learning_rate': 0.26582998890089715, 'max_depth': 5}. Best is trial 18 with value: 0.11015494653723151.\n"
     ]
    },
    {
     "name": "stdout",
     "output_type": "stream",
     "text": [
      "Successfully updated GB.csv with results of trial 191\n"
     ]
    },
    {
     "name": "stderr",
     "output_type": "stream",
     "text": [
      "[I 2023-11-27 13:40:51,380] Trial 198 finished with value: 0.24354692443608972 and parameters: {'n_estimators': 200, 'learning_rate': 0.0792210554157506, 'max_depth': 5}. Best is trial 18 with value: 0.11015494653723151.\n"
     ]
    },
    {
     "name": "stdout",
     "output_type": "stream",
     "text": [
      "Successfully updated GB.csv with results of trial 198\n"
     ]
    },
    {
     "name": "stderr",
     "output_type": "stream",
     "text": [
      "[I 2023-11-27 13:40:51,711] Trial 199 finished with value: 0.243212620942312 and parameters: {'n_estimators': 20, 'learning_rate': 0.09423209390263143, 'max_depth': 5}. Best is trial 18 with value: 0.11015494653723151.\n"
     ]
    },
    {
     "name": "stdout",
     "output_type": "stream",
     "text": [
      "Successfully updated GB.csv with results of trial 199\n"
     ]
    },
    {
     "name": "stderr",
     "output_type": "stream",
     "text": [
      "[I 2023-11-27 13:40:52,140] Trial 200 finished with value: 0.24330357766650454 and parameters: {'n_estimators': 20, 'learning_rate': 0.38339354839500434, 'max_depth': 5}. Best is trial 18 with value: 0.11015494653723151.\n"
     ]
    },
    {
     "name": "stdout",
     "output_type": "stream",
     "text": [
      "Successfully updated GB.csv with results of trial 200\n"
     ]
    },
    {
     "name": "stderr",
     "output_type": "stream",
     "text": [
      "[I 2023-11-27 13:40:53,117] Trial 203 finished with value: 0.2428309519044277 and parameters: {'n_estimators': 20, 'learning_rate': 0.09427141038499796, 'max_depth': 5}. Best is trial 18 with value: 0.11015494653723151.\n",
      "[I 2023-11-27 13:40:53,148] Trial 202 finished with value: 0.2438586445598341 and parameters: {'n_estimators': 200, 'learning_rate': 0.10260300912421999, 'max_depth': 5}. Best is trial 18 with value: 0.11015494653723151.\n"
     ]
    },
    {
     "name": "stdout",
     "output_type": "stream",
     "text": [
      "Successfully updated GB.csv with results of trial 203\n",
      "Successfully updated GB.csv with results of trial 202\n",
      "Successfully updated GB.csv with results of trial 204\n"
     ]
    },
    {
     "name": "stderr",
     "output_type": "stream",
     "text": [
      "[I 2023-11-27 13:40:53,604] Trial 204 finished with value: 0.2443680234565593 and parameters: {'n_estimators': 20, 'learning_rate': 0.3843466115718009, 'max_depth': 5}. Best is trial 18 with value: 0.11015494653723151.\n",
      "[I 2023-11-27 13:40:57,972] Trial 201 finished with value: 0.2441015060064785 and parameters: {'n_estimators': 20, 'learning_rate': 0.384098785984974, 'max_depth': 5}. Best is trial 18 with value: 0.11015494653723151.\n"
     ]
    },
    {
     "name": "stdout",
     "output_type": "stream",
     "text": [
      "Successfully updated GB.csv with results of trial 201\n"
     ]
    },
    {
     "name": "stderr",
     "output_type": "stream",
     "text": [
      "[I 2023-11-27 13:40:58,839] Trial 206 finished with value: 0.24376886341825785 and parameters: {'n_estimators': 20, 'learning_rate': 0.3123045553147899, 'max_depth': 5}. Best is trial 18 with value: 0.11015494653723151.\n",
      "[I 2023-11-27 13:40:58,981] Trial 205 finished with value: 0.2429428011615444 and parameters: {'n_estimators': 20, 'learning_rate': 0.3814774735044815, 'max_depth': 5}. Best is trial 18 with value: 0.11015494653723151.\n"
     ]
    },
    {
     "name": "stdout",
     "output_type": "stream",
     "text": [
      "Successfully updated GB.csv with results of trial 206\n",
      "Successfully updated GB.csv with results of trial 205\n"
     ]
    },
    {
     "name": "stderr",
     "output_type": "stream",
     "text": [
      "[I 2023-11-27 13:41:00,745] Trial 207 finished with value: 0.2439032762868032 and parameters: {'n_estimators': 20, 'learning_rate': 0.3856086478725115, 'max_depth': 5}. Best is trial 18 with value: 0.11015494653723151.\n"
     ]
    },
    {
     "name": "stdout",
     "output_type": "stream",
     "text": [
      "Successfully updated GB.csv with results of trial 207\n"
     ]
    },
    {
     "name": "stderr",
     "output_type": "stream",
     "text": [
      "[I 2023-11-27 13:41:01,739] Trial 209 finished with value: 0.2437971424578552 and parameters: {'n_estimators': 200, 'learning_rate': 0.34685676716001, 'max_depth': 5}. Best is trial 18 with value: 0.11015494653723151.\n",
      "[I 2023-11-27 13:41:01,771] Trial 208 finished with value: 0.24335140720813633 and parameters: {'n_estimators': 200, 'learning_rate': 0.3870211300170791, 'max_depth': 5}. Best is trial 18 with value: 0.11015494653723151.\n"
     ]
    },
    {
     "name": "stdout",
     "output_type": "stream",
     "text": [
      "Successfully updated GB.csv with results of trial 209\n",
      "Successfully updated GB.csv with results of trial 208\n"
     ]
    },
    {
     "name": "stderr",
     "output_type": "stream",
     "text": [
      "[I 2023-11-27 13:41:26,178] Trial 210 finished with value: 0.24345492605246102 and parameters: {'n_estimators': 200, 'learning_rate': 0.38444177714538375, 'max_depth': 5}. Best is trial 18 with value: 0.11015494653723151.\n"
     ]
    },
    {
     "name": "stdout",
     "output_type": "stream",
     "text": [
      "Successfully updated GB.csv with results of trial 210\n"
     ]
    },
    {
     "name": "stderr",
     "output_type": "stream",
     "text": [
      "[I 2023-11-27 13:41:26,629] Trial 211 finished with value: 0.2446000429528207 and parameters: {'n_estimators': 200, 'learning_rate': 0.3395590391309299, 'max_depth': 5}. Best is trial 18 with value: 0.11015494653723151.\n"
     ]
    },
    {
     "name": "stdout",
     "output_type": "stream",
     "text": [
      "Successfully updated GB.csv with results of trial 211\n",
      "Successfully updated GB.csv with results of trial 212\n"
     ]
    },
    {
     "name": "stderr",
     "output_type": "stream",
     "text": [
      "[I 2023-11-27 13:41:26,821] Trial 212 finished with value: 0.24243896151218114 and parameters: {'n_estimators': 200, 'learning_rate': 0.3954199840519419, 'max_depth': 5}. Best is trial 18 with value: 0.11015494653723151.\n",
      "[I 2023-11-27 13:41:27,730] Trial 213 finished with value: 0.24408206202998342 and parameters: {'n_estimators': 200, 'learning_rate': 0.3421010554804357, 'max_depth': 5}. Best is trial 18 with value: 0.11015494653723151.\n",
      "[I 2023-11-27 13:41:27,872] Trial 214 finished with value: 0.2423315681295731 and parameters: {'n_estimators': 200, 'learning_rate': 0.4042656428493016, 'max_depth': 5}. Best is trial 18 with value: 0.11015494653723151.\n"
     ]
    },
    {
     "name": "stdout",
     "output_type": "stream",
     "text": [
      "Successfully updated GB.csv with results of trial 213\n",
      "Successfully updated GB.csv with results of trial 214\n"
     ]
    },
    {
     "name": "stderr",
     "output_type": "stream",
     "text": [
      "[I 2023-11-27 13:41:28,016] Trial 215 finished with value: 0.2440723871127167 and parameters: {'n_estimators': 200, 'learning_rate': 0.3404993789234873, 'max_depth': 5}. Best is trial 18 with value: 0.11015494653723151.\n"
     ]
    },
    {
     "name": "stdout",
     "output_type": "stream",
     "text": [
      "Successfully updated GB.csv with results of trial 215\n"
     ]
    },
    {
     "name": "stderr",
     "output_type": "stream",
     "text": [
      "[I 2023-11-27 13:41:31,553] Trial 216 finished with value: 0.2433058288076917 and parameters: {'n_estimators': 200, 'learning_rate': 0.3452765107320904, 'max_depth': 5}. Best is trial 18 with value: 0.11015494653723151.\n"
     ]
    },
    {
     "name": "stdout",
     "output_type": "stream",
     "text": [
      "Successfully updated GB.csv with results of trial 216\n"
     ]
    },
    {
     "name": "stderr",
     "output_type": "stream",
     "text": [
      "[I 2023-11-27 13:41:31,792] Trial 218 finished with value: 0.24230815552270635 and parameters: {'n_estimators': 200, 'learning_rate': 0.3979523436576951, 'max_depth': 5}. Best is trial 18 with value: 0.11015494653723151.\n",
      "[I 2023-11-27 13:41:31,824] Trial 217 finished with value: 0.24394717483424364 and parameters: {'n_estimators': 200, 'learning_rate': 0.33907374885830477, 'max_depth': 5}. Best is trial 18 with value: 0.11015494653723151.\n"
     ]
    },
    {
     "name": "stdout",
     "output_type": "stream",
     "text": [
      "Successfully updated GB.csv with results of trial 218\n",
      "Successfully updated GB.csv with results of trial 217\n"
     ]
    },
    {
     "name": "stderr",
     "output_type": "stream",
     "text": [
      "[I 2023-11-27 13:41:32,534] Trial 219 finished with value: 0.2432723750554822 and parameters: {'n_estimators': 200, 'learning_rate': 0.34562883901548286, 'max_depth': 5}. Best is trial 18 with value: 0.11015494653723151.\n"
     ]
    },
    {
     "name": "stdout",
     "output_type": "stream",
     "text": [
      "Successfully updated GB.csv with results of trial 219\n",
      "random RLM RF\n"
     ]
    },
    {
     "name": "stderr",
     "output_type": "stream",
     "text": [
      "[I 2023-11-27 13:41:32,817] Using an existing study with name 'RF' instead of creating a new one.\n",
      "[I 2023-11-27 13:44:11,869] Trial 124 finished with value: 0.23817055199253123 and parameters: {'n_estimators': 500, 'max_features': 'log2', 'max_depth': 10}. Best is trial 19 with value: 0.13863358465268918.\n"
     ]
    },
    {
     "name": "stdout",
     "output_type": "stream",
     "text": [
      "Successfully created RF.csv with results of trial 124 as the first entry\n"
     ]
    },
    {
     "name": "stderr",
     "output_type": "stream",
     "text": [
      "[I 2023-11-27 13:44:12,371] Trial 123 finished with value: 0.23861371057294023 and parameters: {'n_estimators': 500, 'max_features': 'log2', 'max_depth': 10}. Best is trial 19 with value: 0.13863358465268918.\n"
     ]
    },
    {
     "name": "stdout",
     "output_type": "stream",
     "text": [
      "Successfully updated RF.csv with results of trial 123\n"
     ]
    },
    {
     "name": "stderr",
     "output_type": "stream",
     "text": [
      "[I 2023-11-27 13:44:12,720] Trial 129 finished with value: 0.23711023417820967 and parameters: {'n_estimators': 500, 'max_features': 'log2', 'max_depth': 10}. Best is trial 19 with value: 0.13863358465268918.\n"
     ]
    },
    {
     "name": "stdout",
     "output_type": "stream",
     "text": [
      "Successfully updated RF.csv with results of trial 129\n"
     ]
    },
    {
     "name": "stderr",
     "output_type": "stream",
     "text": [
      "[I 2023-11-27 13:44:13,402] Trial 120 finished with value: 0.23821282051109494 and parameters: {'n_estimators': 500, 'max_features': 'log2', 'max_depth': 10}. Best is trial 19 with value: 0.13863358465268918.\n"
     ]
    },
    {
     "name": "stdout",
     "output_type": "stream",
     "text": [
      "Successfully updated RF.csv with results of trial 120\n"
     ]
    },
    {
     "name": "stderr",
     "output_type": "stream",
     "text": [
      "[I 2023-11-27 13:44:13,812] Trial 127 finished with value: 0.2366061907667819 and parameters: {'n_estimators': 500, 'max_features': 'log2', 'max_depth': 10}. Best is trial 19 with value: 0.13863358465268918.\n"
     ]
    },
    {
     "name": "stdout",
     "output_type": "stream",
     "text": [
      "Successfully updated RF.csv with results of trial 127\n"
     ]
    },
    {
     "name": "stderr",
     "output_type": "stream",
     "text": [
      "[I 2023-11-27 13:44:14,078] Trial 131 finished with value: 0.23777609143398645 and parameters: {'n_estimators': 500, 'max_features': 'log2', 'max_depth': 10}. Best is trial 19 with value: 0.13863358465268918.\n"
     ]
    },
    {
     "name": "stdout",
     "output_type": "stream",
     "text": [
      "Successfully updated RF.csv with results of trial 131\n"
     ]
    },
    {
     "name": "stderr",
     "output_type": "stream",
     "text": [
      "[I 2023-11-27 13:47:00,207] Trial 132 finished with value: 0.2377530981812123 and parameters: {'n_estimators': 20, 'max_features': 'log2', 'max_depth': 5}. Best is trial 19 with value: 0.13863358465268918.\n",
      "[I 2023-11-27 13:47:00,386] Trial 133 finished with value: 0.23799932873103224 and parameters: {'n_estimators': 20, 'max_features': 'log2', 'max_depth': 5}. Best is trial 19 with value: 0.13863358465268918.\n"
     ]
    },
    {
     "name": "stdout",
     "output_type": "stream",
     "text": [
      "Successfully updated RF.csv with results of trial 132\n",
      "Successfully updated RF.csv with results of trial 133\n"
     ]
    },
    {
     "name": "stderr",
     "output_type": "stream",
     "text": [
      "[I 2023-11-27 13:47:01,037] Trial 135 finished with value: 0.2379044101884457 and parameters: {'n_estimators': 20, 'max_features': 'log2', 'max_depth': 5}. Best is trial 19 with value: 0.13863358465268918.\n",
      "[I 2023-11-27 13:47:01,040] Trial 134 finished with value: 0.23686816194417762 and parameters: {'n_estimators': 20, 'max_features': 'log2', 'max_depth': 5}. Best is trial 19 with value: 0.13863358465268918.\n"
     ]
    },
    {
     "name": "stdout",
     "output_type": "stream",
     "text": [
      "Successfully updated RF.csv with results of trial 135\n",
      "Successfully updated RF.csv with results of trial 134\n"
     ]
    },
    {
     "name": "stderr",
     "output_type": "stream",
     "text": [
      "[I 2023-11-27 13:47:01,325] Trial 136 finished with value: 0.23737088024268393 and parameters: {'n_estimators': 20, 'max_features': 'log2', 'max_depth': 5}. Best is trial 19 with value: 0.13863358465268918.\n",
      "[I 2023-11-27 13:47:01,407] Trial 137 finished with value: 0.23705728578355276 and parameters: {'n_estimators': 20, 'max_features': 'log2', 'max_depth': 5}. Best is trial 19 with value: 0.13863358465268918.\n"
     ]
    },
    {
     "name": "stdout",
     "output_type": "stream",
     "text": [
      "Successfully updated RF.csv with results of trial 136\n",
      "Successfully updated RF.csv with results of trial 137\n"
     ]
    },
    {
     "name": "stderr",
     "output_type": "stream",
     "text": [
      "[I 2023-11-27 13:48:20,011] Trial 122 finished with value: 0.2378728657527633 and parameters: {'n_estimators': 500, 'max_features': 'log2', 'max_depth': 5}. Best is trial 19 with value: 0.13863358465268918.\n"
     ]
    },
    {
     "name": "stdout",
     "output_type": "stream",
     "text": [
      "Successfully updated RF.csv with results of trial 122\n"
     ]
    },
    {
     "name": "stderr",
     "output_type": "stream",
     "text": [
      "[I 2023-11-27 13:48:21,437] Trial 128 finished with value: 0.23725544960517944 and parameters: {'n_estimators': 500, 'max_features': 'log2', 'max_depth': 10}. Best is trial 19 with value: 0.13863358465268918.\n"
     ]
    },
    {
     "name": "stdout",
     "output_type": "stream",
     "text": [
      "Successfully updated RF.csv with results of trial 128\n"
     ]
    },
    {
     "name": "stderr",
     "output_type": "stream",
     "text": [
      "[I 2023-11-27 13:48:23,886] Trial 121 finished with value: 0.2379233682740628 and parameters: {'n_estimators': 500, 'max_features': 'log2', 'max_depth': 10}. Best is trial 19 with value: 0.13863358465268918.\n"
     ]
    },
    {
     "name": "stdout",
     "output_type": "stream",
     "text": [
      "Successfully updated RF.csv with results of trial 121\n"
     ]
    },
    {
     "name": "stderr",
     "output_type": "stream",
     "text": [
      "[I 2023-11-27 13:48:25,959] Trial 125 finished with value: 0.23794454540832308 and parameters: {'n_estimators': 500, 'max_features': 'log2', 'max_depth': 10}. Best is trial 19 with value: 0.13863358465268918.\n"
     ]
    },
    {
     "name": "stdout",
     "output_type": "stream",
     "text": [
      "Successfully updated RF.csv with results of trial 125\n"
     ]
    },
    {
     "name": "stderr",
     "output_type": "stream",
     "text": [
      "[I 2023-11-27 13:48:26,824] Trial 130 finished with value: 0.23745884156123898 and parameters: {'n_estimators': 500, 'max_features': 'log2', 'max_depth': 10}. Best is trial 19 with value: 0.13863358465268918.\n"
     ]
    },
    {
     "name": "stdout",
     "output_type": "stream",
     "text": [
      "Successfully updated RF.csv with results of trial 130\n"
     ]
    },
    {
     "name": "stderr",
     "output_type": "stream",
     "text": [
      "[I 2023-11-27 13:48:27,143] Trial 126 finished with value: 0.2366848044104334 and parameters: {'n_estimators': 500, 'max_features': 'log2', 'max_depth': 10}. Best is trial 19 with value: 0.13863358465268918.\n"
     ]
    },
    {
     "name": "stdout",
     "output_type": "stream",
     "text": [
      "Successfully updated RF.csv with results of trial 126\n"
     ]
    },
    {
     "name": "stderr",
     "output_type": "stream",
     "text": [
      "[I 2023-11-27 13:49:40,100] Trial 140 finished with value: 0.23843872060626015 and parameters: {'n_estimators': 500, 'max_features': 'sqrt', 'max_depth': 5}. Best is trial 19 with value: 0.13863358465268918.\n"
     ]
    },
    {
     "name": "stdout",
     "output_type": "stream",
     "text": [
      "Successfully updated RF.csv with results of trial 140\n"
     ]
    },
    {
     "name": "stderr",
     "output_type": "stream",
     "text": [
      "[I 2023-11-27 13:49:40,408] Trial 139 finished with value: 0.23715912564504835 and parameters: {'n_estimators': 20, 'max_features': 'sqrt', 'max_depth': 5}. Best is trial 19 with value: 0.13863358465268918.\n",
      "[I 2023-11-27 13:49:40,412] Trial 138 finished with value: 0.2379278907713179 and parameters: {'n_estimators': 20, 'max_features': 'log2', 'max_depth': 5}. Best is trial 19 with value: 0.13863358465268918.\n"
     ]
    },
    {
     "name": "stdout",
     "output_type": "stream",
     "text": [
      "Successfully updated RF.csv with results of trial 139\n",
      "Successfully updated RF.csv with results of trial 138\n",
      "Successfully updated RF.csv with results of trial 141\n"
     ]
    },
    {
     "name": "stderr",
     "output_type": "stream",
     "text": [
      "[I 2023-11-27 13:49:40,621] Trial 141 finished with value: 0.2368499861285136 and parameters: {'n_estimators': 500, 'max_features': 'sqrt', 'max_depth': 5}. Best is trial 19 with value: 0.13863358465268918.\n",
      "[I 2023-11-27 13:49:40,849] Trial 142 finished with value: 0.23763849160129422 and parameters: {'n_estimators': 500, 'max_features': 'log2', 'max_depth': None}. Best is trial 19 with value: 0.13863358465268918.\n"
     ]
    },
    {
     "name": "stdout",
     "output_type": "stream",
     "text": [
      "Successfully updated RF.csv with results of trial 142\n"
     ]
    },
    {
     "name": "stderr",
     "output_type": "stream",
     "text": [
      "[I 2023-11-27 13:49:41,407] Trial 143 finished with value: 0.23834374186799134 and parameters: {'n_estimators': 500, 'max_features': 'log2', 'max_depth': None}. Best is trial 19 with value: 0.13863358465268918.\n"
     ]
    },
    {
     "name": "stdout",
     "output_type": "stream",
     "text": [
      "Successfully updated RF.csv with results of trial 143\n"
     ]
    },
    {
     "name": "stderr",
     "output_type": "stream",
     "text": [
      "[I 2023-11-27 13:52:35,691] Trial 151 finished with value: 0.23717803528984152 and parameters: {'n_estimators': 200, 'max_features': 'log2', 'max_depth': None}. Best is trial 19 with value: 0.13863358465268918.\n",
      "[I 2023-11-27 13:52:35,733] Trial 152 finished with value: 0.23801202012533337 and parameters: {'n_estimators': 200, 'max_features': 'log2', 'max_depth': 5}. Best is trial 19 with value: 0.13863358465268918.\n"
     ]
    },
    {
     "name": "stdout",
     "output_type": "stream",
     "text": [
      "Successfully updated RF.csv with results of trial 151\n",
      "Successfully updated RF.csv with results of trial 152\n",
      "Successfully updated RF.csv with results of trial 153\n",
      "Successfully updated RF.csv with results of trial 150\n"
     ]
    },
    {
     "name": "stderr",
     "output_type": "stream",
     "text": [
      "[I 2023-11-27 13:52:35,935] Trial 153 finished with value: 0.23765670826511254 and parameters: {'n_estimators': 200, 'max_features': 'log2', 'max_depth': None}. Best is trial 19 with value: 0.13863358465268918.\n",
      "[I 2023-11-27 13:52:36,045] Trial 150 finished with value: 0.23825489102109632 and parameters: {'n_estimators': 500, 'max_features': 'sqrt', 'max_depth': None}. Best is trial 19 with value: 0.13863358465268918.\n",
      "[I 2023-11-27 13:52:36,210] Trial 154 finished with value: 0.23711542505125874 and parameters: {'n_estimators': 200, 'max_features': 'log2', 'max_depth': 5}. Best is trial 19 with value: 0.13863358465268918.\n"
     ]
    },
    {
     "name": "stdout",
     "output_type": "stream",
     "text": [
      "Successfully updated RF.csv with results of trial 154\n"
     ]
    },
    {
     "name": "stderr",
     "output_type": "stream",
     "text": [
      "[I 2023-11-27 13:52:36,712] Trial 155 finished with value: 0.23730381337661136 and parameters: {'n_estimators': 200, 'max_features': 'log2', 'max_depth': 5}. Best is trial 19 with value: 0.13863358465268918.\n"
     ]
    },
    {
     "name": "stdout",
     "output_type": "stream",
     "text": [
      "Successfully updated RF.csv with results of trial 155\n"
     ]
    },
    {
     "name": "stderr",
     "output_type": "stream",
     "text": [
      "[I 2023-11-27 13:58:27,404] Trial 156 finished with value: 0.2378742110092953 and parameters: {'n_estimators': 200, 'max_features': 'sqrt', 'max_depth': 2}. Best is trial 19 with value: 0.13863358465268918.\n"
     ]
    },
    {
     "name": "stdout",
     "output_type": "stream",
     "text": [
      "Successfully updated RF.csv with results of trial 156\n"
     ]
    },
    {
     "name": "stderr",
     "output_type": "stream",
     "text": [
      "[I 2023-11-27 13:58:27,994] Trial 158 finished with value: 0.2372491333863761 and parameters: {'n_estimators': 500, 'max_features': 'log2', 'max_depth': 2}. Best is trial 19 with value: 0.13863358465268918.\n"
     ]
    },
    {
     "name": "stdout",
     "output_type": "stream",
     "text": [
      "Successfully updated RF.csv with results of trial 158\n"
     ]
    },
    {
     "name": "stderr",
     "output_type": "stream",
     "text": [
      "[I 2023-11-27 13:58:36,149] Trial 161 finished with value: 0.23835844044783314 and parameters: {'n_estimators': 500, 'max_features': 'sqrt', 'max_depth': 2}. Best is trial 19 with value: 0.13863358465268918.\n"
     ]
    },
    {
     "name": "stdout",
     "output_type": "stream",
     "text": [
      "Successfully updated RF.csv with results of trial 161\n",
      "Successfully updated RF.csv with results of trial 160"
     ]
    },
    {
     "name": "stderr",
     "output_type": "stream",
     "text": [
      "[I 2023-11-27 13:58:57,254] Trial 160 finished with value: 0.23800750938205106 and parameters: {'n_estimators': 500, 'max_features': 'sqrt', 'max_depth': 2}. Best is trial 19 with value: 0.13863358465268918.\n"
     ]
    },
    {
     "name": "stdout",
     "output_type": "stream",
     "text": [
      "\n"
     ]
    },
    {
     "name": "stderr",
     "output_type": "stream",
     "text": [
      "[I 2023-11-27 13:59:01,355] Trial 146 finished with value: 0.23693090684660278 and parameters: {'n_estimators': 500, 'max_features': 'sqrt', 'max_depth': None}. Best is trial 19 with value: 0.13863358465268918.\n"
     ]
    },
    {
     "name": "stdout",
     "output_type": "stream",
     "text": [
      "Successfully updated RF.csv with results of trial 146\n"
     ]
    },
    {
     "name": "stderr",
     "output_type": "stream",
     "text": [
      "[I 2023-11-27 13:59:02,731] Trial 144 finished with value: 0.2371106235414171 and parameters: {'n_estimators': 500, 'max_features': 'log2', 'max_depth': 5}. Best is trial 19 with value: 0.13863358465268918.\n"
     ]
    },
    {
     "name": "stdout",
     "output_type": "stream",
     "text": [
      "Successfully updated RF.csv with results of trial 144\n",
      "Successfully updated RF.csv with results of trial 149\n"
     ]
    },
    {
     "name": "stderr",
     "output_type": "stream",
     "text": [
      "[I 2023-11-27 13:59:03,526] Trial 149 finished with value: 0.23756172161646197 and parameters: {'n_estimators': 500, 'max_features': 'sqrt', 'max_depth': 5}. Best is trial 19 with value: 0.13863358465268918.\n",
      "[I 2023-11-27 13:59:09,539] Trial 145 finished with value: 0.23858934161845524 and parameters: {'n_estimators': 500, 'max_features': 'sqrt', 'max_depth': 5}. Best is trial 19 with value: 0.13863358465268918.\n"
     ]
    },
    {
     "name": "stdout",
     "output_type": "stream",
     "text": [
      "Successfully updated RF.csv with results of trial 145\n"
     ]
    },
    {
     "name": "stderr",
     "output_type": "stream",
     "text": [
      "[I 2023-11-27 13:59:16,488] Trial 148 finished with value: 0.2388519053763183 and parameters: {'n_estimators': 500, 'max_features': 'sqrt', 'max_depth': None}. Best is trial 19 with value: 0.13863358465268918.\n"
     ]
    },
    {
     "name": "stdout",
     "output_type": "stream",
     "text": [
      "Successfully updated RF.csv with results of trial 148\n"
     ]
    },
    {
     "name": "stderr",
     "output_type": "stream",
     "text": [
      "[I 2023-11-27 13:59:18,405] Trial 159 finished with value: 0.2377676204781306 and parameters: {'n_estimators': 500, 'max_features': 'sqrt', 'max_depth': 2}. Best is trial 19 with value: 0.13863358465268918.\n"
     ]
    },
    {
     "name": "stdout",
     "output_type": "stream",
     "text": [
      "Successfully updated RF.csv with results of trial 159\n"
     ]
    },
    {
     "name": "stderr",
     "output_type": "stream",
     "text": [
      "[I 2023-11-27 13:59:19,400] Trial 147 finished with value: 0.2374513019315685 and parameters: {'n_estimators': 500, 'max_features': 'sqrt', 'max_depth': 5}. Best is trial 19 with value: 0.13863358465268918.\n"
     ]
    },
    {
     "name": "stdout",
     "output_type": "stream",
     "text": [
      "Successfully updated RF.csv with results of trial 147\n"
     ]
    },
    {
     "name": "stderr",
     "output_type": "stream",
     "text": [
      "[I 2023-11-27 13:59:28,202] Trial 157 finished with value: 0.2369433460075228 and parameters: {'n_estimators': 200, 'max_features': 'sqrt', 'max_depth': 2}. Best is trial 19 with value: 0.13863358465268918.\n"
     ]
    },
    {
     "name": "stdout",
     "output_type": "stream",
     "text": [
      "Successfully updated RF.csv with results of trial 157\n",
      "Successfully updated RF.csv with results of trial 162\n"
     ]
    },
    {
     "name": "stderr",
     "output_type": "stream",
     "text": [
      "[I 2023-11-27 14:06:08,715] Trial 162 finished with value: 0.23773895154477453 and parameters: {'n_estimators': 10, 'max_features': 'log2', 'max_depth': 5}. Best is trial 19 with value: 0.13863358465268918.\n",
      "[I 2023-11-27 14:06:33,941] Trial 163 finished with value: 0.23747949112163166 and parameters: {'n_estimators': 10, 'max_features': 'log2', 'max_depth': 5}. Best is trial 19 with value: 0.13863358465268918.\n"
     ]
    },
    {
     "name": "stdout",
     "output_type": "stream",
     "text": [
      "Successfully updated RF.csv with results of trial 163\n"
     ]
    },
    {
     "name": "stderr",
     "output_type": "stream",
     "text": [
      "[I 2023-11-27 14:07:35,426] Trial 164 finished with value: 0.23684037020644189 and parameters: {'n_estimators': 10, 'max_features': 'log2', 'max_depth': 5}. Best is trial 19 with value: 0.13863358465268918.\n"
     ]
    },
    {
     "name": "stdout",
     "output_type": "stream",
     "text": [
      "Successfully updated RF.csv with results of trial 164\n"
     ]
    },
    {
     "name": "stderr",
     "output_type": "stream",
     "text": [
      "[I 2023-11-27 14:08:50,099] Trial 165 finished with value: 0.2379302342403613 and parameters: {'n_estimators': 10, 'max_features': 'log2', 'max_depth': 5}. Best is trial 19 with value: 0.13863358465268918.\n"
     ]
    },
    {
     "name": "stdout",
     "output_type": "stream",
     "text": [
      "Successfully updated RF.csv with results of trial 165\n"
     ]
    },
    {
     "name": "stderr",
     "output_type": "stream",
     "text": [
      "[I 2023-11-27 14:10:10,538] Trial 171 finished with value: 0.236718049209518 and parameters: {'n_estimators': 10, 'max_features': 'log2', 'max_depth': 3}. Best is trial 19 with value: 0.13863358465268918.\n"
     ]
    },
    {
     "name": "stdout",
     "output_type": "stream",
     "text": [
      "Successfully updated RF.csv with results of trial 171\n"
     ]
    },
    {
     "name": "stderr",
     "output_type": "stream",
     "text": [
      "[I 2023-11-27 14:11:44,174] Trial 173 finished with value: 0.23751583612871693 and parameters: {'n_estimators': 10, 'max_features': 'log2', 'max_depth': 3}. Best is trial 19 with value: 0.13863358465268918.\n"
     ]
    },
    {
     "name": "stdout",
     "output_type": "stream",
     "text": [
      "Successfully updated RF.csv with results of trial 173\n"
     ]
    },
    {
     "name": "stderr",
     "output_type": "stream",
     "text": [
      "[I 2023-11-27 14:18:46,525] Trial 168 finished with value: 0.23673201687071924 and parameters: {'n_estimators': 10, 'max_features': 'log2', 'max_depth': 5}. Best is trial 19 with value: 0.13863358465268918.\n"
     ]
    },
    {
     "name": "stdout",
     "output_type": "stream",
     "text": [
      "Successfully updated RF.csv with results of trial 168\n"
     ]
    },
    {
     "name": "stderr",
     "output_type": "stream",
     "text": [
      "[I 2023-11-27 14:19:42,961] Trial 167 finished with value: 0.23812500789391824 and parameters: {'n_estimators': 10, 'max_features': 'log2', 'max_depth': 5}. Best is trial 19 with value: 0.13863358465268918.\n"
     ]
    },
    {
     "name": "stdout",
     "output_type": "stream",
     "text": [
      "Successfully updated RF.csv with results of trial 167\n",
      "Successfully updated RF.csv with results of trial 166\n"
     ]
    },
    {
     "name": "stderr",
     "output_type": "stream",
     "text": [
      "[I 2023-11-27 14:19:57,479] Trial 166 finished with value: 0.23773069720622117 and parameters: {'n_estimators': 10, 'max_features': 'log2', 'max_depth': 5}. Best is trial 19 with value: 0.13863358465268918.\n",
      "[I 2023-11-27 14:20:22,355] Trial 169 finished with value: 0.23890027655020873 and parameters: {'n_estimators': 10, 'max_features': 'log2', 'max_depth': 3}. Best is trial 19 with value: 0.13863358465268918.\n"
     ]
    },
    {
     "name": "stdout",
     "output_type": "stream",
     "text": [
      "Successfully updated RF.csv with results of trial 169\n"
     ]
    },
    {
     "name": "stderr",
     "output_type": "stream",
     "text": [
      "[I 2023-11-27 14:20:24,660] Trial 170 finished with value: 0.23764192823043562 and parameters: {'n_estimators': 10, 'max_features': 'log2', 'max_depth': 3}. Best is trial 19 with value: 0.13863358465268918.\n"
     ]
    },
    {
     "name": "stdout",
     "output_type": "stream",
     "text": [
      "Successfully updated RF.csv with results of trial 170\n",
      "Successfully updated RF.csv with results of trial 172\n"
     ]
    },
    {
     "name": "stderr",
     "output_type": "stream",
     "text": [
      "[I 2023-11-27 14:20:26,773] Trial 172 finished with value: 0.23834627171014425 and parameters: {'n_estimators': 10, 'max_features': 'log2', 'max_depth': 4}. Best is trial 19 with value: 0.13863358465268918.\n",
      "[I 2023-11-27 14:24:48,251] Trial 174 finished with value: 0.2359561865327481 and parameters: {'n_estimators': 50, 'max_features': 'log2', 'max_depth': 4}. Best is trial 19 with value: 0.13863358465268918.\n"
     ]
    },
    {
     "name": "stdout",
     "output_type": "stream",
     "text": [
      "Successfully updated RF.csv with results of trial 174\n"
     ]
    },
    {
     "name": "stderr",
     "output_type": "stream",
     "text": [
      "[I 2023-11-27 14:26:04,701] Trial 175 finished with value: 0.23724487874400568 and parameters: {'n_estimators': 50, 'max_features': 'log2', 'max_depth': 4}. Best is trial 19 with value: 0.13863358465268918.\n"
     ]
    },
    {
     "name": "stdout",
     "output_type": "stream",
     "text": [
      "Successfully updated RF.csv with results of trial 175\n",
      "Successfully updated RF.csv with results of trial 176\n"
     ]
    },
    {
     "name": "stderr",
     "output_type": "stream",
     "text": [
      "[I 2023-11-27 14:28:36,098] Trial 176 finished with value: 0.23708766726912275 and parameters: {'n_estimators': 50, 'max_features': 'log2', 'max_depth': 4}. Best is trial 19 with value: 0.13863358465268918.\n",
      "[I 2023-11-27 14:31:37,198] Trial 177 finished with value: 0.23730609741812755 and parameters: {'n_estimators': 50, 'max_features': 'log2', 'max_depth': 4}. Best is trial 19 with value: 0.13863358465268918.\n"
     ]
    },
    {
     "name": "stdout",
     "output_type": "stream",
     "text": [
      "Successfully updated RF.csv with results of trial 177\n"
     ]
    },
    {
     "name": "stderr",
     "output_type": "stream",
     "text": [
      "[I 2023-11-27 14:33:25,449] Trial 178 finished with value: 0.23676003038014448 and parameters: {'n_estimators': 50, 'max_features': 'log2', 'max_depth': 4}. Best is trial 19 with value: 0.13863358465268918.\n"
     ]
    },
    {
     "name": "stdout",
     "output_type": "stream",
     "text": [
      "Successfully updated RF.csv with results of trial 178\n"
     ]
    },
    {
     "name": "stderr",
     "output_type": "stream",
     "text": [
      "[I 2023-11-27 14:35:08,420] Trial 179 finished with value: 0.23630349246463642 and parameters: {'n_estimators': 50, 'max_features': 'log2', 'max_depth': 4}. Best is trial 19 with value: 0.13863358465268918.\n"
     ]
    },
    {
     "name": "stdout",
     "output_type": "stream",
     "text": [
      "Successfully updated RF.csv with results of trial 179\n",
      "Successfully updated RF.csv with results of trial 180\n"
     ]
    },
    {
     "name": "stderr",
     "output_type": "stream",
     "text": [
      "[I 2023-11-27 14:41:58,631] Trial 180 finished with value: 0.23593082382667654 and parameters: {'n_estimators': 50, 'max_features': 'log2', 'max_depth': 4}. Best is trial 19 with value: 0.13863358465268918.\n",
      "[I 2023-11-27 14:43:34,118] Trial 182 finished with value: 0.23810561147843376 and parameters: {'n_estimators': 50, 'max_features': 'log2', 'max_depth': 4}. Best is trial 19 with value: 0.13863358465268918.\n"
     ]
    },
    {
     "name": "stdout",
     "output_type": "stream",
     "text": [
      "Successfully updated RF.csv with results of trial 182\n",
      "Successfully updated RF.csv with results of trial 181\n"
     ]
    },
    {
     "name": "stderr",
     "output_type": "stream",
     "text": [
      "[I 2023-11-27 14:43:36,520] Trial 181 finished with value: 0.23765774443079526 and parameters: {'n_estimators': 50, 'max_features': 'log2', 'max_depth': 4}. Best is trial 19 with value: 0.13863358465268918.\n",
      "[I 2023-11-27 14:43:59,761] Trial 183 finished with value: 0.23732259877901896 and parameters: {'n_estimators': 50, 'max_features': 'log2', 'max_depth': 4}. Best is trial 19 with value: 0.13863358465268918.\n"
     ]
    },
    {
     "name": "stdout",
     "output_type": "stream",
     "text": [
      "Successfully updated RF.csv with results of trial 183\n"
     ]
    },
    {
     "name": "stderr",
     "output_type": "stream",
     "text": [
      "[I 2023-11-27 14:44:07,558] Trial 185 finished with value: 0.23806520982631077 and parameters: {'n_estimators': 50, 'max_features': 'log2', 'max_depth': 4}. Best is trial 19 with value: 0.13863358465268918.\n"
     ]
    },
    {
     "name": "stdout",
     "output_type": "stream",
     "text": [
      "Successfully updated RF.csv with results of trial 185\n"
     ]
    },
    {
     "name": "stderr",
     "output_type": "stream",
     "text": [
      "[I 2023-11-27 14:44:15,708] Trial 184 finished with value: 0.23875556586643534 and parameters: {'n_estimators': 50, 'max_features': 'log2', 'max_depth': 5}. Best is trial 19 with value: 0.13863358465268918.\n"
     ]
    },
    {
     "name": "stdout",
     "output_type": "stream",
     "text": [
      "Successfully updated RF.csv with results of trial 184\n"
     ]
    },
    {
     "name": "stderr",
     "output_type": "stream",
     "text": [
      "[I 2023-11-27 14:45:54,991] Trial 186 finished with value: 0.23668718762691585 and parameters: {'n_estimators': 50, 'max_features': 'log2', 'max_depth': 4}. Best is trial 19 with value: 0.13863358465268918.\n"
     ]
    },
    {
     "name": "stdout",
     "output_type": "stream",
     "text": [
      "Successfully updated RF.csv with results of trial 186\n"
     ]
    },
    {
     "name": "stderr",
     "output_type": "stream",
     "text": [
      "[I 2023-11-27 14:57:48,936] Trial 187 finished with value: 0.23663611370637974 and parameters: {'n_estimators': 50, 'max_features': 'log2', 'max_depth': 4}. Best is trial 19 with value: 0.13863358465268918.\n"
     ]
    },
    {
     "name": "stdout",
     "output_type": "stream",
     "text": [
      "Successfully updated RF.csv with results of trial 187\n",
      "Successfully updated RF.csv with results of trial 188\n"
     ]
    },
    {
     "name": "stderr",
     "output_type": "stream",
     "text": [
      "[I 2023-11-27 15:00:41,356] Trial 188 finished with value: 0.2373787689105201 and parameters: {'n_estimators': 50, 'max_features': 'log2', 'max_depth': 5}. Best is trial 19 with value: 0.13863358465268918.\n"
     ]
    }
   ],
   "source": [
    "sampler = samplers['TPESampler']\n",
    "pruner = pruners[\"BasePruner\"]\n",
    "with ThreadPoolExecutor() as executor:\n",
    "    futures = []\n",
    "    n_trials = 100\n",
    "    for _type in types:\n",
    "        for splitter in splitters:\n",
    "            if splitter == \"rand\":\n",
    "                splitter_name = \"random\"\n",
    "            elif splitter == \"scaff\":\n",
    "                splitter_name = \"scaffold_splitter\"\n",
    "            else:\n",
    "                splitter_name = \"time_split\"\n",
    "\n",
    "            for isozyme in isozymes:\n",
    "                X_train = features[_type][splitter][isozyme][\"train\"]\n",
    "                y_train = np.array(halflives[_type][splitter][isozyme][\"train\"])\n",
    "                X_test = features[_type][splitter][isozyme][\"test\"]\n",
    "                y_test = np.array(halflives[_type][splitter][isozyme][\"test\"])\n",
    "\n",
    "                for model_identifier in model_identifiers:\n",
    "                    print(splitter_name, isozyme, model_identifier)\n",
    "\n",
    "                    lock_obj = optuna.storages.JournalFileOpenLock(\"./journal.log\")\n",
    "                    storage = JournalStorage(\n",
    "                        JournalFileStorage(\"./project_resources/optuna/journal.log\", lock_obj=lock_obj)\n",
    "                    )\n",
    "\n",
    "                    study = optuna.create_study(study_name=model_identifier, directions=['minimize'], pruner=pruner,\n",
    "                                                storage=storage, load_if_exists=True)\n",
    "                    trial_log_csv_path = f\"./project_resources/optuna/{_type}/{splitter_name}/{isozyme}/{model_identifier}.csv\"\n",
    "                    tuner = FOO(trial_log_csv_path, model_identifier, X_train, y_train, X_test, y_test)\n",
    "\n",
    "                    futures.append(executor.submit(study.optimize(tuner.objective, n_trials=n_trials, n_jobs=-1)))\n",
    "                    joblib.dump(study, f\"./project_resources/optuna/{_type}/{splitter_name}/{isozyme}/{model_identifier}.pkl\")\n",
    "    for future in futures:\n",
    "        future.result()"
   ]
  },
  {
   "cell_type": "code",
   "execution_count": null,
   "id": "30d58349-1ea7-4be0-85fc-787d83f1893c",
   "metadata": {},
   "outputs": [],
   "source": []
  }
 ],
 "metadata": {
  "kernelspec": {
   "display_name": "Python 3 (ipykernel)",
   "language": "python",
   "name": "python3"
  },
  "language_info": {
   "codemirror_mode": {
    "name": "ipython",
    "version": 3
   },
   "file_extension": ".py",
   "mimetype": "text/x-python",
   "name": "python",
   "nbconvert_exporter": "python",
   "pygments_lexer": "ipython3",
   "version": "3.11.4"
  }
 },
 "nbformat": 4,
 "nbformat_minor": 5
}
