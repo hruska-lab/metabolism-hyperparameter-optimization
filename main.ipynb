{
 "cells": [
  {
   "cell_type": "code",
   "execution_count": 1,
   "id": "621bf38a-2a38-472b-a2ff-3baa07b29d99",
   "metadata": {
    "tags": []
   },
   "outputs": [
    {
     "name": "stdout",
     "output_type": "stream",
     "text": [
      "importing Jupyter notebook from C:\\Users\\Lukas\\Documents\\Jupyter_Notebooks\\project_resources\\cytochrome_P450.ipynb\n"
     ]
    }
   ],
   "source": [
    "import sys\n",
    "import pandas as pd\n",
    "import numpy as np\n",
    "import matplotlib.pyplot as plt\n",
    "from import_utils import NotebookFinder\n",
    "sys.meta_path.append(NotebookFinder())\n",
    "from project_resources.cytochrome_P450 import *"
   ]
  },
  {
   "cell_type": "code",
   "execution_count": 2,
   "id": "3b601125-8937-450b-bfdc-4c4cd2cd54b6",
   "metadata": {},
   "outputs": [],
   "source": [
    "models = [\"linear\", \"KRR\", \"GB\", \"RF\", \"ANN\"]\n",
    "isozymes = [\"3A4\", \"RLM\", \"HLC\"]\n",
    "rel_paths = {\n",
    "    \"3A4_source\": [r\"project_resources\\ChEMBL_3A4.csv\", \"ChEMBL\"],\n",
    "    \"3A4\": [r\"project_resources\\3A4_adjusted.csv\", \"ChEMBL\"],\n",
    "\n",
    "    \"RLM_source\": [r\"project_resources\\AID_1508591_datatable_all.csv\", \"PubChem\"],\n",
    "    \"RLM\": [r\"project_resources\\RLM_adjusted.csv\", \"ChEMBL\"],\n",
    "\n",
    "    \"HLC_source\": [r\"project_resources\\AID_1508603_datatable_all.csv\", \"PubChem\"],\n",
    "    \"HLC\": [r\"project_resources\\HLC_adjusted.csv\", \"ChEMBL\"],\n",
    "}\n",
    "# files ending in \"adjusted\" only contain mol IDs, smiles and t1/2 values\n",
    "smiles = {}\n",
    "fingerprints = {}\n",
    "fp_arrays = {}\n",
    "xy_splits = {}\n",
    "tanimoto_sims = {}\n",
    "mol_errors = {}\n",
    "stds = {}\n",
    "# lists of repeatedly needed and\\or similar info\n",
    "# dicts for storing outputs and potentially writing them into a file"
   ]
  },
  {
   "cell_type": "code",
   "execution_count": 3,
   "id": "82a0a22c-3dd8-40b4-84f9-911dc681d6ba",
   "metadata": {
    "tags": []
   },
   "outputs": [],
   "source": [
    "for isozyme in isozymes:\n",
    "    if isozyme == \"3A4\":\n",
    "        # load the downloaded file\n",
    "        orig = abs_file_path(rel_paths[\"3A4_source\"][0])\n",
    "        df_source = pd.read_csv(orig, sep=\";\")\n",
    "        # mols with Standard Type t1/2 have no Standard Value\n",
    "        df_adjusted = df_source[df_source[\"Standard Type\"] == \"T1/2\"]\n",
    "        # filter it, so that all the molecules have a t1/2 value\n",
    "        # and so that the file only includes useful info and rename certain columns\n",
    "        df_adjusted = df_adjusted[[\"Molecule ChEMBL ID\", \"Smiles\", \"Standard Type\", \"Standard Value\"]]\n",
    "        df_adjusted = df_adjusted.rename(columns={\"Molecule ChEMBL ID\": \"mol id\", \"Standard Value\": \"halflife\", \"Smiles\": \"smiles\"})\n",
    "        df_adjusted_abs_path = abs_file_path(rel_paths[\"3A4\"][0])\n",
    "        df_adjusted.to_csv(df_adjusted_abs_path, index=False)\n",
    "    elif isozyme == \"RLM\":\n",
    "        # load the downloaded file\n",
    "        orig = abs_file_path(rel_paths[\"RLM_source\"][0])\n",
    "        df_source = pd.read_csv(orig)\n",
    "        # replace >30 with 30\n",
    "        # and only inclued useful info and rename certain columns\n",
    "        df_adjusted = df_source[[\"PUBCHEM_CID\", \"Half-life (minutes)\"]]\n",
    "        df_adjusted = df_adjusted.rename(columns={\"PUBCHEM_CID\": \"mol id\", \"Half-life (minutes)\": \"halflife\"})\n",
    "        df_adjusted = df_adjusted.replace({\">30\": '30'})\n",
    "        df_adjusted_abs_path = abs_file_path(rel_paths[\"RLM\"][0])\n",
    "        df_adjusted.to_csv(df_adjusted_abs_path, index=False)\n",
    "    elif isozyme == \"HLC\":\n",
    "        orig = abs_file_path(rel_paths[\"HLC_source\"][0])\n",
    "        df_source = pd.read_csv(orig)\n",
    "        # only include useful info and rename certain columns\n",
    "        df_adjusted = df_source[[\"PUBCHEM_CID\", \"Half-life\"]]\n",
    "        df_adjusted = df_adjusted.rename(columns={\"PUBCHEM_CID\": \"mol id\", \"Half-life\": \"halflife\"})\n",
    "        df_adjusted_abs_path = abs_file_path(rel_paths[\"HLC\"][0])\n",
    "        df_adjusted.to_csv(df_adjusted_abs_path, index=False)"
   ]
  },
  {
   "cell_type": "code",
   "execution_count": 4,
   "id": "034fc60a-eade-4a58-b590-d130d13794a1",
   "metadata": {},
   "outputs": [
    {
     "name": "stdout",
     "output_type": "stream",
     "text": [
      "3A4 70 ['CCC(=O)NCC[C@@H]1CCc2ccc3c(c21)CCO3', 'C[C@@H]1CN(CC(=O)N2CC(C)(C)c3ncc([C@@H](O)c4ccc(F)cc4)cc32)[C@@H](CN2[C@H](C)COC[C@H]2C)CN1', 'COc1cc(N)c(Cl)cc1C(=O)NC1CCN(CCCOc2ccc(F)cc2)CC1OC', 'COc1cc(N)c(Cl)cc1C(=O)NC1CCN(Cc2ccccc2)CC1', 'COc1ccc2[nH]cc(CCNC(C)=O)c2c1', 'C[C@@H]1CN(CC(=O)N2CC(C)(C)c3nnc(Cc4ccc(F)cc4F)cc32)[C@@H](CN2Cc3c(F)cccc3C2=O)CN1', 'O=c1[nH]c2ccccc2n1C1CCN(CCCC(c2ccc(F)cc2)c2ccc(F)cc2)CC1', 'C[C@@H]1CN(CC(=O)N2CC(C)(C)c3ncc(Cc4ccc(F)cc4)cc32)[C@@H](CN2Cc3ccccc3C2=O)CN1', 'C[C@@H]1CN(CC(=O)N2CC(C)(C)c3ncc(Cc4ccc(F)cc4)cc32)[C@@H](CN2[C@H](C)COC[C@H]2C)CN1', 'C[C@@H]1CN(CC(=O)N2CC(C)(C)c3nc(CO)c(Cc4ccc(F)cc4)cc32)[C@@H](CN2CCOC[C@H]2C)CN1']\n",
      "RLM 2531 ['CCCCOC1=CC=C(C=C1)CC(=O)NO', 'COC1=C(C=C(C=C1)CCN2C(=CC(=O)NC2=S)N)OC', 'COC1=C(C=C(C=C1)Cl)C(=O)NC2=CC=C(C=C2)NC(=O)C3=CC=CO3', 'CC(C)(C)N1C2=NC=NC(=C2C(=N1)C3=CC=C(C=C3)Cl)N', 'CN1C2=CC=CC=C2C(=O)C3=C1N=C(N(C3=O)C4=CC=CC=C4)C5CCCCC5', 'CC1=C(C=C(C=C1)NS(=O)(=O)C2=CC=CC(=C2)C(=O)O)S(=O)(=O)N3CCOCC3', 'COC1=CC(=CC(=C1O)OC)C2=NC(=C(N2)C3=CC=CS3)C4=CC=CC=C4', 'CN(C)C1=C2C(=C(SC2=NC=C1)C(=O)N)N', 'CC(C)(C)C1CCC2=C(C1)SC(=C2C(=O)N)NC(=O)C3=CC=NC=C3', 'C1=CC=C2C(=C1)C(=N)N(N=N2)C3=CC=C(C=C3)C(F)(F)F']\n",
      "HLC 189 ['CC1=CC2=CC(=NC(=C2O1)NC3=CC(=CC=C3)F)C4=C(ON=C4C)C', 'CN(CC1=CC(=CC=C1)F)C2CCOC3=CC=CC=C23', 'C1COC2=C1C(=CN=C2NC3=CN=CN=C3)C4=CC(=CC=C4)F', 'C1CN(C2=C1C=CC=N2)C(=O)C3=CC=C(C=C3)C4=NC=C5N4C=C(N=C5)C6=CC(=CC=C6)F', 'CC1=CC=C(C=C1)NC(=O)C2=C(N3C=CSC3=N2)C4=CC=CC(=C4)C#N', 'C1CN(CC1OC2=CC(=CC=C2)F)C(=O)C3=CC=CS3', 'C1=CC(=CC(=C1)F)C2=NOC(=N2)C3=NC(=NO3)C4=CC=NC=C4', 'CN1C=CC(=N1)NC(=O)C2=CC=C(C=C2)C3=NC=C4N3C=C(N=C4)C5=CC(=CC=C5)F', 'CC1=C(C=CC(=C1)F)OC2CN(C2)CC3=CC=C(C=C3)C#N', 'C1CN2C=C(N=C2N(C1)C(=O)C3=CC=CO3)C4=CC=CC(=C4)C#N']\n"
     ]
    }
   ],
   "source": [
    "# get smiles for mols in isozyme from mol id in their respective database\n",
    "for isozyme in isozymes:\n",
    "    src = abs_file_path(rel_paths[isozyme][0])\n",
    "    df = pd.read_csv(src)\n",
    "    list_mol_id = df[\"mol id\"]\n",
    "    list_smiles = smiles_from_mol_id(list_mol_id, rel_paths[isozyme][1], isozyme)\n",
    "    smiles[isozyme] = list_smiles\n",
    "    print(isozyme, len(list_smiles), list_smiles[:10])"
   ]
  },
  {
   "cell_type": "code",
   "execution_count": 5,
   "id": "679e9084-4194-4d09-a5e5-0d1cc5e25827",
   "metadata": {
    "tags": []
   },
   "outputs": [
    {
     "name": "stdout",
     "output_type": "stream",
     "text": [
      "[array([1, 1, 0, 0, 0, 1, 0, 0, 0, 0, 1, 0, 0, 0, 0, 0, 0, 1, 0, 0, 0, 0,\n",
      "       0, 0, 0, 0, 0, 0, 0, 0, 0, 0, 0, 1, 0, 0, 1, 0, 0, 0, 0, 0, 0, 0,\n",
      "       0, 1, 0, 0, 0, 0, 0, 0, 0, 1, 0, 1, 0, 0, 1, 1, 0, 1, 1, 0, 0, 0,\n",
      "       1, 0, 0, 0, 0, 0, 0, 1, 1, 0, 1, 0, 0, 0, 1, 1, 1, 0, 1, 0, 0, 0,\n",
      "       1, 1, 1, 1, 0, 0, 0, 0, 0, 0, 0, 0, 0, 1, 1, 0, 1, 0, 1, 0, 1, 0,\n",
      "       0, 1, 1, 1, 0, 0, 0, 0, 0, 0, 0, 0, 1, 0])]\n",
      "[array([0, 0, 0, 0, 0, 1, 1, 0, 0, 0, 1, 0, 0, 0, 0, 0, 0, 1, 1, 1, 0, 0,\n",
      "       1, 0, 0, 0, 0, 0, 0, 0, 0, 0, 0, 0, 0, 0, 0, 0, 0, 0, 0, 0, 0, 1,\n",
      "       0, 1, 0, 0, 0, 0, 0, 1, 0, 1, 0, 1, 0, 0, 0, 0, 0, 0, 1, 0, 0, 0,\n",
      "       1, 1, 0, 0, 0, 0, 0, 0, 1, 0, 1, 0, 0, 0, 1, 1, 0, 0, 1, 0, 1, 0,\n",
      "       0, 0, 0, 1, 0, 0, 1, 0, 0, 1, 0, 0, 0, 0, 0, 0, 0, 0, 1, 0, 0, 1,\n",
      "       0, 1, 1, 0, 0, 0, 0, 0, 0, 0, 0, 0, 1, 0])]\n",
      "[array([0, 1, 0, 1, 1, 0, 0, 1, 1, 1, 0, 0, 0, 0, 0, 1, 0, 1, 0, 0, 1, 0,\n",
      "       0, 0, 1, 1, 0, 1, 0, 0, 1, 1, 0, 1, 0, 1, 0, 0, 0, 0, 0, 0, 0, 1,\n",
      "       0, 0, 1, 1, 0, 0, 0, 1, 0, 1, 0, 0, 0, 0, 1, 1, 1, 0, 0, 0, 0, 0,\n",
      "       0, 0, 0, 0, 0, 0, 0, 0, 0, 0, 1, 0, 0, 1, 1, 0, 0, 1, 0, 0, 0, 0,\n",
      "       0, 0, 0, 1, 0, 0, 0, 0, 0, 0, 0, 1, 0, 0, 1, 0, 1, 1, 0, 0, 1, 0,\n",
      "       0, 1, 1, 0, 0, 1, 0, 0, 0, 0, 0, 1, 1, 0])]\n"
     ]
    }
   ],
   "source": [
    "# convert smiles from every isozyme to Morgan fingerprint as numpy array\n",
    "for isozyme in isozymes:\n",
    "    fps = fp_from_smiles(smiles[isozyme])\n",
    "    fp_arrays[isozyme] = np.array(fps)\n",
    "    print(fps[:1])"
   ]
  },
  {
   "cell_type": "code",
   "execution_count": 6,
   "id": "be118957-7b6e-4590-9f79-6cd27ea801fd",
   "metadata": {},
   "outputs": [
    {
     "name": "stdout",
     "output_type": "stream",
     "text": [
      "(70, 124) (70,) (56, 124) (14, 124) (56,) (14,) (56, 124) (14, 124)\n",
      "(2531, 124) (2531,) (2024, 124) (507, 124) (2024,) (507,) (2024, 124) (507, 124)\n",
      "(189, 124) (189,) (151, 124) (38, 124) (151,) (38,) (151, 124) (38, 124)\n"
     ]
    }
   ],
   "source": [
    "# train-test split\n",
    "for isozyme in isozymes:\n",
    "    # Morgan fps as numpy arrays of smiles from given isozyme\n",
    "    x = fp_arrays[isozyme]\n",
    "    # halflife values corresponding to each of the fps\n",
    "    y = np.array(pd.read_csv(abs_file_path(rel_paths[isozyme][0]))[\"halflife\"])\n",
    "\n",
    "    idx_train, idx_test = train_test_split(np.arange(len(y)), test_size=0.2, random_state=42)\n",
    "\n",
    "    x_train = x[idx_train]\n",
    "    x_test = x[idx_test]\n",
    "\n",
    "    y_train = y[idx_train]\n",
    "    y_test = y[idx_test]\n",
    "\n",
    "    fps_train = fp_arrays[isozyme][idx_train]\n",
    "    fps_test = fp_arrays[isozyme][idx_test]\n",
    "\n",
    "    xy_splits[isozyme] = [x_train, x_test, y_train, y_test]\n",
    "\n",
    "    print(x.shape, y.shape, x_train.shape, x_test.shape, y_train.shape, y_test.shape, fps_train.shape, fps_test.shape)"
   ]
  },
  {
   "cell_type": "code",
   "execution_count": 7,
   "id": "44b6e014-8305-4d25-849f-44e08b8ca49c",
   "metadata": {},
   "outputs": [
    {
     "name": "stdout",
     "output_type": "stream",
     "text": [
      "[0.6808510638297872, 0.3684210526315789, 0.8142857142857143, 0.40625, 0.8703703703703703, 0.9649122807017544, 0.5, 0.9154929577464789, 0.810126582278481, 0.8771929824561403, 0.509090909090909, 0.9193548387096774, 0.9696969696969697, 0.9152542372881356] length: 14\n",
      "[0.8085106382978723, 1.0, 0.7692307692307693, 0.6346153846153846, 0.8, 0.5172413793103449, 0.5245901639344263, 0.7540983606557377, 0.515625, 0.9736842105263158, 0.8163265306122449, 0.525, 0.8260869565217391, 0.8333333333333334, 0.9767441860465116, 0.5070422535211268, 0.5964912280701754, 0.813953488372093, 0.4666666666666667, 0.48148148148148145, 0.625, 0.4423076923076923, 0.86, 0.49056603773584906, 0.7272727272727273] length: 507\n",
      "[0.8333333333333334, 0.8297872340425532, 0.46296296296296297, 0.7567567567567568, 0.8055555555555556, 0.5306122448979592, 0.725, 0.8666666666666667, 0.7419354838709677, 0.7391304347826086, 0.8048780487804879, 0.7948717948717948, 0.775, 0.8709677419354839, 0.8297872340425532, 0.8333333333333334, 0.6666666666666666, 0.8125, 0.43137254901960786, 0.4423076923076923, 0.775, 0.7948717948717948, 0.813953488372093, 0.7954545454545454, 0.88] length: 38\n"
     ]
    }
   ],
   "source": [
    "for isozyme in isozymes:\n",
    "    tanimoto_similarities = tanimoto(xy_splits[isozyme][1], xy_splits[isozyme][0])\n",
    "    tanimoto_sims[isozyme] = tanimoto_similarities"
   ]
  },
  {
   "cell_type": "code",
   "execution_count": 8,
   "id": "54c48e90-639b-44a6-9de3-ebd950b65ede",
   "metadata": {
    "tags": []
   },
   "outputs": [
    {
     "name": "stdout",
     "output_type": "stream",
     "text": [
      "(56, 124) (56,) (14, 124) (14,)\n"
     ]
    },
    {
     "ename": "ValueError",
     "evalue": "Found input variables with inconsistent numbers of samples: [56, 14]",
     "output_type": "error",
     "traceback": [
      "\u001b[1;31m---------------------------------------------------------------------------\u001b[0m",
      "\u001b[1;31mValueError\u001b[0m                                Traceback (most recent call last)",
      "Cell \u001b[1;32mIn[8], line 7\u001b[0m\n\u001b[0;32m      5\u001b[0m y_test \u001b[38;5;241m=\u001b[39m xy_splits[isozyme][\u001b[38;5;241m3\u001b[39m]\n\u001b[0;32m      6\u001b[0m \u001b[38;5;28mprint\u001b[39m(x_train\u001b[38;5;241m.\u001b[39mshape, y_train\u001b[38;5;241m.\u001b[39mshape, x_test\u001b[38;5;241m.\u001b[39mshape, y_test\u001b[38;5;241m.\u001b[39mshape)\n\u001b[1;32m----> 7\u001b[0m mol_err, std \u001b[38;5;241m=\u001b[39m mol_err_and_std(models, x_train, x_test, y_train, y_test)\n\u001b[0;32m      8\u001b[0m mol_errors[isozyme] \u001b[38;5;241m=\u001b[39m mol_err\n\u001b[0;32m      9\u001b[0m stds[isozyme] \u001b[38;5;241m=\u001b[39m std\n",
      "File \u001b[1;32m<string>:8\u001b[0m, in \u001b[0;36mmol_err_and_std\u001b[1;34m(models, x_train, x_test, y_train, y_test)\u001b[0m\n",
      "File \u001b[1;32m<string>:48\u001b[0m, in \u001b[0;36mparam_tuning\u001b[1;34m(x_train, x_test, y_train, y_test, type_ml_use, show_print)\u001b[0m\n",
      "File \u001b[1;32m~\\anaconda3\\envs\\soc\\Lib\\site-packages\\sklearn\\model_selection\\_search.py:782\u001b[0m, in \u001b[0;36mBaseSearchCV.fit\u001b[1;34m(self, X, y, groups, **fit_params)\u001b[0m\n\u001b[0;32m    779\u001b[0m     \u001b[38;5;28mself\u001b[39m\u001b[38;5;241m.\u001b[39m_check_refit_for_multimetric(scorers)\n\u001b[0;32m    780\u001b[0m     refit_metric \u001b[38;5;241m=\u001b[39m \u001b[38;5;28mself\u001b[39m\u001b[38;5;241m.\u001b[39mrefit\n\u001b[1;32m--> 782\u001b[0m X, y, groups \u001b[38;5;241m=\u001b[39m indexable(X, y, groups)\n\u001b[0;32m    783\u001b[0m fit_params \u001b[38;5;241m=\u001b[39m _check_fit_params(X, fit_params)\n\u001b[0;32m    785\u001b[0m cv_orig \u001b[38;5;241m=\u001b[39m check_cv(\u001b[38;5;28mself\u001b[39m\u001b[38;5;241m.\u001b[39mcv, y, classifier\u001b[38;5;241m=\u001b[39mis_classifier(estimator))\n",
      "File \u001b[1;32m~\\anaconda3\\envs\\soc\\Lib\\site-packages\\sklearn\\utils\\validation.py:443\u001b[0m, in \u001b[0;36mindexable\u001b[1;34m(*iterables)\u001b[0m\n\u001b[0;32m    424\u001b[0m \u001b[38;5;124;03m\"\"\"Make arrays indexable for cross-validation.\u001b[39;00m\n\u001b[0;32m    425\u001b[0m \n\u001b[0;32m    426\u001b[0m \u001b[38;5;124;03mChecks consistent length, passes through None, and ensures that everything\u001b[39;00m\n\u001b[1;32m   (...)\u001b[0m\n\u001b[0;32m    439\u001b[0m \u001b[38;5;124;03m    sparse matrix, or dataframe) or `None`.\u001b[39;00m\n\u001b[0;32m    440\u001b[0m \u001b[38;5;124;03m\"\"\"\u001b[39;00m\n\u001b[0;32m    442\u001b[0m result \u001b[38;5;241m=\u001b[39m [_make_indexable(X) \u001b[38;5;28;01mfor\u001b[39;00m X \u001b[38;5;129;01min\u001b[39;00m iterables]\n\u001b[1;32m--> 443\u001b[0m check_consistent_length(\u001b[38;5;241m*\u001b[39mresult)\n\u001b[0;32m    444\u001b[0m \u001b[38;5;28;01mreturn\u001b[39;00m result\n",
      "File \u001b[1;32m~\\anaconda3\\envs\\soc\\Lib\\site-packages\\sklearn\\utils\\validation.py:397\u001b[0m, in \u001b[0;36mcheck_consistent_length\u001b[1;34m(*arrays)\u001b[0m\n\u001b[0;32m    395\u001b[0m uniques \u001b[38;5;241m=\u001b[39m np\u001b[38;5;241m.\u001b[39munique(lengths)\n\u001b[0;32m    396\u001b[0m \u001b[38;5;28;01mif\u001b[39;00m \u001b[38;5;28mlen\u001b[39m(uniques) \u001b[38;5;241m>\u001b[39m \u001b[38;5;241m1\u001b[39m:\n\u001b[1;32m--> 397\u001b[0m     \u001b[38;5;28;01mraise\u001b[39;00m \u001b[38;5;167;01mValueError\u001b[39;00m(\n\u001b[0;32m    398\u001b[0m         \u001b[38;5;124m\"\u001b[39m\u001b[38;5;124mFound input variables with inconsistent numbers of samples: \u001b[39m\u001b[38;5;132;01m%r\u001b[39;00m\u001b[38;5;124m\"\u001b[39m\n\u001b[0;32m    399\u001b[0m         \u001b[38;5;241m%\u001b[39m [\u001b[38;5;28mint\u001b[39m(l) \u001b[38;5;28;01mfor\u001b[39;00m l \u001b[38;5;129;01min\u001b[39;00m lengths]\n\u001b[0;32m    400\u001b[0m     )\n",
      "\u001b[1;31mValueError\u001b[0m: Found input variables with inconsistent numbers of samples: [56, 14]"
     ]
    }
   ],
   "source": [
    "for isozyme in isozymes:\n",
    "    x_train = xy_splits[isozyme][0]\n",
    "    x_test = xy_splits[isozyme][1]\n",
    "    y_train = xy_splits[isozyme][2]\n",
    "    y_test = xy_splits[isozyme][3]\n",
    "    print(x_train.shape, y_train.shape, x_test.shape, y_test.shape)\n",
    "    mol_err, std = mol_err_and_std(models, x_train, x_test, y_train, y_test)\n",
    "    mol_errors[isozyme] = mol_err\n",
    "    stds[isozyme] = std\n",
    "    print(f\"{isozyme}\\n molecule errors: {mol_err_dict}\\n std: {std_dict}\")"
   ]
  },
  {
   "cell_type": "code",
   "execution_count": 9,
   "id": "fda34bb5-f90f-4b0d-902b-aaddcbdc6b96",
   "metadata": {
    "tags": []
   },
   "outputs": [
    {
     "ename": "ValueError",
     "evalue": "Found input variables with inconsistent numbers of samples: [56, 14]",
     "output_type": "error",
     "traceback": [
      "\u001b[1;31m---------------------------------------------------------------------------\u001b[0m",
      "\u001b[1;31mValueError\u001b[0m                                Traceback (most recent call last)",
      "Cell \u001b[1;32mIn[9], line 2\u001b[0m\n\u001b[0;32m      1\u001b[0m \u001b[38;5;28;01mfor\u001b[39;00m model \u001b[38;5;129;01min\u001b[39;00m models:\n\u001b[1;32m----> 2\u001b[0m     y_train_predict, y_test_predict, abs_error \u001b[38;5;241m=\u001b[39m param_tuning(x_train, y_train, x_test, y_test, model)\n\u001b[0;32m      3\u001b[0m     create_scatter_plot(tanimoto_similarities, abs_error, model, \u001b[38;5;124m\"\u001b[39m\u001b[38;5;124mtanimoto similarities\u001b[39m\u001b[38;5;124m\"\u001b[39m, \u001b[38;5;124m\"\u001b[39m\u001b[38;5;124mabs error\u001b[39m\u001b[38;5;124m\"\u001b[39m)\n",
      "File \u001b[1;32m<string>:48\u001b[0m, in \u001b[0;36mparam_tuning\u001b[1;34m(x_train, x_test, y_train, y_test, type_ml_use, show_print)\u001b[0m\n",
      "File \u001b[1;32m~\\anaconda3\\envs\\soc\\Lib\\site-packages\\sklearn\\model_selection\\_search.py:782\u001b[0m, in \u001b[0;36mBaseSearchCV.fit\u001b[1;34m(self, X, y, groups, **fit_params)\u001b[0m\n\u001b[0;32m    779\u001b[0m     \u001b[38;5;28mself\u001b[39m\u001b[38;5;241m.\u001b[39m_check_refit_for_multimetric(scorers)\n\u001b[0;32m    780\u001b[0m     refit_metric \u001b[38;5;241m=\u001b[39m \u001b[38;5;28mself\u001b[39m\u001b[38;5;241m.\u001b[39mrefit\n\u001b[1;32m--> 782\u001b[0m X, y, groups \u001b[38;5;241m=\u001b[39m indexable(X, y, groups)\n\u001b[0;32m    783\u001b[0m fit_params \u001b[38;5;241m=\u001b[39m _check_fit_params(X, fit_params)\n\u001b[0;32m    785\u001b[0m cv_orig \u001b[38;5;241m=\u001b[39m check_cv(\u001b[38;5;28mself\u001b[39m\u001b[38;5;241m.\u001b[39mcv, y, classifier\u001b[38;5;241m=\u001b[39mis_classifier(estimator))\n",
      "File \u001b[1;32m~\\anaconda3\\envs\\soc\\Lib\\site-packages\\sklearn\\utils\\validation.py:443\u001b[0m, in \u001b[0;36mindexable\u001b[1;34m(*iterables)\u001b[0m\n\u001b[0;32m    424\u001b[0m \u001b[38;5;124;03m\"\"\"Make arrays indexable for cross-validation.\u001b[39;00m\n\u001b[0;32m    425\u001b[0m \n\u001b[0;32m    426\u001b[0m \u001b[38;5;124;03mChecks consistent length, passes through None, and ensures that everything\u001b[39;00m\n\u001b[1;32m   (...)\u001b[0m\n\u001b[0;32m    439\u001b[0m \u001b[38;5;124;03m    sparse matrix, or dataframe) or `None`.\u001b[39;00m\n\u001b[0;32m    440\u001b[0m \u001b[38;5;124;03m\"\"\"\u001b[39;00m\n\u001b[0;32m    442\u001b[0m result \u001b[38;5;241m=\u001b[39m [_make_indexable(X) \u001b[38;5;28;01mfor\u001b[39;00m X \u001b[38;5;129;01min\u001b[39;00m iterables]\n\u001b[1;32m--> 443\u001b[0m check_consistent_length(\u001b[38;5;241m*\u001b[39mresult)\n\u001b[0;32m    444\u001b[0m \u001b[38;5;28;01mreturn\u001b[39;00m result\n",
      "File \u001b[1;32m~\\anaconda3\\envs\\soc\\Lib\\site-packages\\sklearn\\utils\\validation.py:397\u001b[0m, in \u001b[0;36mcheck_consistent_length\u001b[1;34m(*arrays)\u001b[0m\n\u001b[0;32m    395\u001b[0m uniques \u001b[38;5;241m=\u001b[39m np\u001b[38;5;241m.\u001b[39munique(lengths)\n\u001b[0;32m    396\u001b[0m \u001b[38;5;28;01mif\u001b[39;00m \u001b[38;5;28mlen\u001b[39m(uniques) \u001b[38;5;241m>\u001b[39m \u001b[38;5;241m1\u001b[39m:\n\u001b[1;32m--> 397\u001b[0m     \u001b[38;5;28;01mraise\u001b[39;00m \u001b[38;5;167;01mValueError\u001b[39;00m(\n\u001b[0;32m    398\u001b[0m         \u001b[38;5;124m\"\u001b[39m\u001b[38;5;124mFound input variables with inconsistent numbers of samples: \u001b[39m\u001b[38;5;132;01m%r\u001b[39;00m\u001b[38;5;124m\"\u001b[39m\n\u001b[0;32m    399\u001b[0m         \u001b[38;5;241m%\u001b[39m [\u001b[38;5;28mint\u001b[39m(l) \u001b[38;5;28;01mfor\u001b[39;00m l \u001b[38;5;129;01min\u001b[39;00m lengths]\n\u001b[0;32m    400\u001b[0m     )\n",
      "\u001b[1;31mValueError\u001b[0m: Found input variables with inconsistent numbers of samples: [56, 14]"
     ]
    }
   ],
   "source": [
    "for model in models:\n",
    "    y_train_predict, y_test_predict, abs_error = param_tuning(x_train, y_train, x_test, y_test, model)\n",
    "    create_scatter_plot(tanimoto_similarities, abs_error, model, \"tanimoto similarities\", \"abs error\")"
   ]
  },
  {
   "cell_type": "code",
   "execution_count": 10,
   "id": "6007a291-16a6-44fa-ac60-648684f958b3",
   "metadata": {
    "tags": []
   },
   "outputs": [
    {
     "ename": "NameError",
     "evalue": "name 'mol_err_dict' is not defined",
     "output_type": "error",
     "traceback": [
      "\u001b[1;31m---------------------------------------------------------------------------\u001b[0m",
      "\u001b[1;31mNameError\u001b[0m                                 Traceback (most recent call last)",
      "Cell \u001b[1;32mIn[10], line 3\u001b[0m\n\u001b[0;32m      1\u001b[0m \u001b[38;5;28;01mfor\u001b[39;00m model \u001b[38;5;129;01min\u001b[39;00m models:\n\u001b[0;32m      2\u001b[0m     plt\u001b[38;5;241m.\u001b[39mclf()\n\u001b[1;32m----> 3\u001b[0m     plt\u001b[38;5;241m.\u001b[39merrorbar(mol_err_dict[model], y_test, yerr\u001b[38;5;241m=\u001b[39mstd_dict[model], linewidth\u001b[38;5;241m=\u001b[39m\u001b[38;5;241m1\u001b[39m, capsize\u001b[38;5;241m=\u001b[39m\u001b[38;5;241m2\u001b[39m, fmt\u001b[38;5;241m=\u001b[39m\u001b[38;5;124m'\u001b[39m\u001b[38;5;124mo\u001b[39m\u001b[38;5;124m'\u001b[39m)\n\u001b[0;32m      4\u001b[0m     plt\u001b[38;5;241m.\u001b[39mxlabel(\u001b[38;5;124m'\u001b[39m\u001b[38;5;124mmolecule error\u001b[39m\u001b[38;5;124m'\u001b[39m)\n\u001b[0;32m      5\u001b[0m     plt\u001b[38;5;241m.\u001b[39mylabel(\u001b[38;5;124m'\u001b[39m\u001b[38;5;124my test\u001b[39m\u001b[38;5;124m'\u001b[39m)\n",
      "\u001b[1;31mNameError\u001b[0m: name 'mol_err_dict' is not defined"
     ]
    },
    {
     "data": {
      "text/plain": [
       "<Figure size 640x480 with 0 Axes>"
      ]
     },
     "metadata": {},
     "output_type": "display_data"
    }
   ],
   "source": [
    "for model in models:\n",
    "    plt.clf()\n",
    "    plt.errorbar(mol_err_dict[model], y_test, yerr=std_dict[model], linewidth=1, capsize=2, fmt='o')\n",
    "    plt.xlabel('molecule error')\n",
    "    plt.ylabel('y test')\n",
    "    plt.suptitle(model)\n",
    "    plt.show()"
   ]
  },
  {
   "cell_type": "code",
   "execution_count": null,
   "id": "f5116c84-6191-4742-ae60-d26ab5e63037",
   "metadata": {},
   "outputs": [],
   "source": []
  }
 ],
 "metadata": {
  "kernelspec": {
   "display_name": "Python 3 (ipykernel)",
   "language": "python",
   "name": "python3"
  },
  "language_info": {
   "codemirror_mode": {
    "name": "ipython",
    "version": 3
   },
   "file_extension": ".py",
   "mimetype": "text/x-python",
   "name": "python",
   "nbconvert_exporter": "python",
   "pygments_lexer": "ipython3",
   "version": "3.11.3"
  }
 },
 "nbformat": 4,
 "nbformat_minor": 5
}
