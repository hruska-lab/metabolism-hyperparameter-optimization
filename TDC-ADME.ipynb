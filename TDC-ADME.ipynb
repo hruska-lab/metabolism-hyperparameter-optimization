{
 "cells": [
  {
   "cell_type": "code",
   "execution_count": 1,
   "id": "62fdaba6-1e6d-426d-8d91-63e57a6ecce3",
   "metadata": {
    "tags": []
   },
   "outputs": [
    {
     "name": "stderr",
     "output_type": "stream",
     "text": [
      "C:\\Users\\Lukas\\anaconda3\\envs\\soc\\Lib\\site-packages\\tqdm\\auto.py:21: TqdmWarning: IProgress not found. Please update jupyter and ipywidgets. See https://ipywidgets.readthedocs.io/en/stable/user_install.html\n",
      "  from .autonotebook import tqdm as notebook_tqdm\n"
     ]
    },
    {
     "name": "stdout",
     "output_type": "stream",
     "text": [
      "importing Jupyter notebook from C:\\Users\\Lukas\\Documents\\datacytochromy\\project_resources\\cytochrome_P450.ipynb\n"
     ]
    }
   ],
   "source": [
    "import optuna\n",
    "import joblib\n",
    "import numpy as np\n",
    "import pandas as pd\n",
    "import sys\n",
    "from concurrent.futures import ThreadPoolExecutor\n",
    "from optuna.storages import JournalStorage, JournalFileStorage\n",
    "from tdc.single_pred import ADME\n",
    "from project_resources.import_utils import NotebookFinder\n",
    "from sklearn.kernel_ridge import KernelRidge\n",
    "from sklearn.ensemble import RandomForestRegressor\n",
    "from sklearn.ensemble import GradientBoostingRegressor\n",
    "from sklearn.neural_network import MLPRegressor\n",
    "from sklearn.linear_model import ElasticNet\n",
    "sys.meta_path.append(NotebookFinder())\n",
    "from project_resources.cytochrome_P450 import fp_from_smiles, parse_jazzy_df, HyperparamTuner"
   ]
  },
  {
   "cell_type": "code",
   "execution_count": 2,
   "id": "ca8413a4-e26d-4131-939b-bb83c3e8c166",
   "metadata": {
    "tags": []
   },
   "outputs": [],
   "source": [
    "tdc_benchmarks = [\"obach\", \"microsome\", \"hepatocyte\"]\n",
    "tdc_datasets = {}\n",
    "smiles = {}\n",
    "halflives = {}\n",
    "mol_features = {}"
   ]
  },
  {
   "cell_type": "code",
   "execution_count": 3,
   "id": "03579a1f-49c1-4951-a87e-1bbbc5588780",
   "metadata": {
    "tags": []
   },
   "outputs": [
    {
     "name": "stderr",
     "output_type": "stream",
     "text": [
      "Found local copy...\n",
      "Loading...\n",
      "Done!\n",
      "Found local copy...\n",
      "Loading...\n",
      "Done!\n",
      "Found local copy...\n",
      "Loading...\n",
      "Done!\n"
     ]
    }
   ],
   "source": [
    "obach = ADME(name='Half_Life_Obach')\n",
    "obach_split = obach.get_split()\n",
    "tdc_datasets[\"obach\"] = obach_split\n",
    "microsome = ADME(name='Clearance_Microsome_AZ')\n",
    "microsome_split = microsome.get_split()\n",
    "tdc_datasets[\"microsome\"] = microsome_split\n",
    "hepatocyte = ADME(name='Clearance_Hepatocyte_AZ')\n",
    "hepatocyte_split = hepatocyte.get_split()\n",
    "tdc_datasets[\"hepatocyte\"] = hepatocyte_split"
   ]
  },
  {
   "cell_type": "code",
   "execution_count": 4,
   "id": "828c0176-8f0c-4767-9c37-cbabf3a3b639",
   "metadata": {
    "tags": []
   },
   "outputs": [
    {
     "name": "stdout",
     "output_type": "stream",
     "text": [
      "obach\n",
      "(467,) (467,) (133,) (133,)\n",
      "microsome\n",
      "(772,) (772,) (220,) (220,)\n",
      "hepatocyte\n",
      "(849,) (849,) (243,) (243,)\n"
     ]
    }
   ],
   "source": [
    "for benchmark in tdc_benchmarks:\n",
    "    print(benchmark)\n",
    "    smiles[benchmark] = {}\n",
    "    halflives[benchmark] = {}\n",
    "    halflives[benchmark][\"morgan\"] = {}\n",
    "    \n",
    "    benchmark_train_smiles = tdc_datasets[benchmark][\"train\"][\"Drug\"]\n",
    "    benchmark_test_smiles = tdc_datasets[benchmark][\"test\"][\"Drug\"]\n",
    "    smiles[benchmark][\"train\"] = np.array(benchmark_train_smiles)\n",
    "    smiles[benchmark][\"test\"] = np.array(benchmark_test_smiles)\n",
    "    \n",
    "    benchmark_train_halflives = tdc_datasets[benchmark][\"train\"][\"Y\"]\n",
    "    benchmark_test_halflives = tdc_datasets[benchmark][\"test\"][\"Y\"]\n",
    "    halflives[benchmark][\"morgan\"][\"train\"] = np.array(benchmark_train_halflives)\n",
    "    halflives[benchmark][\"morgan\"][\"test\"] = np.array(benchmark_test_halflives)\n",
    "    \n",
    "    print(benchmark_train_smiles.shape, benchmark_train_halflives.shape, benchmark_test_smiles.shape, benchmark_test_halflives.shape)"
   ]
  },
  {
   "cell_type": "code",
   "execution_count": 5,
   "id": "34575477-5ab1-473e-82f8-f5e1d9622939",
   "metadata": {
    "tags": []
   },
   "outputs": [
    {
     "name": "stdout",
     "output_type": "stream",
     "text": [
      "obach\n",
      "(467, 124) (133, 124)\n",
      "microsome\n",
      "(772, 124) (220, 124)\n",
      "hepatocyte\n",
      "(849, 124) (243, 124)\n"
     ]
    }
   ],
   "source": [
    "mol_features[\"morgan\"] = {}\n",
    "for benchmark in tdc_benchmarks:\n",
    "    print(benchmark)\n",
    "    mol_features[\"morgan\"][benchmark] = {}\n",
    "    train_morgan_fps = np.array(fp_from_smiles(smiles[benchmark][\"train\"]))\n",
    "    test_morgan_fps = np.array(fp_from_smiles(smiles[benchmark][\"test\"]))\n",
    "    mol_features[\"morgan\"][benchmark][\"train\"] = train_morgan_fps\n",
    "    mol_features[\"morgan\"][benchmark][\"test\"] = test_morgan_fps\n",
    "    print(train_morgan_fps.shape, test_morgan_fps.shape)"
   ]
  },
  {
   "cell_type": "code",
   "execution_count": 6,
   "id": "05970aa3-cc6d-413c-92df-cd2793ce3d8e",
   "metadata": {
    "tags": []
   },
   "outputs": [
    {
     "name": "stdout",
     "output_type": "stream",
     "text": [
      "obach\n",
      "     525, [0.0033169983665033, 11.3305, 0.0, 3.3351, -4.054, -69.5826, -60.2942]\n",
      "     130, [0.0078064793190067, 10.9705, 1.8136, 5.8249, -16.4281, -118.9807, -121.6516]\n",
      "(525, 6) (525,) (130, 6) (130,)\n",
      "microsome\n",
      "     882, [0.0652380952380952, 10.5072, 1.4478, 4.6964, -13.5025, -92.8889, -106.3914]\n",
      "     220, [0.0884353741496598, 3.5084, 3.5128, 4.5042, -12.6756, -80.3865, -84.2257]\n",
      "(882, 6) (882,) (220, 6) (220,)\n",
      "hepatocyte\n",
      "     970, [0.0, 9.8552, 1.4451, 4.4407, -15.1209, -91.0733, -102.926]\n",
      "     243, [0.0825850340136054, 10.2098, 1.292, 5.2199, -18.4498, -95.9609, -98.199]\n",
      "(970, 6) (970,) (243, 6) (243,)\n"
     ]
    }
   ],
   "source": [
    "mol_features[\"jazzy\"] = {}\n",
    "halflives[\"jazzy\"] = {}\n",
    "for benchmark in tdc_benchmarks:\n",
    "    print(benchmark)\n",
    "    train_jazzy_df = pd.read_csv(f\"project_resources/jazzy_splits/TDC/{benchmark}_train.csv\")\n",
    "    test_jazzy_df = pd.read_csv(f\"project_resources/jazzy_splits/TDC/{benchmark}_test.csv\")\n",
    "    train_fts, train_jazzy_thalfs, contains_nan = parse_jazzy_df(train_jazzy_df, no_idx_smi=True)\n",
    "    test_fts, test_jazzy_thalfs, contains_nan = parse_jazzy_df(test_jazzy_df, no_idx_smi=True)\n",
    "    \n",
    "    mol_features[\"jazzy\"][benchmark] = {}\n",
    "    mol_features[\"jazzy\"][benchmark][\"train\"] = train_fts\n",
    "    mol_features[\"jazzy\"][benchmark][\"test\"] = test_fts\n",
    "    halflives[\"jazzy\"][benchmark] = {}\n",
    "    halflives[\"jazzy\"][benchmark][\"train\"] = train_jazzy_thalfs\n",
    "    halflives[\"jazzy\"][benchmark][\"test\"] = test_jazzy_thalfs\n",
    "    \n",
    "    print(np.array(train_fts).shape, np.array(train_jazzy_thalfs).shape, np.array(test_fts).shape, np.array(test_jazzy_thalfs).shape)"
   ]
  },
  {
   "cell_type": "code",
   "execution_count": null,
   "id": "48936b61-fcf6-410c-bb54-f05751a023ed",
   "metadata": {},
   "outputs": [],
   "source": []
  }
 ],
 "metadata": {
  "kernelspec": {
   "display_name": "Python 3 (ipykernel)",
   "language": "python",
   "name": "python3"
  },
  "language_info": {
   "codemirror_mode": {
    "name": "ipython",
    "version": 3
   },
   "file_extension": ".py",
   "mimetype": "text/x-python",
   "name": "python",
   "nbconvert_exporter": "python",
   "pygments_lexer": "ipython3",
   "version": "3.11.4"
  }
 },
 "nbformat": 4,
 "nbformat_minor": 5
}
