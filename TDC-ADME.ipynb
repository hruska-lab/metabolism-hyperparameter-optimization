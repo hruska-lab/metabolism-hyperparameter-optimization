{
 "cells": [
  {
   "cell_type": "code",
   "execution_count": 1,
   "id": "62fdaba6-1e6d-426d-8d91-63e57a6ecce3",
   "metadata": {
    "tags": []
   },
   "outputs": [
    {
     "name": "stdout",
     "output_type": "stream",
     "text": [
      "importing Jupyter notebook from C:\\Users\\Lukas\\Documents\\datacytochromy\\project_resources\\cytochrome_P450.ipynb\n"
     ]
    }
   ],
   "source": [
    "import optuna\n",
    "import joblib\n",
    "import numpy as np\n",
    "import pandas as pd\n",
    "import sys\n",
    "from concurrent.futures import ThreadPoolExecutor\n",
    "from optuna.storages import JournalStorage, JournalFileStorage\n",
    "from project_resources.import_utils import NotebookFinder\n",
    "sys.meta_path.append(NotebookFinder())\n",
    "from project_resources.cytochrome_P450 import load_ml_data, HyperparamTuner"
   ]
  },
  {
   "cell_type": "code",
   "execution_count": 2,
   "id": "ca8413a4-e26d-4131-939b-bb83c3e8c166",
   "metadata": {
    "tags": []
   },
   "outputs": [],
   "source": [
    "# sampler - a method used to generate new sets of hyperparameters in each iteration of the optimization process\n",
    "samplers = {\n",
    "    'RandomSampler': optuna.samplers.RandomSampler,          # Sampler that selects hyperparameters randomly from the search space.\n",
    "    'GridSampler': optuna.samplers.GridSampler,              # Sampler that performs a grid search over the hyperparameter space.\n",
    "    'TPESampler': optuna.samplers.TPESampler,                # Sampler that uses a tree-structured Parzen estimator to model the objective function and sample new points from the search space.\n",
    "    'CmaEsSampler': optuna.samplers.CmaEsSampler,            # Sampler that uses the Covariance Matrix Adaptation Evolution Strategy algorithm to efficiently search the hyperparameter space.\n",
    "    'NSGAIISampler': optuna.samplers.NSGAIISampler,          # Multi-objective evolutionary algorithm that generates new samples using non-dominated sorting and crowding distance selection.\n",
    "    'QMCSampler': optuna.samplers.QMCSampler,                # Quasi-Monte Carlo sampler that uses low-discrepancy sequences to sample the search space in a more efficient and evenly distributed way than random sampling.\n",
    "    'BoTorchSampler': optuna.integration.BoTorchSampler,     # Sampler that leverages the BoTorch library for Bayesian optimization and can handle both continuous and categorical hyperparameters.\n",
    "    'BruteForceSampler': optuna.samplers.BruteForceSampler,  # Sampler that exhaustively evaluates all possible combinations of hyperparameters in the search space.\n",
    "}\n",
    "# pruner - a technique used to eliminate unpromising trials during the course of hyperparameter optimization.\n",
    "pruners = {\n",
    "    'BasePruner': optuna.pruners.BasePruner,                            # This is the base class for all pruning strategies in Optuna. It provides a skeleton for implementing custom pruning strategies.\n",
    "    'MedianPruner': optuna.pruners.MedianPruner,                        # A pruner that prunes unpromising trials that have median objective values, as determined in previous steps.\n",
    "    'SuccessiveHalvingPruner': optuna.pruners.SuccessiveHalvingPruner,  # This pruner repeatedly splits trials into halves, discarding the lower performing half at each iteration.\n",
    "    'HyperbandPruner': optuna.pruners.HyperbandPruner,                  # This pruner implements the Hyperband algorithm, which selects promising trials and runs them with different resource allocation schemes to determine the best one.\n",
    "    'PercentilePruner': optuna.pruners.PercentilePruner,                # A pruner that prunes unpromising trials based on their percentile rank relative to all completed trials.\n",
    "    'NopPruner': optuna.pruners.NopPruner,                              # A pruner that does nothing and does not prune any trials.\n",
    "    'ThresholdPruner': optuna.pruners.ThresholdPruner,                  # This pruner prunes trials that have not reached a certain level of performance (i.e., objective value).\n",
    "    'PatientPruner': optuna.pruners.PatientPruner,                      # This pruner prunes trials that do not show improvement over a certain number of steps (or epochs).\n",
    "}"
   ]
  },
  {
   "cell_type": "code",
   "execution_count": null,
   "id": "48936b61-fcf6-410c-bb54-f05751a023ed",
   "metadata": {
    "tags": []
   },
   "outputs": [
    {
     "name": "stderr",
     "output_type": "stream",
     "text": [
      "Found local copy...\n",
      "Loading...\n",
      "Done!\n",
      "100%|███████████████████████████████████████████████████████████████████████████████| 667/667 [00:01<00:00, 642.19it/s]\n",
      "[I 2024-03-19 11:12:05,450] A new study created in Journal with name: linear\n",
      "[I 2024-03-19 11:12:05,474] A new study created in Journal with name: KRR\n",
      "[I 2024-03-19 11:12:05,507] A new study created in Journal with name: GB\n",
      "[I 2024-03-19 11:12:05,548] A new study created in Journal with name: RF\n"
     ]
    },
    {
     "name": "stdout",
     "output_type": "stream",
     "text": [
      "morgan obach linear\n",
      "morgan obach KRR\n",
      "morgan obach GB\n",
      "morgan obach RF\n"
     ]
    },
    {
     "name": "stderr",
     "output_type": "stream",
     "text": [
      "[I 2024-03-19 11:12:05,660] A new study created in Journal with name: ANN\n",
      "Found local copy...\n",
      "Loading...\n",
      "Done!\n"
     ]
    },
    {
     "name": "stdout",
     "output_type": "stream",
     "text": [
      "morgan obach ANN\n"
     ]
    },
    {
     "name": "stderr",
     "output_type": "stream",
     "text": [
      " 80%|██████████████████████████████████████████████████████████████▍               | 971/1213 [00:01<00:00, 667.44it/s]"
     ]
    },
    {
     "name": "stdout",
     "output_type": "stream",
     "text": [
      "Successfully created linear.csv with results of trial 0 as the first entry\n"
     ]
    },
    {
     "name": "stderr",
     "output_type": "stream",
     "text": [
      " 93%|███████████████████████████████████████████████████████████████████████▍     | 1125/1213 [00:01<00:00, 717.83it/s][I 2024-03-19 11:12:07,672] Trial 0 finished with value: 0.11217470378974644 and parameters: {'alpha': 0.016451642012311772, 'l1_ratio': 0.04284916602665009}. Best is trial 0 with value: 0.11217470378974644.\n",
      "100%|█████████████████████████████████████████████████████████████████████████████| 1213/1213 [00:02<00:00, 600.55it/s]"
     ]
    },
    {
     "name": "stdout",
     "output_type": "stream",
     "text": [
      "Successfully created KRR.csv with results of trial 0 as the first entry\n"
     ]
    },
    {
     "name": "stderr",
     "output_type": "stream",
     "text": [
      "\n",
      "[I 2024-03-19 11:12:07,938] Trial 0 finished with value: 0.09219495476186866 and parameters: {'alpha': 0.5545262853204351, 'gamma': 0.2477606148771775, 'kernel': 'laplacian'}. Best is trial 0 with value: 0.09219495476186866.\n",
      "[I 2024-03-19 11:12:09,133] A new study created in Journal with name: linear\n",
      "[I 2024-03-19 11:12:09,239] A new study created in Journal with name: KRR\n"
     ]
    },
    {
     "name": "stdout",
     "output_type": "stream",
     "text": [
      "morgan hepatocyte linear\n",
      "morgan hepatocyte KRR\n",
      "Successfully created GB.csv with results of trial 0 as the first entry\n",
      "morgan hepatocyte GB\n"
     ]
    },
    {
     "name": "stderr",
     "output_type": "stream",
     "text": [
      "[I 2024-03-19 11:12:09,365] Trial 0 finished with value: 0.059163752156484166 and parameters: {'n_estimators': 20, 'learning_rate': 0.17286359849513466, 'max_depth': 1}. Best is trial 0 with value: 0.059163752156484166.\n",
      "[I 2024-03-19 11:12:09,371] A new study created in Journal with name: GB\n",
      "[I 2024-03-19 11:12:09,447] Trial 1 finished with value: 0.10937712137622961 and parameters: {'alpha': 0.012452431392373765, 'l1_ratio': 0.04531839774607901}. Best is trial 0 with value: 0.11217470378974644.\n",
      "[I 2024-03-19 11:12:09,453] A new study created in Journal with name: RF\n"
     ]
    },
    {
     "name": "stdout",
     "output_type": "stream",
     "text": [
      "Successfully updated linear.csv with results of trial 1morgan hepatocyte RF\n",
      "\n"
     ]
    },
    {
     "name": "stderr",
     "output_type": "stream",
     "text": [
      "[I 2024-03-19 11:12:09,730] A new study created in Journal with name: ANN\n"
     ]
    },
    {
     "name": "stdout",
     "output_type": "stream",
     "text": [
      "morgan hepatocyte ANN\n"
     ]
    },
    {
     "name": "stderr",
     "output_type": "stream",
     "text": [
      "Found local copy...\n",
      "Loading...\n"
     ]
    },
    {
     "name": "stdout",
     "output_type": "stream",
     "text": [
      "Successfully created linear.csv with results of trial 0 as the first entry\n"
     ]
    },
    {
     "name": "stderr",
     "output_type": "stream",
     "text": [
      "Done![I 2024-03-19 11:12:10,089] Trial 0 finished with value: 0.243248477614929 and parameters: {'alpha': 0.06741618241000248, 'l1_ratio': 0.017007099535465454}. Best is trial 0 with value: 0.243248477614929.\n",
      "\n",
      "  4%|███▎                                                                           | 47/1102 [00:00<00:02, 464.65it/s]"
     ]
    },
    {
     "name": "stdout",
     "output_type": "stream",
     "text": [
      "Successfully updated KRR.csv with results of trial 1\n"
     ]
    },
    {
     "name": "stderr",
     "output_type": "stream",
     "text": [
      "  9%|██████▋                                                                        | 94/1102 [00:00<00:03, 257.85it/s][I 2024-03-19 11:12:10,530] Trial 1 finished with value: 0.09006545173068418 and parameters: {'alpha': 0.5688847415063785, 'gamma': 0.2536915925845899, 'kernel': 'laplacian'}. Best is trial 0 with value: 0.09219495476186866.\n",
      " 65%|██████████████████████████████████████████████████▋                           | 716/1102 [00:01<00:00, 540.93it/s]"
     ]
    },
    {
     "name": "stdout",
     "output_type": "stream",
     "text": [
      "Successfully updated linear.csv with results of trial 2\n",
      "Successfully created KRR.csv with results of trial 0 as the first entry\n"
     ]
    },
    {
     "name": "stderr",
     "output_type": "stream",
     "text": [
      " 76%|███████████████████████████████████████████████████████████▍                  | 840/1102 [00:01<00:00, 575.50it/s][I 2024-03-19 11:12:11,985] Trial 0 finished with value: 0.2670773437712431 and parameters: {'alpha': 0.7417530634689598, 'gamma': 0.16084344609489876, 'kernel': 'rbf'}. Best is trial 0 with value: 0.2670773437712431.\n",
      "[I 2024-03-19 11:12:11,993] Trial 2 finished with value: 0.09653747074702913 and parameters: {'alpha': 0.03985059002054103, 'l1_ratio': 0.0011876884362788317}. Best is trial 0 with value: 0.11217470378974644.\n",
      "100%|█████████████████████████████████████████████████████████████████████████████| 1102/1102 [00:02<00:00, 484.16it/s]\n"
     ]
    },
    {
     "name": "stdout",
     "output_type": "stream",
     "text": [
      "Successfully updated linear.csv with results of trial 1\n"
     ]
    },
    {
     "name": "stderr",
     "output_type": "stream",
     "text": [
      "[I 2024-03-19 11:12:13,330] Trial 1 finished with value: 0.23861659732812698 and parameters: {'alpha': 0.06899145009104773, 'l1_ratio': 0.017845431436068104}. Best is trial 0 with value: 0.243248477614929.\n"
     ]
    },
    {
     "name": "stdout",
     "output_type": "stream",
     "text": [
      "Successfully updated GB.csv with results of trial 1\n"
     ]
    },
    {
     "name": "stderr",
     "output_type": "stream",
     "text": [
      "[I 2024-03-19 11:12:13,720] Trial 1 finished with value: 0.058725270139443 and parameters: {'n_estimators': 20, 'learning_rate': 0.16562015229067112, 'max_depth': 1}. Best is trial 0 with value: 0.059163752156484166.\n",
      "[I 2024-03-19 11:12:14,138] A new study created in Journal with name: linear\n"
     ]
    },
    {
     "name": "stdout",
     "output_type": "stream",
     "text": [
      "morgan microsome linear\n",
      "Successfully updated KRR.csv with results of trial 2\n"
     ]
    },
    {
     "name": "stderr",
     "output_type": "stream",
     "text": [
      "[I 2024-03-19 11:12:14,393] Trial 2 finished with value: 0.16770880244612565 and parameters: {'alpha': 0.302653891390065, 'gamma': 0.16381242906527327, 'kernel': 'rbf'}. Best is trial 2 with value: 0.16770880244612565.\n",
      "[I 2024-03-19 11:12:14,410] A new study created in Journal with name: KRR\n"
     ]
    },
    {
     "name": "stdout",
     "output_type": "stream",
     "text": [
      "morgan microsome KRR\n"
     ]
    },
    {
     "name": "stderr",
     "output_type": "stream",
     "text": [
      "[I 2024-03-19 11:12:14,732] A new study created in Journal with name: GB\n"
     ]
    },
    {
     "name": "stdout",
     "output_type": "stream",
     "text": [
      "morgan microsome GB\n",
      "Successfully updated linear.csv with results of trial 3\n"
     ]
    },
    {
     "name": "stderr",
     "output_type": "stream",
     "text": [
      "[I 2024-03-19 11:12:14,899] Trial 3 finished with value: 0.13200482426445903 and parameters: {'alpha': 0.09853910417022, 'l1_ratio': 0.046621020191206834}. Best is trial 3 with value: 0.13200482426445903.\n"
     ]
    },
    {
     "name": "stdout",
     "output_type": "stream",
     "text": [
      "morgan microsome RF\n"
     ]
    },
    {
     "name": "stderr",
     "output_type": "stream",
     "text": [
      "[I 2024-03-19 11:12:15,095] A new study created in Journal with name: RF\n",
      "[I 2024-03-19 11:12:15,333] A new study created in Journal with name: ANN\n",
      "[I 2024-03-19 11:12:15,450] Trial 2 finished with value: 0.2735273135323218 and parameters: {'alpha': 0.02864491746933832, 'l1_ratio': 0.002102422774588303}. Best is trial 2 with value: 0.2735273135323218.\n"
     ]
    },
    {
     "name": "stdout",
     "output_type": "stream",
     "text": [
      "Successfully created GB.csv with results of trial 0 as the first entry\n",
      "morgan microsome ANN\n",
      "Successfully updated linear.csv with results of trial 2\n"
     ]
    },
    {
     "name": "stderr",
     "output_type": "stream",
     "text": [
      "[I 2024-03-19 11:12:15,664] Trial 0 finished with value: 0.1321676876888335 and parameters: {'n_estimators': 50, 'learning_rate': 0.10664115425663948, 'max_depth': 1}. Best is trial 0 with value: 0.1321676876888335.\n"
     ]
    },
    {
     "name": "stdout",
     "output_type": "stream",
     "text": [
      "Successfully updated KRR.csv with results of trial 1\n",
      "Successfully updated GB.csv with results of trial 2\n"
     ]
    },
    {
     "name": "stderr",
     "output_type": "stream",
     "text": [
      "[I 2024-03-19 11:12:15,820] Trial 1 finished with value: 0.2651131274794078 and parameters: {'alpha': 0.7258480986017743, 'gamma': 0.16344148239226655, 'kernel': 'rbf'}. Best is trial 0 with value: 0.2670773437712431.\n",
      "[I 2024-03-19 11:12:15,875] Trial 2 finished with value: 0.033634066964227105 and parameters: {'n_estimators': 5, 'learning_rate': 0.1736718383256933, 'max_depth': 3}. Best is trial 0 with value: 0.059163752156484166.\n",
      "[I 2024-03-19 11:12:15,899] Trial 0 finished with value: 0.3702241405250253 and parameters: {'alpha': 0.04809277827134265, 'l1_ratio': 0.042996408586279775}. Best is trial 0 with value: 0.3702241405250253.\n"
     ]
    },
    {
     "name": "stdout",
     "output_type": "stream",
     "text": [
      "Successfully created linear.csv with results of trial 0 as the first entry\n",
      "jazzy obach linear\n"
     ]
    },
    {
     "name": "stderr",
     "output_type": "stream",
     "text": [
      "[I 2024-03-19 11:12:16,024] A new study created in Journal with name: linear\n",
      "[I 2024-03-19 11:12:16,337] A new study created in Journal with name: KRR\n"
     ]
    },
    {
     "name": "stdout",
     "output_type": "stream",
     "text": [
      "jazzy obach KRR\n",
      "Successfully created GB.csv with results of trial 0 as the first entry\n",
      "jazzy obach GB\n"
     ]
    },
    {
     "name": "stderr",
     "output_type": "stream",
     "text": [
      "[I 2024-03-19 11:12:16,597] A new study created in Journal with name: GB\n",
      "[I 2024-03-19 11:12:16,737] Trial 4 finished with value: 0.13200482426445903 and parameters: {'alpha': 0.09771709347924545, 'l1_ratio': 0.04828997171971272}. Best is trial 3 with value: 0.13200482426445903.\n"
     ]
    },
    {
     "name": "stdout",
     "output_type": "stream",
     "text": [
      "Successfully updated linear.csv with results of trial 4\n"
     ]
    },
    {
     "name": "stderr",
     "output_type": "stream",
     "text": [
      "[I 2024-03-19 11:12:16,884] Trial 0 finished with value: 0.12882700379760967 and parameters: {'n_estimators': 5, 'learning_rate': 0.09746872703645452, 'max_depth': 1}. Best is trial 0 with value: 0.12882700379760967.\n"
     ]
    },
    {
     "name": "stdout",
     "output_type": "stream",
     "text": [
      "jazzy obach RF\n",
      "Successfully updated KRR.csv with results of trial 3\n"
     ]
    },
    {
     "name": "stderr",
     "output_type": "stream",
     "text": [
      "[I 2024-03-19 11:12:17,607] A new study created in Journal with name: RF\n",
      "[I 2024-03-19 11:12:17,615] Trial 3 finished with value: 0.23219934032189837 and parameters: {'alpha': 0.3300434602422502, 'gamma': 0.12549492176840657, 'kernel': 'rbf'}. Best is trial 3 with value: 0.23219934032189837.\n"
     ]
    },
    {
     "name": "stdout",
     "output_type": "stream",
     "text": [
      "jazzy obach ANN\n",
      "Successfully updated linear.csv with results of trial 3\n"
     ]
    },
    {
     "name": "stderr",
     "output_type": "stream",
     "text": [
      "[I 2024-03-19 11:12:17,958] A new study created in Journal with name: ANN\n"
     ]
    },
    {
     "name": "stdout",
     "output_type": "stream",
     "text": [
      "Successfully created KRR.csv with results of trial 0 as the first entry\n"
     ]
    },
    {
     "name": "stderr",
     "output_type": "stream",
     "text": [
      "[I 2024-03-19 11:12:18,386] Trial 3 finished with value: 0.2684128749177679 and parameters: {'alpha': 0.009056175500417867, 'l1_ratio': 0.0008721004974908235}. Best is trial 2 with value: 0.2735273135323218.\n",
      "[I 2024-03-19 11:12:18,399] Trial 3 pruned. \n",
      "[I 2024-03-19 11:12:18,748] Trial 0 finished with value: 0.1329971214337919 and parameters: {'alpha': 0.38157874685060456, 'gamma': 0.15224240144745044, 'kernel': 'rbf'}. Best is trial 0 with value: 0.1329971214337919.\n"
     ]
    },
    {
     "name": "stdout",
     "output_type": "stream",
     "text": [
      "Successfully updated linear.csv with results of trial 1\n",
      "Successfully updated linear.csv with results of trial 5\n",
      "Successfully created linear.csv with results of trial 0 as the first entry\n",
      "jazzy hepatocyte linear\n"
     ]
    },
    {
     "name": "stderr",
     "output_type": "stream",
     "text": [
      "[I 2024-03-19 11:12:18,860] Trial 5 finished with value: 0.05221948474089922 and parameters: {'alpha': 0.0962941143437786, 'l1_ratio': 0.026842849054106603}. Best is trial 3 with value: 0.13200482426445903.\n",
      "[I 2024-03-19 11:12:18,860] Trial 1 finished with value: 0.3721389831889855 and parameters: {'alpha': 0.04887253541204684, 'l1_ratio': 0.04601774092967029}. Best is trial 1 with value: 0.3721389831889855.\n",
      "[I 2024-03-19 11:12:18,917] Trial 0 finished with value: 0.04186470829346864 and parameters: {'alpha': 0.07194268012690544, 'l1_ratio': 0.03588854034341139}. Best is trial 0 with value: 0.04186470829346864.\n",
      "[I 2024-03-19 11:12:18,984] A new study created in Journal with name: linear\n"
     ]
    },
    {
     "name": "stdout",
     "output_type": "stream",
     "text": [
      "jazzy hepatocyte KRR\n",
      "Successfully updated GB.csv with results of trial 1\n"
     ]
    },
    {
     "name": "stderr",
     "output_type": "stream",
     "text": [
      "[I 2024-03-19 11:12:19,292] Trial 1 finished with value: 0.12882700379760967 and parameters: {'n_estimators': 5, 'learning_rate': 0.09470661645722135, 'max_depth': 1}. Best is trial 0 with value: 0.12882700379760967.\n",
      "[I 2024-03-19 11:12:19,389] A new study created in Journal with name: KRR\n"
     ]
    },
    {
     "name": "stdout",
     "output_type": "stream",
     "text": [
      "jazzy hepatocyte GB\n"
     ]
    },
    {
     "name": "stderr",
     "output_type": "stream",
     "text": [
      "[I 2024-03-19 11:12:19,630] A new study created in Journal with name: GB\n"
     ]
    },
    {
     "name": "stdout",
     "output_type": "stream",
     "text": [
      "jazzy hepatocyte RF\n"
     ]
    },
    {
     "name": "stderr",
     "output_type": "stream",
     "text": [
      "[I 2024-03-19 11:12:19,886] A new study created in Journal with name: RF\n"
     ]
    },
    {
     "name": "stdout",
     "output_type": "stream",
     "text": [
      "jazzy hepatocyte ANN\n",
      "Successfully updated KRR.csv with results of trial 2\n"
     ]
    },
    {
     "name": "stderr",
     "output_type": "stream",
     "text": [
      "[I 2024-03-19 11:12:20,300] A new study created in Journal with name: ANN\n",
      "[I 2024-03-19 11:12:20,522] Trial 2 finished with value: 0.34139812284120724 and parameters: {'alpha': 0.9533381621868287, 'gamma': 0.10146643462761737, 'kernel': 'rbf'}. Best is trial 2 with value: 0.34139812284120724.\n",
      "[I 2024-03-19 11:12:20,763] Trial 4 pruned. \n",
      "[I 2024-03-19 11:12:21,103] A new study created in Journal with name: linear\n"
     ]
    },
    {
     "name": "stdout",
     "output_type": "stream",
     "text": [
      "jazzy microsome linear\n",
      "Successfully updated linear.csv with results of trial 1\n"
     ]
    },
    {
     "name": "stderr",
     "output_type": "stream",
     "text": [
      "[I 2024-03-19 11:12:21,457] Trial 2 finished with value: 0.3471740380196977 and parameters: {'alpha': 0.08605180426217657, 'l1_ratio': 0.04980664340167183}. Best is trial 1 with value: 0.3721389831889855.\n"
     ]
    },
    {
     "name": "stdout",
     "output_type": "stream",
     "text": [
      "jazzy microsome KRR\n",
      "Successfully updated linear.csv with results of trial 2\n"
     ]
    },
    {
     "name": "stderr",
     "output_type": "stream",
     "text": [
      "[I 2024-03-19 11:12:21,589] A new study created in Journal with name: KRR\n",
      "[I 2024-03-19 11:12:21,597] Trial 6 pruned. \n"
     ]
    },
    {
     "name": "stdout",
     "output_type": "stream",
     "text": [
      "Successfully updated KRR.csv with results of trial 4\n",
      "jazzy microsome GB\n"
     ]
    },
    {
     "name": "stderr",
     "output_type": "stream",
     "text": [
      "[I 2024-03-19 11:12:21,664] Trial 1 finished with value: 0.04186470829346864 and parameters: {'alpha': 0.07846267953794571, 'l1_ratio': 0.03727755283628752}. Best is trial 0 with value: 0.04186470829346864.\n"
     ]
    },
    {
     "name": "stdout",
     "output_type": "stream",
     "text": [
      "Successfully updated linear.csv with results of trial 3\n"
     ]
    },
    {
     "name": "stderr",
     "output_type": "stream",
     "text": [
      "[I 2024-03-19 11:12:21,836] Trial 3 finished with value: 0.3639148005553545 and parameters: {'alpha': 0.0050761505306662, 'l1_ratio': 0.007867545680506946}. Best is trial 1 with value: 0.3721389831889855.\n",
      "[I 2024-03-19 11:12:21,975] A new study created in Journal with name: GB\n",
      "[I 2024-03-19 11:12:22,223] Trial 4 finished with value: 0.21856634542617823 and parameters: {'alpha': 0.9405835648893468, 'gamma': 0.10935714898690704, 'kernel': 'rbf'}. Best is trial 3 with value: 0.23219934032189837.\n",
      "[I 2024-03-19 11:12:22,351] A new study created in Journal with name: RF\n"
     ]
    },
    {
     "name": "stdout",
     "output_type": "stream",
     "text": [
      "jazzy microsome RF\n",
      "jazzy microsome ANN\n"
     ]
    },
    {
     "name": "stderr",
     "output_type": "stream",
     "text": [
      "[I 2024-03-19 11:12:22,537] A new study created in Journal with name: ANN\n"
     ]
    },
    {
     "name": "stdout",
     "output_type": "stream",
     "text": [
      "Successfully updated KRR.csv with results of trial 1\n",
      "Successfully updated GB.csv with results of trial 1\n"
     ]
    },
    {
     "name": "stderr",
     "output_type": "stream",
     "text": [
      "[I 2024-03-19 11:12:23,019] Trial 1 finished with value: 0.13425771180568913 and parameters: {'n_estimators': 50, 'learning_rate': 0.10945294710730398, 'max_depth': 1}. Best is trial 1 with value: 0.13425771180568913.\n",
      "[I 2024-03-19 11:12:23,022] Trial 1 finished with value: 0.1861759574450054 and parameters: {'alpha': 0.337756036799572, 'gamma': 0.13911072393631552, 'kernel': 'rbf'}. Best is trial 1 with value: 0.1861759574450054.\n"
     ]
    },
    {
     "name": "stdout",
     "output_type": "stream",
     "text": [
      "Successfully created ANN.csv with results of trial 0 as the first entry\n",
      "Successfully updated linear.csv with results of trial 5\n",
      "Successfully updated GB.csv with results of trial 4\n"
     ]
    },
    {
     "name": "stderr",
     "output_type": "stream",
     "text": [
      "[I 2024-03-19 11:12:23,222] Trial 0 finished with value: 0.09314471831836658 and parameters: {'learning_rate_init': 0.0657477399893637, 'hidden_layer_sizes': [5, 5, 5]}. Best is trial 0 with value: 0.09314471831836658.\n",
      "[I 2024-03-19 11:12:23,271] Trial 7 pruned. \n",
      "[I 2024-03-19 11:12:23,321] Trial 4 finished with value: 0.11517543086336822 and parameters: {'n_estimators': 20, 'learning_rate': 0.12581339932050528, 'max_depth': 2}. Best is trial 4 with value: 0.11517543086336822.\n",
      "[I 2024-03-19 11:12:23,536] Trial 5 finished with value: 0.2763241128544335 and parameters: {'alpha': 0.09976897362851248, 'l1_ratio': 0.0011458269936969185}. Best is trial 5 with value: 0.2763241128544335.\n",
      "[I 2024-03-19 11:12:24,502] Trial 3 pruned. \n"
     ]
    },
    {
     "name": "stdout",
     "output_type": "stream",
     "text": [
      "Successfully updated linear.csv with results of trial 2\n",
      "Successfully updated linear.csv with results of trial 4\n"
     ]
    },
    {
     "name": "stderr",
     "output_type": "stream",
     "text": [
      "[I 2024-03-19 11:12:24,723] Trial 2 finished with value: 0.04054443366265398 and parameters: {'alpha': 0.03461378442839823, 'l1_ratio': 0.014718528234695386}. Best is trial 0 with value: 0.04186470829346864.\n",
      "[I 2024-03-19 11:12:24,806] Trial 4 finished with value: 0.37084187609804004 and parameters: {'alpha': 0.055836075565925875, 'l1_ratio': 0.030434820810536316}. Best is trial 1 with value: 0.3721389831889855.\n",
      "[I 2024-03-19 11:12:24,981] Trial 5 pruned. \n",
      "[I 2024-03-19 11:12:25,113] Trial 8 pruned. \n",
      "[I 2024-03-19 11:12:25,253] Trial 6 pruned. \n"
     ]
    },
    {
     "name": "stdout",
     "output_type": "stream",
     "text": [
      "Successfully updated GB.csv with results of trial 5\n"
     ]
    },
    {
     "name": "stderr",
     "output_type": "stream",
     "text": [
      "[I 2024-03-19 11:12:25,383] Trial 5 finished with value: 0.09502082933003113 and parameters: {'n_estimators': 10, 'learning_rate': 0.1195614978980553, 'max_depth': 2}. Best is trial 4 with value: 0.11517543086336822.\n"
     ]
    },
    {
     "name": "stdout",
     "output_type": "stream",
     "text": [
      "Successfully updated GB.csv with results of trial 2Successfully updated linear.csv with results of trial 3\n",
      "\n"
     ]
    },
    {
     "name": "stderr",
     "output_type": "stream",
     "text": [
      "[I 2024-03-19 11:12:26,711] Trial 3 finished with value: 0.04412117766249734 and parameters: {'alpha': 0.0908165346179303, 'l1_ratio': 0.04938735742724432}. Best is trial 3 with value: 0.04412117766249734.\n",
      "[I 2024-03-19 11:12:26,887] Trial 2 finished with value: 0.33578347511476664 and parameters: {'n_estimators': 50, 'learning_rate': 0.15227401299701876, 'max_depth': 1}. Best is trial 2 with value: 0.33578347511476664.\n"
     ]
    },
    {
     "name": "stdout",
     "output_type": "stream",
     "text": [
      "Successfully updated KRR.csv with results of trial 2\n",
      "Successfully updated linear.csv with results of trial 9\n"
     ]
    },
    {
     "name": "stderr",
     "output_type": "stream",
     "text": [
      "[I 2024-03-19 11:12:27,089] Trial 2 finished with value: 0.29930151417361495 and parameters: {'alpha': 0.3006798993457264, 'gamma': 0.10451193639535604, 'kernel': 'laplacian'}. Best is trial 2 with value: 0.29930151417361495.\n",
      "[I 2024-03-19 11:12:27,100] Trial 9 finished with value: 0.10929475220411734 and parameters: {'alpha': 0.056787651922813626, 'l1_ratio': 0.03514959179788527}. Best is trial 3 with value: 0.13200482426445903.\n",
      "[I 2024-03-19 11:12:27,404] Trial 7 pruned. \n"
     ]
    },
    {
     "name": "stdout",
     "output_type": "stream",
     "text": [
      "Successfully updated KRR.csv with results of trial 4\n",
      "Successfully updated linear.csv with results of trial 5\n"
     ]
    },
    {
     "name": "stderr",
     "output_type": "stream",
     "text": [
      "[I 2024-03-19 11:12:27,725] Trial 5 finished with value: 0.37493990306058733 and parameters: {'alpha': 0.04550817805204644, 'l1_ratio': 0.03285675238630048}. Best is trial 5 with value: 0.37493990306058733.\n",
      "[I 2024-03-19 11:12:27,766] Trial 4 finished with value: 0.25087086021456007 and parameters: {'alpha': 0.43954124327667626, 'gamma': 0.2734754830178691, 'kernel': 'rbf'}. Best is trial 2 with value: 0.34139812284120724.\n",
      "[I 2024-03-19 11:12:27,800] Trial 6 pruned. \n"
     ]
    },
    {
     "name": "stdout",
     "output_type": "stream",
     "text": [
      "Successfully updated GB.csv with results of trial 6\n",
      "Successfully updated linear.csv with results of trial 4\n"
     ]
    },
    {
     "name": "stderr",
     "output_type": "stream",
     "text": [
      "[I 2024-03-19 11:12:29,077] Trial 6 finished with value: 0.07792926367580617 and parameters: {'n_estimators': 20, 'learning_rate': 0.11573079764870509, 'max_depth': 2}. Best is trial 4 with value: 0.11517543086336822.\n",
      "[I 2024-03-19 11:12:29,119] Trial 10 pruned. \n",
      "[I 2024-03-19 11:12:29,249] Trial 4 finished with value: 0.04412117766249734 and parameters: {'alpha': 0.09818512894827731, 'l1_ratio': 0.048686729363623164}. Best is trial 3 with value: 0.04412117766249734.\n",
      "[I 2024-03-19 11:12:29,867] Trial 8 pruned. \n",
      "[I 2024-03-19 11:12:30,577] Trial 3 pruned. \n"
     ]
    },
    {
     "name": "stdout",
     "output_type": "stream",
     "text": [
      "Successfully updated linear.csv with results of trial 6\n"
     ]
    },
    {
     "name": "stderr",
     "output_type": "stream",
     "text": [
      "[I 2024-03-19 11:12:31,368] Trial 6 finished with value: 0.37284313232836275 and parameters: {'alpha': 0.024102525695818427, 'l1_ratio': 0.023792478575124988}. Best is trial 5 with value: 0.37493990306058733.\n",
      "[I 2024-03-19 11:12:31,890] Trial 7 pruned. \n",
      "[I 2024-03-19 11:12:32,089] Trial 5 pruned. \n",
      "[I 2024-03-19 11:12:32,114] Trial 5 finished with value: 0.05117864568903391 and parameters: {'alpha': 0.017731050925178016, 'l1_ratio': 0.0017257768799716425}. Best is trial 5 with value: 0.05117864568903391.\n"
     ]
    },
    {
     "name": "stdout",
     "output_type": "stream",
     "text": [
      "Successfully updated linear.csv with results of trial 5\n",
      "Successfully updated linear.csv with results of trial 11\n"
     ]
    },
    {
     "name": "stderr",
     "output_type": "stream",
     "text": [
      "[I 2024-03-19 11:12:32,632] Trial 11 finished with value: 0.13200482426445903 and parameters: {'alpha': 0.0977763453711215, 'l1_ratio': 0.049747570378647854}. Best is trial 3 with value: 0.13200482426445903.\n"
     ]
    },
    {
     "name": "stdout",
     "output_type": "stream",
     "text": [
      "Successfully updated linear.csv with results of trial 9\n",
      "Successfully updated GB.csv with results of trial 7\n"
     ]
    },
    {
     "name": "stderr",
     "output_type": "stream",
     "text": [
      "[I 2024-03-19 11:12:32,927] Trial 9 finished with value: 0.2694119745540993 and parameters: {'alpha': 0.050527655500002454, 'l1_ratio': 0.008758143274966313}. Best is trial 5 with value: 0.2763241128544335.\n",
      "[I 2024-03-19 11:12:33,239] Trial 7 finished with value: 0.04725681337222934 and parameters: {'n_estimators': 5, 'learning_rate': 0.05197839959912343, 'max_depth': 2}. Best is trial 4 with value: 0.11517543086336822.\n",
      "[I 2024-03-19 11:12:33,465] Trial 7 pruned. \n",
      "[I 2024-03-19 11:12:34,693] Trial 4 finished with value: 0.2874622642474099 and parameters: {'alpha': 0.570516681597515, 'gamma': 0.10606820996442409, 'kernel': 'laplacian'}. Best is trial 2 with value: 0.29930151417361495.\n"
     ]
    },
    {
     "name": "stdout",
     "output_type": "stream",
     "text": [
      "Successfully updated KRR.csv with results of trial 4\n",
      "Successfully updated KRR.csv with results of trial 8\n",
      "Successfully updated linear.csv with results of trial 12\n"
     ]
    },
    {
     "name": "stderr",
     "output_type": "stream",
     "text": [
      "[I 2024-03-19 11:12:34,964] Trial 8 finished with value: 0.19599778879176247 and parameters: {'alpha': 0.45773965248370757, 'gamma': 0.14627256896870872, 'kernel': 'laplacian'}. Best is trial 3 with value: 0.23219934032189837.\n",
      "[I 2024-03-19 11:12:35,087] Trial 2 finished with value: 0.30229050850480366 and parameters: {'n_estimators': 50, 'learning_rate': 0.16214927949738914, 'max_depth': 3}. Best is trial 2 with value: 0.30229050850480366.\n",
      "[I 2024-03-19 11:12:35,120] Trial 12 finished with value: 0.08665987355022375 and parameters: {'alpha': 0.08749896349318688, 'l1_ratio': 0.039057851479608746}. Best is trial 3 with value: 0.13200482426445903.\n"
     ]
    },
    {
     "name": "stdout",
     "output_type": "stream",
     "text": [
      "Successfully updated GB.csv with results of trial 2\n",
      "Successfully updated linear.csv with results of trial 6\n",
      "Successfully updated linear.csv with results of trial 10\n"
     ]
    },
    {
     "name": "stderr",
     "output_type": "stream",
     "text": [
      "[I 2024-03-19 11:12:35,433] Trial 6 finished with value: 0.05117864568903391 and parameters: {'alpha': 0.006335971929460763, 'l1_ratio': 0.003113510804843381}. Best is trial 5 with value: 0.05117864568903391.\n",
      "[I 2024-03-19 11:12:35,441] Trial 6 pruned. \n",
      "[I 2024-03-19 11:12:35,498] Trial 10 finished with value: 0.27562746174746766 and parameters: {'alpha': 0.08700998653677938, 'l1_ratio': 0.0007426258851667897}. Best is trial 5 with value: 0.2763241128544335.\n",
      "[I 2024-03-19 11:12:35,515] Trial 8 pruned. \n",
      "[I 2024-03-19 11:12:36,787] Trial 0 finished with value: 0.22208072134365583 and parameters: {'n_estimators': 500, 'max_features': 'sqrt', 'max_depth': 2}. Best is trial 0 with value: 0.22208072134365583.\n",
      "[I 2024-03-19 11:12:36,836] Trial 5 pruned. \n"
     ]
    },
    {
     "name": "stdout",
     "output_type": "stream",
     "text": [
      "Successfully created RF.csv with results of trial 0 as the first entry\n",
      "Successfully updated GB.csv with results of trial 3\n",
      "Successfully updated linear.csv with results of trial 13\n"
     ]
    },
    {
     "name": "stderr",
     "output_type": "stream",
     "text": [
      "[I 2024-03-19 11:12:36,960] Trial 7 pruned. \n",
      "[I 2024-03-19 11:12:37,073] Trial 9 finished with value: 0.3775961158753794 and parameters: {'alpha': 0.02644800081657895, 'l1_ratio': 0.03631878736800868}. Best is trial 9 with value: 0.3775961158753794.\n",
      "[I 2024-03-19 11:12:37,081] Trial 3 finished with value: 0.5106922053236764 and parameters: {'n_estimators': 50, 'learning_rate': 0.16962658041917322, 'max_depth': 2}. Best is trial 3 with value: 0.5106922053236764.\n",
      "[I 2024-03-19 11:12:37,089] Trial 13 finished with value: 0.13200482426445903 and parameters: {'alpha': 0.09867602025738201, 'l1_ratio': 0.04224531882395928}. Best is trial 3 with value: 0.13200482426445903.\n"
     ]
    },
    {
     "name": "stdout",
     "output_type": "stream",
     "text": [
      "Successfully updated linear.csv with results of trial 9\n",
      "Successfully updated KRR.csv with results of trial 9\n"
     ]
    },
    {
     "name": "stderr",
     "output_type": "stream",
     "text": [
      "[I 2024-03-19 11:12:37,510] Trial 9 finished with value: 0.21380627982706002 and parameters: {'alpha': 0.7069453806474402, 'gamma': 0.10126417582234148, 'kernel': 'rbf'}. Best is trial 3 with value: 0.23219934032189837.\n"
     ]
    },
    {
     "name": "stdout",
     "output_type": "stream",
     "text": [
      "Successfully updated GB.csv with results of trial 3\n",
      "Successfully updated linear.csv with results of trial 11\n"
     ]
    },
    {
     "name": "stderr",
     "output_type": "stream",
     "text": [
      "[I 2024-03-19 11:12:38,109] Trial 3 finished with value: 0.33627365081895877 and parameters: {'n_estimators': 5, 'learning_rate': 0.16616486321694263, 'max_depth': 3}. Best is trial 3 with value: 0.33627365081895877.\n",
      "[I 2024-03-19 11:12:38,114] Trial 11 finished with value: 0.2783053206366826 and parameters: {'alpha': 0.08705390906483465, 'l1_ratio': 0.00013399615461228342}. Best is trial 11 with value: 0.2783053206366826.\n",
      "[I 2024-03-19 11:12:38,170] Trial 7 pruned. \n",
      "[I 2024-03-19 11:12:39,119] Trial 10 pruned. \n",
      "[I 2024-03-19 11:12:39,168] Trial 14 pruned. \n",
      "[I 2024-03-19 11:12:39,471] Trial 8 pruned. \n",
      "[I 2024-03-19 11:12:39,873] Trial 6 pruned. \n"
     ]
    },
    {
     "name": "stdout",
     "output_type": "stream",
     "text": [
      "Successfully updated linear.csv with results of trial 12\n"
     ]
    },
    {
     "name": "stderr",
     "output_type": "stream",
     "text": [
      "[I 2024-03-19 11:12:40,238] Trial 12 finished with value: 0.24376501892350863 and parameters: {'alpha': 0.09793127566646202, 'l1_ratio': 0.009306237482200615}. Best is trial 11 with value: 0.2783053206366826.\n"
     ]
    },
    {
     "name": "stdout",
     "output_type": "stream",
     "text": [
      "Successfully updated KRR.csv with results of trial 10\n"
     ]
    },
    {
     "name": "stderr",
     "output_type": "stream",
     "text": [
      "[I 2024-03-19 11:12:40,600] Trial 10 finished with value: 0.19564287161989838 and parameters: {'alpha': 0.3047762048494536, 'gamma': 0.15345624579497308, 'kernel': 'laplacian'}. Best is trial 3 with value: 0.23219934032189837.\n",
      "[I 2024-03-19 11:12:41,019] Trial 11 finished with value: 0.3804251644555175 and parameters: {'alpha': 0.031834462103105615, 'l1_ratio': 0.03623036284573696}. Best is trial 11 with value: 0.3804251644555175.\n"
     ]
    },
    {
     "name": "stdout",
     "output_type": "stream",
     "text": [
      "Successfully updated linear.csv with results of trial 11\n",
      "Successfully updated GB.csv with results of trial 4\n",
      "Successfully updated linear.csv with results of trial 9\n"
     ]
    },
    {
     "name": "stderr",
     "output_type": "stream",
     "text": [
      "[I 2024-03-19 11:12:41,084] Trial 15 pruned. \n",
      "[I 2024-03-19 11:12:41,357] Trial 9 finished with value: 0.04181669830689356 and parameters: {'alpha': 0.051051483601183556, 'l1_ratio': 0.011980176670922023}. Best is trial 5 with value: 0.05117864568903391.\n",
      "[I 2024-03-19 11:12:41,445] Trial 4 finished with value: 0.3367528522416226 and parameters: {'n_estimators': 5, 'learning_rate': 0.1742634191818759, 'max_depth': 3}. Best is trial 4 with value: 0.3367528522416226.\n"
     ]
    },
    {
     "name": "stdout",
     "output_type": "stream",
     "text": [
      "Successfully updated GB.csv with results of trial 8\n"
     ]
    },
    {
     "name": "stderr",
     "output_type": "stream",
     "text": [
      "[I 2024-03-19 11:12:42,027] Trial 8 finished with value: 0.09937680812194177 and parameters: {'n_estimators': 50, 'learning_rate': 0.13474979885952948, 'max_depth': 3}. Best is trial 4 with value: 0.11517543086336822.\n",
      "[I 2024-03-19 11:12:42,570] Trial 8 finished with value: 0.2907261001291709 and parameters: {'alpha': 0.5770097154037814, 'gamma': 0.1350657760252272, 'kernel': 'laplacian'}. Best is trial 2 with value: 0.34139812284120724.\n"
     ]
    },
    {
     "name": "stdout",
     "output_type": "stream",
     "text": [
      "Successfully updated KRR.csv with results of trial 8\n",
      "Successfully updated linear.csv with results of trial 13\n"
     ]
    },
    {
     "name": "stderr",
     "output_type": "stream",
     "text": [
      "[I 2024-03-19 11:12:42,883] Trial 13 finished with value: 0.25929863945980514 and parameters: {'alpha': 0.08254766883443619, 'l1_ratio': 0.006302071164980782}. Best is trial 11 with value: 0.2783053206366826.\n",
      "[I 2024-03-19 11:12:42,967] Trial 16 pruned. \n",
      "[I 2024-03-19 11:12:43,050] Trial 7 pruned. \n"
     ]
    },
    {
     "name": "stdout",
     "output_type": "stream",
     "text": [
      "Successfully updated linear.csv with results of trial 12\n"
     ]
    },
    {
     "name": "stderr",
     "output_type": "stream",
     "text": [
      "[I 2024-03-19 11:12:43,160] Trial 17 pruned. \n",
      "[I 2024-03-19 11:12:43,143] Trial 10 pruned. \n",
      "[I 2024-03-19 11:12:43,400] Trial 12 finished with value: 0.3817532708629135 and parameters: {'alpha': 0.029992407476652008, 'l1_ratio': 0.037969885844264896}. Best is trial 12 with value: 0.3817532708629135.\n"
     ]
    },
    {
     "name": "stdout",
     "output_type": "stream",
     "text": [
      "Successfully updated GB.csv with results of trial 5\n",
      "Successfully updated KRR.csv with results of trial 11\n"
     ]
    },
    {
     "name": "stderr",
     "output_type": "stream",
     "text": [
      "[I 2024-03-19 11:12:43,706] Trial 11 finished with value: 0.2228879839306408 and parameters: {'alpha': 0.9819206761456152, 'gamma': 0.12093073983652677, 'kernel': 'rbf'}. Best is trial 3 with value: 0.23219934032189837.\n",
      "[I 2024-03-19 11:12:43,777] Trial 9 pruned. \n",
      "[I 2024-03-19 11:12:43,805] Trial 5 finished with value: 0.12167088735859048 and parameters: {'n_estimators': 5, 'learning_rate': 0.055571756888749706, 'max_depth': 2}. Best is trial 4 with value: 0.3367528522416226.\n",
      "[I 2024-03-19 11:12:44,195] Trial 18 finished with value: 0.08665987355022375 and parameters: {'alpha': 0.08646748150490705, 'l1_ratio': 0.03928250313031117}. Best is trial 3 with value: 0.13200482426445903.\n"
     ]
    },
    {
     "name": "stdout",
     "output_type": "stream",
     "text": [
      "Successfully updated linear.csv with results of trial 18\n"
     ]
    },
    {
     "name": "stderr",
     "output_type": "stream",
     "text": [
      "[I 2024-03-19 11:12:44,523] Trial 13 finished with value: 0.3765409080448456 and parameters: {'alpha': 0.032970450968199505, 'l1_ratio': 0.039205394760654814}. Best is trial 12 with value: 0.3817532708629135.\n"
     ]
    },
    {
     "name": "stdout",
     "output_type": "stream",
     "text": [
      "Successfully updated linear.csv with results of trial 13\n"
     ]
    },
    {
     "name": "stderr",
     "output_type": "stream",
     "text": [
      "[I 2024-03-19 11:12:45,062] Trial 14 pruned. \n",
      "[I 2024-03-19 11:12:45,126] Trial 11 finished with value: 0.05045849589040772 and parameters: {'alpha': 0.007669612688734959, 'l1_ratio': 0.0009093121383397403}. Best is trial 5 with value: 0.05117864568903391.\n"
     ]
    },
    {
     "name": "stdout",
     "output_type": "stream",
     "text": [
      "Successfully updated linear.csv with results of trial 11\n",
      "Successfully updated GB.csv with results of trial 4\n",
      "Successfully updated KRR.csv with results of trial 9\n"
     ]
    },
    {
     "name": "stderr",
     "output_type": "stream",
     "text": [
      "[I 2024-03-19 11:12:45,692] Trial 4 finished with value: 0.47517314424202617 and parameters: {'n_estimators': 50, 'learning_rate': 0.16282857309365262, 'max_depth': 2}. Best is trial 3 with value: 0.5106922053236764.\n",
      "[I 2024-03-19 11:12:45,913] Trial 9 finished with value: 0.24955571885653186 and parameters: {'alpha': 0.8695885996864782, 'gamma': 0.22681891693237619, 'kernel': 'rbf'}. Best is trial 2 with value: 0.34139812284120724.\n"
     ]
    },
    {
     "name": "stdout",
     "output_type": "stream",
     "text": [
      "Successfully updated linear.csv with results of trial 19\n",
      "Successfully updated KRR.csv with results of trial 8\n"
     ]
    },
    {
     "name": "stderr",
     "output_type": "stream",
     "text": [
      "[I 2024-03-19 11:12:46,244] Trial 14 pruned. \n",
      "[I 2024-03-19 11:12:46,260] Trial 8 finished with value: 0.04453704774391062 and parameters: {'alpha': 0.462887916896283, 'gamma': 0.1875439059125209, 'kernel': 'rbf'}. Best is trial 2 with value: 0.29930151417361495.\n",
      "[I 2024-03-19 11:12:46,268] Trial 19 finished with value: 0.16027641931767794 and parameters: {'alpha': 0.07701328614917614, 'l1_ratio': 0.021081030073854135}. Best is trial 19 with value: 0.16027641931767794.\n"
     ]
    },
    {
     "name": "stdout",
     "output_type": "stream",
     "text": [
      "Successfully updated linear.csv with results of trial 12\n"
     ]
    },
    {
     "name": "stderr",
     "output_type": "stream",
     "text": [
      "[I 2024-03-19 11:12:46,990] Trial 12 finished with value: 0.0522108604003981 and parameters: {'alpha': 0.00876809059706344, 'l1_ratio': 0.006430187555889699}. Best is trial 12 with value: 0.0522108604003981.\n"
     ]
    },
    {
     "name": "stdout",
     "output_type": "stream",
     "text": [
      "Successfully updated linear.csv with results of trial 15\n",
      "Successfully updated KRR.csv with results of trial 12\n"
     ]
    },
    {
     "name": "stderr",
     "output_type": "stream",
     "text": [
      "[I 2024-03-19 11:12:47,312] Trial 12 finished with value: 0.20938025391910794 and parameters: {'alpha': 0.8262570865488363, 'gamma': 0.13205988736707747, 'kernel': 'rbf'}. Best is trial 3 with value: 0.23219934032189837.\n",
      "[I 2024-03-19 11:12:47,321] Trial 15 finished with value: 0.2744754386974119 and parameters: {'alpha': 0.06887956747032507, 'l1_ratio': 0.0005946551569885755}. Best is trial 11 with value: 0.2783053206366826.\n"
     ]
    },
    {
     "name": "stdout",
     "output_type": "stream",
     "text": [
      "Successfully updated GB.csv with results of trial 10\n"
     ]
    },
    {
     "name": "stderr",
     "output_type": "stream",
     "text": [
      "[I 2024-03-19 11:12:47,976] Trial 10 finished with value: 0.12875814309141237 and parameters: {'n_estimators': 20, 'learning_rate': 0.14291718892876812, 'max_depth': 2}. Best is trial 10 with value: 0.12875814309141237.\n"
     ]
    },
    {
     "name": "stdout",
     "output_type": "stream",
     "text": [
      "Successfully updated linear.csv with results of trial 15\n",
      "Successfully updated GB.csv with results of trial 5\n",
      "Successfully updated linear.csv with results of trial 13\n"
     ]
    },
    {
     "name": "stderr",
     "output_type": "stream",
     "text": [
      "[I 2024-03-19 11:12:49,305] Trial 13 finished with value: 0.04690575688385191 and parameters: {'alpha': 0.024301832241436033, 'l1_ratio': 0.00825782632001619}. Best is trial 12 with value: 0.0522108604003981.\n",
      "[I 2024-03-19 11:12:49,424] Trial 5 finished with value: 0.29823647289091515 and parameters: {'n_estimators': 10, 'learning_rate': 0.05923901741999953, 'max_depth': 2}. Best is trial 3 with value: 0.5106922053236764.\n",
      "[I 2024-03-19 11:12:49,606] Trial 15 finished with value: 0.3736481831301062 and parameters: {'alpha': 0.0154564183408905, 'l1_ratio': 0.03413677601790061}. Best is trial 12 with value: 0.3817532708629135.\n",
      "[I 2024-03-19 11:12:49,754] Trial 16 pruned. \n"
     ]
    },
    {
     "name": "stdout",
     "output_type": "stream",
     "text": [
      "Successfully updated KRR.csv with results of trial 10\n"
     ]
    },
    {
     "name": "stderr",
     "output_type": "stream",
     "text": [
      "[I 2024-03-19 11:12:49,895] Trial 10 finished with value: 0.2875045135467143 and parameters: {'alpha': 0.6120776871095859, 'gamma': 0.13760468517735588, 'kernel': 'laplacian'}. Best is trial 2 with value: 0.34139812284120724.\n",
      "[I 2024-03-19 11:12:50,132] Trial 13 pruned. \n"
     ]
    },
    {
     "name": "stdout",
     "output_type": "stream",
     "text": [
      "Successfully created KRR.csv with results of trial 0 as the first entry\n"
     ]
    },
    {
     "name": "stderr",
     "output_type": "stream",
     "text": [
      "[I 2024-03-19 11:12:50,488] Trial 0 finished with value: 0.022396658737274217 and parameters: {'alpha': 0.8482439260086363, 'gamma': 0.18678630236217186, 'kernel': 'rbf'}. Best is trial 0 with value: 0.022396658737274217.\n"
     ]
    },
    {
     "name": "stdout",
     "output_type": "stream",
     "text": [
      "Successfully updated KRR.csv with results of trial 9\n"
     ]
    },
    {
     "name": "stderr",
     "output_type": "stream",
     "text": [
      "[I 2024-03-19 11:12:51,080] Trial 9 finished with value: 0.016396656159803694 and parameters: {'alpha': 0.4948854409831449, 'gamma': 0.22913127570979333, 'kernel': 'laplacian'}. Best is trial 2 with value: 0.29930151417361495.\n",
      "[I 2024-03-19 11:12:51,131] Trial 6 finished with value: 0.27656972713430794 and parameters: {'n_estimators': 20, 'learning_rate': 0.17411426834067326, 'max_depth': 3}. Best is trial 4 with value: 0.3367528522416226.\n"
     ]
    },
    {
     "name": "stdout",
     "output_type": "stream",
     "text": [
      "Successfully updated GB.csv with results of trial 6\n"
     ]
    },
    {
     "name": "stderr",
     "output_type": "stream",
     "text": [
      "[I 2024-03-19 11:12:51,459] Trial 14 pruned. \n",
      "[I 2024-03-19 11:12:51,492] Trial 17 pruned. \n"
     ]
    },
    {
     "name": "stdout",
     "output_type": "stream",
     "text": [
      "Successfully updated linear.csv with results of trial 16\n"
     ]
    },
    {
     "name": "stderr",
     "output_type": "stream",
     "text": [
      "[I 2024-03-19 11:12:52,024] Trial 16 finished with value: 0.37590414469883376 and parameters: {'alpha': 0.03798266274387979, 'l1_ratio': 0.04287247780432315}. Best is trial 12 with value: 0.3817532708629135.\n",
      "[I 2024-03-19 11:12:52,895] Trial 11 finished with value: 0.12875814309141237 and parameters: {'n_estimators': 20, 'learning_rate': 0.14364511101529778, 'max_depth': 2}. Best is trial 10 with value: 0.12875814309141237.\n"
     ]
    },
    {
     "name": "stdout",
     "output_type": "stream",
     "text": [
      "Successfully updated GB.csv with results of trial 11\n"
     ]
    },
    {
     "name": "stderr",
     "output_type": "stream",
     "text": [
      "[I 2024-03-19 11:12:53,550] Trial 14 finished with value: 0.20537177762511372 and parameters: {'alpha': 0.855302564154301, 'gamma': 0.13339390758894054, 'kernel': 'rbf'}. Best is trial 3 with value: 0.23219934032189837.\n"
     ]
    },
    {
     "name": "stdout",
     "output_type": "stream",
     "text": [
      "Successfully updated linear.csv with results of trial 18\n",
      "Successfully updated KRR.csv with results of trial 14\n"
     ]
    },
    {
     "name": "stderr",
     "output_type": "stream",
     "text": [
      "[I 2024-03-19 11:12:53,632] Trial 18 finished with value: 0.2435849091251223 and parameters: {'alpha': 0.05689667528090529, 'l1_ratio': 0.020513158626191852}. Best is trial 11 with value: 0.2783053206366826.\n",
      "[I 2024-03-19 11:12:53,646] Trial 15 pruned. \n"
     ]
    },
    {
     "name": "stdout",
     "output_type": "stream",
     "text": [
      "Successfully updated KRR.csv with results of trial 10\n"
     ]
    },
    {
     "name": "stderr",
     "output_type": "stream",
     "text": [
      "[I 2024-03-19 11:12:54,231] Trial 7 pruned. \n"
     ]
    },
    {
     "name": "stdout",
     "output_type": "stream",
     "text": [
      "Successfully updated KRR.csv with results of trial 11\n",
      "Successfully updated KRR.csv with results of trial 1\n"
     ]
    },
    {
     "name": "stderr",
     "output_type": "stream",
     "text": [
      "[I 2024-03-19 11:12:54,434] Trial 10 finished with value: 0.1438948712698223 and parameters: {'alpha': 0.7091200616352415, 'gamma': 0.14544758174207914, 'kernel': 'rbf'}. Best is trial 2 with value: 0.29930151417361495.\n",
      "[I 2024-03-19 11:12:54,456] Trial 17 pruned. \n",
      "[I 2024-03-19 11:12:54,475] Trial 11 finished with value: 0.3451872252034847 and parameters: {'alpha': 0.5727476808961598, 'gamma': 0.10063744283155054, 'kernel': 'laplacian'}. Best is trial 11 with value: 0.3451872252034847.\n",
      "[I 2024-03-19 11:12:54,632] Trial 1 finished with value: 0.02215660880439883 and parameters: {'alpha': 0.8739531735584456, 'gamma': 0.18143852664227056, 'kernel': 'rbf'}. Best is trial 0 with value: 0.022396658737274217.\n",
      "[I 2024-03-19 11:12:55,821] Trial 19 pruned. \n"
     ]
    },
    {
     "name": "stdout",
     "output_type": "stream",
     "text": [
      "Successfully updated GB.csv with results of trial 6\n",
      "Successfully updated linear.csv with results of trial 18\n",
      "Successfully updated linear.csv with results of trial 16\n"
     ]
    },
    {
     "name": "stderr",
     "output_type": "stream",
     "text": [
      "[I 2024-03-19 11:12:56,050] Trial 8 pruned. \n",
      "[I 2024-03-19 11:12:56,158] Trial 6 finished with value: 0.35887770038255845 and parameters: {'n_estimators': 20, 'learning_rate': 0.1734514845889372, 'max_depth': 3}. Best is trial 3 with value: 0.5106922053236764.\n",
      "[I 2024-03-19 11:12:56,296] Trial 18 finished with value: 0.3755547714090191 and parameters: {'alpha': 0.03614435067072068, 'l1_ratio': 0.04991882324769367}. Best is trial 12 with value: 0.3817532708629135.\n",
      "[I 2024-03-19 11:12:56,330] Trial 16 finished with value: 0.05117864568903391 and parameters: {'alpha': 0.01933384915795061, 'l1_ratio': 3.401393405559269e-05}. Best is trial 12 with value: 0.0522108604003981.\n"
     ]
    },
    {
     "name": "stdout",
     "output_type": "stream",
     "text": [
      "Successfully updated KRR.csv with results of trial 15\n"
     ]
    },
    {
     "name": "stderr",
     "output_type": "stream",
     "text": [
      "[I 2024-03-19 11:12:56,558] Trial 15 finished with value: 0.21867073282966767 and parameters: {'alpha': 0.6488426856943353, 'gamma': 0.12841150964583084, 'kernel': 'rbf'}. Best is trial 3 with value: 0.23219934032189837.\n",
      "[I 2024-03-19 11:12:56,795] Trial 2 finished with value: 0.13214748804790416 and parameters: {'alpha': 0.5423404315202791, 'gamma': 0.26667164785622405, 'kernel': 'laplacian'}. Best is trial 2 with value: 0.13214748804790416.\n"
     ]
    },
    {
     "name": "stdout",
     "output_type": "stream",
     "text": [
      "Successfully updated GB.csv with results of trial 12\n",
      "Successfully updated KRR.csv with results of trial 2\n"
     ]
    },
    {
     "name": "stderr",
     "output_type": "stream",
     "text": [
      "[I 2024-03-19 11:12:57,010] Trial 12 finished with value: 0.1303031572942281 and parameters: {'n_estimators': 20, 'learning_rate': 0.1468184358508637, 'max_depth': 2}. Best is trial 12 with value: 0.1303031572942281.\n"
     ]
    },
    {
     "name": "stdout",
     "output_type": "stream",
     "text": [
      "Successfully updated ANN.csv with results of trial 1\n"
     ]
    },
    {
     "name": "stderr",
     "output_type": "stream",
     "text": [
      "[I 2024-03-19 11:12:57,192] Trial 1 finished with value: 0.08910047566739195 and parameters: {'learning_rate_init': 0.06221009647681287, 'hidden_layer_sizes': [5, 5, 5]}. Best is trial 0 with value: 0.09314471831836658.\n",
      "[I 2024-03-19 11:12:58,101] Trial 17 pruned. \n"
     ]
    },
    {
     "name": "stdout",
     "output_type": "stream",
     "text": [
      "Successfully updated KRR.csv with results of trial 11\n",
      "Successfully updated KRR.csv with results of trial 12\n"
     ]
    },
    {
     "name": "stderr",
     "output_type": "stream",
     "text": [
      "[I 2024-03-19 11:12:58,593] Trial 11 finished with value: 0.29286110775966706 and parameters: {'alpha': 0.5892280512991616, 'gamma': 0.10326671151174395, 'kernel': 'laplacian'}. Best is trial 2 with value: 0.29930151417361495.\n",
      "[I 2024-03-19 11:12:58,599] Trial 12 finished with value: 0.34467408219298806 and parameters: {'alpha': 0.5707879541832804, 'gamma': 0.10233521082442121, 'kernel': 'laplacian'}. Best is trial 11 with value: 0.3451872252034847.\n",
      "[I 2024-03-19 11:12:58,609] Trial 19 pruned. \n"
     ]
    },
    {
     "name": "stdout",
     "output_type": "stream",
     "text": [
      "Successfully updated KRR.csv with results of trial 3\n"
     ]
    },
    {
     "name": "stderr",
     "output_type": "stream",
     "text": [
      "[I 2024-03-19 11:12:59,435] Trial 3 finished with value: 0.13349176767200638 and parameters: {'alpha': 0.38025312232577246, 'gamma': 0.2766224132098626, 'kernel': 'laplacian'}. Best is trial 3 with value: 0.13349176767200638.\n",
      "[I 2024-03-19 11:12:59,654] Trial 16 pruned. \n"
     ]
    },
    {
     "name": "stdout",
     "output_type": "stream",
     "text": [
      "Successfully updated linear.csv with results of trial 18\n"
     ]
    },
    {
     "name": "stderr",
     "output_type": "stream",
     "text": [
      "[I 2024-03-19 11:13:00,006] Trial 18 finished with value: 0.04649767199796374 and parameters: {'alpha': 0.03513784010727421, 'l1_ratio': 0.011017922437039085}. Best is trial 12 with value: 0.0522108604003981.\n"
     ]
    },
    {
     "name": "stdout",
     "output_type": "stream",
     "text": [
      "Successfully created RF.csv with results of trial 0 as the first entry\n"
     ]
    },
    {
     "name": "stderr",
     "output_type": "stream",
     "text": [
      "[I 2024-03-19 11:13:01,219] Trial 0 finished with value: 0.40405211679896463 and parameters: {'n_estimators': 500, 'max_features': 'log2', 'max_depth': 5}. Best is trial 0 with value: 0.40405211679896463.\n",
      "[I 2024-03-19 11:13:01,679] Trial 9 finished with value: 0.345871454680093 and parameters: {'n_estimators': 20, 'learning_rate': 0.1422648637190836, 'max_depth': 3}. Best is trial 9 with value: 0.345871454680093.\n"
     ]
    },
    {
     "name": "stdout",
     "output_type": "stream",
     "text": [
      "Successfully updated GB.csv with results of trial 9\n",
      "Successfully updated GB.csv with results of trial 13\n"
     ]
    },
    {
     "name": "stderr",
     "output_type": "stream",
     "text": [
      "[I 2024-03-19 11:13:02,063] Trial 13 finished with value: 0.13629530697271608 and parameters: {'n_estimators': 20, 'learning_rate': 0.1422707959111716, 'max_depth': 2}. Best is trial 13 with value: 0.13629530697271608.\n"
     ]
    },
    {
     "name": "stdout",
     "output_type": "stream",
     "text": [
      "Successfully updated linear.csv with results of trial 19\n",
      "Successfully updated KRR.csv with results of trial 12\n"
     ]
    },
    {
     "name": "stderr",
     "output_type": "stream",
     "text": [
      "[I 2024-03-19 11:13:02,096] Trial 13 pruned. \n",
      "[I 2024-03-19 11:13:02,219] Trial 19 finished with value: 0.05264295027957381 and parameters: {'alpha': 0.013930973396736625, 'l1_ratio': 0.0055927708868616696}. Best is trial 19 with value: 0.05264295027957381.\n"
     ]
    },
    {
     "name": "stdout",
     "output_type": "stream",
     "text": [
      "Successfully updated KRR.csv with results of trial 4\n"
     ]
    },
    {
     "name": "stderr",
     "output_type": "stream",
     "text": [
      "[I 2024-03-19 11:13:02,552] Trial 12 finished with value: 0.2849197591729772 and parameters: {'alpha': 0.45166283873754576, 'gamma': 0.10724400076190257, 'kernel': 'laplacian'}. Best is trial 2 with value: 0.29930151417361495.\n",
      "[I 2024-03-19 11:13:02,799] Trial 4 finished with value: 0.12636228466560717 and parameters: {'alpha': 0.31686255707004557, 'gamma': 0.2941667692145873, 'kernel': 'laplacian'}. Best is trial 3 with value: 0.13349176767200638.\n"
     ]
    },
    {
     "name": "stdout",
     "output_type": "stream",
     "text": [
      "Successfully updated KRR.csv with results of trial 17\n"
     ]
    },
    {
     "name": "stderr",
     "output_type": "stream",
     "text": [
      "[I 2024-03-19 11:13:03,548] Trial 17 finished with value: 0.13791663749024102 and parameters: {'alpha': 0.7886205833915656, 'gamma': 0.18043485366157427, 'kernel': 'rbf'}. Best is trial 3 with value: 0.23219934032189837.\n",
      "[I 2024-03-19 11:13:04,193] Trial 7 pruned. \n"
     ]
    },
    {
     "name": "stdout",
     "output_type": "stream",
     "text": [
      "Successfully created GB.csv with results of trial 0 as the first entry\n"
     ]
    },
    {
     "name": "stderr",
     "output_type": "stream",
     "text": [
      "[I 2024-03-19 11:13:05,146] Trial 0 finished with value: 0.3606530982013439 and parameters: {'n_estimators': 50, 'learning_rate': 0.10856695079076845, 'max_depth': 2}. Best is trial 0 with value: 0.3606530982013439.\n"
     ]
    },
    {
     "name": "stdout",
     "output_type": "stream",
     "text": [
      "Successfully updated KRR.csv with results of trial 5\n"
     ]
    },
    {
     "name": "stderr",
     "output_type": "stream",
     "text": [
      "[I 2024-03-19 11:13:05,541] Trial 10 pruned. \n",
      "[I 2024-03-19 11:13:05,550] Trial 5 finished with value: 0.21282827048732397 and parameters: {'alpha': 0.3101532568775103, 'gamma': 0.10717537839026033, 'kernel': 'laplacian'}. Best is trial 5 with value: 0.21282827048732397.\n",
      "[I 2024-03-19 11:13:05,860] Trial 14 pruned. \n"
     ]
    },
    {
     "name": "stdout",
     "output_type": "stream",
     "text": [
      "Successfully updated KRR.csv with results of trial 14\n"
     ]
    },
    {
     "name": "stderr",
     "output_type": "stream",
     "text": [
      "[I 2024-03-19 11:13:06,048] Trial 14 finished with value: 0.3059844585207639 and parameters: {'alpha': 0.5097830150717049, 'gamma': 0.12530471102430957, 'kernel': 'laplacian'}. Best is trial 11 with value: 0.3451872252034847.\n",
      "[I 2024-03-19 11:13:06,180] Trial 13 pruned. \n",
      "[I 2024-03-19 11:13:06,451] Trial 18 pruned. \n",
      "[I 2024-03-19 11:13:07,409] Trial 8 pruned. \n"
     ]
    },
    {
     "name": "stdout",
     "output_type": "stream",
     "text": [
      "Successfully updated RF.csv with results of trial 1\n"
     ]
    },
    {
     "name": "stderr",
     "output_type": "stream",
     "text": [
      "[I 2024-03-19 11:13:07,608] Trial 6 pruned. \n",
      "[I 2024-03-19 11:13:07,689] Trial 1 finished with value: 0.2035832734453281 and parameters: {'n_estimators': 500, 'max_features': 'sqrt', 'max_depth': 2}. Best is trial 0 with value: 0.22208072134365583.\n"
     ]
    },
    {
     "name": "stdout",
     "output_type": "stream",
     "text": [
      "Successfully updated KRR.csv with results of trial 19\n"
     ]
    },
    {
     "name": "stderr",
     "output_type": "stream",
     "text": [
      "[I 2024-03-19 11:13:09,546] Trial 19 finished with value: 0.12369907313498002 and parameters: {'alpha': 0.7164734131004552, 'gamma': 0.19769369301021625, 'kernel': 'rbf'}. Best is trial 3 with value: 0.23219934032189837.\n",
      "[I 2024-03-19 11:13:09,947] Trial 15 finished with value: 0.26782836764753315 and parameters: {'alpha': 0.6630059231779609, 'gamma': 0.15778665908354753, 'kernel': 'laplacian'}. Best is trial 11 with value: 0.3451872252034847.\n"
     ]
    },
    {
     "name": "stdout",
     "output_type": "stream",
     "text": [
      "Successfully updated KRR.csv with results of trial 15\n"
     ]
    },
    {
     "name": "stderr",
     "output_type": "stream",
     "text": [
      "[I 2024-03-19 11:13:10,269] Trial 15 pruned. \n",
      "[I 2024-03-19 11:13:10,653] Trial 0 finished with value: 0.2387899105303478 and parameters: {'alpha': 0.048654613533396264, 'l1_ratio': 0.023641914354471754}. Best is trial 0 with value: 0.2387899105303478.\n"
     ]
    },
    {
     "name": "stdout",
     "output_type": "stream",
     "text": [
      "Successfully created linear.csv with results of trial 0 as the first entry\n",
      "Successfully updated KRR.csv with results of trial 14\n",
      "Successfully updated KRR.csv with results of trial 7\n"
     ]
    },
    {
     "name": "stderr",
     "output_type": "stream",
     "text": [
      "[I 2024-03-19 11:13:10,673] Trial 14 finished with value: 0.06250741903028631 and parameters: {'alpha': 0.9775878210575074, 'gamma': 0.1702733308510883, 'kernel': 'laplacian'}. Best is trial 2 with value: 0.29930151417361495.\n",
      "[I 2024-03-19 11:13:10,887] Trial 7 finished with value: 0.21570886968182867 and parameters: {'alpha': 0.3151738176373305, 'gamma': 0.10002465094125378, 'kernel': 'laplacian'}. Best is trial 7 with value: 0.21570886968182867.\n",
      "[I 2024-03-19 11:13:12,227] Trial 9 pruned. \n"
     ]
    },
    {
     "name": "stdout",
     "output_type": "stream",
     "text": [
      "Successfully updated linear.csv with results of trial 1\n",
      "Successfully updated GB.csv with results of trial 11\n"
     ]
    },
    {
     "name": "stderr",
     "output_type": "stream",
     "text": [
      "[I 2024-03-19 11:13:13,088] Trial 11 finished with value: 0.2741836494297077 and parameters: {'n_estimators': 20, 'learning_rate': 0.1531242625970818, 'max_depth': 3}. Best is trial 9 with value: 0.345871454680093.\n",
      "[I 2024-03-19 11:13:13,251] Trial 1 finished with value: 0.2385554279626373 and parameters: {'alpha': 0.041441922921286845, 'l1_ratio': 0.02228702398883612}. Best is trial 0 with value: 0.2387899105303478.\n"
     ]
    },
    {
     "name": "stdout",
     "output_type": "stream",
     "text": [
      "Successfully updated KRR.csv with results of trial 8\n"
     ]
    },
    {
     "name": "stderr",
     "output_type": "stream",
     "text": [
      "[I 2024-03-19 11:13:13,531] Trial 8 finished with value: 0.09349944885496579 and parameters: {'alpha': 0.6972875367258544, 'gamma': 0.14920342600936634, 'kernel': 'rbf'}. Best is trial 7 with value: 0.21570886968182867.\n"
     ]
    },
    {
     "name": "stdout",
     "output_type": "stream",
     "text": [
      "Successfully updated KRR.csv with results of trial 15\n"
     ]
    },
    {
     "name": "stderr",
     "output_type": "stream",
     "text": [
      "[I 2024-03-19 11:13:13,911] Trial 15 finished with value: 0.24925646348670236 and parameters: {'alpha': 0.30705282467054623, 'gamma': 0.12083373455914752, 'kernel': 'laplacian'}. Best is trial 2 with value: 0.29930151417361495.\n",
      "[I 2024-03-19 11:13:14,256] Trial 16 finished with value: 0.3455882243772505 and parameters: {'alpha': 0.4507328076465954, 'gamma': 0.1022758783856098, 'kernel': 'laplacian'}. Best is trial 16 with value: 0.3455882243772505.\n"
     ]
    },
    {
     "name": "stdout",
     "output_type": "stream",
     "text": [
      "Successfully updated KRR.csv with results of trial 16\n"
     ]
    },
    {
     "name": "stderr",
     "output_type": "stream",
     "text": [
      "[I 2024-03-19 11:13:14,460] Trial 1 finished with value: 0.3439767537917395 and parameters: {'n_estimators': 50, 'learning_rate': 0.10649096326897323, 'max_depth': 2}. Best is trial 0 with value: 0.3606530982013439.\n"
     ]
    },
    {
     "name": "stdout",
     "output_type": "stream",
     "text": [
      "Successfully updated GB.csv with results of trial 1\n",
      "Successfully updated GB.csv with results of trial 16\n"
     ]
    },
    {
     "name": "stderr",
     "output_type": "stream",
     "text": [
      "[I 2024-03-19 11:13:14,684] Trial 16 finished with value: 0.051791290092193853 and parameters: {'n_estimators': 10, 'learning_rate': 0.13381108286177015, 'max_depth': 2}. Best is trial 13 with value: 0.13629530697271608.\n"
     ]
    },
    {
     "name": "stdout",
     "output_type": "stream",
     "text": [
      "Successfully updated linear.csv with results of trial 2\n"
     ]
    },
    {
     "name": "stderr",
     "output_type": "stream",
     "text": [
      "[I 2024-03-19 11:13:15,028] Trial 2 finished with value: 0.237539336835892 and parameters: {'alpha': 0.08743160748953066, 'l1_ratio': 0.04069291954955882}. Best is trial 0 with value: 0.2387899105303478.\n",
      "[I 2024-03-19 11:13:16,191] Trial 9 finished with value: 0.1387008512154024 and parameters: {'alpha': 0.45111575203763743, 'gamma': 0.225100864510682, 'kernel': 'laplacian'}. Best is trial 7 with value: 0.21570886968182867.\n"
     ]
    },
    {
     "name": "stdout",
     "output_type": "stream",
     "text": [
      "Successfully updated KRR.csv with results of trial 9\n"
     ]
    },
    {
     "name": "stderr",
     "output_type": "stream",
     "text": [
      "[I 2024-03-19 11:13:16,640] Trial 16 pruned. \n"
     ]
    },
    {
     "name": "stdout",
     "output_type": "stream",
     "text": [
      "Successfully updated GB.csv with results of trial 17\n",
      "Successfully updated GB.csv with results of trial 2\n"
     ]
    },
    {
     "name": "stderr",
     "output_type": "stream",
     "text": [
      "[I 2024-03-19 11:13:17,012] Trial 0 finished with value: 0.08476104967259239 and parameters: {'learning_rate_init': 0.115263377166058, 'hidden_layer_sizes': [5, 5, 5, 5, 5]}. Best is trial 0 with value: 0.08476104967259239.\n"
     ]
    },
    {
     "name": "stdout",
     "output_type": "stream",
     "text": [
      "Successfully updated linear.csv with results of trial 3\n",
      "Successfully created ANN.csv with results of trial 0 as the first entry\n"
     ]
    },
    {
     "name": "stderr",
     "output_type": "stream",
     "text": [
      "[I 2024-03-19 11:13:17,126] Trial 3 finished with value: 0.23677811806535376 and parameters: {'alpha': 0.015178908573965658, 'l1_ratio': 0.003037640745767789}. Best is trial 0 with value: 0.2387899105303478.\n",
      "[I 2024-03-19 11:13:17,257] Trial 2 finished with value: 0.19558229111606715 and parameters: {'n_estimators': 10, 'learning_rate': 0.15808272083629032, 'max_depth': 1}. Best is trial 0 with value: 0.3606530982013439.\n",
      "[I 2024-03-19 11:13:17,257] Trial 17 finished with value: 0.044910022835230136 and parameters: {'n_estimators': 5, 'learning_rate': 0.10049989543156886, 'max_depth': 2}. Best is trial 13 with value: 0.13629530697271608.\n"
     ]
    },
    {
     "name": "stdout",
     "output_type": "stream",
     "text": [
      "Successfully updated KRR.csv with results of trial 17\n"
     ]
    },
    {
     "name": "stderr",
     "output_type": "stream",
     "text": [
      "[I 2024-03-19 11:13:17,761] Trial 12 pruned. \n",
      "[I 2024-03-19 11:13:17,967] Trial 17 finished with value: 0.25244767052496075 and parameters: {'alpha': 0.45311790765977134, 'gamma': 0.1860446592277858, 'kernel': 'laplacian'}. Best is trial 16 with value: 0.3455882243772505.\n"
     ]
    },
    {
     "name": "stdout",
     "output_type": "stream",
     "text": [
      "Successfully updated linear.csv with results of trial 4\n",
      "Successfully updated KRR.csv with results of trial 10\n"
     ]
    },
    {
     "name": "stderr",
     "output_type": "stream",
     "text": [
      "[I 2024-03-19 11:13:19,685] Trial 4 finished with value: 0.23849086029906486 and parameters: {'alpha': 0.05914626347833784, 'l1_ratio': 0.02561815833064032}. Best is trial 0 with value: 0.2387899105303478.\n",
      "[I 2024-03-19 11:13:20,045] Trial 10 finished with value: 0.09241922415702652 and parameters: {'alpha': 0.6903845359565559, 'gamma': 0.14230504003349015, 'kernel': 'rbf'}. Best is trial 7 with value: 0.21570886968182867.\n"
     ]
    },
    {
     "name": "stdout",
     "output_type": "stream",
     "text": [
      "Successfully updated GB.csv with results of trial 10\n",
      "Successfully updated KRR.csv with results of trial 17\n"
     ]
    },
    {
     "name": "stderr",
     "output_type": "stream",
     "text": [
      "[I 2024-03-19 11:13:20,604] Trial 17 finished with value: 0.23776288509118948 and parameters: {'alpha': 0.5272840313943512, 'gamma': 0.12362321891868946, 'kernel': 'laplacian'}. Best is trial 2 with value: 0.29930151417361495.\n",
      "[I 2024-03-19 11:13:20,631] Trial 10 finished with value: 0.4783433303353018 and parameters: {'n_estimators': 50, 'learning_rate': 0.12509776928852603, 'max_depth': 2}. Best is trial 3 with value: 0.5106922053236764.\n",
      "[I 2024-03-19 11:13:21,538] Trial 18 pruned. \n"
     ]
    },
    {
     "name": "stdout",
     "output_type": "stream",
     "text": [
      "Successfully updated ANN.csv with results of trial 1\n",
      "Successfully updated linear.csv with results of trial 5\n",
      "Successfully updated GB.csv with results of trial 3\n"
     ]
    },
    {
     "name": "stderr",
     "output_type": "stream",
     "text": [
      "[I 2024-03-19 11:13:21,608] Trial 1 finished with value: 0.13514014349303127 and parameters: {'learning_rate_init': 0.11726222670298, 'hidden_layer_sizes': [5, 5, 5, 5, 5]}. Best is trial 1 with value: 0.13514014349303127.\n",
      "[I 2024-03-19 11:13:21,765] Trial 5 finished with value: 0.23848746200098211 and parameters: {'alpha': 0.054030026985277764, 'l1_ratio': 0.0477914054977438}. Best is trial 0 with value: 0.2387899105303478.\n",
      "[I 2024-03-19 11:13:21,821] Trial 3 finished with value: 0.32203602707130985 and parameters: {'n_estimators': 20, 'learning_rate': 0.05867129618588054, 'max_depth': 2}. Best is trial 0 with value: 0.3606530982013439.\n"
     ]
    },
    {
     "name": "stdout",
     "output_type": "stream",
     "text": [
      "Successfully updated KRR.csv with results of trial 11\n"
     ]
    },
    {
     "name": "stderr",
     "output_type": "stream",
     "text": [
      "[I 2024-03-19 11:13:22,445] Trial 11 finished with value: 0.2134043903262249 and parameters: {'alpha': 0.30193280977119913, 'gamma': 0.10561884128557804, 'kernel': 'laplacian'}. Best is trial 7 with value: 0.21570886968182867.\n",
      "[I 2024-03-19 11:13:24,524] Trial 13 pruned. \n"
     ]
    },
    {
     "name": "stdout",
     "output_type": "stream",
     "text": [
      "Successfully updated KRR.csv with results of trial 18\n"
     ]
    },
    {
     "name": "stderr",
     "output_type": "stream",
     "text": [
      "[I 2024-03-19 11:13:24,723] Trial 6 pruned. \n",
      "[I 2024-03-19 11:13:24,787] Trial 18 finished with value: 0.3046457779704997 and parameters: {'alpha': 0.43384234437668795, 'gamma': 0.10085386433795324, 'kernel': 'rbf'}. Best is trial 18 with value: 0.3046457779704997.\n",
      "[I 2024-03-19 11:13:25,015] Trial 19 finished with value: 0.2766809341531232 and parameters: {'alpha': 0.44253677748406195, 'gamma': 0.14831805561816083, 'kernel': 'laplacian'}. Best is trial 16 with value: 0.3455882243772505.\n"
     ]
    },
    {
     "name": "stdout",
     "output_type": "stream",
     "text": [
      "Successfully updated KRR.csv with results of trial 19\n",
      "Successfully updated KRR.csv with results of trial 12\n"
     ]
    },
    {
     "name": "stderr",
     "output_type": "stream",
     "text": [
      "[I 2024-03-19 11:13:25,403] Trial 12 finished with value: 0.20279418329313248 and parameters: {'alpha': 0.4211102627717944, 'gamma': 0.11952894775247627, 'kernel': 'laplacian'}. Best is trial 7 with value: 0.21570886968182867.\n",
      "[I 2024-03-19 11:13:26,357] Trial 7 pruned. \n",
      "[I 2024-03-19 11:13:27,334] Trial 18 pruned. \n",
      "[I 2024-03-19 11:13:27,973] Trial 19 finished with value: 0.08529445019827979 and parameters: {'alpha': 0.40147972683881467, 'gamma': 0.1713803151491859, 'kernel': 'rbf'}. Best is trial 18 with value: 0.3046457779704997.\n"
     ]
    },
    {
     "name": "stdout",
     "output_type": "stream",
     "text": [
      "Successfully updated KRR.csv with results of trial 19\n",
      "Successfully updated ANN.csv with results of trial 2\n"
     ]
    },
    {
     "name": "stderr",
     "output_type": "stream",
     "text": [
      "[I 2024-03-19 11:13:28,096] Trial 13 pruned. \n",
      "[I 2024-03-19 11:13:28,103] Trial 2 finished with value: 0.1675066960084597 and parameters: {'learning_rate_init': 0.14830113474335324, 'hidden_layer_sizes': [5, 5, 5]}. Best is trial 2 with value: 0.1675066960084597.\n",
      "[I 2024-03-19 11:13:28,186] Trial 14 pruned. \n",
      "[I 2024-03-19 11:13:28,544] Trial 0 finished with value: 0.24656861484178572 and parameters: {'alpha': 0.9157969240047507, 'gamma': 0.15455900382154844, 'kernel': 'laplacian'}. Best is trial 0 with value: 0.24656861484178572.\n"
     ]
    },
    {
     "name": "stdout",
     "output_type": "stream",
     "text": [
      "Successfully created KRR.csv with results of trial 0 as the first entry\n",
      "Successfully updated linear.csv with results of trial 8\n"
     ]
    },
    {
     "name": "stderr",
     "output_type": "stream",
     "text": [
      "[I 2024-03-19 11:13:29,198] Trial 8 finished with value: 0.2385554279626373 and parameters: {'alpha': 0.033212437592875434, 'l1_ratio': 0.03350855647716331}. Best is trial 0 with value: 0.2387899105303478.\n"
     ]
    },
    {
     "name": "stdout",
     "output_type": "stream",
     "text": [
      "Successfully updated ANN.csv with results of trial 2\n"
     ]
    },
    {
     "name": "stderr",
     "output_type": "stream",
     "text": [
      "[I 2024-03-19 11:13:30,211] Trial 2 finished with value: 0.025933116326232252 and parameters: {'learning_rate_init': 0.1465237989177552, 'hidden_layer_sizes': [5, 5, 5]}. Best is trial 1 with value: 0.13514014349303127.\n"
     ]
    },
    {
     "name": "stdout",
     "output_type": "stream",
     "text": [
      "Successfully updated KRR.csv with results of trial 14\n",
      "Successfully updated linear.csv with results of trial 9\n"
     ]
    },
    {
     "name": "stderr",
     "output_type": "stream",
     "text": [
      "[I 2024-03-19 11:13:31,294] Trial 9 finished with value: 0.23793353941349218 and parameters: {'alpha': 0.0773225234006499, 'l1_ratio': 0.01376442834039357}. Best is trial 0 with value: 0.2387899105303478.\n",
      "[I 2024-03-19 11:13:31,391] Trial 14 finished with value: 0.15864900063734763 and parameters: {'alpha': 0.48662553132038433, 'gamma': 0.14954008348309114, 'kernel': 'laplacian'}. Best is trial 7 with value: 0.21570886968182867.\n"
     ]
    },
    {
     "name": "stdout",
     "output_type": "stream",
     "text": [
      "Successfully updated GB.csv with results of trial 19\n",
      "Successfully updated KRR.csv with results of trial 1\n"
     ]
    },
    {
     "name": "stderr",
     "output_type": "stream",
     "text": [
      "[I 2024-03-19 11:13:31,490] Trial 19 finished with value: 0.013333059584845671 and parameters: {'n_estimators': 20, 'learning_rate': 0.14379939370024944, 'max_depth': 1}. Best is trial 13 with value: 0.13629530697271608.\n",
      "[I 2024-03-19 11:13:31,763] Trial 1 finished with value: 0.2515573164272776 and parameters: {'alpha': 0.9611538801324561, 'gamma': 0.14915297146696385, 'kernel': 'laplacian'}. Best is trial 1 with value: 0.2515573164272776.\n"
     ]
    },
    {
     "name": "stdout",
     "output_type": "stream",
     "text": [
      "Successfully updated GB.csv with results of trial 11\n"
     ]
    },
    {
     "name": "stderr",
     "output_type": "stream",
     "text": [
      "[I 2024-03-19 11:13:32,869] Trial 11 finished with value: 0.4721973265841129 and parameters: {'n_estimators': 50, 'learning_rate': 0.1312496317206264, 'max_depth': 2}. Best is trial 3 with value: 0.5106922053236764.\n",
      "[I 2024-03-19 11:13:33,620] Trial 15 pruned. \n"
     ]
    },
    {
     "name": "stdout",
     "output_type": "stream",
     "text": [
      "Successfully updated GB.csv with results of trial 4\n"
     ]
    },
    {
     "name": "stderr",
     "output_type": "stream",
     "text": [
      "[I 2024-03-19 11:13:34,957] Trial 4 finished with value: 0.39178843779926037 and parameters: {'n_estimators': 50, 'learning_rate': 0.11313817392952472, 'max_depth': 3}. Best is trial 4 with value: 0.39178843779926037.\n"
     ]
    },
    {
     "name": "stdout",
     "output_type": "stream",
     "text": [
      "Successfully updated linear.csv with results of trial 10\n",
      "Successfully updated KRR.csv with results of trial 15\n"
     ]
    },
    {
     "name": "stderr",
     "output_type": "stream",
     "text": [
      "[I 2024-03-19 11:13:35,113] Trial 10 finished with value: 0.23892924075174093 and parameters: {'alpha': 0.06910650708455643, 'l1_ratio': 0.03517430438231373}. Best is trial 10 with value: 0.23892924075174093.\n",
      "[I 2024-03-19 11:13:35,373] Trial 15 finished with value: 0.2134764053060875 and parameters: {'alpha': 0.41132314887666643, 'gamma': 0.10063642971166638, 'kernel': 'laplacian'}. Best is trial 7 with value: 0.21570886968182867.\n",
      "[I 2024-03-19 11:13:36,327] Trial 2 pruned. \n"
     ]
    },
    {
     "name": "stdout",
     "output_type": "stream",
     "text": [
      "Successfully updated GB.csv with results of trial 16\n",
      "Successfully updated linear.csv with results of trial 11\n"
     ]
    },
    {
     "name": "stderr",
     "output_type": "stream",
     "text": [
      "[I 2024-03-19 11:13:37,110] Trial 11 finished with value: 0.23897002032873402 and parameters: {'alpha': 0.06506445973277494, 'l1_ratio': 0.034005628540250625}. Best is trial 11 with value: 0.23897002032873402.\n",
      "[I 2024-03-19 11:13:37,127] Trial 16 finished with value: 0.3367528522416226 and parameters: {'n_estimators': 5, 'learning_rate': 0.17488291419102298, 'max_depth': 3}. Best is trial 9 with value: 0.345871454680093.\n"
     ]
    },
    {
     "name": "stdout",
     "output_type": "stream",
     "text": [
      "Successfully created GB.csv with results of trial 0 as the first entry\n"
     ]
    },
    {
     "name": "stderr",
     "output_type": "stream",
     "text": [
      "[I 2024-03-19 11:13:38,044] Trial 16 pruned. \n",
      "[I 2024-03-19 11:13:38,098] Trial 0 finished with value: 0.2536217604869404 and parameters: {'n_estimators': 50, 'learning_rate': 0.11355573939671802, 'max_depth': 1}. Best is trial 0 with value: 0.2536217604869404.\n"
     ]
    },
    {
     "name": "stdout",
     "output_type": "stream",
     "text": [
      "Successfully updated GB.csv with results of trial 5\n"
     ]
    },
    {
     "name": "stderr",
     "output_type": "stream",
     "text": [
      "[I 2024-03-19 11:13:38,393] Trial 5 finished with value: 0.5801458324620374 and parameters: {'n_estimators': 5, 'learning_rate': 0.16925969710108957, 'max_depth': 3}. Best is trial 5 with value: 0.5801458324620374.\n",
      "[I 2024-03-19 11:13:38,997] Trial 3 pruned. \n",
      "[I 2024-03-19 11:13:39,153] Trial 3 finished with value: 0.14417067968978464 and parameters: {'learning_rate_init': 0.053206327613466727, 'hidden_layer_sizes': [5, 5, 5, 5, 5]}. Best is trial 3 with value: 0.14417067968978464.\n"
     ]
    },
    {
     "name": "stdout",
     "output_type": "stream",
     "text": [
      "Successfully updated ANN.csv with results of trial 3\n",
      "Successfully updated linear.csv with results of trial 12\n"
     ]
    },
    {
     "name": "stderr",
     "output_type": "stream",
     "text": [
      "[I 2024-03-19 11:13:40,116] Trial 12 finished with value: 0.23848746200098211 and parameters: {'alpha': 0.06694148059348161, 'l1_ratio': 0.03411949773672405}. Best is trial 11 with value: 0.23897002032873402.\n",
      "[I 2024-03-19 11:13:41,088] Trial 12 pruned. \n"
     ]
    },
    {
     "name": "stdout",
     "output_type": "stream",
     "text": [
      "Successfully updated KRR.csv with results of trial 17\n"
     ]
    },
    {
     "name": "stderr",
     "output_type": "stream",
     "text": [
      "[I 2024-03-19 11:13:41,926] Trial 17 finished with value: 0.15593643639585567 and parameters: {'alpha': 0.5997255781872088, 'gamma': 0.1617196731504338, 'kernel': 'laplacian'}. Best is trial 7 with value: 0.21570886968182867.\n"
     ]
    },
    {
     "name": "stdout",
     "output_type": "stream",
     "text": [
      "Successfully updated KRR.csv with results of trial 4\n"
     ]
    },
    {
     "name": "stderr",
     "output_type": "stream",
     "text": [
      "[I 2024-03-19 11:13:42,505] Trial 4 finished with value: 0.2380524798463888 and parameters: {'alpha': 0.7478407805498404, 'gamma': 0.19017770742365075, 'kernel': 'laplacian'}. Best is trial 1 with value: 0.2515573164272776.\n",
      "[I 2024-03-19 11:13:42,650] Trial 6 finished with value: 0.5801458324620374 and parameters: {'n_estimators': 5, 'learning_rate': 0.17074687408097253, 'max_depth': 3}. Best is trial 5 with value: 0.5801458324620374.\n"
     ]
    },
    {
     "name": "stdout",
     "output_type": "stream",
     "text": [
      "Successfully updated GB.csv with results of trial 6\n",
      "Successfully updated GB.csv with results of trial 17\n"
     ]
    },
    {
     "name": "stderr",
     "output_type": "stream",
     "text": [
      "[I 2024-03-19 11:13:43,025] Trial 17 finished with value: 0.2828118974632798 and parameters: {'n_estimators': 10, 'learning_rate': 0.1567839126973598, 'max_depth': 3}. Best is trial 9 with value: 0.345871454680093.\n"
     ]
    },
    {
     "name": "stdout",
     "output_type": "stream",
     "text": [
      "Successfully updated linear.csv with results of trial 13\n"
     ]
    },
    {
     "name": "stderr",
     "output_type": "stream",
     "text": [
      "[I 2024-03-19 11:13:43,368] Trial 13 finished with value: 0.23693443977716075 and parameters: {'alpha': 0.07204667239298518, 'l1_ratio': 0.04934912874696906}. Best is trial 11 with value: 0.23897002032873402.\n",
      "[I 2024-03-19 11:13:46,056] Trial 14 pruned. \n",
      "[I 2024-03-19 11:13:46,064] Trial 18 pruned. \n",
      "[I 2024-03-19 11:13:46,704] Trial 5 pruned. \n",
      "[I 2024-03-19 11:13:46,732] Trial 18 pruned. \n"
     ]
    },
    {
     "name": "stdout",
     "output_type": "stream",
     "text": [
      "Successfully updated GB.csv with results of trial 7\n",
      "Successfully updated GB.csv with results of trial 1\n"
     ]
    },
    {
     "name": "stderr",
     "output_type": "stream",
     "text": [
      "[I 2024-03-19 11:13:47,548] Trial 7 finished with value: 0.5801458324620374 and parameters: {'n_estimators': 5, 'learning_rate': 0.15018323176287568, 'max_depth': 3}. Best is trial 5 with value: 0.5801458324620374.\n",
      "[I 2024-03-19 11:13:47,564] Trial 1 finished with value: 0.25660195841677946 and parameters: {'n_estimators': 50, 'learning_rate': 0.11708901547740011, 'max_depth': 1}. Best is trial 1 with value: 0.25660195841677946.\n"
     ]
    },
    {
     "name": "stdout",
     "output_type": "stream",
     "text": [
      "Successfully updated linear.csv with results of trial 15\n"
     ]
    },
    {
     "name": "stderr",
     "output_type": "stream",
     "text": [
      "[I 2024-03-19 11:13:47,881] Trial 15 finished with value: 0.23885447819392022 and parameters: {'alpha': 0.06783785086674797, 'l1_ratio': 0.04048754875997278}. Best is trial 11 with value: 0.23897002032873402.\n",
      "[I 2024-03-19 11:13:48,315] Trial 16 finished with value: 0.24006767060946557 and parameters: {'alpha': 0.09732474934527509, 'l1_ratio': 0.030368980052301094}. Best is trial 16 with value: 0.24006767060946557.\n"
     ]
    },
    {
     "name": "stdout",
     "output_type": "stream",
     "text": [
      "Successfully updated linear.csv with results of trial 16\n"
     ]
    },
    {
     "name": "stderr",
     "output_type": "stream",
     "text": [
      "[I 2024-03-19 11:13:50,113] Trial 17 finished with value: 0.23936082460825145 and parameters: {'alpha': 0.09362768242745807, 'l1_ratio': 0.028556308986160787}. Best is trial 16 with value: 0.24006767060946557.\n"
     ]
    },
    {
     "name": "stdout",
     "output_type": "stream",
     "text": [
      "Successfully updated linear.csv with results of trial 17\n",
      "Successfully updated KRR.csv with results of trial 6\n",
      "Successfully updated linear.csv with results of trial 18\n"
     ]
    },
    {
     "name": "stderr",
     "output_type": "stream",
     "text": [
      "[I 2024-03-19 11:13:50,331] Trial 18 finished with value: 0.23958511228171367 and parameters: {'alpha': 0.0983013985416607, 'l1_ratio': 0.027477235160095908}. Best is trial 16 with value: 0.24006767060946557.\n",
      "[I 2024-03-19 11:13:50,477] Trial 19 finished with value: 0.15728071601995788 and parameters: {'alpha': 0.38507126877315495, 'gamma': 0.16788322623186908, 'kernel': 'laplacian'}. Best is trial 7 with value: 0.21570886968182867.\n",
      "[I 2024-03-19 11:13:50,575] Trial 19 pruned. \n"
     ]
    },
    {
     "name": "stdout",
     "output_type": "stream",
     "text": [
      "Successfully updated KRR.csv with results of trial 19\n"
     ]
    },
    {
     "name": "stderr",
     "output_type": "stream",
     "text": [
      "[I 2024-03-19 11:13:50,584] Trial 6 finished with value: 0.2556046894438449 and parameters: {'alpha': 0.9954904123149765, 'gamma': 0.13791777644994987, 'kernel': 'laplacian'}. Best is trial 6 with value: 0.2556046894438449.\n",
      "[I 2024-03-19 11:13:50,584] Trial 13 pruned. \n",
      "[I 2024-03-19 11:13:50,608] Trial 8 pruned. \n",
      "[I 2024-03-19 11:13:50,828] Trial 0 finished with value: 0.2794663359453476 and parameters: {'alpha': 0.05665774750405776, 'l1_ratio': 0.002213791460251569}. Best is trial 0 with value: 0.2794663359453476.\n"
     ]
    },
    {
     "name": "stdout",
     "output_type": "stream",
     "text": [
      "Successfully created linear.csv with results of trial 0 as the first entry\n"
     ]
    },
    {
     "name": "stderr",
     "output_type": "stream",
     "text": [
      "[I 2024-03-19 11:13:51,129] Trial 1 finished with value: 0.27929804848961587 and parameters: {'alpha': 0.056177955668807976, 'l1_ratio': 0.0011009677556714195}. Best is trial 0 with value: 0.2794663359453476.\n"
     ]
    },
    {
     "name": "stdout",
     "output_type": "stream",
     "text": [
      "Successfully updated linear.csv with results of trial 1\n"
     ]
    },
    {
     "name": "stderr",
     "output_type": "stream",
     "text": [
      "[I 2024-03-19 11:13:51,511] Trial 2 finished with value: 0.2603315973976932 and parameters: {'alpha': 0.09398815347000922, 'l1_ratio': 0.01664736595173996}. Best is trial 0 with value: 0.2794663359453476.\n",
      "[I 2024-03-19 11:13:51,690] Trial 3 finished with value: 0.3101492326038873 and parameters: {'alpha': 0.009952320385602752, 'l1_ratio': 0.04124529490333971}. Best is trial 3 with value: 0.3101492326038873.\n"
     ]
    },
    {
     "name": "stdout",
     "output_type": "stream",
     "text": [
      "Successfully updated linear.csv with results of trial 2\n",
      "Successfully updated linear.csv with results of trial 3\n"
     ]
    },
    {
     "name": "stderr",
     "output_type": "stream",
     "text": [
      "[I 2024-03-19 11:13:51,953] Trial 4 pruned. \n",
      "[I 2024-03-19 11:13:52,109] Trial 5 finished with value: 0.3168989240716123 and parameters: {'alpha': 0.006277415231957507, 'l1_ratio': 0.043342454638975826}. Best is trial 5 with value: 0.3168989240716123.\n"
     ]
    },
    {
     "name": "stdout",
     "output_type": "stream",
     "text": [
      "Successfully updated linear.csv with results of trial 5\n"
     ]
    },
    {
     "name": "stderr",
     "output_type": "stream",
     "text": [
      "[I 2024-03-19 11:13:52,484] Trial 6 finished with value: 0.3169262139292985 and parameters: {'alpha': 0.006542914353922971, 'l1_ratio': 0.036498286785154835}. Best is trial 6 with value: 0.3169262139292985.\n",
      "[I 2024-03-19 11:13:52,632] Trial 7 pruned. \n"
     ]
    },
    {
     "name": "stdout",
     "output_type": "stream",
     "text": [
      "Successfully updated linear.csv with results of trial 6\n"
     ]
    },
    {
     "name": "stderr",
     "output_type": "stream",
     "text": [
      "[I 2024-03-19 11:13:52,794] Trial 8 pruned. \n",
      "[I 2024-03-19 11:13:53,014] Trial 9 finished with value: 0.28198155116209417 and parameters: {'alpha': 0.030303953449105293, 'l1_ratio': 0.03564647997300049}. Best is trial 6 with value: 0.3169262139292985.\n",
      "[I 2024-03-19 11:13:53,164] Trial 10 pruned. \n"
     ]
    },
    {
     "name": "stdout",
     "output_type": "stream",
     "text": [
      "Successfully updated linear.csv with results of trial 9\n",
      "Successfully updated ANN.csv with results of trial 4\n"
     ]
    },
    {
     "name": "stderr",
     "output_type": "stream",
     "text": [
      "[I 2024-03-19 11:13:53,343] Trial 11 finished with value: 0.3207786321726699 and parameters: {'alpha': 0.005092597945005405, 'l1_ratio': 0.04907751870569852}. Best is trial 11 with value: 0.3207786321726699.\n",
      "[I 2024-03-19 11:13:53,513] Trial 4 finished with value: 0.0822171020098223 and parameters: {'learning_rate_init': 0.055887322800915865, 'hidden_layer_sizes': [10, 10, 10]}. Best is trial 3 with value: 0.14417067968978464.\n"
     ]
    },
    {
     "name": "stdout",
     "output_type": "stream",
     "text": [
      "Successfully updated linear.csv with results of trial 11\n",
      "Successfully updated linear.csv with results of trial 12\n",
      "Successfully updated KRR.csv with results of trial 7\n"
     ]
    },
    {
     "name": "stderr",
     "output_type": "stream",
     "text": [
      "[I 2024-03-19 11:13:53,530] Trial 12 finished with value: 0.29646336897424813 and parameters: {'alpha': 0.0199705746688717, 'l1_ratio': 0.04929765443368244}. Best is trial 11 with value: 0.3207786321726699.\n",
      "[I 2024-03-19 11:13:53,974] Trial 7 finished with value: 0.26189493919503387 and parameters: {'alpha': 0.48482525180617575, 'gamma': 0.10926740003712299, 'kernel': 'laplacian'}. Best is trial 7 with value: 0.26189493919503387.\n"
     ]
    },
    {
     "name": "stdout",
     "output_type": "stream",
     "text": [
      "Successfully updated GB.csv with results of trial 19\n"
     ]
    },
    {
     "name": "stderr",
     "output_type": "stream",
     "text": [
      "[I 2024-03-19 11:13:54,386] Trial 19 finished with value: 0.20500001197572906 and parameters: {'n_estimators': 20, 'learning_rate': 0.14871042250096356, 'max_depth': 2}. Best is trial 9 with value: 0.345871454680093.\n",
      "[I 2024-03-19 11:13:55,114] Trial 9 pruned. \n"
     ]
    },
    {
     "name": "stdout",
     "output_type": "stream",
     "text": [
      "Successfully updated linear.csv with results of trial 13\n"
     ]
    },
    {
     "name": "stderr",
     "output_type": "stream",
     "text": [
      "[I 2024-03-19 11:13:55,179] Trial 13 finished with value: 0.32278898502222136 and parameters: {'alpha': 0.005088373955627325, 'l1_ratio': 0.03849345459943011}. Best is trial 13 with value: 0.32278898502222136.\n"
     ]
    },
    {
     "name": "stdout",
     "output_type": "stream",
     "text": [
      "Successfully created KRR.csv with results of trial 0 as the first entry\n"
     ]
    },
    {
     "name": "stderr",
     "output_type": "stream",
     "text": [
      "[I 2024-03-19 11:13:56,720] Trial 0 finished with value: 0.10517511152269086 and parameters: {'alpha': 0.9038122856509254, 'gamma': 0.2701079735033723, 'kernel': 'laplacian'}. Best is trial 0 with value: 0.10517511152269086.\n",
      "[I 2024-03-19 11:13:56,896] Trial 5 pruned. \n",
      "[I 2024-03-19 11:13:57,079] Trial 14 pruned. \n"
     ]
    },
    {
     "name": "stdout",
     "output_type": "stream",
     "text": [
      "Successfully updated KRR.csv with results of trial 8\n"
     ]
    },
    {
     "name": "stderr",
     "output_type": "stream",
     "text": [
      "[I 2024-03-19 11:13:57,203] Trial 8 finished with value: 0.1492737418034646 and parameters: {'alpha': 0.38513278551524316, 'gamma': 0.10535388127794894, 'kernel': 'rbf'}. Best is trial 7 with value: 0.26189493919503387.\n",
      "[I 2024-03-19 11:13:58,003] Trial 14 pruned. \n"
     ]
    },
    {
     "name": "stdout",
     "output_type": "stream",
     "text": [
      "Successfully updated GB.csv with results of trial 2\n"
     ]
    },
    {
     "name": "stderr",
     "output_type": "stream",
     "text": [
      "[I 2024-03-19 11:13:58,184] Trial 2 finished with value: 0.24790040491165313 and parameters: {'n_estimators': 50, 'learning_rate': 0.1743402206159178, 'max_depth': 1}. Best is trial 1 with value: 0.25660195841677946.\n"
     ]
    },
    {
     "name": "stdout",
     "output_type": "stream",
     "text": [
      "Successfully updated GB.csv with results of trial 10\n"
     ]
    },
    {
     "name": "stderr",
     "output_type": "stream",
     "text": [
      "[I 2024-03-19 11:13:58,460] Trial 10 finished with value: 0.5724492532731246 and parameters: {'n_estimators': 10, 'learning_rate': 0.1371274028710232, 'max_depth': 3}. Best is trial 5 with value: 0.5801458324620374.\n",
      "[I 2024-03-19 11:13:58,714] Trial 15 pruned. \n",
      "[I 2024-03-19 11:13:59,476] Trial 1 finished with value: 0.3904981541481422 and parameters: {'n_estimators': 500, 'max_features': 'log2', 'max_depth': 5}. Best is trial 0 with value: 0.40405211679896463.\n"
     ]
    },
    {
     "name": "stdout",
     "output_type": "stream",
     "text": [
      "Successfully updated KRR.csv with results of trial 1\n",
      "Successfully updated RF.csv with results of trial 1\n"
     ]
    },
    {
     "name": "stderr",
     "output_type": "stream",
     "text": [
      "[I 2024-03-19 11:13:59,524] Trial 1 finished with value: 0.11480843128592642 and parameters: {'alpha': 0.9443278322027739, 'gamma': 0.2810062219255997, 'kernel': 'laplacian'}. Best is trial 1 with value: 0.11480843128592642.\n"
     ]
    },
    {
     "name": "stdout",
     "output_type": "stream",
     "text": [
      "Successfully updated KRR.csv with results of trial 9\n"
     ]
    },
    {
     "name": "stderr",
     "output_type": "stream",
     "text": [
      "[I 2024-03-19 11:14:00,854] Trial 9 finished with value: 0.2317554334990343 and parameters: {'alpha': 0.5272525064004976, 'gamma': 0.22060573035133757, 'kernel': 'laplacian'}. Best is trial 7 with value: 0.26189493919503387.\n",
      "[I 2024-03-19 11:14:01,033] Trial 16 pruned. \n",
      "[I 2024-03-19 11:14:01,344] Trial 11 finished with value: 0.5801458324620374 and parameters: {'n_estimators': 5, 'learning_rate': 0.170945695786206, 'max_depth': 3}. Best is trial 5 with value: 0.5801458324620374.\n"
     ]
    },
    {
     "name": "stdout",
     "output_type": "stream",
     "text": [
      "Successfully updated GB.csv with results of trial 11\n"
     ]
    },
    {
     "name": "stderr",
     "output_type": "stream",
     "text": [
      "[I 2024-03-19 11:14:01,828] Trial 6 pruned. \n",
      "[I 2024-03-19 11:14:03,535] Trial 17 pruned. \n"
     ]
    },
    {
     "name": "stdout",
     "output_type": "stream",
     "text": [
      "Successfully updated KRR.csv with results of trial 2\n"
     ]
    },
    {
     "name": "stderr",
     "output_type": "stream",
     "text": [
      "[I 2024-03-19 11:14:03,755] Trial 2 finished with value: 0.15438327324055942 and parameters: {'alpha': 0.9540026426087885, 'gamma': 0.2999873742217038, 'kernel': 'rbf'}. Best is trial 2 with value: 0.15438327324055942.\n",
      "[I 2024-03-19 11:14:04,238] Trial 12 pruned. \n",
      "[I 2024-03-19 11:14:04,612] Trial 3 finished with value: 0.2527641486937536 and parameters: {'n_estimators': 20, 'learning_rate': 0.0737358605586503, 'max_depth': 2}. Best is trial 1 with value: 0.25660195841677946.\n"
     ]
    },
    {
     "name": "stdout",
     "output_type": "stream",
     "text": [
      "Successfully updated GB.csv with results of trial 3\n",
      "Successfully updated KRR.csv with results of trial 10\n"
     ]
    },
    {
     "name": "stderr",
     "output_type": "stream",
     "text": [
      "[I 2024-03-19 11:14:04,744] Trial 10 finished with value: 0.15389229485845587 and parameters: {'alpha': 0.3087496525865771, 'gamma': 0.2994469486832518, 'kernel': 'rbf'}. Best is trial 7 with value: 0.26189493919503387.\n",
      "[I 2024-03-19 11:14:05,135] Trial 18 finished with value: 0.3048550002127607 and parameters: {'alpha': 0.018435495638188797, 'l1_ratio': 0.032504208956822336}. Best is trial 13 with value: 0.32278898502222136.\n"
     ]
    },
    {
     "name": "stdout",
     "output_type": "stream",
     "text": [
      "Successfully updated linear.csv with results of trial 18\n"
     ]
    },
    {
     "name": "stderr",
     "output_type": "stream",
     "text": [
      "[I 2024-03-19 11:14:06,903] Trial 19 pruned. \n",
      "[I 2024-03-19 11:14:07,010] Trial 3 pruned. \n"
     ]
    },
    {
     "name": "stdout",
     "output_type": "stream",
     "text": [
      "Successfully updated GB.csv with results of trial 13\n"
     ]
    },
    {
     "name": "stderr",
     "output_type": "stream",
     "text": [
      "[I 2024-03-19 11:14:07,642] Trial 13 finished with value: 0.5801458324620374 and parameters: {'n_estimators': 5, 'learning_rate': 0.15148437050522895, 'max_depth': 3}. Best is trial 5 with value: 0.5801458324620374.\n"
     ]
    },
    {
     "name": "stdout",
     "output_type": "stream",
     "text": [
      "Successfully updated KRR.csv with results of trial 11\n",
      "Successfully updated GB.csv with results of trial 4\n"
     ]
    },
    {
     "name": "stderr",
     "output_type": "stream",
     "text": [
      "[I 2024-03-19 11:14:08,050] Trial 4 finished with value: 0.21472554070062586 and parameters: {'n_estimators': 5, 'learning_rate': 0.11515595271469989, 'max_depth': 3}. Best is trial 1 with value: 0.25660195841677946.\n",
      "[I 2024-03-19 11:14:08,050] Trial 11 finished with value: 0.2518971462355536 and parameters: {'alpha': 0.7996201517488135, 'gamma': 0.138890599735416, 'kernel': 'laplacian'}. Best is trial 7 with value: 0.26189493919503387.\n",
      "[I 2024-03-19 11:14:08,325] Trial 15 pruned. \n"
     ]
    },
    {
     "name": "stdout",
     "output_type": "stream",
     "text": [
      "Successfully created GB.csv with results of trial 0 as the first entry\n"
     ]
    },
    {
     "name": "stderr",
     "output_type": "stream",
     "text": [
      "[I 2024-03-19 11:14:10,041] Trial 0 finished with value: 0.2694777272100579 and parameters: {'n_estimators': 5, 'learning_rate': 0.10914278432554796, 'max_depth': 1}. Best is trial 0 with value: 0.2694777272100579.\n",
      "[I 2024-03-19 11:14:11,091] Trial 16 finished with value: 0.263675935509659 and parameters: {'n_estimators': 5, 'learning_rate': 0.17322282453267665, 'max_depth': 2}. Best is trial 3 with value: 0.5106922053236764.\n"
     ]
    },
    {
     "name": "stdout",
     "output_type": "stream",
     "text": [
      "Successfully updated KRR.csv with results of trial 4\n",
      "Successfully updated GB.csv with results of trial 16\n"
     ]
    },
    {
     "name": "stderr",
     "output_type": "stream",
     "text": [
      "[I 2024-03-19 11:14:11,430] Trial 4 finished with value: 0.14772909627473618 and parameters: {'alpha': 0.7190253538489406, 'gamma': 0.29983796793057, 'kernel': 'rbf'}. Best is trial 2 with value: 0.15438327324055942.\n",
      "[I 2024-03-19 11:14:11,707] Trial 12 finished with value: 0.2632508601300552 and parameters: {'alpha': 0.5594964608268891, 'gamma': 0.10206387754293234, 'kernel': 'laplacian'}. Best is trial 12 with value: 0.2632508601300552.\n",
      "[I 2024-03-19 11:14:11,755] Trial 14 finished with value: 0.5801458324620374 and parameters: {'n_estimators': 5, 'learning_rate': 0.15824683590927632, 'max_depth': 3}. Best is trial 5 with value: 0.5801458324620374.\n"
     ]
    },
    {
     "name": "stdout",
     "output_type": "stream",
     "text": [
      "Successfully updated KRR.csv with results of trial 12\n",
      "Successfully updated GB.csv with results of trial 14\n",
      "Successfully updated ANN.csv with results of trial 3\n",
      "Successfully updated GB.csv with results of trial 5\n"
     ]
    },
    {
     "name": "stderr",
     "output_type": "stream",
     "text": [
      "[I 2024-03-19 11:14:12,243] Trial 3 finished with value: 0.08426397232687947 and parameters: {'learning_rate_init': 0.1488873321995428, 'hidden_layer_sizes': [10, 10, 10]}. Best is trial 2 with value: 0.1675066960084597.\n",
      "[I 2024-03-19 11:14:12,463] Trial 5 finished with value: 0.257830311010738 and parameters: {'n_estimators': 10, 'learning_rate': 0.05731147726679354, 'max_depth': 1}. Best is trial 5 with value: 0.257830311010738.\n"
     ]
    },
    {
     "name": "stdout",
     "output_type": "stream",
     "text": [
      "Successfully updated GB.csv with results of trial 1\n"
     ]
    },
    {
     "name": "stderr",
     "output_type": "stream",
     "text": [
      "[I 2024-03-19 11:14:13,328] Trial 1 finished with value: 0.2694777272100579 and parameters: {'n_estimators': 5, 'learning_rate': 0.11345075316642528, 'max_depth': 1}. Best is trial 0 with value: 0.2694777272100579.\n",
      "[I 2024-03-19 11:14:13,885] Trial 15 pruned. \n",
      "[I 2024-03-19 11:14:13,948] Trial 5 pruned. \n",
      "[I 2024-03-19 11:14:14,999] Trial 13 finished with value: 0.262588192003917 and parameters: {'alpha': 0.5642150232435426, 'gamma': 0.11265009577457646, 'kernel': 'laplacian'}. Best is trial 12 with value: 0.2632508601300552.\n"
     ]
    },
    {
     "name": "stdout",
     "output_type": "stream",
     "text": [
      "Successfully updated KRR.csv with results of trial 13\n",
      "Successfully updated GB.csv with results of trial 17\n"
     ]
    },
    {
     "name": "stderr",
     "output_type": "stream",
     "text": [
      "[I 2024-03-19 11:14:15,220] Trial 17 finished with value: 0.47017539319503815 and parameters: {'n_estimators': 20, 'learning_rate': 0.1432078273785288, 'max_depth': 2}. Best is trial 3 with value: 0.5106922053236764.\n",
      "[I 2024-03-19 11:14:15,874] Trial 6 pruned. \n"
     ]
    },
    {
     "name": "stdout",
     "output_type": "stream",
     "text": [
      "Successfully updated GB.csv with results of trial 16\n"
     ]
    },
    {
     "name": "stderr",
     "output_type": "stream",
     "text": [
      "[I 2024-03-19 11:14:16,685] Trial 16 finished with value: 0.5801458324620374 and parameters: {'n_estimators': 5, 'learning_rate': 0.13527234569370974, 'max_depth': 3}. Best is trial 5 with value: 0.5801458324620374.\n"
     ]
    },
    {
     "name": "stdout",
     "output_type": "stream",
     "text": [
      "Successfully updated GB.csv with results of trial 6\n"
     ]
    },
    {
     "name": "stderr",
     "output_type": "stream",
     "text": [
      "[I 2024-03-19 11:14:17,225] Trial 6 finished with value: 0.19897057423190254 and parameters: {'n_estimators': 10, 'learning_rate': 0.05742407631457744, 'max_depth': 3}. Best is trial 5 with value: 0.257830311010738.\n"
     ]
    },
    {
     "name": "stdout",
     "output_type": "stream",
     "text": [
      "Successfully updated KRR.csv with results of trial 14\n",
      "Successfully updated ANN.csv with results of trial 7\n"
     ]
    },
    {
     "name": "stderr",
     "output_type": "stream",
     "text": [
      "[I 2024-03-19 11:14:18,037] Trial 7 finished with value: 0.08493830423487149 and parameters: {'learning_rate_init': 0.08250848705951937, 'hidden_layer_sizes': [10, 10, 10]}. Best is trial 3 with value: 0.14417067968978464.\n",
      "[I 2024-03-19 11:14:18,431] Trial 14 finished with value: 0.2467419280440065 and parameters: {'alpha': 0.5871307366123659, 'gamma': 0.1717506938014239, 'kernel': 'laplacian'}. Best is trial 12 with value: 0.2632508601300552.\n",
      "[I 2024-03-19 11:14:18,606] Trial 18 pruned. \n",
      "[I 2024-03-19 11:14:18,639] Trial 2 finished with value: 0.35566589891582784 and parameters: {'n_estimators': 10, 'learning_rate': 0.06494916581199817, 'max_depth': 2}. Best is trial 2 with value: 0.35566589891582784.\n"
     ]
    },
    {
     "name": "stdout",
     "output_type": "stream",
     "text": [
      "Successfully updated GB.csv with results of trial 2\n"
     ]
    },
    {
     "name": "stderr",
     "output_type": "stream",
     "text": [
      "[I 2024-03-19 11:14:19,630] Trial 7 pruned. \n",
      "[I 2024-03-19 11:14:19,831] Trial 17 finished with value: 0.5724492532731246 and parameters: {'n_estimators': 10, 'learning_rate': 0.16098658258103915, 'max_depth': 3}. Best is trial 5 with value: 0.5801458324620374.\n"
     ]
    },
    {
     "name": "stdout",
     "output_type": "stream",
     "text": [
      "Successfully updated GB.csv with results of trial 17\n"
     ]
    },
    {
     "name": "stderr",
     "output_type": "stream",
     "text": [
      "[I 2024-03-19 11:14:20,636] Trial 7 pruned. \n",
      "[I 2024-03-19 11:14:21,161] Trial 15 finished with value: 0.2603385186731298 and parameters: {'alpha': 0.574351335580893, 'gamma': 0.12748951170550277, 'kernel': 'laplacian'}. Best is trial 12 with value: 0.2632508601300552.\n"
     ]
    },
    {
     "name": "stdout",
     "output_type": "stream",
     "text": [
      "Successfully updated KRR.csv with results of trial 15\n"
     ]
    },
    {
     "name": "stderr",
     "output_type": "stream",
     "text": [
      "[I 2024-03-19 11:14:22,312] Trial 3 pruned. \n",
      "[I 2024-03-19 11:14:22,420] Trial 8 finished with value: 0.09050226470673338 and parameters: {'alpha': 0.8188764317373535, 'gamma': 0.23865895087302835, 'kernel': 'laplacian'}. Best is trial 2 with value: 0.15438327324055942.\n"
     ]
    },
    {
     "name": "stdout",
     "output_type": "stream",
     "text": [
      "Successfully created RF.csv with results of trial 0 as the first entry\n",
      "Successfully updated KRR.csv with results of trial 8\n"
     ]
    },
    {
     "name": "stderr",
     "output_type": "stream",
     "text": [
      "[I 2024-03-19 11:14:22,605] Trial 0 finished with value: 0.3006151475500029 and parameters: {'n_estimators': 500, 'max_features': 'log2', 'max_depth': 10}. Best is trial 0 with value: 0.3006151475500029.\n",
      "[I 2024-03-19 11:14:22,798] Trial 16 pruned. \n",
      "[I 2024-03-19 11:14:23,098] Trial 18 pruned. \n"
     ]
    },
    {
     "name": "stdout",
     "output_type": "stream",
     "text": [
      "Successfully updated GB.csv with results of trial 8\n"
     ]
    },
    {
     "name": "stderr",
     "output_type": "stream",
     "text": [
      "[I 2024-03-19 11:14:24,559] Trial 8 finished with value: 0.257830311010738 and parameters: {'n_estimators': 10, 'learning_rate': 0.08686804337961389, 'max_depth': 1}. Best is trial 5 with value: 0.257830311010738.\n"
     ]
    },
    {
     "name": "stdout",
     "output_type": "stream",
     "text": [
      "Successfully updated KRR.csv with results of trial 17\n"
     ]
    },
    {
     "name": "stderr",
     "output_type": "stream",
     "text": [
      "[I 2024-03-19 11:14:25,566] Trial 17 finished with value: 0.24770024810334487 and parameters: {'alpha': 0.4661893367706702, 'gamma': 0.17150906283894451, 'kernel': 'laplacian'}. Best is trial 12 with value: 0.2632508601300552.\n",
      "[I 2024-03-19 11:14:25,873] Trial 19 finished with value: 0.19558229111606715 and parameters: {'n_estimators': 5, 'learning_rate': 0.12307339427319844, 'max_depth': 1}. Best is trial 5 with value: 0.5801458324620374.\n"
     ]
    },
    {
     "name": "stdout",
     "output_type": "stream",
     "text": [
      "Successfully updated GB.csv with results of trial 19\n",
      "Successfully updated KRR.csv with results of trial 9\n"
     ]
    },
    {
     "name": "stderr",
     "output_type": "stream",
     "text": [
      "[I 2024-03-19 11:14:26,271] Trial 9 finished with value: 0.12608823912956393 and parameters: {'alpha': 0.5961529094503333, 'gamma': 0.25135404818806306, 'kernel': 'rbf'}. Best is trial 2 with value: 0.15438327324055942.\n"
     ]
    },
    {
     "name": "stdout",
     "output_type": "stream",
     "text": [
      "Successfully updated GB.csv with results of trial 19\n"
     ]
    },
    {
     "name": "stderr",
     "output_type": "stream",
     "text": [
      "[I 2024-03-19 11:14:26,695] Trial 19 finished with value: 0.3277163256450845 and parameters: {'n_estimators': 50, 'learning_rate': 0.12936848998815859, 'max_depth': 1}. Best is trial 3 with value: 0.5106922053236764.\n"
     ]
    },
    {
     "name": "stdout",
     "output_type": "stream",
     "text": [
      "Successfully updated GB.csv with results of trial 4\n"
     ]
    },
    {
     "name": "stderr",
     "output_type": "stream",
     "text": [
      "[I 2024-03-19 11:14:27,775] Trial 4 finished with value: 0.31172410189744193 and parameters: {'n_estimators': 10, 'learning_rate': 0.1742907582211849, 'max_depth': 2}. Best is trial 2 with value: 0.35566589891582784.\n"
     ]
    },
    {
     "name": "stdout",
     "output_type": "stream",
     "text": [
      "Successfully updated GB.csv with results of trial 9\n"
     ]
    },
    {
     "name": "stderr",
     "output_type": "stream",
     "text": [
      "[I 2024-03-19 11:14:28,283] Trial 9 finished with value: 0.257830311010738 and parameters: {'n_estimators': 5, 'learning_rate': 0.09154861745817736, 'max_depth': 1}. Best is trial 5 with value: 0.257830311010738.\n",
      "[I 2024-03-19 11:14:28,839] Trial 18 pruned. \n"
     ]
    },
    {
     "name": "stdout",
     "output_type": "stream",
     "text": [
      "Successfully updated KRR.csv with results of trial 10\n"
     ]
    },
    {
     "name": "stderr",
     "output_type": "stream",
     "text": [
      "[I 2024-03-19 11:14:29,289] Trial 10 finished with value: 0.051878019461503715 and parameters: {'alpha': 0.8069711856896479, 'gamma': 0.18951940460802907, 'kernel': 'laplacian'}. Best is trial 2 with value: 0.15438327324055942.\n",
      "[I 2024-03-19 11:14:30,718] Trial 8 pruned. \n",
      "[I 2024-03-19 11:14:31,784] Trial 19 finished with value: 0.25476191151932037 and parameters: {'alpha': 0.5123619706492417, 'gamma': 0.12418606626624931, 'kernel': 'laplacian'}. Best is trial 12 with value: 0.2632508601300552.\n"
     ]
    },
    {
     "name": "stdout",
     "output_type": "stream",
     "text": [
      "Successfully updated KRR.csv with results of trial 19\n",
      "Successfully updated KRR.csv with results of trial 11\n"
     ]
    },
    {
     "name": "stderr",
     "output_type": "stream",
     "text": [
      "[I 2024-03-19 11:14:32,521] Trial 11 finished with value: 0.1436992939564044 and parameters: {'alpha': 0.6930177248821598, 'gamma': 0.2855126299941105, 'kernel': 'rbf'}. Best is trial 2 with value: 0.15438327324055942.\n",
      "[I 2024-03-19 11:14:32,902] Trial 10 pruned. \n",
      "[I 2024-03-19 11:14:35,111] Trial 9 pruned. \n",
      "[I 2024-03-19 11:14:35,619] Trial 11 finished with value: 0.257830311010738 and parameters: {'n_estimators': 10, 'learning_rate': 0.08455003894948217, 'max_depth': 1}. Best is trial 5 with value: 0.257830311010738.\n"
     ]
    },
    {
     "name": "stdout",
     "output_type": "stream",
     "text": [
      "Successfully updated GB.csv with results of trial 11\n",
      "Successfully updated KRR.csv with results of trial 12\n"
     ]
    },
    {
     "name": "stderr",
     "output_type": "stream",
     "text": [
      "[I 2024-03-19 11:14:35,837] Trial 12 finished with value: 0.1521636981487469 and parameters: {'alpha': 0.7907357458636273, 'gamma': 0.2970336209693689, 'kernel': 'rbf'}. Best is trial 2 with value: 0.15438327324055942.\n"
     ]
    },
    {
     "name": "stdout",
     "output_type": "stream",
     "text": [
      "Successfully updated KRR.csv with results of trial 13\n"
     ]
    },
    {
     "name": "stderr",
     "output_type": "stream",
     "text": [
      "[I 2024-03-19 11:14:39,105] Trial 13 finished with value: 0.15389660411182182 and parameters: {'alpha': 0.8370858318242912, 'gamma': 0.2983581147104614, 'kernel': 'rbf'}. Best is trial 2 with value: 0.15438327324055942.\n"
     ]
    },
    {
     "name": "stdout",
     "output_type": "stream",
     "text": [
      "Successfully updated ANN.csv with results of trial 4\n",
      "Successfully updated GB.csv with results of trial 12\n"
     ]
    },
    {
     "name": "stderr",
     "output_type": "stream",
     "text": [
      "[I 2024-03-19 11:14:39,435] Trial 4 finished with value: 0.12656466894027657 and parameters: {'learning_rate_init': 0.14756623938264973, 'hidden_layer_sizes': [5, 5, 5, 5, 5]}. Best is trial 2 with value: 0.1675066960084597.\n",
      "[I 2024-03-19 11:14:39,522] Trial 12 finished with value: 0.257830311010738 and parameters: {'n_estimators': 10, 'learning_rate': 0.05111352126342575, 'max_depth': 1}. Best is trial 5 with value: 0.257830311010738.\n",
      "[I 2024-03-19 11:14:40,827] Trial 10 pruned. \n",
      "[I 2024-03-19 11:14:41,988] Trial 5 finished with value: 0.24659535186034023 and parameters: {'n_estimators': 50, 'learning_rate': 0.050620664595064514, 'max_depth': 3}. Best is trial 2 with value: 0.35566589891582784.\n"
     ]
    },
    {
     "name": "stdout",
     "output_type": "stream",
     "text": [
      "Successfully updated GB.csv with results of trial 5\n",
      "Successfully updated KRR.csv with results of trial 14\n"
     ]
    },
    {
     "name": "stderr",
     "output_type": "stream",
     "text": [
      "[I 2024-03-19 11:14:42,036] Trial 14 finished with value: 0.15261398080056948 and parameters: {'alpha': 0.9981762079275232, 'gamma': 0.25532399589524946, 'kernel': 'rbf'}. Best is trial 2 with value: 0.15438327324055942.\n"
     ]
    },
    {
     "name": "stdout",
     "output_type": "stream",
     "text": [
      "Successfully updated GB.csv with results of trial 13\n"
     ]
    },
    {
     "name": "stderr",
     "output_type": "stream",
     "text": [
      "[I 2024-03-19 11:14:44,068] Trial 13 finished with value: 0.257830311010738 and parameters: {'n_estimators': 10, 'learning_rate': 0.08490606709266421, 'max_depth': 1}. Best is trial 5 with value: 0.257830311010738.\n",
      "[I 2024-03-19 11:14:44,949] Trial 15 finished with value: 0.15093565455286698 and parameters: {'alpha': 0.8777967838429878, 'gamma': 0.26685451524381476, 'kernel': 'rbf'}. Best is trial 2 with value: 0.15438327324055942.\n"
     ]
    },
    {
     "name": "stdout",
     "output_type": "stream",
     "text": [
      "Successfully updated KRR.csv with results of trial 15\n"
     ]
    },
    {
     "name": "stderr",
     "output_type": "stream",
     "text": [
      "[I 2024-03-19 11:14:46,496] Trial 14 finished with value: 0.257830311010738 and parameters: {'n_estimators': 10, 'learning_rate': 0.09649051179217621, 'max_depth': 1}. Best is trial 5 with value: 0.257830311010738.\n"
     ]
    },
    {
     "name": "stdout",
     "output_type": "stream",
     "text": [
      "Successfully updated GB.csv with results of trial 14\n",
      "Successfully updated KRR.csv with results of trial 16\n",
      "Successfully updated GB.csv with results of trial 6\n"
     ]
    },
    {
     "name": "stderr",
     "output_type": "stream",
     "text": [
      "[I 2024-03-19 11:14:48,617] Trial 16 finished with value: 0.15527019361536157 and parameters: {'alpha': 0.8730851981345154, 'gamma': 0.29856786975485916, 'kernel': 'rbf'}. Best is trial 16 with value: 0.15527019361536157.\n",
      "[I 2024-03-19 11:14:48,757] Trial 6 finished with value: 0.2932544034422307 and parameters: {'n_estimators': 20, 'learning_rate': 0.08360184773101043, 'max_depth': 2}. Best is trial 2 with value: 0.35566589891582784.\n",
      "[I 2024-03-19 11:14:50,404] Trial 15 pruned. \n"
     ]
    },
    {
     "name": "stdout",
     "output_type": "stream",
     "text": [
      "Successfully updated KRR.csv with results of trial 17\n"
     ]
    },
    {
     "name": "stderr",
     "output_type": "stream",
     "text": [
      "[I 2024-03-19 11:14:51,539] Trial 17 finished with value: 0.14909358915904716 and parameters: {'alpha': 0.9312865858719686, 'gamma': 0.23525785381330905, 'kernel': 'rbf'}. Best is trial 16 with value: 0.15527019361536157.\n",
      "[I 2024-03-19 11:14:52,603] Trial 7 pruned. \n"
     ]
    },
    {
     "name": "stdout",
     "output_type": "stream",
     "text": [
      "Successfully updated GB.csv with results of trial 16\n"
     ]
    },
    {
     "name": "stderr",
     "output_type": "stream",
     "text": [
      "[I 2024-03-19 11:14:53,080] Trial 16 finished with value: 0.257830311010738 and parameters: {'n_estimators': 10, 'learning_rate': 0.07179706101076555, 'max_depth': 1}. Best is trial 5 with value: 0.257830311010738.\n",
      "[I 2024-03-19 11:14:54,002] Trial 18 pruned. \n",
      "[I 2024-03-19 11:14:57,225] Trial 8 pruned. \n"
     ]
    },
    {
     "name": "stdout",
     "output_type": "stream",
     "text": [
      "Successfully updated ANN.csv with results of trial 11\n"
     ]
    },
    {
     "name": "stderr",
     "output_type": "stream",
     "text": [
      "[I 2024-03-19 11:14:57,753] Trial 11 finished with value: 0.1109378051229384 and parameters: {'learning_rate_init': 0.12042540216039509, 'hidden_layer_sizes': [5, 5, 5, 5, 5]}. Best is trial 3 with value: 0.14417067968978464.\n"
     ]
    },
    {
     "name": "stdout",
     "output_type": "stream",
     "text": [
      "Successfully updated GB.csv with results of trial 17\n",
      "Successfully updated KRR.csv with results of trial 19\n"
     ]
    },
    {
     "name": "stderr",
     "output_type": "stream",
     "text": [
      "[I 2024-03-19 11:14:58,102] Trial 17 finished with value: 0.23120081081856267 and parameters: {'n_estimators': 20, 'learning_rate': 0.09912823024907684, 'max_depth': 1}. Best is trial 5 with value: 0.257830311010738.\n",
      "[I 2024-03-19 11:14:58,133] Trial 2 finished with value: 0.3356611755003933 and parameters: {'n_estimators': 1000, 'max_features': 'sqrt', 'max_depth': 5}. Best is trial 2 with value: 0.3356611755003933.\n"
     ]
    },
    {
     "name": "stdout",
     "output_type": "stream",
     "text": [
      "Successfully updated RF.csv with results of trial 2\n"
     ]
    },
    {
     "name": "stderr",
     "output_type": "stream",
     "text": [
      "[I 2024-03-19 11:14:58,239] Trial 19 finished with value: 0.15069004583369103 and parameters: {'alpha': 0.8940795391233178, 'gamma': 0.25795017928738434, 'kernel': 'rbf'}. Best is trial 16 with value: 0.15527019361536157.\n",
      "[I 2024-03-19 11:15:01,094] Trial 18 pruned. \n",
      "[I 2024-03-19 11:15:04,128] Trial 2 pruned. \n",
      "[I 2024-03-19 11:15:04,615] Trial 19 finished with value: 0.2154230079176395 and parameters: {'n_estimators': 10, 'learning_rate': 0.07136990888745279, 'max_depth': 3}. Best is trial 5 with value: 0.257830311010738.\n"
     ]
    },
    {
     "name": "stdout",
     "output_type": "stream",
     "text": [
      "Successfully updated GB.csv with results of trial 19\n"
     ]
    },
    {
     "name": "stderr",
     "output_type": "stream",
     "text": [
      "[I 2024-03-19 11:15:05,961] Trial 9 pruned. \n",
      "[I 2024-03-19 11:15:06,304] Trial 5 pruned. \n"
     ]
    },
    {
     "name": "stdout",
     "output_type": "stream",
     "text": [
      "Successfully updated ANN.csv with results of trial 12\n"
     ]
    },
    {
     "name": "stderr",
     "output_type": "stream",
     "text": [
      "[I 2024-03-19 11:15:08,028] Trial 12 finished with value: 0.16180965808687364 and parameters: {'learning_rate_init': 0.10740881385847476, 'hidden_layer_sizes': [5, 5, 5, 5, 5]}. Best is trial 12 with value: 0.16180965808687364.\n",
      "[I 2024-03-19 11:15:08,186] Trial 10 pruned. \n"
     ]
    },
    {
     "name": "stdout",
     "output_type": "stream",
     "text": [
      "Successfully updated GB.csv with results of trial 11\n"
     ]
    },
    {
     "name": "stderr",
     "output_type": "stream",
     "text": [
      "[I 2024-03-19 11:15:10,752] Trial 11 finished with value: 0.13261814872912597 and parameters: {'n_estimators': 10, 'learning_rate': 0.16805449536894054, 'max_depth': 2}. Best is trial 2 with value: 0.35566589891582784.\n",
      "[I 2024-03-19 11:15:13,074] Trial 0 finished with value: 0.20829278282405136 and parameters: {'learning_rate_init': 0.06570850987813401, 'hidden_layer_sizes': [5, 5, 5, 5, 5]}. Best is trial 0 with value: 0.20829278282405136.\n"
     ]
    },
    {
     "name": "stdout",
     "output_type": "stream",
     "text": [
      "Successfully created ANN.csv with results of trial 0 as the first entry\n"
     ]
    },
    {
     "name": "stderr",
     "output_type": "stream",
     "text": [
      "[I 2024-03-19 11:15:14,156] Trial 0 finished with value: 0.3237553444690433 and parameters: {'n_estimators': 1000, 'max_features': 'sqrt', 'max_depth': 5}. Best is trial 0 with value: 0.3237553444690433.\n"
     ]
    },
    {
     "name": "stdout",
     "output_type": "stream",
     "text": [
      "Successfully created RF.csv with results of trial 0 as the first entry\n"
     ]
    },
    {
     "name": "stderr",
     "output_type": "stream",
     "text": [
      "[I 2024-03-19 11:15:14,465] Trial 12 pruned. \n"
     ]
    },
    {
     "name": "stdout",
     "output_type": "stream",
     "text": [
      "Successfully updated ANN.csv with results of trial 13\n"
     ]
    },
    {
     "name": "stderr",
     "output_type": "stream",
     "text": [
      "[I 2024-03-19 11:15:18,416] Trial 13 finished with value: 0.10400957321251009 and parameters: {'learning_rate_init': 0.07095986476819252, 'hidden_layer_sizes': [5, 5, 5, 5, 5]}. Best is trial 12 with value: 0.16180965808687364.\n"
     ]
    },
    {
     "name": "stdout",
     "output_type": "stream",
     "text": [
      "Successfully updated GB.csv with results of trial 13\n"
     ]
    },
    {
     "name": "stderr",
     "output_type": "stream",
     "text": [
      "[I 2024-03-19 11:15:18,884] Trial 13 finished with value: 0.3292643668206157 and parameters: {'n_estimators': 10, 'learning_rate': 0.14546473497129075, 'max_depth': 2}. Best is trial 2 with value: 0.35566589891582784.\n",
      "[I 2024-03-19 11:15:21,967] Trial 14 pruned. \n",
      "[I 2024-03-19 11:15:24,958] Trial 15 pruned. \n",
      "[I 2024-03-19 11:15:26,499] Trial 14 pruned. \n"
     ]
    },
    {
     "name": "stdout",
     "output_type": "stream",
     "text": [
      "Successfully updated GB.csv with results of trial 16\n"
     ]
    },
    {
     "name": "stderr",
     "output_type": "stream",
     "text": [
      "[I 2024-03-19 11:15:27,346] Trial 16 finished with value: 0.25668379425989296 and parameters: {'n_estimators': 5, 'learning_rate': 0.13516926267760404, 'max_depth': 2}. Best is trial 2 with value: 0.35566589891582784.\n"
     ]
    },
    {
     "name": "stdout",
     "output_type": "stream",
     "text": [
      "Successfully created ANN.csv with results of trial 0 as the first entry\n"
     ]
    },
    {
     "name": "stderr",
     "output_type": "stream",
     "text": [
      "[I 2024-03-19 11:15:29,306] Trial 0 finished with value: 0.16940766713241603 and parameters: {'learning_rate_init': 0.08604923022666618, 'hidden_layer_sizes': [5, 5, 5, 5, 5]}. Best is trial 0 with value: 0.16940766713241603.\n"
     ]
    },
    {
     "name": "stdout",
     "output_type": "stream",
     "text": [
      "Successfully updated GB.csv with results of trial 17\n"
     ]
    },
    {
     "name": "stderr",
     "output_type": "stream",
     "text": [
      "[I 2024-03-19 11:15:32,927] Trial 17 finished with value: 0.31014834062967905 and parameters: {'n_estimators': 20, 'learning_rate': 0.06539696840157447, 'max_depth': 2}. Best is trial 2 with value: 0.35566589891582784.\n",
      "[I 2024-03-19 11:15:34,467] Trial 15 finished with value: 0.1319967819499757 and parameters: {'learning_rate_init': 0.06743840547582669, 'hidden_layer_sizes': [5, 5, 5, 5, 5]}. Best is trial 12 with value: 0.16180965808687364.\n"
     ]
    },
    {
     "name": "stdout",
     "output_type": "stream",
     "text": [
      "Successfully updated ANN.csv with results of trial 15\n",
      "Successfully created ANN.csv with results of trial 0 as the first entry\n"
     ]
    },
    {
     "name": "stderr",
     "output_type": "stream",
     "text": [
      "[I 2024-03-19 11:15:35,070] Trial 0 finished with value: 0.30397598266600573 and parameters: {'learning_rate_init': 0.1011391321600472, 'hidden_layer_sizes': [10, 10, 10]}. Best is trial 0 with value: 0.30397598266600573.\n",
      "[I 2024-03-19 11:15:36,541] Trial 6 pruned. \n",
      "[I 2024-03-19 11:15:39,236] Trial 18 pruned. \n"
     ]
    },
    {
     "name": "stdout",
     "output_type": "stream",
     "text": [
      "Successfully updated GB.csv with results of trial 19\n"
     ]
    },
    {
     "name": "stderr",
     "output_type": "stream",
     "text": [
      "[I 2024-03-19 11:15:42,849] Trial 19 finished with value: 0.2865038563562649 and parameters: {'n_estimators': 10, 'learning_rate': 0.09695470471374705, 'max_depth': 3}. Best is trial 2 with value: 0.35566589891582784.\n"
     ]
    },
    {
     "name": "stdout",
     "output_type": "stream",
     "text": [
      "Successfully updated ANN.csv with results of trial 16\n"
     ]
    },
    {
     "name": "stderr",
     "output_type": "stream",
     "text": [
      "[I 2024-03-19 11:15:46,368] Trial 16 finished with value: 0.07010243962090106 and parameters: {'learning_rate_init': 0.06614081189452603, 'hidden_layer_sizes': [5, 5, 5, 5, 5]}. Best is trial 12 with value: 0.16180965808687364.\n"
     ]
    },
    {
     "name": "stdout",
     "output_type": "stream",
     "text": [
      "Successfully updated ANN.csv with results of trial 17\n"
     ]
    },
    {
     "name": "stderr",
     "output_type": "stream",
     "text": [
      "[I 2024-03-19 11:15:51,206] Trial 17 finished with value: 0.08316589233515563 and parameters: {'learning_rate_init': 0.09001047346194663, 'hidden_layer_sizes': [5, 5, 5, 5, 5]}. Best is trial 12 with value: 0.16180965808687364.\n",
      "[I 2024-03-19 11:16:07,116] Trial 7 pruned. \n",
      "[I 2024-03-19 11:16:10,153] Trial 18 finished with value: 0.08969065658667623 and parameters: {'learning_rate_init': 0.10621627285740226, 'hidden_layer_sizes': [10, 10, 10]}. Best is trial 12 with value: 0.16180965808687364.\n"
     ]
    },
    {
     "name": "stdout",
     "output_type": "stream",
     "text": [
      "Successfully updated ANN.csv with results of trial 18\n"
     ]
    },
    {
     "name": "stderr",
     "output_type": "stream",
     "text": [
      "[I 2024-03-19 11:16:12,222] Trial 19 pruned. \n"
     ]
    },
    {
     "name": "stdout",
     "output_type": "stream",
     "text": [
      "Successfully updated RF.csv with results of trial 3\n"
     ]
    },
    {
     "name": "stderr",
     "output_type": "stream",
     "text": [
      "[I 2024-03-19 11:16:20,069] Trial 3 finished with value: 0.2521582118690783 and parameters: {'n_estimators': 1000, 'max_features': 'log2', 'max_depth': 5}. Best is trial 2 with value: 0.3356611755003933.\n"
     ]
    },
    {
     "name": "stdout",
     "output_type": "stream",
     "text": [
      "Successfully updated RF.csv with results of trial 1\n"
     ]
    },
    {
     "name": "stderr",
     "output_type": "stream",
     "text": [
      "[I 2024-03-19 11:16:25,681] Trial 1 finished with value: 0.2675825574195468 and parameters: {'n_estimators': 500, 'max_features': 'log2', 'max_depth': 10}. Best is trial 0 with value: 0.3006151475500029.\n",
      "[I 2024-03-19 11:16:30,032] Trial 8 finished with value: 0.27679332654866623 and parameters: {'learning_rate_init': 0.12969539596662266, 'hidden_layer_sizes': [5, 5, 5]}. Best is trial 8 with value: 0.27679332654866623.\n"
     ]
    },
    {
     "name": "stdout",
     "output_type": "stream",
     "text": [
      "Successfully updated ANN.csv with results of trial 8\n"
     ]
    },
    {
     "name": "stderr",
     "output_type": "stream",
     "text": [
      "[I 2024-03-19 11:16:34,119] Trial 0 finished with value: 0.20467999705946718 and parameters: {'learning_rate_init': 0.05648726906656717, 'hidden_layer_sizes': [10, 10, 10]}. Best is trial 0 with value: 0.20467999705946718.\n"
     ]
    },
    {
     "name": "stdout",
     "output_type": "stream",
     "text": [
      "Successfully created ANN.csv with results of trial 0 as the first entry\n"
     ]
    },
    {
     "name": "stderr",
     "output_type": "stream",
     "text": [
      "[I 2024-03-19 11:16:38,806] Trial 9 finished with value: 0.21475824295364762 and parameters: {'learning_rate_init': 0.12631759374237228, 'hidden_layer_sizes': [5, 5, 5]}. Best is trial 8 with value: 0.27679332654866623.\n"
     ]
    },
    {
     "name": "stdout",
     "output_type": "stream",
     "text": [
      "Successfully updated ANN.csv with results of trial 9\n",
      "Successfully updated ANN.csv with results of trial 1\n"
     ]
    },
    {
     "name": "stderr",
     "output_type": "stream",
     "text": [
      "[I 2024-03-19 11:16:54,119] Trial 1 finished with value: 0.23501173780458307 and parameters: {'learning_rate_init': 0.08450651438146002, 'hidden_layer_sizes': [5, 5, 5, 5, 5]}. Best is trial 1 with value: 0.23501173780458307.\n",
      "[I 2024-03-19 11:17:02,564] Trial 10 pruned. \n",
      "[I 2024-03-19 11:17:03,515] Trial 3 finished with value: 0.4071768055040368 and parameters: {'n_estimators': 500, 'max_features': 'log2', 'max_depth': 20}. Best is trial 3 with value: 0.4071768055040368.\n"
     ]
    },
    {
     "name": "stdout",
     "output_type": "stream",
     "text": [
      "Successfully updated RF.csv with results of trial 3\n"
     ]
    },
    {
     "name": "stderr",
     "output_type": "stream",
     "text": [
      "[I 2024-03-19 11:17:03,850] Trial 0 finished with value: 0.2959158514013636 and parameters: {'n_estimators': 750, 'max_features': 'log2', 'max_depth': 10}. Best is trial 0 with value: 0.2959158514013636.\n"
     ]
    },
    {
     "name": "stdout",
     "output_type": "stream",
     "text": [
      "Successfully created RF.csv with results of trial 0 as the first entry\n"
     ]
    },
    {
     "name": "stderr",
     "output_type": "stream",
     "text": [
      "[I 2024-03-19 11:17:10,826] Trial 1 finished with value: 0.14749687117963406 and parameters: {'learning_rate_init': 0.05734913390502986, 'hidden_layer_sizes': [5, 5, 5, 5, 5]}. Best is trial 0 with value: 0.20829278282405136.\n"
     ]
    },
    {
     "name": "stdout",
     "output_type": "stream",
     "text": [
      "Successfully updated ANN.csv with results of trial 1\n"
     ]
    },
    {
     "name": "stderr",
     "output_type": "stream",
     "text": [
      "[I 2024-03-19 11:17:11,129] Trial 1 finished with value: 0.3221150032610615 and parameters: {'n_estimators': 1000, 'max_features': 'sqrt', 'max_depth': 5}. Best is trial 0 with value: 0.3237553444690433.\n"
     ]
    },
    {
     "name": "stdout",
     "output_type": "stream",
     "text": [
      "Successfully updated RF.csv with results of trial 1\n",
      "Successfully updated ANN.csv with results of trial 11\n"
     ]
    },
    {
     "name": "stderr",
     "output_type": "stream",
     "text": [
      "[I 2024-03-19 11:17:25,745] Trial 11 finished with value: 0.1740982219852757 and parameters: {'learning_rate_init': 0.12679227427512704, 'hidden_layer_sizes': [5, 5, 5]}. Best is trial 8 with value: 0.27679332654866623.\n",
      "[I 2024-03-19 11:17:36,750] Trial 1 finished with value: 0.215906741290937 and parameters: {'learning_rate_init': 0.10439785274495175, 'hidden_layer_sizes': [10, 10, 10]}. Best is trial 0 with value: 0.30397598266600573.\n"
     ]
    },
    {
     "name": "stdout",
     "output_type": "stream",
     "text": [
      "Successfully updated ANN.csv with results of trial 1\n",
      "Successfully updated RF.csv with results of trial 2\n"
     ]
    },
    {
     "name": "stderr",
     "output_type": "stream",
     "text": [
      "[I 2024-03-19 11:17:37,932] Trial 2 finished with value: 0.26298805841165507 and parameters: {'n_estimators': 750, 'max_features': 'sqrt', 'max_depth': 5}. Best is trial 0 with value: 0.3006151475500029.\n"
     ]
    },
    {
     "name": "stdout",
     "output_type": "stream",
     "text": [
      "Successfully updated ANN.csv with results of trial 2\n"
     ]
    },
    {
     "name": "stderr",
     "output_type": "stream",
     "text": [
      "[I 2024-03-19 11:17:41,698] Trial 2 finished with value: 0.21083028729809383 and parameters: {'learning_rate_init': 0.05080742683829922, 'hidden_layer_sizes': [5, 5, 5]}. Best is trial 1 with value: 0.23501173780458307.\n",
      "[I 2024-03-19 11:17:53,660] Trial 12 pruned. \n",
      "[I 2024-03-19 11:18:04,025] Trial 2 pruned. \n",
      "[I 2024-03-19 11:18:06,280] Trial 13 pruned. \n"
     ]
    },
    {
     "name": "stdout",
     "output_type": "stream",
     "text": [
      "Successfully created RF.csv with results of trial 0 as the first entry\n"
     ]
    },
    {
     "name": "stderr",
     "output_type": "stream",
     "text": [
      "[I 2024-03-19 11:18:12,799] Trial 0 finished with value: 0.3485081597882787 and parameters: {'n_estimators': 750, 'max_features': 'log2', 'max_depth': 20}. Best is trial 0 with value: 0.3485081597882787.\n",
      "[I 2024-03-19 11:18:17,446] Trial 1 finished with value: 0.21726197299779568 and parameters: {'learning_rate_init': 0.05171625392623573, 'hidden_layer_sizes': [10, 10, 10]}. Best is trial 1 with value: 0.21726197299779568.\n"
     ]
    },
    {
     "name": "stdout",
     "output_type": "stream",
     "text": [
      "Successfully updated ANN.csv with results of trial 1\n"
     ]
    },
    {
     "name": "stderr",
     "output_type": "stream",
     "text": [
      "[I 2024-03-19 11:18:25,637] Trial 14 pruned. \n",
      "[I 2024-03-19 11:18:34,329] Trial 3 finished with value: 0.16898469236279046 and parameters: {'learning_rate_init': 0.14754754172539883, 'hidden_layer_sizes': [5, 5, 5, 5, 5]}. Best is trial 1 with value: 0.23501173780458307.\n"
     ]
    },
    {
     "name": "stdout",
     "output_type": "stream",
     "text": [
      "Successfully updated ANN.csv with results of trial 3\n",
      "Successfully updated ANN.csv with results of trial 2\n"
     ]
    },
    {
     "name": "stderr",
     "output_type": "stream",
     "text": [
      "[I 2024-03-19 11:18:53,326] Trial 2 finished with value: 0.15380984764805347 and parameters: {'learning_rate_init': 0.0510735169694549, 'hidden_layer_sizes': [5, 5, 5, 5, 5]}. Best is trial 1 with value: 0.21726197299779568.\n"
     ]
    },
    {
     "name": "stdout",
     "output_type": "stream",
     "text": [
      "Successfully updated ANN.csv with results of trial 15\n"
     ]
    },
    {
     "name": "stderr",
     "output_type": "stream",
     "text": [
      "[I 2024-03-19 11:19:05,796] Trial 15 finished with value: 0.13920986052083684 and parameters: {'learning_rate_init': 0.1167291601674508, 'hidden_layer_sizes': [10, 10, 10]}. Best is trial 8 with value: 0.27679332654866623.\n"
     ]
    },
    {
     "name": "stdout",
     "output_type": "stream",
     "text": [
      "Successfully updated RF.csv with results of trial 4\n"
     ]
    },
    {
     "name": "stderr",
     "output_type": "stream",
     "text": [
      "[I 2024-03-19 11:19:07,482] Trial 4 finished with value: 0.35035892191170576 and parameters: {'n_estimators': 1000, 'max_features': 'sqrt', 'max_depth': 10}. Best is trial 4 with value: 0.35035892191170576.\n",
      "[I 2024-03-19 11:19:21,652] Trial 16 finished with value: 0.09236231854086081 and parameters: {'learning_rate_init': 0.13779758684699994, 'hidden_layer_sizes': [5, 5, 5]}. Best is trial 8 with value: 0.27679332654866623.\n"
     ]
    },
    {
     "name": "stdout",
     "output_type": "stream",
     "text": [
      "Successfully updated ANN.csv with results of trial 16\n"
     ]
    },
    {
     "name": "stderr",
     "output_type": "stream",
     "text": [
      "[I 2024-03-19 11:19:33,197] Trial 17 pruned. \n"
     ]
    },
    {
     "name": "stdout",
     "output_type": "stream",
     "text": [
      "Successfully updated ANN.csv with results of trial 2\n"
     ]
    },
    {
     "name": "stderr",
     "output_type": "stream",
     "text": [
      "[I 2024-03-19 11:19:36,526] Trial 2 finished with value: 0.09888174693094026 and parameters: {'learning_rate_init': 0.0910435431764861, 'hidden_layer_sizes': [10, 10, 10]}. Best is trial 0 with value: 0.20829278282405136.\n"
     ]
    },
    {
     "name": "stdout",
     "output_type": "stream",
     "text": [
      "Successfully updated RF.csv with results of trial 1\n"
     ]
    },
    {
     "name": "stderr",
     "output_type": "stream",
     "text": [
      "[I 2024-03-19 11:20:01,524] Trial 1 finished with value: 0.2954638509622309 and parameters: {'n_estimators': 750, 'max_features': 'log2', 'max_depth': 10}. Best is trial 0 with value: 0.2959158514013636.\n"
     ]
    },
    {
     "name": "stdout",
     "output_type": "stream",
     "text": [
      "Successfully updated ANN.csv with results of trial 2\n"
     ]
    },
    {
     "name": "stderr",
     "output_type": "stream",
     "text": [
      "[I 2024-03-19 11:20:03,578] Trial 2 finished with value: 0.25830114685106914 and parameters: {'learning_rate_init': 0.05964245106167097, 'hidden_layer_sizes': [10, 10, 10]}. Best is trial 0 with value: 0.30397598266600573.\n"
     ]
    },
    {
     "name": "stdout",
     "output_type": "stream",
     "text": [
      "Successfully updated ANN.csv with results of trial 18\n"
     ]
    },
    {
     "name": "stderr",
     "output_type": "stream",
     "text": [
      "[I 2024-03-19 11:20:10,471] Trial 18 finished with value: 0.09444729736134394 and parameters: {'learning_rate_init': 0.13524294228663905, 'hidden_layer_sizes': [10, 10, 10]}. Best is trial 8 with value: 0.27679332654866623.\n",
      "[I 2024-03-19 11:20:25,581] Trial 19 pruned. \n",
      "[I 2024-03-19 11:20:31,729] Trial 2 pruned. \n",
      "[I 2024-03-19 11:20:34,168] Trial 3 finished with value: 0.10703100624219557 and parameters: {'learning_rate_init': 0.13779910790973862, 'hidden_layer_sizes': [10, 10, 10]}. Best is trial 1 with value: 0.21726197299779568.\n"
     ]
    },
    {
     "name": "stdout",
     "output_type": "stream",
     "text": [
      "Successfully updated ANN.csv with results of trial 3\n"
     ]
    },
    {
     "name": "stderr",
     "output_type": "stream",
     "text": [
      "[I 2024-03-19 11:20:35,238] Trial 4 finished with value: 0.4236280413792129 and parameters: {'n_estimators': 1000, 'max_features': 'log2', 'max_depth': 20}. Best is trial 4 with value: 0.4236280413792129.\n"
     ]
    },
    {
     "name": "stdout",
     "output_type": "stream",
     "text": [
      "Successfully updated RF.csv with results of trial 4\n"
     ]
    },
    {
     "name": "stderr",
     "output_type": "stream",
     "text": [
      "[I 2024-03-19 11:20:36,882] Trial 5 pruned. \n"
     ]
    },
    {
     "name": "stdout",
     "output_type": "stream",
     "text": [
      "Successfully updated RF.csv with results of trial 3\n"
     ]
    },
    {
     "name": "stderr",
     "output_type": "stream",
     "text": [
      "[I 2024-03-19 11:20:51,826] Trial 3 finished with value: 0.2852548402159271 and parameters: {'n_estimators': 1000, 'max_features': 'log2', 'max_depth': 10}. Best is trial 0 with value: 0.3006151475500029.\n"
     ]
    },
    {
     "name": "stdout",
     "output_type": "stream",
     "text": [
      "Successfully updated ANN.csv with results of trial 4\n"
     ]
    },
    {
     "name": "stderr",
     "output_type": "stream",
     "text": [
      "[I 2024-03-19 11:20:58,074] Trial 4 finished with value: 0.23204729413106986 and parameters: {'learning_rate_init': 0.095126388596373, 'hidden_layer_sizes': [10, 10, 10]}. Best is trial 1 with value: 0.23501173780458307.\n",
      "[I 2024-03-19 11:21:11,271] Trial 3 finished with value: 0.151229657834089 and parameters: {'learning_rate_init': 0.12292563550149355, 'hidden_layer_sizes': [5, 5, 5]}. Best is trial 0 with value: 0.20829278282405136.\n"
     ]
    },
    {
     "name": "stdout",
     "output_type": "stream",
     "text": [
      "Successfully updated ANN.csv with results of trial 3\n"
     ]
    },
    {
     "name": "stderr",
     "output_type": "stream",
     "text": [
      "[I 2024-03-19 11:21:24,498] Trial 5 pruned. \n",
      "[I 2024-03-19 11:21:30,387] Trial 4 finished with value: 0.13547045691663248 and parameters: {'learning_rate_init': 0.10055997808844432, 'hidden_layer_sizes': [5, 5, 5]}. Best is trial 1 with value: 0.21726197299779568.\n"
     ]
    },
    {
     "name": "stdout",
     "output_type": "stream",
     "text": [
      "Successfully updated ANN.csv with results of trial 4\n",
      "Successfully updated RF.csv with results of trial 3\n"
     ]
    },
    {
     "name": "stderr",
     "output_type": "stream",
     "text": [
      "[I 2024-03-19 11:21:35,494] Trial 3 finished with value: 0.333221313488763 and parameters: {'n_estimators': 1000, 'max_features': 'sqrt', 'max_depth': None}. Best is trial 3 with value: 0.333221313488763.\n"
     ]
    },
    {
     "name": "stdout",
     "output_type": "stream",
     "text": [
      "Successfully updated RF.csv with results of trial 1\n"
     ]
    },
    {
     "name": "stderr",
     "output_type": "stream",
     "text": [
      "[I 2024-03-19 11:21:43,547] Trial 1 finished with value: 0.3558582281251006 and parameters: {'n_estimators': 750, 'max_features': 'log2', 'max_depth': 20}. Best is trial 1 with value: 0.3558582281251006.\n",
      "[I 2024-03-19 11:21:46,986] Trial 6 pruned. \n",
      "[I 2024-03-19 11:22:02,635] Trial 3 finished with value: 0.32532375375388284 and parameters: {'learning_rate_init': 0.14654783444804395, 'hidden_layer_sizes': [5, 5, 5, 5, 5]}. Best is trial 3 with value: 0.32532375375388284.\n"
     ]
    },
    {
     "name": "stdout",
     "output_type": "stream",
     "text": [
      "Successfully updated ANN.csv with results of trial 3\n"
     ]
    },
    {
     "name": "stderr",
     "output_type": "stream",
     "text": [
      "[I 2024-03-19 11:22:43,998] Trial 5 pruned. \n"
     ]
    },
    {
     "name": "stdout",
     "output_type": "stream",
     "text": [
      "Successfully updated RF.csv with results of trial 6\n"
     ]
    },
    {
     "name": "stderr",
     "output_type": "stream",
     "text": [
      "[I 2024-03-19 11:22:48,740] Trial 6 finished with value: 0.32930746220800317 and parameters: {'n_estimators': 750, 'max_features': 'sqrt', 'max_depth': None}. Best is trial 4 with value: 0.35035892191170576.\n"
     ]
    },
    {
     "name": "stdout",
     "output_type": "stream",
     "text": [
      "Successfully updated RF.csv with results of trial 4\n"
     ]
    },
    {
     "name": "stderr",
     "output_type": "stream",
     "text": [
      "[I 2024-03-19 11:23:09,193] Trial 4 finished with value: 0.26939271753163035 and parameters: {'n_estimators': 500, 'max_features': 'log2', 'max_depth': 20}. Best is trial 0 with value: 0.3006151475500029.\n",
      "[I 2024-03-19 11:23:13,855] Trial 6 pruned. \n",
      "[I 2024-03-19 11:23:17,058] Trial 7 pruned. \n"
     ]
    },
    {
     "name": "stdout",
     "output_type": "stream",
     "text": [
      "Successfully updated RF.csv with results of trial 3\n"
     ]
    },
    {
     "name": "stderr",
     "output_type": "stream",
     "text": [
      "[I 2024-03-19 11:23:19,148] Trial 3 finished with value: 0.2777973175079092 and parameters: {'n_estimators': 750, 'max_features': 'sqrt', 'max_depth': 10}. Best is trial 0 with value: 0.2959158514013636.\n",
      "[I 2024-03-19 11:23:19,754] Trial 4 finished with value: 0.19349836186937527 and parameters: {'learning_rate_init': 0.05022994612006754, 'hidden_layer_sizes': [5, 5, 5, 5, 5]}. Best is trial 0 with value: 0.20829278282405136.\n"
     ]
    },
    {
     "name": "stdout",
     "output_type": "stream",
     "text": [
      "Successfully updated ANN.csv with results of trial 4\n",
      "Successfully updated RF.csv with results of trial 4\n"
     ]
    },
    {
     "name": "stderr",
     "output_type": "stream",
     "text": [
      "[I 2024-03-19 11:23:27,678] Trial 4 finished with value: 0.3451998051392451 and parameters: {'n_estimators': 500, 'max_features': 'sqrt', 'max_depth': None}. Best is trial 4 with value: 0.3451998051392451.\n"
     ]
    },
    {
     "name": "stdout",
     "output_type": "stream",
     "text": [
      "Successfully updated ANN.csv with results of trial 7\n"
     ]
    },
    {
     "name": "stderr",
     "output_type": "stream",
     "text": [
      "[I 2024-03-19 11:23:29,951] Trial 7 finished with value: 0.23875919120528677 and parameters: {'learning_rate_init': 0.07883389780151527, 'hidden_layer_sizes': [10, 10, 10]}. Best is trial 7 with value: 0.23875919120528677.\n",
      "[I 2024-03-19 11:23:32,994] Trial 4 pruned. \n",
      "[I 2024-03-19 11:23:33,005] Trial 5 pruned. \n",
      "[I 2024-03-19 11:24:04,484] Trial 7 pruned. \n"
     ]
    },
    {
     "name": "stdout",
     "output_type": "stream",
     "text": [
      "Successfully updated RF.csv with results of trial 5\n"
     ]
    },
    {
     "name": "stderr",
     "output_type": "stream",
     "text": [
      "[I 2024-03-19 11:24:48,878] Trial 5 finished with value: 0.4227820557909401 and parameters: {'n_estimators': 1000, 'max_features': 'sqrt', 'max_depth': 20}. Best is trial 4 with value: 0.4236280413792129.\n",
      "[I 2024-03-19 11:25:21,760] Trial 5 pruned. \n"
     ]
    },
    {
     "name": "stdout",
     "output_type": "stream",
     "text": [
      "Successfully updated RF.csv with results of trial 2\n"
     ]
    },
    {
     "name": "stderr",
     "output_type": "stream",
     "text": [
      "[I 2024-03-19 11:25:26,958] Trial 2 finished with value: 0.3486855438632392 and parameters: {'n_estimators': 750, 'max_features': 'log2', 'max_depth': 20}. Best is trial 1 with value: 0.3558582281251006.\n"
     ]
    },
    {
     "name": "stdout",
     "output_type": "stream",
     "text": [
      "Successfully updated RF.csv with results of trial 5\n"
     ]
    },
    {
     "name": "stderr",
     "output_type": "stream",
     "text": [
      "[I 2024-03-19 11:25:28,640] Trial 5 finished with value: 0.3695008600106641 and parameters: {'n_estimators': 500, 'max_features': 'log2', 'max_depth': None}. Best is trial 5 with value: 0.3695008600106641.\n"
     ]
    },
    {
     "name": "stdout",
     "output_type": "stream",
     "text": [
      "Successfully updated ANN.csv with results of trial 5\n"
     ]
    },
    {
     "name": "stderr",
     "output_type": "stream",
     "text": [
      "[I 2024-03-19 11:25:54,945] Trial 5 finished with value: 0.28128684612158533 and parameters: {'learning_rate_init': 0.14662585372392276, 'hidden_layer_sizes': [5, 5, 5, 5, 5]}. Best is trial 5 with value: 0.28128684612158533.\n"
     ]
    },
    {
     "name": "stdout",
     "output_type": "stream",
     "text": [
      "Successfully updated RF.csv with results of trial 4\n"
     ]
    },
    {
     "name": "stderr",
     "output_type": "stream",
     "text": [
      "[I 2024-03-19 11:25:56,954] Trial 4 finished with value: 0.22365582129871434 and parameters: {'n_estimators': 1000, 'max_features': 'log2', 'max_depth': 5}. Best is trial 0 with value: 0.2959158514013636.\n"
     ]
    },
    {
     "name": "stdout",
     "output_type": "stream",
     "text": [
      "Successfully updated ANN.csv with results of trial 8\n"
     ]
    },
    {
     "name": "stderr",
     "output_type": "stream",
     "text": [
      "[I 2024-03-19 11:26:01,310] Trial 8 finished with value: 0.22107968542568046 and parameters: {'learning_rate_init': 0.11556082156914915, 'hidden_layer_sizes': [10, 10, 10]}. Best is trial 8 with value: 0.22107968542568046.\n",
      "[I 2024-03-19 11:26:27,153] Trial 8 finished with value: 0.2149754062428326 and parameters: {'learning_rate_init': 0.11316206963853503, 'hidden_layer_sizes': [10, 10, 10]}. Best is trial 7 with value: 0.23875919120528677.\n"
     ]
    },
    {
     "name": "stdout",
     "output_type": "stream",
     "text": [
      "Successfully updated ANN.csv with results of trial 8\n",
      "Successfully updated RF.csv with results of trial 8\n"
     ]
    },
    {
     "name": "stderr",
     "output_type": "stream",
     "text": [
      "[I 2024-03-19 11:26:29,097] Trial 8 finished with value: 0.3334759991873479 and parameters: {'n_estimators': 1000, 'max_features': 'log2', 'max_depth': 20}. Best is trial 4 with value: 0.35035892191170576.\n",
      "[I 2024-03-19 11:26:52,917] Trial 6 pruned. \n"
     ]
    },
    {
     "name": "stdout",
     "output_type": "stream",
     "text": [
      "Successfully updated RF.csv with results of trial 6\n"
     ]
    },
    {
     "name": "stderr",
     "output_type": "stream",
     "text": [
      "[I 2024-03-19 11:26:59,692] Trial 6 finished with value: 0.3310448607640261 and parameters: {'n_estimators': 500, 'max_features': 'log2', 'max_depth': 10}. Best is trial 5 with value: 0.3695008600106641.\n"
     ]
    }
   ],
   "source": [
    "sampler = samplers['TPESampler']\n",
    "pruner = pruners[\"HyperbandPruner\"]\n",
    "n_trials = 1000\n",
    "with ThreadPoolExecutor() as executor:\n",
    "    futures = []\n",
    "    for _type in [\"morgan\", \"jazzy\"]:\n",
    "        for benchmark in [\"obach\", \"hepatocyte\", \"microsome\"]:\n",
    "            X_train, y_train, X_val, y_val, X_test, y_test = load_ml_data(_type, benchmark)\n",
    "\n",
    "            for model_identifier in [\"linear\", \"KRR\", \"GB\", \"RF\", \"ANN\"]:\n",
    "                print(_type, benchmark, model_identifier)\n",
    "\n",
    "                lock_obj = optuna.storages.JournalFileOpenLock(\n",
    "                    f\"./project_resources/optuna/{_type}/{benchmark}/{model_identifier}_journal.log\"\n",
    "                )\n",
    "\n",
    "                storage = JournalStorage(\n",
    "                                JournalFileStorage(\n",
    "                                    f\"./project_resources/optuna/{_type}/{benchmark}/{model_identifier}_journal.log\", lock_obj=lock_obj\n",
    "                                )\n",
    "                            )\n",
    "    \n",
    "                study = optuna.create_study(\n",
    "                    study_name=model_identifier, direction=\"maximize\", storage=storage, load_if_exists=True,\n",
    "                    sampler=sampler(n_startup_trials=300, constant_liar=True), pruner=pruner()\n",
    "                )\n",
    "                \n",
    "                trial_log_csv_path = f\"./project_resources/optuna/{_type}/{benchmark}/{model_identifier}.csv\"\n",
    "                \n",
    "                tuner = HyperparamTuner(trial_log_csv_path, model_identifier, X_train, y_train, X_val, y_val)\n",
    "                \n",
    "                futures.append(executor.submit(study.optimize, tuner.objective, n_trials=n_trials))\n",
    "                joblib.dump(study, f\"./project_resources/optuna/{_type}/{benchmark}/{model_identifier}.pkl\")\n",
    "    for future in futures:\n",
    "        future.result()"
   ]
  },
  {
   "cell_type": "code",
   "execution_count": null,
   "id": "fc06313f-9668-4ff3-b4b0-0a7a8e13aba6",
   "metadata": {},
   "outputs": [],
   "source": []
  }
 ],
 "metadata": {
  "kernelspec": {
   "display_name": "Python 3 (ipykernel)",
   "language": "python",
   "name": "python3"
  },
  "language_info": {
   "codemirror_mode": {
    "name": "ipython",
    "version": 3
   },
   "file_extension": ".py",
   "mimetype": "text/x-python",
   "name": "python",
   "nbconvert_exporter": "python",
   "pygments_lexer": "ipython3",
   "version": "3.11.4"
  }
 },
 "nbformat": 4,
 "nbformat_minor": 5
}
