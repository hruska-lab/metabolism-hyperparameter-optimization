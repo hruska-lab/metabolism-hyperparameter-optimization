{
 "cells": [
  {
   "cell_type": "code",
   "execution_count": 1,
   "id": "6ffed066-7795-43d6-a28c-0c625f702e5c",
   "metadata": {
    "tags": []
   },
   "outputs": [
    {
     "name": "stdout",
     "output_type": "stream",
     "text": [
      "importing Jupyter notebook from C:\\Users\\Lukas\\Documents\\datacytochromy\\project_resources\\cytochrome_P450.ipynb\n"
     ]
    }
   ],
   "source": [
    "import sys\n",
    "import yaml\n",
    "import pandas as pd\n",
    "import numpy as np\n",
    "from tdc.single_pred import ADME\n",
    "from rdkit import Chem\n",
    "from rdkit.Chem import AllChem\n",
    "from ase import Atoms\n",
    "from ase.io import read, write\n",
    "from sklearn.preprocessing import MinMaxScaler\n",
    "from ase.calculators.singlepoint import SinglePointCalculator\n",
    "from project_resources.import_utils import NotebookFinder\n",
    "sys.meta_path.append(NotebookFinder())\n",
    "from project_resources.cytochrome_P450 import smiles_to_xyz_file, get_unique_elements"
   ]
  },
  {
   "cell_type": "code",
   "execution_count": 2,
   "id": "7791e162-7b9a-4ac9-b47d-b5dd301f44cc",
   "metadata": {
    "tags": []
   },
   "outputs": [],
   "source": [
    "tdc_benchmarks = [\"obach\", \"microsome\", \"hepatocyte\"]\n",
    "rel_paths = {\n",
    "    \"3A4\": r\"project_resources/3A4.csv\",\n",
    "    \"3A4_train_scaff\": r\"project_resources/base_splits/scaffold_splitter/3A4_train.csv\",\n",
    "    \"3A4_test_scaff\": r\"project_resources/base_splits/scaffold_splitter/3A4_test.csv\",\n",
    "    \"3A4_train_rand\": r\"project_resources/base_splits/random/3A4_train.csv\",\n",
    "    \"3A4_test_rand\": r\"project_resources/base_splits/random/3A4_test.csv\",\n",
    "    \"3A4_train_time\": r\"project_resources/base_splits/time_split/3A4_train.csv\",\n",
    "    \"3A4_test_time\": r\"project_resources/base_splits/time_split/3A4_test.csv\",\n",
    "    \"3A4_train_xyz_rand\": r\"project_resources/nequip/positions/random/3A4_train_mol_positions.extxyz\",\n",
    "    \"3A4_test_xyz_rand\": r\"project_resources/nequip/positions/random/3A4_test_mol_positions.extxyz\",\n",
    "    \"3A4_train_xyz_scaff\": r\"project_resources/nequip/positions/scaffold_splitter/3A4_train_mol_positions.extxyz\",\n",
    "    \"3A4_test_xyz_scaff\": r\"project_resources/nequip/positions/scaffold_splitter/3A4_test_mol_positions.extxyz\",\n",
    "    \"3A4_train_xyz_time\": r\"project_resources/nequip/positions/time_split/3A4_train_mol_positions.extxyz\",\n",
    "    \"3A4_test_xyz_time\": r\"project_resources/nequip/positions/time_split/3A4_test_mol_positions.extxyz\",\n",
    "    \"3A4_rand_config\": r\"project_resources/nequip/3A4_rand_config.yaml\",\n",
    "    \"3A4_scaff_config\": r\"project_resources/nequip/3A4_scaffold_config.yaml\",\n",
    "    \"3A4_time_config\": r\"project_resources/nequip/3A4_time_config.yaml\",\n",
    "\n",
    "    \"RLM\": r\"project_resources/RLM.csv\",\n",
    "    \"RLM_train_scaff\": r\"project_resources/base_splits/scaffold_splitter/RLM_train.csv\",\n",
    "    \"RLM_test_scaff\": r\"project_resources/base_splits/scaffold_splitter/RLM_test.csv\",\n",
    "    \"RLM_train_rand\": r\"project_resources/base_splits/random/RLM_train.csv\",\n",
    "    \"RLM_test_rand\": r\"project_resources/base_splits/random/RLM_test.csv\",\n",
    "    \"RLM_train_time\": r\"project_resources/base_splits/time_split/RLM_train.csv\",\n",
    "    \"RLM_test_time\": r\"project_resources/base_splits/time_split/RLM_test.csv\",\n",
    "    \"RLM_train_xyz_rand\": r\"project_resources/nequip/positions/random/RLM_train_mol_positions.extxyz\",\n",
    "    \"RLM_test_xyz_rand\": r\"project_resources/nequip/positions/random/RLM_test_mol_positions.extxyz\",\n",
    "    \"RLM_train_xyz_scaff\": r\"project_resources/nequip/positions/scaffold_splitter/RLM_train_mol_positions.extxyz\",\n",
    "    \"RLM_test_xyz_scaff\": r\"project_resources/nequip/positions/scaffold_splitter/RLM_test_mol_positions.extxyz\",\n",
    "    \"RLM_train_xyz_time\": r\"project_resources/nequip/positions/time_split/RLM_train_mol_positions.extxyz\",\n",
    "    \"RLM_test_xyz_time\": r\"project_resources/nequip/positions/time_split/RLM_test_mol_positions.extxyz\",\n",
    "    \"RLM_rand_config\": r\"project_resources/nequip/RLM_rand_config.yaml\",\n",
    "    \"RLM_scaff_config\": r\"project_resources/nequip/RLM_scaffold_config.yaml\",\n",
    "    \"RLM_time_config\": r\"project_resources/nequip/RLM_time_config.yaml\",\n",
    "\n",
    "    \"HLC\": r\"project_resources/HLC.csv\",\n",
    "    \"HLC_train_scaff\": r\"project_resources/base_splits/scaffold_splitter/HLC_train.csv\",\n",
    "    \"HLC_test_scaff\": r\"project_resources/base_splits/scaffold_splitter/HLC_test.csv\",\n",
    "    \"HLC_train_rand\": r\"project_resources/base_splits/random/HLC_train.csv\",\n",
    "    \"HLC_test_rand\": r\"project_resources/base_splits/random/HLC_test.csv\",\n",
    "    \"HLC_train_time\": r\"project_resources/base_splits/time_split/HLC_train.csv\",\n",
    "    \"HLC_test_time\": r\"project_resources/base_splits/time_split/HLC_test.csv\",\n",
    "    \"HLC_train_xyz_rand\": r\"project_resources/nequip/positions/random/HLC_train_mol_positions.extxyz\",\n",
    "    \"HLC_test_xyz_rand\": r\"project_resources/nequip/positions/random/HLC_test_mol_positions.extxyz\",\n",
    "    \"HLC_train_xyz_scaff\": r\"project_resources/nequip/positions/scaffold_splitter/HLC_train_mol_positions.extxyz\",\n",
    "    \"HLC_test_xyz_scaff\": r\"project_resources/nequip/positions/scaffold_splitter/HLC_test_mol_positions.extxyz\",\n",
    "    \"HLC_train_xyz_time\": r\"project_resources/nequip/positions/time_split/HLC_train_mol_positions.extxyz\",\n",
    "    \"HLC_test_xyz_time\": r\"project_resources/nequip/positions/time_split/HLC_test_mol_positions.extxyz\",\n",
    "    \"HLC_rand_config\": r\"project_resources/nequip/HLC_rand_config.yaml\",\n",
    "    \"HLC_scaff_config\": r\"project_resources/nequip/HLC_scaffold_config.yaml\",\n",
    "    \"HLC_time_config\": r\"project_resources/nequip/HLC_time_config.yaml\"\n",
    "}\n",
    "halflives = {}\n",
    "tdc_datasets = {}\n",
    "rmsds = {}\n",
    "ranks = {}\n",
    "y_predicted = {}\n",
    "best_trials = {}\n",
    "best_models = {}\n",
    "best_model_hyperparams = {}\n",
    "split_indexes = {}\n",
    "position_blocks = {}\n",
    "rdkit_symbols = {}\n",
    "unique_symbols = {}"
   ]
  },
  {
   "cell_type": "code",
   "execution_count": 3,
   "id": "55aae1bd-7340-4933-8962-0498d156233d",
   "metadata": {},
   "outputs": [
    {
     "name": "stderr",
     "output_type": "stream",
     "text": [
      "Found local copy...\n",
      "Loading...\n",
      "Done!\n",
      "Found local copy...\n",
      "Loading...\n",
      "Done!\n",
      "Found local copy...\n",
      "Loading...\n",
      "Done!\n"
     ]
    }
   ],
   "source": [
    "obach = ADME(name='Half_Life_Obach')\n",
    "obach_split = obach.get_split()\n",
    "tdc_datasets[\"obach\"] = obach_split\n",
    "microsome = ADME(name='Clearance_Microsome_AZ')\n",
    "microsome_split = microsome.get_split()\n",
    "tdc_datasets[\"microsome\"] = microsome_split\n",
    "hepatocyte = ADME(name='Clearance_Hepatocyte_AZ')\n",
    "hepatocyte_split = hepatocyte.get_split()\n",
    "tdc_datasets[\"hepatocyte\"] = hepatocyte_split"
   ]
  },
  {
   "cell_type": "code",
   "execution_count": 4,
   "id": "ae8b2ab2-3eb7-404f-a4dc-d118a7ca9d61",
   "metadata": {
    "tags": []
   },
   "outputs": [
    {
     "name": "stdout",
     "output_type": "stream",
     "text": [
      "obach_train.extxyz already exists\n",
      "obach_test.extxyz already exists\n",
      "microsome_train.extxyz already exists\n",
      "microsome_test.extxyz already exists\n",
      "hepatocyte_train.extxyz already exists\n",
      "hepatocyte_test.extxyz already exists\n"
     ]
    }
   ],
   "source": [
    "for benchmark in tdc_benchmarks:\n",
    "    benchmark_train_smiles = tdc_datasets[benchmark][\"train\"][\"Drug\"]\n",
    "    benchmark_test_smiles = tdc_datasets[benchmark][\"test\"][\"Drug\"]\n",
    "    \n",
    "    benchmark_train_halflives = tdc_datasets[benchmark][\"train\"][\"Y\"]\n",
    "    reshaped_train_halflife = np.array(benchmark_train_halflives).reshape(-1, 1)\n",
    "    scaler = MinMaxScaler().fit(reshaped_train_halflife)\n",
    "    train_halflife_scaled = scaler.transform(reshaped_train_halflife)\n",
    "    train_halflives_scaled = np.array([val[0] for val in train_halflife_scaled])\n",
    "\n",
    "    benchmark_test_halflives = tdc_datasets[benchmark][\"test\"][\"Y\"]\n",
    "    reshaped_test_halflife = np.array(benchmark_test_halflives).reshape(-1, 1)\n",
    "    scaler = MinMaxScaler().fit(reshaped_test_halflife)\n",
    "    test_halflife_scaled = scaler.transform(reshaped_test_halflife)\n",
    "    test_halflives_scaled = np.array([val[0] for val in test_halflife_scaled])\n",
    "    \n",
    "    file_location = \"project_resources/nequip/positions\"\n",
    "\n",
    "    smiles_to_xyz_file(benchmark_train_smiles, train_halflives_scaled, f\"{file_location}/{benchmark}_train.extxyz\")\n",
    "    smiles_to_xyz_file(benchmark_test_smiles, test_halflives_scaled, f\"{file_location}/{benchmark}_test.extxyz\")"
   ]
  },
  {
   "cell_type": "code",
   "execution_count": 5,
   "id": "33b724df-a3c3-4ac3-921c-60d91c9a3b8c",
   "metadata": {
    "tags": []
   },
   "outputs": [
    {
     "name": "stdout",
     "output_type": "stream",
     "text": [
      "chemical elements present in obach: ['H', 'F', 'S', 'I', 'Br', 'Na', 'Li', 'N', 'P', 'L', 'C', 'B', 'Cl', 'O']\n",
      "chemical elements present in microsome: ['H', 'S', 'F', 'I', 'Br', 'N', 'P', 'C', 'B', 'Cl', 'O']\n",
      "chemical elements present in hepatocyte: ['H', 'S', 'F', 'I', 'Br', 'N', 'P', 'C', 'B', 'Cl', 'O']\n"
     ]
    }
   ],
   "source": [
    "for benchmark in tdc_benchmarks:\n",
    "    benchmark_train_smiles = tdc_datasets[benchmark][\"train\"][\"Drug\"]\n",
    "    benchmark_test_smiles = tdc_datasets[benchmark][\"test\"][\"Drug\"]\n",
    "    benchmark_all_smiles = list(benchmark_train_smiles) + list(benchmark_test_smiles)\n",
    "    \n",
    "    unique_symbs = get_unique_elements(benchmark_all_smiles)\n",
    "    unique_symbols[benchmark] = list(unique_symbs)\n",
    "    print(f\"chemical elements present in {benchmark}: {unique_symbols[benchmark]}\")"
   ]
  },
  {
   "cell_type": "code",
   "execution_count": 18,
   "id": "3a89f3c4-99dd-4e39-9daf-c9a260a023c4",
   "metadata": {},
   "outputs": [
    {
     "name": "stdout",
     "output_type": "stream",
     "text": [
      "rand\n",
      "3A4_config.yaml already exists\n",
      "RLM_config.yaml already exists\n",
      "HLC_config.yaml already exists\n",
      "scaff\n",
      "3A4_config.yaml already exists\n",
      "RLM_config.yaml already exists\n",
      "HLC_config.yaml already exists\n",
      "time\n",
      "project_resources/nequip/3A4_time_config.yaml  was successfully created\n",
      "project_resources/nequip/RLM_time_config.yaml  was successfully created\n",
      "project_resources/nequip/HLC_time_config.yaml  was successfully created\n"
     ]
    }
   ],
   "source": [
    "for splitter in splitters:\n",
    "    print(splitter)\n",
    "    for isozyme in isozymes:\n",
    "        try:\n",
    "            with open(rel_paths[f\"{isozyme}_{splitter}_config\"]) as f:\n",
    "                f.close()\n",
    "            print(f\"{isozyme}_config.yaml already exists\")\n",
    "        except FileNotFoundError:\n",
    "            with open(rel_paths[f\"{isozyme}_{splitter}_config\"], \"w\") as out_f:\n",
    "                data = {}\n",
    "\n",
    "                data[\"root\"] = \"P450\"\n",
    "                data[\"run_name\"] = f\"{isozyme}_{splitter}\"\n",
    "                data[\"dataset_file_name\"] = rel_paths[f\"{isozyme}_train_xyz_{splitter}\"].replace(\"project_resources/nequip/\", \"\")\n",
    "                data[\"seed\"] = 123\n",
    "                data[\"dataset_seed\"] = 456\n",
    "                data[\"append\"] = True\n",
    "                data[\"model_builders\"] = [\"SimpleIrrepsConfig\", \"EnergyModel\", \"PerSpeciesRescale\", \"RescaleEnergyEtc\"]\n",
    "\n",
    "                # hyperparams:\n",
    "                data[\"batch_size\"] = 10  # no large effect on 3A4 (tried 5, 10, 20 - 10 works best)\n",
    "                data[\"learning_rate\"] = 0.1\n",
    "                # learning_rate -> validation_e_mae\n",
    "                # 0.005 -> 1.31374\n",
    "                # 0.01 -> 0.96237\n",
    "                # 0.1 -> 0.94379\n",
    "                data[\"max_epochs\"] = 30\n",
    "                data[\"r_max\"] = 0.4  # cutoff radius in Angstroms; changing the value has no effect on validation_e_mae\n",
    "                data[\"num_layers\"] = 4  # little to no effect on validation_e_mae\n",
    "                data[\"l_max\"] = 2\n",
    "                data[\"parity\"] = False  # slighly worse performance than True, but training takes way less time\n",
    "                data[\"num_features\"] = 32\n",
    "                data[\"num_basis\"] = 8\n",
    "\n",
    "                data[\"dataset\"] = \"ase\"\n",
    "                key_mapping = {\"z\": \"atomic_numbers\", \"E\": \"total_energy\", \"R\": \"pos\"}\n",
    "                data[\"key_mapping\"] = key_mapping\n",
    "                data[\"npz_fixed_field_keys\"] = \"atomic_numbers\"\n",
    "                data[\"chemical_symbols\"] = unique_symbols[isozyme]\n",
    "                data[\"wandb\"] = False  # impossible to use wandb inside a notebook (cannot choose an option)\n",
    "\n",
    "                num_train_val = int(len(smiles[splitter][isozyme][\"train\"]))\n",
    "                num_train = int(np.floor(0.8 * num_train_val))\n",
    "                num_validation = int(num_train_val - num_train)\n",
    "                data[\"n_train\"] = num_train\n",
    "                data[\"n_val\"] = num_validation\n",
    "                data[\"train_val_split\"] = \"sequential\"\n",
    "                data[\"validation_batch_size\"] = num_validation\n",
    "                data[\"loss_coeffs\"] = \"total_energy\"\n",
    "                data[\"optimizer_name\"] = \"Adam\"\n",
    "                yaml.dump(data, out_f)\n",
    "                out_f.close()\n",
    "            print(rel_paths[f\"{isozyme}_{splitter}_config\"], \" was successfully created\")"
   ]
  },
  {
   "cell_type": "code",
   "execution_count": null,
   "id": "02f9d780-2798-49f0-85ad-0c5b3069152c",
   "metadata": {},
   "outputs": [],
   "source": []
  }
 ],
 "metadata": {
  "kernelspec": {
   "display_name": "Python 3 (ipykernel)",
   "language": "python",
   "name": "python3"
  },
  "language_info": {
   "codemirror_mode": {
    "name": "ipython",
    "version": 3
   },
   "file_extension": ".py",
   "mimetype": "text/x-python",
   "name": "python",
   "nbconvert_exporter": "python",
   "pygments_lexer": "ipython3",
   "version": "3.11.4"
  }
 },
 "nbformat": 4,
 "nbformat_minor": 5
}
