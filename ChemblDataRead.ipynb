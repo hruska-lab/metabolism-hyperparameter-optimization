{
 "cells": [
  {
   "cell_type": "code",
   "execution_count": 1,
   "id": "c9008c0c-217a-4a82-8efa-1bdd0d28a545",
   "metadata": {
    "tags": []
   },
   "outputs": [],
   "source": [
    "import pandas as pd\n",
    "import os\n",
    "import warnings\n",
    "from chembl_webresource_client.new_client import new_client\n",
    "from rdkit import Chem\n",
    "from rdkit.Chem import AllChem\n",
    "from rdkit import DataStructs\n",
    "import numpy as np\n",
    "import matplotlib.pyplot as plt\n",
    "from sklearn.model_selection import train_test_split\n",
    "from sklearn.model_selection import KFold\n",
    "from sklearn.preprocessing import StandardScaler\n",
    "from sklearn.model_selection import GridSearchCV\n",
    "from sklearn import linear_model\n",
    "from sklearn.kernel_ridge import KernelRidge\n",
    "from sklearn.ensemble import RandomForestRegressor\n",
    "from sklearn.ensemble import GradientBoostingRegressor\n",
    "from sklearn.neural_network import MLPRegressor\n",
    "from sklearn.model_selection import GridSearchCV\n",
    "from sklearn.model_selection import ShuffleSplit"
   ]
  },
  {
   "cell_type": "code",
   "execution_count": 2,
   "id": "ddc091cb-0b13-470e-af3c-59c794cd6005",
   "metadata": {
    "tags": []
   },
   "outputs": [],
   "source": [
    "warnings.filterwarnings(\"ignore\")"
   ]
  },
  {
   "cell_type": "code",
   "execution_count": 3,
   "id": "230cfb56-2882-490c-a465-d3d816c4488f",
   "metadata": {
    "tags": []
   },
   "outputs": [],
   "source": [
    "working_dir = os.getcwd()\n",
    "rel_path = r\"project_resources\\chembl_molekuly.csv\"\n",
    "molekuly_csv_abs_file_path = os.path.join(working_dir, rel_path)\n",
    "#loads csv file from directory"
   ]
  },
  {
   "cell_type": "code",
   "execution_count": 4,
   "id": "22e6b12d-890c-41ce-8611-9ea45d8466fb",
   "metadata": {
    "tags": []
   },
   "outputs": [],
   "source": [
    "#dir for useful stuff for the actual essay\n",
    "rel_path = r\"project_results\\graphs\"\n",
    "project_results_graphs = os.path.join(working_dir, rel_path)"
   ]
  },
  {
   "cell_type": "code",
   "execution_count": 5,
   "id": "82a36e01-be9c-49a6-b7b0-934efcb0fa8e",
   "metadata": {
    "tags": []
   },
   "outputs": [],
   "source": [
    "df = pd.read_csv(molekuly_csv_abs_file_path, sep=\";\")\n",
    "#df.head()"
   ]
  },
  {
   "cell_type": "code",
   "execution_count": 6,
   "id": "c2a83bca-90dc-4410-b06f-4db5a1bbda05",
   "metadata": {
    "tags": []
   },
   "outputs": [],
   "source": [
    "df = pd.read_csv(molekuly_csv_abs_file_path, sep=\";\")\n",
    "statistika = df[\"Standard Type\"].value_counts()\n",
    "#print(statistika)"
   ]
  },
  {
   "cell_type": "code",
   "execution_count": 7,
   "id": "5ee84a17-49ad-4617-843c-41927841b76f",
   "metadata": {
    "tags": []
   },
   "outputs": [],
   "source": [
    "result = df[(df[\"Standard Type\"] == \"t1/2\") | (df[\"Standard Type\"] == \"T1/2\")]\n",
    "t_half_rel_path = r\"project_resources\\t_half.csv\"\n",
    "t_half_abs_path = os.path.join(working_dir, t_half_rel_path)\n",
    "result.to_csv(t_half_abs_path, index=False)\n",
    "#creates \"t_half.csv\" in current dir\n",
    "t_half = pd.read_csv(t_half_abs_path)\n",
    "#and then loads it"
   ]
  },
  {
   "cell_type": "code",
   "execution_count": 8,
   "id": "a03fd464-b202-464f-a838-23f065fd5321",
   "metadata": {
    "tags": []
   },
   "outputs": [],
   "source": [
    "client = new_client\n",
    "list_smiles = []\n",
    "list_chembl_id = t_half[\"Molecule ChEMBL ID\"]\n",
    "for chembl_id in list_chembl_id:\n",
    "    molecule = client.molecule\n",
    "    compound = molecule.filter(chembl_id=chembl_id)[0]\n",
    "    list_smiles.append(compound['molecule_structures'][\"canonical_smiles\"])\n",
    "#print(list_smiles)"
   ]
  },
  {
   "cell_type": "code",
   "execution_count": 9,
   "id": "bfc42489-f029-4853-b650-11ee4e53fcaf",
   "metadata": {
    "tags": []
   },
   "outputs": [],
   "source": [
    "#takes a list of smiles strings,output is a corresponding Morgan fingerprint as a list\n",
    "list_fingerprint = []\n",
    "for smi in list_smiles:\n",
    "    mol = Chem.MolFromSmiles(smi)\n",
    "    fingerprint = AllChem.GetMorganFingerprintAsBitVect(mol, useChirality=True, radius=2, nBits = 124)\n",
    "    vector = np.array(fingerprint)\n",
    "    list_fingerprint.append(vector)\n",
    "    #print(list_fingerprint)"
   ]
  },
  {
   "cell_type": "code",
   "execution_count": 10,
   "id": "794dede9-dc7a-4435-9117-44f0bdcc20fb",
   "metadata": {
    "tags": []
   },
   "outputs": [],
   "source": [
    "#data sets filtering for ML\n",
    "t_half = pd.read_csv(t_half_abs_path)\n",
    "\n",
    "t_half = np.array(t_half['Standard Value'])\n",
    "t_half_float = t_half.astype(float)\n",
    "t_filtered = t_half_float[t_half>0]\n",
    "\n",
    "array_fingerprint = np.array(list_fingerprint)\n",
    "array_fingerprint_filtered = array_fingerprint[t_half>0]"
   ]
  },
  {
   "cell_type": "code",
   "execution_count": 11,
   "id": "4c364ae3-820e-4acf-8ae5-ee8135274e42",
   "metadata": {
    "tags": []
   },
   "outputs": [
    {
     "name": "stdout",
     "output_type": "stream",
     "text": [
      "(70,) (70, 124) (56, 124) (14, 124) (56,) (14,)\n"
     ]
    }
   ],
   "source": [
    "# x su len fingerprint ako jeden numpy array,\n",
    "# y su len t_half hodnoty ako jeden numpy array, pouzit len molekuly kde existuje aj X aj y hodnota\n",
    "x = array_fingerprint_filtered\n",
    "y = t_filtered\n",
    "#x_train, x_test, y_train, y_test = train_test_split(x, y, test_size=0.2, random_state=42)\n",
    "idx_train, idx_test = train_test_split(np.arange(len(y)), test_size=0.2, random_state=42)\n",
    "\n",
    "x_train = x[idx_train]\n",
    "x_test = x[idx_test]\n",
    "\n",
    "y_train = y[idx_train]\n",
    "y_test = y[idx_test]\n",
    "\n",
    "array_fingerprint_filtered_train = array_fingerprint_filtered[idx_train]\n",
    "array_fingerprint_filtered_test = array_fingerprint_filtered[idx_test]\n",
    "\n",
    "print(t_filtered.shape, array_fingerprint_filtered.shape, x_train.shape, x_test.shape, y_train.shape, y_test.shape)"
   ]
  },
  {
   "cell_type": "code",
   "execution_count": 12,
   "id": "0380749d-40f0-4949-9aa3-0aeb7eb2a525",
   "metadata": {
    "tags": []
   },
   "outputs": [],
   "source": [
    "def model_choice(ml_type):\n",
    "    \n",
    "    if ml_type == 'linear':\n",
    "        reg = linear_model.ElasticNet(alpha=0.001, l1_ratio=1)\n",
    "        plot_title = \"Linear\"\n",
    "        \n",
    "    if ml_type == 'KRR':\n",
    "        reg = KernelRidge(alpha=0.1)\n",
    "        plot_title = \"Kernel ridge regressor\"\n",
    "        \n",
    "    if ml_type == 'RF':\n",
    "        reg = RandomForestRegressor(max_depth=None, random_state=0)\n",
    "        plot_title = \"Random forest regressor\"\n",
    "        \n",
    "    if ml_type == 'GB':\n",
    "        reg = GradientBoostingRegressor(random_state=1, loss='absolute_error', max_depth=5, n_estimators=1000)\n",
    "        plot_title = \"Gradient boosting regressor\"\n",
    "        \n",
    "    if ml_type == 'ANN':\n",
    "        reg = MLPRegressor(random_state=1, max_iter=5000, learning_rate_init=0.001, alpha=0, hidden_layer_sizes=[10,10])\n",
    "        plot_title = \"Limited-memory BFGS\"\n",
    "    print(f\"using ML type {ml_type}\")\n",
    "    \n",
    "    return reg, plot_title"
   ]
  },
  {
   "cell_type": "code",
   "execution_count": 13,
   "id": "53d0f862-d81e-41a0-9862-f1880eaa7eb8",
   "metadata": {
    "tags": []
   },
   "outputs": [],
   "source": [
    "def mach_learn(x_train, x_test, y_train, y_test, reg, plot_title):\n",
    "    # výcvik strojoveho modelu\n",
    "    reg = reg.fit(x_train, y_train)\n",
    "    # predict training set\n",
    "    y_train_predict = reg.predict(x_train)\n",
    "    # predict test set\n",
    "    y_test_predict = reg.predict(x_test)\n",
    "    #error train je pre info, test je dolezita\n",
    "    train_error = np.mean(np.abs(y_train_predict-y_train))\n",
    "    test_error = np.mean(np.abs(y_test_predict-y_test))\n",
    "    print(f\"MAE train: {train_error:.4f}\")\n",
    "    print(f\"MAE test: {test_error:.4f}\")\n",
    "    #print(np.abs(y_test_predict-y_test), f\"length: {len(y_test_predict-y_test)}\")\n",
    "\n",
    "    # idealne data na diagonale\n",
    "    #diag = np.linspace(-1, 3.5)\n",
    "\n",
    "    #plot = plt.scatter(y_test, y_test_predict, edgecolors=None, c='b', alpha=0.2)\n",
    "    #plt.plot(diag, diag, linestyle='dotted')\n",
    "    #plt.xlim(-1, 3.5)\n",
    "    #plt.ylim(-1, 3.5)\n",
    "    #plt.ylabel('$t_{1/2}$ (predicted)')\n",
    "    #plt.xlabel('$t_{1/2}$ (real)')\n",
    "    #plt.suptitle(f\"{plot_title}\")\n",
    "    #plt.savefig(os.path.join(project_results_graphs, plot_title))\n",
    "    #plt.show()"
   ]
  },
  {
   "cell_type": "code",
   "execution_count": 14,
   "id": "d55f5373-3b86-42ca-955f-7d52cdcb21e7",
   "metadata": {
    "tags": []
   },
   "outputs": [
    {
     "name": "stdout",
     "output_type": "stream",
     "text": [
      "using ML type linear\n",
      "MAE train: 0.2470\n",
      "MAE test: 0.7197\n"
     ]
    }
   ],
   "source": [
    "# opakovat pre rozne strojove metody, porovnan chyby\n",
    "#to display graphs, un-comment all rows in previous cell starting with plot or plt\n",
    "type_ml_use = 'linear'\n",
    "reg, plot_title = model_choice(type_ml_use)\n",
    "mach_learn(x_train, x_test, y_train, y_test, reg, plot_title)"
   ]
  },
  {
   "cell_type": "code",
   "execution_count": 15,
   "id": "4572ebae-234d-4f2d-a99b-dcc6ab26380d",
   "metadata": {
    "tags": []
   },
   "outputs": [
    {
     "name": "stdout",
     "output_type": "stream",
     "text": [
      "using ML type KRR\n",
      "MAE train: 0.2274\n",
      "MAE test: 0.6352\n"
     ]
    }
   ],
   "source": [
    "type_ml_use = 'KRR'\n",
    "reg, plot_title = model_choice(type_ml_use)\n",
    "mach_learn(x_train, x_test, y_train, y_test, reg, plot_title)"
   ]
  },
  {
   "cell_type": "code",
   "execution_count": 16,
   "id": "412725f3-85b9-4fe5-b2c1-d7dc5b7e173e",
   "metadata": {
    "tags": []
   },
   "outputs": [
    {
     "name": "stdout",
     "output_type": "stream",
     "text": [
      "using ML type RF\n",
      "MAE train: 0.3392\n",
      "MAE test: 0.5554\n"
     ]
    }
   ],
   "source": [
    "type_ml_use = 'RF'\n",
    "reg, plot_title = model_choice(type_ml_use)\n",
    "mach_learn(x_train, x_test, y_train, y_test, reg, plot_title)"
   ]
  },
  {
   "cell_type": "code",
   "execution_count": 17,
   "id": "2975c8d4-a403-49ff-b40c-ef8ea3626077",
   "metadata": {
    "tags": []
   },
   "outputs": [
    {
     "name": "stdout",
     "output_type": "stream",
     "text": [
      "using ML type GB\n",
      "MAE train: 0.2144\n",
      "MAE test: 0.3618\n"
     ]
    }
   ],
   "source": [
    "type_ml_use = 'GB'\n",
    "reg, plot_title = model_choice(type_ml_use)\n",
    "mach_learn(x_train, x_test, y_train, y_test, reg, plot_title)"
   ]
  },
  {
   "cell_type": "code",
   "execution_count": 18,
   "id": "d3fae750-ff8d-43fb-b53d-d1fcb9ce7f70",
   "metadata": {
    "tags": []
   },
   "outputs": [
    {
     "name": "stdout",
     "output_type": "stream",
     "text": [
      "using ML type ANN\n",
      "MAE train: 0.2984\n",
      "MAE test: 0.4429\n"
     ]
    }
   ],
   "source": [
    "type_ml_use = 'ANN'\n",
    "reg, plot_title = model_choice(type_ml_use)\n",
    "mach_learn(x_train, x_test, y_train, y_test, reg, plot_title)"
   ]
  },
  {
   "cell_type": "code",
   "execution_count": 19,
   "id": "239c2f81-6aa3-48ae-86f6-5c879f6780be",
   "metadata": {
    "tags": []
   },
   "outputs": [],
   "source": [
    "def param_tuning(type_ml_use, reg):\n",
    "    if type_ml_use == 'linear':\n",
    "        param_grid = {\n",
    "            'fit_intercept': [True], \n",
    "            'alpha': [1e-5, 1e-4, 1e-3, 1e-2], \n",
    "            'l1_ratio': [0, 0.1, 0.5, 0.9, 1]\n",
    "        }\n",
    "        reg = linear_model.ElasticNet()\n",
    "\n",
    "    if type_ml_use=='KRR':\n",
    "        param_grid= {\n",
    "            \"alpha\": np.logspace(-4, 1, 20),\n",
    "            \"gamma\": np.logspace(-14, 0, 20), \n",
    "            \"kernel\": ['linear', 'laplacian', 'rbf']\n",
    "        }\n",
    "        reg = KernelRidge()\n",
    "\n",
    "    if type_ml_use=='GB':\n",
    "        param_grid = {\n",
    "            'n_estimators': [20, 200, 2000], \n",
    "            'learning_rate': [0.02, 0.05], \n",
    "            'max_depth': [1, 2, 3, 5], \n",
    "            'min_samples_leaf': [5, 10, 20], \n",
    "            'min_samples_split': [2, 5]\n",
    "        }\n",
    "        reg = GradientBoostingRegressor()\n",
    "\n",
    "    if type_ml_use=='RF':\n",
    "        param_grid = {\n",
    "            'max_depth': [None, 2, 3, 5, 10], \n",
    "            'max_features': ['auto','sqrt', 'log2'], \n",
    "            'n_estimators': [10, 20, 50, 100, 200],\n",
    "        }\n",
    "        reg = RandomForestRegressor()\n",
    "\n",
    "    if type_ml_use=='ANN':\n",
    "        param_grid = {\n",
    "            'learning_rate_init': [0.001, 0.002, 0.005, 0.01, 0.02, 0.05], \n",
    "            'hidden_layer_sizes': [[5], [10], [20], [50], [5]*2, [10]*2, [20]*2, [50]*2, [5]*3, [10]*3]\n",
    "        }\n",
    "        reg = MLPRegressor()\n",
    "\n",
    "    grid = GridSearchCV(reg, param_grid, cv=KFold(n_splits=5, shuffle=True, random_state=1), verbose=0)\n",
    "    grid.fit(x_train, y_train)\n",
    "    best_reg = grid.best_estimator_\n",
    "    print(type_ml_use, str(grid.best_params_))\n",
    "    # retrain on best hyperparameters\n",
    "    best_reg.fit(x_train, y_train)\n",
    "    # vypocitat novy MAE train, test po hyperparameter trainink\n",
    "    y_train_predict = best_reg.predict(x_train)\n",
    "    y_test_predict = best_reg.predict(x_test)\n",
    "    train_error = np.mean(np.abs(y_train_predict-y_train))\n",
    "    abs_error = np.abs(y_test_predict-y_test)\n",
    "    test_error = np.mean(abs_error)\n",
    "    print(f\"MAE train: {train_error:.4f}\")\n",
    "    print(f\"MAE test: {test_error:.4f}\")\n",
    "    \n",
    "    plot = plt.scatter(tanimoto_similarities, abs_error, edgecolors=None, c='b', alpha=0.2)\n",
    "    plt.xlabel('tanimoto similarities')\n",
    "    plt.ylabel('abs error')\n",
    "    plt.suptitle(f\"{plot_title}\")\n",
    "    #plt.savefig(os.path.join(project_results_graphs, plot_title))\n",
    "    plt.show()"
   ]
  },
  {
   "cell_type": "code",
   "execution_count": 20,
   "id": "56d699bd-3b9b-49ca-be5e-b6e000a065f4",
   "metadata": {
    "tags": []
   },
   "outputs": [],
   "source": [
    "def to_rdkit_fingerprint(fps):\n",
    "    rdkit_fingerprints = []\n",
    "    for prnt in fps:\n",
    "        bitstring = \"\".join(prnt.astype(str))\n",
    "        fp = DataStructs.cDataStructs.CreateFromBitString(bitstring)\n",
    "        rdkit_fingerprints.append(fp)\n",
    "    return rdkit_fingerprints"
   ]
  },
  {
   "cell_type": "code",
   "execution_count": 21,
   "id": "e117194a-bbe3-40bc-acc4-ee234053b132",
   "metadata": {},
   "outputs": [
    {
     "name": "stdout",
     "output_type": "stream",
     "text": [
      "[0.810126582278481, 0.40625, 0.5692307692307692, 0.9137931034482759, 0.5679012345679012, 0.8833333333333333, 0.8571428571428571, 0.9154929577464789, 0.9193548387096774, 1.0, 0.6052631578947368, 0.3888888888888889, 0.8529411764705882, 0.3684210526315789] length: 14\n"
     ]
    }
   ],
   "source": [
    "fps = to_rdkit_fingerprint(array_fingerprint_filtered_test)\n",
    "fp2s = to_rdkit_fingerprint(array_fingerprint_filtered_train)\n",
    "tanimoto_similarities = []\n",
    "for x in fps:\n",
    "    fpsx = []\n",
    "    for y in fp2s:\n",
    "        fpsx.append(DataStructs.TanimotoSimilarity(x,y))\n",
    "    max_tanimoto = max(fpsx)\n",
    "    tanimoto_similarities.append(max_tanimoto)\n",
    "print(tanimoto_similarities, f\"length: {len(tanimoto_similarities)}\")"
   ]
  },
  {
   "cell_type": "code",
   "execution_count": 22,
   "id": "89371e6e-cd66-442b-b048-71d0c2e2df53",
   "metadata": {
    "tags": []
   },
   "outputs": [
    {
     "name": "stdout",
     "output_type": "stream",
     "text": [
      "using ML type linear\n",
      "linear {'alpha': 0.01, 'fit_intercept': True, 'l1_ratio': 1}\n",
      "MAE train: 0.3531\n",
      "MAE test: 0.4430\n"
     ]
    },
    {
     "data": {
      "image/png": "[encoded data removed]",
      "text/plain": [
       "<Figure size 640x480 with 1 Axes>"
      ]
     },
     "metadata": {},
     "output_type": "display_data"
    }
   ],
   "source": [
    "type_ml_use = 'linear'\n",
    "reg, plot_title = model_choice(type_ml_use)\n",
    "param_tuning(type_ml_use, reg)"
   ]
  },
  {
   "cell_type": "code",
   "execution_count": 23,
   "id": "042ad3ad-8375-4ccc-9df7-3f84cfc7dbbf",
   "metadata": {
    "tags": []
   },
   "outputs": [
    {
     "name": "stdout",
     "output_type": "stream",
     "text": [
      "using ML type KRR\n",
      "KRR {'alpha': 10.0, 'gamma': 0.03359818286283774, 'kernel': 'laplacian'}\n",
      "MAE train: 0.4568\n",
      "MAE test: 0.3940\n"
     ]
    },
    {
     "data": {
      "image/png": "[encoded data removed]",
      "text/plain": [
       "<Figure size 640x480 with 1 Axes>"
      ]
     },
     "metadata": {},
     "output_type": "display_data"
    }
   ],
   "source": [
    "type_ml_use = 'KRR'\n",
    "reg, plot_title = model_choice(type_ml_use)\n",
    "param_tuning(type_ml_use, reg)"
   ]
  },
  {
   "cell_type": "code",
   "execution_count": 24,
   "id": "41b1c565-b7b7-485f-a598-81c55b07294d",
   "metadata": {
    "tags": []
   },
   "outputs": [
    {
     "name": "stdout",
     "output_type": "stream",
     "text": [
      "using ML type RF\n",
      "RF {'max_depth': 2, 'max_features': 'log2', 'n_estimators': 10}\n",
      "MAE train: 0.4656\n",
      "MAE test: 0.4178\n"
     ]
    },
    {
     "data": {
      "image/png": "[encoded data removed]",
      "text/plain": [
       "<Figure size 640x480 with 1 Axes>"
      ]
     },
     "metadata": {},
     "output_type": "display_data"
    }
   ],
   "source": [
    "type_ml_use = 'RF'\n",
    "reg, plot_title = model_choice(type_ml_use)\n",
    "param_tuning(type_ml_use, reg)"
   ]
  },
  {
   "cell_type": "code",
   "execution_count": 25,
   "id": "07c02a39-d5d1-45ba-a251-b12ea50fe5f8",
   "metadata": {
    "tags": []
   },
   "outputs": [
    {
     "name": "stdout",
     "output_type": "stream",
     "text": [
      "using ML type GB\n",
      "GB {'learning_rate': 0.05, 'max_depth': 1, 'min_samples_leaf': 20, 'min_samples_split': 2, 'n_estimators': 20}\n",
      "MAE train: 0.4758\n",
      "MAE test: 0.5178\n"
     ]
    },
    {
     "data": {
      "image/png": "[encoded data removed]",
      "text/plain": [
       "<Figure size 640x480 with 1 Axes>"
      ]
     },
     "metadata": {},
     "output_type": "display_data"
    }
   ],
   "source": [
    "type_ml_use = 'GB'\n",
    "reg, plot_title = model_choice(type_ml_use)\n",
    "param_tuning(type_ml_use, reg)"
   ]
  },
  {
   "cell_type": "code",
   "execution_count": 26,
   "id": "351de55d-7192-4e5d-841f-0ff77fff98d4",
   "metadata": {
    "tags": []
   },
   "outputs": [
    {
     "name": "stdout",
     "output_type": "stream",
     "text": [
      "using ML type ANN\n",
      "ANN {'hidden_layer_sizes': [5, 5, 5], 'learning_rate_init': 0.01}\n",
      "MAE train: 0.3517\n",
      "MAE test: 0.3500\n"
     ]
    },
    {
     "data": {
      "image/png": "[encoded data removed]",
      "text/plain": [
       "<Figure size 640x480 with 1 Axes>"
      ]
     },
     "metadata": {},
     "output_type": "display_data"
    }
   ],
   "source": [
    "type_ml_use = 'ANN'\n",
    "reg, plot_title = model_choice(type_ml_use)\n",
    "param_tuning(type_ml_use, reg)"
   ]
  },
  {
   "cell_type": "code",
   "execution_count": 27,
   "id": "fca98b75-d09b-45cf-8691-e19123b2fcca",
   "metadata": {},
   "outputs": [],
   "source": [
    "def mean_error(type_ml_use, reg):\n",
    "    if type_ml_use == 'linear':\n",
    "        param_grid = {'alpha': 0.01, 'fit_intercept': True, 'l1_ratio': 1}\n",
    "        reg = linear_model.ElasticNet()\n",
    "\n",
    "    if type_ml_use=='KRR':\n",
    "        param_grid= {'alpha': 10.0, 'gamma': 0.03359818286283774, 'kernel': 'laplacian'}\n",
    "        reg = KernelRidge()\n",
    "\n",
    "    if type_ml_use=='GB':\n",
    "        param_grid = {'learning_rate': 0.05, 'max_depth': 1, 'min_samples_leaf': 20, 'min_samples_split': 5, 'n_estimators': 20}\n",
    "        reg = GradientBoostingRegressor()\n",
    "\n",
    "    if type_ml_use=='RF':\n",
    "        param_grid = {'max_depth': 2, 'max_features': 'log2', 'n_estimators': 20}\n",
    "        reg = RandomForestRegressor()\n",
    "\n",
    "    if type_ml_use=='ANN':\n",
    "        param_grid = {'hidden_layer_sizes': [10], 'learning_rate_init': 0.05}\n",
    "        reg = MLPRegressor()\n",
    "\n",
    "    reg.fit(x_train, y_train)\n",
    "    # vypocitat novy MAE train, test po hyperparameter trainink\n",
    "    y_train_predict = reg.predict(x_train)\n",
    "    y_test_predict = reg.predict(x_test)\n",
    "    train_error = np.mean(np.abs(y_train_predict-y_train))\n",
    "    abs_error = np.abs(y_test_predict-y_test)\n",
    "    test_error = np.mean(abs_error)\n",
    "    \n",
    "    return y_test_predict"
   ]
  },
  {
   "cell_type": "code",
   "execution_count": 84,
   "id": "01b3985c-0e6f-46d9-9af7-7ae70e7ab370",
   "metadata": {},
   "outputs": [],
   "source": [
    "def model_choice_hyperparams_tuned(ml_type):\n",
    "    \n",
    "    if ml_type == 'linear':\n",
    "        reg = linear_model.ElasticNet(alpha = 0.01, fit_intercept = True, l1_ratio = 1)\n",
    "        plot_title = \"Linear\"\n",
    "        \n",
    "    if ml_type == 'KRR':\n",
    "        reg = KernelRidge(alpha = 10.0, gamma = 0.03359818286283774, kernel = \"laplacian\")\n",
    "        plot_title = \"Kernel ridge regressor\"\n",
    "        \n",
    "    if ml_type == 'RF':\n",
    "        reg = RandomForestRegressor(max_depth = 2, max_features = 'log2', n_estimators = 20)\n",
    "        plot_title = \"Random forest regressor\"\n",
    "        \n",
    "    if ml_type == 'GB':\n",
    "        reg = GradientBoostingRegressor(learning_rate = 0.05, max_depth = 1, min_samples_leaf = 20, min_samples_split = 5, n_estimators = 20)\n",
    "        plot_title = \"Gradient boosting regressor\"\n",
    "        \n",
    "    if ml_type == 'ANN':\n",
    "        reg = MLPRegressor(hidden_layer_sizes = [10], learning_rate_init = 0.05)\n",
    "        plot_title = \"Limited-memory BFGS\"\n",
    "    print(f\"using ML type {ml_type}\")\n",
    "    \n",
    "    return reg, plot_title"
   ]
  },
  {
   "cell_type": "code",
   "execution_count": 97,
   "id": "b2047b97-9e7b-4464-af12-e099ec327d00",
   "metadata": {},
   "outputs": [
    {
     "name": "stdout",
     "output_type": "stream",
     "text": [
      "using ML type linear\n",
      "average molecule error: [ 0.64177837  0.36274231  0.66675613  0.50701051  0.15372822  0.31402218\n",
      "  0.39132412  0.39482797  0.57262402  0.29250196  0.04648538  0.30610199\n",
      " -0.08350485 -0.14582205]\n",
      " standard deviation: [0.22881342 0.32885003 0.3715734  0.3227781  0.30280014]\n"
     ]
    }
   ],
   "source": [
    "reg, plot_title = model_choice_hyperparams_tuned(\"linear\")\n",
    "y_test_linear_final = []\n",
    "for i in range(5):\n",
    "    y_test_linear = mean_error(type_ml_use, reg)\n",
    "    y_test_linear_final.append(y_test_linear)\n",
    "mol_avg_error = np.average(y_test_linear_final, axis = 0)\n",
    "standard_deviation_linear = np.std(y_test_linear_final, axis = 1)\n",
    "print(f\"average molecule error: {mol_avg_error}\\n standard deviation: {standard_deviation_linear}\")"
   ]
  },
  {
   "cell_type": "code",
   "execution_count": 103,
   "id": "ff81203a-0014-4206-a790-f7834042235d",
   "metadata": {},
   "outputs": [
    {
     "name": "stdout",
     "output_type": "stream",
     "text": [
      "using ML type KRR\n",
      "average molecule error: [ 0.27407907  0.34421866  0.70177656  0.64225166 -0.00474538  0.32511005\n",
      "  0.42998738  0.35047526  0.5600155   0.29442673  0.11952533  0.15330847\n",
      "  0.17096946 -0.09179428]\n",
      " standard deviation: [0.22881342 0.32885003 0.3715734  0.3227781  0.30280014]\n"
     ]
    }
   ],
   "source": [
    "reg, plot_title = model_choice_hyperparams_tuned(\"KRR\")\n",
    "y_test_KRR_final = []\n",
    "for i in range(5):\n",
    "    y_test_KRR = mean_error(type_ml_use, reg)\n",
    "    y_test_KRR_final.append(y_test_KRR)\n",
    "mol_avg_error = np.average(y_test_KRR_final, axis = 0)\n",
    "standard_deviation_KRR = np.std(y_test_KRR_final, axis = 1)\n",
    "print(f\"average molecule error: {mol_avg_error}\\n standard deviation: {standard_deviation_linear}\")"
   ]
  },
  {
   "cell_type": "code",
   "execution_count": 104,
   "id": "1acc9b90-79a0-4704-a936-ed9cf7d07bb7",
   "metadata": {},
   "outputs": [
    {
     "name": "stdout",
     "output_type": "stream",
     "text": [
      "using ML type RF\n",
      "average molecule error: [ 0.38357841  0.50579196  0.46409576  0.55594415 -0.22277451  0.4008001\n",
      "  0.36570959  0.46091468  0.60190217  0.3174592  -0.22435071 -0.01824403\n",
      "  0.11701807  0.27921295]\n",
      " standard deviation: [0.22881342 0.32885003 0.3715734  0.3227781  0.30280014]\n"
     ]
    }
   ],
   "source": [
    "reg, plot_title = model_choice_hyperparams_tuned(\"RF\")\n",
    "y_test_RF_final = []\n",
    "for i in range(5):\n",
    "    y_test_RF = mean_error(type_ml_use, reg)\n",
    "    y_test_RF_final.append(y_test_RF)\n",
    "mol_avg_error = np.average(y_test_RF_final, axis = 0)\n",
    "standard_deviation_RF = np.std(y_test_RF_final, axis = 1)\n",
    "print(f\"average molecule error: {mol_avg_error}\\n standard deviation: {standard_deviation_linear}\")"
   ]
  },
  {
   "cell_type": "code",
   "execution_count": 106,
   "id": "55ec610d-2150-450e-a228-56b6ca6c9008",
   "metadata": {},
   "outputs": [
    {
     "name": "stdout",
     "output_type": "stream",
     "text": [
      "using ML type GB\n",
      "average molecule error: [ 0.31945982  0.25090459  0.56654226  0.49362285  0.04772355  0.34426161\n",
      "  0.41485186  0.2842524   0.49047316  0.21656982 -0.06152099  0.31073681\n",
      "  0.26334823 -0.04282957]\n",
      " standard deviation: [0.22881342 0.32885003 0.3715734  0.3227781  0.30280014]\n"
     ]
    }
   ],
   "source": [
    "reg, plot_title = model_choice_hyperparams_tuned(\"GB\")\n",
    "y_test_GB_final = []\n",
    "for i in range(5):\n",
    "    y_test_GB = mean_error(type_ml_use, reg)\n",
    "    y_test_GB_final.append(y_test_GB)\n",
    "mol_avg_error = np.average(y_test_GB_final, axis = 0)\n",
    "standard_deviation_GB = np.std(y_test_GB_final, axis = 1)\n",
    "print(f\"average molecule error: {mol_avg_error}\\n standard deviation: {standard_deviation_linear}\")"
   ]
  },
  {
   "cell_type": "code",
   "execution_count": 107,
   "id": "7b0bb6c3-0ee7-4243-8d42-c522e12a6abe",
   "metadata": {},
   "outputs": [
    {
     "name": "stdout",
     "output_type": "stream",
     "text": [
      "using ML type ANN\n",
      "average molecule error: [ 0.42015921  0.34441965  0.61760703  0.53869622  0.07347947  0.36410303\n",
      "  0.36312298  0.47657891  0.451975    0.30097196  0.16259462 -0.05105649\n",
      "  0.02309891 -0.11336281]\n",
      " standard deviation: [0.22881342 0.32885003 0.3715734  0.3227781  0.30280014]\n"
     ]
    }
   ],
   "source": [
    "reg, plot_title = model_choice_hyperparams_tuned(\"ANN\")\n",
    "y_test_ANN_final = []\n",
    "for i in range(5):\n",
    "    y_test_ANN = mean_error(type_ml_use, reg)\n",
    "    y_test_ANN_final.append(y_test_ANN)\n",
    "mol_avg_error = np.average(y_test_ANN_final, axis = 0)\n",
    "standard_deviation_ANN = np.std(y_test_ANN_final, axis = 1)\n",
    "print(f\"average molecule error: {mol_avg_error}\\n standard deviation: {standard_deviation_linear}\")"
   ]
  },
  {
   "cell_type": "code",
   "execution_count": null,
   "id": "f9b0aa57-ba1a-47be-9708-5beb359e98e8",
   "metadata": {},
   "outputs": [],
   "source": []
  }
 ],
 "metadata": {
  "kernelspec": {
   "display_name": "Python 3 (ipykernel)",
   "language": "python",
   "name": "python3"
  },
  "language_info": {
   "codemirror_mode": {
    "name": "ipython",
    "version": 3
   },
   "file_extension": ".py",
   "mimetype": "text/x-python",
   "name": "python",
   "nbconvert_exporter": "python",
   "pygments_lexer": "ipython3",
   "version": "3.11.2"
  }
 },
 "nbformat": 4,
 "nbformat_minor": 5
}
