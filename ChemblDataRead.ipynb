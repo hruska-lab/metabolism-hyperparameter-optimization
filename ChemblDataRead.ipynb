{
 "cells": [
  {
   "cell_type": "code",
   "execution_count": 64,
   "id": "c9008c0c-217a-4a82-8efa-1bdd0d28a545",
   "metadata": {},
   "outputs": [],
   "source": [
    "import pandas as pd\n",
    "import os\n",
    "from chembl_webresource_client.new_client import new_client\n",
    "from rdkit import Chem\n",
    "from rdkit.Chem import AllChem\n",
    "import numpy as np\n",
    "import matplotlib.pyplot as plt\n",
    "from sklearn.model_selection import train_test_split\n",
    "from sklearn.model_selection import KFold\n",
    "from sklearn.preprocessing import StandardScaler\n",
    "from sklearn.model_selection import GridSearchCV\n",
    "from sklearn import linear_model\n",
    "from sklearn.kernel_ridge import KernelRidge\n",
    "from sklearn.ensemble import RandomForestRegressor\n",
    "from sklearn.ensemble import GradientBoostingRegressor\n",
    "from sklearn.neural_network import MLPRegressor"
   ]
  },
  {
   "cell_type": "code",
   "execution_count": 65,
   "id": "230cfb56-2882-490c-a465-d3d816c4488f",
   "metadata": {},
   "outputs": [],
   "source": [
    "working_dir = os.getcwd()\n",
    "rel_path = r\"project_resources\\chembl_molekuly.csv\"\n",
    "molekuly_csv_abs_file_path = os.path.join(working_dir, rel_path)\n",
    "#loads csv file from directory"
   ]
  },
  {
   "cell_type": "code",
   "execution_count": 66,
   "id": "22e6b12d-890c-41ce-8611-9ea45d8466fb",
   "metadata": {
    "tags": []
   },
   "outputs": [],
   "source": [
    "#dir for useful stuff for the actual essay\n",
    "rel_path = r\"project_results\\graphs\"\n",
    "project_results_graphs = os.path.join(working_dir, rel_path)"
   ]
  },
  {
   "cell_type": "code",
   "execution_count": 67,
   "id": "82a36e01-be9c-49a6-b7b0-934efcb0fa8e",
   "metadata": {},
   "outputs": [
    {
     "name": "stderr",
     "output_type": "stream",
     "text": [
      "C:\\Users\\Lukas\\AppData\\Local\\Temp\\ipykernel_19880\\3345623085.py:1: DtypeWarning: Columns (32,33) have mixed types. Specify dtype option on import or set low_memory=False.\n",
      "  df = pd.read_csv(molekuly_csv_abs_file_path, sep=\";\")\n"
     ]
    }
   ],
   "source": [
    "df = pd.read_csv(molekuly_csv_abs_file_path, sep=\";\")\n",
    "#df.head()"
   ]
  },
  {
   "cell_type": "code",
   "execution_count": 68,
   "id": "c2a83bca-90dc-4410-b06f-4db5a1bbda05",
   "metadata": {},
   "outputs": [
    {
     "name": "stderr",
     "output_type": "stream",
     "text": [
      "C:\\Users\\Lukas\\AppData\\Local\\Temp\\ipykernel_19880\\4010148655.py:1: DtypeWarning: Columns (32,33) have mixed types. Specify dtype option on import or set low_memory=False.\n",
      "  df = pd.read_csv(molekuly_csv_abs_file_path, sep=\";\")\n"
     ]
    }
   ],
   "source": [
    "df = pd.read_csv(molekuly_csv_abs_file_path, sep=\";\")\n",
    "statistika = df[\"Standard Type\"].value_counts()\n",
    "#print(statistika)"
   ]
  },
  {
   "cell_type": "code",
   "execution_count": 69,
   "id": "5ee84a17-49ad-4617-843c-41927841b76f",
   "metadata": {},
   "outputs": [],
   "source": [
    "result = df[(df[\"Standard Type\"] == \"t1/2\") | (df[\"Standard Type\"] == \"T1/2\")]\n",
    "t_half_rel_path = r\"project_resources\\t_half.csv\"\n",
    "t_half_abs_path = os.path.join(working_dir, t_half_rel_path)\n",
    "result.to_csv(t_half_abs_path, index=False)\n",
    "#creates \"t_half.csv\" in current dir\n",
    "t_half = pd.read_csv(t_half_abs_path)\n",
    "#and then loads it"
   ]
  },
  {
   "cell_type": "code",
   "execution_count": 70,
   "id": "a03fd464-b202-464f-a838-23f065fd5321",
   "metadata": {},
   "outputs": [],
   "source": [
    "client = new_client\n",
    "list_smiles = []\n",
    "list_chembl_id = t_half[\"Molecule ChEMBL ID\"]\n",
    "for chembl_id in list_chembl_id:\n",
    "    molecule = client.molecule\n",
    "    compound = molecule.filter(chembl_id=chembl_id)[0]\n",
    "    list_smiles.append(compound['molecule_structures'][\"canonical_smiles\"])\n",
    "#print(list_smiles)"
   ]
  },
  {
   "cell_type": "code",
   "execution_count": 71,
   "id": "bfc42489-f029-4853-b650-11ee4e53fcaf",
   "metadata": {},
   "outputs": [],
   "source": [
    "#takes a list of smiles strings,output is a corresponding Morgan fingerprint as a list\n",
    "list_fingerprint = []\n",
    "for smi in list_smiles:\n",
    "    mol = Chem.MolFromSmiles(smi)\n",
    "    fingerprint = AllChem.GetMorganFingerprintAsBitVect(mol, useChirality=True, radius=2, nBits = 124)\n",
    "    vector = np.array(fingerprint)\n",
    "    list_fingerprint.append(vector)\n",
    "    #print(list_fingerprint)"
   ]
  },
  {
   "cell_type": "code",
   "execution_count": 72,
   "id": "2f7402de-3f69-4d8d-99c8-64d54df3dd1c",
   "metadata": {},
   "outputs": [
    {
     "data": {
      "text/plain": [
       "(74, 124)"
      ]
     },
     "execution_count": 72,
     "metadata": {},
     "output_type": "execute_result"
    }
   ],
   "source": [
    "array_fingerprint = np.array(list_fingerprint)\n",
    "array_fingerprint.shape"
   ]
  },
  {
   "cell_type": "code",
   "execution_count": 73,
   "id": "794dede9-dc7a-4435-9117-44f0bdcc20fb",
   "metadata": {},
   "outputs": [
    {
     "data": {
      "text/plain": [
       "(74,)"
      ]
     },
     "execution_count": 73,
     "metadata": {},
     "output_type": "execute_result"
    }
   ],
   "source": [
    "t_half = t_half['Standard Value']\n",
    "t_half.shape"
   ]
  },
  {
   "cell_type": "code",
   "execution_count": 74,
   "id": "62c6473c-1a55-4f15-90a5-f3cf548099d6",
   "metadata": {},
   "outputs": [
    {
     "data": {
      "text/plain": [
       "(70,)"
      ]
     },
     "execution_count": 74,
     "metadata": {},
     "output_type": "execute_result"
    }
   ],
   "source": [
    "t_filtered = t_half[t_half>0]\n",
    "t_filtered.shape"
   ]
  },
  {
   "cell_type": "code",
   "execution_count": 75,
   "id": "4c364ae3-820e-4acf-8ae5-ee8135274e42",
   "metadata": {},
   "outputs": [
    {
     "name": "stdout",
     "output_type": "stream",
     "text": [
      "(56, 124) (14, 124) (56,) (14,)\n"
     ]
    }
   ],
   "source": [
    "t_half = t_half.astype(float)\n",
    "t_filtered = t_half[t_half>0]\n",
    "array_fingerprint_filtered = array_fingerprint[t_half>0]\n",
    "# x su len fingerprint ako jeden numpy array,\n",
    "# y su len t_half hodnoty ako jeden numpy array, pouzit len molekuly kde existuje aj X aj y hodnota\n",
    "x = array_fingerprint_filtered\n",
    "y = t_filtered\n",
    "x_train, x_test, y_train, y_test = train_test_split(x, y, test_size=0.2, random_state=42)\n",
    "\n",
    "print(x_train.shape, x_test.shape, y_train.shape, y_test.shape)"
   ]
  },
  {
   "cell_type": "code",
   "execution_count": 76,
   "id": "0380749d-40f0-4949-9aa3-0aeb7eb2a525",
   "metadata": {
    "tags": []
   },
   "outputs": [],
   "source": [
    "def model_choice(ml_type):\n",
    "    \n",
    "    if ml_type == 'linear':\n",
    "        reg = linear_model.ElasticNet(alpha=0.001, l1_ratio=1)\n",
    "        plot_title = \"Linear\"\n",
    "        \n",
    "    if ml_type == 'KRR':\n",
    "        reg = KernelRidge(alpha=0.1)\n",
    "        plot_title = \"Kernel ridge regressor\"\n",
    "        \n",
    "    if ml_type == 'RF':\n",
    "        reg = RandomForestRegressor(max_depth=None, random_state=0)\n",
    "        plot_title = \"Random forest regressor\"\n",
    "        \n",
    "    if ml_type == 'GB':\n",
    "        reg = GradientBoostingRegressor(random_state=1, loss='absolute_error', max_depth=5, n_estimators=1000)\n",
    "        plot_title = \"Gradient boosting regressor\"\n",
    "        \n",
    "    if ml_type == 'ANN':\n",
    "        reg = MLPRegressor(random_state=1, max_iter=5000, learning_rate_init=0.001, alpha=0, hidden_layer_sizes=[10,10])\n",
    "        plot_title = \"Limited-memory BFGS\"\n",
    "    print(f\"using ML type {ml_type}\")\n",
    "    \n",
    "    return reg, plot_title"
   ]
  },
  {
   "cell_type": "code",
   "execution_count": 77,
   "id": "53d0f862-d81e-41a0-9862-f1880eaa7eb8",
   "metadata": {},
   "outputs": [],
   "source": [
    "def mach_learn(x_train, x_test, y_train, y_test, reg, plot_title):\n",
    "    # výcvik strojoveho modelu\n",
    "    reg = reg.fit(x_train, y_train)\n",
    "    # predict training set\n",
    "    y_train_predict = reg.predict(x_train)\n",
    "    # predict test set\n",
    "    y_test_predict = reg.predict(x_test)\n",
    "    #error train je pre info, test je dolezita\n",
    "    train_error = np.mean(np.abs(y_train_predict-y_train))\n",
    "    test_error = np.mean(np.abs(y_test_predict-y_test))\n",
    "    print(f\"MAE train: {train_error:.4f}\")\n",
    "    print(f\"MAE test: {test_error:.4f}\")\n",
    "\n",
    "    # idealne data na diagonale\n",
    "    diag = np.linspace(-1, 3.5)\n",
    "\n",
    "    #plot = plt.scatter(y_test,y_test_predict,edgecolors=None,c='b',alpha=0.2)\n",
    "    #plt.plot(diag, diag, linestyle='dotted')\n",
    "    #plt.xlim(-1, 3.5)\n",
    "    #plt.ylim(-1, 3.5)\n",
    "    #plt.ylabel('$t_{1/2}$ (predicted)')\n",
    "    #plt.xlabel('$t_{1/2}$ (real)')\n",
    "    #plt.suptitle(f\"{plot_title}\")\n",
    "    #plt.savefig(os.path.join(project_results_graphs, plot_title))\n",
    "    #plt.show()"
   ]
  },
  {
   "cell_type": "code",
   "execution_count": 78,
   "id": "d55f5373-3b86-42ca-955f-7d52cdcb21e7",
   "metadata": {
    "tags": []
   },
   "outputs": [
    {
     "name": "stdout",
     "output_type": "stream",
     "text": [
      "using ML type linear\n",
      "MAE train: 0.2470\n",
      "MAE test: 0.7197\n"
     ]
    },
    {
     "name": "stderr",
     "output_type": "stream",
     "text": [
      "C:\\Users\\Lukas\\anaconda3\\envs\\soc\\Lib\\site-packages\\sklearn\\linear_model\\_coordinate_descent.py:631: ConvergenceWarning: Objective did not converge. You might want to increase the number of iterations, check the scale of the features or consider increasing regularisation. Duality gap: 1.672e-02, tolerance: 6.966e-03\n",
      "  model = cd_fast.enet_coordinate_descent(\n"
     ]
    }
   ],
   "source": [
    "# opakovat pre rozne strojove metody, porovnan chyby\n",
    "#to display graphs, un-comment all rows in previous cell starting with plot or plt\n",
    "type_ml_use = 'linear'\n",
    "reg, plot_title = model_choice(type_ml_use)\n",
    "mach_learn(x_train, x_test, y_train, y_test, reg, plot_title)"
   ]
  },
  {
   "cell_type": "code",
   "execution_count": 79,
   "id": "4572ebae-234d-4f2d-a99b-dcc6ab26380d",
   "metadata": {},
   "outputs": [
    {
     "name": "stdout",
     "output_type": "stream",
     "text": [
      "using ML type KRR\n",
      "MAE train: 0.2274\n",
      "MAE test: 0.6352\n"
     ]
    }
   ],
   "source": [
    "type_ml_use = 'KRR'\n",
    "reg, plot_title = model_choice(type_ml_use)\n",
    "mach_learn(x_train, x_test, y_train, y_test, reg, plot_title)"
   ]
  },
  {
   "cell_type": "code",
   "execution_count": 80,
   "id": "412725f3-85b9-4fe5-b2c1-d7dc5b7e173e",
   "metadata": {},
   "outputs": [
    {
     "name": "stdout",
     "output_type": "stream",
     "text": [
      "using ML type RF\n",
      "MAE train: 0.3392\n",
      "MAE test: 0.5554\n"
     ]
    }
   ],
   "source": [
    "type_ml_use = 'RF'\n",
    "reg, plot_title = model_choice(type_ml_use)\n",
    "mach_learn(x_train, x_test, y_train, y_test, reg, plot_title)"
   ]
  },
  {
   "cell_type": "code",
   "execution_count": 81,
   "id": "2975c8d4-a403-49ff-b40c-ef8ea3626077",
   "metadata": {},
   "outputs": [
    {
     "name": "stdout",
     "output_type": "stream",
     "text": [
      "using ML type GB\n",
      "MAE train: 0.2144\n",
      "MAE test: 0.3618\n"
     ]
    }
   ],
   "source": [
    "type_ml_use = 'GB'\n",
    "reg, plot_title = model_choice(type_ml_use)\n",
    "mach_learn(x_train, x_test, y_train, y_test, reg, plot_title)"
   ]
  },
  {
   "cell_type": "code",
   "execution_count": 82,
   "id": "d3fae750-ff8d-43fb-b53d-d1fcb9ce7f70",
   "metadata": {},
   "outputs": [
    {
     "name": "stdout",
     "output_type": "stream",
     "text": [
      "using ML type ANN\n",
      "MAE train: 0.2984\n",
      "MAE test: 0.4429\n"
     ]
    }
   ],
   "source": [
    "type_ml_use = 'ANN'\n",
    "reg, plot_title = model_choice(type_ml_use)\n",
    "mach_learn(x_train, x_test, y_train, y_test, reg, plot_title)"
   ]
  },
  {
   "cell_type": "code",
   "execution_count": null,
   "id": "239c2f81-6aa3-48ae-86f6-5c879f6780be",
   "metadata": {},
   "outputs": [],
   "source": []
  }
 ],
 "metadata": {
  "kernelspec": {
   "display_name": "Python 3 (ipykernel)",
   "language": "python",
   "name": "python3"
  },
  "language_info": {
   "codemirror_mode": {
    "name": "ipython",
    "version": 3
   },
   "file_extension": ".py",
   "mimetype": "text/x-python",
   "name": "python",
   "nbconvert_exporter": "python",
   "pygments_lexer": "ipython3",
   "version": "3.11.2"
  }
 },
 "nbformat": 4,
 "nbformat_minor": 5
}
