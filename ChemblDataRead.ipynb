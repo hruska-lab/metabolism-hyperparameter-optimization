{
 "cells": [
  {
   "cell_type": "code",
   "execution_count": null,
   "id": "c9008c0c-217a-4a82-8efa-1bdd0d28a545",
   "metadata": {},
   "outputs": [],
   "source": [
    "import pandas as pd\n",
    "import os\n",
    "from rdkit import Chem\n",
    "from rdkit.Chem import AllChem\n",
    "from rdkit.Chem.Draw import IPythonConsole\n",
    "import numpy as np"
   ]
  },
  {
   "cell_type": "code",
   "execution_count": null,
   "id": "230cfb56-2882-490c-a465-d3d816c4488f",
   "metadata": {},
   "outputs": [],
   "source": [
    "working_dir = os.getcwd()\n",
    "rel_path = r\"project_resources\\chembl_molekuly.csv\"\n",
    "abs_file_path = os.path.join(working_dir, rel_path)\n",
    "#loads csv file from directory"
   ]
  },
  {
   "cell_type": "code",
   "execution_count": null,
   "id": "82a36e01-be9c-49a6-b7b0-934efcb0fa8e",
   "metadata": {},
   "outputs": [],
   "source": [
    "df = pd.read_csv(abs_file_path, sep=\";\")\n",
    "df.head()"
   ]
  },
  {
   "cell_type": "code",
   "execution_count": null,
   "id": "c2a83bca-90dc-4410-b06f-4db5a1bbda05",
   "metadata": {},
   "outputs": [],
   "source": [
    "import pandas as pd\n",
    "df = pd.read_csv(abs_file_path, sep=\";\")\n",
    "statistika = df[\"Standard Type\"].value_counts()\n",
    "print(statistika)"
   ]
  },
  {
   "cell_type": "code",
   "execution_count": null,
   "id": "5ee84a17-49ad-4617-843c-41927841b76f",
   "metadata": {},
   "outputs": [],
   "source": [
    "result = df[(df[\"Standard Type\"] == \"t1/2\") | (df[\"Standard Type\"] == \"T1/2\")]\n",
    "t_half_rel_path = r\"project_resources\\t_half.csv\"\n",
    "t_half_abs_path = os.path.join(working_dir, t_half_rel_path)\n",
    "result.to_csv(t_half_abs_path, index=False)\n",
    "#creates \"t_half.csv\" in current dir\n",
    "t_half = pd.read_csv(t_half_abs_path)\n",
    "#and then loads it"
   ]
  },
  {
   "cell_type": "code",
   "execution_count": null,
   "id": "2794655b-b38e-4940-bf82-bd90b5502b4e",
   "metadata": {},
   "outputs": [],
   "source": [
    "from chembl_webresource_client.new_client import new_client\n",
    "\n",
    "client = new_client\n",
    "\n",
    "#Specify the Chembl ID you want to convert\n",
    "chembl_id = \"CHEMBL1215730\"\n",
    "\n",
    "#molecule=new_client.molecule\n",
    "\n",
    "#Use the client to retrieve the compound information\n",
    "compound = new_client.molecule.filter(chembl_id=chembl_id)[0]\n",
    "\n",
    "#Extract the SMILES string from the compound information\n",
    "smiles = compound[\"molecule_structures\"][\"canonical_smiles\"]\n",
    "\n",
    "#Print the SMILES string\n",
    "print(smiles)"
   ]
  },
  {
   "cell_type": "code",
   "execution_count": null,
   "id": "f2c5b594-456d-4d2e-ab5f-0541fe9f63ad",
   "metadata": {},
   "outputs": [],
   "source": [
    "#Get the calculated properties of the compound\n",
    "calculated_properties = compound['molecule_properties']\n",
    "\n",
    "#Print out the calculated properties\n",
    "for prop in calculated_properties: \n",
    "    print(prop, compound['molecule_properties'][prop])"
   ]
  },
  {
   "cell_type": "code",
   "execution_count": 42,
   "id": "a03fd464-b202-464f-a838-23f065fd5321",
   "metadata": {},
   "outputs": [
    {
     "name": "stdout",
     "output_type": "stream",
     "text": [
      "['COc1ccc2[nH]cc(CCNC(C)=O)c2c1', 'C[C@@H]1CN(CC(=O)N2CC(C)(C)c3nnc(Cc4ccc(F)cc4F)cc32)[C@@H](CN2Cc3c(F)cccc3C2=O)CN1', 'O=c1[nH]c2ccccc2n1C1CCN(CCCC(c2ccc(F)cc2)c2ccc(F)cc2)CC1', 'C[C@@H]1CN(CC(=O)N2CC(C)(C)c3ncc([C@@H](O)c4ccc(F)cc4)cc32)[C@@H](CN2[C@H](C)COC[C@H]2C)CN1', 'C[C@@H]1CN(CC(=O)N2CC(C)(C)c3ncc(Cc4ccc(F)cc4)cc32)[C@@H](CN2Cc3ccccc3C2=O)CN1', 'C[C@@H]1CN(CC(=O)N2CC(C)(C)c3ncc(Cc4ccc(F)cc4)cc32)[C@@H](CN2[C@H](C)COC[C@@H]2C)CN1', 'CCC(=O)NCC[C@@H]1CCc2ccc3c(c21)CCO3', 'C[C@@H]1CN(CC(=O)N2CC(C)(C)c3ncc(Cc4ccc(F)cc4)cc32)[C@@H](CN2[C@H](C)COC[C@H]2C)CN1', 'COc1cc(N)c(Cl)cc1C(=O)NC1CCN(CCCOc2ccc(F)cc2)CC1OC', 'CC(C)O[P@@]1(=O)OC[C@H]2O[C@@H](n3ccc(=O)[nH]c3=O)[C@@]3(CCO3)[C@@H]2O1', 'CCS(=O)(=O)c1ccc2oc(-c3ccc4ccccc4c3)nc2c1', 'CC1=C(C)C(=O)N(C[C@H]2CN[C@H](C)CN2CC(=O)N2CC(C)(C)c3ncc(Cc4ccc(F)cc4)cc32)C1', 'C[C@@H]1CN(CC(=O)N2CC(C)(C)c3nnc(Cc4ccc(F)cc4F)cc32)[C@@H](CN2Cc3ccccc3C2=O)CN1', '[2H]C([2H])(O)C1(C([2H])([2H])O[C@]2(c3ccc(Cl)cc3)c3c(F)cc(C(C)(C)O)cc3C(=O)N2Cc2ccc(Cl)cn2)CC1', 'C[C@@H]1CN(CC(=O)N2CC(C)(C)c3nnc(Cc4ccc(F)cc4F)cc32)[C@@H](CN2Cc3cc(F)ccc3C2=O)CN1', 'C[C@@H]1CN(CC(=O)N2CC(C)(C)c3ncc(Cc4ccc(F)cc4)cc32)[C@@H](CN2C[C@@H](C)OCC2=O)CN1', 'C[C@@H]1CN(CC(=O)N2CC(C)(C)c3nnc(Cc4ccc(F)cc4F)cc32)[C@@H](CN2Cc3ccc(C#N)cc3C2=O)CN1', 'C[C@@H]1CN(CC(=O)N2CC(C)(C)c3nnc(Cc4ccc(F)cc4F)cc32)[C@@H](CN2Cc3ccc(F)cc3C2=O)CN1', 'COc1ccc(CCN2CCC(Nc3nc4ccccc4n3Cc3ccc(F)cc3)CC2)cc1', 'C[C@@H]1CN(CC(=O)N2CC(C)(C)c3ncc(Cc4ccc(F)cc4)cc32)[C@@H](CN2CCOC[C@H]2C)CN1', 'C[C@@H]1CN(CC(=O)N2CC(C)(C)c3nnc(Cc4ccc(F)cc4)cc32)[C@@H](CN2Cc3ccccc3C2=O)CN1', 'C[C@@H]1CN(CC(=O)N2CC(C)(C)c3nnc(Cc4ccc(F)cc4F)cc32)[C@@H](CN2Cc3cc(C#N)ccc3C2=O)CN1', 'C[C@@H]1CN(CC(=O)N2CC(C)(C)c3[nH]c(=O)c(Cc4ccc(F)cc4)cc32)[C@@H](CN2[C@H](C)COC[C@H]2C)CN1', 'Cc1ncsc1-c1ccc([C@H](CC(=O)NCCCCCCNC(=O)COc2c(-c3csc(N4CCOCC4)n3)ccc(F)c2F)NC(=O)[C@@H]2C[C@@H](O)CN2C(=O)[C@@H](NC(=O)C2(F)CC2)C(C)(C)C)cc1', 'CC(C)(O)c1cc(F)c2c(c1)C(=O)N(Cc1ccc(Cl)cn1)[C@@]2(OCC1(O)CC1)c1ccc(Cl)cc1', 'O=C(NC1CCN(CCc2c[nH]c3ccccc23)CC1)c1ccccc1', 'O=C(CCCN1CCC(n2c(=O)[nH]c3ccccc32)CC1)c1ccc(F)cc1', 'CC(C)(O)c1ccc2c(c1)C(=O)N(Cc1ccc(Cl)cc1)[C@@]2(OCC1(CO)CC1)c1ccc(Cl)cc1', 'CC(C)(O)c1cc(F)c2c(c1)C(=O)N(Cc1ccc(Cl)cn1)[C@@]2(OCC1(C(N)=O)CC1)c1ccc(Cl)cc1', 'O=C1CCC(N2C(=O)c3cccc(NCCOCCOCCNC(=O)c4ccc5c(c4)nc(Nc4cccc(Cl)c4)c4ccncc45)c3C2=O)C(=O)N1', 'COc1cccc([C@@H](CO)NC(=O)[C@@H](C)N2Cc3ccc(-c4nc(NC5CCOCC5)ncc4Cl)cc3C2=O)c1', '[2H]C([2H])(O)C1(C([2H])([2H])O[C@]2(c3ccc(Cl)cc3)c3c(F)cc(C(C)(C)O)cc3C(=O)N2Cc2ccc(Cl)cn2)CC1', 'O=C(COc1c(-c2csc(N3CCOCC3)n2)ccc(F)c1F)NCCOCCOCCNc1cccc2c1C(=O)N(C1CCC(=O)NC1=O)C2=O', 'COc1cc(F)cc([C@H](NC(=O)CN2Cc3ccc(-c4nc(NC5CCOCC5)ncc4Cl)cc3C2=O)C(C)O)c1', 'COc1cc(F)cc([C@@H](CO)NC(=O)[C@@H](C)N2Cc3ccc(-c4nc(Nc5ccnn5C)ncc4Cl)cc3C2=O)c1', 'CC1(C)O[C@@H]2C[C@H]3[C@@H]4CCC5=CC(=O)C=C[C@]5(C)[C@@]4(F)[C@@H](O)C[C@]3(C)[C@]2(C(=O)CO)O1', 'CC(C)(O)c1cc(F)c2c(c1)C(=O)N(Cc1ccc(C#N)cn1)[C@@]2(OCC1(CO)CC1)c1ccc(Cl)cc1', 'CC(C)(O)c1cc(F)c2c(c1)C(=O)N(Cc1ccc(Cl)cn1)[C@@]2(OCC1(C(N)=O)CC1)c1ccc(Cl)cc1', 'COc1cc(F)cc([C@@H](CO)NC(=O)[C@@H](C)N2Cc3ccc(-c4ccnc(NC5CCOCC5)n4)cc3C2=O)c1', 'COc1cc(F)cc([C@@H](CO)NC(=O)[C@@H](C)N2Cc3ccc(-c4nc(Nc5ccnc(OC)c5)ncc4Cl)cc3C2=O)c1', 'Cc1ncsc1-c1ccc([C@H](C)NC(=O)[C@@H]2C[C@@H](O)CN2C(=O)[C@@H](NC(=O)CCCCCCNC(=O)COc2c(-c3csc(N4CCOCC4)n3)ccc(F)c2F)C(C)(C)C)cc1', 'CCCC1O[C@@H]2C[C@H]3[C@@H]4CCC5=CC(=O)C=C[C@]5(C)[C@H]4[C@@H](O)C[C@]3(C)[C@]2(C(=O)CO)O1', 'C[C@@H]1CN(CC(=O)N2CC(C)(C)c3nc(CO)c(Cc4ccc(F)cc4)cc32)[C@@H](CN2CCOC[C@H]2C)CN1', 'C[C@@H]1CN(CC(=O)N2CC(C)(C)c3ncc([C@H](O)c4ccc(F)cc4)cc32)[C@@H](CN2[C@H](C)COC[C@H]2C)CN1', 'O=c1[nH]c2ccccc2n1CCCN1CCC(n2c(=O)[nH]c3cc(Cl)ccc32)CC1', 'COc1cc(F)cc([C@@H](CO)NC(=O)[C@@H](C)N2Cc3ccc(-c4nc(NC5COC5)ncc4Cl)cc3C2=O)c1', 'CC(C)N1CCC(N(C(=O)Cc2ccccc2)c2ccc(Cl)cc2)CC1', 'C[C@@H]1CN(CC(=O)N2CC(C)(C)c3nc(CO)c(Cc4ccc(F)cc4)cc32)[C@@H](CN2[C@H](C)COC[C@H]2C)CN1', 'C[C@@H]1CN(CC(=O)N2CC(C)(C)c3ncc(Cc4ccc(F)cc4)cc32)[C@@H](CN2C[C@@H](C)OC[C@H]2C)CN1', 'CCOc1nc(N)nc2c1ncn2[C@@H]1O[C@@H]2CO[P@](=O)(OC(C)C)O[C@H]2[C@@]1(C)F', 'C[C@@H]1CN(CC(=O)N2CC(C)(C)c3ncc(Cc4ccc(F)cc4O)cc32)[C@@H](CN2[C@H](C)COC[C@H]2C)CN1', 'COc1cc(N)c(Cl)cc1C(=O)NC1CCN(Cc2ccccc2)CC1', 'CC1(C)O[C@@H]2C[C@H]3[C@@H]4C[C@H](F)C5=CC(=O)C=C[C@]5(C)[C@H]4[C@@H](O)C[C@]3(C)[C@]2(C(=O)CO)O1', 'CCC(=O)O[C@]1(C(=O)SCF)[C@H](C)C[C@H]2[C@@H]3C[C@H](F)C4=CC(=O)C=C[C@]4(C)[C@@]3(F)[C@@H](O)C[C@@]21C', 'Cc1cccc([C@@H](CO)NC(=O)CN2Cc3ccc(-c4nc(NC5CCOCC5)ncc4Cl)cc3C2=O)c1', 'Cc1sc2c(c1C)C(c1ccc(Cl)cc1)=N[C@@H](CC(=O)NCCOCCOCCNc1cccc3c1C(=O)N(C1CCC(=O)NC1=O)C3=O)c1nnc(C)n1-2', 'C[C@@H]1CN(CC(=O)N2CC(C)(C)c3c2cc(Cc2ccc(F)cc2)c(=O)n3C)[C@@H](CN2[C@H](C)COC[C@H]2C)CN1', 'Cc1cccc([C@@H](CO)NC(=O)[C@@H](C)N2Cc3ccc(-c4nc(NC5CCOCC5)ncc4Cl)cc3C2=O)c1', 'O=C(COc1c(-c2csc(N3CCOCC3)n2)ccc(F)c1F)NCCCCCCNc1cccc2c1C(=O)N(C1CCC(=O)NC1=O)C2=O', '[2H]C([2H])(O)C1(C([2H])([2H])O[C@]2(c3ccc(Cl)cc3)c3ccc(C(C)(C)O)cc3C(=O)N2Cc2ccc(Cl)cc2)CC1', 'COc1cc(F)cc([C@@H](CO)NC(=O)[C@@H](C)N2Cc3ccc(-c4nc(N[C@@H](C)CO)ncc4Cl)cc3C2=O)c1', 'C[C@H](C(=O)N[C@H](CO)c1cc(F)cc(F)c1)N1Cc2ccc(-c3nc(NC4CCOCC4)ncc3Cl)cc2C1=O', 'C[C@@H]1CN(CC(=O)N2CC(C)(C)c3cc(=O)n(Cc4ccc(F)cc4)cc32)[C@@H](CN2[C@H](C)COC[C@H]2C)CN1', 'COc1cc(F)cc([C@@H](CO)NC(=O)CN2C(=O)c3cc(-c4nc(NC5CCOCC5)ncc4Cl)ccc3[C@H]2C)c1', 'COc1cc([C@@H](CO)NC(=O)[C@@H](C)N2Cc3ccc(-c4nc(NC5CCOCC5)ncc4Cl)cc3C2=O)ccn1', 'CN(c1nc2ccccc2s1)C1CCN(CC(O)COc2ccc(F)cc2)CC1', 'CC(C)(O)c1cc(F)c2c(c1)C(=O)N(Cc1ccc(Cl)cn1)[C@@]2(OCC1(O)CC1)c1ccc(Cl)cc1', 'C[C@H](C(=O)N[C@H](CO)c1cc(F)cc(OCCN(C)C)c1)N1Cc2ccc(-c3nc(NC4CCOCC4)ncc3Cl)cc2C1=O', '[2H]C([2H])(O)C1(C([2H])([2H])O[C@]2(c3ccc(Cl)cc3)c3c(F)cc(C(C)(C)O)cc3C(=O)N2Cc2ccc(C#N)cn2)CC1', 'O=C(CN1Cc2ccc(-c3nc(NC4CCOCC4)ncc3Cl)cc2C1=O)N1CCc2ccccc2CC1', 'COc1cc(F)cc([C@@H](CO)NC(=O)[C@@H](C)N2Cc3ccc(-c4nc(NC5CCOCC5)ncc4Cl)cc3C2=O)c1', 'C[C@H](C(=O)N[C@H](CO)c1cccc(N2CCN(C)CC2)n1)N1Cc2ccc(-c3nc(NC4CCOCC4)ncc3Cl)cc2C1=O', 'COc1cc(F)cc([C@@H](CO)NC(=O)[C@@H](C)N2Cc3ccc(-c4nc(Nc5cnn(C)n5)ncc4Cl)cc3C2=O)c1', 'COc1cc(F)cc([C@@H](CO)NC(=O)[C@@H](C)N2Cc3ncc(-c4nc(NC5CCOCC5)ncc4Cl)cc3C2=O)c1']\n"
     ]
    }
   ],
   "source": [
    "list_smiles = []\n",
    "list_chembl_id = t_half[\"Molecule ChEMBL ID\"]\n",
    "for chembl_id in list_chembl_id:\n",
    "    molecule = client.molecule\n",
    "    compound = molecule.filter(chembl_id=chembl_id)[0]\n",
    "    list_smiles.append(compound['molecule_structures'][\"canonical_smiles\"])\n",
    "print(list_smiles)"
   ]
  },
  {
   "cell_type": "code",
   "execution_count": null,
   "id": "bfc42489-f029-4853-b650-11ee4e53fcaf",
   "metadata": {},
   "outputs": [],
   "source": [
    "#takes a list of smiles strings,output is a corresponding Morgan fingerprint as a list\n",
    "for smi in list_smiles:\n",
    "    mol = Chem.MolFromSmiles(smi)\n",
    "    fingerprint = AllChem.GetMorganFingerprintAsBitVect(mol, useChirality=True, radius=2, nBits = 124)\n",
    "    vector = np.array(fingerprint)\n",
    "    print(vector)"
   ]
  },
  {
   "cell_type": "code",
   "execution_count": 46,
   "id": "bd9a630f-a7eb-4703-b6f3-78ae663d792a",
   "metadata": {},
   "outputs": [],
   "source": [
    "for smi in list_smiles:\n",
    "    Chem.MolFromSmiles(smi)"
   ]
  },
  {
   "cell_type": "code",
   "execution_count": null,
   "id": "a729cde6-f187-4543-9cfe-cd0074b91834",
   "metadata": {},
   "outputs": [],
   "source": [
    "for x in range(3):\n",
    "    Chem.MolFromSmiles(list_smiles[x])"
   ]
  },
  {
   "cell_type": "code",
   "execution_count": null,
   "id": "352982c7-fe8f-4bd9-927d-9a60d16bb0d6",
   "metadata": {},
   "outputs": [],
   "source": [
    "Chem.MolFromSmiles('C[C@H](C(=O)N[C@H](CO)c1cccc(N2CCN(C)CC2)n1)N1Cc2ccc(-c3nc(NC4CCOCC4)ncc3Cl)cc2C1=O')"
   ]
  },
  {
   "cell_type": "code",
   "execution_count": null,
   "id": "cd055786-8901-45d0-b21a-daca8b3c1430",
   "metadata": {},
   "outputs": [],
   "source": []
  }
 ],
 "metadata": {
  "kernelspec": {
   "display_name": "Python 3 (ipykernel)",
   "language": "python",
   "name": "python3"
  },
  "language_info": {
   "codemirror_mode": {
    "name": "ipython",
    "version": 3
   },
   "file_extension": ".py",
   "mimetype": "text/x-python",
   "name": "python",
   "nbconvert_exporter": "python",
   "pygments_lexer": "ipython3",
   "version": "3.11.2"
  }
 },
 "nbformat": 4,
 "nbformat_minor": 5
}
