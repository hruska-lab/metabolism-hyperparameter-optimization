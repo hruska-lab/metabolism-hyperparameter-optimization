{
 "cells": [
  {
   "cell_type": "code",
   "execution_count": 11,
   "id": "928fcb1c-4e77-4ad4-b7ea-e35729e2810a",
   "metadata": {},
   "outputs": [],
   "source": [
    "from jazzy.api import molecular_vector_from_smiles\n",
    "import pandas as pd\n",
    "import numpy as np"
   ]
  },
  {
   "cell_type": "code",
   "execution_count": 2,
   "id": "76331bd0-79ba-4753-8bf6-1c064c9f10bc",
   "metadata": {},
   "outputs": [],
   "source": [
    "isozymes = [\"3A4\", \"RLM\", \"HLC\"]\n",
    "rel_paths = {\n",
    "    \"3A4_source\": r\"project_resources/ChEMBL_3A4.csv\",\n",
    "    \"3A4_sep\": \";\",\n",
    "    \"3A4\": r\"project_resources/3A4.csv\",\n",
    "\n",
    "    \"RLM_source\": r\"project_resources/AID_1508591_datatable_all.csv\",\n",
    "    \"RLM_sep\": \",\",\n",
    "    \"RLM\": r\"project_resources/RLM.csv\",\n",
    "\n",
    "    \"HLC_source\": r\"project_resources/AID_1508603_datatable_all.csv\",\n",
    "    \"HLC_sep\": \",\",\n",
    "    \"HLC\": r\"project_resources/HLC.csv\",\n",
    "}\n",
    "mol_features = {}"
   ]
  },
  {
   "cell_type": "code",
   "execution_count": 3,
   "id": "537833f7-9a59-49f9-aee0-15af401cef26",
   "metadata": {},
   "outputs": [],
   "source": [
    "mol_vect = molecular_vector_from_smiles"
   ]
  },
  {
   "cell_type": "code",
   "execution_count": 14,
   "id": "a587cad0-42cd-4703-939a-834a6b2bfb93",
   "metadata": {},
   "outputs": [
    {
     "name": "stdout",
     "output_type": "stream",
     "text": [
      "[{'sdc': 6.9114, 'sdx': 1.1972, 'sa': 3.4065, 'dga': -5.028, 'dgp': -67.7113, 'dgtot': -72.7393}, {'sdc': 16.8081, 'sdx': 0.608, 'sa': 7.5495, 'dga': -10.882, 'dgp': -153.8596, 'dgtot': -135.4269}, {'sdc': 12.3703, 'sdx': 0.8264, 'sa': 4.2529, 'dga': -11.8154, 'dgp': -91.3155, 'dgtot': -96.6373}]\n"
     ]
    },
    {
     "name": "stderr",
     "output_type": "stream",
     "text": [
      "C:\\Users\\Lukas\\AppData\\Roaming\\Python\\Python311\\site-packages\\kallisto\\methods.py:199: RuntimeWarning: invalid value encountered in scalar divide\n",
      "  A[j][i] = special.erf(gamij * r) / r\n",
      "[15:28:40] UFFTYPER: Unrecognized charge state for atom: 7\n",
      "[15:28:48] UFFTYPER: Unrecognized charge state for atom: 18\n",
      "[15:28:50] UFFTYPER: Unrecognized charge state for atom: 16\n",
      "[15:28:50] UFFTYPER: Unrecognized charge state for atom: 17\n",
      "[15:28:52] UFFTYPER: Unrecognized charge state for atom: 18\n",
      "[15:28:53] UFFTYPER: Unrecognized charge state for atom: 17\n",
      "[15:28:54] UFFTYPER: Unrecognized charge state for atom: 13\n",
      "[15:28:55] UFFTYPER: Unrecognized charge state for atom: 13\n",
      "[15:28:55] UFFTYPER: Unrecognized charge state for atom: 13\n",
      "[15:28:56] UFFTYPER: Unrecognized charge state for atom: 14\n",
      "[15:28:56] UFFTYPER: Unrecognized charge state for atom: 14\n",
      "[15:28:56] UFFTYPER: Unrecognized charge state for atom: 13\n",
      "[15:28:56] UFFTYPER: Unrecognized charge state for atom: 13\n",
      "[15:28:57] UFFTYPER: Unrecognized charge state for atom: 17\n",
      "[15:28:57] UFFTYPER: Unrecognized charge state for atom: 19\n",
      "[15:29:00] UFFTYPER: Unrecognized charge state for atom: 7\n",
      "[15:29:02] UFFTYPER: Unrecognized charge state for atom: 19\n",
      "[15:29:02] UFFTYPER: Unrecognized charge state for atom: 19\n",
      "[15:29:02] UFFTYPER: Unrecognized charge state for atom: 17\n",
      "[15:29:02] UFFTYPER: Unrecognized charge state for atom: 19\n",
      "[15:29:02] UFFTYPER: Unrecognized charge state for atom: 19\n",
      "[15:29:02] UFFTYPER: Unrecognized charge state for atom: 21\n",
      "[15:29:07] UFFTYPER: Unrecognized charge state for atom: 21\n",
      "[15:29:07] UFFTYPER: Unrecognized charge state for atom: 21\n",
      "[15:29:07] UFFTYPER: Unrecognized charge state for atom: 26\n",
      "[15:29:11] UFFTYPER: Unrecognized charge state for atom: 1\n",
      "[15:29:11] UFFTYPER: Unrecognized charge state for atom: 23\n",
      "[15:29:11] UFFTYPER: Unrecognized charge state for atom: 1\n",
      "[15:29:12] UFFTYPER: Unrecognized charge state for atom: 1\n",
      "[15:29:12] UFFTYPER: Unrecognized charge state for atom: 1\n",
      "[15:29:12] UFFTYPER: Unrecognized charge state for atom: 1\n",
      "[15:29:12] UFFTYPER: Unrecognized charge state for atom: 23\n",
      "[15:29:39] UFFTYPER: Unrecognized charge state for atom: 19\n",
      "[15:29:39] UFFTYPER: Unrecognized charge state for atom: 7\n",
      "[15:29:41] UFFTYPER: Unrecognized charge state for atom: 16\n",
      "[15:29:44] UFFTYPER: Unrecognized charge state for atom: 6\n",
      "[15:29:45] UFFTYPER: Unrecognized charge state for atom: 21\n",
      "[15:29:45] UFFTYPER: Unrecognized charge state for atom: 7\n",
      "[15:29:48] UFFTYPER: Unrecognized charge state for atom: 7\n",
      "[15:29:50] UFFTYPER: Unrecognized charge state for atom: 11\n",
      "[15:29:51] UFFTYPER: Unrecognized charge state for atom: 19\n",
      "[15:29:57] UFFTYPER: Unrecognized charge state for atom: 20\n",
      "[15:30:00] UFFTYPER: Unrecognized charge state for atom: 11\n",
      "[15:30:00] UFFTYPER: Unrecognized charge state for atom: 13\n",
      "[15:30:00] UFFTYPER: Unrecognized charge state for atom: 19\n",
      "[15:30:03] UFFTYPER: Unrecognized charge state for atom: 19\n",
      "[15:30:03] UFFTYPER: Unrecognized charge state for atom: 19\n",
      "[15:30:05] UFFTYPER: Unrecognized charge state for atom: 24\n",
      "[15:30:05] UFFTYPER: Unrecognized charge state for atom: 38\n",
      "[15:30:06] UFFTYPER: Unrecognized charge state for atom: 1\n",
      "[15:30:07] UFFTYPER: Unrecognized charge state for atom: 20\n",
      "[15:30:09] UFFTYPER: Unrecognized charge state for atom: 15\n",
      "[15:30:09] UFFTYPER: Unrecognized charge state for atom: 20\n",
      "[15:30:09] UFFTYPER: Unrecognized charge state for atom: 21\n",
      "[15:30:10] UFFTYPER: Unrecognized charge state for atom: 21\n",
      "[15:30:12] UFFTYPER: Unrecognized charge state for atom: 2\n",
      "[15:30:14] UFFTYPER: Unrecognized charge state for atom: 24\n",
      "[15:30:16] UFFTYPER: Unrecognized charge state for atom: 15\n",
      "[15:30:16] UFFTYPER: Unrecognized charge state for atom: 18\n",
      "[15:30:17] UFFTYPER: Unrecognized charge state for atom: 7\n",
      "[15:30:20] UFFTYPER: Unrecognized charge state for atom: 17\n",
      "[15:30:21] UFFTYPER: Unrecognized charge state for atom: 21\n",
      "[15:30:25] UFFTYPER: Unrecognized charge state for atom: 18\n",
      "[15:30:49] UFFTYPER: Unrecognized charge state for atom: 18\n",
      "[15:30:52] UFFTYPER: Unrecognized charge state for atom: 7\n",
      "[15:30:57] UFFTYPER: Unrecognized charge state for atom: 7\n",
      "[15:30:59] UFFTYPER: Unrecognized charge state for atom: 17\n",
      "[15:30:59] UFFTYPER: Unrecognized charge state for atom: 5\n",
      "[15:31:01] UFFTYPER: Unrecognized charge state for atom: 15\n",
      "[15:31:04] UFFTYPER: Unrecognized charge state for atom: 16\n",
      "[15:31:11] UFFTYPER: Unrecognized charge state for atom: 16\n",
      "[15:31:12] UFFTYPER: Unrecognized charge state for atom: 15\n",
      "[15:31:13] UFFTYPER: Unrecognized charge state for atom: 20\n",
      "[15:31:15] UFFTYPER: Unrecognized charge state for atom: 21\n",
      "[15:31:15] UFFTYPER: Unrecognized charge state for atom: 11\n",
      "[15:31:17] UFFTYPER: Unrecognized charge state for atom: 22\n",
      "[15:31:23] UFFTYPER: Unrecognized charge state for atom: 11\n",
      "[15:31:25] UFFTYPER: Unrecognized charge state for atom: 19\n",
      "[15:31:27] UFFTYPER: Unrecognized charge state for atom: 9\n",
      "[15:31:28] UFFTYPER: Unrecognized charge state for atom: 21\n",
      "[15:31:31] UFFTYPER: Unrecognized charge state for atom: 5\n",
      "[15:31:32] UFFTYPER: Unrecognized charge state for atom: 7\n",
      "[15:31:33] UFFTYPER: Unrecognized charge state for atom: 8\n",
      "[15:31:36] UFFTYPER: Unrecognized charge state for atom: 19\n",
      "[15:31:36] UFFTYPER: Unrecognized charge state for atom: 19\n",
      "[15:31:45] UFFTYPER: Unrecognized charge state for atom: 17\n",
      "[15:31:49] UFFTYPER: Unrecognized charge state for atom: 19\n",
      "[15:31:51] UFFTYPER: Unrecognized charge state for atom: 24\n",
      "[15:31:51] UFFTYPER: Unrecognized charge state for atom: 38\n",
      "[15:31:53] UFFTYPER: Unrecognized charge state for atom: 15\n",
      "Jazzy ERROR: [15:32:32] The RDKit embedding has failed for the molecule: C[C@@H]1CC[C@H]2[C@H]([C@H](O[C@H]3[C@@]24[C@@H]1CC[C@@](O3)(OO4)C)CC(=NOCC=C)[C@@H]5[C@H]([C@@H]6CC[C@H]([C@H]7[C@]68[C@H](O5)O[C@](CC7)(OO8)C)C)C)C\n",
      "[15:32:35] UFFTYPER: Unrecognized charge state for atom: 11\n",
      "[15:32:35] UFFTYPER: Unrecognized charge state for atom: 42\n",
      "[15:32:38] UFFTYPER: Unrecognized charge state for atom: 17\n",
      "Jazzy ERROR: [15:32:53] The RDKit embedding has failed for the molecule: C[C@@H]1CC[C@H]2[C@H]([C@H](O[C@H]3[C@@]24[C@@H]1CC[C@@](O3)(OO4)C)CC(C[C@@H]5[C@H]([C@@H]6CC[C@H]([C@H]7[C@]68[C@H](O5)O[C@](CC7)(OO8)C)C)C)C(=O)NCC9=CC=C(C=C9)F)C\n",
      "[15:32:53] UFFTYPER: Unrecognized charge state for atom: 7\n",
      "[15:32:54] UFFTYPER: Unrecognized charge state for atom: 15\n",
      "[15:32:54] UFFTYPER: Unrecognized charge state for atom: 17\n",
      "[15:32:54] UFFTYPER: Unrecognized charge state for atom: 19\n",
      "Jazzy ERROR: [15:33:12] The RDKit embedding has failed for the molecule: C[C@@H]1CC[C@H]2[C@@H]([C@H](O[C@H]3[C@@]24[C@H]1CC[C@@](O3)(OO4)C)CCC(=O)NC5=CC(=CC=C5)SC)C\n",
      "[15:33:18] UFFTYPER: Unrecognized charge state for atom: 21\n",
      "Jazzy ERROR: [15:33:39] The RDKit embedding has failed for the molecule: C[C@@H]1CC[C@H]2[C@H]([C@H](O[C@H]3[C@@]24[C@@H]1CC[C@@](O3)(OO4)C)CCC(=O)NC5=CC=C(C=C5)F)C\n",
      "[15:33:40] UFFTYPER: Unrecognized charge state for atom: 13\n",
      "C:\\Users\\Lukas\\AppData\\Roaming\\Python\\Python311\\site-packages\\kallisto\\methods.py:289: RuntimeWarning: divide by zero encountered in scalar divide\n",
      "  norm = 1.0 / norm\n",
      "C:\\Users\\Lukas\\AppData\\Roaming\\Python\\Python311\\site-packages\\kallisto\\methods.py:294: RuntimeWarning: invalid value encountered in scalar multiply\n",
      "  gw[k] += cngw(twf, covcn[i], refcn[ii][ia]) * norm\n",
      "[15:33:47] UFFTYPER: Unrecognized charge state for atom: 7\n",
      "[15:33:47] UFFTYPER: Unrecognized charge state for atom: 19\n",
      "[15:33:49] UFFTYPER: Unrecognized charge state for atom: 18\n",
      "[15:33:53] UFFTYPER: Unrecognized charge state for atom: 15\n",
      "[15:33:59] UFFTYPER: Unrecognized charge state for atom: 17\n",
      "[15:34:01] UFFTYPER: Unrecognized charge state for atom: 17\n",
      "[15:34:08] UFFTYPER: Unrecognized charge state for atom: 20\n",
      "[15:34:17] UFFTYPER: Unrecognized charge state for atom: 13\n",
      "[15:34:17] UFFTYPER: Unrecognized charge state for atom: 27\n"
     ]
    },
    {
     "name": "stdout",
     "output_type": "stream",
     "text": [
      "[{'sdc': 5.9606, 'sdx': 1.7203, 'sa': 2.9233, 'dga': 2.3403, 'dgp': -62.5586, 'dgtot': -60.2183}, {'sdc': 7.2935, 'sdx': 2.1751, 'sa': 4.7052, 'dga': -5.366, 'dgp': -92.3442, 'dgtot': -92.2883}, {'sdc': 8.3869, 'sdx': 1.5794, 'sa': 4.4669, 'dga': -13.7309, 'dgp': -94.3257, 'dgtot': -104.8181}]\n"
     ]
    },
    {
     "name": "stderr",
     "output_type": "stream",
     "text": [
      "[15:34:23] UFFTYPER: Unrecognized charge state for atom: 17\n",
      "[15:34:30] UFFTYPER: Unrecognized charge state for atom: 17\n"
     ]
    },
    {
     "name": "stdout",
     "output_type": "stream",
     "text": [
      "[{'sdc': 8.1842, 'sdx': 0.767, 'sa': 3.7903, 'dga': -16.3222, 'dgp': -76.5154, 'dgtot': -85.8172}, {'sdc': 7.8084, 'sdx': 0.0, 'sa': 2.1929, 'dga': -6.1343, 'dgp': -49.0782, 'dgtot': -55.2125}, {'sdc': 7.9146, 'sdx': 0.8501, 'sa': 4.0771, 'dga': -16.8488, 'dgp': -80.0944, 'dgtot': -88.9145}]\n"
     ]
    }
   ],
   "source": [
    "for isozyme in isozymes:\n",
    "    df = pd.read_csv(rel_paths[isozyme])\n",
    "    smiles = df[\"smiles\"]\n",
    "    features = []\n",
    "    for smi in smiles:\n",
    "        try:\n",
    "            features.append(mol_vect(smi))\n",
    "        except:\n",
    "            # nepřišel jsem na to, jak zachytit ten JazzyError - protože mi to napíše NameError: name 'JazzyError' is not defined\n",
    "            features.append(np.nan)\n",
    "    mol_features[isozyme] = features\n",
    "    print(mol_features[isozyme][:3])"
   ]
  },
  {
   "cell_type": "code",
   "execution_count": 7,
   "id": "2ae68e69-fcdf-496d-a5d4-ff29a19aaa53",
   "metadata": {},
   "outputs": [],
   "source": [
    "# JazzyError:\n",
    "# Jazzy ERROR: [14:07:25] The RDKit embedding has failed for the molecule: C[C@@H]1CC[C@H]2[C@H]([C@H](O[C@H]3[C@@]24[C@@H]1CC[C@@](O3)(OO4)C)CC(=NOCC=C)[C@@H]5[C@H]([C@@H]6CC[C@H]([C@H]7[C@]68[C@H](O5)O[C@](CC7)(OO8)C)C)C)C\n",
    "# Jazzy ERROR: [14:07:45] The RDKit embedding has failed for the molecule: C[C@@H]1CC[C@H]2[C@H]([C@H](O[C@H]3[C@@]24[C@@H]1CC[C@@](O3)(OO4)C)CC(C[C@@H]5[C@H]([C@@H]6CC[C@H]([C@H]7[C@]68[C@H](O5)O[C@](CC7)(OO8)C)C)C)C(=O)NCC9=CC=C(C=C9)F)C\n",
    "# Jazzy ERROR: [14:23:49] The RDKit embedding has failed for the molecule: C[C@@H]1CC[C@H]2[C@@H]([C@H](O[C@H]3[C@@]24[C@H]1CC[C@@](O3)(OO4)C)CCC(=O)NC5=CC(=CC=C5)SC)C\n",
    "# Jazzy ERROR: [14:24:18] The RDKit embedding has failed for the molecule: C[C@@H]1CC[C@H]2[C@H]([C@H](O[C@H]3[C@@]24[C@@H]1CC[C@@](O3)(OO4)C)CCC(=O)NC5=CC=C(C=C5)F)C\n",
    "\n",
    "# ještě nastaly další warningy:\n",
    "# ...\\site-packages\\kallisto\\methods.py:199: RuntimeWarning: invalid value encountered in scalar divide\n",
    "#      A[j][i] = special.erf(gamij * r) / r\n",
    "#           molekula, která toto způsobila: CC1=CC(=C2C=C(C=CC2=N1)NC(=O)NC3=CC4=C(C=C(N=C4C=C3)C)N)N.Cl.Cl\n",
    "# ...\\kallisto\\methods.py:289: RuntimeWarning: divide by zero encountered in scalar divide\n",
    "#      norm = 1.0 / norm\n",
    "# ...\\site-packages\\kallisto\\methods.py:294: RuntimeWarning: invalid value encountered in scalar multiply\n",
    "#      gw[k] += cngw(twf, covcn[i], refcn[ii][ia]) * norm\n",
    "#           molekula, která způsobila jak tento warning, tak ten uprostřed: C1CN(CCC1C(=O)N)C2=NC(=CS2)C3=CC(=CC=C3)F\n",
    "\n",
    "# a v neposlední řadě UFFTYPER: Unrecognized charge state for atom:\n",
    "# CC1=CC(=NO1)NS(=O)(=O)C2=CC=C(C=C2)NC(=O)CC3=CC(=C(C=C3)F)Cl -> UFFTYPER: Unrecognized charge state for atom: 7\n",
    "# C[S+](=O)(C1=CC=C(C=C1)C2=C3C=NC=CN3C(=N2)C(=O)N4CCOCC4)[O-] -> UFFTYPER: Unrecognized charge state for atom: 1     UFFTYPER: Unrecognized charge state for atom: 23\n",
    "# C1CN(CCN1CC2=CC=CC=C2)C(=O)[C@H](CC3=CC=C(C=C3)O[S+](=O)(C4=CC=CC5=C4C=CN=C5)[O-])N[S+](=O)(C6=CC=CC7=C6C=CN=C7)[O-] -> UFFTYPER: Unrecognized charge state for atom: 24     UFFTYPER: Unrecognized charge state for atom: 38"
   ]
  },
  {
   "cell_type": "code",
   "execution_count": null,
   "id": "54d5166d-9ac5-475b-8177-b853f992772f",
   "metadata": {},
   "outputs": [],
   "source": []
  }
 ],
 "metadata": {
  "kernelspec": {
   "display_name": "Python 3 (ipykernel)",
   "language": "python",
   "name": "python3"
  },
  "language_info": {
   "codemirror_mode": {
    "name": "ipython",
    "version": 3
   },
   "file_extension": ".py",
   "mimetype": "text/x-python",
   "name": "python",
   "nbconvert_exporter": "python",
   "pygments_lexer": "ipython3",
   "version": "3.11.3"
  }
 },
 "nbformat": 4,
 "nbformat_minor": 5
}
