{
 "cells": [
  {
   "cell_type": "code",
   "execution_count": 1,
   "id": "a68c37c0-f295-4a80-b8da-1eb48b1be9d5",
   "metadata": {},
   "outputs": [
    {
     "name": "stdout",
     "output_type": "stream",
     "text": [
      "importing Jupyter notebook from C:\\Users\\Lukas\\Documents\\datacytochromy\\project_resources\\cytochrome_P450.ipynb\n"
     ]
    }
   ],
   "source": [
    "import optuna\n",
    "import joblib\n",
    "import numpy as np\n",
    "import pandas as pd\n",
    "import sys\n",
    "from project_resources.import_utils import NotebookFinder\n",
    "sys.meta_path.append(NotebookFinder())\n",
    "from project_resources.cytochrome_P450 import HyperparamTuner, mol_fts, abs_file_path"
   ]
  },
  {
   "cell_type": "code",
   "execution_count": 2,
   "id": "6c5f3cf9-a267-40d8-9706-2559f5fac240",
   "metadata": {},
   "outputs": [],
   "source": [
    "model_identifiers = [\"linear\", \"KRR\", \"GB\", \"RF\", \"ANN\"]\n",
    "isozymes = [\"3A4\", \"RLM\", \"HLC\"]\n",
    "data_splits = [\"train\", \"test\"]\n",
    "splitters = [\"rand\", \"scaff\"]\n",
    "rel_paths = {\n",
    "    \"3A4_source\": r\"project_resources/ChEMBL_3A4.csv\",\n",
    "    \"3A4_sep\": \";\",\n",
    "    \"3A4\": r\"project_resources/3A4.csv\",\n",
    "    \"3A4_train_scaff\": r\"project_resources/base_splits/scaffold_splitter/3A4_train.csv\",\n",
    "    \"3A4_test_scaff\": r\"project_resources/base_splits/scaffold_splitter/3A4_test.csv\",\n",
    "    \"3A4_train_rand\": r\"project_resources/base_splits/random/3A4_train.csv\",\n",
    "    \"3A4_test_rand\": r\"project_resources/base_splits/random/3A4_test.csv\",\n",
    "    \"3A4_jazzy_train_rand\": r\"project_resources/jazzy_splits/random/3A4_train.csv\",\n",
    "    \"3A4_jazzy_test_rand\": r\"project_resources/jazzy_splits/random/3A4_test.csv\",\n",
    "    \"3A4_jazzy_train_scaff\": r\"project_resources/jazzy_splits/scaffold_splitter/3A4_train.csv\",\n",
    "    \"3A4_jazzy_test_scaff\": r\"project_resources/jazzy_splits/scaffold_splitter/3A4_test.csv\",\n",
    "\n",
    "    \"RLM_source\": r\"project_resources/AID_1508591_datatable_all.csv\",\n",
    "    \"RLM_sep\": \",\",\n",
    "    \"RLM\": r\"project_resources/RLM.csv\",\n",
    "    \"RLM_train_scaff\": r\"project_resources/base_splits/scaffold_splitter/RLM_train.csv\",\n",
    "    \"RLM_test_scaff\": r\"project_resources/base_splits/scaffold_splitter/RLM_test.csv\",\n",
    "    \"RLM_train_rand\": r\"project_resources/base_splits/random/RLM_train.csv\",\n",
    "    \"RLM_test_rand\": r\"project_resources/base_splits/random/RLM_test.csv\",\n",
    "    \"RLM_jazzy_train_rand\": r\"project_resources/jazzy_splits/random/RLM_train.csv\",\n",
    "    \"RLM_jazzy_test_rand\": r\"project_resources/jazzy_splits/random/RLM_test.csv\",\n",
    "    \"RLM_jazzy_train_scaff\": r\"project_resources/jazzy_splits/scaffold_splitter/RLM_train.csv\",\n",
    "    \"RLM_jazzy_test_scaff\": r\"project_resources/jazzy_splits/scaffold_splitter/RLM_test.csv\",\n",
    "\n",
    "\n",
    "    \"HLC_source\": r\"project_resources/AID_1508603_datatable_all.csv\",\n",
    "    \"HLC_sep\": \",\",\n",
    "    \"HLC\": r\"project_resources/HLC.csv\",\n",
    "    \"HLC_train_scaff\": r\"project_resources/base_splits/scaffold_splitter/HLC_train.csv\",\n",
    "    \"HLC_test_scaff\": r\"project_resources/base_splits/scaffold_splitter/HLC_test.csv\",\n",
    "    \"HLC_train_rand\": r\"project_resources/base_splits/random/HLC_train.csv\",\n",
    "    \"HLC_test_rand\": r\"project_resources/base_splits/random/HLC_test.csv\",\n",
    "    \"HLC_jazzy_train_rand\": r\"project_resources/jazzy_splits/random/HLC_train.csv\",\n",
    "    \"HLC_jazzy_test_rand\": r\"project_resources/jazzy_splits/random/HLC_test.csv\",\n",
    "    \"HLC_jazzy_train_scaff\": r\"project_resources/jazzy_splits/scaffold_splitter/HLC_train.csv\",\n",
    "    \"HLC_jazzy_test_scaff\": r\"project_resources/jazzy_splits/scaffold_splitter/HLC_test.csv\"\n",
    "}\n",
    "# sampler - a method used to generate new sets of hyperparameters in each iteration of the optimization process\n",
    "samplers = {\n",
    "    'RandomSampler': optuna.samplers.RandomSampler,          # Sampler that selects hyperparameters randomly from the search space.\n",
    "    'GridSampler': optuna.samplers.GridSampler,              # Sampler that performs a grid search over the hyperparameter space.\n",
    "    'TPESampler': optuna.samplers.TPESampler,                # Sampler that uses a tree-structured Parzen estimator to model the objective function and sample new points from the search space.\n",
    "    'CmaEsSampler': optuna.samplers.CmaEsSampler,            # Sampler that uses the Covariance Matrix Adaptation Evolution Strategy algorithm to efficiently search the hyperparameter space.\n",
    "    'NSGAIISampler': optuna.samplers.NSGAIISampler,          # Multi-objective evolutionary algorithm that generates new samples using non-dominated sorting and crowding distance selection.\n",
    "    'QMCSampler': optuna.samplers.QMCSampler,                # Quasi-Monte Carlo sampler that uses low-discrepancy sequences to sample the search space in a more efficient and evenly distributed way than random sampling.\n",
    "    'BoTorchSampler': optuna.integration.BoTorchSampler,     # Sampler that leverages the BoTorch library for Bayesian optimization and can handle both continuous and categorical hyperparameters.\n",
    "    'BruteForceSampler': optuna.samplers.BruteForceSampler,  # Sampler that exhaustively evaluates all possible combinations of hyperparameters in the search space.\n",
    "}\n",
    "# pruner - a technique used to eliminate unpromising trials during the course of hyperparameter optimization.\n",
    "pruners = {\n",
    "    'BasePruner': optuna.pruners.BasePruner,                            # This is the base class for all pruning strategies in Optuna. It provides a skeleton for implementing custom pruning strategies.\n",
    "    'MedianPruner': optuna.pruners.MedianPruner,                        # A pruner that prunes unpromising trials that have median objective values, as determined in previous steps.\n",
    "    'SuccessiveHalvingPruner': optuna.pruners.SuccessiveHalvingPruner,  # This pruner repeatedly splits trials into halves, discarding the lower performing half at each iteration.\n",
    "    'HyperbandPruner': optuna.pruners.HyperbandPruner,                  # This pruner implements the Hyperband algorithm, which selects promising trials and runs them with different resource allocation schemes to determine the best one.\n",
    "    'PercentilePruner': optuna.pruners.PercentilePruner,                # A pruner that prunes unpromising trials based on their percentile rank relative to all completed trials.\n",
    "    'NopPruner': optuna.pruners.NopPruner,                              # A pruner that does nothing and does not prune any trials.\n",
    "    'ThresholdPruner': optuna.pruners.ThresholdPruner,                  # This pruner prunes trials that have not reached a certain level of performance (i.e., objective value).\n",
    "    'PatientPruner': optuna.pruners.PatientPruner,                      # This pruner prunes trials that do not show improvement over a certain number of steps (or epochs).\n",
    "}\n",
    "halflives = {}\n",
    "mol_features = {}"
   ]
  },
  {
   "cell_type": "code",
   "execution_count": 3,
   "id": "6ac372ae-00f9-4196-82cd-f1acd9bca5b3",
   "metadata": {},
   "outputs": [
    {
     "name": "stdout",
     "output_type": "stream",
     "text": [
      "\n",
      "\n",
      "rand\n",
      "3A4 train\n",
      "     56, [63, 'CC(C)(O)c1cc(F)c2c(c1)C(=O)N(Cc1ccc(Cl)cn1)[C@@]2(OCC1(O)CC1)c1ccc(Cl)cc1', 6.0, 13.1753, 1.4177, 11.3044, -7.3559, -125.8906, -119.4889]\n",
      "     [  13.1753    1.4177   11.3044   -7.3559 -125.8906 -119.4889]\n",
      "     3A4 mol_features train contains NaN: False\n",
      "3A4 test\n",
      "     14, [23, 'Cc1ncsc1-c1ccc([C@H](CC(=O)NCCCCCCNC(=O)COc2c(-c3csc(N4CCOCC4)n3)ccc(F)c2F)NC(=O)[C@@H]2C[C@@H](O)CN2C(=O)[C@@H](NC(=O)C2(F)CC2)C(C)(C)C)cc1', 0.3767, 28.4327, 3.274, 23.4872, -4.0348, -286.1545, -257.0326]\n",
      "     [  28.4327    3.274    23.4872   -4.0348 -286.1545 -257.0326]\n",
      "     3A4 mol_features test contains NaN: False\n",
      "RLM train\n",
      "     removed index 1047 corresponding to NaN in train\n",
      "     removed index 1517 corresponding to NaN in train\n",
      "     2022, [158, 'O=c1cc(N2CCOCC2)oc2c1ccc1ccccc12', 30.0, 8.0486, 0.0, 5.2165, -13.5913, -63.7029, -67.7504]\n",
      "     [  8.0486   0.       5.2165 -13.5913 -63.7029 -67.7504]\n",
      "     RLM mol_features train contains NaN: False\n",
      "RLM test\n",
      "     removed index 174 corresponding to NaN in test\n",
      "     removed index 371 corresponding to NaN in test\n",
      "     505, [2309, 'Cc1ccc(OCCn2c(CCNC(=O)N3CCCCC3)nc3ccccc32)cc1', 1.7, 11.6092, 0.7177, 6.0879, -8.9664, -88.0844, -79.041]\n",
      "     [ 11.6092   0.7177   6.0879  -8.9664 -88.0844 -79.041 ]\n",
      "     RLM mol_features test contains NaN: False\n",
      "HLC train\n",
      "     151, [36, 'N#Cc1ccc(CN2CCC(N3CCNC3=O)CC2)cc1', 93.2, 8.7086, 0.7824, 4.7992, -7.9813, -74.8159, -75.7409]\n",
      "     [  8.7086   0.7824   4.7992  -7.9813 -74.8159 -75.7409]\n",
      "     HLC mol_features train contains NaN: False\n",
      "HLC test\n",
      "     38, [185, 'c1ccc(Nc2ncc(-c3cncnc3)c3c2OCC3)cc1', 120.0, 7.6502, 0.7908, 4.359, -17.5939, -69.2221, -78.0498]\n",
      "     [  7.6502   0.7908   4.359  -17.5939 -69.2221 -78.0498]\n",
      "     HLC mol_features test contains NaN: False\n",
      "\n",
      "\n",
      "scaff\n",
      "3A4 train\n",
      "     56, [30, 'COc1cccc([C@@H](CO)NC(=O)[C@@H](C)N2Cc3ccc(-c4nc(NC5CCOCC5)ncc4Cl)cc3C2=O)c1', 0.09167, 16.2478, 2.1011, 12.7179, -10.0882, -164.348, -156.2467]\n",
      "     [  16.2478    2.1011   12.7179  -10.0882 -164.348  -156.2467]\n",
      "     3A4 mol_features train contains NaN: False\n",
      "3A4 test\n",
      "     14, [29, 'O=C1CCC(N2C(=O)c3cccc(NCCOCCOCCNC(=O)c4ccc5c(c4)nc(Nc4cccc(Cl)c4)c4ccncc45)c3C2=O)C(=O)N1', 0.2433, 18.7621, 3.2764, 15.83, -24.805, -206.8013, -216.3639]\n",
      "     [  18.7621    3.2764   15.83    -24.805  -206.8013 -216.3639]\n",
      "     3A4 mol_features test contains NaN: False\n",
      "RLM train\n",
      "     removed index 866 corresponding to NaN in train\n",
      "     removed index 867 corresponding to NaN in train\n",
      "     removed index 1383 corresponding to NaN in train\n",
      "     removed index 1426 corresponding to NaN in train\n",
      "     2020, [183, 'CS(=O)(=O)c1ccccc1-c1csc(N2CCC(C(N)=O)CC2)n1', 30.0, 9.6317, 1.4184, 7.0066, -6.2948, -93.8278, -86.7641]\n",
      "     [  9.6317   1.4184   7.0066  -6.2948 -93.8278 -86.7641]\n",
      "     RLM mol_features train contains NaN: False\n",
      "RLM test\n",
      "     507, [816, 'COCCCNC(=O)c1cc2cc(S(=O)(=O)N(C)C)ccc2n1C', 25.0, 11.5248, 0.6027, 8.403, 1.4734, -106.7528, -81.5668]\n",
      "     [  11.5248    0.6027    8.403     1.4734 -106.7528  -81.5668]\n",
      "     RLM mol_features test contains NaN: False\n",
      "HLC train\n",
      "     151, [9, 'Cc1cc(F)ccc1OC1CN(Cc2ccc(C#N)cc2)C1', 35.4, 8.9224, 0.0, 4.8259, -11.1508, -61.3626, -68.7406]\n",
      "     [  8.9224   0.       4.8259 -11.1508 -61.3626 -68.7406]\n",
      "     HLC mol_features train contains NaN: False\n",
      "HLC test\n",
      "     38, [20, 'Fc1cccc(-c2cnc([C@@H]3COCCN3Cc3cnc[nH]3)[nH]2)c1', 59.3, 8.6917, 1.4354, 6.9778, -10.2452, -97.3783, -101.0987]\n",
      "     [   8.6917    1.4354    6.9778  -10.2452  -97.3783 -101.0987]\n",
      "     HLC mol_features test contains NaN: False\n"
     ]
    }
   ],
   "source": [
    "# load Jazzy features from csv files or generate the features and save them\n",
    "for splitter in splitters:\n",
    "    print(\"\\n\")\n",
    "    print(splitter)\n",
    "    mol_features[splitter] = {}\n",
    "    halflives[splitter] = {}\n",
    "    for isozyme in isozymes:\n",
    "        mol_features[splitter][isozyme] = {}\n",
    "        halflives[splitter][isozyme] = {}\n",
    "        for split in data_splits:\n",
    "            print(isozyme, split)\n",
    "\n",
    "            try:\n",
    "                df = pd.read_csv(rel_paths[f\"{isozyme}_jazzy_{split}_{splitter}\"])\n",
    "                cols = df.columns\n",
    "                data = {}  # all data from csv file (i.e. mol indexes, smiles, half-lives and features)\n",
    "                for col in cols:\n",
    "                    data[col] = list(df[col])\n",
    "                nan_idxs = np.argwhere(np.isnan(data[\"dgtot\"]))\n",
    "                nan_idxs = [int(idx) for idx in nan_idxs]\n",
    "                data_clumped = []  # same as data, but in the form [[idx1, smi1, thalf1, fts1], [idx2, smi2, thalf2, fts2],...]]\n",
    "                for col in cols:\n",
    "                    for i, foo in zip(range(len(data[col])), data[col]):\n",
    "                        if len(data_clumped) < i+1:\n",
    "                            data_clumped.append([])\n",
    "                        data_clumped[i].append(foo)\n",
    "\n",
    "                # remove all mols for which Jazzy features generation wasn't successful\n",
    "                num_pops = 0\n",
    "                for nan_idx in nan_idxs:\n",
    "                    data_clumped.pop(nan_idx - num_pops)\n",
    "                    num_pops += 1\n",
    "                    print(f\"     removed index {nan_idx} corresponding to NaN in {split}\")\n",
    "                print(f\"     {len(data_clumped)}, {data_clumped[0]}\")\n",
    "\n",
    "                # filter out only the features\n",
    "                mol_features[splitter][isozyme][split] = np.array([feature[3:11] for feature in data_clumped])\n",
    "                halflives[splitter][isozyme][split] = np.array([feature[2] for feature in data_clumped])\n",
    "                contains_nan = np.any(np.isnan(mol_features[splitter][isozyme][split]))\n",
    "                print(f\"     {mol_features[splitter][isozyme][split][0]}\")\n",
    "                print(f\"     {isozyme} mol_features {split} contains NaN: {contains_nan}\")\n",
    "\n",
    "            except FileNotFoundError:\n",
    "                df = pd.read_csv(rel_paths[f\"{isozyme}_{split}_{splitter}\"])\n",
    "                mol_idx = df[\"index\"]\n",
    "                smiles = df[\"smiles\"]\n",
    "                halflife = df[\"half-life\"]\n",
    "                mol_features[splitter][isozyme] = mol_fts(smiles, isozyme)  # calculate mol features for list of smiles\n",
    "                mol_fts_df = pd.DataFrame()\n",
    "                mol_fts_df[\"index\"] = mol_idx\n",
    "                mol_fts_df[\"smiles\"] = smiles\n",
    "                mol_fts_df[\"half-life\"] = halflife\n",
    "                present_fts = [feature for feature in mol_features[splitter][isozyme][0]]  # list of all mol features\n",
    "\n",
    "                # write the value of a given feature for each molecule into df\n",
    "                for feature in present_fts:\n",
    "                    single_feature_list = []\n",
    "                    for i in range(len(mol_features[splitter][isozyme])):\n",
    "                        if mol_features[splitter][isozyme][i] == mol_features[splitter][isozyme][i]:\n",
    "                            single_feature_list.append(mol_features[splitter][isozyme][i][feature])\n",
    "                        else:\n",
    "                            single_feature_list.append(np.nan)\n",
    "                    mol_fts_df[feature] = single_feature_list\n",
    "\n",
    "                mol_fts_df.to_csv(abs_file_path(rel_paths[f\"{isozyme}_jazzy_{split}_{splitter}\"]), index=False)\n",
    "                print(f'{rel_paths[f\"{isozyme}_jazzy_{split}_{splitter}\"]} was created successfully')"
   ]
  },
  {
   "cell_type": "code",
   "execution_count": 5,
   "id": "088ab89a-f836-4c91-b705-331f056c459c",
   "metadata": {
    "tags": []
   },
   "outputs": [
    {
     "name": "stderr",
     "output_type": "stream",
     "text": [
      "[I 2023-10-10 22:05:55,404] Using an existing study with name 'linear' instead of creating a new one.\n"
     ]
    },
    {
     "name": "stdout",
     "output_type": "stream",
     "text": [
      "random 3A4 linear\n"
     ]
    },
    {
     "name": "stderr",
     "output_type": "stream",
     "text": [
      "[I 2023-10-10 22:05:55,479] Trial 1 finished with value: 1.4052157267487904 and parameters: {'alpha': 0.09756333251827164, 'l1_ratio': 0.2842031992425431}. Best is trial 0 with value: 1.4038627192898365.\n",
      "[I 2023-10-10 22:05:55,609] A new study created in RDB with name: KRR\n"
     ]
    },
    {
     "name": "stdout",
     "output_type": "stream",
     "text": [
      "random 3A4 KRR\n"
     ]
    },
    {
     "name": "stderr",
     "output_type": "stream",
     "text": [
      "[I 2023-10-10 22:05:55,695] Trial 0 finished with value: 1.3804652303052911 and parameters: {'alpha': 0.38984005784428544, 'gamma': 7.247000271055202e-15, 'kernel': 'rbf'}. Best is trial 0 with value: 1.3804652303052911.\n",
      "[I 2023-10-10 22:05:55,822] A new study created in RDB with name: GB\n"
     ]
    },
    {
     "name": "stdout",
     "output_type": "stream",
     "text": [
      "random 3A4 GB\n"
     ]
    },
    {
     "name": "stderr",
     "output_type": "stream",
     "text": [
      "[I 2023-10-10 22:05:56,145] Trial 0 finished with value: 1.1714652221427115 and parameters: {'n_estimators': 200, 'learning_rate': 0.5975822104728432, 'max_depth': 3}. Best is trial 0 with value: 1.1714652221427115.\n",
      "[I 2023-10-10 22:05:56,272] A new study created in RDB with name: RF\n"
     ]
    },
    {
     "name": "stdout",
     "output_type": "stream",
     "text": [
      "random 3A4 RF\n"
     ]
    },
    {
     "name": "stderr",
     "output_type": "stream",
     "text": [
      "[I 2023-10-10 22:05:57,381] Trial 0 finished with value: 1.3342143583288308 and parameters: {'n_estimators': 500, 'max_features': 'auto', 'max_depth': None}. Best is trial 0 with value: 1.3342143583288308.\n",
      "[I 2023-10-10 22:05:57,507] A new study created in RDB with name: ANN\n"
     ]
    },
    {
     "name": "stdout",
     "output_type": "stream",
     "text": [
      "random 3A4 ANN\n"
     ]
    },
    {
     "name": "stderr",
     "output_type": "stream",
     "text": [
      "[I 2023-10-10 22:05:58,118] Trial 0 finished with value: 3.2120353102656423 and parameters: {'learning_rate_init': 0.013975285882685533, 'hidden_layer_sizes': [20]}. Best is trial 0 with value: 3.2120353102656423.\n",
      "[I 2023-10-10 22:05:58,243] A new study created in RDB with name: linear\n",
      "[I 2023-10-10 22:05:58,319] Trial 0 finished with value: 1.0537742063632034 and parameters: {'alpha': 0.0738166003971161, 'l1_ratio': 0.7239777216625384}. Best is trial 0 with value: 1.0537742063632034.\n"
     ]
    },
    {
     "name": "stdout",
     "output_type": "stream",
     "text": [
      "random RLM linear\n"
     ]
    },
    {
     "name": "stderr",
     "output_type": "stream",
     "text": [
      "[I 2023-10-10 22:05:58,444] A new study created in RDB with name: KRR\n"
     ]
    },
    {
     "name": "stdout",
     "output_type": "stream",
     "text": [
      "random RLM KRR\n"
     ]
    },
    {
     "name": "stderr",
     "output_type": "stream",
     "text": [
      "[I 2023-10-10 22:05:59,587] Trial 0 finished with value: 1.108322815229059 and parameters: {'alpha': 0.4491530336826782, 'gamma': 8.863021458677126e-15, 'kernel': 'linear'}. Best is trial 0 with value: 1.108322815229059.\n"
     ]
    },
    {
     "name": "stdout",
     "output_type": "stream",
     "text": [
      "random RLM GB\n"
     ]
    },
    {
     "name": "stderr",
     "output_type": "stream",
     "text": [
      "[I 2023-10-10 22:05:59,827] A new study created in RDB with name: GB\n",
      "[I 2023-10-10 22:06:03,473] Trial 0 finished with value: 0.9946741084381537 and parameters: {'n_estimators': 10, 'learning_rate': 0.5062073363088264, 'max_depth': 2}. Best is trial 0 with value: 0.9946741084381537.\n",
      "[I 2023-10-10 22:06:03,598] A new study created in RDB with name: RF\n"
     ]
    },
    {
     "name": "stdout",
     "output_type": "stream",
     "text": [
      "random RLM RF\n"
     ]
    },
    {
     "name": "stderr",
     "output_type": "stream",
     "text": [
      "[I 2023-10-10 22:06:11,503] Trial 0 finished with value: 0.9926985913490077 and parameters: {'n_estimators': 20, 'max_features': 'auto', 'max_depth': 2}. Best is trial 0 with value: 0.9926985913490077.\n",
      "[I 2023-10-10 22:06:11,630] A new study created in RDB with name: ANN\n"
     ]
    },
    {
     "name": "stdout",
     "output_type": "stream",
     "text": [
      "random RLM ANN\n"
     ]
    },
    {
     "name": "stderr",
     "output_type": "stream",
     "text": [
      "[I 2023-10-10 22:06:18,778] Trial 0 finished with value: 1.0440669369038673 and parameters: {'learning_rate_init': 0.0437041328527414, 'hidden_layer_sizes': [20]}. Best is trial 0 with value: 1.0440669369038673.\n",
      "[I 2023-10-10 22:06:18,906] A new study created in RDB with name: linear\n",
      "[I 2023-10-10 22:06:18,987] Trial 0 finished with value: 0.6091618191984409 and parameters: {'alpha': 0.09067758468806048, 'l1_ratio': 0.7921924132667718}. Best is trial 0 with value: 0.6091618191984409.\n"
     ]
    },
    {
     "name": "stdout",
     "output_type": "stream",
     "text": [
      "random HLC linear\n"
     ]
    },
    {
     "name": "stderr",
     "output_type": "stream",
     "text": [
      "[I 2023-10-10 22:06:19,115] A new study created in RDB with name: KRR\n",
      "[I 2023-10-10 22:06:19,189] Trial 0 finished with value: 0.8915941225887049 and parameters: {'alpha': 0.051345874009050135, 'gamma': 6.96385638171956e-15, 'kernel': 'linear'}. Best is trial 0 with value: 0.8915941225887049.\n"
     ]
    },
    {
     "name": "stdout",
     "output_type": "stream",
     "text": [
      "random HLC KRR\n"
     ]
    },
    {
     "name": "stderr",
     "output_type": "stream",
     "text": [
      "[I 2023-10-10 22:06:19,385] A new study created in RDB with name: GB\n"
     ]
    },
    {
     "name": "stdout",
     "output_type": "stream",
     "text": [
      "random HLC GB\n"
     ]
    },
    {
     "name": "stderr",
     "output_type": "stream",
     "text": [
      "[I 2023-10-10 22:06:19,819] Trial 0 finished with value: 0.6320929573668942 and parameters: {'n_estimators': 20, 'learning_rate': 0.18420158500170125, 'max_depth': 4}. Best is trial 0 with value: 0.6320929573668942.\n"
     ]
    },
    {
     "name": "stdout",
     "output_type": "stream",
     "text": [
      "random HLC RF\n"
     ]
    },
    {
     "name": "stderr",
     "output_type": "stream",
     "text": [
      "[I 2023-10-10 22:06:20,052] A new study created in RDB with name: RF\n",
      "[I 2023-10-10 22:06:21,344] Trial 0 finished with value: 0.5887749788625218 and parameters: {'n_estimators': 50, 'max_features': 'auto', 'max_depth': 10}. Best is trial 0 with value: 0.5887749788625218.\n",
      "[I 2023-10-10 22:06:21,468] A new study created in RDB with name: ANN\n"
     ]
    },
    {
     "name": "stdout",
     "output_type": "stream",
     "text": [
      "random HLC ANN\n"
     ]
    },
    {
     "name": "stderr",
     "output_type": "stream",
     "text": [
      "[I 2023-10-10 22:06:21,974] Trial 0 finished with value: 2.6112125638809442 and parameters: {'learning_rate_init': 0.08836646202580983, 'hidden_layer_sizes': [5, 5, 5]}. Best is trial 0 with value: 2.6112125638809442.\n",
      "[I 2023-10-10 22:06:22,099] A new study created in RDB with name: linear\n",
      "[I 2023-10-10 22:06:22,171] Trial 0 finished with value: 1.419257015292315 and parameters: {'alpha': 0.07369358217606732, 'l1_ratio': 0.029129653845802794}. Best is trial 0 with value: 1.419257015292315.\n"
     ]
    },
    {
     "name": "stdout",
     "output_type": "stream",
     "text": [
      "scaffold_splitter 3A4 linear\n"
     ]
    },
    {
     "name": "stderr",
     "output_type": "stream",
     "text": [
      "[I 2023-10-10 22:06:22,299] A new study created in RDB with name: KRR\n",
      "[I 2023-10-10 22:06:22,370] Trial 0 finished with value: 1.4310348444717338 and parameters: {'alpha': 0.7649941054916107, 'gamma': 2.5195634920626997e-15, 'kernel': 'linear'}. Best is trial 0 with value: 1.4310348444717338.\n"
     ]
    },
    {
     "name": "stdout",
     "output_type": "stream",
     "text": [
      "scaffold_splitter 3A4 KRR\n"
     ]
    },
    {
     "name": "stderr",
     "output_type": "stream",
     "text": [
      "[I 2023-10-10 22:06:22,499] A new study created in RDB with name: GB\n"
     ]
    },
    {
     "name": "stdout",
     "output_type": "stream",
     "text": [
      "scaffold_splitter 3A4 GB\n"
     ]
    },
    {
     "name": "stderr",
     "output_type": "stream",
     "text": [
      "[I 2023-10-10 22:06:22,816] Trial 0 finished with value: 1.086335124039331 and parameters: {'n_estimators': 20, 'learning_rate': 0.22118883462600292, 'max_depth': 1}. Best is trial 0 with value: 1.086335124039331.\n",
      "[I 2023-10-10 22:06:22,944] A new study created in RDB with name: RF\n"
     ]
    },
    {
     "name": "stdout",
     "output_type": "stream",
     "text": [
      "scaffold_splitter 3A4 RF\n"
     ]
    },
    {
     "name": "stderr",
     "output_type": "stream",
     "text": [
      "[I 2023-10-10 22:06:24,102] Trial 0 finished with value: 1.226473090401944 and parameters: {'n_estimators': 10, 'max_features': 'log2', 'max_depth': 2}. Best is trial 0 with value: 1.226473090401944.\n"
     ]
    },
    {
     "name": "stdout",
     "output_type": "stream",
     "text": [
      "scaffold_splitter 3A4 ANN\n"
     ]
    },
    {
     "name": "stderr",
     "output_type": "stream",
     "text": [
      "[I 2023-10-10 22:06:24,357] A new study created in RDB with name: ANN\n",
      "[I 2023-10-10 22:06:24,918] Trial 0 finished with value: 3.587870843320496 and parameters: {'learning_rate_init': 0.017553126739662868, 'hidden_layer_sizes': [5, 5]}. Best is trial 0 with value: 3.587870843320496.\n",
      "[I 2023-10-10 22:06:25,047] A new study created in RDB with name: linear\n",
      "[I 2023-10-10 22:06:25,123] Trial 0 finished with value: 1.060306211969177 and parameters: {'alpha': 0.02264573835035236, 'l1_ratio': 0.027929688173000233}. Best is trial 0 with value: 1.060306211969177.\n"
     ]
    },
    {
     "name": "stdout",
     "output_type": "stream",
     "text": [
      "scaffold_splitter RLM linear\n"
     ]
    },
    {
     "name": "stderr",
     "output_type": "stream",
     "text": [
      "[I 2023-10-10 22:06:25,252] A new study created in RDB with name: KRR\n"
     ]
    },
    {
     "name": "stdout",
     "output_type": "stream",
     "text": [
      "scaffold_splitter RLM KRR\n"
     ]
    },
    {
     "name": "stderr",
     "output_type": "stream",
     "text": [
      "[I 2023-10-10 22:06:26,327] Trial 0 finished with value: 1.1120909107559847 and parameters: {'alpha': 0.4681177342387701, 'gamma': 3.659206904728363e-16, 'kernel': 'rbf'}. Best is trial 0 with value: 1.1120909107559847.\n",
      "[I 2023-10-10 22:06:26,465] A new study created in RDB with name: GB\n"
     ]
    },
    {
     "name": "stdout",
     "output_type": "stream",
     "text": [
      "scaffold_splitter RLM GB\n"
     ]
    },
    {
     "name": "stderr",
     "output_type": "stream",
     "text": [
      "[I 2023-10-10 22:06:30,080] Trial 0 finished with value: 1.0062548683072043 and parameters: {'n_estimators': 10, 'learning_rate': 0.3270569931829844, 'max_depth': 4}. Best is trial 0 with value: 1.0062548683072043.\n",
      "[I 2023-10-10 22:06:30,206] A new study created in RDB with name: RF\n"
     ]
    },
    {
     "name": "stdout",
     "output_type": "stream",
     "text": [
      "scaffold_splitter RLM RF\n"
     ]
    },
    {
     "name": "stderr",
     "output_type": "stream",
     "text": [
      "[I 2023-10-10 22:06:38,121] Trial 0 finished with value: 0.996736952308356 and parameters: {'n_estimators': 200, 'max_features': 'auto', 'max_depth': 3}. Best is trial 0 with value: 0.996736952308356.\n",
      "[I 2023-10-10 22:06:38,249] A new study created in RDB with name: ANN\n"
     ]
    },
    {
     "name": "stdout",
     "output_type": "stream",
     "text": [
      "scaffold_splitter RLM ANN\n"
     ]
    },
    {
     "name": "stderr",
     "output_type": "stream",
     "text": [
      "[I 2023-10-10 22:06:46,221] Trial 0 finished with value: 1.0714399293778747 and parameters: {'learning_rate_init': 0.09388700367296468, 'hidden_layer_sizes': [5]}. Best is trial 0 with value: 1.0714399293778747.\n",
      "[I 2023-10-10 22:06:46,359] A new study created in RDB with name: linear\n"
     ]
    },
    {
     "name": "stdout",
     "output_type": "stream",
     "text": [
      "scaffold_splitter HLC linear\n"
     ]
    },
    {
     "name": "stderr",
     "output_type": "stream",
     "text": [
      "[I 2023-10-10 22:06:46,435] Trial 0 finished with value: 0.49222880245650563 and parameters: {'alpha': 0.08354423739180682, 'l1_ratio': 0.6771087670427723}. Best is trial 0 with value: 0.49222880245650563.\n"
     ]
    },
    {
     "name": "stdout",
     "output_type": "stream",
     "text": [
      "scaffold_splitter HLC KRR\n"
     ]
    },
    {
     "name": "stderr",
     "output_type": "stream",
     "text": [
      "[I 2023-10-10 22:06:46,688] A new study created in RDB with name: KRR\n",
      "[I 2023-10-10 22:06:46,762] Trial 0 finished with value: 0.8159988144385038 and parameters: {'alpha': 0.45138889652195213, 'gamma': 9.25112512766806e-15, 'kernel': 'laplacian'}. Best is trial 0 with value: 0.8159988144385038.\n",
      "[I 2023-10-10 22:06:46,893] A new study created in RDB with name: GB\n"
     ]
    },
    {
     "name": "stdout",
     "output_type": "stream",
     "text": [
      "scaffold_splitter HLC GB\n"
     ]
    },
    {
     "name": "stderr",
     "output_type": "stream",
     "text": [
      "[I 2023-10-10 22:06:47,334] Trial 0 finished with value: 0.5036686982461732 and parameters: {'n_estimators': 10, 'learning_rate': 0.2048964546603394, 'max_depth': 5}. Best is trial 0 with value: 0.5036686982461732.\n",
      "[I 2023-10-10 22:06:47,480] A new study created in RDB with name: RF\n"
     ]
    },
    {
     "name": "stdout",
     "output_type": "stream",
     "text": [
      "scaffold_splitter HLC RF\n"
     ]
    },
    {
     "name": "stderr",
     "output_type": "stream",
     "text": [
      "[I 2023-10-10 22:06:48,751] Trial 0 finished with value: 0.4514864164705113 and parameters: {'n_estimators': 50, 'max_features': 'auto', 'max_depth': None}. Best is trial 0 with value: 0.4514864164705113.\n",
      "[I 2023-10-10 22:06:48,876] A new study created in RDB with name: ANN\n"
     ]
    },
    {
     "name": "stdout",
     "output_type": "stream",
     "text": [
      "scaffold_splitter HLC ANN\n"
     ]
    },
    {
     "name": "stderr",
     "output_type": "stream",
     "text": [
      "[I 2023-10-10 22:06:49,342] Trial 0 finished with value: 2.7861343135035814 and parameters: {'learning_rate_init': 0.025107979675308954, 'hidden_layer_sizes': [5, 5, 5]}. Best is trial 0 with value: 2.7861343135035814.\n"
     ]
    }
   ],
   "source": [
    "sampler = samplers['TPESampler']\n",
    "pruner = pruners[\"BasePruner\"]\n",
    "n_trials = 1\n",
    "for splitter in splitters:\n",
    "    if splitter == \"rand\":\n",
    "        splitter_name = \"random\"\n",
    "    else:\n",
    "        splitter_name = \"scaffold_splitter\"\n",
    "\n",
    "    for isozyme in isozymes:\n",
    "        X_train = mol_features[splitter][isozyme][\"train\"]\n",
    "        y_train = np.log(halflives[splitter][isozyme][\"train\"])  # natural log half-lives -> values are less spread out\n",
    "        X_test = mol_features[splitter][isozyme][\"test\"]\n",
    "        y_test = np.log(halflives[splitter][isozyme][\"test\"])\n",
    "        for model_identifier in model_identifiers:\n",
    "            print(splitter_name, isozyme, model_identifier)\n",
    "            study = optuna.create_study(study_name=model_identifier, directions=['minimize'], pruner=pruner,\n",
    "                                        storage=f\"sqlite:///project_resources/optuna/jazzy/{splitter_name}/{isozyme}/db.{model_identifier}\", load_if_exists=True)\n",
    "            test = HyperparamTuner(model_identifier, X_train, y_train, X_test, y_test)\n",
    "            study.optimize(test.objective, n_trials=n_trials, n_jobs=-1)  # catch=(ValueError,)\n",
    "            joblib.dump(study, f\"./project_resources/optuna/jazzy/{splitter_name}/{isozyme}/{model_identifier}.pkl\")"
   ]
  },
  {
   "cell_type": "code",
   "execution_count": null,
   "id": "496ea474-04e3-4a99-8eb0-5776766ff720",
   "metadata": {},
   "outputs": [],
   "source": []
  }
 ],
 "metadata": {
  "kernelspec": {
   "display_name": "Python 3 (ipykernel)",
   "language": "python",
   "name": "python3"
  },
  "language_info": {
   "codemirror_mode": {
    "name": "ipython",
    "version": 3
   },
   "file_extension": ".py",
   "mimetype": "text/x-python",
   "name": "python",
   "nbconvert_exporter": "python",
   "pygments_lexer": "ipython3",
   "version": "3.7.16"
  }
 },
 "nbformat": 4,
 "nbformat_minor": 5
}
