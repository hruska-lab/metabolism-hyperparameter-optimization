{
 "cells": [
  {
   "cell_type": "code",
   "execution_count": 1,
   "id": "9e1552ad-a611-413a-b0d2-ccd245e4d499",
   "metadata": {},
   "outputs": [
    {
     "name": "stderr",
     "output_type": "stream",
     "text": [
      "Skipped loading some Tensorflow models, missing a dependency. No module named 'tensorflow'\n",
      "Skipped loading modules with pytorch-lightning dependency, missing a dependency. No module named 'pytorch_lightning'\n",
      "Skipped loading some Jax models, missing a dependency. No module named 'jax'\n"
     ]
    },
    {
     "name": "stdout",
     "output_type": "stream",
     "text": [
      "importing Jupyter notebook from C:\\Users\\Lukas\\Documents\\datacytochromy\\project_resources\\cytochrome_P450.ipynb\n"
     ]
    }
   ],
   "source": [
    "import sys\n",
    "import numpy as np\n",
    "import pandas as pd\n",
    "import deepchem as dc\n",
    "from sklearn.model_selection import train_test_split\n",
    "from project_resources.import_utils import NotebookFinder\n",
    "sys.meta_path.append(NotebookFinder())\n",
    "from project_resources.cytochrome_P450 import isz_csv_data_formatting, abs_file_path, mol_fts"
   ]
  },
  {
   "cell_type": "code",
   "execution_count": 2,
   "id": "d425f5e3-a2ec-47dd-a882-8bc65db5aa1e",
   "metadata": {
    "tags": []
   },
   "outputs": [],
   "source": [
    "isozymes = [\"3A4\", \"RLM\", \"HLC\"]\n",
    "data_splits = [\"train\", \"test\"]\n",
    "splitters = [\"rand\", \"scaff\", \"time\"]\n",
    "rel_paths = {\n",
    "    \"3A4_source\": r\"project_resources/ChEMBL_3A4.csv\",\n",
    "    \"3A4_sep\": \";\",\n",
    "    \"3A4\": r\"project_resources/3A4.csv\",\n",
    "    \"3A4_train_scaff\": r\"project_resources/base_splits/scaffold_splitter/3A4_train.csv\",\n",
    "    \"3A4_test_scaff\": r\"project_resources/base_splits/scaffold_splitter/3A4_test.csv\",\n",
    "    \"3A4_train_rand\": r\"project_resources/base_splits/random/3A4_train.csv\",\n",
    "    \"3A4_test_rand\": r\"project_resources/base_splits/random/3A4_test.csv\",\n",
    "    \"3A4_train_time\": r\"project_resources/base_splits/time_split/3A4_train.csv\",\n",
    "    \"3A4_test_time\": r\"project_resources/base_splits/time_split/3A4_test.csv\",\n",
    "    \"3A4_jazzy_train_rand\": r\"project_resources/RLM_test/jazzy_splits/random/3A4_train.csv\",\n",
    "    \"3A4_jazzy_test_rand\": r\"project_resources/RLM_test/jazzy_splits/random/3A4_test.csv\",\n",
    "    \"3A4_jazzy_train_scaff\": r\"project_resources/RLM_test/jazzy_splits/scaffold_splitter/3A4_train.csv\",\n",
    "    \"3A4_jazzy_test_scaff\": r\"project_resources/RLM_test/jazzy_splits/scaffold_splitter/3A4_test.csv\",\n",
    "    \"3A4_jazzy_train_time\": r\"project_resources/RLM_test/jazzy_splits/time_split/3A4_train.csv\",\n",
    "    \"3A4_jazzy_test_time\": r\"project_resources/RLM_test/jazzy_splits/time_split/3A4_test.csv\",\n",
    "\n",
    "    \"RLM_source\": r\"project_resources/AID_1508591_datatable_all.csv\",\n",
    "    \"RLM_sep\": \",\",\n",
    "    \"RLM\": r\"project_resources/RLM.csv\",\n",
    "    \"RLM_train_scaff\": r\"project_resources/base_splits/scaffold_splitter/RLM_train.csv\",\n",
    "    \"RLM_test_scaff\": r\"project_resources/base_splits/scaffold_splitter/RLM_test.csv\",\n",
    "    \"RLM_train_rand\": r\"project_resources/base_splits/random/RLM_train.csv\",\n",
    "    \"RLM_test_rand\": r\"project_resources/base_splits/random/RLM_test.csv\",\n",
    "    \"RLM_train_time\": r\"project_resources/base_splits/time_split/RLM_train.csv\",\n",
    "    \"RLM_test_time\": r\"project_resources/base_splits/time_split/RLM_test.csv\",\n",
    "    \"RLM_jazzy_train_rand\": r\"project_resources/RLM_test/jazzy_splits/random/RLM_train.csv\",\n",
    "    \"RLM_jazzy_test_rand\": r\"project_resources/RLM_test/jazzy_splits/random/RLM_test.csv\",\n",
    "    \"RLM_jazzy_train_scaff\": r\"project_resources/RLM_test/jazzy_splits/scaffold_splitter/RLM_train.csv\",\n",
    "    \"RLM_jazzy_test_scaff\": r\"project_resources/RLM_test/jazzy_splits/scaffold_splitter/RLM_test.csv\",\n",
    "    \"RLM_jazzy_train_time\": r\"project_resources/RLM_test/jazzy_splits/time_split/RLM_train.csv\",\n",
    "    \"RLM_jazzy_test_time\": r\"project_resources/RLM_test/jazzy_splits/time_split/RLM_test.csv\",\n",
    "\n",
    "    \"HLC_source\": r\"project_resources/AID_1508603_datatable_all.csv\",\n",
    "    \"HLC_sep\": \",\",\n",
    "    \"HLC\": r\"project_resources/HLC.csv\",\n",
    "    \"HLC_train_scaff\": r\"project_resources/base_splits/scaffold_splitter/HLC_train.csv\",\n",
    "    \"HLC_test_scaff\": r\"project_resources/base_splits/scaffold_splitter/HLC_test.csv\",\n",
    "    \"HLC_train_rand\": r\"project_resources/base_splits/random/HLC_train.csv\",\n",
    "    \"HLC_test_rand\": r\"project_resources/base_splits/random/HLC_test.csv\",\n",
    "    \"HLC_train_time\": r\"project_resources/base_splits/time_split/HLC_train.csv\",\n",
    "    \"HLC_test_time\": r\"project_resources/base_splits/time_split/HLC_test.csv\",\n",
    "    \"HLC_jazzy_train_rand\": r\"project_resources/RLM_test/jazzy_splits/random/HLC_train.csv\",\n",
    "    \"HLC_jazzy_test_rand\": r\"project_resources/RLM_test/jazzy_splits/random/HLC_test.csv\",\n",
    "    \"HLC_jazzy_train_scaff\": r\"project_resources/RLM_test/jazzy_splits/scaffold_splitter/HLC_train.csv\",\n",
    "    \"HLC_jazzy_test_scaff\": r\"project_resources/RLM_test/jazzy_splits/scaffold_splitter/HLC_test.csv\",\n",
    "    \"HLC_jazzy_train_time\": r\"project_resources/RLM_test/jazzy_splits/time_split/HLC_train.csv\",\n",
    "    \"HLC_jazzy_test_time\": r\"project_resources/RLM_test/jazzy_splits/time_split/HLC_test.csv\"\n",
    "}\n",
    "smiles = {}\n",
    "halflives = {}\n",
    "years = {}\n",
    "smiles_as_index = {}  # structure: {isozyme: {\"smi\": (idx, halflife, published),...}}\n",
    "sorted_smiles = {}\n",
    "smi_as_idx_time_sorted = {}  # same structure as smiles_as_index but tuples in each isozyme are sorted by publication date\n",
    "years_split = {}\n",
    "rand_split_smiles = {}\n",
    "scaff_split_smiles = {}\n",
    "time_split_smiles = {}\n",
    "mol_features = {}"
   ]
  },
  {
   "cell_type": "code",
   "execution_count": 3,
   "id": "4b34a01a-328a-4de0-88b4-f6639852fbe9",
   "metadata": {},
   "outputs": [],
   "source": [
    "isozyme = \"RLM\""
   ]
  },
  {
   "cell_type": "code",
   "execution_count": 4,
   "id": "6786e0a4-813a-4d3f-abe5-d8cb9bc7df60",
   "metadata": {
    "tags": []
   },
   "outputs": [
    {
     "name": "stdout",
     "output_type": "stream",
     "text": [
      "RLM.csv already exists in dir\n"
     ]
    }
   ],
   "source": [
    "# create and/or load csv files\n",
    "isz_csv_data_formatting(rel_paths[f\"{isozyme}_source\"], isozyme, sep=rel_paths[f\"{isozyme}_sep\"])"
   ]
  },
  {
   "cell_type": "code",
   "execution_count": 5,
   "id": "45c10a3d-0ef8-4071-ae9a-656175d0c4e6",
   "metadata": {},
   "outputs": [
    {
     "name": "stdout",
     "output_type": "stream",
     "text": [
      "['COc1cc2c3cc1Oc1c(O)c(OC)cc4c1[C@@H](Cc1ccc(cc1)Oc1cc(ccc1O)C[C@H]3N(C)CC2)N(C)CC4', 'O=C(NCCc1ccccn1)C1CC(=O)N(c2n[nH]c3cc(Br)ccc23)C1', 'Nc1nc2c(s1)C(c1ccc(F)c(F)c1)CC(=O)N2', 'Cc1nc(-c2ccco2)cc([C@H]2CN3CC[C@H]2C[C@@H]3CNC(=O)NC2CCCCC2)n1', 'Cc1ccc(-n2c(=O)c3oc4ccccc4c3n(CC(=O)Nc3ccc(F)c(Cl)c3)c2=O)cc1C']\n",
      "[29.84, 29.71, 29.66, 29.6, 29.56]\n",
      "(755, 29.84, 2005)\n"
     ]
    }
   ],
   "source": [
    "# read smiles, their idxs, corresponding half-life and publication year as tuple(tuple(idx, smiles, half-life), year)\n",
    "df = pd.read_csv(rel_paths[isozyme])\n",
    "df = df[df[\"half-life\"] != 30]\n",
    "index = list(df[\"mol_idx\"])\n",
    "_smiles = list(df[\"smiles\"])\n",
    "halflife = list(df[\"half-life\"])\n",
    "published = list(df[\"published\"])\n",
    "smiles[isozyme] = _smiles\n",
    "halflives[isozyme] = halflife\n",
    "years[isozyme] = published\n",
    "smiles_as_index[isozyme] = {}\n",
    "for idx, smi, val, year in zip(index, _smiles, halflife, published):\n",
    "    smiles_as_index[isozyme][smi] = (idx, val, year)\n",
    "first_smiles = smiles[isozyme][0]\n",
    "print(f\"{smiles[isozyme][:5]}\\n{halflives[isozyme][:5]}\\n{smiles_as_index[isozyme][first_smiles]}\")"
   ]
  },
  {
   "cell_type": "code",
   "execution_count": 6,
   "id": "b9f1d452-c818-484f-aba5-d8c040394e15",
   "metadata": {},
   "outputs": [
    {
     "name": "stdout",
     "output_type": "stream",
     "text": [
      "['O=c1c(O)c(-c2ccc(O)cc2)oc2cc(O)cc(O)c12', 'Nc1cc2nc3ccccc3oc-2cc1=O', 'NC[C@H](O)c1ccc(O)c(O)c1', 'COc1cc2c3cc1Oc1c(O)c(OC)cc4c1[C@@H](Cc1ccc(cc1)Oc1cc(ccc1O)C[C@H]3N(C)CC2)N(C)CC4', 'CCOC(=O)N1CCN(Cc2nc3c(c(=O)n(C)c(=O)n3C)n2Cc2cccc(C)c2)CC1']\n",
      "[6.13, 8.63, 13.36, 29.84, 4.9]\n",
      "(1619, 6.13, 2004)\n"
     ]
    }
   ],
   "source": [
    "# create a sorted version of smiles_as_index\n",
    "df = pd.read_csv(rel_paths[isozyme])\n",
    "df = df[df[\"half-life\"] != 30]\n",
    "sorted_df = df.sort_values(by=\"published\", axis=0)\n",
    "sorted_index = list(sorted_df[\"mol_idx\"])\n",
    "_sorted_smiles = list(sorted_df[\"smiles\"])\n",
    "sorted_halflife = list(sorted_df[\"half-life\"])\n",
    "sorted_published = list(sorted_df[\"published\"])\n",
    "sorted_smiles[isozyme] = _sorted_smiles\n",
    "smi_as_idx_time_sorted[isozyme] = {}\n",
    "for idx, smi, val, year in zip(sorted_index, _sorted_smiles, sorted_halflife, sorted_published):\n",
    "    smi_as_idx_time_sorted[isozyme][smi] = (idx, val, year)\n",
    "first_smiles = _sorted_smiles[0]\n",
    "print(f\"{_sorted_smiles[:5]}\\n{sorted_halflife[:5]}\\n{smi_as_idx_time_sorted[isozyme][first_smiles]}\")"
   ]
  },
  {
   "cell_type": "code",
   "execution_count": 7,
   "id": "30490c68-c1ed-4b48-a8aa-9b45cd42a442",
   "metadata": {},
   "outputs": [],
   "source": [
    "def test_RLM_splitting(isozyme, smiles_as_index, split_smiles, split_type, include_year=False, years=None):\n",
    "    # saves ML splits as csv files containing mol idxs, smiles and half-lives\n",
    "    for split in [\"train\", \"test\"]:\n",
    "        location = f\"project_resources/RLM_test/base_splits/{split_type}\"\n",
    "        file_name = f\"{isozyme}_{split}.csv\"\n",
    "        # check if file already exists\n",
    "        try:\n",
    "            with open(f\"{location}/{file_name}\") as f:\n",
    "                f.close()\n",
    "            print(f\"{file_name} already exists in {location}\")\n",
    "\n",
    "        except FileNotFoundError:\n",
    "            split_df = pd.DataFrame()\n",
    "            split_indexes = []\n",
    "            split_halflifes = []\n",
    "            isz_scaff_split_smiles = split_smiles[split]\n",
    "\n",
    "            # get the index and half-life values for each smiles in data split\n",
    "            for smi in isz_scaff_split_smiles:\n",
    "                smi_idx = smiles_as_index[isozyme][smi][0]  # numerical index of smiles\n",
    "                split_indexes.append(smi_idx)\n",
    "                mol_halflife = smiles_as_index[isozyme][smi][1]  # half-life value for the specific molecule\n",
    "                split_halflifes.append(mol_halflife)\n",
    "\n",
    "            split_df[\"index\"] = split_indexes\n",
    "            split_df[\"smiles\"] = isz_scaff_split_smiles\n",
    "            split_df[\"half-life\"] = split_halflifes\n",
    "            if include_year:\n",
    "                split_df[\"published\"] = years[isozyme][split]\n",
    "            split_df.to_csv(abs_file_path(f\"{location}/{file_name}\"), index=False)\n",
    "            print(f\"{file_name} was successfully created in {location}\")"
   ]
  },
  {
   "cell_type": "code",
   "execution_count": 8,
   "id": "42b735c1-7e27-460e-b22f-ad3b58671404",
   "metadata": {},
   "outputs": [
    {
     "name": "stdout",
     "output_type": "stream",
     "text": [
      "RLM\n",
      "train: 1421\n",
      "test: 356\n",
      "\n"
     ]
    }
   ],
   "source": [
    "# random train-test split\n",
    "rand_train, rand_test = train_test_split(smiles[isozyme], test_size=0.2, random_state=42)\n",
    "rand_split_smiles[isozyme] = {}\n",
    "rand_split_smiles[isozyme][\"train\"] = rand_train\n",
    "rand_split_smiles[isozyme][\"test\"] = rand_test\n",
    "print(f\"{isozyme}\\ntrain: {len(rand_split_smiles[isozyme]['train'])}\\ntest: {len(rand_split_smiles[isozyme]['test'])}\\n\")"
   ]
  },
  {
   "cell_type": "code",
   "execution_count": 9,
   "id": "45c5d367-cb71-4570-8a4e-8f4db4ede287",
   "metadata": {},
   "outputs": [
    {
     "name": "stdout",
     "output_type": "stream",
     "text": [
      "RLM_train.csv already exists in project_resources/RLM_test/base_splits/random\n",
      "RLM_test.csv already exists in project_resources/RLM_test/base_splits/random\n"
     ]
    }
   ],
   "source": [
    "# save the random splits to csv files\n",
    "test_RLM_splitting(isozyme, smiles_as_index, rand_split_smiles[isozyme], \"random\")"
   ]
  },
  {
   "cell_type": "code",
   "execution_count": 10,
   "id": "dec6f81f-4eaa-4f93-b657-4d855b5dd41d",
   "metadata": {},
   "outputs": [
    {
     "name": "stdout",
     "output_type": "stream",
     "text": [
      "RLM\n",
      "train: 1421\n",
      "test: 356\n",
      "\n",
      "[[40, 58, 69, 319, 355, 416, 589, 637, 745, 777, 790, 925, 927, 945, 1015, 1030, 1070, 1083, 1093, 1101, 1110, 1148, 1192, 1194, 1199, 1233, 1359, 1378, 1381, 1392, 1417, 1427, 1446, 1460, 1480, 1515, 1524, 1578, 1711], [33, 63, 214, 217, 218, 244, 262, 335, 379, 392, 411, 412, 451, 456, 527, 592, 772, 795, 796, 814, 834, 874, 899, 910, 981, 1012, 1033, 1168, 1413, 1485, 1620], [6, 18, 19, 47, 147, 149, 216, 239, 243, 302, 370, 371, 376, 458, 491, 492, 493, 523, 524, 581, 583, 597, 611, 621, 705, 722, 738, 769, 841, 1043], [83, 443, 576, 615, 651, 663, 668, 749, 831, 851, 920, 1017, 1020, 1115, 1116, 1152, 1206, 1284, 1306, 1335, 1347, 1558], [62, 86, 174, 238, 329, 365, 405, 407, 485, 487, 520, 525, 575, 664, 759, 943, 1098, 1242], [711, 1126, 1171, 1175, 1268, 1301, 1322, 1386, 1410, 1461, 1468, 1469, 1470, 1471, 1592], [189, 326, 603, 752, 890, 891, 1031, 1176, 1269, 1303, 1304, 1504, 1557, 1607, 1721], [144, 303, 342, 395, 398, 406, 424, 545, 580, 885, 1021, 1154, 1177, 1561, 1613], [65, 123, 181, 246, 275, 309, 378, 388, 741, 764, 868, 887, 982, 1034, 1060], [79, 82, 170, 206, 285, 298, 349, 359, 785, 1224, 1321, 1440], [1271, 1305, 1444, 1472, 1500, 1501, 1510, 1511, 1522, 1551, 1560], [194, 289, 1184, 1368, 1377, 1437, 1513, 1631, 1734, 1744], [115, 143, 269, 328, 366, 367, 441, 442, 482, 609], [44, 45, 118, 145, 211, 333, 409, 488, 526, 992], [93, 180, 220, 348, 560, 616, 779, 873, 1035], [846, 928, 985, 1025, 1075, 1114, 1180, 1383], [639, 641, 703, 797, 827, 854, 884, 1026], [172, 173, 459, 557, 776, 836, 1032, 1615], [84, 208, 267, 301, 401, 403, 650, 1205], [1063, 1147, 1201, 1254, 1280, 1369, 1753], [171, 361, 438, 479, 708, 731, 736], [78, 282, 404, 434, 435, 901, 1408], [233, 503, 691, 1343, 1577, 1676], [113, 622, 877, 1124, 1296, 1643], [72, 134, 497, 567, 692, 1355], [2, 50, 97, 98, 1137, 1424], [712, 788, 1022, 1049, 1363], [707, 775, 947, 1429, 1771], [596, 1064, 1161, 1214, 1256], [555, 633, 798, 978, 1011], [542, 953, 1196, 1601, 1693], [514, 573, 614, 631, 696], [455, 652, 1023, 1331, 1508], [264, 543, 844, 881, 987], [197, 223, 1216, 1258, 1293], [192, 310, 502, 988, 1537], [184, 312, 623, 825, 863], [88, 374, 439, 447, 486], [64, 92, 122, 529, 973], [37, 54, 94, 138, 1735], [5, 645, 659, 757, 974], [1466, 1550, 1597, 1618], [1257, 1297, 1448, 1555], [1095, 1207, 1283, 1325], [994, 1264, 1265, 1282], [813, 1088, 1389, 1442], [793, 821, 823, 830], [470, 807, 1405, 1484], [425, 893, 1078, 1750], [375, 546, 833, 1013], [296, 1326, 1385, 1658], [254, 283, 462, 537], [167, 554, 598, 787], [128, 229, 266, 1190], [116, 327, 962, 1086], [76, 225, 384, 1009], [31, 80, 169, 476], [10, 284, 849, 1133], [1565, 1623, 1660], [1525, 1640, 1733], [1520, 1636, 1649], [1505, 1608, 1609], [1414, 1563, 1697], [1407, 1600, 1652], [1370, 1371, 1499], [1288, 1605, 1705], [1211, 1478, 1606], [1164, 1593, 1684], [1100, 1547, 1641], [1024, 1163, 1346], [989, 1348, 1689], [880, 1204, 1289], [817, 1061, 1274], [766, 898, 1045], [760, 1228, 1286], [732, 1001, 1349], [716, 1106, 1249], [646, 647, 1465], [550, 1029, 1079], [507, 723, 912], [480, 481, 1151], [463, 617, 753], [372, 452, 582], [343, 724, 845], [270, 271, 444], [213, 680, 932], [204, 548, 606], [200, 394, 904], [178, 921, 1272], [166, 202, 572], [130, 396, 1128], [91, 241, 242], [74, 158, 562], [59, 1183, 1686], [16, 358, 478], [1742, 1749], [1731, 1747], [1680, 1745], [1664, 1682], [1638, 1725], [1587, 1629], [1564, 1622], [1544, 1545], [1528, 1681], [1523, 1542], [1509, 1616], [1502, 1604], [1454, 1732], [1436, 1439], [1433, 1663], [1399, 1598], [1379, 1548], [1361, 1441], [1316, 1590], [1313, 1318], [1244, 1388], [1210, 1332], [1189, 1217], [1169, 1700], [1160, 1185], [1135, 1403], [1131, 1415], [1122, 1157], [1119, 1775], [1103, 1239], [1091, 1250], [1084, 1275], [1038, 1459], [1000, 1765], [946, 1774], [941, 1707], [938, 1698], [937, 939], [894, 1072], [872, 1556], [866, 1127], [864, 1463], [852, 1113], [850, 865], [835, 1179], [822, 829], [806, 856], [784, 1187], [755, 952], [746, 966], [744, 843], [709, 725], [706, 948], [693, 1420], [689, 1065], [686, 728], [673, 993], [649, 889], [627, 748], [619, 1401], [591, 1002], [578, 593], [577, 1245], [574, 1057], [559, 824], [544, 1422], [528, 670], [509, 1027], [506, 1213], [501, 599], [499, 957], [498, 1234], [495, 519], [474, 1586], [472, 539], [457, 682], [420, 605], [387, 1668], [377, 494], [344, 929], [330, 368], [299, 510], [295, 687], [265, 1312], [261, 1584], [251, 340], [199, 667], [191, 201], [176, 867], [150, 345], [101, 661], [96, 106], [51, 423], [42, 183], [25, 563], [22, 132], [13, 719], [7, 212], [1776], [1773], [1772], [1770], [1769], [1768], [1767], [1766], [1764], [1763], [1762], [1761], [1760], [1759], [1758], [1757], [1756], [1755], [1754], [1752], [1751], [1748], [1746], [1743], [1741], [1740], [1739], [1738], [1737], [1736], [1730], [1729], [1728], [1727], [1726], [1724], [1723], [1722], [1720], [1719], [1718], [1717], [1716], [1715], [1714], [1713], [1712], [1710], [1709], [1708], [1706], [1704], [1703], [1702], [1701], [1699], [1696], [1695], [1694], [1692], [1691], [1690], [1688], [1687], [1685], [1683], [1679], [1678], [1677], [1675], [1674], [1673], [1672], [1671], [1670], [1669], [1667], [1666], [1665], [1662], [1661], [1659], [1657], [1656], [1655], [1654], [1653], [1651], [1650], [1648], [1647], [1646], [1645], [1644], [1642], [1639], [1637], [1635], [1634], [1633], [1632], [1630], [1628], [1627], [1626], [1625], [1624], [1621], [1619], [1617], [1614], [1612], [1611], [1610], [1603], [1602], [1599], [1596], [1595], [1594], [1591], [1589], [1588], [1585], [1583], [1582], [1581], [1580], [1579], [1576], [1575], [1574], [1573], [1572], [1571], [1570], [1569], [1568], [1567], [1566], [1562], [1559], [1554], [1553], [1552], [1549], [1546], [1543], [1541], [1540], [1539], [1538], [1536], [1535], [1534], [1533], [1532], [1531], [1530], [1529], [1527], [1526], [1521], [1519], [1518], [1517], [1516], [1514], [1512], [1507], [1506], [1503], [1498], [1497], [1496], [1495], [1494], [1493], [1492], [1491], [1490], [1489], [1488], [1487], [1486], [1483], [1482], [1481], [1479], [1477], [1476], [1475], [1474], [1473], [1467], [1464], [1462], [1458], [1457], [1456], [1455], [1453], [1452], [1451], [1450], [1449], [1447], [1445], [1443], [1438], [1435], [1434], [1432], [1431], [1430], [1428], [1426], [1425], [1423], [1421], [1419], [1418], [1416], [1412], [1411], [1409], [1406], [1404], [1402], [1400], [1398], [1397], [1396], [1395], [1394], [1393], [1391], [1390], [1387], [1384], [1382], [1380], [1376], [1375], [1374], [1373], [1372], [1367], [1366], [1365], [1364], [1362], [1360], [1358], [1357], [1356], [1354], [1353], [1352], [1351], [1350], [1345], [1344], [1342], [1341], [1340], [1339], [1338], [1337], [1336], [1334], [1333], [1330], [1329], [1328], [1327], [1324], [1323], [1320], [1319], [1317], [1315], [1314], [1311], [1310], [1309], [1308], [1307], [1302], [1300], [1299], [1298], [1295], [1294], [1292], [1291], [1290], [1287], [1285], [1281], [1279], [1278], [1277], [1276], [1273], [1270], [1267], [1266], [1263], [1262], [1261], [1260], [1259], [1255], [1253], [1252], [1251], [1248], [1247], [1246], [1243], [1241], [1240], [1238], [1237], [1236], [1235], [1232], [1231], [1230], [1229], [1227], [1226], [1225], [1223], [1222], [1221], [1220], [1219], [1218], [1215], [1212], [1209], [1208], [1203], [1202], [1200], [1198], [1197], [1195], [1193], [1191], [1188], [1186], [1182], [1181], [1178], [1174], [1173], [1172], [1170], [1167], [1166], [1165], [1162], [1159], [1158], [1156], [1155], [1153], [1150], [1149], [1146], [1145], [1144], [1143], [1142], [1141], [1140], [1139], [1138], [1136], [1134], [1132], [1130], [1129], [1125], [1123], [1121], [1120], [1118], [1117], [1112], [1111], [1109], [1108], [1107], [1105], [1104], [1102], [1099], [1097], [1096], [1094], [1092], [1090], [1089], [1087], [1085], [1082], [1081], [1080], [1077], [1076], [1074], [1073], [1071], [1069], [1068], [1067], [1066], [1062], [1059], [1058], [1056], [1055], [1054], [1053], [1052], [1051], [1050], [1048], [1047], [1046], [1044], [1042], [1041], [1040], [1039], [1037], [1036], [1028], [1019], [1018], [1016], [1014], [1010], [1008], [1007], [1006], [1005], [1004], [1003], [999], [998], [997], [996], [995], [991], [990], [986], [984], [983], [980], [979], [977], [976], [975], [972], [971], [970], [969], [968], [967], [965], [964], [963], [961], [960], [959], [958], [956], [955], [954], [951], [950], [949], [944], [942], [940], [936], [935], [934], [933], [931], [930], [926], [924], [923], [922], [919], [918], [917], [916], [915], [914], [913], [911], [909], [908], [907], [906], [905], [903], [902], [900], [897], [896], [895], [892], [888], [886], [883], [882], [879], [878], [876], [875], [871], [870], [869], [862], [861], [860], [859], [858], [857], [855], [853], [848], [847], [842], [840], [839], [838], [837], [832], [828], [826], [820], [819], [818], [816], [815], [812], [811], [810], [809], [808], [805], [804], [803], [802], [801], [800], [799], [794], [792], [791], [789], [786], [783], [782], [781], [780], [778], [774], [773], [771], [770], [768], [767], [765], [763], [762], [761], [758], [756], [754], [751], [750], [747], [743], [742], [740], [739], [737], [735], [734], [733], [730], [729], [727], [726], [721], [720], [718], [717], [715], [714], [713], [710], [704], [702], [701], [700], [699], [698], [697], [695], [694], [690], [688], [685], [684], [683], [681], [679], [678], [677], [676], [675], [674], [672], [671], [669], [666], [665], [662], [660], [658], [657], [656], [655], [654], [653], [648], [644], [643], [642], [640], [638], [636], [635], [634], [632], [630], [629], [628], [626], [625], [624], [620], [618], [613], [612], [610], [608], [607], [604], [602], [601], [600], [595], [594], [590], [588], [587], [586], [585], [584], [579], [571], [570], [569], [568], [566], [565], [564], [561], [558], [556], [553], [552], [551], [549], [547], [541], [540], [538], [536], [535], [534], [533], [532], [531], [530], [522], [521], [518], [517], [516], [515], [513], [512], [511], [508], [505], [504], [500], [496], [490], [489], [484], [483], [477], [475], [473], [471], [469], [468], [467], [466], [465], [464], [461], [460], [454], [453], [450], [449], [448], [446], [445], [440], [437], [436], [433], [432], [431], [430], [429], [428], [427], [426], [422], [421], [419], [418], [417], [415], [414], [413], [410], [408], [402], [400], [399], [397], [393], [391], [390], [389], [386], [385], [383], [382], [381], [380], [373], [369], [364], [363], [362], [360], [357], [356], [354], [353], [352], [351], [350], [347], [346], [341], [339], [338], [337], [336], [334], [332], [331], [325], [324], [323], [322], [321], [320], [318], [317], [316], [315], [314], [313], [311], [308], [307], [306], [305], [304], [300], [297], [294], [293], [292], [291], [290], [288], [287], [286], [281], [280], [279], [278], [277], [276], [274], [273], [272], [268], [263], [260], [259], [258], [257], [256], [255], [253], [252], [250], [249], [248], [247], [245], [240], [237], [236], [235], [234], [232], [231], [230], [228], [227], [226], [224], [222], [221], [219], [215], [210], [209], [207], [205], [203], [198], [196], [195], [193], [190], [188], [187], [186], [185], [182], [179], [177], [175], [168], [165], [164], [163], [162], [161], [160], [159], [157], [156], [155], [154], [153], [152], [151], [148], [146], [142], [141], [140], [139], [137], [136], [135], [133], [131], [129], [127], [126], [125], [124], [121], [120], [119], [117], [114], [112], [111], [110], [109], [108], [107], [105], [104], [103], [102], [100], [99], [95], [90], [89], [87], [85], [81], [77], [75], [73], [71], [70], [68], [67], [66], [61], [60], [57], [56], [55], [53], [52], [49], [48], [46], [43], [41], [39], [38], [36], [35], [34], [32], [30], [29], [28], [27], [26], [24], [23], [21], [20], [17], [15], [14], [12], [11], [9], [8], [4], [3], [1], [0]]\n"
     ]
    }
   ],
   "source": [
    "# train-test split with deepchem's ScaffoldSplitter\n",
    "identifiers = smiles[isozyme]\n",
    "Xs = np.zeros(len(identifiers))\n",
    "dataset = dc.data.DiskDataset.from_numpy(X=Xs, ids=identifiers)\n",
    "scaffoldsplitter = dc.splits.ScaffoldSplitter()\n",
    "train, test = scaffoldsplitter.train_test_split(dataset)\n",
    "scaffold = scaffoldsplitter.generate_scaffolds(dataset)\n",
    "scaff_split_smiles[isozyme] = {}\n",
    "scaff_split_smiles[isozyme][\"train\"] = train.ids.tolist()\n",
    "scaff_split_smiles[isozyme][\"test\"] = test.ids.tolist()\n",
    "print(f\"{isozyme}\\ntrain: {len(scaff_split_smiles[isozyme]['train'])}\\ntest: {len(scaff_split_smiles[isozyme]['test'])}\\n\")\n",
    "print(scaffold)  # use this to check the strucutre of molecules in large groups"
   ]
  },
  {
   "cell_type": "code",
   "execution_count": 11,
   "id": "f5b78ef5-7dc0-4837-832a-abc3699439a1",
   "metadata": {},
   "outputs": [
    {
     "name": "stdout",
     "output_type": "stream",
     "text": [
      "RLM_train.csv already exists in project_resources/RLM_test/base_splits/scaffold_splitter\n",
      "RLM_test.csv already exists in project_resources/RLM_test/base_splits/scaffold_splitter\n"
     ]
    }
   ],
   "source": [
    "# save the ScaffoldSplitter splits to csv files\n",
    "test_RLM_splitting(isozyme, smiles_as_index, scaff_split_smiles[isozyme], \"scaffold_splitter\")"
   ]
  },
  {
   "cell_type": "code",
   "execution_count": 12,
   "id": "802f64d9-5e55-42c1-98b7-7a23bad91348",
   "metadata": {},
   "outputs": [
    {
     "name": "stdout",
     "output_type": "stream",
     "text": [
      "RLM\n",
      "train: 1421\n",
      "test: 356\n",
      "\n"
     ]
    }
   ],
   "source": [
    "# time split: train dataset ... oldest 80 % of molecules; test dataset ... newest 20 %\n",
    "num_mols = len(sorted_smiles[isozyme])\n",
    "train_size = int(np.floor(num_mols * 0.8))\n",
    "train_smiles = sorted_smiles[isozyme][:train_size]\n",
    "test_smiles = sorted_smiles[isozyme][train_size:]\n",
    "time_split_smiles[isozyme] = {}\n",
    "time_split_smiles[isozyme][\"train\"] = train_smiles\n",
    "time_split_smiles[isozyme][\"test\"] = test_smiles\n",
    "years_split[isozyme] = {}\n",
    "for split in [\"train\", \"test\"]:\n",
    "    years_split[isozyme][split] = []\n",
    "    for smi in time_split_smiles[isozyme][split]:\n",
    "        year = smi_as_idx_time_sorted[isozyme][smi][2]\n",
    "        years_split[isozyme][split].append(year)\n",
    "print(f\"{isozyme}\\ntrain: {len(train_smiles)}\\ntest: {len(test_smiles)}\\n\")"
   ]
  },
  {
   "cell_type": "code",
   "execution_count": 13,
   "id": "3056aa20-d334-4d36-ab73-9157320d5255",
   "metadata": {},
   "outputs": [
    {
     "name": "stdout",
     "output_type": "stream",
     "text": [
      "RLM_train.csv already exists in project_resources/RLM_test/base_splits/time_split\n",
      "RLM_test.csv already exists in project_resources/RLM_test/base_splits/time_split\n"
     ]
    }
   ],
   "source": [
    "# save the time splits to csv files\n",
    "test_RLM_splitting(isozyme, smi_as_idx_time_sorted, time_split_smiles[isozyme],\n",
    "                   \"time_split\", include_year=True, years=years_split)"
   ]
  },
  {
   "cell_type": "code",
   "execution_count": 18,
   "id": "94480987-4d95-4c30-8874-689c378dfe02",
   "metadata": {},
   "outputs": [
    {
     "name": "stdout",
     "output_type": "stream",
     "text": [
      "\n",
      "\n",
      "rand\n",
      "RLM train\n",
      "     removed index 732 corresponding to NaN in train\n",
      "     removed index 1047 corresponding to NaN in train\n",
      "     1414, [1791, 'C[C@H]1CN(C(=O)c2nn(C)c3ccccc23)C[C@@H]1c1nc(-c2cccnc2)no1', 4.4, 11.3352, 0.0, 6.442, -18.5897, -97.0078, -83.9935]\n",
      "     [ 11.3352   0.       6.442  -18.5897 -97.0078 -83.9935]\n",
      "     RLM mol_features train contains NaN: False\n",
      "RLM test\n",
      "     removed index 129 corresponding to NaN in test\n",
      "     removed index 266 corresponding to NaN in test\n",
      "     360, [2309, 'Cc1ccc(OCCn2c(CCNC(=O)N3CCCCC3)nc3ccccc32)cc1', 1.7, 11.6092, 0.7177, 6.0879, -8.9664, -88.0844, -79.041]\n",
      "     [ 11.6092   0.7177   6.0879  -8.9664 -88.0844 -79.041 ]\n",
      "     RLM mol_features test contains NaN: False\n",
      "\n",
      "\n",
      "scaff\n",
      "RLM train\n",
      "     removed index 668 corresponding to NaN in train\n",
      "     removed index 669 corresponding to NaN in train\n",
      "     removed index 1102 corresponding to NaN in train\n",
      "     removed index 1145 corresponding to NaN in train\n",
      "     1739, [795, 'CNC(=O)C1CCN(c2nc(-c3ccc(Br)cc3)cs2)CC1', 26.16, 8.8766, 0.5795, 5.4967, -5.3755, -74.4969, -72.179]\n",
      "     [  8.8766   0.5795   5.4967  -5.3755 -74.4969 -72.179 ]\n",
      "     RLM mol_features train contains NaN: False\n",
      "RLM test\n",
      "     35, [816, 'COCCCNC(=O)c1cc2cc(S(=O)(=O)N(C)C)ccc2n1C', 25.0, 11.5248, 0.6027, 8.403, 1.4734, -106.7528, -81.5668]\n",
      "     [  11.5248    0.6027    8.403     1.4734 -106.7528  -81.5668]\n",
      "     RLM mol_features test contains NaN: False\n",
      "\n",
      "\n",
      "time\n",
      "RLM train\n",
      "     removed index 1114 corresponding to NaN in train\n",
      "     1455, [1430, 'Nc1cc2nc3ccccc3oc-2cc1=O', 8.63, 4.243, 1.7185, 4.2489, -14.4218, -58.0551, -69.8745]\n",
      "     [  4.243    1.7185   4.2489 -14.4218 -58.0551 -69.8745]\n",
      "     RLM mol_features train contains NaN: False\n",
      "RLM test\n",
      "     removed index 95 corresponding to NaN in test\n",
      "     removed index 102 corresponding to NaN in test\n",
      "     removed index 132 corresponding to NaN in test\n",
      "     317, [1706, 'CN1CCN(c2cc(-c3nc(Nc4ccc(F)c(F)c4)c4ccccc4n3)ccn2)CC1', 5.3, 11.0034, 0.6281, 7.3927, -16.9617, -104.2896, -105.2568]\n",
      "     [  11.0034    0.6281    7.3927  -16.9617 -104.2896 -105.2568]\n",
      "     RLM mol_features test contains NaN: False\n"
     ]
    }
   ],
   "source": [
    "# load Jazzy features from csv files or generate the features and save them\n",
    "for splitter in splitters:\n",
    "    print(\"\\n\")\n",
    "    print(splitter)\n",
    "    mol_features[splitter] = {}\n",
    "    halflives[splitter] = {}\n",
    "    mol_features[splitter][isozyme] = {}\n",
    "    halflives[splitter][isozyme] = {}\n",
    "    for split in data_splits:\n",
    "        print(isozyme, split)\n",
    "\n",
    "        try:\n",
    "            df = pd.read_csv(rel_paths[f\"{isozyme}_jazzy_{split}_{splitter}\"])\n",
    "            cols = df.columns\n",
    "            data = {}  # all data from csv file (i.e. mol indexes, smiles, half-lives and features)\n",
    "            for col in cols:\n",
    "                data[col] = list(df[col])\n",
    "            nan_idxs = np.argwhere(np.isnan(data[\"dgtot\"]))\n",
    "            nan_idxs = [int(idx) for idx in nan_idxs]\n",
    "            data_clumped = []  # same as data, but in the form [[idx1, smi1, thalf1, fts1], [idx2, smi2, thalf2, fts2],...]]\n",
    "            for col in cols:\n",
    "                for i, foo in zip(range(len(data[col])), data[col]):\n",
    "                    if len(data_clumped) < i+1:\n",
    "                        data_clumped.append([])\n",
    "                    data_clumped[i].append(foo)\n",
    "\n",
    "            # remove all mols for which Jazzy features generation wasn't successful\n",
    "            num_pops = 0\n",
    "            for nan_idx in nan_idxs:\n",
    "                data_clumped.pop(nan_idx - num_pops)\n",
    "                num_pops += 1\n",
    "                print(f\"     removed index {nan_idx} corresponding to NaN in {split}\")\n",
    "            print(f\"     {len(data_clumped)}, {data_clumped[0]}\")\n",
    "\n",
    "            # filter out only the features\n",
    "            mol_features[splitter][isozyme][split] = np.array([feature[3:11] for feature in data_clumped])\n",
    "            halflives[splitter][isozyme][split] = np.array([feature[2] for feature in data_clumped])\n",
    "            contains_nan = np.any(np.isnan(mol_features[splitter][isozyme][split]))\n",
    "            print(f\"     {mol_features[splitter][isozyme][split][0]}\")\n",
    "            print(f\"     {isozyme} mol_features {split} contains NaN: {contains_nan}\")\n",
    "\n",
    "        except FileNotFoundError:\n",
    "            df = pd.read_csv(rel_paths[f\"{isozyme}_{split}_{splitter}\"])\n",
    "            df = df[df[\"half-life\"] != 30]\n",
    "            mol_idx = df[\"index\"]\n",
    "            smiles = df[\"smiles\"]\n",
    "            halflife = df[\"half-life\"]\n",
    "            mol_features[splitter][isozyme] = mol_fts(smiles, isozyme)  # calculate mol features for list of smiles\n",
    "            mol_fts_df = pd.DataFrame()\n",
    "            mol_fts_df[\"index\"] = mol_idx\n",
    "            mol_fts_df[\"smiles\"] = smiles\n",
    "            mol_fts_df[\"half-life\"] = halflife\n",
    "            present_fts = [feature for feature in mol_features[splitter][isozyme][0]]  # list of all mol features\n",
    "\n",
    "            # write the value of a given feature for each molecule into df\n",
    "            for feature in present_fts:\n",
    "                single_feature_list = []\n",
    "                for i in range(len(mol_features[splitter][isozyme])):\n",
    "                    if mol_features[splitter][isozyme][i] == mol_features[splitter][isozyme][i]:\n",
    "                        single_feature_list.append(mol_features[splitter][isozyme][i][feature])\n",
    "                    else:\n",
    "                        single_feature_list.append(np.nan)\n",
    "                mol_fts_df[feature] = single_feature_list\n",
    "\n",
    "            mol_fts_df.to_csv(abs_file_path(rel_paths[f\"{isozyme}_jazzy_{split}_{splitter}\"]), index=False)\n",
    "            print(f'{rel_paths[f\"{isozyme}_jazzy_{split}_{splitter}\"]} was created successfully')"
   ]
  },
  {
   "cell_type": "code",
   "execution_count": null,
   "id": "2603d97b-6121-474c-8456-f28fcc48b4fc",
   "metadata": {},
   "outputs": [],
   "source": []
  }
 ],
 "metadata": {
  "kernelspec": {
   "display_name": "Python 3 (ipykernel)",
   "language": "python",
   "name": "python3"
  },
  "language_info": {
   "codemirror_mode": {
    "name": "ipython",
    "version": 3
   },
   "file_extension": ".py",
   "mimetype": "text/x-python",
   "name": "python",
   "nbconvert_exporter": "python",
   "pygments_lexer": "ipython3",
   "version": "3.7.16"
  }
 },
 "nbformat": 4,
 "nbformat_minor": 5
}
